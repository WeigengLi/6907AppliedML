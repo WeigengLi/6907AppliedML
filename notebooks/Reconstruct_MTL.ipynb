{
 "cells": [
  {
   "cell_type": "code",
   "execution_count": 1,
   "metadata": {},
   "outputs": [
    {
     "name": "stdout",
     "output_type": "stream",
     "text": [
      "loading data...\n",
      "[[  1.  408.1 315.1]\n",
      " [  1.  640.7 519.1]\n",
      " [  1.  404.2 118.8]\n",
      " ...\n",
      " [177.  115.5 306.1]\n",
      " [177.  732.  310.3]\n",
      " [177.  632.2 353.6]]\n"
     ]
    }
   ],
   "source": [
    "from dataset.EEGEyeNet import EEGEyeNetDataset\n",
    "import torch\n",
    "\n",
    "'''\n",
    "models: EEGViT_pretrained; EEGViT_raw; ViTBase; ViTBase_pretrained\n",
    "'''\n",
    "EEGEyeNet = EEGEyeNetDataset('./dataset/Position_task_with_dots_synchronised_min.npz')\n"
   ]
  },
  {
   "cell_type": "code",
   "execution_count": 2,
   "metadata": {},
   "outputs": [
    {
     "name": "stderr",
     "output_type": "stream",
     "text": [
      "Some weights of DeiTForMaskedImageModeling were not initialized from the model checkpoint at facebook/deit-base-distilled-patch16-224 and are newly initialized: ['decoder.0.weight', 'decoder.0.bias', 'deit.embeddings.mask_token']\n",
      "You should probably TRAIN this model on a down-stream task to be able to use it for predictions and inference.\n",
      "Some weights of DeiTForMaskedImageModeling were not initialized from the model checkpoint at facebook/deit-base-distilled-patch16-224 and are newly initialized because the shapes did not match:\n",
      "- deit.embeddings.position_embeddings: found shape torch.Size([1, 198, 768]) in the checkpoint and torch.Size([1, 258, 768]) in the model instantiated\n",
      "- deit.embeddings.patch_embeddings.projection.weight: found shape torch.Size([768, 3, 16, 16]) in the checkpoint and torch.Size([768, 256, 8, 1]) in the model instantiated\n",
      "You should probably TRAIN this model on a down-stream task to be able to use it for predictions and inference.\n"
     ]
    },
    {
     "name": "stdout",
     "output_type": "stream",
     "text": [
      "create dataloader...\n",
      "HI\n",
      "training...\n"
     ]
    },
    {
     "name": "stderr",
     "output_type": "stream",
     "text": [
      "1it [00:01,  1.15s/it]"
     ]
    },
    {
     "name": "stdout",
     "output_type": "stream",
     "text": [
      "Epoch 0, Batch 0, position loss: 169397.75 reconstruction loss: 79.9994888305664 RMSE(mm): 205.7897895912234\n"
     ]
    },
    {
     "name": "stderr",
     "output_type": "stream",
     "text": [
      "101it [00:36,  2.83it/s]"
     ]
    },
    {
     "name": "stdout",
     "output_type": "stream",
     "text": [
      "Epoch 0, Batch 100, position loss: 26316.498046875 reconstruction loss: 53.38938903808594 RMSE(mm): 81.1118025426556\n"
     ]
    },
    {
     "name": "stderr",
     "output_type": "stream",
     "text": [
      "201it [01:11,  2.82it/s]"
     ]
    },
    {
     "name": "stdout",
     "output_type": "stream",
     "text": [
      "Epoch 0, Batch 200, position loss: 31589.6484375 reconstruction loss: 115.01795196533203 RMSE(mm): 88.86738495857183\n"
     ]
    },
    {
     "name": "stderr",
     "output_type": "stream",
     "text": [
      "236it [01:24,  2.80it/s]\n"
     ]
    },
    {
     "name": "stdout",
     "output_type": "stream",
     "text": [
      "Epoch 0, Val Loss: 23475.49246651786, RMSE(mm): 76.6085707778801\n",
      "Epoch 0, test Loss: 23848.095065369896, RMSE(mm): 77.21414226903303\n"
     ]
    },
    {
     "name": "stderr",
     "output_type": "stream",
     "text": [
      "1it [00:00,  2.80it/s]"
     ]
    },
    {
     "name": "stdout",
     "output_type": "stream",
     "text": [
      "Epoch 1, Batch 0, position loss: 21031.15625 reconstruction loss: 79.95086669921875 RMSE(mm): 72.51061344727405\n"
     ]
    },
    {
     "name": "stderr",
     "output_type": "stream",
     "text": [
      "101it [00:35,  2.97it/s]"
     ]
    },
    {
     "name": "stdout",
     "output_type": "stream",
     "text": [
      "Epoch 1, Batch 100, position loss: 18484.17578125 reconstruction loss: 53.38528060913086 RMSE(mm): 67.97826082883041\n"
     ]
    },
    {
     "name": "stderr",
     "output_type": "stream",
     "text": [
      "201it [01:08,  3.01it/s]"
     ]
    },
    {
     "name": "stdout",
     "output_type": "stream",
     "text": [
      "Epoch 1, Batch 200, position loss: 29255.5234375 reconstruction loss: 115.0184097290039 RMSE(mm): 85.52123045989808\n"
     ]
    },
    {
     "name": "stderr",
     "output_type": "stream",
     "text": [
      "236it [01:19,  2.95it/s]\n"
     ]
    },
    {
     "name": "stdout",
     "output_type": "stream",
     "text": [
      "Epoch 1, Val Loss: 18692.51106106505, RMSE(mm): 68.36027914853963\n",
      "Epoch 1, test Loss: 17975.77533083546, RMSE(mm): 67.03688412142128\n"
     ]
    },
    {
     "name": "stderr",
     "output_type": "stream",
     "text": [
      "1it [00:00,  2.98it/s]"
     ]
    },
    {
     "name": "stdout",
     "output_type": "stream",
     "text": [
      "Epoch 2, Batch 0, position loss: 16560.37890625 reconstruction loss: 79.94389343261719 RMSE(mm): 64.34356787249601\n"
     ]
    },
    {
     "name": "stderr",
     "output_type": "stream",
     "text": [
      "101it [00:33,  3.00it/s]"
     ]
    },
    {
     "name": "stdout",
     "output_type": "stream",
     "text": [
      "Epoch 2, Batch 100, position loss: 16389.521484375 reconstruction loss: 53.38713836669922 RMSE(mm): 64.01078324074585\n"
     ]
    },
    {
     "name": "stderr",
     "output_type": "stream",
     "text": [
      "201it [01:07,  3.00it/s]"
     ]
    },
    {
     "name": "stdout",
     "output_type": "stream",
     "text": [
      "Epoch 2, Batch 200, position loss: 27690.796875 reconstruction loss: 115.01949310302734 RMSE(mm): 83.2027596822966\n"
     ]
    },
    {
     "name": "stderr",
     "output_type": "stream",
     "text": [
      "236it [01:18,  3.00it/s]\n"
     ]
    },
    {
     "name": "stdout",
     "output_type": "stream",
     "text": [
      "Epoch 2, Val Loss: 18146.653559470662, RMSE(mm): 67.35475773742836\n",
      "Epoch 2, test Loss: 16710.348254145407, RMSE(mm): 64.63425611497631\n"
     ]
    },
    {
     "name": "stderr",
     "output_type": "stream",
     "text": [
      "1it [00:00,  2.99it/s]"
     ]
    },
    {
     "name": "stdout",
     "output_type": "stream",
     "text": [
      "Epoch 3, Batch 0, position loss: 15849.9365234375 reconstruction loss: 79.94495391845703 RMSE(mm): 62.94826551112727\n"
     ]
    },
    {
     "name": "stderr",
     "output_type": "stream",
     "text": [
      "101it [00:33,  2.99it/s]"
     ]
    },
    {
     "name": "stdout",
     "output_type": "stream",
     "text": [
      "Epoch 3, Batch 100, position loss: 15624.962890625 reconstruction loss: 53.38604736328125 RMSE(mm): 62.49992578120593\n"
     ]
    },
    {
     "name": "stderr",
     "output_type": "stream",
     "text": [
      "201it [01:07,  3.00it/s]"
     ]
    },
    {
     "name": "stdout",
     "output_type": "stream",
     "text": [
      "Epoch 3, Batch 200, position loss: 25447.39453125 reconstruction loss: 115.01863861083984 RMSE(mm): 79.7611975387312\n"
     ]
    },
    {
     "name": "stderr",
     "output_type": "stream",
     "text": [
      "236it [01:18,  3.00it/s]\n"
     ]
    },
    {
     "name": "stdout",
     "output_type": "stream",
     "text": [
      "Epoch 3, Val Loss: 18076.119519292093, RMSE(mm): 67.22373003503319\n",
      "Epoch 3, test Loss: 16128.644710618622, RMSE(mm): 63.49930060760241\n"
     ]
    },
    {
     "name": "stderr",
     "output_type": "stream",
     "text": [
      "1it [00:00,  2.99it/s]"
     ]
    },
    {
     "name": "stdout",
     "output_type": "stream",
     "text": [
      "Epoch 4, Batch 0, position loss: 16294.55859375 reconstruction loss: 79.94699096679688 RMSE(mm): 63.82507068885627\n"
     ]
    },
    {
     "name": "stderr",
     "output_type": "stream",
     "text": [
      "101it [00:34,  3.00it/s]"
     ]
    },
    {
     "name": "stdout",
     "output_type": "stream",
     "text": [
      "Epoch 4, Batch 100, position loss: 15007.58984375 reconstruction loss: 53.38734436035156 RMSE(mm): 61.252734313967565\n"
     ]
    },
    {
     "name": "stderr",
     "output_type": "stream",
     "text": [
      "201it [01:07,  2.98it/s]"
     ]
    },
    {
     "name": "stdout",
     "output_type": "stream",
     "text": [
      "Epoch 4, Batch 200, position loss: 23156.015625 reconstruction loss: 115.02002716064453 RMSE(mm): 76.0855039166463\n"
     ]
    },
    {
     "name": "stderr",
     "output_type": "stream",
     "text": [
      "236it [01:19,  2.98it/s]\n"
     ]
    },
    {
     "name": "stdout",
     "output_type": "stream",
     "text": [
      "Epoch 4, Val Loss: 18049.87773038903, RMSE(mm): 67.17491669214974\n",
      "Epoch 4, test Loss: 15616.974310427297, RMSE(mm): 62.48394655915089\n"
     ]
    },
    {
     "name": "stderr",
     "output_type": "stream",
     "text": [
      "1it [00:00,  2.99it/s]"
     ]
    },
    {
     "name": "stdout",
     "output_type": "stream",
     "text": [
      "Epoch 5, Batch 0, position loss: 15502.998046875 reconstruction loss: 79.9474105834961 RMSE(mm): 62.25551792185774\n"
     ]
    },
    {
     "name": "stderr",
     "output_type": "stream",
     "text": [
      "101it [00:33,  3.01it/s]"
     ]
    },
    {
     "name": "stdout",
     "output_type": "stream",
     "text": [
      "Epoch 5, Batch 100, position loss: 13748.23046875 reconstruction loss: 53.38737869262695 RMSE(mm): 58.62642422310523\n"
     ]
    },
    {
     "name": "stderr",
     "output_type": "stream",
     "text": [
      "201it [01:06,  3.08it/s]"
     ]
    },
    {
     "name": "stdout",
     "output_type": "stream",
     "text": [
      "Epoch 5, Batch 200, position loss: 21693.01953125 reconstruction loss: 115.02103424072266 RMSE(mm): 73.64275173302869\n"
     ]
    },
    {
     "name": "stderr",
     "output_type": "stream",
     "text": [
      "236it [01:17,  3.03it/s]\n"
     ]
    },
    {
     "name": "stdout",
     "output_type": "stream",
     "text": [
      "Epoch 5, Val Loss: 18106.61138791454, RMSE(mm): 67.28040462852937\n",
      "Epoch 5, test Loss: 15276.320731026786, RMSE(mm): 61.79870696670519\n"
     ]
    },
    {
     "name": "stderr",
     "output_type": "stream",
     "text": [
      "1it [00:00,  3.07it/s]"
     ]
    },
    {
     "name": "stdout",
     "output_type": "stream",
     "text": [
      "Epoch 6, Batch 0, position loss: 15086.44921875 reconstruction loss: 79.94677734375 RMSE(mm): 61.413453775923564\n"
     ]
    },
    {
     "name": "stderr",
     "output_type": "stream",
     "text": [
      "101it [00:32,  3.09it/s]"
     ]
    },
    {
     "name": "stdout",
     "output_type": "stream",
     "text": [
      "Epoch 6, Batch 100, position loss: 11939.5234375 reconstruction loss: 53.384307861328125 RMSE(mm): 54.63406317834141\n"
     ]
    },
    {
     "name": "stderr",
     "output_type": "stream",
     "text": [
      "201it [01:05,  3.09it/s]"
     ]
    },
    {
     "name": "stdout",
     "output_type": "stream",
     "text": [
      "Epoch 6, Batch 200, position loss: 17289.453125 reconstruction loss: 115.00994110107422 RMSE(mm): 65.74468253212575\n"
     ]
    },
    {
     "name": "stderr",
     "output_type": "stream",
     "text": [
      "236it [01:16,  3.09it/s]\n"
     ]
    },
    {
     "name": "stdout",
     "output_type": "stream",
     "text": [
      "Epoch 6, Val Loss: 16366.643275669643, RMSE(mm): 63.9660911649087\n",
      "Epoch 6, test Loss: 14213.79733338648, RMSE(mm): 59.610815573573724\n"
     ]
    },
    {
     "name": "stderr",
     "output_type": "stream",
     "text": [
      "1it [00:00,  3.09it/s]"
     ]
    },
    {
     "name": "stdout",
     "output_type": "stream",
     "text": [
      "Epoch 7, Batch 0, position loss: 11788.1513671875 reconstruction loss: 79.94648742675781 RMSE(mm): 54.2866267306864\n"
     ]
    },
    {
     "name": "stderr",
     "output_type": "stream",
     "text": [
      "101it [00:32,  3.09it/s]"
     ]
    },
    {
     "name": "stdout",
     "output_type": "stream",
     "text": [
      "Epoch 7, Batch 100, position loss: 11611.52734375 reconstruction loss: 53.38462829589844 RMSE(mm): 53.87839860219957\n"
     ]
    },
    {
     "name": "stderr",
     "output_type": "stream",
     "text": [
      "201it [01:05,  3.07it/s]"
     ]
    },
    {
     "name": "stdout",
     "output_type": "stream",
     "text": [
      "Epoch 7, Batch 200, position loss: 16533.19921875 reconstruction loss: 115.01058959960938 RMSE(mm): 64.29074431586167\n"
     ]
    },
    {
     "name": "stderr",
     "output_type": "stream",
     "text": [
      "236it [01:16,  3.09it/s]\n"
     ]
    },
    {
     "name": "stdout",
     "output_type": "stream",
     "text": [
      "Epoch 7, Val Loss: 16438.99760841837, RMSE(mm): 64.10732721073772\n",
      "Epoch 7, test Loss: 14154.057896205357, RMSE(mm): 59.48541396049404\n"
     ]
    },
    {
     "name": "stderr",
     "output_type": "stream",
     "text": [
      "1it [00:00,  3.10it/s]"
     ]
    },
    {
     "name": "stdout",
     "output_type": "stream",
     "text": [
      "Epoch 8, Batch 0, position loss: 11760.8544921875 reconstruction loss: 79.94772338867188 RMSE(mm): 54.223736712318846\n"
     ]
    },
    {
     "name": "stderr",
     "output_type": "stream",
     "text": [
      "101it [00:32,  3.08it/s]"
     ]
    },
    {
     "name": "stdout",
     "output_type": "stream",
     "text": [
      "Epoch 8, Batch 100, position loss: 10860.802734375 reconstruction loss: 53.38448715209961 RMSE(mm): 52.107587581788415\n"
     ]
    },
    {
     "name": "stderr",
     "output_type": "stream",
     "text": [
      "201it [01:05,  3.07it/s]"
     ]
    },
    {
     "name": "stdout",
     "output_type": "stream",
     "text": [
      "Epoch 8, Batch 200, position loss: 15957.7900390625 reconstruction loss: 115.01113891601562 RMSE(mm): 63.16207334916758\n"
     ]
    },
    {
     "name": "stderr",
     "output_type": "stream",
     "text": [
      "236it [01:16,  3.08it/s]\n"
     ]
    },
    {
     "name": "stdout",
     "output_type": "stream",
     "text": [
      "Epoch 8, Val Loss: 16486.346121651786, RMSE(mm): 64.1995835688437\n",
      "Epoch 8, test Loss: 14154.104532047193, RMSE(mm): 59.48551195889465\n"
     ]
    },
    {
     "name": "stderr",
     "output_type": "stream",
     "text": [
      "1it [00:00,  3.07it/s]"
     ]
    },
    {
     "name": "stdout",
     "output_type": "stream",
     "text": [
      "Epoch 9, Batch 0, position loss: 11240.189453125 reconstruction loss: 79.9483642578125 RMSE(mm): 53.009879864806805\n"
     ]
    },
    {
     "name": "stderr",
     "output_type": "stream",
     "text": [
      "101it [00:32,  3.08it/s]"
     ]
    },
    {
     "name": "stdout",
     "output_type": "stream",
     "text": [
      "Epoch 9, Batch 100, position loss: 10367.0947265625 reconstruction loss: 53.38407897949219 RMSE(mm): 50.90946554070888\n"
     ]
    },
    {
     "name": "stderr",
     "output_type": "stream",
     "text": [
      "201it [01:05,  3.08it/s]"
     ]
    },
    {
     "name": "stdout",
     "output_type": "stream",
     "text": [
      "Epoch 9, Batch 200, position loss: 15365.666015625 reconstruction loss: 115.01132202148438 RMSE(mm): 61.97916185224071\n"
     ]
    },
    {
     "name": "stderr",
     "output_type": "stream",
     "text": [
      "236it [01:16,  3.09it/s]\n"
     ]
    },
    {
     "name": "stdout",
     "output_type": "stream",
     "text": [
      "Epoch 9, Val Loss: 16577.32025271046, RMSE(mm): 64.37647134767185\n",
      "Epoch 9, test Loss: 14254.335000797193, RMSE(mm): 59.69575990134725\n"
     ]
    },
    {
     "name": "stderr",
     "output_type": "stream",
     "text": [
      "1it [00:00,  3.07it/s]"
     ]
    },
    {
     "name": "stdout",
     "output_type": "stream",
     "text": [
      "Epoch 10, Batch 0, position loss: 10338.876953125 reconstruction loss: 79.94871520996094 RMSE(mm): 50.84013412926101\n"
     ]
    },
    {
     "name": "stderr",
     "output_type": "stream",
     "text": [
      "101it [00:32,  3.08it/s]"
     ]
    },
    {
     "name": "stdout",
     "output_type": "stream",
     "text": [
      "Epoch 10, Batch 100, position loss: 9926.755859375 reconstruction loss: 53.38365936279297 RMSE(mm): 49.81655312086285\n"
     ]
    },
    {
     "name": "stderr",
     "output_type": "stream",
     "text": [
      "201it [01:05,  3.09it/s]"
     ]
    },
    {
     "name": "stdout",
     "output_type": "stream",
     "text": [
      "Epoch 10, Batch 200, position loss: 14169.2265625 reconstruction loss: 115.01181030273438 RMSE(mm): 59.51728018504374\n"
     ]
    },
    {
     "name": "stderr",
     "output_type": "stream",
     "text": [
      "236it [01:16,  3.08it/s]\n"
     ]
    },
    {
     "name": "stdout",
     "output_type": "stream",
     "text": [
      "Epoch 10, Val Loss: 16685.411531409438, RMSE(mm): 64.58601151063874\n",
      "Epoch 10, test Loss: 14369.493941326531, RMSE(mm): 59.936412015832516\n"
     ]
    },
    {
     "name": "stderr",
     "output_type": "stream",
     "text": [
      "1it [00:00,  3.08it/s]"
     ]
    },
    {
     "name": "stdout",
     "output_type": "stream",
     "text": [
      "Epoch 11, Batch 0, position loss: 9784.92578125 reconstruction loss: 79.94905090332031 RMSE(mm): 49.45939188174982\n"
     ]
    },
    {
     "name": "stderr",
     "output_type": "stream",
     "text": [
      "101it [00:32,  3.09it/s]"
     ]
    },
    {
     "name": "stdout",
     "output_type": "stream",
     "text": [
      "Epoch 11, Batch 100, position loss: 9619.8837890625 reconstruction loss: 53.38311004638672 RMSE(mm): 49.040503130225176\n"
     ]
    },
    {
     "name": "stderr",
     "output_type": "stream",
     "text": [
      "201it [01:05,  3.08it/s]"
     ]
    },
    {
     "name": "stdout",
     "output_type": "stream",
     "text": [
      "Epoch 11, Batch 200, position loss: 12830.8779296875 reconstruction loss: 115.01249694824219 RMSE(mm): 56.6367326248776\n"
     ]
    },
    {
     "name": "stderr",
     "output_type": "stream",
     "text": [
      "236it [01:16,  3.09it/s]\n"
     ]
    },
    {
     "name": "stdout",
     "output_type": "stream",
     "text": [
      "Epoch 11, Val Loss: 16897.626793686224, RMSE(mm): 64.99543598147147\n",
      "Epoch 11, test Loss: 14683.547293526786, RMSE(mm): 60.587843858167595\n"
     ]
    },
    {
     "name": "stderr",
     "output_type": "stream",
     "text": [
      "1it [00:00,  3.07it/s]"
     ]
    },
    {
     "name": "stdout",
     "output_type": "stream",
     "text": [
      "Epoch 12, Batch 0, position loss: 9521.30859375 reconstruction loss: 79.94969177246094 RMSE(mm): 48.7885964999763\n"
     ]
    },
    {
     "name": "stderr",
     "output_type": "stream",
     "text": [
      "101it [00:32,  3.05it/s]"
     ]
    },
    {
     "name": "stdout",
     "output_type": "stream",
     "text": [
      "Epoch 12, Batch 100, position loss: 11001.150390625 reconstruction loss: 53.38471603393555 RMSE(mm): 52.443184472877405\n"
     ]
    },
    {
     "name": "stderr",
     "output_type": "stream",
     "text": [
      "201it [01:05,  3.09it/s]"
     ]
    },
    {
     "name": "stdout",
     "output_type": "stream",
     "text": [
      "Epoch 12, Batch 200, position loss: 10897.78125 reconstruction loss: 115.01346588134766 RMSE(mm): 52.19621933148032\n"
     ]
    },
    {
     "name": "stderr",
     "output_type": "stream",
     "text": [
      "236it [01:16,  3.09it/s]\n"
     ]
    },
    {
     "name": "stdout",
     "output_type": "stream",
     "text": [
      "Epoch 12, Val Loss: 17010.518195950255, RMSE(mm): 65.21218865356049\n",
      "Epoch 12, test Loss: 14735.123365752552, RMSE(mm): 60.69415821508803\n"
     ]
    },
    {
     "name": "stderr",
     "output_type": "stream",
     "text": [
      "1it [00:00,  3.06it/s]"
     ]
    },
    {
     "name": "stdout",
     "output_type": "stream",
     "text": [
      "Epoch 13, Batch 0, position loss: 9189.15234375 reconstruction loss: 79.9483871459961 RMSE(mm): 47.93003323530561\n"
     ]
    },
    {
     "name": "stderr",
     "output_type": "stream",
     "text": [
      "101it [00:32,  3.07it/s]"
     ]
    },
    {
     "name": "stdout",
     "output_type": "stream",
     "text": [
      "Epoch 13, Batch 100, position loss: 10782.6708984375 reconstruction loss: 53.38447570800781 RMSE(mm): 51.91982015193596\n"
     ]
    },
    {
     "name": "stderr",
     "output_type": "stream",
     "text": [
      "201it [01:05,  3.09it/s]"
     ]
    },
    {
     "name": "stdout",
     "output_type": "stream",
     "text": [
      "Epoch 13, Batch 200, position loss: 11087.859375 reconstruction loss: 115.01336669921875 RMSE(mm): 52.6494524544178\n"
     ]
    },
    {
     "name": "stderr",
     "output_type": "stream",
     "text": [
      "236it [01:16,  3.09it/s]\n"
     ]
    },
    {
     "name": "stdout",
     "output_type": "stream",
     "text": [
      "Epoch 13, Val Loss: 17036.23931760204, RMSE(mm): 65.26147277989143\n",
      "Epoch 13, test Loss: 14741.15248325893, RMSE(mm): 60.70657395055936\n"
     ]
    },
    {
     "name": "stderr",
     "output_type": "stream",
     "text": [
      "1it [00:00,  3.06it/s]"
     ]
    },
    {
     "name": "stdout",
     "output_type": "stream",
     "text": [
      "Epoch 14, Batch 0, position loss: 9222.1455078125 reconstruction loss: 79.94823455810547 RMSE(mm): 48.016001259508535\n"
     ]
    },
    {
     "name": "stderr",
     "output_type": "stream",
     "text": [
      "101it [00:32,  3.09it/s]"
     ]
    },
    {
     "name": "stdout",
     "output_type": "stream",
     "text": [
      "Epoch 14, Batch 100, position loss: 10777.453125 reconstruction loss: 53.38438034057617 RMSE(mm): 51.907256537501574\n"
     ]
    },
    {
     "name": "stderr",
     "output_type": "stream",
     "text": [
      "201it [01:05,  3.09it/s]"
     ]
    },
    {
     "name": "stdout",
     "output_type": "stream",
     "text": [
      "Epoch 14, Batch 200, position loss: 10789.1826171875 reconstruction loss: 115.01334381103516 RMSE(mm): 51.93549512902399\n"
     ]
    },
    {
     "name": "stderr",
     "output_type": "stream",
     "text": [
      "236it [01:16,  3.09it/s]\n"
     ]
    },
    {
     "name": "stdout",
     "output_type": "stream",
     "text": [
      "Epoch 14, Val Loss: 17084.562798947703, RMSE(mm): 65.35396468261834\n",
      "Epoch 14, test Loss: 14775.572544642857, RMSE(mm): 60.77740646128884\n"
     ]
    },
    {
     "name": "stderr",
     "output_type": "stream",
     "text": [
      "Some weights of DeiTForMaskedImageModeling were not initialized from the model checkpoint at facebook/deit-base-distilled-patch16-224 and are newly initialized: ['decoder.0.weight', 'decoder.0.bias', 'deit.embeddings.mask_token']\n",
      "You should probably TRAIN this model on a down-stream task to be able to use it for predictions and inference.\n",
      "Some weights of DeiTForMaskedImageModeling were not initialized from the model checkpoint at facebook/deit-base-distilled-patch16-224 and are newly initialized because the shapes did not match:\n",
      "- deit.embeddings.position_embeddings: found shape torch.Size([1, 198, 768]) in the checkpoint and torch.Size([1, 258, 768]) in the model instantiated\n",
      "- deit.embeddings.patch_embeddings.projection.weight: found shape torch.Size([768, 3, 16, 16]) in the checkpoint and torch.Size([768, 256, 8, 1]) in the model instantiated\n",
      "You should probably TRAIN this model on a down-stream task to be able to use it for predictions and inference.\n"
     ]
    },
    {
     "name": "stdout",
     "output_type": "stream",
     "text": [
      "create dataloader...\n",
      "HI\n",
      "training...\n"
     ]
    },
    {
     "name": "stderr",
     "output_type": "stream",
     "text": [
      "1it [00:00,  2.12it/s]"
     ]
    },
    {
     "name": "stdout",
     "output_type": "stream",
     "text": [
      "Epoch 0, Batch 0, position loss: 169326.375 reconstruction loss: 79.9261245727539 RMSE(mm): 205.74643071023127\n"
     ]
    },
    {
     "name": "stderr",
     "output_type": "stream",
     "text": [
      "101it [00:33,  3.05it/s]"
     ]
    },
    {
     "name": "stdout",
     "output_type": "stream",
     "text": [
      "Epoch 0, Batch 100, position loss: 26823.630859375 reconstruction loss: 37.270225524902344 RMSE(mm): 81.88960687928444\n"
     ]
    },
    {
     "name": "stderr",
     "output_type": "stream",
     "text": [
      "201it [01:05,  3.06it/s]"
     ]
    },
    {
     "name": "stdout",
     "output_type": "stream",
     "text": [
      "Epoch 0, Batch 200, position loss: 33066.4609375 reconstruction loss: 87.940185546875 RMSE(mm): 90.92092847290441\n"
     ]
    },
    {
     "name": "stderr",
     "output_type": "stream",
     "text": [
      "236it [01:17,  3.06it/s]\n"
     ]
    },
    {
     "name": "stdout",
     "output_type": "stream",
     "text": [
      "Epoch 0, Val Loss: 24852.500876913266, RMSE(mm): 77.17430308619524\n",
      "Epoch 0, test Loss: 25968.381337691328, RMSE(mm): 77.02270399566333\n"
     ]
    },
    {
     "name": "stderr",
     "output_type": "stream",
     "text": [
      "1it [00:00,  3.06it/s]"
     ]
    },
    {
     "name": "stdout",
     "output_type": "stream",
     "text": [
      "Epoch 1, Batch 0, position loss: 22755.93359375 reconstruction loss: 54.1446533203125 RMSE(mm): 75.42534983967592\n"
     ]
    },
    {
     "name": "stderr",
     "output_type": "stream",
     "text": [
      "101it [00:33,  3.06it/s]"
     ]
    },
    {
     "name": "stdout",
     "output_type": "stream",
     "text": [
      "Epoch 1, Batch 100, position loss: 16805.13671875 reconstruction loss: 30.282257080078125 RMSE(mm): 64.81731388824672\n"
     ]
    },
    {
     "name": "stderr",
     "output_type": "stream",
     "text": [
      "201it [01:05,  3.06it/s]"
     ]
    },
    {
     "name": "stdout",
     "output_type": "stream",
     "text": [
      "Epoch 1, Batch 200, position loss: 30916.98046875 reconstruction loss: 78.0567626953125 RMSE(mm): 87.91612546733107\n"
     ]
    },
    {
     "name": "stderr",
     "output_type": "stream",
     "text": [
      "236it [01:16,  3.07it/s]\n"
     ]
    },
    {
     "name": "stdout",
     "output_type": "stream",
     "text": [
      "Epoch 1, Val Loss: 19921.05514588648, RMSE(mm): 68.87897098891207\n",
      "Epoch 1, test Loss: 19570.060068558672, RMSE(mm): 66.1133984550592\n"
     ]
    },
    {
     "name": "stderr",
     "output_type": "stream",
     "text": [
      "1it [00:00,  3.03it/s]"
     ]
    },
    {
     "name": "stdout",
     "output_type": "stream",
     "text": [
      "Epoch 2, Batch 0, position loss: 16012.474609375 reconstruction loss: 47.597782135009766 RMSE(mm): 63.270203511161164\n"
     ]
    },
    {
     "name": "stderr",
     "output_type": "stream",
     "text": [
      "101it [00:32,  3.06it/s]"
     ]
    },
    {
     "name": "stdout",
     "output_type": "stream",
     "text": [
      "Epoch 2, Batch 100, position loss: 13850.435546875 reconstruction loss: 25.945449829101562 RMSE(mm): 58.84393670310264\n"
     ]
    },
    {
     "name": "stderr",
     "output_type": "stream",
     "text": [
      "201it [01:05,  3.07it/s]"
     ]
    },
    {
     "name": "stdout",
     "output_type": "stream",
     "text": [
      "Epoch 2, Batch 200, position loss: 27107.724609375 reconstruction loss: 68.25074005126953 RMSE(mm): 82.32211824499993\n"
     ]
    },
    {
     "name": "stderr",
     "output_type": "stream",
     "text": [
      "236it [01:16,  3.07it/s]\n"
     ]
    },
    {
     "name": "stdout",
     "output_type": "stream",
     "text": [
      "Epoch 2, Val Loss: 20277.385861766583, RMSE(mm): 69.62540253165159\n",
      "Epoch 2, test Loss: 18992.55104033801, RMSE(mm): 65.23606678577376\n"
     ]
    },
    {
     "name": "stderr",
     "output_type": "stream",
     "text": [
      "1it [00:00,  3.05it/s]"
     ]
    },
    {
     "name": "stdout",
     "output_type": "stream",
     "text": [
      "Epoch 3, Batch 0, position loss: 15928.70703125 reconstruction loss: 44.216670989990234 RMSE(mm): 63.10449078958248\n"
     ]
    },
    {
     "name": "stderr",
     "output_type": "stream",
     "text": [
      "101it [00:32,  3.07it/s]"
     ]
    },
    {
     "name": "stdout",
     "output_type": "stream",
     "text": [
      "Epoch 3, Batch 100, position loss: 12399.7587890625 reconstruction loss: 24.225244522094727 RMSE(mm): 55.67710209112562\n"
     ]
    },
    {
     "name": "stderr",
     "output_type": "stream",
     "text": [
      "201it [01:05,  3.05it/s]"
     ]
    },
    {
     "name": "stdout",
     "output_type": "stream",
     "text": [
      "Epoch 3, Batch 200, position loss: 24637.81640625 reconstruction loss: 63.386478424072266 RMSE(mm): 78.48218970927417\n"
     ]
    },
    {
     "name": "stderr",
     "output_type": "stream",
     "text": [
      "236it [01:16,  3.07it/s]\n"
     ]
    },
    {
     "name": "stdout",
     "output_type": "stream",
     "text": [
      "Epoch 3, Val Loss: 19221.86738679847, RMSE(mm): 67.76030651370546\n",
      "Epoch 3, test Loss: 17797.973672672193, RMSE(mm): 63.05279221245977\n"
     ]
    },
    {
     "name": "stderr",
     "output_type": "stream",
     "text": [
      "1it [00:00,  3.06it/s]"
     ]
    },
    {
     "name": "stdout",
     "output_type": "stream",
     "text": [
      "Epoch 4, Batch 0, position loss: 14382.6513671875 reconstruction loss: 41.686885833740234 RMSE(mm): 59.96384612245011\n"
     ]
    },
    {
     "name": "stderr",
     "output_type": "stream",
     "text": [
      "101it [00:32,  3.07it/s]"
     ]
    },
    {
     "name": "stdout",
     "output_type": "stream",
     "text": [
      "Epoch 4, Batch 100, position loss: 12116.99609375 reconstruction loss: 23.843366622924805 RMSE(mm): 55.038613930925806\n"
     ]
    },
    {
     "name": "stderr",
     "output_type": "stream",
     "text": [
      "201it [01:05,  3.06it/s]"
     ]
    },
    {
     "name": "stdout",
     "output_type": "stream",
     "text": [
      "Epoch 4, Batch 200, position loss: 20650.36328125 reconstruction loss: 60.1972770690918 RMSE(mm): 71.851171321785\n"
     ]
    },
    {
     "name": "stderr",
     "output_type": "stream",
     "text": [
      "236it [01:16,  3.07it/s]\n"
     ]
    },
    {
     "name": "stdout",
     "output_type": "stream",
     "text": [
      "Epoch 4, Val Loss: 18561.45384247449, RMSE(mm): 66.57091177266734\n",
      "Epoch 4, test Loss: 17526.20505819515, RMSE(mm): 62.6125759888117\n"
     ]
    },
    {
     "name": "stderr",
     "output_type": "stream",
     "text": [
      "1it [00:00,  3.06it/s]"
     ]
    },
    {
     "name": "stdout",
     "output_type": "stream",
     "text": [
      "Epoch 5, Batch 0, position loss: 12477.515625 reconstruction loss: 39.92332458496094 RMSE(mm): 55.851400217452024\n"
     ]
    },
    {
     "name": "stderr",
     "output_type": "stream",
     "text": [
      "101it [00:32,  3.07it/s]"
     ]
    },
    {
     "name": "stdout",
     "output_type": "stream",
     "text": [
      "Epoch 5, Batch 100, position loss: 11489.6328125 reconstruction loss: 23.926334381103516 RMSE(mm): 53.594852393909996\n"
     ]
    },
    {
     "name": "stderr",
     "output_type": "stream",
     "text": [
      "201it [01:05,  3.06it/s]"
     ]
    },
    {
     "name": "stdout",
     "output_type": "stream",
     "text": [
      "Epoch 5, Batch 200, position loss: 18145.6484375 reconstruction loss: 59.612510681152344 RMSE(mm): 67.35289236087044\n"
     ]
    },
    {
     "name": "stderr",
     "output_type": "stream",
     "text": [
      "236it [01:16,  3.07it/s]\n"
     ]
    },
    {
     "name": "stdout",
     "output_type": "stream",
     "text": [
      "Epoch 5, Val Loss: 19285.006357621172, RMSE(mm): 67.92678313088207\n",
      "Epoch 5, test Loss: 17638.590680803572, RMSE(mm): 62.90091170309344\n"
     ]
    },
    {
     "name": "stderr",
     "output_type": "stream",
     "text": [
      "1it [00:00,  3.08it/s]"
     ]
    },
    {
     "name": "stdout",
     "output_type": "stream",
     "text": [
      "Epoch 6, Batch 0, position loss: 11875.43359375 reconstruction loss: 38.93033218383789 RMSE(mm): 54.48723151746196\n"
     ]
    },
    {
     "name": "stderr",
     "output_type": "stream",
     "text": [
      "101it [00:32,  3.06it/s]"
     ]
    },
    {
     "name": "stdout",
     "output_type": "stream",
     "text": [
      "Epoch 6, Batch 100, position loss: 11183.3955078125 reconstruction loss: 23.842376708984375 RMSE(mm): 52.87578724665123\n"
     ]
    },
    {
     "name": "stderr",
     "output_type": "stream",
     "text": [
      "201it [01:05,  3.06it/s]"
     ]
    },
    {
     "name": "stdout",
     "output_type": "stream",
     "text": [
      "Epoch 6, Batch 200, position loss: 16852.9375 reconstruction loss: 54.909934997558594 RMSE(mm): 64.90943209580561\n"
     ]
    },
    {
     "name": "stderr",
     "output_type": "stream",
     "text": [
      "236it [01:16,  3.06it/s]\n"
     ]
    },
    {
     "name": "stdout",
     "output_type": "stream",
     "text": [
      "Epoch 6, Val Loss: 17941.010522959183, RMSE(mm): 65.39980806675969\n",
      "Epoch 6, test Loss: 16134.128786670919, RMSE(mm): 59.840321635092025\n"
     ]
    },
    {
     "name": "stderr",
     "output_type": "stream",
     "text": [
      "1it [00:00,  3.07it/s]"
     ]
    },
    {
     "name": "stdout",
     "output_type": "stream",
     "text": [
      "Epoch 7, Batch 0, position loss: 8983.7998046875 reconstruction loss: 38.44047927856445 RMSE(mm): 47.39145441080992\n"
     ]
    },
    {
     "name": "stderr",
     "output_type": "stream",
     "text": [
      "101it [00:32,  3.06it/s]"
     ]
    },
    {
     "name": "stdout",
     "output_type": "stream",
     "text": [
      "Epoch 7, Batch 100, position loss: 10393.6689453125 reconstruction loss: 23.757749557495117 RMSE(mm): 50.97467249848816\n"
     ]
    },
    {
     "name": "stderr",
     "output_type": "stream",
     "text": [
      "201it [01:05,  3.06it/s]"
     ]
    },
    {
     "name": "stdout",
     "output_type": "stream",
     "text": [
      "Epoch 7, Batch 200, position loss: 15527.5615234375 reconstruction loss: 55.4718132019043 RMSE(mm): 62.30481827964331\n"
     ]
    },
    {
     "name": "stderr",
     "output_type": "stream",
     "text": [
      "236it [01:16,  3.07it/s]\n"
     ]
    },
    {
     "name": "stdout",
     "output_type": "stream",
     "text": [
      "Epoch 7, Val Loss: 18347.898058832907, RMSE(mm): 66.16478669146674\n",
      "Epoch 7, test Loss: 16388.494300063776, RMSE(mm): 60.364569558408505\n"
     ]
    },
    {
     "name": "stderr",
     "output_type": "stream",
     "text": [
      "1it [00:00,  3.04it/s]"
     ]
    },
    {
     "name": "stdout",
     "output_type": "stream",
     "text": [
      "Epoch 8, Batch 0, position loss: 7632.46533203125 reconstruction loss: 38.60523223876953 RMSE(mm): 43.68199094601587\n"
     ]
    },
    {
     "name": "stderr",
     "output_type": "stream",
     "text": [
      "101it [00:32,  3.06it/s]"
     ]
    },
    {
     "name": "stdout",
     "output_type": "stream",
     "text": [
      "Epoch 8, Batch 100, position loss: 9066.091796875 reconstruction loss: 23.93915367126465 RMSE(mm): 47.60801349792648\n"
     ]
    },
    {
     "name": "stderr",
     "output_type": "stream",
     "text": [
      "201it [01:05,  3.07it/s]"
     ]
    },
    {
     "name": "stdout",
     "output_type": "stream",
     "text": [
      "Epoch 8, Batch 200, position loss: 12659.6259765625 reconstruction loss: 55.72111892700195 RMSE(mm): 56.25750166991621\n"
     ]
    },
    {
     "name": "stderr",
     "output_type": "stream",
     "text": [
      "236it [01:16,  3.07it/s]\n"
     ]
    },
    {
     "name": "stdout",
     "output_type": "stream",
     "text": [
      "Epoch 8, Val Loss: 18719.61262356505, RMSE(mm): 66.85780839041504\n",
      "Epoch 8, test Loss: 16735.653140943876, RMSE(mm): 61.07821057235014\n"
     ]
    },
    {
     "name": "stderr",
     "output_type": "stream",
     "text": [
      "1it [00:00,  3.06it/s]"
     ]
    },
    {
     "name": "stdout",
     "output_type": "stream",
     "text": [
      "Epoch 9, Batch 0, position loss: 7196.36181640625 reconstruction loss: 38.76094436645508 RMSE(mm): 42.41568641554163\n"
     ]
    },
    {
     "name": "stderr",
     "output_type": "stream",
     "text": [
      "101it [00:33,  3.06it/s]"
     ]
    },
    {
     "name": "stdout",
     "output_type": "stream",
     "text": [
      "Epoch 9, Batch 100, position loss: 7918.7978515625 reconstruction loss: 24.06404685974121 RMSE(mm): 44.49381375978716\n"
     ]
    },
    {
     "name": "stderr",
     "output_type": "stream",
     "text": [
      "201it [01:05,  3.06it/s]"
     ]
    },
    {
     "name": "stdout",
     "output_type": "stream",
     "text": [
      "Epoch 9, Batch 200, position loss: 10403.9375 reconstruction loss: 55.89360427856445 RMSE(mm): 50.99984681349543\n"
     ]
    },
    {
     "name": "stderr",
     "output_type": "stream",
     "text": [
      "236it [01:17,  3.06it/s]\n"
     ]
    },
    {
     "name": "stdout",
     "output_type": "stream",
     "text": [
      "Epoch 9, Val Loss: 19271.274832589286, RMSE(mm): 67.87891248689375\n",
      "Epoch 9, test Loss: 17125.42143654337, RMSE(mm): 61.87230792239364\n"
     ]
    },
    {
     "name": "stderr",
     "output_type": "stream",
     "text": [
      "1it [00:00,  3.05it/s]"
     ]
    },
    {
     "name": "stdout",
     "output_type": "stream",
     "text": [
      "Epoch 10, Batch 0, position loss: 6603.85498046875 reconstruction loss: 38.87028884887695 RMSE(mm): 40.63205317378372\n"
     ]
    },
    {
     "name": "stderr",
     "output_type": "stream",
     "text": [
      "101it [00:32,  3.06it/s]"
     ]
    },
    {
     "name": "stdout",
     "output_type": "stream",
     "text": [
      "Epoch 10, Batch 100, position loss: 7152.2333984375 reconstruction loss: 24.369815826416016 RMSE(mm): 42.28543897855827\n"
     ]
    },
    {
     "name": "stderr",
     "output_type": "stream",
     "text": [
      "201it [01:05,  3.06it/s]"
     ]
    },
    {
     "name": "stdout",
     "output_type": "stream",
     "text": [
      "Epoch 10, Batch 200, position loss: 8637.80859375 reconstruction loss: 55.81050491333008 RMSE(mm): 46.46990583633132\n"
     ]
    },
    {
     "name": "stderr",
     "output_type": "stream",
     "text": [
      "236it [01:16,  3.07it/s]\n"
     ]
    },
    {
     "name": "stdout",
     "output_type": "stream",
     "text": [
      "Epoch 10, Val Loss: 19747.327268016583, RMSE(mm): 68.74709949383588\n",
      "Epoch 10, test Loss: 17510.67020089286, RMSE(mm): 62.64604254224968\n"
     ]
    },
    {
     "name": "stderr",
     "output_type": "stream",
     "text": [
      "1it [00:00,  3.06it/s]"
     ]
    },
    {
     "name": "stdout",
     "output_type": "stream",
     "text": [
      "Epoch 11, Batch 0, position loss: 6279.1572265625 reconstruction loss: 38.980899810791016 RMSE(mm): 39.620566712764536\n"
     ]
    },
    {
     "name": "stderr",
     "output_type": "stream",
     "text": [
      "101it [00:33,  3.06it/s]"
     ]
    },
    {
     "name": "stdout",
     "output_type": "stream",
     "text": [
      "Epoch 11, Batch 100, position loss: 6240.435546875 reconstruction loss: 24.608442306518555 RMSE(mm): 39.498213715543514\n"
     ]
    },
    {
     "name": "stderr",
     "output_type": "stream",
     "text": [
      "201it [01:05,  3.06it/s]"
     ]
    },
    {
     "name": "stdout",
     "output_type": "stream",
     "text": [
      "Epoch 11, Batch 200, position loss: 7302.47265625 reconstruction loss: 55.894805908203125 RMSE(mm): 42.72725317712923\n"
     ]
    },
    {
     "name": "stderr",
     "output_type": "stream",
     "text": [
      "236it [01:16,  3.07it/s]\n"
     ]
    },
    {
     "name": "stdout",
     "output_type": "stream",
     "text": [
      "Epoch 11, Val Loss: 20353.103376116072, RMSE(mm): 69.83594141506995\n",
      "Epoch 11, test Loss: 17957.63307158801, RMSE(mm): 63.53029661484624\n"
     ]
    },
    {
     "name": "stderr",
     "output_type": "stream",
     "text": [
      "1it [00:00,  3.07it/s]"
     ]
    },
    {
     "name": "stdout",
     "output_type": "stream",
     "text": [
      "Epoch 12, Batch 0, position loss: 5393.99609375 reconstruction loss: 39.183502197265625 RMSE(mm): 36.72191475723318\n"
     ]
    },
    {
     "name": "stderr",
     "output_type": "stream",
     "text": [
      "101it [00:33,  3.06it/s]"
     ]
    },
    {
     "name": "stdout",
     "output_type": "stream",
     "text": [
      "Epoch 12, Batch 100, position loss: 8226.890625 reconstruction loss: 25.276140213012695 RMSE(mm): 45.3511042451008\n"
     ]
    },
    {
     "name": "stderr",
     "output_type": "stream",
     "text": [
      "201it [01:05,  3.06it/s]"
     ]
    },
    {
     "name": "stdout",
     "output_type": "stream",
     "text": [
      "Epoch 12, Batch 200, position loss: 6389.24755859375 reconstruction loss: 55.1735954284668 RMSE(mm): 39.96638449557875\n"
     ]
    },
    {
     "name": "stderr",
     "output_type": "stream",
     "text": [
      "236it [01:17,  3.06it/s]\n"
     ]
    },
    {
     "name": "stdout",
     "output_type": "stream",
     "text": [
      "Epoch 12, Val Loss: 20756.27220184949, RMSE(mm): 70.55167978784402\n",
      "Epoch 12, test Loss: 18343.700035873724, RMSE(mm): 64.28446485485978\n"
     ]
    },
    {
     "name": "stderr",
     "output_type": "stream",
     "text": [
      "1it [00:00,  3.05it/s]"
     ]
    },
    {
     "name": "stdout",
     "output_type": "stream",
     "text": [
      "Epoch 13, Batch 0, position loss: 6308.064453125 reconstruction loss: 39.196659088134766 RMSE(mm): 39.71166218230169\n"
     ]
    },
    {
     "name": "stderr",
     "output_type": "stream",
     "text": [
      "101it [00:32,  3.06it/s]"
     ]
    },
    {
     "name": "stdout",
     "output_type": "stream",
     "text": [
      "Epoch 13, Batch 100, position loss: 8042.63623046875 reconstruction loss: 25.31407928466797 RMSE(mm): 44.8403730762489\n"
     ]
    },
    {
     "name": "stderr",
     "output_type": "stream",
     "text": [
      "201it [01:05,  3.06it/s]"
     ]
    },
    {
     "name": "stdout",
     "output_type": "stream",
     "text": [
      "Epoch 13, Batch 200, position loss: 6283.708984375 reconstruction loss: 55.18966293334961 RMSE(mm): 39.63492457535084\n"
     ]
    },
    {
     "name": "stderr",
     "output_type": "stream",
     "text": [
      "236it [01:16,  3.07it/s]\n"
     ]
    },
    {
     "name": "stdout",
     "output_type": "stream",
     "text": [
      "Epoch 13, Val Loss: 20789.884406887755, RMSE(mm): 70.60941836140627\n",
      "Epoch 13, test Loss: 18335.58452248087, RMSE(mm): 64.26745140666243\n"
     ]
    },
    {
     "name": "stderr",
     "output_type": "stream",
     "text": [
      "1it [00:00,  3.06it/s]"
     ]
    },
    {
     "name": "stdout",
     "output_type": "stream",
     "text": [
      "Epoch 14, Batch 0, position loss: 5827.205078125 reconstruction loss: 39.23991012573242 RMSE(mm): 38.16806609629639\n"
     ]
    },
    {
     "name": "stderr",
     "output_type": "stream",
     "text": [
      "101it [00:32,  3.07it/s]"
     ]
    },
    {
     "name": "stdout",
     "output_type": "stream",
     "text": [
      "Epoch 14, Batch 100, position loss: 7599.958984375 reconstruction loss: 25.344572067260742 RMSE(mm): 43.588871814876676\n"
     ]
    },
    {
     "name": "stderr",
     "output_type": "stream",
     "text": [
      "201it [01:05,  3.02it/s]"
     ]
    },
    {
     "name": "stdout",
     "output_type": "stream",
     "text": [
      "Epoch 14, Batch 200, position loss: 6198.171875 reconstruction loss: 55.222286224365234 RMSE(mm): 39.364234639454125\n"
     ]
    },
    {
     "name": "stderr",
     "output_type": "stream",
     "text": [
      "236it [01:17,  3.06it/s]\n"
     ]
    },
    {
     "name": "stdout",
     "output_type": "stream",
     "text": [
      "Epoch 14, Val Loss: 20804.017179528062, RMSE(mm): 70.63326944994671\n",
      "Epoch 14, test Loss: 18365.59711814413, RMSE(mm): 64.32504338555034\n"
     ]
    },
    {
     "name": "stderr",
     "output_type": "stream",
     "text": [
      "Some weights of DeiTForMaskedImageModeling were not initialized from the model checkpoint at facebook/deit-base-distilled-patch16-224 and are newly initialized: ['decoder.0.weight', 'decoder.0.bias', 'deit.embeddings.mask_token']\n",
      "You should probably TRAIN this model on a down-stream task to be able to use it for predictions and inference.\n",
      "Some weights of DeiTForMaskedImageModeling were not initialized from the model checkpoint at facebook/deit-base-distilled-patch16-224 and are newly initialized because the shapes did not match:\n",
      "- deit.embeddings.position_embeddings: found shape torch.Size([1, 198, 768]) in the checkpoint and torch.Size([1, 258, 768]) in the model instantiated\n",
      "- deit.embeddings.patch_embeddings.projection.weight: found shape torch.Size([768, 3, 16, 16]) in the checkpoint and torch.Size([768, 256, 8, 1]) in the model instantiated\n",
      "You should probably TRAIN this model on a down-stream task to be able to use it for predictions and inference.\n"
     ]
    },
    {
     "name": "stdout",
     "output_type": "stream",
     "text": [
      "create dataloader...\n",
      "HI\n",
      "training...\n"
     ]
    },
    {
     "name": "stderr",
     "output_type": "stream",
     "text": [
      "1it [00:00,  2.12it/s]"
     ]
    },
    {
     "name": "stdout",
     "output_type": "stream",
     "text": [
      "Epoch 0, Batch 0, position loss: 168530.546875 reconstruction loss: 79.9801254272461 RMSE(mm): 205.26236069662164\n"
     ]
    },
    {
     "name": "stderr",
     "output_type": "stream",
     "text": [
      "101it [00:33,  3.07it/s]"
     ]
    },
    {
     "name": "stdout",
     "output_type": "stream",
     "text": [
      "Epoch 0, Batch 100, position loss: 25543.64453125 reconstruction loss: 37.44453048706055 RMSE(mm): 79.91189606568287\n"
     ]
    },
    {
     "name": "stderr",
     "output_type": "stream",
     "text": [
      "201it [01:05,  3.06it/s]"
     ]
    },
    {
     "name": "stdout",
     "output_type": "stream",
     "text": [
      "Epoch 0, Batch 200, position loss: 31644.31640625 reconstruction loss: 93.63206481933594 RMSE(mm): 88.94424715271079\n"
     ]
    },
    {
     "name": "stderr",
     "output_type": "stream",
     "text": [
      "236it [01:16,  3.07it/s]\n"
     ]
    },
    {
     "name": "stdout",
     "output_type": "stream",
     "text": [
      "Epoch 0, Val Loss: 24866.505022321428, RMSE(mm): 75.36662695005293\n",
      "Epoch 0, test Loss: 27059.595663265307, RMSE(mm): 74.95554506006819\n"
     ]
    },
    {
     "name": "stderr",
     "output_type": "stream",
     "text": [
      "1it [00:00,  3.06it/s]"
     ]
    },
    {
     "name": "stdout",
     "output_type": "stream",
     "text": [
      "Epoch 1, Batch 0, position loss: 22077.181640625 reconstruction loss: 58.047508239746094 RMSE(mm): 74.2919606024518\n"
     ]
    },
    {
     "name": "stderr",
     "output_type": "stream",
     "text": [
      "101it [00:32,  3.06it/s]"
     ]
    },
    {
     "name": "stdout",
     "output_type": "stream",
     "text": [
      "Epoch 1, Batch 100, position loss: 16654.7109375 reconstruction loss: 30.455684661865234 RMSE(mm): 64.52656611330715\n"
     ]
    },
    {
     "name": "stderr",
     "output_type": "stream",
     "text": [
      "201it [01:05,  3.07it/s]"
     ]
    },
    {
     "name": "stdout",
     "output_type": "stream",
     "text": [
      "Epoch 1, Batch 200, position loss: 27400.056640625 reconstruction loss: 84.41078186035156 RMSE(mm): 82.7648123308224\n"
     ]
    },
    {
     "name": "stderr",
     "output_type": "stream",
     "text": [
      "236it [01:16,  3.07it/s]\n"
     ]
    },
    {
     "name": "stdout",
     "output_type": "stream",
     "text": [
      "Epoch 1, Val Loss: 20303.068997130104, RMSE(mm): 67.75001904734181\n",
      "Epoch 1, test Loss: 21937.167869100766, RMSE(mm): 66.40880963704379\n"
     ]
    },
    {
     "name": "stderr",
     "output_type": "stream",
     "text": [
      "1it [00:00,  3.07it/s]"
     ]
    },
    {
     "name": "stdout",
     "output_type": "stream",
     "text": [
      "Epoch 2, Batch 0, position loss: 16613.3515625 reconstruction loss: 50.17066192626953 RMSE(mm): 64.44639548202056\n"
     ]
    },
    {
     "name": "stderr",
     "output_type": "stream",
     "text": [
      "101it [00:32,  3.06it/s]"
     ]
    },
    {
     "name": "stdout",
     "output_type": "stream",
     "text": [
      "Epoch 2, Batch 100, position loss: 16635.4765625 reconstruction loss: 27.646944046020508 RMSE(mm): 64.48929477537338\n"
     ]
    },
    {
     "name": "stderr",
     "output_type": "stream",
     "text": [
      "201it [01:05,  3.06it/s]"
     ]
    },
    {
     "name": "stdout",
     "output_type": "stream",
     "text": [
      "Epoch 2, Batch 200, position loss: 25119.65625 reconstruction loss: 73.39193725585938 RMSE(mm): 79.24590880607023\n"
     ]
    },
    {
     "name": "stderr",
     "output_type": "stream",
     "text": [
      "236it [01:16,  3.07it/s]\n"
     ]
    },
    {
     "name": "stdout",
     "output_type": "stream",
     "text": [
      "Epoch 2, Val Loss: 19610.959064094386, RMSE(mm): 66.6694511652097\n",
      "Epoch 2, test Loss: 20312.26614317602, RMSE(mm): 63.680387992001606\n"
     ]
    },
    {
     "name": "stderr",
     "output_type": "stream",
     "text": [
      "1it [00:00,  3.06it/s]"
     ]
    },
    {
     "name": "stdout",
     "output_type": "stream",
     "text": [
      "Epoch 3, Batch 0, position loss: 16527.44140625 reconstruction loss: 44.06489181518555 RMSE(mm): 64.2795484704311\n"
     ]
    },
    {
     "name": "stderr",
     "output_type": "stream",
     "text": [
      "101it [00:32,  3.06it/s]"
     ]
    },
    {
     "name": "stdout",
     "output_type": "stream",
     "text": [
      "Epoch 3, Batch 100, position loss: 15626.771484375 reconstruction loss: 24.045778274536133 RMSE(mm): 62.50354286833467\n"
     ]
    },
    {
     "name": "stderr",
     "output_type": "stream",
     "text": [
      "201it [01:05,  3.07it/s]"
     ]
    },
    {
     "name": "stdout",
     "output_type": "stream",
     "text": [
      "Epoch 3, Batch 200, position loss: 23443.54296875 reconstruction loss: 63.98204040527344 RMSE(mm): 76.55642195261936\n"
     ]
    },
    {
     "name": "stderr",
     "output_type": "stream",
     "text": [
      "236it [01:16,  3.07it/s]\n"
     ]
    },
    {
     "name": "stdout",
     "output_type": "stream",
     "text": [
      "Epoch 3, Val Loss: 19738.54396524235, RMSE(mm): 67.06748695694766\n",
      "Epoch 3, test Loss: 20013.286471619896, RMSE(mm): 63.42305390896648\n"
     ]
    },
    {
     "name": "stderr",
     "output_type": "stream",
     "text": [
      "1it [00:00,  3.07it/s]"
     ]
    },
    {
     "name": "stdout",
     "output_type": "stream",
     "text": [
      "Epoch 4, Batch 0, position loss: 15524.009765625 reconstruction loss: 40.498844146728516 RMSE(mm): 62.29769210336969\n"
     ]
    },
    {
     "name": "stderr",
     "output_type": "stream",
     "text": [
      "101it [00:32,  3.06it/s]"
     ]
    },
    {
     "name": "stdout",
     "output_type": "stream",
     "text": [
      "Epoch 4, Batch 100, position loss: 15019.875 reconstruction loss: 23.12604331970215 RMSE(mm): 61.2777998136356\n"
     ]
    },
    {
     "name": "stderr",
     "output_type": "stream",
     "text": [
      "201it [01:05,  3.07it/s]"
     ]
    },
    {
     "name": "stdout",
     "output_type": "stream",
     "text": [
      "Epoch 4, Batch 200, position loss: 21699.603515625 reconstruction loss: 61.18327713012695 RMSE(mm): 73.65392643237867\n"
     ]
    },
    {
     "name": "stderr",
     "output_type": "stream",
     "text": [
      "236it [01:16,  3.07it/s]\n"
     ]
    },
    {
     "name": "stdout",
     "output_type": "stream",
     "text": [
      "Epoch 4, Val Loss: 19091.564672353317, RMSE(mm): 65.92735895182336\n",
      "Epoch 4, test Loss: 19044.784219547193, RMSE(mm): 61.72240406710793\n"
     ]
    },
    {
     "name": "stderr",
     "output_type": "stream",
     "text": [
      "1it [00:00,  3.07it/s]"
     ]
    },
    {
     "name": "stdout",
     "output_type": "stream",
     "text": [
      "Epoch 5, Batch 0, position loss: 13227.60546875 reconstruction loss: 39.7274169921875 RMSE(mm): 57.505663783557004\n"
     ]
    },
    {
     "name": "stderr",
     "output_type": "stream",
     "text": [
      "101it [00:33,  3.06it/s]"
     ]
    },
    {
     "name": "stdout",
     "output_type": "stream",
     "text": [
      "Epoch 5, Batch 100, position loss: 13208.13671875 reconstruction loss: 22.500164031982422 RMSE(mm): 57.46332899934966\n"
     ]
    },
    {
     "name": "stderr",
     "output_type": "stream",
     "text": [
      "201it [01:05,  3.07it/s]"
     ]
    },
    {
     "name": "stdout",
     "output_type": "stream",
     "text": [
      "Epoch 5, Batch 200, position loss: 21064.7109375 reconstruction loss: 59.669944763183594 RMSE(mm): 72.56843483481644\n"
     ]
    },
    {
     "name": "stderr",
     "output_type": "stream",
     "text": [
      "236it [01:16,  3.07it/s]\n"
     ]
    },
    {
     "name": "stdout",
     "output_type": "stream",
     "text": [
      "Epoch 5, Val Loss: 20208.012296715562, RMSE(mm): 68.03495122984404\n",
      "Epoch 5, test Loss: 19609.161890146683, RMSE(mm): 62.99718286896661\n"
     ]
    },
    {
     "name": "stderr",
     "output_type": "stream",
     "text": [
      "1it [00:00,  3.06it/s]"
     ]
    },
    {
     "name": "stdout",
     "output_type": "stream",
     "text": [
      "Epoch 6, Batch 0, position loss: 13068.689453125 reconstruction loss: 38.857662200927734 RMSE(mm): 57.15918441756539\n"
     ]
    },
    {
     "name": "stderr",
     "output_type": "stream",
     "text": [
      "101it [00:32,  3.06it/s]"
     ]
    },
    {
     "name": "stdout",
     "output_type": "stream",
     "text": [
      "Epoch 6, Batch 100, position loss: 12480.341796875 reconstruction loss: 23.417940139770508 RMSE(mm): 55.857725063045216\n"
     ]
    },
    {
     "name": "stderr",
     "output_type": "stream",
     "text": [
      "201it [01:05,  3.06it/s]"
     ]
    },
    {
     "name": "stdout",
     "output_type": "stream",
     "text": [
      "Epoch 6, Batch 200, position loss: 15359.177734375 reconstruction loss: 54.863380432128906 RMSE(mm): 61.96607486031167\n"
     ]
    },
    {
     "name": "stderr",
     "output_type": "stream",
     "text": [
      "236it [01:16,  3.07it/s]\n"
     ]
    },
    {
     "name": "stdout",
     "output_type": "stream",
     "text": [
      "Epoch 6, Val Loss: 18545.87649473852, RMSE(mm): 64.92160880768877\n",
      "Epoch 6, test Loss: 18444.860431281886, RMSE(mm): 60.695760123378626\n"
     ]
    },
    {
     "name": "stderr",
     "output_type": "stream",
     "text": [
      "1it [00:00,  3.06it/s]"
     ]
    },
    {
     "name": "stdout",
     "output_type": "stream",
     "text": [
      "Epoch 7, Batch 0, position loss: 9774.59765625 reconstruction loss: 37.498409271240234 RMSE(mm): 49.433282452842434\n"
     ]
    },
    {
     "name": "stderr",
     "output_type": "stream",
     "text": [
      "101it [00:32,  3.04it/s]"
     ]
    },
    {
     "name": "stdout",
     "output_type": "stream",
     "text": [
      "Epoch 7, Batch 100, position loss: 11875.1552734375 reconstruction loss: 23.21840476989746 RMSE(mm): 54.48659301479012\n"
     ]
    },
    {
     "name": "stderr",
     "output_type": "stream",
     "text": [
      "201it [01:05,  3.06it/s]"
     ]
    },
    {
     "name": "stdout",
     "output_type": "stream",
     "text": [
      "Epoch 7, Batch 200, position loss: 15624.3837890625 reconstruction loss: 55.51409149169922 RMSE(mm): 62.49876756597385\n"
     ]
    },
    {
     "name": "stderr",
     "output_type": "stream",
     "text": [
      "236it [01:16,  3.07it/s]\n"
     ]
    },
    {
     "name": "stdout",
     "output_type": "stream",
     "text": [
      "Epoch 7, Val Loss: 18705.734554368624, RMSE(mm): 65.19519032717731\n",
      "Epoch 7, test Loss: 18685.037189094386, RMSE(mm): 61.17464803153775\n"
     ]
    },
    {
     "name": "stderr",
     "output_type": "stream",
     "text": [
      "1it [00:00,  3.05it/s]"
     ]
    },
    {
     "name": "stdout",
     "output_type": "stream",
     "text": [
      "Epoch 8, Batch 0, position loss: 9391.3359375 reconstruction loss: 37.6171989440918 RMSE(mm): 48.45445267852068\n"
     ]
    },
    {
     "name": "stderr",
     "output_type": "stream",
     "text": [
      "101it [00:32,  3.06it/s]"
     ]
    },
    {
     "name": "stdout",
     "output_type": "stream",
     "text": [
      "Epoch 8, Batch 100, position loss: 11300.5625 reconstruction loss: 23.246261596679688 RMSE(mm): 53.15205193593188\n"
     ]
    },
    {
     "name": "stderr",
     "output_type": "stream",
     "text": [
      "201it [01:05,  3.06it/s]"
     ]
    },
    {
     "name": "stdout",
     "output_type": "stream",
     "text": [
      "Epoch 8, Batch 200, position loss: 14480.8818359375 reconstruction loss: 56.097320556640625 RMSE(mm): 60.16826787422399\n"
     ]
    },
    {
     "name": "stderr",
     "output_type": "stream",
     "text": [
      "236it [01:16,  3.07it/s]\n"
     ]
    },
    {
     "name": "stdout",
     "output_type": "stream",
     "text": [
      "Epoch 8, Val Loss: 19131.271185427297, RMSE(mm): 65.98201467493107\n",
      "Epoch 8, test Loss: 19140.822504783162, RMSE(mm): 62.09210142771641\n"
     ]
    },
    {
     "name": "stderr",
     "output_type": "stream",
     "text": [
      "1it [00:00,  3.05it/s]"
     ]
    },
    {
     "name": "stdout",
     "output_type": "stream",
     "text": [
      "Epoch 9, Batch 0, position loss: 8461.201171875 reconstruction loss: 37.820899963378906 RMSE(mm): 45.99239385994982\n"
     ]
    },
    {
     "name": "stderr",
     "output_type": "stream",
     "text": [
      "101it [00:32,  3.06it/s]"
     ]
    },
    {
     "name": "stdout",
     "output_type": "stream",
     "text": [
      "Epoch 9, Batch 100, position loss: 10581.75390625 reconstruction loss: 23.33717918395996 RMSE(mm): 51.4338261901883\n"
     ]
    },
    {
     "name": "stderr",
     "output_type": "stream",
     "text": [
      "201it [01:05,  3.07it/s]"
     ]
    },
    {
     "name": "stdout",
     "output_type": "stream",
     "text": [
      "Epoch 9, Batch 200, position loss: 11655.3125 reconstruction loss: 56.248477935791016 RMSE(mm): 53.97988630036192\n"
     ]
    },
    {
     "name": "stderr",
     "output_type": "stream",
     "text": [
      "236it [01:16,  3.07it/s]\n"
     ]
    },
    {
     "name": "stdout",
     "output_type": "stream",
     "text": [
      "Epoch 9, Val Loss: 19792.720703125, RMSE(mm): 67.20663838123714\n",
      "Epoch 9, test Loss: 19781.20479910714, RMSE(mm): 63.36609332696788\n"
     ]
    },
    {
     "name": "stderr",
     "output_type": "stream",
     "text": [
      "1it [00:00,  3.05it/s]"
     ]
    },
    {
     "name": "stdout",
     "output_type": "stream",
     "text": [
      "Epoch 10, Batch 0, position loss: 7505.88330078125 reconstruction loss: 38.00859451293945 RMSE(mm): 43.31825048631711\n"
     ]
    },
    {
     "name": "stderr",
     "output_type": "stream",
     "text": [
      "101it [00:33,  3.05it/s]"
     ]
    },
    {
     "name": "stdout",
     "output_type": "stream",
     "text": [
      "Epoch 10, Batch 100, position loss: 9099.0048828125 reconstruction loss: 23.4272403717041 RMSE(mm): 47.69435208390114\n"
     ]
    },
    {
     "name": "stderr",
     "output_type": "stream",
     "text": [
      "201it [01:05,  3.05it/s]"
     ]
    },
    {
     "name": "stdout",
     "output_type": "stream",
     "text": [
      "Epoch 10, Batch 200, position loss: 10285.869140625 reconstruction loss: 56.33550262451172 RMSE(mm): 50.70963700477701\n"
     ]
    },
    {
     "name": "stderr",
     "output_type": "stream",
     "text": [
      "236it [01:17,  3.06it/s]\n"
     ]
    },
    {
     "name": "stdout",
     "output_type": "stream",
     "text": [
      "Epoch 10, Val Loss: 20701.35893654337, RMSE(mm): 68.86237335690299\n",
      "Epoch 10, test Loss: 20675.017079878828, RMSE(mm): 65.10271733505816\n"
     ]
    },
    {
     "name": "stderr",
     "output_type": "stream",
     "text": [
      "1it [00:00,  3.05it/s]"
     ]
    },
    {
     "name": "stdout",
     "output_type": "stream",
     "text": [
      "Epoch 11, Batch 0, position loss: 6938.63427734375 reconstruction loss: 38.16360092163086 RMSE(mm): 41.64923251797009\n"
     ]
    },
    {
     "name": "stderr",
     "output_type": "stream",
     "text": [
      "101it [00:32,  3.07it/s]"
     ]
    },
    {
     "name": "stdout",
     "output_type": "stream",
     "text": [
      "Epoch 11, Batch 100, position loss: 7592.1318359375 reconstruction loss: 23.572128295898438 RMSE(mm): 43.56642008456026\n"
     ]
    },
    {
     "name": "stderr",
     "output_type": "stream",
     "text": [
      "201it [01:05,  3.07it/s]"
     ]
    },
    {
     "name": "stdout",
     "output_type": "stream",
     "text": [
      "Epoch 11, Batch 200, position loss: 7950.4931640625 reconstruction loss: 56.313255310058594 RMSE(mm): 44.582768992242116\n"
     ]
    },
    {
     "name": "stderr",
     "output_type": "stream",
     "text": [
      "236it [01:16,  3.07it/s]\n"
     ]
    },
    {
     "name": "stdout",
     "output_type": "stream",
     "text": [
      "Epoch 11, Val Loss: 21669.074358258928, RMSE(mm): 70.58824500106373\n",
      "Epoch 11, test Loss: 21660.85965401786, RMSE(mm): 66.96683462410856\n"
     ]
    },
    {
     "name": "stderr",
     "output_type": "stream",
     "text": [
      "1it [00:00,  3.04it/s]"
     ]
    },
    {
     "name": "stdout",
     "output_type": "stream",
     "text": [
      "Epoch 12, Batch 0, position loss: 6195.19140625 reconstruction loss: 38.37647247314453 RMSE(mm): 39.35476910823515\n"
     ]
    },
    {
     "name": "stderr",
     "output_type": "stream",
     "text": [
      "101it [00:32,  3.06it/s]"
     ]
    },
    {
     "name": "stdout",
     "output_type": "stream",
     "text": [
      "Epoch 12, Batch 100, position loss: 9448.65234375 reconstruction loss: 23.981523513793945 RMSE(mm): 48.602089316587\n"
     ]
    },
    {
     "name": "stderr",
     "output_type": "stream",
     "text": [
      "201it [01:05,  3.07it/s]"
     ]
    },
    {
     "name": "stdout",
     "output_type": "stream",
     "text": [
      "Epoch 12, Batch 200, position loss: 7074.4892578125 reconstruction loss: 55.641319274902344 RMSE(mm): 42.054991552170414\n"
     ]
    },
    {
     "name": "stderr",
     "output_type": "stream",
     "text": [
      "236it [01:16,  3.07it/s]\n"
     ]
    },
    {
     "name": "stdout",
     "output_type": "stream",
     "text": [
      "Epoch 12, Val Loss: 21284.27935666454, RMSE(mm): 69.91409156741626\n",
      "Epoch 12, test Loss: 21096.17801339286, RMSE(mm): 65.91125614206187\n"
     ]
    },
    {
     "name": "stderr",
     "output_type": "stream",
     "text": [
      "1it [00:00,  3.06it/s]"
     ]
    },
    {
     "name": "stdout",
     "output_type": "stream",
     "text": [
      "Epoch 13, Batch 0, position loss: 5868.400390625 reconstruction loss: 38.08378219604492 RMSE(mm): 38.30274269104303\n"
     ]
    },
    {
     "name": "stderr",
     "output_type": "stream",
     "text": [
      "101it [00:33,  3.06it/s]"
     ]
    },
    {
     "name": "stdout",
     "output_type": "stream",
     "text": [
      "Epoch 13, Batch 100, position loss: 8913.384765625 reconstruction loss: 23.903701782226562 RMSE(mm): 47.20536189254617\n"
     ]
    },
    {
     "name": "stderr",
     "output_type": "stream",
     "text": [
      "201it [01:05,  3.06it/s]"
     ]
    },
    {
     "name": "stdout",
     "output_type": "stream",
     "text": [
      "Epoch 13, Batch 200, position loss: 6578.52587890625 reconstruction loss: 55.59101867675781 RMSE(mm): 40.554056143948934\n"
     ]
    },
    {
     "name": "stderr",
     "output_type": "stream",
     "text": [
      "236it [01:17,  3.06it/s]\n"
     ]
    },
    {
     "name": "stdout",
     "output_type": "stream",
     "text": [
      "Epoch 13, Val Loss: 21281.412348533162, RMSE(mm): 69.90904126322141\n",
      "Epoch 13, test Loss: 21100.14849728954, RMSE(mm): 65.91989961505016\n"
     ]
    },
    {
     "name": "stderr",
     "output_type": "stream",
     "text": [
      "1it [00:00,  3.03it/s]"
     ]
    },
    {
     "name": "stdout",
     "output_type": "stream",
     "text": [
      "Epoch 14, Batch 0, position loss: 5803.947265625 reconstruction loss: 38.06041717529297 RMSE(mm): 38.09182085968391\n"
     ]
    },
    {
     "name": "stderr",
     "output_type": "stream",
     "text": [
      "101it [00:32,  3.06it/s]"
     ]
    },
    {
     "name": "stdout",
     "output_type": "stream",
     "text": [
      "Epoch 14, Batch 100, position loss: 8408.56640625 reconstruction loss: 23.93524169921875 RMSE(mm): 45.84911778390616\n"
     ]
    },
    {
     "name": "stderr",
     "output_type": "stream",
     "text": [
      "201it [01:05,  3.05it/s]"
     ]
    },
    {
     "name": "stdout",
     "output_type": "stream",
     "text": [
      "Epoch 14, Batch 200, position loss: 6595.5048828125 reconstruction loss: 55.56309509277344 RMSE(mm): 40.606356900159426\n"
     ]
    },
    {
     "name": "stderr",
     "output_type": "stream",
     "text": [
      "236it [01:16,  3.07it/s]\n"
     ]
    },
    {
     "name": "stdout",
     "output_type": "stream",
     "text": [
      "Epoch 14, Val Loss: 21344.50031887755, RMSE(mm): 70.02098280603755\n",
      "Epoch 14, test Loss: 21171.062719228317, RMSE(mm): 66.05480651796867\n"
     ]
    },
    {
     "name": "stderr",
     "output_type": "stream",
     "text": [
      "Some weights of DeiTForMaskedImageModeling were not initialized from the model checkpoint at facebook/deit-base-distilled-patch16-224 and are newly initialized: ['decoder.0.weight', 'decoder.0.bias', 'deit.embeddings.mask_token']\n",
      "You should probably TRAIN this model on a down-stream task to be able to use it for predictions and inference.\n",
      "Some weights of DeiTForMaskedImageModeling were not initialized from the model checkpoint at facebook/deit-base-distilled-patch16-224 and are newly initialized because the shapes did not match:\n",
      "- deit.embeddings.position_embeddings: found shape torch.Size([1, 198, 768]) in the checkpoint and torch.Size([1, 258, 768]) in the model instantiated\n",
      "- deit.embeddings.patch_embeddings.projection.weight: found shape torch.Size([768, 3, 16, 16]) in the checkpoint and torch.Size([768, 256, 8, 1]) in the model instantiated\n",
      "You should probably TRAIN this model on a down-stream task to be able to use it for predictions and inference.\n"
     ]
    },
    {
     "name": "stdout",
     "output_type": "stream",
     "text": [
      "create dataloader...\n",
      "HI\n",
      "training...\n"
     ]
    },
    {
     "name": "stderr",
     "output_type": "stream",
     "text": [
      "1it [00:00,  2.11it/s]"
     ]
    },
    {
     "name": "stdout",
     "output_type": "stream",
     "text": [
      "Epoch 0, Batch 0, position loss: 169062.71875 reconstruction loss: 79.93205261230469 RMSE(mm): 205.58618554635424\n"
     ]
    },
    {
     "name": "stderr",
     "output_type": "stream",
     "text": [
      "101it [00:33,  3.05it/s]"
     ]
    },
    {
     "name": "stdout",
     "output_type": "stream",
     "text": [
      "Epoch 0, Batch 100, position loss: 22672.142578125 reconstruction loss: 34.38324737548828 RMSE(mm): 75.28635762561004\n"
     ]
    },
    {
     "name": "stderr",
     "output_type": "stream",
     "text": [
      "201it [01:05,  3.05it/s]"
     ]
    },
    {
     "name": "stdout",
     "output_type": "stream",
     "text": [
      "Epoch 0, Batch 200, position loss: 31095.01953125 reconstruction loss: 94.79066467285156 RMSE(mm): 88.16889974822472\n"
     ]
    },
    {
     "name": "stderr",
     "output_type": "stream",
     "text": [
      "236it [01:17,  3.06it/s]\n"
     ]
    },
    {
     "name": "stdout",
     "output_type": "stream",
     "text": [
      "Epoch 0, Val Loss: 23676.710060586734, RMSE(mm): 71.62751379478333\n",
      "Epoch 0, test Loss: 27033.814532844386, RMSE(mm): 71.0642799216291\n"
     ]
    },
    {
     "name": "stderr",
     "output_type": "stream",
     "text": [
      "1it [00:00,  3.03it/s]"
     ]
    },
    {
     "name": "stdout",
     "output_type": "stream",
     "text": [
      "Epoch 1, Batch 0, position loss: 18408.068359375 reconstruction loss: 55.644222259521484 RMSE(mm): 67.83816838508945\n"
     ]
    },
    {
     "name": "stderr",
     "output_type": "stream",
     "text": [
      "101it [00:32,  3.07it/s]"
     ]
    },
    {
     "name": "stdout",
     "output_type": "stream",
     "text": [
      "Epoch 1, Batch 100, position loss: 15735.078125 reconstruction loss: 29.100078582763672 RMSE(mm): 62.719769859670244\n"
     ]
    },
    {
     "name": "stderr",
     "output_type": "stream",
     "text": [
      "201it [01:05,  3.07it/s]"
     ]
    },
    {
     "name": "stdout",
     "output_type": "stream",
     "text": [
      "Epoch 1, Batch 200, position loss: 25660.517578125 reconstruction loss: 80.81697082519531 RMSE(mm): 80.0945028983341\n"
     ]
    },
    {
     "name": "stderr",
     "output_type": "stream",
     "text": [
      "236it [01:16,  3.07it/s]\n"
     ]
    },
    {
     "name": "stdout",
     "output_type": "stream",
     "text": [
      "Epoch 1, Val Loss: 21608.99288504464, RMSE(mm): 68.47214164666156\n",
      "Epoch 1, test Loss: 23907.810905612245, RMSE(mm): 66.08707253261505\n"
     ]
    },
    {
     "name": "stderr",
     "output_type": "stream",
     "text": [
      "1it [00:00,  3.03it/s]"
     ]
    },
    {
     "name": "stdout",
     "output_type": "stream",
     "text": [
      "Epoch 2, Batch 0, position loss: 16778.775390625 reconstruction loss: 47.43499755859375 RMSE(mm): 64.76645619189188\n"
     ]
    },
    {
     "name": "stderr",
     "output_type": "stream",
     "text": [
      "101it [00:32,  3.07it/s]"
     ]
    },
    {
     "name": "stdout",
     "output_type": "stream",
     "text": [
      "Epoch 2, Batch 100, position loss: 14891.158203125 reconstruction loss: 25.153512954711914 RMSE(mm): 61.01466668581621\n"
     ]
    },
    {
     "name": "stderr",
     "output_type": "stream",
     "text": [
      "201it [01:05,  3.05it/s]"
     ]
    },
    {
     "name": "stdout",
     "output_type": "stream",
     "text": [
      "Epoch 2, Batch 200, position loss: 23390.49609375 reconstruction loss: 69.81268310546875 RMSE(mm): 76.46975888177954\n"
     ]
    },
    {
     "name": "stderr",
     "output_type": "stream",
     "text": [
      "236it [01:16,  3.07it/s]\n"
     ]
    },
    {
     "name": "stdout",
     "output_type": "stream",
     "text": [
      "Epoch 2, Val Loss: 21267.82393973214, RMSE(mm): 68.1606338770625\n",
      "Epoch 2, test Loss: 22438.49318399235, RMSE(mm): 63.84864906202479\n"
     ]
    },
    {
     "name": "stderr",
     "output_type": "stream",
     "text": [
      "1it [00:00,  3.05it/s]"
     ]
    },
    {
     "name": "stdout",
     "output_type": "stream",
     "text": [
      "Epoch 3, Batch 0, position loss: 15667.212890625 reconstruction loss: 42.90073776245117 RMSE(mm): 62.58436883644549\n"
     ]
    },
    {
     "name": "stderr",
     "output_type": "stream",
     "text": [
      "101it [00:32,  3.06it/s]"
     ]
    },
    {
     "name": "stdout",
     "output_type": "stream",
     "text": [
      "Epoch 3, Batch 100, position loss: 13338.650390625 reconstruction loss: 23.099010467529297 RMSE(mm): 57.74653753824769\n"
     ]
    },
    {
     "name": "stderr",
     "output_type": "stream",
     "text": [
      "201it [01:05,  3.06it/s]"
     ]
    },
    {
     "name": "stdout",
     "output_type": "stream",
     "text": [
      "Epoch 3, Batch 200, position loss: 21846.96875 reconstruction loss: 61.98175048828125 RMSE(mm): 73.90360063961701\n"
     ]
    },
    {
     "name": "stderr",
     "output_type": "stream",
     "text": [
      "236it [01:16,  3.07it/s]\n"
     ]
    },
    {
     "name": "stdout",
     "output_type": "stream",
     "text": [
      "Epoch 3, Val Loss: 20717.99836575255, RMSE(mm): 67.41592041007024\n",
      "Epoch 3, test Loss: 21750.570910395407, RMSE(mm): 63.0059081317185\n"
     ]
    },
    {
     "name": "stderr",
     "output_type": "stream",
     "text": [
      "1it [00:00,  3.02it/s]"
     ]
    },
    {
     "name": "stdout",
     "output_type": "stream",
     "text": [
      "Epoch 4, Batch 0, position loss: 14024.845703125 reconstruction loss: 39.64115905761719 RMSE(mm): 59.213270689780764\n"
     ]
    },
    {
     "name": "stderr",
     "output_type": "stream",
     "text": [
      "101it [00:32,  3.07it/s]"
     ]
    },
    {
     "name": "stdout",
     "output_type": "stream",
     "text": [
      "Epoch 4, Batch 100, position loss: 11551.96875 reconstruction loss: 22.190715789794922 RMSE(mm): 53.74004268234256\n"
     ]
    },
    {
     "name": "stderr",
     "output_type": "stream",
     "text": [
      "201it [01:05,  3.07it/s]"
     ]
    },
    {
     "name": "stdout",
     "output_type": "stream",
     "text": [
      "Epoch 4, Batch 200, position loss: 19598.994140625 reconstruction loss: 58.38078308105469 RMSE(mm): 69.99820379949938\n"
     ]
    },
    {
     "name": "stderr",
     "output_type": "stream",
     "text": [
      "236it [01:16,  3.07it/s]\n"
     ]
    },
    {
     "name": "stdout",
     "output_type": "stream",
     "text": [
      "Epoch 4, Val Loss: 20658.79908721301, RMSE(mm): 67.38937265648374\n",
      "Epoch 4, test Loss: 21254.31154336735, RMSE(mm): 62.37112602069139\n"
     ]
    },
    {
     "name": "stderr",
     "output_type": "stream",
     "text": [
      "1it [00:00,  3.06it/s]"
     ]
    },
    {
     "name": "stdout",
     "output_type": "stream",
     "text": [
      "Epoch 5, Batch 0, position loss: 12480.4365234375 reconstruction loss: 37.962249755859375 RMSE(mm): 55.85793704442884\n"
     ]
    },
    {
     "name": "stderr",
     "output_type": "stream",
     "text": [
      "101it [00:32,  3.06it/s]"
     ]
    },
    {
     "name": "stdout",
     "output_type": "stream",
     "text": [
      "Epoch 5, Batch 100, position loss: 10098.1845703125 reconstruction loss: 21.723690032958984 RMSE(mm): 50.24486185251309\n"
     ]
    },
    {
     "name": "stderr",
     "output_type": "stream",
     "text": [
      "201it [01:05,  3.07it/s]"
     ]
    },
    {
     "name": "stdout",
     "output_type": "stream",
     "text": [
      "Epoch 5, Batch 200, position loss: 16840.0390625 reconstruction loss: 56.38925552368164 RMSE(mm): 64.88458804388759\n"
     ]
    },
    {
     "name": "stderr",
     "output_type": "stream",
     "text": [
      "236it [01:16,  3.07it/s]\n"
     ]
    },
    {
     "name": "stdout",
     "output_type": "stream",
     "text": [
      "Epoch 5, Val Loss: 21657.326171875, RMSE(mm): 69.28180397021995\n",
      "Epoch 5, test Loss: 21502.90915975765, RMSE(mm): 63.146431208376875\n"
     ]
    },
    {
     "name": "stderr",
     "output_type": "stream",
     "text": [
      "1it [00:00,  3.06it/s]"
     ]
    },
    {
     "name": "stdout",
     "output_type": "stream",
     "text": [
      "Epoch 6, Batch 0, position loss: 12201.287109375 reconstruction loss: 36.683074951171875 RMSE(mm): 55.229718244290815\n"
     ]
    },
    {
     "name": "stderr",
     "output_type": "stream",
     "text": [
      "101it [00:32,  3.06it/s]"
     ]
    },
    {
     "name": "stdout",
     "output_type": "stream",
     "text": [
      "Epoch 6, Batch 100, position loss: 11174.59765625 reconstruction loss: 22.475360870361328 RMSE(mm): 52.854984760782024\n"
     ]
    },
    {
     "name": "stderr",
     "output_type": "stream",
     "text": [
      "201it [01:05,  3.06it/s]"
     ]
    },
    {
     "name": "stdout",
     "output_type": "stream",
     "text": [
      "Epoch 6, Batch 200, position loss: 10040.3330078125 reconstruction loss: 53.177894592285156 RMSE(mm): 50.100731052082715\n"
     ]
    },
    {
     "name": "stderr",
     "output_type": "stream",
     "text": [
      "236it [01:16,  3.07it/s]\n"
     ]
    },
    {
     "name": "stdout",
     "output_type": "stream",
     "text": [
      "Epoch 6, Val Loss: 20196.11015226403, RMSE(mm): 66.57434184180362\n",
      "Epoch 6, test Loss: 20605.954261001276, RMSE(mm): 61.354113416619015\n"
     ]
    },
    {
     "name": "stderr",
     "output_type": "stream",
     "text": [
      "1it [00:00,  3.06it/s]"
     ]
    },
    {
     "name": "stdout",
     "output_type": "stream",
     "text": [
      "Epoch 7, Batch 0, position loss: 8924.0537109375 reconstruction loss: 36.40876007080078 RMSE(mm): 47.233604856440664\n"
     ]
    },
    {
     "name": "stderr",
     "output_type": "stream",
     "text": [
      "101it [00:32,  3.06it/s]"
     ]
    },
    {
     "name": "stdout",
     "output_type": "stream",
     "text": [
      "Epoch 7, Batch 100, position loss: 9605.875 reconstruction loss: 22.334829330444336 RMSE(mm): 49.00478292983247\n"
     ]
    },
    {
     "name": "stderr",
     "output_type": "stream",
     "text": [
      "201it [01:05,  3.06it/s]"
     ]
    },
    {
     "name": "stdout",
     "output_type": "stream",
     "text": [
      "Epoch 7, Batch 200, position loss: 7932.6572265625 reconstruction loss: 52.91398239135742 RMSE(mm): 44.53273297969287\n"
     ]
    },
    {
     "name": "stderr",
     "output_type": "stream",
     "text": [
      "236it [01:16,  3.07it/s]\n"
     ]
    },
    {
     "name": "stdout",
     "output_type": "stream",
     "text": [
      "Epoch 7, Val Loss: 20826.151985012755, RMSE(mm): 67.73445973972525\n",
      "Epoch 7, test Loss: 21128.569933832907, RMSE(mm): 62.42344023413688\n"
     ]
    },
    {
     "name": "stderr",
     "output_type": "stream",
     "text": [
      "1it [00:00,  3.05it/s]"
     ]
    },
    {
     "name": "stdout",
     "output_type": "stream",
     "text": [
      "Epoch 8, Batch 0, position loss: 8092.67041015625 reconstruction loss: 36.427940368652344 RMSE(mm): 44.97963542025505\n"
     ]
    },
    {
     "name": "stderr",
     "output_type": "stream",
     "text": [
      "101it [00:32,  3.06it/s]"
     ]
    },
    {
     "name": "stdout",
     "output_type": "stream",
     "text": [
      "Epoch 8, Batch 100, position loss: 8725.7548828125 reconstruction loss: 22.34087562561035 RMSE(mm): 46.705874584500876\n"
     ]
    },
    {
     "name": "stderr",
     "output_type": "stream",
     "text": [
      "201it [01:05,  3.05it/s]"
     ]
    },
    {
     "name": "stdout",
     "output_type": "stream",
     "text": [
      "Epoch 8, Batch 200, position loss: 6585.11279296875 reconstruction loss: 52.51573944091797 RMSE(mm): 40.574353947317356\n"
     ]
    },
    {
     "name": "stderr",
     "output_type": "stream",
     "text": [
      "236it [01:16,  3.07it/s]\n"
     ]
    },
    {
     "name": "stdout",
     "output_type": "stream",
     "text": [
      "Epoch 8, Val Loss: 21457.40818319515, RMSE(mm): 68.88436042389627\n",
      "Epoch 8, test Loss: 21758.296396683672, RMSE(mm): 63.68859642551737\n"
     ]
    },
    {
     "name": "stderr",
     "output_type": "stream",
     "text": [
      "1it [00:00,  3.05it/s]"
     ]
    },
    {
     "name": "stdout",
     "output_type": "stream",
     "text": [
      "Epoch 9, Batch 0, position loss: 7031.560546875 reconstruction loss: 36.44911575317383 RMSE(mm): 41.927200439795044\n"
     ]
    },
    {
     "name": "stderr",
     "output_type": "stream",
     "text": [
      "101it [00:33,  3.06it/s]"
     ]
    },
    {
     "name": "stdout",
     "output_type": "stream",
     "text": [
      "Epoch 9, Batch 100, position loss: 7644.240234375 reconstruction loss: 22.364120483398438 RMSE(mm): 43.71567291708718\n"
     ]
    },
    {
     "name": "stderr",
     "output_type": "stream",
     "text": [
      "201it [01:05,  3.07it/s]"
     ]
    },
    {
     "name": "stdout",
     "output_type": "stream",
     "text": [
      "Epoch 9, Batch 200, position loss: 5532.900390625 reconstruction loss: 52.21196746826172 RMSE(mm): 37.19173426524031\n"
     ]
    },
    {
     "name": "stderr",
     "output_type": "stream",
     "text": [
      "236it [01:16,  3.07it/s]\n"
     ]
    },
    {
     "name": "stdout",
     "output_type": "stream",
     "text": [
      "Epoch 9, Val Loss: 21934.021783322703, RMSE(mm): 69.73952868673335\n",
      "Epoch 9, test Loss: 22332.419503348214, RMSE(mm): 64.82085004876382\n"
     ]
    },
    {
     "name": "stderr",
     "output_type": "stream",
     "text": [
      "1it [00:00,  3.07it/s]"
     ]
    },
    {
     "name": "stdout",
     "output_type": "stream",
     "text": [
      "Epoch 10, Batch 0, position loss: 6052.20654296875 reconstruction loss: 36.444923400878906 RMSE(mm): 38.89796441643428\n"
     ]
    },
    {
     "name": "stderr",
     "output_type": "stream",
     "text": [
      "101it [00:32,  3.07it/s]"
     ]
    },
    {
     "name": "stdout",
     "output_type": "stream",
     "text": [
      "Epoch 10, Batch 100, position loss: 6155.611328125 reconstruction loss: 22.309368133544922 RMSE(mm): 39.22885203560321\n"
     ]
    },
    {
     "name": "stderr",
     "output_type": "stream",
     "text": [
      "201it [01:05,  3.07it/s]"
     ]
    },
    {
     "name": "stdout",
     "output_type": "stream",
     "text": [
      "Epoch 10, Batch 200, position loss: 4495.7705078125 reconstruction loss: 51.929256439208984 RMSE(mm): 33.525253570303164\n"
     ]
    },
    {
     "name": "stderr",
     "output_type": "stream",
     "text": [
      "236it [01:16,  3.07it/s]\n"
     ]
    },
    {
     "name": "stdout",
     "output_type": "stream",
     "text": [
      "Epoch 10, Val Loss: 22409.286690848214, RMSE(mm): 70.58495706383735\n",
      "Epoch 10, test Loss: 22913.64213966837, RMSE(mm): 65.9481906744727\n"
     ]
    },
    {
     "name": "stderr",
     "output_type": "stream",
     "text": [
      "1it [00:00,  3.07it/s]"
     ]
    },
    {
     "name": "stdout",
     "output_type": "stream",
     "text": [
      "Epoch 11, Batch 0, position loss: 5229.8076171875 reconstruction loss: 36.40937042236328 RMSE(mm): 36.15870440567354\n"
     ]
    },
    {
     "name": "stderr",
     "output_type": "stream",
     "text": [
      "101it [00:32,  3.06it/s]"
     ]
    },
    {
     "name": "stdout",
     "output_type": "stream",
     "text": [
      "Epoch 11, Batch 100, position loss: 5429.48828125 reconstruction loss: 22.263341903686523 RMSE(mm): 36.84253072622048\n"
     ]
    },
    {
     "name": "stderr",
     "output_type": "stream",
     "text": [
      "201it [01:05,  3.06it/s]"
     ]
    },
    {
     "name": "stdout",
     "output_type": "stream",
     "text": [
      "Epoch 11, Batch 200, position loss: 4144.46630859375 reconstruction loss: 51.622737884521484 RMSE(mm): 32.18876476580668\n"
     ]
    },
    {
     "name": "stderr",
     "output_type": "stream",
     "text": [
      "236it [01:16,  3.07it/s]\n"
     ]
    },
    {
     "name": "stdout",
     "output_type": "stream",
     "text": [
      "Epoch 11, Val Loss: 22729.51492745536, RMSE(mm): 71.15073370870009\n",
      "Epoch 11, test Loss: 23408.520986128828, RMSE(mm): 66.89761576988491\n"
     ]
    },
    {
     "name": "stderr",
     "output_type": "stream",
     "text": [
      "1it [00:00,  3.06it/s]"
     ]
    },
    {
     "name": "stdout",
     "output_type": "stream",
     "text": [
      "Epoch 12, Batch 0, position loss: 4910.27294921875 reconstruction loss: 36.38834762573242 RMSE(mm): 35.03666989462165\n"
     ]
    },
    {
     "name": "stderr",
     "output_type": "stream",
     "text": [
      "101it [00:32,  3.06it/s]"
     ]
    },
    {
     "name": "stdout",
     "output_type": "stream",
     "text": [
      "Epoch 12, Batch 100, position loss: 6134.162109375 reconstruction loss: 22.56536293029785 RMSE(mm): 39.16044595435233\n"
     ]
    },
    {
     "name": "stderr",
     "output_type": "stream",
     "text": [
      "201it [01:05,  3.07it/s]"
     ]
    },
    {
     "name": "stdout",
     "output_type": "stream",
     "text": [
      "Epoch 12, Batch 200, position loss: 4235.8193359375 reconstruction loss: 50.60179138183594 RMSE(mm): 32.541586224159005\n"
     ]
    },
    {
     "name": "stderr",
     "output_type": "stream",
     "text": [
      "236it [01:16,  3.07it/s]\n"
     ]
    },
    {
     "name": "stdout",
     "output_type": "stream",
     "text": [
      "Epoch 12, Val Loss: 22375.034917091838, RMSE(mm): 70.53020850107109\n",
      "Epoch 12, test Loss: 22965.78437898597, RMSE(mm): 66.07832319540928\n"
     ]
    },
    {
     "name": "stderr",
     "output_type": "stream",
     "text": [
      "1it [00:00,  3.02it/s]"
     ]
    },
    {
     "name": "stdout",
     "output_type": "stream",
     "text": [
      "Epoch 13, Batch 0, position loss: 4805.0419921875 reconstruction loss: 36.22477722167969 RMSE(mm): 34.65920509831226\n"
     ]
    },
    {
     "name": "stderr",
     "output_type": "stream",
     "text": [
      "101it [00:32,  3.06it/s]"
     ]
    },
    {
     "name": "stdout",
     "output_type": "stream",
     "text": [
      "Epoch 13, Batch 100, position loss: 5948.49560546875 reconstruction loss: 22.554452896118164 RMSE(mm): 38.56324547243382\n"
     ]
    },
    {
     "name": "stderr",
     "output_type": "stream",
     "text": [
      "201it [01:05,  3.06it/s]"
     ]
    },
    {
     "name": "stdout",
     "output_type": "stream",
     "text": [
      "Epoch 13, Batch 200, position loss: 4178.8115234375 reconstruction loss: 50.56886672973633 RMSE(mm): 32.32186382093977\n"
     ]
    },
    {
     "name": "stderr",
     "output_type": "stream",
     "text": [
      "236it [01:16,  3.07it/s]\n"
     ]
    },
    {
     "name": "stdout",
     "output_type": "stream",
     "text": [
      "Epoch 13, Val Loss: 22374.376315369896, RMSE(mm): 70.52906614239528\n",
      "Epoch 13, test Loss: 22989.692223373724, RMSE(mm): 66.1264388891541\n"
     ]
    },
    {
     "name": "stderr",
     "output_type": "stream",
     "text": [
      "1it [00:00,  3.05it/s]"
     ]
    },
    {
     "name": "stdout",
     "output_type": "stream",
     "text": [
      "Epoch 14, Batch 0, position loss: 4715.5478515625 reconstruction loss: 36.21080017089844 RMSE(mm): 34.33492337097354\n"
     ]
    },
    {
     "name": "stderr",
     "output_type": "stream",
     "text": [
      "101it [00:33,  3.06it/s]"
     ]
    },
    {
     "name": "stdout",
     "output_type": "stream",
     "text": [
      "Epoch 14, Batch 100, position loss: 5904.1884765625 reconstruction loss: 22.562728881835938 RMSE(mm): 38.41935865082374\n"
     ]
    },
    {
     "name": "stderr",
     "output_type": "stream",
     "text": [
      "201it [01:05,  3.06it/s]"
     ]
    },
    {
     "name": "stdout",
     "output_type": "stream",
     "text": [
      "Epoch 14, Batch 200, position loss: 4105.2529296875 reconstruction loss: 50.53706359863281 RMSE(mm): 32.036123867001685\n"
     ]
    },
    {
     "name": "stderr",
     "output_type": "stream",
     "text": [
      "236it [01:16,  3.07it/s]\n"
     ]
    },
    {
     "name": "stdout",
     "output_type": "stream",
     "text": [
      "Epoch 14, Val Loss: 22410.65278220663, RMSE(mm): 70.59336712357549\n",
      "Epoch 14, test Loss: 23044.537527901786, RMSE(mm): 66.23234698596158\n"
     ]
    },
    {
     "name": "stderr",
     "output_type": "stream",
     "text": [
      "Some weights of DeiTForMaskedImageModeling were not initialized from the model checkpoint at facebook/deit-base-distilled-patch16-224 and are newly initialized: ['decoder.0.weight', 'decoder.0.bias', 'deit.embeddings.mask_token']\n",
      "You should probably TRAIN this model on a down-stream task to be able to use it for predictions and inference.\n",
      "Some weights of DeiTForMaskedImageModeling were not initialized from the model checkpoint at facebook/deit-base-distilled-patch16-224 and are newly initialized because the shapes did not match:\n",
      "- deit.embeddings.position_embeddings: found shape torch.Size([1, 198, 768]) in the checkpoint and torch.Size([1, 258, 768]) in the model instantiated\n",
      "- deit.embeddings.patch_embeddings.projection.weight: found shape torch.Size([768, 3, 16, 16]) in the checkpoint and torch.Size([768, 256, 8, 1]) in the model instantiated\n",
      "You should probably TRAIN this model on a down-stream task to be able to use it for predictions and inference.\n"
     ]
    },
    {
     "name": "stdout",
     "output_type": "stream",
     "text": [
      "create dataloader...\n",
      "HI\n",
      "training...\n"
     ]
    },
    {
     "name": "stderr",
     "output_type": "stream",
     "text": [
      "1it [00:00,  2.12it/s]"
     ]
    },
    {
     "name": "stdout",
     "output_type": "stream",
     "text": [
      "Epoch 0, Batch 0, position loss: 169164.390625 reconstruction loss: 79.91326141357422 RMSE(mm): 205.64799453495772\n"
     ]
    },
    {
     "name": "stderr",
     "output_type": "stream",
     "text": [
      "101it [00:33,  3.07it/s]"
     ]
    },
    {
     "name": "stdout",
     "output_type": "stream",
     "text": [
      "Epoch 0, Batch 100, position loss: 22733.28515625 reconstruction loss: 34.749656677246094 RMSE(mm): 75.38780597061105\n"
     ]
    },
    {
     "name": "stderr",
     "output_type": "stream",
     "text": [
      "201it [01:05,  3.07it/s]"
     ]
    },
    {
     "name": "stdout",
     "output_type": "stream",
     "text": [
      "Epoch 0, Batch 200, position loss: 32280.3828125 reconstruction loss: 90.81201934814453 RMSE(mm): 89.83371139569488\n"
     ]
    },
    {
     "name": "stderr",
     "output_type": "stream",
     "text": [
      "236it [01:16,  3.07it/s]\n"
     ]
    },
    {
     "name": "stdout",
     "output_type": "stream",
     "text": [
      "Epoch 0, Val Loss: 27259.164142219386, RMSE(mm): 76.2108642038921\n",
      "Epoch 0, test Loss: 32084.688576211734, RMSE(mm): 76.14660834869932\n"
     ]
    },
    {
     "name": "stderr",
     "output_type": "stream",
     "text": [
      "1it [00:00,  3.04it/s]"
     ]
    },
    {
     "name": "stdout",
     "output_type": "stream",
     "text": [
      "Epoch 1, Batch 0, position loss: 23830.546875 reconstruction loss: 54.40279006958008 RMSE(mm): 77.18572872461593\n"
     ]
    },
    {
     "name": "stderr",
     "output_type": "stream",
     "text": [
      "101it [00:32,  3.07it/s]"
     ]
    },
    {
     "name": "stdout",
     "output_type": "stream",
     "text": [
      "Epoch 1, Batch 100, position loss: 16075.060546875 reconstruction loss: 28.545833587646484 RMSE(mm): 63.39373105220066\n"
     ]
    },
    {
     "name": "stderr",
     "output_type": "stream",
     "text": [
      "201it [01:05,  3.06it/s]"
     ]
    },
    {
     "name": "stdout",
     "output_type": "stream",
     "text": [
      "Epoch 1, Batch 200, position loss: 27983.908203125 reconstruction loss: 81.84263610839844 RMSE(mm): 83.64195747817749\n"
     ]
    },
    {
     "name": "stderr",
     "output_type": "stream",
     "text": [
      "236it [01:16,  3.07it/s]\n"
     ]
    },
    {
     "name": "stdout",
     "output_type": "stream",
     "text": [
      "Epoch 1, Val Loss: 22862.47090242347, RMSE(mm): 68.87112930517236\n",
      "Epoch 1, test Loss: 26525.898557079083, RMSE(mm): 66.95161096566416\n"
     ]
    },
    {
     "name": "stderr",
     "output_type": "stream",
     "text": [
      "1it [00:00,  3.06it/s]"
     ]
    },
    {
     "name": "stdout",
     "output_type": "stream",
     "text": [
      "Epoch 2, Batch 0, position loss: 18043.27734375 reconstruction loss: 49.69332504272461 RMSE(mm): 67.16263347976685\n"
     ]
    },
    {
     "name": "stderr",
     "output_type": "stream",
     "text": [
      "101it [00:32,  3.07it/s]"
     ]
    },
    {
     "name": "stdout",
     "output_type": "stream",
     "text": [
      "Epoch 2, Batch 100, position loss: 16161.58984375 reconstruction loss: 26.713449478149414 RMSE(mm): 63.56412086183132\n"
     ]
    },
    {
     "name": "stderr",
     "output_type": "stream",
     "text": [
      "201it [01:05,  3.06it/s]"
     ]
    },
    {
     "name": "stdout",
     "output_type": "stream",
     "text": [
      "Epoch 2, Batch 200, position loss: 25007.796875 reconstruction loss: 73.61300659179688 RMSE(mm): 79.06926848498094\n"
     ]
    },
    {
     "name": "stderr",
     "output_type": "stream",
     "text": [
      "236it [01:16,  3.07it/s]\n"
     ]
    },
    {
     "name": "stdout",
     "output_type": "stream",
     "text": [
      "Epoch 2, Val Loss: 21973.54569913903, RMSE(mm): 67.64129195831624\n",
      "Epoch 2, test Loss: 24861.513771524234, RMSE(mm): 64.54190650200769\n"
     ]
    },
    {
     "name": "stderr",
     "output_type": "stream",
     "text": [
      "1it [00:00,  3.07it/s]"
     ]
    },
    {
     "name": "stdout",
     "output_type": "stream",
     "text": [
      "Epoch 3, Batch 0, position loss: 17513.302734375 reconstruction loss: 45.13850021362305 RMSE(mm): 66.16891780582293\n"
     ]
    },
    {
     "name": "stderr",
     "output_type": "stream",
     "text": [
      "101it [00:32,  3.06it/s]"
     ]
    },
    {
     "name": "stdout",
     "output_type": "stream",
     "text": [
      "Epoch 3, Batch 100, position loss: 14643.2998046875 reconstruction loss: 23.948957443237305 RMSE(mm): 60.50475147599464\n"
     ]
    },
    {
     "name": "stderr",
     "output_type": "stream",
     "text": [
      "201it [01:05,  3.06it/s]"
     ]
    },
    {
     "name": "stdout",
     "output_type": "stream",
     "text": [
      "Epoch 3, Batch 200, position loss: 23051.96875 reconstruction loss: 63.828102111816406 RMSE(mm): 75.91437405063681\n"
     ]
    },
    {
     "name": "stderr",
     "output_type": "stream",
     "text": [
      "236it [01:16,  3.07it/s]\n"
     ]
    },
    {
     "name": "stdout",
     "output_type": "stream",
     "text": [
      "Epoch 3, Val Loss: 21899.744359853317, RMSE(mm): 67.92700721621028\n",
      "Epoch 3, test Loss: 23813.998863998724, RMSE(mm): 63.23967774206287\n"
     ]
    },
    {
     "name": "stderr",
     "output_type": "stream",
     "text": [
      "1it [00:00,  3.07it/s]"
     ]
    },
    {
     "name": "stdout",
     "output_type": "stream",
     "text": [
      "Epoch 4, Batch 0, position loss: 15776.1025390625 reconstruction loss: 40.39930725097656 RMSE(mm): 62.80147796641115\n"
     ]
    },
    {
     "name": "stderr",
     "output_type": "stream",
     "text": [
      "101it [00:32,  3.07it/s]"
     ]
    },
    {
     "name": "stdout",
     "output_type": "stream",
     "text": [
      "Epoch 4, Batch 100, position loss: 12886.943359375 reconstruction loss: 22.965476989746094 RMSE(mm): 56.76033685456553\n"
     ]
    },
    {
     "name": "stderr",
     "output_type": "stream",
     "text": [
      "201it [01:05,  3.05it/s]"
     ]
    },
    {
     "name": "stdout",
     "output_type": "stream",
     "text": [
      "Epoch 4, Batch 200, position loss: 20810.63671875 reconstruction loss: 58.73966598510742 RMSE(mm): 72.12946124634163\n"
     ]
    },
    {
     "name": "stderr",
     "output_type": "stream",
     "text": [
      "236it [01:16,  3.07it/s]\n"
     ]
    },
    {
     "name": "stdout",
     "output_type": "stream",
     "text": [
      "Epoch 4, Val Loss: 21156.37055564413, RMSE(mm): 66.7134695671247\n",
      "Epoch 4, test Loss: 23339.256875797193, RMSE(mm): 62.7139592657211\n"
     ]
    },
    {
     "name": "stderr",
     "output_type": "stream",
     "text": [
      "1it [00:00,  3.07it/s]"
     ]
    },
    {
     "name": "stdout",
     "output_type": "stream",
     "text": [
      "Epoch 5, Batch 0, position loss: 14851.849609375 reconstruction loss: 38.62007141113281 RMSE(mm): 60.9340824362175\n"
     ]
    },
    {
     "name": "stderr",
     "output_type": "stream",
     "text": [
      "101it [00:32,  3.07it/s]"
     ]
    },
    {
     "name": "stdout",
     "output_type": "stream",
     "text": [
      "Epoch 5, Batch 100, position loss: 11519.576171875 reconstruction loss: 22.145751953125 RMSE(mm): 53.66464425456252\n"
     ]
    },
    {
     "name": "stderr",
     "output_type": "stream",
     "text": [
      "201it [01:05,  3.02it/s]"
     ]
    },
    {
     "name": "stdout",
     "output_type": "stream",
     "text": [
      "Epoch 5, Batch 200, position loss: 19242.099609375 reconstruction loss: 56.362037658691406 RMSE(mm): 69.35794765089109\n"
     ]
    },
    {
     "name": "stderr",
     "output_type": "stream",
     "text": [
      "236it [01:16,  3.07it/s]\n"
     ]
    },
    {
     "name": "stdout",
     "output_type": "stream",
     "text": [
      "Epoch 5, Val Loss: 21942.48736447704, RMSE(mm): 68.19697732625792\n",
      "Epoch 5, test Loss: 23333.03437898597, RMSE(mm): 62.99626094694509\n"
     ]
    },
    {
     "name": "stderr",
     "output_type": "stream",
     "text": [
      "1it [00:00,  3.08it/s]"
     ]
    },
    {
     "name": "stdout",
     "output_type": "stream",
     "text": [
      "Epoch 6, Batch 0, position loss: 14883.9853515625 reconstruction loss: 37.49253463745117 RMSE(mm): 60.99996998270266\n"
     ]
    },
    {
     "name": "stderr",
     "output_type": "stream",
     "text": [
      "101it [00:32,  3.07it/s]"
     ]
    },
    {
     "name": "stdout",
     "output_type": "stream",
     "text": [
      "Epoch 6, Batch 100, position loss: 11006.708984375 reconstruction loss: 22.218856811523438 RMSE(mm): 52.45643188488663\n"
     ]
    },
    {
     "name": "stderr",
     "output_type": "stream",
     "text": [
      "201it [01:05,  3.07it/s]"
     ]
    },
    {
     "name": "stdout",
     "output_type": "stream",
     "text": [
      "Epoch 6, Batch 200, position loss: 14770.130859375 reconstruction loss: 53.86145782470703 RMSE(mm): 60.76621359640364\n"
     ]
    },
    {
     "name": "stderr",
     "output_type": "stream",
     "text": [
      "236it [01:16,  3.07it/s]\n"
     ]
    },
    {
     "name": "stdout",
     "output_type": "stream",
     "text": [
      "Epoch 6, Val Loss: 20378.26165896046, RMSE(mm): 65.30151244727632\n",
      "Epoch 6, test Loss: 21969.456552933672, RMSE(mm): 60.32676300335276\n"
     ]
    },
    {
     "name": "stderr",
     "output_type": "stream",
     "text": [
      "1it [00:00,  3.07it/s]"
     ]
    },
    {
     "name": "stdout",
     "output_type": "stream",
     "text": [
      "Epoch 7, Batch 0, position loss: 11035.033203125 reconstruction loss: 36.89301681518555 RMSE(mm): 52.52388314644349\n"
     ]
    },
    {
     "name": "stderr",
     "output_type": "stream",
     "text": [
      "101it [00:32,  3.05it/s]"
     ]
    },
    {
     "name": "stdout",
     "output_type": "stream",
     "text": [
      "Epoch 7, Batch 100, position loss: 10050.84765625 reconstruction loss: 22.205108642578125 RMSE(mm): 50.12695795739554\n"
     ]
    },
    {
     "name": "stderr",
     "output_type": "stream",
     "text": [
      "201it [01:05,  3.06it/s]"
     ]
    },
    {
     "name": "stdout",
     "output_type": "stream",
     "text": [
      "Epoch 7, Batch 200, position loss: 13535.3017578125 reconstruction loss: 53.73344421386719 RMSE(mm): 58.17065789083982\n"
     ]
    },
    {
     "name": "stderr",
     "output_type": "stream",
     "text": [
      "236it [01:16,  3.07it/s]\n"
     ]
    },
    {
     "name": "stdout",
     "output_type": "stream",
     "text": [
      "Epoch 7, Val Loss: 20435.708227040817, RMSE(mm): 65.39907299499673\n",
      "Epoch 7, test Loss: 22087.33051658163, RMSE(mm): 60.601381818209944\n"
     ]
    },
    {
     "name": "stderr",
     "output_type": "stream",
     "text": [
      "1it [00:00,  3.08it/s]"
     ]
    },
    {
     "name": "stdout",
     "output_type": "stream",
     "text": [
      "Epoch 8, Batch 0, position loss: 10268.1201171875 reconstruction loss: 36.93926239013672 RMSE(mm): 50.665866510865825\n"
     ]
    },
    {
     "name": "stderr",
     "output_type": "stream",
     "text": [
      "101it [00:32,  3.06it/s]"
     ]
    },
    {
     "name": "stdout",
     "output_type": "stream",
     "text": [
      "Epoch 8, Batch 100, position loss: 9298.185546875 reconstruction loss: 22.16684913635254 RMSE(mm): 48.213549824906586\n"
     ]
    },
    {
     "name": "stderr",
     "output_type": "stream",
     "text": [
      "201it [01:05,  3.07it/s]"
     ]
    },
    {
     "name": "stdout",
     "output_type": "stream",
     "text": [
      "Epoch 8, Batch 200, position loss: 12133.845703125 reconstruction loss: 53.69171905517578 RMSE(mm): 55.076868336727806\n"
     ]
    },
    {
     "name": "stderr",
     "output_type": "stream",
     "text": [
      "236it [01:16,  3.07it/s]\n"
     ]
    },
    {
     "name": "stdout",
     "output_type": "stream",
     "text": [
      "Epoch 8, Val Loss: 20812.142538265307, RMSE(mm): 66.0995221854691\n",
      "Epoch 8, test Loss: 22521.79829001913, RMSE(mm): 61.516411821477924\n"
     ]
    },
    {
     "name": "stderr",
     "output_type": "stream",
     "text": [
      "1it [00:00,  3.06it/s]"
     ]
    },
    {
     "name": "stdout",
     "output_type": "stream",
     "text": [
      "Epoch 9, Batch 0, position loss: 9729.36328125 reconstruction loss: 36.97942352294922 RMSE(mm): 49.31876742491138\n"
     ]
    },
    {
     "name": "stderr",
     "output_type": "stream",
     "text": [
      "101it [00:33,  3.06it/s]"
     ]
    },
    {
     "name": "stdout",
     "output_type": "stream",
     "text": [
      "Epoch 9, Batch 100, position loss: 8445.6728515625 reconstruction loss: 22.155441284179688 RMSE(mm): 45.9501709778171\n"
     ]
    },
    {
     "name": "stderr",
     "output_type": "stream",
     "text": [
      "201it [01:05,  3.06it/s]"
     ]
    },
    {
     "name": "stdout",
     "output_type": "stream",
     "text": [
      "Epoch 9, Batch 200, position loss: 10173.650390625 reconstruction loss: 53.57072830200195 RMSE(mm): 50.4322575110043\n"
     ]
    },
    {
     "name": "stderr",
     "output_type": "stream",
     "text": [
      "236it [01:16,  3.07it/s]\n"
     ]
    },
    {
     "name": "stdout",
     "output_type": "stream",
     "text": [
      "Epoch 9, Val Loss: 21353.30325255102, RMSE(mm): 67.10129917211691\n",
      "Epoch 9, test Loss: 23010.950414540817, RMSE(mm): 62.52437399407852\n"
     ]
    },
    {
     "name": "stderr",
     "output_type": "stream",
     "text": [
      "1it [00:00,  3.07it/s]"
     ]
    },
    {
     "name": "stdout",
     "output_type": "stream",
     "text": [
      "Epoch 10, Batch 0, position loss: 8398.25 reconstruction loss: 36.97848892211914 RMSE(mm): 45.82098318456294\n"
     ]
    },
    {
     "name": "stderr",
     "output_type": "stream",
     "text": [
      "101it [00:33,  3.03it/s]"
     ]
    },
    {
     "name": "stdout",
     "output_type": "stream",
     "text": [
      "Epoch 10, Batch 100, position loss: 7619.7900390625 reconstruction loss: 22.11881446838379 RMSE(mm): 43.645704367848445\n"
     ]
    },
    {
     "name": "stderr",
     "output_type": "stream",
     "text": [
      "201it [01:05,  3.07it/s]"
     ]
    },
    {
     "name": "stdout",
     "output_type": "stream",
     "text": [
      "Epoch 10, Batch 200, position loss: 7894.5087890625 reconstruction loss: 53.41910171508789 RMSE(mm): 44.42552416421921\n"
     ]
    },
    {
     "name": "stderr",
     "output_type": "stream",
     "text": [
      "236it [01:16,  3.07it/s]\n"
     ]
    },
    {
     "name": "stdout",
     "output_type": "stream",
     "text": [
      "Epoch 10, Val Loss: 22063.277443399234, RMSE(mm): 68.40120070665023\n",
      "Epoch 10, test Loss: 23582.165537308672, RMSE(mm): 63.68005131708181\n"
     ]
    },
    {
     "name": "stderr",
     "output_type": "stream",
     "text": [
      "1it [00:00,  3.05it/s]"
     ]
    },
    {
     "name": "stdout",
     "output_type": "stream",
     "text": [
      "Epoch 11, Batch 0, position loss: 7237.6025390625 reconstruction loss: 36.90217208862305 RMSE(mm): 42.537050141795504\n"
     ]
    },
    {
     "name": "stderr",
     "output_type": "stream",
     "text": [
      "101it [00:32,  3.06it/s]"
     ]
    },
    {
     "name": "stdout",
     "output_type": "stream",
     "text": [
      "Epoch 11, Batch 100, position loss: 6908.70458984375 reconstruction loss: 22.06186294555664 RMSE(mm): 41.559308794311505\n"
     ]
    },
    {
     "name": "stderr",
     "output_type": "stream",
     "text": [
      "201it [01:05,  3.06it/s]"
     ]
    },
    {
     "name": "stdout",
     "output_type": "stream",
     "text": [
      "Epoch 11, Batch 200, position loss: 6148.08203125 reconstruction loss: 53.2225341796875 RMSE(mm): 39.20485311555828\n"
     ]
    },
    {
     "name": "stderr",
     "output_type": "stream",
     "text": [
      "236it [01:16,  3.07it/s]\n"
     ]
    },
    {
     "name": "stdout",
     "output_type": "stream",
     "text": [
      "Epoch 11, Val Loss: 22669.42916932398, RMSE(mm): 69.49840519965161\n",
      "Epoch 11, test Loss: 24241.771185427297, RMSE(mm): 64.99313871140514\n"
     ]
    },
    {
     "name": "stderr",
     "output_type": "stream",
     "text": [
      "1it [00:00,  3.09it/s]"
     ]
    },
    {
     "name": "stdout",
     "output_type": "stream",
     "text": [
      "Epoch 12, Batch 0, position loss: 5860.82177734375 reconstruction loss: 36.78861618041992 RMSE(mm): 38.278002094361426\n"
     ]
    },
    {
     "name": "stderr",
     "output_type": "stream",
     "text": [
      "101it [00:32,  3.07it/s]"
     ]
    },
    {
     "name": "stdout",
     "output_type": "stream",
     "text": [
      "Epoch 12, Batch 100, position loss: 7833.3125 reconstruction loss: 22.765859603881836 RMSE(mm): 44.25300131064559\n"
     ]
    },
    {
     "name": "stderr",
     "output_type": "stream",
     "text": [
      "201it [01:05,  3.05it/s]"
     ]
    },
    {
     "name": "stdout",
     "output_type": "stream",
     "text": [
      "Epoch 12, Batch 200, position loss: 5785.640625 reconstruction loss: 52.28583526611328 RMSE(mm): 38.031699360533445\n"
     ]
    },
    {
     "name": "stderr",
     "output_type": "stream",
     "text": [
      "236it [01:16,  3.07it/s]\n"
     ]
    },
    {
     "name": "stdout",
     "output_type": "stream",
     "text": [
      "Epoch 12, Val Loss: 22866.076929209183, RMSE(mm): 69.84411954386212\n",
      "Epoch 12, test Loss: 24265.435546875, RMSE(mm): 65.03204883622423\n"
     ]
    },
    {
     "name": "stderr",
     "output_type": "stream",
     "text": [
      "1it [00:00,  3.06it/s]"
     ]
    },
    {
     "name": "stdout",
     "output_type": "stream",
     "text": [
      "Epoch 13, Batch 0, position loss: 6411.08251953125 reconstruction loss: 36.70917892456055 RMSE(mm): 40.03461789355323\n"
     ]
    },
    {
     "name": "stderr",
     "output_type": "stream",
     "text": [
      "101it [00:32,  3.06it/s]"
     ]
    },
    {
     "name": "stdout",
     "output_type": "stream",
     "text": [
      "Epoch 13, Batch 100, position loss: 7255.140625 reconstruction loss: 22.574153900146484 RMSE(mm): 42.58855663496944\n"
     ]
    },
    {
     "name": "stderr",
     "output_type": "stream",
     "text": [
      "201it [01:05,  3.07it/s]"
     ]
    },
    {
     "name": "stdout",
     "output_type": "stream",
     "text": [
      "Epoch 13, Batch 200, position loss: 5756.56787109375 reconstruction loss: 52.32120895385742 RMSE(mm): 37.93602467013956\n"
     ]
    },
    {
     "name": "stderr",
     "output_type": "stream",
     "text": [
      "236it [01:16,  3.07it/s]\n"
     ]
    },
    {
     "name": "stdout",
     "output_type": "stream",
     "text": [
      "Epoch 13, Val Loss: 22913.58645567602, RMSE(mm): 69.93015800400713\n",
      "Epoch 13, test Loss: 24272.672273596938, RMSE(mm): 65.04775587124834\n"
     ]
    },
    {
     "name": "stderr",
     "output_type": "stream",
     "text": [
      "1it [00:00,  3.06it/s]"
     ]
    },
    {
     "name": "stdout",
     "output_type": "stream",
     "text": [
      "Epoch 14, Batch 0, position loss: 5895.74267578125 reconstruction loss: 36.689239501953125 RMSE(mm): 38.39186982871911\n"
     ]
    },
    {
     "name": "stderr",
     "output_type": "stream",
     "text": [
      "101it [00:32,  3.06it/s]"
     ]
    },
    {
     "name": "stdout",
     "output_type": "stream",
     "text": [
      "Epoch 14, Batch 100, position loss: 6903.13427734375 reconstruction loss: 22.528127670288086 RMSE(mm): 41.54255130990317\n"
     ]
    },
    {
     "name": "stderr",
     "output_type": "stream",
     "text": [
      "201it [01:05,  3.06it/s]"
     ]
    },
    {
     "name": "stdout",
     "output_type": "stream",
     "text": [
      "Epoch 14, Batch 200, position loss: 5473.890625 reconstruction loss: 52.30864715576172 RMSE(mm): 36.99287304670996\n"
     ]
    },
    {
     "name": "stderr",
     "output_type": "stream",
     "text": [
      "236it [01:16,  3.07it/s]\n"
     ]
    },
    {
     "name": "stdout",
     "output_type": "stream",
     "text": [
      "Epoch 14, Val Loss: 22954.479731345662, RMSE(mm): 70.0046158316946\n",
      "Epoch 14, test Loss: 24319.108478156886, RMSE(mm): 65.14088062165617\n"
     ]
    },
    {
     "name": "stderr",
     "output_type": "stream",
     "text": [
      "Some weights of DeiTForMaskedImageModeling were not initialized from the model checkpoint at facebook/deit-base-distilled-patch16-224 and are newly initialized: ['decoder.0.weight', 'decoder.0.bias', 'deit.embeddings.mask_token']\n",
      "You should probably TRAIN this model on a down-stream task to be able to use it for predictions and inference.\n",
      "Some weights of DeiTForMaskedImageModeling were not initialized from the model checkpoint at facebook/deit-base-distilled-patch16-224 and are newly initialized because the shapes did not match:\n",
      "- deit.embeddings.position_embeddings: found shape torch.Size([1, 198, 768]) in the checkpoint and torch.Size([1, 258, 768]) in the model instantiated\n",
      "- deit.embeddings.patch_embeddings.projection.weight: found shape torch.Size([768, 3, 16, 16]) in the checkpoint and torch.Size([768, 256, 8, 1]) in the model instantiated\n",
      "You should probably TRAIN this model on a down-stream task to be able to use it for predictions and inference.\n"
     ]
    },
    {
     "name": "stdout",
     "output_type": "stream",
     "text": [
      "create dataloader...\n",
      "HI\n",
      "training...\n"
     ]
    },
    {
     "name": "stderr",
     "output_type": "stream",
     "text": [
      "1it [00:00,  2.13it/s]"
     ]
    },
    {
     "name": "stdout",
     "output_type": "stream",
     "text": [
      "Epoch 0, Batch 0, position loss: 169479.4375 reconstruction loss: 79.9896011352539 RMSE(mm): 205.83940190109377\n"
     ]
    },
    {
     "name": "stderr",
     "output_type": "stream",
     "text": [
      "101it [00:33,  3.07it/s]"
     ]
    },
    {
     "name": "stdout",
     "output_type": "stream",
     "text": [
      "Epoch 0, Batch 100, position loss: 24699.85546875 reconstruction loss: 34.22918701171875 RMSE(mm): 78.58093831959185\n"
     ]
    },
    {
     "name": "stderr",
     "output_type": "stream",
     "text": [
      "201it [01:05,  3.06it/s]"
     ]
    },
    {
     "name": "stdout",
     "output_type": "stream",
     "text": [
      "Epoch 0, Batch 200, position loss: 33554.96875 reconstruction loss: 93.65973663330078 RMSE(mm): 91.59007690519753\n"
     ]
    },
    {
     "name": "stderr",
     "output_type": "stream",
     "text": [
      "236it [01:17,  3.06it/s]\n"
     ]
    },
    {
     "name": "stdout",
     "output_type": "stream",
     "text": [
      "Epoch 0, Val Loss: 28962.05448820153, RMSE(mm): 77.08448758242494\n",
      "Epoch 0, test Loss: 34508.755381058676, RMSE(mm): 76.03941128073598\n"
     ]
    },
    {
     "name": "stderr",
     "output_type": "stream",
     "text": [
      "1it [00:00,  3.06it/s]"
     ]
    },
    {
     "name": "stdout",
     "output_type": "stream",
     "text": [
      "Epoch 1, Batch 0, position loss: 23558.30078125 reconstruction loss: 55.40347671508789 RMSE(mm): 76.74356777810438\n"
     ]
    },
    {
     "name": "stderr",
     "output_type": "stream",
     "text": [
      "101it [00:32,  3.07it/s]"
     ]
    },
    {
     "name": "stdout",
     "output_type": "stream",
     "text": [
      "Epoch 1, Batch 100, position loss: 17169.39453125 reconstruction loss: 31.73587989807129 RMSE(mm): 65.51601813917341\n"
     ]
    },
    {
     "name": "stderr",
     "output_type": "stream",
     "text": [
      "201it [01:05,  3.07it/s]"
     ]
    },
    {
     "name": "stdout",
     "output_type": "stream",
     "text": [
      "Epoch 1, Batch 200, position loss: 28541.169921875 reconstruction loss: 87.21029663085938 RMSE(mm): 84.47066047136573\n"
     ]
    },
    {
     "name": "stderr",
     "output_type": "stream",
     "text": [
      "236it [01:16,  3.07it/s]\n"
     ]
    },
    {
     "name": "stdout",
     "output_type": "stream",
     "text": [
      "Epoch 1, Val Loss: 24128.66874601403, RMSE(mm): 69.27859856944634\n",
      "Epoch 1, test Loss: 29020.4130859375, RMSE(mm): 67.0185895514369\n"
     ]
    },
    {
     "name": "stderr",
     "output_type": "stream",
     "text": [
      "1it [00:00,  3.08it/s]"
     ]
    },
    {
     "name": "stdout",
     "output_type": "stream",
     "text": [
      "Epoch 2, Batch 0, position loss: 17540.087890625 reconstruction loss: 51.354217529296875 RMSE(mm): 66.21949843253307\n"
     ]
    },
    {
     "name": "stderr",
     "output_type": "stream",
     "text": [
      "101it [00:32,  3.06it/s]"
     ]
    },
    {
     "name": "stdout",
     "output_type": "stream",
     "text": [
      "Epoch 2, Batch 100, position loss: 14019.69921875 reconstruction loss: 27.190296173095703 RMSE(mm): 59.20240539612812\n"
     ]
    },
    {
     "name": "stderr",
     "output_type": "stream",
     "text": [
      "201it [01:05,  3.07it/s]"
     ]
    },
    {
     "name": "stdout",
     "output_type": "stream",
     "text": [
      "Epoch 2, Batch 200, position loss: 25477.263671875 reconstruction loss: 76.35609436035156 RMSE(mm): 79.80799407307985\n"
     ]
    },
    {
     "name": "stderr",
     "output_type": "stream",
     "text": [
      "236it [01:16,  3.07it/s]\n"
     ]
    },
    {
     "name": "stdout",
     "output_type": "stream",
     "text": [
      "Epoch 2, Val Loss: 22990.453742825255, RMSE(mm): 67.68464233455028\n",
      "Epoch 2, test Loss: 27315.21432557398, RMSE(mm): 64.59980919919984\n"
     ]
    },
    {
     "name": "stderr",
     "output_type": "stream",
     "text": [
      "1it [00:00,  3.07it/s]"
     ]
    },
    {
     "name": "stdout",
     "output_type": "stream",
     "text": [
      "Epoch 3, Batch 0, position loss: 15672.513671875 reconstruction loss: 46.89096450805664 RMSE(mm): 62.594955211812\n"
     ]
    },
    {
     "name": "stderr",
     "output_type": "stream",
     "text": [
      "101it [00:33,  3.07it/s]"
     ]
    },
    {
     "name": "stdout",
     "output_type": "stream",
     "text": [
      "Epoch 3, Batch 100, position loss: 13536.90625 reconstruction loss: 24.165061950683594 RMSE(mm): 58.1741056012037\n"
     ]
    },
    {
     "name": "stderr",
     "output_type": "stream",
     "text": [
      "201it [01:05,  3.07it/s]"
     ]
    },
    {
     "name": "stdout",
     "output_type": "stream",
     "text": [
      "Epoch 3, Batch 200, position loss: 21604.1015625 reconstruction loss: 68.55838775634766 RMSE(mm): 73.49166885181612\n"
     ]
    },
    {
     "name": "stderr",
     "output_type": "stream",
     "text": [
      "236it [01:16,  3.07it/s]\n"
     ]
    },
    {
     "name": "stdout",
     "output_type": "stream",
     "text": [
      "Epoch 3, Val Loss: 21978.62456154337, RMSE(mm): 66.30130595724222\n",
      "Epoch 3, test Loss: 26027.467036033162, RMSE(mm): 62.9459072214352\n"
     ]
    },
    {
     "name": "stderr",
     "output_type": "stream",
     "text": [
      "1it [00:00,  3.07it/s]"
     ]
    },
    {
     "name": "stdout",
     "output_type": "stream",
     "text": [
      "Epoch 4, Batch 0, position loss: 14079.2568359375 reconstruction loss: 42.34775924682617 RMSE(mm): 59.328022122639275\n"
     ]
    },
    {
     "name": "stderr",
     "output_type": "stream",
     "text": [
      "101it [00:32,  3.06it/s]"
     ]
    },
    {
     "name": "stdout",
     "output_type": "stream",
     "text": [
      "Epoch 4, Batch 100, position loss: 13064.0341796875 reconstruction loss: 22.586713790893555 RMSE(mm): 57.149003008992864\n"
     ]
    },
    {
     "name": "stderr",
     "output_type": "stream",
     "text": [
      "201it [01:05,  3.07it/s]"
     ]
    },
    {
     "name": "stdout",
     "output_type": "stream",
     "text": [
      "Epoch 4, Batch 200, position loss: 21506.01953125 reconstruction loss: 62.526615142822266 RMSE(mm): 73.32465399040422\n"
     ]
    },
    {
     "name": "stderr",
     "output_type": "stream",
     "text": [
      "236it [01:16,  3.07it/s]\n"
     ]
    },
    {
     "name": "stdout",
     "output_type": "stream",
     "text": [
      "Epoch 4, Val Loss: 22171.34199617347, RMSE(mm): 66.94694816481622\n",
      "Epoch 4, test Loss: 25896.291753029338, RMSE(mm): 63.32082997064423\n"
     ]
    },
    {
     "name": "stderr",
     "output_type": "stream",
     "text": [
      "1it [00:00,  3.06it/s]"
     ]
    },
    {
     "name": "stdout",
     "output_type": "stream",
     "text": [
      "Epoch 5, Batch 0, position loss: 12878.033203125 reconstruction loss: 39.68135070800781 RMSE(mm): 56.7407111409546\n"
     ]
    },
    {
     "name": "stderr",
     "output_type": "stream",
     "text": [
      "101it [00:32,  3.07it/s]"
     ]
    },
    {
     "name": "stdout",
     "output_type": "stream",
     "text": [
      "Epoch 5, Batch 100, position loss: 12077.22265625 reconstruction loss: 22.052907943725586 RMSE(mm): 54.94820892497316\n"
     ]
    },
    {
     "name": "stderr",
     "output_type": "stream",
     "text": [
      "201it [01:05,  3.06it/s]"
     ]
    },
    {
     "name": "stdout",
     "output_type": "stream",
     "text": [
      "Epoch 5, Batch 200, position loss: 19644.5 reconstruction loss: 58.89848709106445 RMSE(mm): 70.07941923275335\n"
     ]
    },
    {
     "name": "stderr",
     "output_type": "stream",
     "text": [
      "236it [01:16,  3.07it/s]\n"
     ]
    },
    {
     "name": "stdout",
     "output_type": "stream",
     "text": [
      "Epoch 5, Val Loss: 22826.03053252551, RMSE(mm): 68.25646229369148\n",
      "Epoch 5, test Loss: 26240.56034757653, RMSE(mm): 64.41958279963293\n"
     ]
    },
    {
     "name": "stderr",
     "output_type": "stream",
     "text": [
      "1it [00:00,  3.06it/s]"
     ]
    },
    {
     "name": "stdout",
     "output_type": "stream",
     "text": [
      "Epoch 6, Batch 0, position loss: 11240.8701171875 reconstruction loss: 37.99588394165039 RMSE(mm): 53.01148488107907\n"
     ]
    },
    {
     "name": "stderr",
     "output_type": "stream",
     "text": [
      "101it [00:32,  3.06it/s]"
     ]
    },
    {
     "name": "stdout",
     "output_type": "stream",
     "text": [
      "Epoch 6, Batch 100, position loss: 10357.755859375 reconstruction loss: 22.140579223632812 RMSE(mm): 50.88653028890602\n"
     ]
    },
    {
     "name": "stderr",
     "output_type": "stream",
     "text": [
      "201it [01:05,  3.06it/s]"
     ]
    },
    {
     "name": "stdout",
     "output_type": "stream",
     "text": [
      "Epoch 6, Batch 200, position loss: 12221.369140625 reconstruction loss: 54.8331298828125 RMSE(mm): 55.275150702248204\n"
     ]
    },
    {
     "name": "stderr",
     "output_type": "stream",
     "text": [
      "236it [01:16,  3.07it/s]\n"
     ]
    },
    {
     "name": "stdout",
     "output_type": "stream",
     "text": [
      "Epoch 6, Val Loss: 21978.228595344386, RMSE(mm): 66.70396009690889\n",
      "Epoch 6, test Loss: 24907.963727678572, RMSE(mm): 61.88259550306363\n"
     ]
    },
    {
     "name": "stderr",
     "output_type": "stream",
     "text": [
      "1it [00:00,  3.06it/s]"
     ]
    },
    {
     "name": "stdout",
     "output_type": "stream",
     "text": [
      "Epoch 7, Batch 0, position loss: 8206.6123046875 reconstruction loss: 37.08668518066406 RMSE(mm): 45.29517718446275\n"
     ]
    },
    {
     "name": "stderr",
     "output_type": "stream",
     "text": [
      "101it [00:32,  3.07it/s]"
     ]
    },
    {
     "name": "stdout",
     "output_type": "stream",
     "text": [
      "Epoch 7, Batch 100, position loss: 9006.7646484375 reconstruction loss: 21.998516082763672 RMSE(mm): 47.45198796793844\n"
     ]
    },
    {
     "name": "stderr",
     "output_type": "stream",
     "text": [
      "201it [01:05,  3.06it/s]"
     ]
    },
    {
     "name": "stdout",
     "output_type": "stream",
     "text": [
      "Epoch 7, Batch 200, position loss: 9787.6728515625 reconstruction loss: 54.6818962097168 RMSE(mm): 49.46633413636617\n"
     ]
    },
    {
     "name": "stderr",
     "output_type": "stream",
     "text": [
      "236it [01:16,  3.07it/s]\n"
     ]
    },
    {
     "name": "stdout",
     "output_type": "stream",
     "text": [
      "Epoch 7, Val Loss: 22247.20268654337, RMSE(mm): 67.1711049867805\n",
      "Epoch 7, test Loss: 25123.287069515307, RMSE(mm): 62.33907854857749\n"
     ]
    },
    {
     "name": "stderr",
     "output_type": "stream",
     "text": [
      "1it [00:00,  3.04it/s]"
     ]
    },
    {
     "name": "stdout",
     "output_type": "stream",
     "text": [
      "Epoch 8, Batch 0, position loss: 7255.2470703125 reconstruction loss: 37.05946350097656 RMSE(mm): 42.5888690572798\n"
     ]
    },
    {
     "name": "stderr",
     "output_type": "stream",
     "text": [
      "101it [00:32,  3.07it/s]"
     ]
    },
    {
     "name": "stdout",
     "output_type": "stream",
     "text": [
      "Epoch 8, Batch 100, position loss: 8573.7763671875 reconstruction loss: 22.002182006835938 RMSE(mm): 46.297344327692\n"
     ]
    },
    {
     "name": "stderr",
     "output_type": "stream",
     "text": [
      "201it [01:05,  3.05it/s]"
     ]
    },
    {
     "name": "stdout",
     "output_type": "stream",
     "text": [
      "Epoch 8, Batch 200, position loss: 7843.6396484375 reconstruction loss: 54.5502815246582 RMSE(mm): 44.282162459723835\n"
     ]
    },
    {
     "name": "stderr",
     "output_type": "stream",
     "text": [
      "236it [01:16,  3.07it/s]\n"
     ]
    },
    {
     "name": "stdout",
     "output_type": "stream",
     "text": [
      "Epoch 8, Val Loss: 22737.81425382653, RMSE(mm): 68.05450072520752\n",
      "Epoch 8, test Loss: 25528.301538584183, RMSE(mm): 63.17270965233516\n"
     ]
    },
    {
     "name": "stderr",
     "output_type": "stream",
     "text": [
      "1it [00:00,  3.06it/s]"
     ]
    },
    {
     "name": "stdout",
     "output_type": "stream",
     "text": [
      "Epoch 9, Batch 0, position loss: 6523.353515625 reconstruction loss: 37.09638214111328 RMSE(mm): 40.3836399907964\n"
     ]
    },
    {
     "name": "stderr",
     "output_type": "stream",
     "text": [
      "101it [00:32,  3.06it/s]"
     ]
    },
    {
     "name": "stdout",
     "output_type": "stream",
     "text": [
      "Epoch 9, Batch 100, position loss: 7568.04296875 reconstruction loss: 22.032590866088867 RMSE(mm): 43.49724982326469\n"
     ]
    },
    {
     "name": "stderr",
     "output_type": "stream",
     "text": [
      "201it [01:05,  3.04it/s]"
     ]
    },
    {
     "name": "stdout",
     "output_type": "stream",
     "text": [
      "Epoch 9, Batch 200, position loss: 6775.4931640625 reconstruction loss: 54.38695526123047 RMSE(mm): 41.15669193479506\n"
     ]
    },
    {
     "name": "stderr",
     "output_type": "stream",
     "text": [
      "236it [01:16,  3.07it/s]\n"
     ]
    },
    {
     "name": "stdout",
     "output_type": "stream",
     "text": [
      "Epoch 9, Val Loss: 23344.238380899234, RMSE(mm): 69.1477797196025\n",
      "Epoch 9, test Loss: 26114.279137436224, RMSE(mm): 64.3562885915425\n"
     ]
    },
    {
     "name": "stderr",
     "output_type": "stream",
     "text": [
      "1it [00:00,  3.04it/s]"
     ]
    },
    {
     "name": "stdout",
     "output_type": "stream",
     "text": [
      "Epoch 10, Batch 0, position loss: 5658.7451171875 reconstruction loss: 37.096839904785156 RMSE(mm): 37.61231552692382\n"
     ]
    },
    {
     "name": "stderr",
     "output_type": "stream",
     "text": [
      "101it [00:32,  3.07it/s]"
     ]
    },
    {
     "name": "stdout",
     "output_type": "stream",
     "text": [
      "Epoch 10, Batch 100, position loss: 6472.92724609375 reconstruction loss: 22.043960571289062 RMSE(mm): 40.227252100080584\n"
     ]
    },
    {
     "name": "stderr",
     "output_type": "stream",
     "text": [
      "201it [01:05,  3.07it/s]"
     ]
    },
    {
     "name": "stdout",
     "output_type": "stream",
     "text": [
      "Epoch 10, Batch 200, position loss: 5240.0390625 reconstruction loss: 54.199859619140625 RMSE(mm): 36.194057048429926\n"
     ]
    },
    {
     "name": "stderr",
     "output_type": "stream",
     "text": [
      "236it [01:16,  3.07it/s]\n"
     ]
    },
    {
     "name": "stdout",
     "output_type": "stream",
     "text": [
      "Epoch 10, Val Loss: 23997.117406728317, RMSE(mm): 70.31482077023149\n",
      "Epoch 10, test Loss: 26859.865632971938, RMSE(mm): 65.82418519650751\n"
     ]
    },
    {
     "name": "stderr",
     "output_type": "stream",
     "text": [
      "1it [00:00,  3.05it/s]"
     ]
    },
    {
     "name": "stdout",
     "output_type": "stream",
     "text": [
      "Epoch 11, Batch 0, position loss: 5084.810546875 reconstruction loss: 37.09218215942383 RMSE(mm): 35.65392876975481\n"
     ]
    },
    {
     "name": "stderr",
     "output_type": "stream",
     "text": [
      "101it [00:33,  3.05it/s]"
     ]
    },
    {
     "name": "stdout",
     "output_type": "stream",
     "text": [
      "Epoch 11, Batch 100, position loss: 5492.11865234375 reconstruction loss: 21.977643966674805 RMSE(mm): 37.054414893315176\n"
     ]
    },
    {
     "name": "stderr",
     "output_type": "stream",
     "text": [
      "201it [01:05,  3.05it/s]"
     ]
    },
    {
     "name": "stdout",
     "output_type": "stream",
     "text": [
      "Epoch 11, Batch 200, position loss: 4291.48388671875 reconstruction loss: 54.030914306640625 RMSE(mm): 32.75470915272623\n"
     ]
    },
    {
     "name": "stderr",
     "output_type": "stream",
     "text": [
      "236it [01:16,  3.07it/s]\n"
     ]
    },
    {
     "name": "stdout",
     "output_type": "stream",
     "text": [
      "Epoch 11, Val Loss: 24651.21797273597, RMSE(mm): 71.46939723344524\n",
      "Epoch 11, test Loss: 27659.93526785714, RMSE(mm): 67.36618377523057\n"
     ]
    },
    {
     "name": "stderr",
     "output_type": "stream",
     "text": [
      "1it [00:00,  3.06it/s]"
     ]
    },
    {
     "name": "stdout",
     "output_type": "stream",
     "text": [
      "Epoch 12, Batch 0, position loss: 4571.8759765625 reconstruction loss: 37.062713623046875 RMSE(mm): 33.80782445145835\n"
     ]
    },
    {
     "name": "stderr",
     "output_type": "stream",
     "text": [
      "101it [00:32,  3.06it/s]"
     ]
    },
    {
     "name": "stdout",
     "output_type": "stream",
     "text": [
      "Epoch 12, Batch 100, position loss: 6379.57080078125 reconstruction loss: 22.924314498901367 RMSE(mm): 39.9361077246558\n"
     ]
    },
    {
     "name": "stderr",
     "output_type": "stream",
     "text": [
      "201it [01:05,  3.06it/s]"
     ]
    },
    {
     "name": "stdout",
     "output_type": "stream",
     "text": [
      "Epoch 12, Batch 200, position loss: 4172.3017578125 reconstruction loss: 53.20944595336914 RMSE(mm): 32.29667845852148\n"
     ]
    },
    {
     "name": "stderr",
     "output_type": "stream",
     "text": [
      "236it [01:16,  3.07it/s]\n"
     ]
    },
    {
     "name": "stdout",
     "output_type": "stream",
     "text": [
      "Epoch 12, Val Loss: 24590.62723214286, RMSE(mm): 71.37137925531245\n",
      "Epoch 12, test Loss: 26931.48457429847, RMSE(mm): 66.0248624439173\n"
     ]
    },
    {
     "name": "stderr",
     "output_type": "stream",
     "text": [
      "1it [00:00,  3.08it/s]"
     ]
    },
    {
     "name": "stdout",
     "output_type": "stream",
     "text": [
      "Epoch 13, Batch 0, position loss: 4489.54833984375 reconstruction loss: 36.69076156616211 RMSE(mm): 33.50204598171487\n"
     ]
    },
    {
     "name": "stderr",
     "output_type": "stream",
     "text": [
      "101it [00:32,  3.06it/s]"
     ]
    },
    {
     "name": "stdout",
     "output_type": "stream",
     "text": [
      "Epoch 13, Batch 100, position loss: 6019.43896484375 reconstruction loss: 22.808692932128906 RMSE(mm): 38.79252171760606\n"
     ]
    },
    {
     "name": "stderr",
     "output_type": "stream",
     "text": [
      "201it [01:05,  3.06it/s]"
     ]
    },
    {
     "name": "stdout",
     "output_type": "stream",
     "text": [
      "Epoch 13, Batch 200, position loss: 4160.62841796875 reconstruction loss: 53.201412200927734 RMSE(mm): 32.251466702960776\n"
     ]
    },
    {
     "name": "stderr",
     "output_type": "stream",
     "text": [
      "236it [01:16,  3.07it/s]\n"
     ]
    },
    {
     "name": "stdout",
     "output_type": "stream",
     "text": [
      "Epoch 13, Val Loss: 24598.934729751276, RMSE(mm): 71.38207439603667\n",
      "Epoch 13, test Loss: 26910.951391103317, RMSE(mm): 65.98807026675574\n"
     ]
    },
    {
     "name": "stderr",
     "output_type": "stream",
     "text": [
      "1it [00:00,  3.07it/s]"
     ]
    },
    {
     "name": "stdout",
     "output_type": "stream",
     "text": [
      "Epoch 14, Batch 0, position loss: 4348.98876953125 reconstruction loss: 36.68362045288086 RMSE(mm): 32.973431613691844\n"
     ]
    },
    {
     "name": "stderr",
     "output_type": "stream",
     "text": [
      "101it [00:33,  3.06it/s]"
     ]
    },
    {
     "name": "stdout",
     "output_type": "stream",
     "text": [
      "Epoch 14, Batch 100, position loss: 5997.47265625 reconstruction loss: 22.78691864013672 RMSE(mm): 38.721675636037496\n"
     ]
    },
    {
     "name": "stderr",
     "output_type": "stream",
     "text": [
      "201it [01:05,  3.07it/s]"
     ]
    },
    {
     "name": "stdout",
     "output_type": "stream",
     "text": [
      "Epoch 14, Batch 200, position loss: 3900.18701171875 reconstruction loss: 53.19426345825195 RMSE(mm): 31.225738629049072\n"
     ]
    },
    {
     "name": "stderr",
     "output_type": "stream",
     "text": [
      "236it [01:17,  3.06it/s]\n"
     ]
    },
    {
     "name": "stdout",
     "output_type": "stream",
     "text": [
      "Epoch 14, Val Loss: 24663.19240274235, RMSE(mm): 71.49128035190328\n",
      "Epoch 14, test Loss: 26962.031289859693, RMSE(mm): 66.08678992367156\n"
     ]
    },
    {
     "name": "stderr",
     "output_type": "stream",
     "text": [
      "Some weights of DeiTForMaskedImageModeling were not initialized from the model checkpoint at facebook/deit-base-distilled-patch16-224 and are newly initialized: ['decoder.0.weight', 'decoder.0.bias', 'deit.embeddings.mask_token']\n",
      "You should probably TRAIN this model on a down-stream task to be able to use it for predictions and inference.\n",
      "Some weights of DeiTForMaskedImageModeling were not initialized from the model checkpoint at facebook/deit-base-distilled-patch16-224 and are newly initialized because the shapes did not match:\n",
      "- deit.embeddings.position_embeddings: found shape torch.Size([1, 198, 768]) in the checkpoint and torch.Size([1, 258, 768]) in the model instantiated\n",
      "- deit.embeddings.patch_embeddings.projection.weight: found shape torch.Size([768, 3, 16, 16]) in the checkpoint and torch.Size([768, 256, 8, 1]) in the model instantiated\n",
      "You should probably TRAIN this model on a down-stream task to be able to use it for predictions and inference.\n"
     ]
    },
    {
     "name": "stdout",
     "output_type": "stream",
     "text": [
      "create dataloader...\n",
      "HI\n",
      "training...\n"
     ]
    },
    {
     "name": "stderr",
     "output_type": "stream",
     "text": [
      "1it [00:00,  2.11it/s]"
     ]
    },
    {
     "name": "stdout",
     "output_type": "stream",
     "text": [
      "Epoch 0, Batch 0, position loss: 169621.296875 reconstruction loss: 79.95025634765625 RMSE(mm): 205.92553075990844\n"
     ]
    },
    {
     "name": "stderr",
     "output_type": "stream",
     "text": [
      "101it [00:33,  3.07it/s]"
     ]
    },
    {
     "name": "stdout",
     "output_type": "stream",
     "text": [
      "Epoch 0, Batch 100, position loss: 23785.984375 reconstruction loss: 34.035484313964844 RMSE(mm): 77.11352730714631\n"
     ]
    },
    {
     "name": "stderr",
     "output_type": "stream",
     "text": [
      "201it [01:05,  3.07it/s]"
     ]
    },
    {
     "name": "stdout",
     "output_type": "stream",
     "text": [
      "Epoch 0, Batch 200, position loss: 30533.333984375 reconstruction loss: 81.59526824951172 RMSE(mm): 87.36895041199563\n"
     ]
    },
    {
     "name": "stderr",
     "output_type": "stream",
     "text": [
      "236it [01:16,  3.07it/s]\n"
     ]
    },
    {
     "name": "stdout",
     "output_type": "stream",
     "text": [
      "Epoch 0, Val Loss: 28698.974529655614, RMSE(mm): 75.54509088046949\n",
      "Epoch 0, test Loss: 35995.04193239796, RMSE(mm): 75.44876554918183\n"
     ]
    },
    {
     "name": "stderr",
     "output_type": "stream",
     "text": [
      "1it [00:00,  3.03it/s]"
     ]
    },
    {
     "name": "stdout",
     "output_type": "stream",
     "text": [
      "Epoch 1, Batch 0, position loss: 20799.76953125 reconstruction loss: 52.412384033203125 RMSE(mm): 72.11062600485798\n"
     ]
    },
    {
     "name": "stderr",
     "output_type": "stream",
     "text": [
      "101it [00:32,  3.06it/s]"
     ]
    },
    {
     "name": "stdout",
     "output_type": "stream",
     "text": [
      "Epoch 1, Batch 100, position loss: 19399.181640625 reconstruction loss: 26.257530212402344 RMSE(mm): 69.64047250095486\n"
     ]
    },
    {
     "name": "stderr",
     "output_type": "stream",
     "text": [
      "201it [01:05,  3.07it/s]"
     ]
    },
    {
     "name": "stdout",
     "output_type": "stream",
     "text": [
      "Epoch 1, Batch 200, position loss: 29418.3359375 reconstruction loss: 71.65249633789062 RMSE(mm): 85.75887117013026\n"
     ]
    },
    {
     "name": "stderr",
     "output_type": "stream",
     "text": [
      "236it [01:16,  3.07it/s]\n"
     ]
    },
    {
     "name": "stdout",
     "output_type": "stream",
     "text": [
      "Epoch 1, Val Loss: 24618.371731505104, RMSE(mm): 69.54823696849333\n",
      "Epoch 1, test Loss: 30650.25344786352, RMSE(mm): 67.46052787866198\n"
     ]
    },
    {
     "name": "stderr",
     "output_type": "stream",
     "text": [
      "1it [00:00,  3.05it/s]"
     ]
    },
    {
     "name": "stdout",
     "output_type": "stream",
     "text": [
      "Epoch 2, Batch 0, position loss: 18966.640625 reconstruction loss: 41.781497955322266 RMSE(mm): 68.85971359401664\n"
     ]
    },
    {
     "name": "stderr",
     "output_type": "stream",
     "text": [
      "101it [00:32,  3.04it/s]"
     ]
    },
    {
     "name": "stdout",
     "output_type": "stream",
     "text": [
      "Epoch 2, Batch 100, position loss: 15267.98046875 reconstruction loss: 22.088176727294922 RMSE(mm): 61.781834848015805\n"
     ]
    },
    {
     "name": "stderr",
     "output_type": "stream",
     "text": [
      "201it [01:05,  3.07it/s]"
     ]
    },
    {
     "name": "stdout",
     "output_type": "stream",
     "text": [
      "Epoch 2, Batch 200, position loss: 28020.548828125 reconstruction loss: 63.13446807861328 RMSE(mm): 83.69669770684654\n"
     ]
    },
    {
     "name": "stderr",
     "output_type": "stream",
     "text": [
      "236it [01:16,  3.07it/s]\n"
     ]
    },
    {
     "name": "stdout",
     "output_type": "stream",
     "text": [
      "Epoch 2, Val Loss: 23475.68552694515, RMSE(mm): 67.87040937338482\n",
      "Epoch 2, test Loss: 28426.629504145407, RMSE(mm): 64.06378292487176\n"
     ]
    },
    {
     "name": "stderr",
     "output_type": "stream",
     "text": [
      "1it [00:00,  3.06it/s]"
     ]
    },
    {
     "name": "stdout",
     "output_type": "stream",
     "text": [
      "Epoch 3, Batch 0, position loss: 18755.109375 reconstruction loss: 38.282169342041016 RMSE(mm): 68.47464745254261\n"
     ]
    },
    {
     "name": "stderr",
     "output_type": "stream",
     "text": [
      "101it [00:32,  3.08it/s]"
     ]
    },
    {
     "name": "stdout",
     "output_type": "stream",
     "text": [
      "Epoch 3, Batch 100, position loss: 14251.55078125 reconstruction loss: 21.467422485351562 RMSE(mm): 59.68992959714813\n"
     ]
    },
    {
     "name": "stderr",
     "output_type": "stream",
     "text": [
      "201it [01:05,  3.07it/s]"
     ]
    },
    {
     "name": "stdout",
     "output_type": "stream",
     "text": [
      "Epoch 3, Batch 200, position loss: 25267.609375 reconstruction loss: 59.97660446166992 RMSE(mm): 79.4789427694531\n"
     ]
    },
    {
     "name": "stderr",
     "output_type": "stream",
     "text": [
      "236it [01:16,  3.08it/s]\n"
     ]
    },
    {
     "name": "stdout",
     "output_type": "stream",
     "text": [
      "Epoch 3, Val Loss: 23608.432138871172, RMSE(mm): 68.2829303983439\n",
      "Epoch 3, test Loss: 27658.812380420917, RMSE(mm): 63.119032721779725\n"
     ]
    },
    {
     "name": "stderr",
     "output_type": "stream",
     "text": [
      "1it [00:00,  3.09it/s]"
     ]
    },
    {
     "name": "stdout",
     "output_type": "stream",
     "text": [
      "Epoch 4, Batch 0, position loss: 17934.865234375 reconstruction loss: 36.40846633911133 RMSE(mm): 66.96055785754588\n"
     ]
    },
    {
     "name": "stderr",
     "output_type": "stream",
     "text": [
      "101it [00:33,  3.06it/s]"
     ]
    },
    {
     "name": "stdout",
     "output_type": "stream",
     "text": [
      "Epoch 4, Batch 100, position loss: 14576.7080078125 reconstruction loss: 20.64131736755371 RMSE(mm): 60.367019157426725\n"
     ]
    },
    {
     "name": "stderr",
     "output_type": "stream",
     "text": [
      "201it [01:05,  3.06it/s]"
     ]
    },
    {
     "name": "stdout",
     "output_type": "stream",
     "text": [
      "Epoch 4, Batch 200, position loss: 24265.404296875 reconstruction loss: 56.60698318481445 RMSE(mm): 77.8867836941464\n"
     ]
    },
    {
     "name": "stderr",
     "output_type": "stream",
     "text": [
      "236it [01:16,  3.07it/s]\n"
     ]
    },
    {
     "name": "stdout",
     "output_type": "stream",
     "text": [
      "Epoch 4, Val Loss: 23849.308952487245, RMSE(mm): 68.91054798826785\n",
      "Epoch 4, test Loss: 27566.684789540817, RMSE(mm): 63.52780503304553\n"
     ]
    },
    {
     "name": "stderr",
     "output_type": "stream",
     "text": [
      "1it [00:00,  3.04it/s]"
     ]
    },
    {
     "name": "stdout",
     "output_type": "stream",
     "text": [
      "Epoch 5, Batch 0, position loss: 15924.5517578125 reconstruction loss: 35.15705108642578 RMSE(mm): 63.096259314266206\n"
     ]
    },
    {
     "name": "stderr",
     "output_type": "stream",
     "text": [
      "101it [00:32,  3.07it/s]"
     ]
    },
    {
     "name": "stdout",
     "output_type": "stream",
     "text": [
      "Epoch 5, Batch 100, position loss: 13271.76171875 reconstruction loss: 20.194665908813477 RMSE(mm): 57.60156620863273\n"
     ]
    },
    {
     "name": "stderr",
     "output_type": "stream",
     "text": [
      "201it [01:05,  3.06it/s]"
     ]
    },
    {
     "name": "stdout",
     "output_type": "stream",
     "text": [
      "Epoch 5, Batch 200, position loss: 21304.294921875 reconstruction loss: 51.20340347290039 RMSE(mm): 72.97995430574584\n"
     ]
    },
    {
     "name": "stderr",
     "output_type": "stream",
     "text": [
      "236it [01:16,  3.07it/s]\n"
     ]
    },
    {
     "name": "stdout",
     "output_type": "stream",
     "text": [
      "Epoch 5, Val Loss: 23308.897241709183, RMSE(mm): 68.08778534563507\n",
      "Epoch 5, test Loss: 26847.608577806124, RMSE(mm): 62.73451692616167\n"
     ]
    },
    {
     "name": "stderr",
     "output_type": "stream",
     "text": [
      "1it [00:00,  3.03it/s]"
     ]
    },
    {
     "name": "stdout",
     "output_type": "stream",
     "text": [
      "Epoch 6, Batch 0, position loss: 13303.177734375 reconstruction loss: 34.266170501708984 RMSE(mm): 57.669701174826194\n"
     ]
    },
    {
     "name": "stderr",
     "output_type": "stream",
     "text": [
      "101it [00:32,  3.06it/s]"
     ]
    },
    {
     "name": "stdout",
     "output_type": "stream",
     "text": [
      "Epoch 6, Batch 100, position loss: 10931.765625 reconstruction loss: 20.738197326660156 RMSE(mm): 52.27754208309721\n"
     ]
    },
    {
     "name": "stderr",
     "output_type": "stream",
     "text": [
      "201it [01:05,  3.07it/s]"
     ]
    },
    {
     "name": "stdout",
     "output_type": "stream",
     "text": [
      "Epoch 6, Batch 200, position loss: 15835.4326171875 reconstruction loss: 46.338565826416016 RMSE(mm): 62.91945767643643\n"
     ]
    },
    {
     "name": "stderr",
     "output_type": "stream",
     "text": [
      "236it [01:16,  3.07it/s]\n"
     ]
    },
    {
     "name": "stdout",
     "output_type": "stream",
     "text": [
      "Epoch 6, Val Loss: 21881.743801817604, RMSE(mm): 65.48876906283819\n",
      "Epoch 6, test Loss: 26064.046516262755, RMSE(mm): 61.351041474283655\n"
     ]
    },
    {
     "name": "stderr",
     "output_type": "stream",
     "text": [
      "1it [00:00,  3.07it/s]"
     ]
    },
    {
     "name": "stdout",
     "output_type": "stream",
     "text": [
      "Epoch 7, Batch 0, position loss: 11088.4287109375 reconstruction loss: 33.85284423828125 RMSE(mm): 52.6508041508805\n"
     ]
    },
    {
     "name": "stderr",
     "output_type": "stream",
     "text": [
      "101it [00:32,  3.06it/s]"
     ]
    },
    {
     "name": "stdout",
     "output_type": "stream",
     "text": [
      "Epoch 7, Batch 100, position loss: 10253.24609375 reconstruction loss: 20.710615158081055 RMSE(mm): 50.6291568509441\n"
     ]
    },
    {
     "name": "stderr",
     "output_type": "stream",
     "text": [
      "201it [01:05,  3.07it/s]"
     ]
    },
    {
     "name": "stdout",
     "output_type": "stream",
     "text": [
      "Epoch 7, Batch 200, position loss: 13350.73046875 reconstruction loss: 46.28395462036133 RMSE(mm): 57.772680543553626\n"
     ]
    },
    {
     "name": "stderr",
     "output_type": "stream",
     "text": [
      "236it [01:16,  3.07it/s]\n"
     ]
    },
    {
     "name": "stdout",
     "output_type": "stream",
     "text": [
      "Epoch 7, Val Loss: 22059.33450255102, RMSE(mm): 65.78860467756493\n",
      "Epoch 7, test Loss: 26268.573580994896, RMSE(mm): 61.79127592575286\n"
     ]
    },
    {
     "name": "stderr",
     "output_type": "stream",
     "text": [
      "1it [00:00,  3.04it/s]"
     ]
    },
    {
     "name": "stdout",
     "output_type": "stream",
     "text": [
      "Epoch 8, Batch 0, position loss: 10051.9912109375 reconstruction loss: 33.706024169921875 RMSE(mm): 50.129809522223155\n"
     ]
    },
    {
     "name": "stderr",
     "output_type": "stream",
     "text": [
      "101it [00:32,  3.07it/s]"
     ]
    },
    {
     "name": "stdout",
     "output_type": "stream",
     "text": [
      "Epoch 8, Batch 100, position loss: 9615.1865234375 reconstruction loss: 20.6809139251709 RMSE(mm): 49.028528744592926\n"
     ]
    },
    {
     "name": "stderr",
     "output_type": "stream",
     "text": [
      "201it [01:05,  3.07it/s]"
     ]
    },
    {
     "name": "stdout",
     "output_type": "stream",
     "text": [
      "Epoch 8, Batch 200, position loss: 11568.6787109375 reconstruction loss: 46.10082244873047 RMSE(mm): 53.77889621156588\n"
     ]
    },
    {
     "name": "stderr",
     "output_type": "stream",
     "text": [
      "236it [01:16,  3.07it/s]\n"
     ]
    },
    {
     "name": "stdout",
     "output_type": "stream",
     "text": [
      "Epoch 8, Val Loss: 22404.31120455995, RMSE(mm): 66.41954169949616\n",
      "Epoch 8, test Loss: 26652.59665975765, RMSE(mm): 62.59713812158218\n"
     ]
    },
    {
     "name": "stderr",
     "output_type": "stream",
     "text": [
      "1it [00:00,  3.08it/s]"
     ]
    },
    {
     "name": "stdout",
     "output_type": "stream",
     "text": [
      "Epoch 9, Batch 0, position loss: 9177.974609375 reconstruction loss: 33.632354736328125 RMSE(mm): 47.900873189783816\n"
     ]
    },
    {
     "name": "stderr",
     "output_type": "stream",
     "text": [
      "101it [00:32,  3.07it/s]"
     ]
    },
    {
     "name": "stdout",
     "output_type": "stream",
     "text": [
      "Epoch 9, Batch 100, position loss: 8949.607421875 reconstruction loss: 20.674922943115234 RMSE(mm): 47.30118238975375\n"
     ]
    },
    {
     "name": "stderr",
     "output_type": "stream",
     "text": [
      "201it [01:05,  3.06it/s]"
     ]
    },
    {
     "name": "stdout",
     "output_type": "stream",
     "text": [
      "Epoch 9, Batch 200, position loss: 10395.8408203125 reconstruction loss: 45.908714294433594 RMSE(mm): 50.979998088251484\n"
     ]
    },
    {
     "name": "stderr",
     "output_type": "stream",
     "text": [
      "236it [01:16,  3.07it/s]\n"
     ]
    },
    {
     "name": "stdout",
     "output_type": "stream",
     "text": [
      "Epoch 9, Val Loss: 22950.569734534438, RMSE(mm): 67.43029265712299\n",
      "Epoch 9, test Loss: 27235.06907684949, RMSE(mm): 63.79192041264345\n"
     ]
    },
    {
     "name": "stderr",
     "output_type": "stream",
     "text": [
      "1it [00:00,  3.07it/s]"
     ]
    },
    {
     "name": "stdout",
     "output_type": "stream",
     "text": [
      "Epoch 10, Batch 0, position loss: 8434.8671875 reconstruction loss: 33.58431625366211 RMSE(mm): 45.92076651009867\n"
     ]
    },
    {
     "name": "stderr",
     "output_type": "stream",
     "text": [
      "101it [00:32,  3.06it/s]"
     ]
    },
    {
     "name": "stdout",
     "output_type": "stream",
     "text": [
      "Epoch 10, Batch 100, position loss: 8158.4482421875 reconstruction loss: 20.699554443359375 RMSE(mm): 45.1620643964254\n"
     ]
    },
    {
     "name": "stderr",
     "output_type": "stream",
     "text": [
      "201it [01:05,  3.06it/s]"
     ]
    },
    {
     "name": "stdout",
     "output_type": "stream",
     "text": [
      "Epoch 10, Batch 200, position loss: 8430.1015625 reconstruction loss: 45.681854248046875 RMSE(mm): 45.90779226476699\n"
     ]
    },
    {
     "name": "stderr",
     "output_type": "stream",
     "text": [
      "236it [01:16,  3.07it/s]\n"
     ]
    },
    {
     "name": "stdout",
     "output_type": "stream",
     "text": [
      "Epoch 10, Val Loss: 23715.599988042093, RMSE(mm): 68.84057814109512\n",
      "Epoch 10, test Loss: 28073.40571189413, RMSE(mm): 65.46274774918241\n"
     ]
    },
    {
     "name": "stderr",
     "output_type": "stream",
     "text": [
      "1it [00:00,  3.06it/s]"
     ]
    },
    {
     "name": "stdout",
     "output_type": "stream",
     "text": [
      "Epoch 11, Batch 0, position loss: 7447.8818359375 reconstruction loss: 33.51776123046875 RMSE(mm): 43.150555720458286\n"
     ]
    },
    {
     "name": "stderr",
     "output_type": "stream",
     "text": [
      "101it [00:32,  3.05it/s]"
     ]
    },
    {
     "name": "stdout",
     "output_type": "stream",
     "text": [
      "Epoch 11, Batch 100, position loss: 7749.8447265625 reconstruction loss: 20.66675567626953 RMSE(mm): 44.016601205007014\n"
     ]
    },
    {
     "name": "stderr",
     "output_type": "stream",
     "text": [
      "201it [01:05,  3.05it/s]"
     ]
    },
    {
     "name": "stdout",
     "output_type": "stream",
     "text": [
      "Epoch 11, Batch 200, position loss: 7204.76611328125 reconstruction loss: 45.410037994384766 RMSE(mm): 42.44044684402265\n"
     ]
    },
    {
     "name": "stderr",
     "output_type": "stream",
     "text": [
      "236it [01:16,  3.07it/s]\n"
     ]
    },
    {
     "name": "stdout",
     "output_type": "stream",
     "text": [
      "Epoch 11, Val Loss: 24488.679308832907, RMSE(mm): 70.23893379012591\n",
      "Epoch 11, test Loss: 28948.295858577807, RMSE(mm): 67.16128563559103\n"
     ]
    },
    {
     "name": "stderr",
     "output_type": "stream",
     "text": [
      "1it [00:00,  3.10it/s]"
     ]
    },
    {
     "name": "stdout",
     "output_type": "stream",
     "text": [
      "Epoch 12, Batch 0, position loss: 5936.8408203125 reconstruction loss: 33.46194076538086 RMSE(mm): 38.52544879788067\n"
     ]
    },
    {
     "name": "stderr",
     "output_type": "stream",
     "text": [
      "101it [00:32,  3.07it/s]"
     ]
    },
    {
     "name": "stdout",
     "output_type": "stream",
     "text": [
      "Epoch 12, Batch 100, position loss: 8823.033203125 reconstruction loss: 21.25210952758789 RMSE(mm): 46.96550117672812\n"
     ]
    },
    {
     "name": "stderr",
     "output_type": "stream",
     "text": [
      "201it [01:05,  3.06it/s]"
     ]
    },
    {
     "name": "stdout",
     "output_type": "stream",
     "text": [
      "Epoch 12, Batch 200, position loss: 6707.275390625 reconstruction loss: 44.039730072021484 RMSE(mm): 40.948978591123\n"
     ]
    },
    {
     "name": "stderr",
     "output_type": "stream",
     "text": [
      "236it [01:16,  3.07it/s]\n"
     ]
    },
    {
     "name": "stdout",
     "output_type": "stream",
     "text": [
      "Epoch 12, Val Loss: 24233.28659119898, RMSE(mm): 69.77521405665328\n",
      "Epoch 12, test Loss: 28702.14530851403, RMSE(mm): 66.69712741972273\n"
     ]
    },
    {
     "name": "stderr",
     "output_type": "stream",
     "text": [
      "1it [00:00,  3.03it/s]"
     ]
    },
    {
     "name": "stdout",
     "output_type": "stream",
     "text": [
      "Epoch 13, Batch 0, position loss: 6018.6337890625 reconstruction loss: 33.485313415527344 RMSE(mm): 38.789927136637225\n"
     ]
    },
    {
     "name": "stderr",
     "output_type": "stream",
     "text": [
      "101it [00:32,  3.07it/s]"
     ]
    },
    {
     "name": "stdout",
     "output_type": "stream",
     "text": [
      "Epoch 13, Batch 100, position loss: 8112.17724609375 reconstruction loss: 21.182031631469727 RMSE(mm): 45.03381298006463\n"
     ]
    },
    {
     "name": "stderr",
     "output_type": "stream",
     "text": [
      "201it [01:05,  3.07it/s]"
     ]
    },
    {
     "name": "stdout",
     "output_type": "stream",
     "text": [
      "Epoch 13, Batch 200, position loss: 6433.91064453125 reconstruction loss: 44.09182357788086 RMSE(mm): 40.10583076228209\n"
     ]
    },
    {
     "name": "stderr",
     "output_type": "stream",
     "text": [
      "236it [01:16,  3.07it/s]\n"
     ]
    },
    {
     "name": "stdout",
     "output_type": "stream",
     "text": [
      "Epoch 13, Val Loss: 24295.667550223214, RMSE(mm): 69.88131401789741\n",
      "Epoch 13, test Loss: 28744.857461734693, RMSE(mm): 66.77671941999795\n"
     ]
    },
    {
     "name": "stderr",
     "output_type": "stream",
     "text": [
      "1it [00:00,  3.02it/s]"
     ]
    },
    {
     "name": "stdout",
     "output_type": "stream",
     "text": [
      "Epoch 14, Batch 0, position loss: 5747.90185546875 reconstruction loss: 33.49765396118164 RMSE(mm): 37.90745921144264\n"
     ]
    },
    {
     "name": "stderr",
     "output_type": "stream",
     "text": [
      "101it [00:32,  3.07it/s]"
     ]
    },
    {
     "name": "stdout",
     "output_type": "stream",
     "text": [
      "Epoch 14, Batch 100, position loss: 7991.95849609375 reconstruction loss: 21.167081832885742 RMSE(mm): 44.69887721211169\n"
     ]
    },
    {
     "name": "stderr",
     "output_type": "stream",
     "text": [
      "201it [01:05,  3.06it/s]"
     ]
    },
    {
     "name": "stdout",
     "output_type": "stream",
     "text": [
      "Epoch 14, Batch 200, position loss: 6485.14404296875 reconstruction loss: 44.10906982421875 RMSE(mm): 40.265196022647\n"
     ]
    },
    {
     "name": "stderr",
     "output_type": "stream",
     "text": [
      "236it [01:16,  3.07it/s]\n"
     ]
    },
    {
     "name": "stdout",
     "output_type": "stream",
     "text": [
      "Epoch 14, Val Loss: 24373.051937181124, RMSE(mm): 70.01731113103223\n",
      "Epoch 14, test Loss: 28812.454699457907, RMSE(mm): 66.90594716989823\n"
     ]
    },
    {
     "name": "stderr",
     "output_type": "stream",
     "text": [
      "Some weights of DeiTForMaskedImageModeling were not initialized from the model checkpoint at facebook/deit-base-distilled-patch16-224 and are newly initialized: ['decoder.0.weight', 'decoder.0.bias', 'deit.embeddings.mask_token']\n",
      "You should probably TRAIN this model on a down-stream task to be able to use it for predictions and inference.\n",
      "Some weights of DeiTForMaskedImageModeling were not initialized from the model checkpoint at facebook/deit-base-distilled-patch16-224 and are newly initialized because the shapes did not match:\n",
      "- deit.embeddings.position_embeddings: found shape torch.Size([1, 198, 768]) in the checkpoint and torch.Size([1, 258, 768]) in the model instantiated\n",
      "- deit.embeddings.patch_embeddings.projection.weight: found shape torch.Size([768, 3, 16, 16]) in the checkpoint and torch.Size([768, 256, 8, 1]) in the model instantiated\n",
      "You should probably TRAIN this model on a down-stream task to be able to use it for predictions and inference.\n"
     ]
    },
    {
     "name": "stdout",
     "output_type": "stream",
     "text": [
      "create dataloader...\n",
      "HI\n",
      "training...\n"
     ]
    },
    {
     "name": "stderr",
     "output_type": "stream",
     "text": [
      "1it [00:00,  2.07it/s]"
     ]
    },
    {
     "name": "stdout",
     "output_type": "stream",
     "text": [
      "Epoch 0, Batch 0, position loss: 168662.09375 reconstruction loss: 79.98271179199219 RMSE(mm): 205.34245405541446\n"
     ]
    },
    {
     "name": "stderr",
     "output_type": "stream",
     "text": [
      "101it [00:33,  3.06it/s]"
     ]
    },
    {
     "name": "stdout",
     "output_type": "stream",
     "text": [
      "Epoch 0, Batch 100, position loss: 26586.833984375 reconstruction loss: 37.44941711425781 RMSE(mm): 81.52734814829776\n"
     ]
    },
    {
     "name": "stderr",
     "output_type": "stream",
     "text": [
      "201it [01:05,  3.06it/s]"
     ]
    },
    {
     "name": "stdout",
     "output_type": "stream",
     "text": [
      "Epoch 0, Batch 200, position loss: 31791.703125 reconstruction loss: 97.24131774902344 RMSE(mm): 89.15114010067398\n"
     ]
    },
    {
     "name": "stderr",
     "output_type": "stream",
     "text": [
      "236it [01:17,  3.06it/s]\n"
     ]
    },
    {
     "name": "stdout",
     "output_type": "stream",
     "text": [
      "Epoch 0, Val Loss: 30012.336176658162, RMSE(mm): 75.4616152561864\n",
      "Epoch 0, test Loss: 36886.829320790814, RMSE(mm): 72.59779611803509\n"
     ]
    },
    {
     "name": "stderr",
     "output_type": "stream",
     "text": [
      "1it [00:00,  3.04it/s]"
     ]
    },
    {
     "name": "stdout",
     "output_type": "stream",
     "text": [
      "Epoch 1, Batch 0, position loss: 20997.455078125 reconstruction loss: 53.80087661743164 RMSE(mm): 72.45249319058144\n"
     ]
    },
    {
     "name": "stderr",
     "output_type": "stream",
     "text": [
      "101it [00:32,  3.07it/s]"
     ]
    },
    {
     "name": "stdout",
     "output_type": "stream",
     "text": [
      "Epoch 1, Batch 100, position loss: 17076.85546875 reconstruction loss: 30.76719093322754 RMSE(mm): 65.33922150735728\n"
     ]
    },
    {
     "name": "stderr",
     "output_type": "stream",
     "text": [
      "201it [01:05,  3.08it/s]"
     ]
    },
    {
     "name": "stdout",
     "output_type": "stream",
     "text": [
      "Epoch 1, Batch 200, position loss: 27785.224609375 reconstruction loss: 83.2006607055664 RMSE(mm): 83.34450283218294\n"
     ]
    },
    {
     "name": "stderr",
     "output_type": "stream",
     "text": [
      "236it [01:16,  3.07it/s]\n"
     ]
    },
    {
     "name": "stdout",
     "output_type": "stream",
     "text": [
      "Epoch 1, Val Loss: 25505.833386479593, RMSE(mm): 68.25550454045262\n",
      "Epoch 1, test Loss: 32649.420280612245, RMSE(mm): 65.70455235018063\n"
     ]
    },
    {
     "name": "stderr",
     "output_type": "stream",
     "text": [
      "1it [00:00,  3.08it/s]"
     ]
    },
    {
     "name": "stdout",
     "output_type": "stream",
     "text": [
      "Epoch 2, Batch 0, position loss: 16273.86328125 reconstruction loss: 49.95277786254883 RMSE(mm): 63.78452649594963\n"
     ]
    },
    {
     "name": "stderr",
     "output_type": "stream",
     "text": [
      "101it [00:32,  3.07it/s]"
     ]
    },
    {
     "name": "stdout",
     "output_type": "stream",
     "text": [
      "Epoch 2, Batch 100, position loss: 17308.720703125 reconstruction loss: 26.995634078979492 RMSE(mm): 65.78130567099782\n"
     ]
    },
    {
     "name": "stderr",
     "output_type": "stream",
     "text": [
      "201it [01:05,  3.06it/s]"
     ]
    },
    {
     "name": "stdout",
     "output_type": "stream",
     "text": [
      "Epoch 2, Batch 200, position loss: 25669.8125 reconstruction loss: 74.12213897705078 RMSE(mm): 80.1090077644206\n"
     ]
    },
    {
     "name": "stderr",
     "output_type": "stream",
     "text": [
      "236it [01:16,  3.07it/s]\n"
     ]
    },
    {
     "name": "stdout",
     "output_type": "stream",
     "text": [
      "Epoch 2, Val Loss: 25284.71027981505, RMSE(mm): 68.68190661213845\n",
      "Epoch 2, test Loss: 31539.745256696428, RMSE(mm): 64.95999534710462\n"
     ]
    },
    {
     "name": "stderr",
     "output_type": "stream",
     "text": [
      "1it [00:00,  3.07it/s]"
     ]
    },
    {
     "name": "stdout",
     "output_type": "stream",
     "text": [
      "Epoch 3, Batch 0, position loss: 17904.26171875 reconstruction loss: 44.50141143798828 RMSE(mm): 66.90340372273671\n"
     ]
    },
    {
     "name": "stderr",
     "output_type": "stream",
     "text": [
      "101it [00:32,  3.06it/s]"
     ]
    },
    {
     "name": "stdout",
     "output_type": "stream",
     "text": [
      "Epoch 3, Batch 100, position loss: 15860.267578125 reconstruction loss: 24.461341857910156 RMSE(mm): 62.968777140192664\n"
     ]
    },
    {
     "name": "stderr",
     "output_type": "stream",
     "text": [
      "201it [01:05,  3.07it/s]"
     ]
    },
    {
     "name": "stdout",
     "output_type": "stream",
     "text": [
      "Epoch 3, Batch 200, position loss: 24308.029296875 reconstruction loss: 66.9835205078125 RMSE(mm): 77.9551622679265\n"
     ]
    },
    {
     "name": "stderr",
     "output_type": "stream",
     "text": [
      "236it [01:16,  3.07it/s]\n"
     ]
    },
    {
     "name": "stdout",
     "output_type": "stream",
     "text": [
      "Epoch 3, Val Loss: 25442.83468191964, RMSE(mm): 69.25997643616044\n",
      "Epoch 3, test Loss: 31117.368343431124, RMSE(mm): 64.94381755008183\n"
     ]
    },
    {
     "name": "stderr",
     "output_type": "stream",
     "text": [
      "1it [00:00,  3.05it/s]"
     ]
    },
    {
     "name": "stdout",
     "output_type": "stream",
     "text": [
      "Epoch 4, Batch 0, position loss: 18052.970703125 reconstruction loss: 42.41143798828125 RMSE(mm): 67.18067189140973\n"
     ]
    },
    {
     "name": "stderr",
     "output_type": "stream",
     "text": [
      "101it [00:32,  3.06it/s]"
     ]
    },
    {
     "name": "stdout",
     "output_type": "stream",
     "text": [
      "Epoch 4, Batch 100, position loss: 13704.693359375 reconstruction loss: 23.07084083557129 RMSE(mm): 58.53352321399892\n"
     ]
    },
    {
     "name": "stderr",
     "output_type": "stream",
     "text": [
      "201it [01:05,  3.06it/s]"
     ]
    },
    {
     "name": "stdout",
     "output_type": "stream",
     "text": [
      "Epoch 4, Batch 200, position loss: 22098.1328125 reconstruction loss: 61.77431869506836 RMSE(mm): 74.32720365468487\n"
     ]
    },
    {
     "name": "stderr",
     "output_type": "stream",
     "text": [
      "236it [01:16,  3.07it/s]\n"
     ]
    },
    {
     "name": "stdout",
     "output_type": "stream",
     "text": [
      "Epoch 4, Val Loss: 24827.706652582907, RMSE(mm): 68.65437607895898\n",
      "Epoch 4, test Loss: 29912.850705516583, RMSE(mm): 63.55894486268911\n"
     ]
    },
    {
     "name": "stderr",
     "output_type": "stream",
     "text": [
      "1it [00:00,  3.07it/s]"
     ]
    },
    {
     "name": "stdout",
     "output_type": "stream",
     "text": [
      "Epoch 5, Batch 0, position loss: 16175.7373046875 reconstruction loss: 38.96988296508789 RMSE(mm): 63.59193601528322\n"
     ]
    },
    {
     "name": "stderr",
     "output_type": "stream",
     "text": [
      "101it [00:32,  3.04it/s]"
     ]
    },
    {
     "name": "stdout",
     "output_type": "stream",
     "text": [
      "Epoch 5, Batch 100, position loss: 14337.1630859375 reconstruction loss: 22.473966598510742 RMSE(mm): 59.868946637504614\n"
     ]
    },
    {
     "name": "stderr",
     "output_type": "stream",
     "text": [
      "201it [01:05,  3.07it/s]"
     ]
    },
    {
     "name": "stdout",
     "output_type": "stream",
     "text": [
      "Epoch 5, Batch 200, position loss: 21590.13671875 reconstruction loss: 59.98600387573242 RMSE(mm): 73.46791258561454\n"
     ]
    },
    {
     "name": "stderr",
     "output_type": "stream",
     "text": [
      "236it [01:16,  3.07it/s]\n"
     ]
    },
    {
     "name": "stdout",
     "output_type": "stream",
     "text": [
      "Epoch 5, Val Loss: 23914.116131218114, RMSE(mm): 67.08876830015029\n",
      "Epoch 5, test Loss: 28546.761100924745, RMSE(mm): 61.377088174060546\n"
     ]
    },
    {
     "name": "stderr",
     "output_type": "stream",
     "text": [
      "1it [00:00,  3.06it/s]"
     ]
    },
    {
     "name": "stdout",
     "output_type": "stream",
     "text": [
      "Epoch 6, Batch 0, position loss: 14860.66015625 reconstruction loss: 38.245208740234375 RMSE(mm): 60.95215368682636\n"
     ]
    },
    {
     "name": "stderr",
     "output_type": "stream",
     "text": [
      "101it [00:32,  3.07it/s]"
     ]
    },
    {
     "name": "stdout",
     "output_type": "stream",
     "text": [
      "Epoch 6, Batch 100, position loss: 11419.828125 reconstruction loss: 22.2737979888916 RMSE(mm): 53.43179794139441\n"
     ]
    },
    {
     "name": "stderr",
     "output_type": "stream",
     "text": [
      "201it [01:05,  3.07it/s]"
     ]
    },
    {
     "name": "stdout",
     "output_type": "stream",
     "text": [
      "Epoch 6, Batch 200, position loss: 14822.05078125 reconstruction loss: 54.417667388916016 RMSE(mm): 60.87292251331868\n"
     ]
    },
    {
     "name": "stderr",
     "output_type": "stream",
     "text": [
      "236it [01:16,  3.07it/s]\n"
     ]
    },
    {
     "name": "stdout",
     "output_type": "stream",
     "text": [
      "Epoch 6, Val Loss: 22684.53776705995, RMSE(mm): 64.7837391352619\n",
      "Epoch 6, test Loss: 27880.25265066964, RMSE(mm): 60.15350460870242\n"
     ]
    },
    {
     "name": "stderr",
     "output_type": "stream",
     "text": [
      "1it [00:00,  3.07it/s]"
     ]
    },
    {
     "name": "stdout",
     "output_type": "stream",
     "text": [
      "Epoch 7, Batch 0, position loss: 12889.6953125 reconstruction loss: 37.18088150024414 RMSE(mm): 56.76639699791594\n"
     ]
    },
    {
     "name": "stderr",
     "output_type": "stream",
     "text": [
      "101it [00:32,  3.06it/s]"
     ]
    },
    {
     "name": "stdout",
     "output_type": "stream",
     "text": [
      "Epoch 7, Batch 100, position loss: 10323.4599609375 reconstruction loss: 22.254806518554688 RMSE(mm): 50.802214422546335\n"
     ]
    },
    {
     "name": "stderr",
     "output_type": "stream",
     "text": [
      "201it [01:05,  3.07it/s]"
     ]
    },
    {
     "name": "stdout",
     "output_type": "stream",
     "text": [
      "Epoch 7, Batch 200, position loss: 13754.0546875 reconstruction loss: 54.35970687866211 RMSE(mm): 58.63884098338745\n"
     ]
    },
    {
     "name": "stderr",
     "output_type": "stream",
     "text": [
      "236it [01:16,  3.07it/s]\n"
     ]
    },
    {
     "name": "stdout",
     "output_type": "stream",
     "text": [
      "Epoch 7, Val Loss: 22699.429906728317, RMSE(mm): 64.7862971212487\n",
      "Epoch 7, test Loss: 27811.72317442602, RMSE(mm): 60.05177504275817\n"
     ]
    },
    {
     "name": "stderr",
     "output_type": "stream",
     "text": [
      "1it [00:00,  3.06it/s]"
     ]
    },
    {
     "name": "stdout",
     "output_type": "stream",
     "text": [
      "Epoch 8, Batch 0, position loss: 12013.783203125 reconstruction loss: 37.10630416870117 RMSE(mm): 54.80370243679938\n"
     ]
    },
    {
     "name": "stderr",
     "output_type": "stream",
     "text": [
      "101it [00:32,  3.06it/s]"
     ]
    },
    {
     "name": "stdout",
     "output_type": "stream",
     "text": [
      "Epoch 8, Batch 100, position loss: 9531.5546875 reconstruction loss: 22.1846981048584 RMSE(mm): 48.81484069291838\n"
     ]
    },
    {
     "name": "stderr",
     "output_type": "stream",
     "text": [
      "201it [01:05,  3.05it/s]"
     ]
    },
    {
     "name": "stdout",
     "output_type": "stream",
     "text": [
      "Epoch 8, Batch 200, position loss: 12996.326171875 reconstruction loss: 54.27909469604492 RMSE(mm): 57.00071528471156\n"
     ]
    },
    {
     "name": "stderr",
     "output_type": "stream",
     "text": [
      "236it [01:16,  3.07it/s]\n"
     ]
    },
    {
     "name": "stdout",
     "output_type": "stream",
     "text": [
      "Epoch 8, Val Loss: 22870.359474649234, RMSE(mm): 65.10454956945223\n",
      "Epoch 8, test Loss: 27834.189612563776, RMSE(mm): 60.14720143814043\n"
     ]
    },
    {
     "name": "stderr",
     "output_type": "stream",
     "text": [
      "1it [00:00,  3.06it/s]"
     ]
    },
    {
     "name": "stdout",
     "output_type": "stream",
     "text": [
      "Epoch 9, Batch 0, position loss: 11273.6552734375 reconstruction loss: 37.06144714355469 RMSE(mm): 53.08873532454295\n"
     ]
    },
    {
     "name": "stderr",
     "output_type": "stream",
     "text": [
      "101it [00:32,  3.07it/s]"
     ]
    },
    {
     "name": "stdout",
     "output_type": "stream",
     "text": [
      "Epoch 9, Batch 100, position loss: 9195.67578125 reconstruction loss: 22.119895935058594 RMSE(mm): 47.947043134196505\n"
     ]
    },
    {
     "name": "stderr",
     "output_type": "stream",
     "text": [
      "201it [01:05,  3.07it/s]"
     ]
    },
    {
     "name": "stdout",
     "output_type": "stream",
     "text": [
      "Epoch 9, Batch 200, position loss: 12177.8515625 reconstruction loss: 54.18986892700195 RMSE(mm): 55.17665168008113\n"
     ]
    },
    {
     "name": "stderr",
     "output_type": "stream",
     "text": [
      "236it [01:16,  3.07it/s]\n"
     ]
    },
    {
     "name": "stdout",
     "output_type": "stream",
     "text": [
      "Epoch 9, Val Loss: 23172.67356903699, RMSE(mm): 65.67081817378369\n",
      "Epoch 9, test Loss: 28035.78854432398, RMSE(mm): 60.61349523635161\n"
     ]
    },
    {
     "name": "stderr",
     "output_type": "stream",
     "text": [
      "1it [00:00,  3.07it/s]"
     ]
    },
    {
     "name": "stdout",
     "output_type": "stream",
     "text": [
      "Epoch 10, Batch 0, position loss: 9866.453125 reconstruction loss: 37.02037048339844 RMSE(mm): 49.66501063374496\n"
     ]
    },
    {
     "name": "stderr",
     "output_type": "stream",
     "text": [
      "101it [00:32,  3.06it/s]"
     ]
    },
    {
     "name": "stdout",
     "output_type": "stream",
     "text": [
      "Epoch 10, Batch 100, position loss: 8439.6923828125 reconstruction loss: 22.096282958984375 RMSE(mm): 45.93389919986246\n"
     ]
    },
    {
     "name": "stderr",
     "output_type": "stream",
     "text": [
      "201it [01:05,  3.07it/s]"
     ]
    },
    {
     "name": "stdout",
     "output_type": "stream",
     "text": [
      "Epoch 10, Batch 200, position loss: 11434.9208984375 reconstruction loss: 54.0728759765625 RMSE(mm): 53.46709478370201\n"
     ]
    },
    {
     "name": "stderr",
     "output_type": "stream",
     "text": [
      "236it [01:16,  3.07it/s]\n"
     ]
    },
    {
     "name": "stdout",
     "output_type": "stream",
     "text": [
      "Epoch 10, Val Loss: 23593.902264030614, RMSE(mm): 66.46008097258574\n",
      "Epoch 10, test Loss: 28379.767358896683, RMSE(mm): 61.371260665253885\n"
     ]
    },
    {
     "name": "stderr",
     "output_type": "stream",
     "text": [
      "1it [00:00,  3.06it/s]"
     ]
    },
    {
     "name": "stdout",
     "output_type": "stream",
     "text": [
      "Epoch 11, Batch 0, position loss: 9110.525390625 reconstruction loss: 36.94548797607422 RMSE(mm): 47.72453611776913\n"
     ]
    },
    {
     "name": "stderr",
     "output_type": "stream",
     "text": [
      "101it [00:33,  3.07it/s]"
     ]
    },
    {
     "name": "stdout",
     "output_type": "stream",
     "text": [
      "Epoch 11, Batch 100, position loss: 7997.05859375 reconstruction loss: 22.102989196777344 RMSE(mm): 44.71313731374147\n"
     ]
    },
    {
     "name": "stderr",
     "output_type": "stream",
     "text": [
      "201it [01:05,  3.06it/s]"
     ]
    },
    {
     "name": "stdout",
     "output_type": "stream",
     "text": [
      "Epoch 11, Batch 200, position loss: 10891.1298828125 reconstruction loss: 53.936546325683594 RMSE(mm): 52.180288143159245\n"
     ]
    },
    {
     "name": "stderr",
     "output_type": "stream",
     "text": [
      "236it [01:16,  3.07it/s]\n"
     ]
    },
    {
     "name": "stdout",
     "output_type": "stream",
     "text": [
      "Epoch 11, Val Loss: 24087.48072783801, RMSE(mm): 67.37710983152247\n",
      "Epoch 11, test Loss: 28825.046914859693, RMSE(mm): 62.32725081852259\n"
     ]
    },
    {
     "name": "stderr",
     "output_type": "stream",
     "text": [
      "1it [00:00,  3.07it/s]"
     ]
    },
    {
     "name": "stdout",
     "output_type": "stream",
     "text": [
      "Epoch 12, Batch 0, position loss: 8476.455078125 reconstruction loss: 36.86444091796875 RMSE(mm): 46.0338328789951\n"
     ]
    },
    {
     "name": "stderr",
     "output_type": "stream",
     "text": [
      "101it [00:32,  3.06it/s]"
     ]
    },
    {
     "name": "stdout",
     "output_type": "stream",
     "text": [
      "Epoch 12, Batch 100, position loss: 9008.1708984375 reconstruction loss: 22.859163284301758 RMSE(mm): 47.45569222558422\n"
     ]
    },
    {
     "name": "stderr",
     "output_type": "stream",
     "text": [
      "201it [01:05,  3.07it/s]"
     ]
    },
    {
     "name": "stdout",
     "output_type": "stream",
     "text": [
      "Epoch 12, Batch 200, position loss: 9362.509765625 reconstruction loss: 52.634552001953125 RMSE(mm): 48.38003143246447\n"
     ]
    },
    {
     "name": "stderr",
     "output_type": "stream",
     "text": [
      "236it [01:16,  3.07it/s]\n"
     ]
    },
    {
     "name": "stdout",
     "output_type": "stream",
     "text": [
      "Epoch 12, Val Loss: 23856.26909279337, RMSE(mm): 66.96205811027019\n",
      "Epoch 12, test Loss: 28658.603017378828, RMSE(mm): 62.02082962005752\n"
     ]
    },
    {
     "name": "stderr",
     "output_type": "stream",
     "text": [
      "1it [00:00,  3.07it/s]"
     ]
    },
    {
     "name": "stdout",
     "output_type": "stream",
     "text": [
      "Epoch 13, Batch 0, position loss: 8380.748046875 reconstruction loss: 36.77064514160156 RMSE(mm): 45.773212818402314\n"
     ]
    },
    {
     "name": "stderr",
     "output_type": "stream",
     "text": [
      "101it [00:32,  3.06it/s]"
     ]
    },
    {
     "name": "stdout",
     "output_type": "stream",
     "text": [
      "Epoch 13, Batch 100, position loss: 9235.8359375 reconstruction loss: 22.891584396362305 RMSE(mm): 48.05162832178531\n"
     ]
    },
    {
     "name": "stderr",
     "output_type": "stream",
     "text": [
      "201it [01:05,  3.05it/s]"
     ]
    },
    {
     "name": "stdout",
     "output_type": "stream",
     "text": [
      "Epoch 13, Batch 200, position loss: 9364.97265625 reconstruction loss: 52.61373519897461 RMSE(mm): 48.386394410645025\n"
     ]
    },
    {
     "name": "stderr",
     "output_type": "stream",
     "text": [
      "236it [01:16,  3.07it/s]\n"
     ]
    },
    {
     "name": "stdout",
     "output_type": "stream",
     "text": [
      "Epoch 13, Val Loss: 23983.106525031886, RMSE(mm): 67.19602591104776\n",
      "Epoch 13, test Loss: 28790.93925382653, RMSE(mm): 62.291279635391\n"
     ]
    },
    {
     "name": "stderr",
     "output_type": "stream",
     "text": [
      "1it [00:00,  3.05it/s]"
     ]
    },
    {
     "name": "stdout",
     "output_type": "stream",
     "text": [
      "Epoch 14, Batch 0, position loss: 7910.4287109375 reconstruction loss: 36.77220916748047 RMSE(mm): 44.47029545364383\n"
     ]
    },
    {
     "name": "stderr",
     "output_type": "stream",
     "text": [
      "101it [00:32,  3.06it/s]"
     ]
    },
    {
     "name": "stdout",
     "output_type": "stream",
     "text": [
      "Epoch 14, Batch 100, position loss: 9024.521484375 reconstruction loss: 22.870779037475586 RMSE(mm): 47.498740731663084\n"
     ]
    },
    {
     "name": "stderr",
     "output_type": "stream",
     "text": [
      "201it [01:05,  3.07it/s]"
     ]
    },
    {
     "name": "stdout",
     "output_type": "stream",
     "text": [
      "Epoch 14, Batch 200, position loss: 9114.697265625 reconstruction loss: 52.61605453491211 RMSE(mm): 47.73546183296282\n"
     ]
    },
    {
     "name": "stderr",
     "output_type": "stream",
     "text": [
      "236it [01:16,  3.07it/s]\n"
     ]
    },
    {
     "name": "stdout",
     "output_type": "stream",
     "text": [
      "Epoch 14, Val Loss: 24081.01076211735, RMSE(mm): 67.37530708163568\n",
      "Epoch 14, test Loss: 28865.799166932396, RMSE(mm): 62.4448392185734\n"
     ]
    },
    {
     "name": "stderr",
     "output_type": "stream",
     "text": [
      "Some weights of DeiTForMaskedImageModeling were not initialized from the model checkpoint at facebook/deit-base-distilled-patch16-224 and are newly initialized: ['decoder.0.weight', 'decoder.0.bias', 'deit.embeddings.mask_token']\n",
      "You should probably TRAIN this model on a down-stream task to be able to use it for predictions and inference.\n",
      "Some weights of DeiTForMaskedImageModeling were not initialized from the model checkpoint at facebook/deit-base-distilled-patch16-224 and are newly initialized because the shapes did not match:\n",
      "- deit.embeddings.position_embeddings: found shape torch.Size([1, 198, 768]) in the checkpoint and torch.Size([1, 258, 768]) in the model instantiated\n",
      "- deit.embeddings.patch_embeddings.projection.weight: found shape torch.Size([768, 3, 16, 16]) in the checkpoint and torch.Size([768, 256, 8, 1]) in the model instantiated\n",
      "You should probably TRAIN this model on a down-stream task to be able to use it for predictions and inference.\n"
     ]
    },
    {
     "name": "stdout",
     "output_type": "stream",
     "text": [
      "create dataloader...\n",
      "HI\n",
      "training...\n"
     ]
    },
    {
     "name": "stderr",
     "output_type": "stream",
     "text": [
      "1it [00:00,  2.09it/s]"
     ]
    },
    {
     "name": "stdout",
     "output_type": "stream",
     "text": [
      "Epoch 0, Batch 0, position loss: 168409.34375 reconstruction loss: 79.91435241699219 RMSE(mm): 205.18853753925924\n"
     ]
    },
    {
     "name": "stderr",
     "output_type": "stream",
     "text": [
      "101it [00:33,  3.06it/s]"
     ]
    },
    {
     "name": "stdout",
     "output_type": "stream",
     "text": [
      "Epoch 0, Batch 100, position loss: 23485.619140625 reconstruction loss: 32.75864028930664 RMSE(mm): 76.62509239900628\n"
     ]
    },
    {
     "name": "stderr",
     "output_type": "stream",
     "text": [
      "201it [01:05,  3.06it/s]"
     ]
    },
    {
     "name": "stdout",
     "output_type": "stream",
     "text": [
      "Epoch 0, Batch 200, position loss: 30469.38671875 reconstruction loss: 82.44837188720703 RMSE(mm): 87.27741219632661\n"
     ]
    },
    {
     "name": "stderr",
     "output_type": "stream",
     "text": [
      "236it [01:16,  3.07it/s]\n"
     ]
    },
    {
     "name": "stdout",
     "output_type": "stream",
     "text": [
      "Epoch 0, Val Loss: 28583.33502072704, RMSE(mm): 71.58195762318024\n",
      "Epoch 0, test Loss: 37932.79312818877, RMSE(mm): 70.64406231903645\n"
     ]
    },
    {
     "name": "stderr",
     "output_type": "stream",
     "text": [
      "1it [00:00,  3.07it/s]"
     ]
    },
    {
     "name": "stdout",
     "output_type": "stream",
     "text": [
      "Epoch 1, Batch 0, position loss: 16642.30859375 reconstruction loss: 58.11985397338867 RMSE(mm): 64.50253598454482\n"
     ]
    },
    {
     "name": "stderr",
     "output_type": "stream",
     "text": [
      "101it [00:32,  3.06it/s]"
     ]
    },
    {
     "name": "stdout",
     "output_type": "stream",
     "text": [
      "Epoch 1, Batch 100, position loss: 16013.369140625 reconstruction loss: 26.1897029876709 RMSE(mm): 63.27197077028856\n"
     ]
    },
    {
     "name": "stderr",
     "output_type": "stream",
     "text": [
      "201it [01:05,  3.06it/s]"
     ]
    },
    {
     "name": "stdout",
     "output_type": "stream",
     "text": [
      "Epoch 1, Batch 200, position loss: 27467.56640625 reconstruction loss: 70.17991638183594 RMSE(mm): 82.86670985119719\n"
     ]
    },
    {
     "name": "stderr",
     "output_type": "stream",
     "text": [
      "236it [01:16,  3.07it/s]\n"
     ]
    },
    {
     "name": "stdout",
     "output_type": "stream",
     "text": [
      "Epoch 1, Val Loss: 25962.042131696428, RMSE(mm): 68.68931738214512\n",
      "Epoch 1, test Loss: 35139.726383131376, RMSE(mm): 67.84963954198548\n"
     ]
    },
    {
     "name": "stderr",
     "output_type": "stream",
     "text": [
      "1it [00:00,  3.06it/s]"
     ]
    },
    {
     "name": "stdout",
     "output_type": "stream",
     "text": [
      "Epoch 2, Batch 0, position loss: 15089.205078125 reconstruction loss: 42.76251220703125 RMSE(mm): 61.41906275360485\n"
     ]
    },
    {
     "name": "stderr",
     "output_type": "stream",
     "text": [
      "101it [00:32,  3.07it/s]"
     ]
    },
    {
     "name": "stdout",
     "output_type": "stream",
     "text": [
      "Epoch 2, Batch 100, position loss: 14807.27734375 reconstruction loss: 22.258941650390625 RMSE(mm): 60.84257831434743\n"
     ]
    },
    {
     "name": "stderr",
     "output_type": "stream",
     "text": [
      "201it [01:05,  3.06it/s]"
     ]
    },
    {
     "name": "stdout",
     "output_type": "stream",
     "text": [
      "Epoch 2, Batch 200, position loss: 22942.33203125 reconstruction loss: 61.25944137573242 RMSE(mm): 75.7336319465302\n"
     ]
    },
    {
     "name": "stderr",
     "output_type": "stream",
     "text": [
      "236it [01:16,  3.07it/s]\n"
     ]
    },
    {
     "name": "stdout",
     "output_type": "stream",
     "text": [
      "Epoch 2, Val Loss: 25786.40483498087, RMSE(mm): 68.84236472147681\n",
      "Epoch 2, test Loss: 33959.81188217475, RMSE(mm): 66.75826824704717\n"
     ]
    },
    {
     "name": "stderr",
     "output_type": "stream",
     "text": [
      "1it [00:00,  3.08it/s]"
     ]
    },
    {
     "name": "stdout",
     "output_type": "stream",
     "text": [
      "Epoch 3, Batch 0, position loss: 15749.0625 reconstruction loss: 38.8684196472168 RMSE(mm): 62.74763441756191\n"
     ]
    },
    {
     "name": "stderr",
     "output_type": "stream",
     "text": [
      "101it [00:32,  3.06it/s]"
     ]
    },
    {
     "name": "stdout",
     "output_type": "stream",
     "text": [
      "Epoch 3, Batch 100, position loss: 13581.25 reconstruction loss: 21.676034927368164 RMSE(mm): 58.26931010403332\n"
     ]
    },
    {
     "name": "stderr",
     "output_type": "stream",
     "text": [
      "201it [01:05,  3.07it/s]"
     ]
    },
    {
     "name": "stdout",
     "output_type": "stream",
     "text": [
      "Epoch 3, Batch 200, position loss: 22214.84765625 reconstruction loss: 57.424381256103516 RMSE(mm): 74.52323070065133\n"
     ]
    },
    {
     "name": "stderr",
     "output_type": "stream",
     "text": [
      "236it [01:16,  3.07it/s]\n"
     ]
    },
    {
     "name": "stdout",
     "output_type": "stream",
     "text": [
      "Epoch 3, Val Loss: 24788.76686065051, RMSE(mm): 67.269176002231\n",
      "Epoch 3, test Loss: 31700.83490114796, RMSE(mm): 63.28685640634895\n"
     ]
    },
    {
     "name": "stderr",
     "output_type": "stream",
     "text": [
      "1it [00:00,  3.07it/s]"
     ]
    },
    {
     "name": "stdout",
     "output_type": "stream",
     "text": [
      "Epoch 4, Batch 0, position loss: 13906.6904296875 reconstruction loss: 37.42452621459961 RMSE(mm): 58.96331577703102\n"
     ]
    },
    {
     "name": "stderr",
     "output_type": "stream",
     "text": [
      "101it [00:32,  3.06it/s]"
     ]
    },
    {
     "name": "stdout",
     "output_type": "stream",
     "text": [
      "Epoch 4, Batch 100, position loss: 11813.16796875 reconstruction loss: 20.80902099609375 RMSE(mm): 54.344199250586996\n"
     ]
    },
    {
     "name": "stderr",
     "output_type": "stream",
     "text": [
      "201it [01:05,  3.06it/s]"
     ]
    },
    {
     "name": "stdout",
     "output_type": "stream",
     "text": [
      "Epoch 4, Batch 200, position loss: 20439.400390625 reconstruction loss: 55.492435455322266 RMSE(mm): 71.48321549606068\n"
     ]
    },
    {
     "name": "stderr",
     "output_type": "stream",
     "text": [
      "236it [01:16,  3.07it/s]\n"
     ]
    },
    {
     "name": "stdout",
     "output_type": "stream",
     "text": [
      "Epoch 4, Val Loss: 24189.889787946428, RMSE(mm): 66.41623101762171\n",
      "Epoch 4, test Loss: 30533.927395567604, RMSE(mm): 61.668476440783124\n"
     ]
    },
    {
     "name": "stderr",
     "output_type": "stream",
     "text": [
      "1it [00:00,  3.06it/s]"
     ]
    },
    {
     "name": "stdout",
     "output_type": "stream",
     "text": [
      "Epoch 5, Batch 0, position loss: 12687.8916015625 reconstruction loss: 36.18920135498047 RMSE(mm): 56.32027077696471\n"
     ]
    },
    {
     "name": "stderr",
     "output_type": "stream",
     "text": [
      "101it [00:32,  3.06it/s]"
     ]
    },
    {
     "name": "stdout",
     "output_type": "stream",
     "text": [
      "Epoch 5, Batch 100, position loss: 11153.505859375 reconstruction loss: 20.186613082885742 RMSE(mm): 52.805079915134584\n"
     ]
    },
    {
     "name": "stderr",
     "output_type": "stream",
     "text": [
      "201it [01:05,  3.06it/s]"
     ]
    },
    {
     "name": "stdout",
     "output_type": "stream",
     "text": [
      "Epoch 5, Batch 200, position loss: 17089.21484375 reconstruction loss: 50.61368179321289 RMSE(mm): 65.36286186312148\n"
     ]
    },
    {
     "name": "stderr",
     "output_type": "stream",
     "text": [
      "236it [01:16,  3.07it/s]\n"
     ]
    },
    {
     "name": "stdout",
     "output_type": "stream",
     "text": [
      "Epoch 5, Val Loss: 25080.117087850766, RMSE(mm): 68.24784173865876\n",
      "Epoch 5, test Loss: 30660.915676817604, RMSE(mm): 62.627317348808376\n"
     ]
    },
    {
     "name": "stderr",
     "output_type": "stream",
     "text": [
      "1it [00:00,  3.04it/s]"
     ]
    },
    {
     "name": "stdout",
     "output_type": "stream",
     "text": [
      "Epoch 6, Batch 0, position loss: 9530.443359375 reconstruction loss: 35.04850387573242 RMSE(mm): 48.81199483573428\n"
     ]
    },
    {
     "name": "stderr",
     "output_type": "stream",
     "text": [
      "101it [00:32,  3.06it/s]"
     ]
    },
    {
     "name": "stdout",
     "output_type": "stream",
     "text": [
      "Epoch 6, Batch 100, position loss: 9444.2607421875 reconstruction loss: 20.6335391998291 RMSE(mm): 48.59079321792221\n"
     ]
    },
    {
     "name": "stderr",
     "output_type": "stream",
     "text": [
      "201it [01:05,  3.06it/s]"
     ]
    },
    {
     "name": "stdout",
     "output_type": "stream",
     "text": [
      "Epoch 6, Batch 200, position loss: 14253.02734375 reconstruction loss: 48.17301940917969 RMSE(mm): 59.69302166868\n"
     ]
    },
    {
     "name": "stderr",
     "output_type": "stream",
     "text": [
      "236it [01:16,  3.07it/s]\n"
     ]
    },
    {
     "name": "stdout",
     "output_type": "stream",
     "text": [
      "Epoch 6, Val Loss: 24122.313875159438, RMSE(mm): 66.57128427233748\n",
      "Epoch 6, test Loss: 29686.613321109693, RMSE(mm): 60.92892870449282\n"
     ]
    },
    {
     "name": "stderr",
     "output_type": "stream",
     "text": [
      "1it [00:00,  3.04it/s]"
     ]
    },
    {
     "name": "stdout",
     "output_type": "stream",
     "text": [
      "Epoch 7, Batch 0, position loss: 8854.7255859375 reconstruction loss: 33.89146423339844 RMSE(mm): 47.04977573256195\n"
     ]
    },
    {
     "name": "stderr",
     "output_type": "stream",
     "text": [
      "101it [00:33,  3.05it/s]"
     ]
    },
    {
     "name": "stdout",
     "output_type": "stream",
     "text": [
      "Epoch 7, Batch 100, position loss: 8322.630859375 reconstruction loss: 20.391756057739258 RMSE(mm): 45.61422711001196\n"
     ]
    },
    {
     "name": "stderr",
     "output_type": "stream",
     "text": [
      "201it [01:05,  3.07it/s]"
     ]
    },
    {
     "name": "stdout",
     "output_type": "stream",
     "text": [
      "Epoch 7, Batch 200, position loss: 11729.611328125 reconstruction loss: 47.771812438964844 RMSE(mm): 54.15166509010826\n"
     ]
    },
    {
     "name": "stderr",
     "output_type": "stream",
     "text": [
      "236it [01:16,  3.07it/s]\n"
     ]
    },
    {
     "name": "stdout",
     "output_type": "stream",
     "text": [
      "Epoch 7, Val Loss: 24456.524015465562, RMSE(mm): 67.17872182140144\n",
      "Epoch 7, test Loss: 29986.798588966838, RMSE(mm): 61.62451193915841\n"
     ]
    },
    {
     "name": "stderr",
     "output_type": "stream",
     "text": [
      "1it [00:00,  3.05it/s]"
     ]
    },
    {
     "name": "stdout",
     "output_type": "stream",
     "text": [
      "Epoch 8, Batch 0, position loss: 7884.35888671875 reconstruction loss: 33.82518768310547 RMSE(mm): 44.39695622089072\n"
     ]
    },
    {
     "name": "stderr",
     "output_type": "stream",
     "text": [
      "101it [00:32,  3.07it/s]"
     ]
    },
    {
     "name": "stdout",
     "output_type": "stream",
     "text": [
      "Epoch 8, Batch 100, position loss: 7315.0126953125 reconstruction loss: 20.297460556030273 RMSE(mm): 42.76392374219331\n"
     ]
    },
    {
     "name": "stderr",
     "output_type": "stream",
     "text": [
      "201it [01:05,  3.07it/s]"
     ]
    },
    {
     "name": "stdout",
     "output_type": "stream",
     "text": [
      "Epoch 8, Batch 200, position loss: 9787.4638671875 reconstruction loss: 47.414512634277344 RMSE(mm): 49.46580603605763\n"
     ]
    },
    {
     "name": "stderr",
     "output_type": "stream",
     "text": [
      "236it [01:16,  3.07it/s]\n"
     ]
    },
    {
     "name": "stdout",
     "output_type": "stream",
     "text": [
      "Epoch 8, Val Loss: 24863.80735809949, RMSE(mm): 67.9182931081435\n",
      "Epoch 8, test Loss: 30387.03168845663, RMSE(mm): 62.506335417101454\n"
     ]
    },
    {
     "name": "stderr",
     "output_type": "stream",
     "text": [
      "1it [00:00,  3.07it/s]"
     ]
    },
    {
     "name": "stdout",
     "output_type": "stream",
     "text": [
      "Epoch 9, Batch 0, position loss: 6679.2041015625 reconstruction loss: 33.765254974365234 RMSE(mm): 40.86319891284363\n"
     ]
    },
    {
     "name": "stderr",
     "output_type": "stream",
     "text": [
      "101it [00:33,  3.02it/s]"
     ]
    },
    {
     "name": "stdout",
     "output_type": "stream",
     "text": [
      "Epoch 9, Batch 100, position loss: 6535.22216796875 reconstruction loss: 20.226669311523438 RMSE(mm): 40.42036048815235\n"
     ]
    },
    {
     "name": "stderr",
     "output_type": "stream",
     "text": [
      "201it [01:05,  3.05it/s]"
     ]
    },
    {
     "name": "stdout",
     "output_type": "stream",
     "text": [
      "Epoch 9, Batch 200, position loss: 7763.62109375 reconstruction loss: 47.06629943847656 RMSE(mm): 44.05570647983641\n"
     ]
    },
    {
     "name": "stderr",
     "output_type": "stream",
     "text": [
      "236it [01:17,  3.06it/s]\n"
     ]
    },
    {
     "name": "stdout",
     "output_type": "stream",
     "text": [
      "Epoch 9, Val Loss: 25612.504842952807, RMSE(mm): 69.27810717973527\n",
      "Epoch 9, test Loss: 31053.836734693876, RMSE(mm): 63.905049597964506\n"
     ]
    },
    {
     "name": "stderr",
     "output_type": "stream",
     "text": [
      "1it [00:00,  3.07it/s]"
     ]
    },
    {
     "name": "stdout",
     "output_type": "stream",
     "text": [
      "Epoch 10, Batch 0, position loss: 6175.064453125 reconstruction loss: 33.72210693359375 RMSE(mm): 39.29078916592603\n"
     ]
    },
    {
     "name": "stderr",
     "output_type": "stream",
     "text": [
      "101it [00:32,  3.07it/s]"
     ]
    },
    {
     "name": "stdout",
     "output_type": "stream",
     "text": [
      "Epoch 10, Batch 100, position loss: 5613.1357421875 reconstruction loss: 20.154937744140625 RMSE(mm): 37.46043159851305\n"
     ]
    },
    {
     "name": "stderr",
     "output_type": "stream",
     "text": [
      "201it [01:05,  3.06it/s]"
     ]
    },
    {
     "name": "stdout",
     "output_type": "stream",
     "text": [
      "Epoch 10, Batch 200, position loss: 6150.7158203125 reconstruction loss: 46.667884826660156 RMSE(mm): 39.21324973880799\n"
     ]
    },
    {
     "name": "stderr",
     "output_type": "stream",
     "text": [
      "236it [01:16,  3.07it/s]\n"
     ]
    },
    {
     "name": "stdout",
     "output_type": "stream",
     "text": [
      "Epoch 10, Val Loss: 26280.89845742985, RMSE(mm): 70.47595981673074\n",
      "Epoch 10, test Loss: 31727.309869260203, RMSE(mm): 65.29268714655754\n"
     ]
    },
    {
     "name": "stderr",
     "output_type": "stream",
     "text": [
      "1it [00:00,  2.96it/s]"
     ]
    },
    {
     "name": "stdout",
     "output_type": "stream",
     "text": [
      "Epoch 11, Batch 0, position loss: 5163.5185546875 reconstruction loss: 33.640838623046875 RMSE(mm): 35.92881348822801\n"
     ]
    },
    {
     "name": "stderr",
     "output_type": "stream",
     "text": [
      "101it [00:32,  3.06it/s]"
     ]
    },
    {
     "name": "stdout",
     "output_type": "stream",
     "text": [
      "Epoch 11, Batch 100, position loss: 4780.01953125 reconstruction loss: 20.083070755004883 RMSE(mm): 34.56884265943105\n"
     ]
    },
    {
     "name": "stderr",
     "output_type": "stream",
     "text": [
      "201it [01:05,  3.06it/s]"
     ]
    },
    {
     "name": "stdout",
     "output_type": "stream",
     "text": [
      "Epoch 11, Batch 200, position loss: 4987.5830078125 reconstruction loss: 46.208770751953125 RMSE(mm): 35.31141107281221\n"
     ]
    },
    {
     "name": "stderr",
     "output_type": "stream",
     "text": [
      "236it [01:16,  3.07it/s]\n"
     ]
    },
    {
     "name": "stdout",
     "output_type": "stream",
     "text": [
      "Epoch 11, Val Loss: 26821.56150350765, RMSE(mm): 71.43904760646886\n",
      "Epoch 11, test Loss: 32220.934151785714, RMSE(mm): 66.31886342066007\n"
     ]
    },
    {
     "name": "stderr",
     "output_type": "stream",
     "text": [
      "1it [00:00,  3.05it/s]"
     ]
    },
    {
     "name": "stdout",
     "output_type": "stream",
     "text": [
      "Epoch 12, Batch 0, position loss: 4200.779296875 reconstruction loss: 33.5695686340332 RMSE(mm): 32.40670955556503\n"
     ]
    },
    {
     "name": "stderr",
     "output_type": "stream",
     "text": [
      "101it [00:33,  3.04it/s]"
     ]
    },
    {
     "name": "stdout",
     "output_type": "stream",
     "text": [
      "Epoch 12, Batch 100, position loss: 5436.359375 reconstruction loss: 21.28179931640625 RMSE(mm): 36.8658357256417\n"
     ]
    },
    {
     "name": "stderr",
     "output_type": "stream",
     "text": [
      "201it [01:05,  3.07it/s]"
     ]
    },
    {
     "name": "stdout",
     "output_type": "stream",
     "text": [
      "Epoch 12, Batch 200, position loss: 4265.72119140625 reconstruction loss: 44.961891174316406 RMSE(mm): 32.6562443929421\n"
     ]
    },
    {
     "name": "stderr",
     "output_type": "stream",
     "text": [
      "236it [01:16,  3.07it/s]\n"
     ]
    },
    {
     "name": "stdout",
     "output_type": "stream",
     "text": [
      "Epoch 12, Val Loss: 26523.86276307398, RMSE(mm): 70.90772402040096\n",
      "Epoch 12, test Loss: 31840.64056521046, RMSE(mm): 65.59398592946457\n"
     ]
    },
    {
     "name": "stderr",
     "output_type": "stream",
     "text": [
      "1it [00:00,  3.07it/s]"
     ]
    },
    {
     "name": "stdout",
     "output_type": "stream",
     "text": [
      "Epoch 13, Batch 0, position loss: 3820.99609375 reconstruction loss: 33.47576141357422 RMSE(mm): 30.907103122704658\n"
     ]
    },
    {
     "name": "stderr",
     "output_type": "stream",
     "text": [
      "101it [00:32,  3.07it/s]"
     ]
    },
    {
     "name": "stdout",
     "output_type": "stream",
     "text": [
      "Epoch 13, Batch 100, position loss: 5248.70947265625 reconstruction loss: 21.02372932434082 RMSE(mm): 36.22398884943598\n"
     ]
    },
    {
     "name": "stderr",
     "output_type": "stream",
     "text": [
      "201it [01:05,  3.06it/s]"
     ]
    },
    {
     "name": "stdout",
     "output_type": "stream",
     "text": [
      "Epoch 13, Batch 200, position loss: 4169.84521484375 reconstruction loss: 45.03160095214844 RMSE(mm): 32.28716933568097\n"
     ]
    },
    {
     "name": "stderr",
     "output_type": "stream",
     "text": [
      "236it [01:16,  3.07it/s]\n"
     ]
    },
    {
     "name": "stdout",
     "output_type": "stream",
     "text": [
      "Epoch 13, Val Loss: 26586.429189253828, RMSE(mm): 71.0116372172662\n",
      "Epoch 13, test Loss: 31839.3125, RMSE(mm): 65.59095987602672\n"
     ]
    },
    {
     "name": "stderr",
     "output_type": "stream",
     "text": [
      "1it [00:00,  3.05it/s]"
     ]
    },
    {
     "name": "stdout",
     "output_type": "stream",
     "text": [
      "Epoch 14, Batch 0, position loss: 3871.653076171875 reconstruction loss: 33.4788703918457 RMSE(mm): 31.11130452171636\n"
     ]
    },
    {
     "name": "stderr",
     "output_type": "stream",
     "text": [
      "101it [00:33,  3.06it/s]"
     ]
    },
    {
     "name": "stdout",
     "output_type": "stream",
     "text": [
      "Epoch 14, Batch 100, position loss: 4808.7294921875 reconstruction loss: 20.938507080078125 RMSE(mm): 34.67250168428686\n"
     ]
    },
    {
     "name": "stderr",
     "output_type": "stream",
     "text": [
      "201it [01:05,  3.06it/s]"
     ]
    },
    {
     "name": "stdout",
     "output_type": "stream",
     "text": [
      "Epoch 14, Batch 200, position loss: 4206.93310546875 reconstruction loss: 45.0382080078125 RMSE(mm): 32.430437498855724\n"
     ]
    },
    {
     "name": "stderr",
     "output_type": "stream",
     "text": [
      "236it [01:16,  3.07it/s]\n"
     ]
    },
    {
     "name": "stdout",
     "output_type": "stream",
     "text": [
      "Epoch 14, Val Loss: 26650.637874681124, RMSE(mm): 71.121921682711\n",
      "Epoch 14, test Loss: 31862.74055325255, RMSE(mm): 65.64148139431093\n"
     ]
    },
    {
     "name": "stderr",
     "output_type": "stream",
     "text": [
      "Some weights of DeiTForMaskedImageModeling were not initialized from the model checkpoint at facebook/deit-base-distilled-patch16-224 and are newly initialized: ['decoder.0.weight', 'decoder.0.bias', 'deit.embeddings.mask_token']\n",
      "You should probably TRAIN this model on a down-stream task to be able to use it for predictions and inference.\n",
      "Some weights of DeiTForMaskedImageModeling were not initialized from the model checkpoint at facebook/deit-base-distilled-patch16-224 and are newly initialized because the shapes did not match:\n",
      "- deit.embeddings.position_embeddings: found shape torch.Size([1, 198, 768]) in the checkpoint and torch.Size([1, 258, 768]) in the model instantiated\n",
      "- deit.embeddings.patch_embeddings.projection.weight: found shape torch.Size([768, 3, 16, 16]) in the checkpoint and torch.Size([768, 256, 8, 1]) in the model instantiated\n",
      "You should probably TRAIN this model on a down-stream task to be able to use it for predictions and inference.\n"
     ]
    },
    {
     "name": "stdout",
     "output_type": "stream",
     "text": [
      "create dataloader...\n",
      "HI\n",
      "training...\n"
     ]
    },
    {
     "name": "stderr",
     "output_type": "stream",
     "text": [
      "1it [00:00,  2.13it/s]"
     ]
    },
    {
     "name": "stdout",
     "output_type": "stream",
     "text": [
      "Epoch 0, Batch 0, position loss: 169329.625 reconstruction loss: 79.94564056396484 RMSE(mm): 205.74840521860673\n"
     ]
    },
    {
     "name": "stderr",
     "output_type": "stream",
     "text": [
      "101it [00:33,  3.07it/s]"
     ]
    },
    {
     "name": "stdout",
     "output_type": "stream",
     "text": [
      "Epoch 0, Batch 100, position loss: 25784.4921875 reconstruction loss: 33.23210906982422 RMSE(mm): 80.28775153704953\n"
     ]
    },
    {
     "name": "stderr",
     "output_type": "stream",
     "text": [
      "201it [01:05,  3.07it/s]"
     ]
    },
    {
     "name": "stdout",
     "output_type": "stream",
     "text": [
      "Epoch 0, Batch 200, position loss: 31118.37109375 reconstruction loss: 81.29904174804688 RMSE(mm): 88.20199982674713\n"
     ]
    },
    {
     "name": "stderr",
     "output_type": "stream",
     "text": [
      "236it [01:17,  3.06it/s]\n"
     ]
    },
    {
     "name": "stdout",
     "output_type": "stream",
     "text": [
      "Epoch 0, Val Loss: 31169.66035554847, RMSE(mm): 74.16764133801084\n",
      "Epoch 0, test Loss: 41931.710698341834, RMSE(mm): 73.61523433639984\n"
     ]
    },
    {
     "name": "stderr",
     "output_type": "stream",
     "text": [
      "1it [00:00,  3.07it/s]"
     ]
    },
    {
     "name": "stdout",
     "output_type": "stream",
     "text": [
      "Epoch 1, Batch 0, position loss: 19582.693359375 reconstruction loss: 58.304893493652344 RMSE(mm): 69.9690884594315\n"
     ]
    },
    {
     "name": "stderr",
     "output_type": "stream",
     "text": [
      "101it [00:32,  3.06it/s]"
     ]
    },
    {
     "name": "stdout",
     "output_type": "stream",
     "text": [
      "Epoch 1, Batch 100, position loss: 16735.52734375 reconstruction loss: 26.73941993713379 RMSE(mm): 64.68293311173744\n"
     ]
    },
    {
     "name": "stderr",
     "output_type": "stream",
     "text": [
      "201it [01:05,  3.07it/s]"
     ]
    },
    {
     "name": "stdout",
     "output_type": "stream",
     "text": [
      "Epoch 1, Batch 200, position loss: 26873.107421875 reconstruction loss: 71.1592788696289 RMSE(mm): 81.96509534837833\n"
     ]
    },
    {
     "name": "stderr",
     "output_type": "stream",
     "text": [
      "236it [01:16,  3.07it/s]\n"
     ]
    },
    {
     "name": "stdout",
     "output_type": "stream",
     "text": [
      "Epoch 1, Val Loss: 27650.290178571428, RMSE(mm): 69.96387683585083\n",
      "Epoch 1, test Loss: 37930.27230149873, RMSE(mm): 68.89763806872699\n"
     ]
    },
    {
     "name": "stderr",
     "output_type": "stream",
     "text": [
      "1it [00:00,  3.03it/s]"
     ]
    },
    {
     "name": "stdout",
     "output_type": "stream",
     "text": [
      "Epoch 2, Batch 0, position loss: 18304.0625 reconstruction loss: 44.584503173828125 RMSE(mm): 67.6462535917548\n"
     ]
    },
    {
     "name": "stderr",
     "output_type": "stream",
     "text": [
      "101it [00:32,  3.06it/s]"
     ]
    },
    {
     "name": "stdout",
     "output_type": "stream",
     "text": [
      "Epoch 2, Batch 100, position loss: 14976.5234375 reconstruction loss: 23.040935516357422 RMSE(mm): 61.189303471889595\n"
     ]
    },
    {
     "name": "stderr",
     "output_type": "stream",
     "text": [
      "201it [01:05,  3.06it/s]"
     ]
    },
    {
     "name": "stdout",
     "output_type": "stream",
     "text": [
      "Epoch 2, Batch 200, position loss: 23388.48828125 reconstruction loss: 62.45047378540039 RMSE(mm): 76.46647677454807\n"
     ]
    },
    {
     "name": "stderr",
     "output_type": "stream",
     "text": [
      "236it [01:16,  3.07it/s]\n"
     ]
    },
    {
     "name": "stdout",
     "output_type": "stream",
     "text": [
      "Epoch 2, Val Loss: 26515.836356026786, RMSE(mm): 68.67206919216349\n",
      "Epoch 2, test Loss: 35314.96510283801, RMSE(mm): 65.25110827334072\n"
     ]
    },
    {
     "name": "stderr",
     "output_type": "stream",
     "text": [
      "1it [00:00,  3.06it/s]"
     ]
    },
    {
     "name": "stdout",
     "output_type": "stream",
     "text": [
      "Epoch 3, Batch 0, position loss: 16785.21875 reconstruction loss: 39.290103912353516 RMSE(mm): 64.77889075539963\n"
     ]
    },
    {
     "name": "stderr",
     "output_type": "stream",
     "text": [
      "101it [00:32,  3.07it/s]"
     ]
    },
    {
     "name": "stdout",
     "output_type": "stream",
     "text": [
      "Epoch 3, Batch 100, position loss: 13172.296875 reconstruction loss: 22.04731559753418 RMSE(mm): 57.38531361550619\n"
     ]
    },
    {
     "name": "stderr",
     "output_type": "stream",
     "text": [
      "201it [01:05,  3.07it/s]"
     ]
    },
    {
     "name": "stdout",
     "output_type": "stream",
     "text": [
      "Epoch 3, Batch 200, position loss: 22039.71875 reconstruction loss: 60.12187576293945 RMSE(mm): 74.22890062165814\n"
     ]
    },
    {
     "name": "stderr",
     "output_type": "stream",
     "text": [
      "236it [01:16,  3.07it/s]\n"
     ]
    },
    {
     "name": "stdout",
     "output_type": "stream",
     "text": [
      "Epoch 3, Val Loss: 25609.756078603317, RMSE(mm): 67.21262615281047\n",
      "Epoch 3, test Loss: 33130.129663584186, RMSE(mm): 61.83508229591878\n"
     ]
    },
    {
     "name": "stderr",
     "output_type": "stream",
     "text": [
      "1it [00:00,  3.07it/s]"
     ]
    },
    {
     "name": "stdout",
     "output_type": "stream",
     "text": [
      "Epoch 4, Batch 0, position loss: 13701.5625 reconstruction loss: 37.492828369140625 RMSE(mm): 58.526836793047345\n"
     ]
    },
    {
     "name": "stderr",
     "output_type": "stream",
     "text": [
      "101it [00:32,  3.07it/s]"
     ]
    },
    {
     "name": "stdout",
     "output_type": "stream",
     "text": [
      "Epoch 4, Batch 100, position loss: 11382.3701171875 reconstruction loss: 21.48589515686035 RMSE(mm): 53.344095542964034\n"
     ]
    },
    {
     "name": "stderr",
     "output_type": "stream",
     "text": [
      "201it [01:05,  3.07it/s]"
     ]
    },
    {
     "name": "stdout",
     "output_type": "stream",
     "text": [
      "Epoch 4, Batch 200, position loss: 21246.1484375 reconstruction loss: 57.594581604003906 RMSE(mm): 72.88029301103968\n"
     ]
    },
    {
     "name": "stderr",
     "output_type": "stream",
     "text": [
      "236it [01:16,  3.07it/s]\n"
     ]
    },
    {
     "name": "stdout",
     "output_type": "stream",
     "text": [
      "Epoch 4, Val Loss: 25199.668825733417, RMSE(mm): 66.62612294206242\n",
      "Epoch 4, test Loss: 32395.91655373087, RMSE(mm): 61.15546897313159\n"
     ]
    },
    {
     "name": "stderr",
     "output_type": "stream",
     "text": [
      "1it [00:00,  3.06it/s]"
     ]
    },
    {
     "name": "stdout",
     "output_type": "stream",
     "text": [
      "Epoch 5, Batch 0, position loss: 12437.916015625 reconstruction loss: 36.427528381347656 RMSE(mm): 55.762702623763225\n"
     ]
    },
    {
     "name": "stderr",
     "output_type": "stream",
     "text": [
      "101it [00:33,  3.06it/s]"
     ]
    },
    {
     "name": "stdout",
     "output_type": "stream",
     "text": [
      "Epoch 5, Batch 100, position loss: 10746.13671875 reconstruction loss: 20.602720260620117 RMSE(mm): 51.83178734799235\n"
     ]
    },
    {
     "name": "stderr",
     "output_type": "stream",
     "text": [
      "201it [01:05,  3.03it/s]"
     ]
    },
    {
     "name": "stdout",
     "output_type": "stream",
     "text": [
      "Epoch 5, Batch 200, position loss: 21042.572265625 reconstruction loss: 55.035579681396484 RMSE(mm): 72.53029068193682\n"
     ]
    },
    {
     "name": "stderr",
     "output_type": "stream",
     "text": [
      "236it [01:16,  3.07it/s]\n"
     ]
    },
    {
     "name": "stdout",
     "output_type": "stream",
     "text": [
      "Epoch 5, Val Loss: 25199.44011080995, RMSE(mm): 66.96932309922197\n",
      "Epoch 5, test Loss: 31994.03202726403, RMSE(mm): 61.26313288994248\n"
     ]
    },
    {
     "name": "stderr",
     "output_type": "stream",
     "text": [
      "1it [00:00,  3.07it/s]"
     ]
    },
    {
     "name": "stdout",
     "output_type": "stream",
     "text": [
      "Epoch 6, Batch 0, position loss: 10863.3681640625 reconstruction loss: 35.21601867675781 RMSE(mm): 52.11374138378116\n"
     ]
    },
    {
     "name": "stderr",
     "output_type": "stream",
     "text": [
      "101it [00:32,  3.07it/s]"
     ]
    },
    {
     "name": "stdout",
     "output_type": "stream",
     "text": [
      "Epoch 6, Batch 100, position loss: 11221.666015625 reconstruction loss: 20.394046783447266 RMSE(mm): 52.966182644270766\n"
     ]
    },
    {
     "name": "stderr",
     "output_type": "stream",
     "text": [
      "201it [01:05,  3.06it/s]"
     ]
    },
    {
     "name": "stdout",
     "output_type": "stream",
     "text": [
      "Epoch 6, Batch 200, position loss: 13981.630859375 reconstruction loss: 49.222755432128906 RMSE(mm): 59.121973198158315\n"
     ]
    },
    {
     "name": "stderr",
     "output_type": "stream",
     "text": [
      "236it [01:16,  3.07it/s]\n"
     ]
    },
    {
     "name": "stdout",
     "output_type": "stream",
     "text": [
      "Epoch 6, Val Loss: 24280.179567920917, RMSE(mm): 65.25878369881355\n",
      "Epoch 6, test Loss: 31451.03119021046, RMSE(mm): 60.43431575724109\n"
     ]
    },
    {
     "name": "stderr",
     "output_type": "stream",
     "text": [
      "1it [00:00,  3.05it/s]"
     ]
    },
    {
     "name": "stdout",
     "output_type": "stream",
     "text": [
      "Epoch 7, Batch 0, position loss: 9829.744140625 reconstruction loss: 34.649009704589844 RMSE(mm): 49.572533071815585\n"
     ]
    },
    {
     "name": "stderr",
     "output_type": "stream",
     "text": [
      "101it [00:32,  3.05it/s]"
     ]
    },
    {
     "name": "stdout",
     "output_type": "stream",
     "text": [
      "Epoch 7, Batch 100, position loss: 9721.3125 reconstruction loss: 20.331117630004883 RMSE(mm): 49.29835823838356\n"
     ]
    },
    {
     "name": "stderr",
     "output_type": "stream",
     "text": [
      "201it [01:05,  3.06it/s]"
     ]
    },
    {
     "name": "stdout",
     "output_type": "stream",
     "text": [
      "Epoch 7, Batch 200, position loss: 12074.8017578125 reconstruction loss: 48.92007064819336 RMSE(mm): 54.94270142114533\n"
     ]
    },
    {
     "name": "stderr",
     "output_type": "stream",
     "text": [
      "236it [01:16,  3.07it/s]\n"
     ]
    },
    {
     "name": "stdout",
     "output_type": "stream",
     "text": [
      "Epoch 7, Val Loss: 24417.500757334183, RMSE(mm): 65.49920067133785\n",
      "Epoch 7, test Loss: 31614.123226243624, RMSE(mm): 60.87039860964705\n"
     ]
    },
    {
     "name": "stderr",
     "output_type": "stream",
     "text": [
      "1it [00:00,  3.07it/s]"
     ]
    },
    {
     "name": "stdout",
     "output_type": "stream",
     "text": [
      "Epoch 8, Batch 0, position loss: 8642.986328125 reconstruction loss: 34.575233459472656 RMSE(mm): 46.48383140438458\n"
     ]
    },
    {
     "name": "stderr",
     "output_type": "stream",
     "text": [
      "101it [00:33,  3.05it/s]"
     ]
    },
    {
     "name": "stdout",
     "output_type": "stream",
     "text": [
      "Epoch 8, Batch 100, position loss: 9146.986328125 reconstruction loss: 20.231576919555664 RMSE(mm): 47.81993916800031\n"
     ]
    },
    {
     "name": "stderr",
     "output_type": "stream",
     "text": [
      "201it [01:05,  3.06it/s]"
     ]
    },
    {
     "name": "stdout",
     "output_type": "stream",
     "text": [
      "Epoch 8, Batch 200, position loss: 10745.2705078125 reconstruction loss: 48.613101959228516 RMSE(mm): 51.82969831045831\n"
     ]
    },
    {
     "name": "stderr",
     "output_type": "stream",
     "text": [
      "236it [01:16,  3.07it/s]\n"
     ]
    },
    {
     "name": "stdout",
     "output_type": "stream",
     "text": [
      "Epoch 8, Val Loss: 24642.179508131376, RMSE(mm): 65.91257287297448\n",
      "Epoch 8, test Loss: 31902.823022959183, RMSE(mm): 61.548246182481506\n"
     ]
    },
    {
     "name": "stderr",
     "output_type": "stream",
     "text": [
      "1it [00:00,  3.05it/s]"
     ]
    },
    {
     "name": "stdout",
     "output_type": "stream",
     "text": [
      "Epoch 9, Batch 0, position loss: 7638.52587890625 reconstruction loss: 34.52716064453125 RMSE(mm): 43.699330312106184\n"
     ]
    },
    {
     "name": "stderr",
     "output_type": "stream",
     "text": [
      "101it [00:32,  3.05it/s]"
     ]
    },
    {
     "name": "stdout",
     "output_type": "stream",
     "text": [
      "Epoch 9, Batch 100, position loss: 7941.08984375 reconstruction loss: 20.18069839477539 RMSE(mm): 44.55639640879298\n"
     ]
    },
    {
     "name": "stderr",
     "output_type": "stream",
     "text": [
      "201it [01:05,  3.06it/s]"
     ]
    },
    {
     "name": "stdout",
     "output_type": "stream",
     "text": [
      "Epoch 9, Batch 200, position loss: 9390.7177734375 reconstruction loss: 48.315521240234375 RMSE(mm): 48.45285794831276\n"
     ]
    },
    {
     "name": "stderr",
     "output_type": "stream",
     "text": [
      "236it [01:16,  3.07it/s]\n"
     ]
    },
    {
     "name": "stdout",
     "output_type": "stream",
     "text": [
      "Epoch 9, Val Loss: 25027.825155452807, RMSE(mm): 66.63626038414145\n",
      "Epoch 9, test Loss: 32338.207449776786, RMSE(mm): 62.51619548615238\n"
     ]
    },
    {
     "name": "stderr",
     "output_type": "stream",
     "text": [
      "1it [00:00,  3.08it/s]"
     ]
    },
    {
     "name": "stdout",
     "output_type": "stream",
     "text": [
      "Epoch 10, Batch 0, position loss: 7127.732421875 reconstruction loss: 34.452659606933594 RMSE(mm): 42.21294949975363\n"
     ]
    },
    {
     "name": "stderr",
     "output_type": "stream",
     "text": [
      "101it [00:32,  3.06it/s]"
     ]
    },
    {
     "name": "stdout",
     "output_type": "stream",
     "text": [
      "Epoch 10, Batch 100, position loss: 7040.3701171875 reconstruction loss: 20.18280792236328 RMSE(mm): 41.95345670259931\n"
     ]
    },
    {
     "name": "stderr",
     "output_type": "stream",
     "text": [
      "201it [01:05,  3.06it/s]"
     ]
    },
    {
     "name": "stdout",
     "output_type": "stream",
     "text": [
      "Epoch 10, Batch 200, position loss: 8186.87646484375 reconstruction loss: 48.027915954589844 RMSE(mm): 45.240679882280034\n"
     ]
    },
    {
     "name": "stderr",
     "output_type": "stream",
     "text": [
      "236it [01:16,  3.07it/s]\n"
     ]
    },
    {
     "name": "stdout",
     "output_type": "stream",
     "text": [
      "Epoch 10, Val Loss: 25746.794961734693, RMSE(mm): 67.97323807168009\n",
      "Epoch 10, test Loss: 32969.72718032525, RMSE(mm): 63.855348566094676\n"
     ]
    },
    {
     "name": "stderr",
     "output_type": "stream",
     "text": [
      "1it [00:00,  3.02it/s]"
     ]
    },
    {
     "name": "stdout",
     "output_type": "stream",
     "text": [
      "Epoch 11, Batch 0, position loss: 6073.501953125 reconstruction loss: 34.452369689941406 RMSE(mm): 38.96633788645335\n"
     ]
    },
    {
     "name": "stderr",
     "output_type": "stream",
     "text": [
      "101it [00:32,  3.06it/s]"
     ]
    },
    {
     "name": "stdout",
     "output_type": "stream",
     "text": [
      "Epoch 11, Batch 100, position loss: 6264.7568359375 reconstruction loss: 20.129959106445312 RMSE(mm): 39.575108451959736\n"
     ]
    },
    {
     "name": "stderr",
     "output_type": "stream",
     "text": [
      "201it [01:05,  3.07it/s]"
     ]
    },
    {
     "name": "stdout",
     "output_type": "stream",
     "text": [
      "Epoch 11, Batch 200, position loss: 6776.47900390625 reconstruction loss: 47.741966247558594 RMSE(mm): 41.1596859922007\n"
     ]
    },
    {
     "name": "stderr",
     "output_type": "stream",
     "text": [
      "236it [01:16,  3.07it/s]\n"
     ]
    },
    {
     "name": "stdout",
     "output_type": "stream",
     "text": [
      "Epoch 11, Val Loss: 26617.427893813776, RMSE(mm): 69.5577962538398\n",
      "Epoch 11, test Loss: 33680.40834263393, RMSE(mm): 65.31995207889125\n"
     ]
    },
    {
     "name": "stderr",
     "output_type": "stream",
     "text": [
      "1it [00:00,  3.07it/s]"
     ]
    },
    {
     "name": "stdout",
     "output_type": "stream",
     "text": [
      "Epoch 12, Batch 0, position loss: 5198.1044921875 reconstruction loss: 34.37297058105469 RMSE(mm): 36.04894066469742\n"
     ]
    },
    {
     "name": "stderr",
     "output_type": "stream",
     "text": [
      "101it [00:32,  3.07it/s]"
     ]
    },
    {
     "name": "stdout",
     "output_type": "stream",
     "text": [
      "Epoch 12, Batch 100, position loss: 7024.1220703125 reconstruction loss: 21.120361328125 RMSE(mm): 41.90501780906584\n"
     ]
    },
    {
     "name": "stderr",
     "output_type": "stream",
     "text": [
      "201it [01:05,  3.06it/s]"
     ]
    },
    {
     "name": "stdout",
     "output_type": "stream",
     "text": [
      "Epoch 12, Batch 200, position loss: 6188.69921875 reconstruction loss: 46.821998596191406 RMSE(mm): 39.3341429891068\n"
     ]
    },
    {
     "name": "stderr",
     "output_type": "stream",
     "text": [
      "236it [01:16,  3.07it/s]\n"
     ]
    },
    {
     "name": "stdout",
     "output_type": "stream",
     "text": [
      "Epoch 12, Val Loss: 26450.827008928572, RMSE(mm): 69.27204408243212\n",
      "Epoch 12, test Loss: 32968.662388392855, RMSE(mm): 63.94652588866912\n"
     ]
    },
    {
     "name": "stderr",
     "output_type": "stream",
     "text": [
      "1it [00:00,  3.07it/s]"
     ]
    },
    {
     "name": "stdout",
     "output_type": "stream",
     "text": [
      "Epoch 13, Batch 0, position loss: 5096.3193359375 reconstruction loss: 34.13077926635742 RMSE(mm): 35.6942549156636\n"
     ]
    },
    {
     "name": "stderr",
     "output_type": "stream",
     "text": [
      "101it [00:33,  3.06it/s]"
     ]
    },
    {
     "name": "stdout",
     "output_type": "stream",
     "text": [
      "Epoch 13, Batch 100, position loss: 6255.927734375 reconstruction loss: 20.944942474365234 RMSE(mm): 39.5472114515518\n"
     ]
    },
    {
     "name": "stderr",
     "output_type": "stream",
     "text": [
      "201it [01:05,  3.05it/s]"
     ]
    },
    {
     "name": "stdout",
     "output_type": "stream",
     "text": [
      "Epoch 13, Batch 200, position loss: 5898.69140625 reconstruction loss: 46.83359146118164 RMSE(mm): 38.401469393273224\n"
     ]
    },
    {
     "name": "stderr",
     "output_type": "stream",
     "text": [
      "236it [01:17,  3.06it/s]\n"
     ]
    },
    {
     "name": "stdout",
     "output_type": "stream",
     "text": [
      "Epoch 13, Val Loss: 26538.206413424745, RMSE(mm): 69.42693960704257\n",
      "Epoch 13, test Loss: 32997.19212372449, RMSE(mm): 64.00782934294422\n"
     ]
    },
    {
     "name": "stderr",
     "output_type": "stream",
     "text": [
      "1it [00:00,  3.04it/s]"
     ]
    },
    {
     "name": "stdout",
     "output_type": "stream",
     "text": [
      "Epoch 14, Batch 0, position loss: 5050.787109375 reconstruction loss: 34.12428665161133 RMSE(mm): 35.534444942108635\n"
     ]
    },
    {
     "name": "stderr",
     "output_type": "stream",
     "text": [
      "101it [00:32,  3.06it/s]"
     ]
    },
    {
     "name": "stdout",
     "output_type": "stream",
     "text": [
      "Epoch 14, Batch 100, position loss: 5950.572265625 reconstruction loss: 20.9193172454834 RMSE(mm): 38.56997623030445\n"
     ]
    },
    {
     "name": "stderr",
     "output_type": "stream",
     "text": [
      "201it [01:05,  3.06it/s]"
     ]
    },
    {
     "name": "stdout",
     "output_type": "stream",
     "text": [
      "Epoch 14, Batch 200, position loss: 5693.87060546875 reconstruction loss: 46.816917419433594 RMSE(mm): 37.728870263595056\n"
     ]
    },
    {
     "name": "stderr",
     "output_type": "stream",
     "text": [
      "236it [01:16,  3.07it/s]\n"
     ]
    },
    {
     "name": "stdout",
     "output_type": "stream",
     "text": [
      "Epoch 14, Val Loss: 26634.23854033801, RMSE(mm): 69.59882561670254\n",
      "Epoch 14, test Loss: 33048.736407844386, RMSE(mm): 64.1164322740731\n"
     ]
    },
    {
     "name": "stderr",
     "output_type": "stream",
     "text": [
      "Some weights of DeiTForMaskedImageModeling were not initialized from the model checkpoint at facebook/deit-base-distilled-patch16-224 and are newly initialized: ['decoder.0.weight', 'decoder.0.bias', 'deit.embeddings.mask_token']\n",
      "You should probably TRAIN this model on a down-stream task to be able to use it for predictions and inference.\n",
      "Some weights of DeiTForMaskedImageModeling were not initialized from the model checkpoint at facebook/deit-base-distilled-patch16-224 and are newly initialized because the shapes did not match:\n",
      "- deit.embeddings.position_embeddings: found shape torch.Size([1, 198, 768]) in the checkpoint and torch.Size([1, 258, 768]) in the model instantiated\n",
      "- deit.embeddings.patch_embeddings.projection.weight: found shape torch.Size([768, 3, 16, 16]) in the checkpoint and torch.Size([768, 256, 8, 1]) in the model instantiated\n",
      "You should probably TRAIN this model on a down-stream task to be able to use it for predictions and inference.\n"
     ]
    },
    {
     "name": "stdout",
     "output_type": "stream",
     "text": [
      "create dataloader...\n",
      "HI\n",
      "training...\n"
     ]
    },
    {
     "name": "stderr",
     "output_type": "stream",
     "text": [
      "1it [00:00,  2.12it/s]"
     ]
    },
    {
     "name": "stdout",
     "output_type": "stream",
     "text": [
      "Epoch 0, Batch 0, position loss: 169454.265625 reconstruction loss: 79.92595672607422 RMSE(mm): 205.8241152203745\n"
     ]
    },
    {
     "name": "stderr",
     "output_type": "stream",
     "text": [
      "101it [00:33,  3.06it/s]"
     ]
    },
    {
     "name": "stdout",
     "output_type": "stream",
     "text": [
      "Epoch 0, Batch 100, position loss: 24781.3359375 reconstruction loss: 32.04111099243164 RMSE(mm): 78.71044393455674\n"
     ]
    },
    {
     "name": "stderr",
     "output_type": "stream",
     "text": [
      "201it [01:05,  3.07it/s]"
     ]
    },
    {
     "name": "stdout",
     "output_type": "stream",
     "text": [
      "Epoch 0, Batch 200, position loss: 31463.37109375 reconstruction loss: 79.06852722167969 RMSE(mm): 88.6895866121694\n"
     ]
    },
    {
     "name": "stderr",
     "output_type": "stream",
     "text": [
      "236it [01:17,  3.06it/s]\n"
     ]
    },
    {
     "name": "stdout",
     "output_type": "stream",
     "text": [
      "Epoch 0, Val Loss: 31201.41621492347, RMSE(mm): 72.90255568331908\n",
      "Epoch 0, test Loss: 42027.46452487245, RMSE(mm): 70.50228705418608\n"
     ]
    },
    {
     "name": "stderr",
     "output_type": "stream",
     "text": [
      "1it [00:00,  3.05it/s]"
     ]
    },
    {
     "name": "stdout",
     "output_type": "stream",
     "text": [
      "Epoch 1, Batch 0, position loss: 16923.37109375 reconstruction loss: 57.84660339355469 RMSE(mm): 65.04492888333033\n"
     ]
    },
    {
     "name": "stderr",
     "output_type": "stream",
     "text": [
      "101it [00:33,  3.06it/s]"
     ]
    },
    {
     "name": "stdout",
     "output_type": "stream",
     "text": [
      "Epoch 1, Batch 100, position loss: 17749.693359375 reconstruction loss: 27.45124053955078 RMSE(mm): 66.61398756900648\n"
     ]
    },
    {
     "name": "stderr",
     "output_type": "stream",
     "text": [
      "201it [01:05,  3.07it/s]"
     ]
    },
    {
     "name": "stdout",
     "output_type": "stream",
     "text": [
      "Epoch 1, Batch 200, position loss: 25463.70703125 reconstruction loss: 73.4248275756836 RMSE(mm): 79.78675803548168\n"
     ]
    },
    {
     "name": "stderr",
     "output_type": "stream",
     "text": [
      "236it [01:16,  3.07it/s]\n"
     ]
    },
    {
     "name": "stdout",
     "output_type": "stream",
     "text": [
      "Epoch 1, Val Loss: 27873.390226403062, RMSE(mm): 68.54027474556158\n",
      "Epoch 1, test Loss: 38466.761639030614, RMSE(mm): 66.04305035776312\n"
     ]
    },
    {
     "name": "stderr",
     "output_type": "stream",
     "text": [
      "1it [00:00,  3.07it/s]"
     ]
    },
    {
     "name": "stdout",
     "output_type": "stream",
     "text": [
      "Epoch 2, Batch 0, position loss: 16896.84375 reconstruction loss: 43.563880920410156 RMSE(mm): 64.9939300050397\n"
     ]
    },
    {
     "name": "stderr",
     "output_type": "stream",
     "text": [
      "101it [00:32,  3.04it/s]"
     ]
    },
    {
     "name": "stdout",
     "output_type": "stream",
     "text": [
      "Epoch 2, Batch 100, position loss: 15779.78125 reconstruction loss: 23.342817306518555 RMSE(mm): 62.808799642247585\n"
     ]
    },
    {
     "name": "stderr",
     "output_type": "stream",
     "text": [
      "201it [01:05,  3.07it/s]"
     ]
    },
    {
     "name": "stdout",
     "output_type": "stream",
     "text": [
      "Epoch 2, Batch 200, position loss: 23074.724609375 reconstruction loss: 62.84343338012695 RMSE(mm): 75.9518344238225\n"
     ]
    },
    {
     "name": "stderr",
     "output_type": "stream",
     "text": [
      "236it [01:16,  3.07it/s]\n"
     ]
    },
    {
     "name": "stdout",
     "output_type": "stream",
     "text": [
      "Epoch 2, Val Loss: 27093.21731505102, RMSE(mm): 68.10031140534134\n",
      "Epoch 2, test Loss: 36394.029077646686, RMSE(mm): 63.67866050922431\n"
     ]
    },
    {
     "name": "stderr",
     "output_type": "stream",
     "text": [
      "1it [00:00,  3.07it/s]"
     ]
    },
    {
     "name": "stdout",
     "output_type": "stream",
     "text": [
      "Epoch 3, Batch 0, position loss: 14666.955078125 reconstruction loss: 38.453365325927734 RMSE(mm): 60.55360244883247\n"
     ]
    },
    {
     "name": "stderr",
     "output_type": "stream",
     "text": [
      "101it [00:32,  3.07it/s]"
     ]
    },
    {
     "name": "stdout",
     "output_type": "stream",
     "text": [
      "Epoch 3, Batch 100, position loss: 15259.498046875 reconstruction loss: 21.226112365722656 RMSE(mm): 61.76467041698474\n"
     ]
    },
    {
     "name": "stderr",
     "output_type": "stream",
     "text": [
      "201it [01:05,  3.03it/s]"
     ]
    },
    {
     "name": "stdout",
     "output_type": "stream",
     "text": [
      "Epoch 3, Batch 200, position loss: 21908.388671875 reconstruction loss: 58.57746124267578 RMSE(mm): 74.00741292579244\n"
     ]
    },
    {
     "name": "stderr",
     "output_type": "stream",
     "text": [
      "236it [01:16,  3.07it/s]\n"
     ]
    },
    {
     "name": "stdout",
     "output_type": "stream",
     "text": [
      "Epoch 3, Val Loss: 26296.69895966199, RMSE(mm): 67.06499670085469\n",
      "Epoch 3, test Loss: 35222.46055883291, RMSE(mm): 62.397403514904255\n"
     ]
    },
    {
     "name": "stderr",
     "output_type": "stream",
     "text": [
      "1it [00:00,  3.05it/s]"
     ]
    },
    {
     "name": "stdout",
     "output_type": "stream",
     "text": [
      "Epoch 4, Batch 0, position loss: 12520.63671875 reconstruction loss: 36.446266174316406 RMSE(mm): 55.94782551348622\n"
     ]
    },
    {
     "name": "stderr",
     "output_type": "stream",
     "text": [
      "101it [00:32,  3.07it/s]"
     ]
    },
    {
     "name": "stdout",
     "output_type": "stream",
     "text": [
      "Epoch 4, Batch 100, position loss: 13727.173828125 reconstruction loss: 20.417255401611328 RMSE(mm): 58.5815112218117\n"
     ]
    },
    {
     "name": "stderr",
     "output_type": "stream",
     "text": [
      "201it [01:05,  3.07it/s]"
     ]
    },
    {
     "name": "stdout",
     "output_type": "stream",
     "text": [
      "Epoch 4, Batch 200, position loss: 20750.34375 reconstruction loss: 56.21390914916992 RMSE(mm): 72.02489803880322\n"
     ]
    },
    {
     "name": "stderr",
     "output_type": "stream",
     "text": [
      "236it [01:16,  3.07it/s]\n"
     ]
    },
    {
     "name": "stdout",
     "output_type": "stream",
     "text": [
      "Epoch 4, Val Loss: 26242.953344228317, RMSE(mm): 67.0116721846603\n",
      "Epoch 4, test Loss: 34792.2041414222, RMSE(mm): 62.10736996988274\n"
     ]
    },
    {
     "name": "stderr",
     "output_type": "stream",
     "text": [
      "1it [00:00,  3.06it/s]"
     ]
    },
    {
     "name": "stdout",
     "output_type": "stream",
     "text": [
      "Epoch 5, Batch 0, position loss: 11982.9248046875 reconstruction loss: 35.878150939941406 RMSE(mm): 54.73327325468371\n"
     ]
    },
    {
     "name": "stderr",
     "output_type": "stream",
     "text": [
      "101it [00:32,  3.06it/s]"
     ]
    },
    {
     "name": "stdout",
     "output_type": "stream",
     "text": [
      "Epoch 5, Batch 100, position loss: 12865.69140625 reconstruction loss: 20.15606689453125 RMSE(mm): 56.71351559868688\n"
     ]
    },
    {
     "name": "stderr",
     "output_type": "stream",
     "text": [
      "201it [01:05,  3.07it/s]"
     ]
    },
    {
     "name": "stdout",
     "output_type": "stream",
     "text": [
      "Epoch 5, Batch 200, position loss: 19861.611328125 reconstruction loss: 54.253021240234375 RMSE(mm): 70.4656145366749\n"
     ]
    },
    {
     "name": "stderr",
     "output_type": "stream",
     "text": [
      "236it [01:16,  3.07it/s]\n"
     ]
    },
    {
     "name": "stdout",
     "output_type": "stream",
     "text": [
      "Epoch 5, Val Loss: 26306.39714205995, RMSE(mm): 67.54007105107681\n",
      "Epoch 5, test Loss: 34341.8818359375, RMSE(mm): 62.332679410665115\n"
     ]
    },
    {
     "name": "stderr",
     "output_type": "stream",
     "text": [
      "1it [00:00,  3.06it/s]"
     ]
    },
    {
     "name": "stdout",
     "output_type": "stream",
     "text": [
      "Epoch 6, Batch 0, position loss: 11772.75 reconstruction loss: 34.58412551879883 RMSE(mm): 54.251152061500036\n"
     ]
    },
    {
     "name": "stderr",
     "output_type": "stream",
     "text": [
      "101it [00:32,  3.06it/s]"
     ]
    },
    {
     "name": "stdout",
     "output_type": "stream",
     "text": [
      "Epoch 6, Batch 100, position loss: 11484.421875 reconstruction loss: 20.354700088500977 RMSE(mm): 53.582697475491095\n"
     ]
    },
    {
     "name": "stderr",
     "output_type": "stream",
     "text": [
      "201it [01:05,  3.06it/s]"
     ]
    },
    {
     "name": "stdout",
     "output_type": "stream",
     "text": [
      "Epoch 6, Batch 200, position loss: 14840.697265625 reconstruction loss: 48.88864517211914 RMSE(mm): 60.911200254191755\n"
     ]
    },
    {
     "name": "stderr",
     "output_type": "stream",
     "text": [
      "236it [01:16,  3.07it/s]\n"
     ]
    },
    {
     "name": "stdout",
     "output_type": "stream",
     "text": [
      "Epoch 6, Val Loss: 25108.4716796875, RMSE(mm): 65.324813958847\n",
      "Epoch 6, test Loss: 33063.574238679845, RMSE(mm): 59.964530872268035\n"
     ]
    },
    {
     "name": "stderr",
     "output_type": "stream",
     "text": [
      "1it [00:00,  3.08it/s]"
     ]
    },
    {
     "name": "stdout",
     "output_type": "stream",
     "text": [
      "Epoch 7, Batch 0, position loss: 10420.09375 reconstruction loss: 34.00811767578125 RMSE(mm): 51.039430223112795\n"
     ]
    },
    {
     "name": "stderr",
     "output_type": "stream",
     "text": [
      "101it [00:32,  3.07it/s]"
     ]
    },
    {
     "name": "stdout",
     "output_type": "stream",
     "text": [
      "Epoch 7, Batch 100, position loss: 10613.533203125 reconstruction loss: 20.308568954467773 RMSE(mm): 51.511001745076264\n"
     ]
    },
    {
     "name": "stderr",
     "output_type": "stream",
     "text": [
      "201it [01:05,  3.06it/s]"
     ]
    },
    {
     "name": "stdout",
     "output_type": "stream",
     "text": [
      "Epoch 7, Batch 200, position loss: 11968.845703125 reconstruction loss: 48.56353759765625 RMSE(mm): 54.70110991361373\n"
     ]
    },
    {
     "name": "stderr",
     "output_type": "stream",
     "text": [
      "236it [01:16,  3.07it/s]\n"
     ]
    },
    {
     "name": "stdout",
     "output_type": "stream",
     "text": [
      "Epoch 7, Val Loss: 25281.59343112245, RMSE(mm): 65.60509970681741\n",
      "Epoch 7, test Loss: 33080.50005978954, RMSE(mm): 60.05952127467371\n"
     ]
    },
    {
     "name": "stderr",
     "output_type": "stream",
     "text": [
      "1it [00:00,  3.07it/s]"
     ]
    },
    {
     "name": "stdout",
     "output_type": "stream",
     "text": [
      "Epoch 8, Batch 0, position loss: 9175.337890625 reconstruction loss: 33.9642333984375 RMSE(mm): 47.89399203090352\n"
     ]
    },
    {
     "name": "stderr",
     "output_type": "stream",
     "text": [
      "101it [00:32,  3.07it/s]"
     ]
    },
    {
     "name": "stdout",
     "output_type": "stream",
     "text": [
      "Epoch 8, Batch 100, position loss: 10045.498046875 reconstruction loss: 20.338333129882812 RMSE(mm): 50.11361603116213\n"
     ]
    },
    {
     "name": "stderr",
     "output_type": "stream",
     "text": [
      "201it [01:05,  3.07it/s]"
     ]
    },
    {
     "name": "stdout",
     "output_type": "stream",
     "text": [
      "Epoch 8, Batch 200, position loss: 10110.27734375 reconstruction loss: 48.39125061035156 RMSE(mm): 50.274937453342496\n"
     ]
    },
    {
     "name": "stderr",
     "output_type": "stream",
     "text": [
      "236it [01:16,  3.07it/s]\n"
     ]
    },
    {
     "name": "stdout",
     "output_type": "stream",
     "text": [
      "Epoch 8, Val Loss: 25686.16426179847, RMSE(mm): 66.32665168672108\n",
      "Epoch 8, test Loss: 33445.57091039541, RMSE(mm): 60.87277546923162\n"
     ]
    },
    {
     "name": "stderr",
     "output_type": "stream",
     "text": [
      "1it [00:00,  3.06it/s]"
     ]
    },
    {
     "name": "stdout",
     "output_type": "stream",
     "text": [
      "Epoch 9, Batch 0, position loss: 8493.58203125 reconstruction loss: 33.968929290771484 RMSE(mm): 46.08031583889698\n"
     ]
    },
    {
     "name": "stderr",
     "output_type": "stream",
     "text": [
      "101it [00:33,  3.06it/s]"
     ]
    },
    {
     "name": "stdout",
     "output_type": "stream",
     "text": [
      "Epoch 9, Batch 100, position loss: 9149.609375 reconstruction loss: 20.41593360900879 RMSE(mm): 47.82679524858424\n"
     ]
    },
    {
     "name": "stderr",
     "output_type": "stream",
     "text": [
      "201it [01:05,  3.06it/s]"
     ]
    },
    {
     "name": "stdout",
     "output_type": "stream",
     "text": [
      "Epoch 9, Batch 200, position loss: 8147.111328125 reconstruction loss: 48.18075942993164 RMSE(mm): 45.13067506731148\n"
     ]
    },
    {
     "name": "stderr",
     "output_type": "stream",
     "text": [
      "236it [01:16,  3.07it/s]\n"
     ]
    },
    {
     "name": "stdout",
     "output_type": "stream",
     "text": [
      "Epoch 9, Val Loss: 26137.297273596938, RMSE(mm): 67.14314948021227\n",
      "Epoch 9, test Loss: 34031.56722337373, RMSE(mm): 62.13594180561257\n"
     ]
    },
    {
     "name": "stderr",
     "output_type": "stream",
     "text": [
      "1it [00:00,  3.06it/s]"
     ]
    },
    {
     "name": "stdout",
     "output_type": "stream",
     "text": [
      "Epoch 10, Batch 0, position loss: 7588.10986328125 reconstruction loss: 33.976375579833984 RMSE(mm): 43.554878783212246\n"
     ]
    },
    {
     "name": "stderr",
     "output_type": "stream",
     "text": [
      "101it [00:32,  3.06it/s]"
     ]
    },
    {
     "name": "stdout",
     "output_type": "stream",
     "text": [
      "Epoch 10, Batch 100, position loss: 8178.29150390625 reconstruction loss: 20.45450782775879 RMSE(mm): 45.21695341325599\n"
     ]
    },
    {
     "name": "stderr",
     "output_type": "stream",
     "text": [
      "201it [01:05,  3.06it/s]"
     ]
    },
    {
     "name": "stdout",
     "output_type": "stream",
     "text": [
      "Epoch 10, Batch 200, position loss: 6641.2431640625 reconstruction loss: 47.93799591064453 RMSE(mm): 40.746911429157734\n"
     ]
    },
    {
     "name": "stderr",
     "output_type": "stream",
     "text": [
      "236it [01:16,  3.07it/s]\n"
     ]
    },
    {
     "name": "stdout",
     "output_type": "stream",
     "text": [
      "Epoch 10, Val Loss: 26808.702826052297, RMSE(mm): 68.35659351119597\n",
      "Epoch 10, test Loss: 34823.19058912627, RMSE(mm): 63.78473146664242\n"
     ]
    },
    {
     "name": "stderr",
     "output_type": "stream",
     "text": [
      "1it [00:00,  3.04it/s]"
     ]
    },
    {
     "name": "stdout",
     "output_type": "stream",
     "text": [
      "Epoch 11, Batch 0, position loss: 6477.9326171875 reconstruction loss: 33.96879959106445 RMSE(mm): 40.24280251544212\n"
     ]
    },
    {
     "name": "stderr",
     "output_type": "stream",
     "text": [
      "101it [00:32,  3.07it/s]"
     ]
    },
    {
     "name": "stdout",
     "output_type": "stream",
     "text": [
      "Epoch 11, Batch 100, position loss: 6921.7734375 reconstruction loss: 20.411298751831055 RMSE(mm): 41.598598045787554\n"
     ]
    },
    {
     "name": "stderr",
     "output_type": "stream",
     "text": [
      "201it [01:05,  3.05it/s]"
     ]
    },
    {
     "name": "stdout",
     "output_type": "stream",
     "text": [
      "Epoch 11, Batch 200, position loss: 5333.3251953125 reconstruction loss: 47.767608642578125 RMSE(mm): 36.51480930839055\n"
     ]
    },
    {
     "name": "stderr",
     "output_type": "stream",
     "text": [
      "236it [01:16,  3.07it/s]\n"
     ]
    },
    {
     "name": "stdout",
     "output_type": "stream",
     "text": [
      "Epoch 11, Val Loss: 27494.65668845663, RMSE(mm): 69.58515495319166\n",
      "Epoch 11, test Loss: 35511.78768734056, RMSE(mm): 65.20151592081376\n"
     ]
    },
    {
     "name": "stderr",
     "output_type": "stream",
     "text": [
      "1it [00:00,  3.00it/s]"
     ]
    },
    {
     "name": "stdout",
     "output_type": "stream",
     "text": [
      "Epoch 12, Batch 0, position loss: 5194.0361328125 reconstruction loss: 33.904388427734375 RMSE(mm): 36.03483083355776\n"
     ]
    },
    {
     "name": "stderr",
     "output_type": "stream",
     "text": [
      "101it [00:33,  3.07it/s]"
     ]
    },
    {
     "name": "stdout",
     "output_type": "stream",
     "text": [
      "Epoch 12, Batch 100, position loss: 7252.21484375 reconstruction loss: 21.468482971191406 RMSE(mm): 42.57996842339717\n"
     ]
    },
    {
     "name": "stderr",
     "output_type": "stream",
     "text": [
      "201it [01:05,  3.06it/s]"
     ]
    },
    {
     "name": "stdout",
     "output_type": "stream",
     "text": [
      "Epoch 12, Batch 200, position loss: 4892.81005859375 reconstruction loss: 46.823829650878906 RMSE(mm): 34.97431221122779\n"
     ]
    },
    {
     "name": "stderr",
     "output_type": "stream",
     "text": [
      "236it [01:16,  3.07it/s]\n"
     ]
    },
    {
     "name": "stdout",
     "output_type": "stream",
     "text": [
      "Epoch 12, Val Loss: 27236.81744260204, RMSE(mm): 69.11602608500091\n",
      "Epoch 12, test Loss: 35004.367426658166, RMSE(mm): 64.22171700560706\n"
     ]
    },
    {
     "name": "stderr",
     "output_type": "stream",
     "text": [
      "1it [00:00,  3.06it/s]"
     ]
    },
    {
     "name": "stdout",
     "output_type": "stream",
     "text": [
      "Epoch 13, Batch 0, position loss: 5165.98486328125 reconstruction loss: 33.779300689697266 RMSE(mm): 35.93739300255811\n"
     ]
    },
    {
     "name": "stderr",
     "output_type": "stream",
     "text": [
      "101it [00:32,  3.06it/s]"
     ]
    },
    {
     "name": "stdout",
     "output_type": "stream",
     "text": [
      "Epoch 13, Batch 100, position loss: 7210.39501953125 reconstruction loss: 21.330684661865234 RMSE(mm): 42.45702244485372\n"
     ]
    },
    {
     "name": "stderr",
     "output_type": "stream",
     "text": [
      "201it [01:05,  3.06it/s]"
     ]
    },
    {
     "name": "stdout",
     "output_type": "stream",
     "text": [
      "Epoch 13, Batch 200, position loss: 4773.25146484375 reconstruction loss: 46.84027862548828 RMSE(mm): 34.54436084530929\n"
     ]
    },
    {
     "name": "stderr",
     "output_type": "stream",
     "text": [
      "236it [01:16,  3.07it/s]\n"
     ]
    },
    {
     "name": "stdout",
     "output_type": "stream",
     "text": [
      "Epoch 13, Val Loss: 27252.979611766583, RMSE(mm): 69.14356275466403\n",
      "Epoch 13, test Loss: 35014.6669921875, RMSE(mm): 64.2471925444261\n"
     ]
    },
    {
     "name": "stderr",
     "output_type": "stream",
     "text": [
      "1it [00:00,  3.07it/s]"
     ]
    },
    {
     "name": "stdout",
     "output_type": "stream",
     "text": [
      "Epoch 14, Batch 0, position loss: 4794.5283203125 reconstruction loss: 33.76905059814453 RMSE(mm): 34.621266298015804\n"
     ]
    },
    {
     "name": "stderr",
     "output_type": "stream",
     "text": [
      "101it [00:32,  3.06it/s]"
     ]
    },
    {
     "name": "stdout",
     "output_type": "stream",
     "text": [
      "Epoch 14, Batch 100, position loss: 6853.3515625 reconstruction loss: 21.287944793701172 RMSE(mm): 41.39248591985024\n"
     ]
    },
    {
     "name": "stderr",
     "output_type": "stream",
     "text": [
      "201it [01:05,  3.06it/s]"
     ]
    },
    {
     "name": "stdout",
     "output_type": "stream",
     "text": [
      "Epoch 14, Batch 200, position loss: 4849.669921875 reconstruction loss: 46.842498779296875 RMSE(mm): 34.819785761385006\n"
     ]
    },
    {
     "name": "stderr",
     "output_type": "stream",
     "text": [
      "236it [01:16,  3.07it/s]\n"
     ]
    },
    {
     "name": "stdout",
     "output_type": "stream",
     "text": [
      "Epoch 14, Val Loss: 27307.492327008928, RMSE(mm): 69.23879526386229\n",
      "Epoch 14, test Loss: 35077.37952407525, RMSE(mm): 64.37496772524949\n"
     ]
    },
    {
     "name": "stderr",
     "output_type": "stream",
     "text": [
      "Some weights of DeiTForMaskedImageModeling were not initialized from the model checkpoint at facebook/deit-base-distilled-patch16-224 and are newly initialized: ['decoder.0.weight', 'decoder.0.bias', 'deit.embeddings.mask_token']\n",
      "You should probably TRAIN this model on a down-stream task to be able to use it for predictions and inference.\n",
      "Some weights of DeiTForMaskedImageModeling were not initialized from the model checkpoint at facebook/deit-base-distilled-patch16-224 and are newly initialized because the shapes did not match:\n",
      "- deit.embeddings.position_embeddings: found shape torch.Size([1, 198, 768]) in the checkpoint and torch.Size([1, 258, 768]) in the model instantiated\n",
      "- deit.embeddings.patch_embeddings.projection.weight: found shape torch.Size([768, 3, 16, 16]) in the checkpoint and torch.Size([768, 256, 8, 1]) in the model instantiated\n",
      "You should probably TRAIN this model on a down-stream task to be able to use it for predictions and inference.\n"
     ]
    },
    {
     "name": "stdout",
     "output_type": "stream",
     "text": [
      "create dataloader...\n",
      "HI\n",
      "training...\n"
     ]
    },
    {
     "name": "stderr",
     "output_type": "stream",
     "text": [
      "1it [00:00,  2.10it/s]"
     ]
    },
    {
     "name": "stdout",
     "output_type": "stream",
     "text": [
      "Epoch 0, Batch 0, position loss: 169186.921875 reconstruction loss: 79.9681625366211 RMSE(mm): 205.66168935596633\n"
     ]
    },
    {
     "name": "stderr",
     "output_type": "stream",
     "text": [
      "101it [00:33,  3.07it/s]"
     ]
    },
    {
     "name": "stdout",
     "output_type": "stream",
     "text": [
      "Epoch 0, Batch 100, position loss: 21632.26953125 reconstruction loss: 32.6734733581543 RMSE(mm): 73.5395633847013\n"
     ]
    },
    {
     "name": "stderr",
     "output_type": "stream",
     "text": [
      "201it [01:05,  3.06it/s]"
     ]
    },
    {
     "name": "stdout",
     "output_type": "stream",
     "text": [
      "Epoch 0, Batch 200, position loss: 32980.9609375 reconstruction loss: 77.36370849609375 RMSE(mm): 90.80330519521303\n"
     ]
    },
    {
     "name": "stderr",
     "output_type": "stream",
     "text": [
      "236it [01:17,  3.06it/s]\n"
     ]
    },
    {
     "name": "stdout",
     "output_type": "stream",
     "text": [
      "Epoch 0, Val Loss: 31669.464485012755, RMSE(mm): 72.78173365444664\n",
      "Epoch 0, test Loss: 45316.28679049745, RMSE(mm): 72.88875918358102\n"
     ]
    },
    {
     "name": "stderr",
     "output_type": "stream",
     "text": [
      "1it [00:00,  3.07it/s]"
     ]
    },
    {
     "name": "stdout",
     "output_type": "stream",
     "text": [
      "Epoch 1, Batch 0, position loss: 17945.73046875 reconstruction loss: 51.221248626708984 RMSE(mm): 66.98083768651674\n"
     ]
    },
    {
     "name": "stderr",
     "output_type": "stream",
     "text": [
      "101it [00:32,  3.07it/s]"
     ]
    },
    {
     "name": "stdout",
     "output_type": "stream",
     "text": [
      "Epoch 1, Batch 100, position loss: 16823.025390625 reconstruction loss: 25.708267211914062 RMSE(mm): 64.85180296380548\n"
     ]
    },
    {
     "name": "stderr",
     "output_type": "stream",
     "text": [
      "201it [01:05,  3.07it/s]"
     ]
    },
    {
     "name": "stdout",
     "output_type": "stream",
     "text": [
      "Epoch 1, Batch 200, position loss: 29132.251953125 reconstruction loss: 65.6010513305664 RMSE(mm): 85.3408635313778\n"
     ]
    },
    {
     "name": "stderr",
     "output_type": "stream",
     "text": [
      "236it [01:16,  3.07it/s]\n"
     ]
    },
    {
     "name": "stdout",
     "output_type": "stream",
     "text": [
      "Epoch 1, Val Loss: 28483.585100446428, RMSE(mm): 69.03065450190527\n",
      "Epoch 1, test Loss: 40963.31074617347, RMSE(mm): 67.54538950701475\n"
     ]
    },
    {
     "name": "stderr",
     "output_type": "stream",
     "text": [
      "1it [00:00,  3.08it/s]"
     ]
    },
    {
     "name": "stdout",
     "output_type": "stream",
     "text": [
      "Epoch 2, Batch 0, position loss: 18596.8671875 reconstruction loss: 42.503814697265625 RMSE(mm): 68.1851655191582\n"
     ]
    },
    {
     "name": "stderr",
     "output_type": "stream",
     "text": [
      "101it [00:33,  3.05it/s]"
     ]
    },
    {
     "name": "stdout",
     "output_type": "stream",
     "text": [
      "Epoch 2, Batch 100, position loss: 14985.5380859375 reconstruction loss: 22.042362213134766 RMSE(mm): 61.20771619235907\n"
     ]
    },
    {
     "name": "stderr",
     "output_type": "stream",
     "text": [
      "201it [01:05,  3.06it/s]"
     ]
    },
    {
     "name": "stdout",
     "output_type": "stream",
     "text": [
      "Epoch 2, Batch 200, position loss: 25284.96484375 reconstruction loss: 60.06174087524414 RMSE(mm): 79.50623378665034\n"
     ]
    },
    {
     "name": "stderr",
     "output_type": "stream",
     "text": [
      "236it [01:17,  3.06it/s]\n"
     ]
    },
    {
     "name": "stdout",
     "output_type": "stream",
     "text": [
      "Epoch 2, Val Loss: 26939.734335140307, RMSE(mm): 66.78241478074676\n",
      "Epoch 2, test Loss: 38255.170141103314, RMSE(mm): 63.83304735066364\n"
     ]
    },
    {
     "name": "stderr",
     "output_type": "stream",
     "text": [
      "1it [00:00,  3.07it/s]"
     ]
    },
    {
     "name": "stdout",
     "output_type": "stream",
     "text": [
      "Epoch 3, Batch 0, position loss: 15414.8818359375 reconstruction loss: 37.7586669921875 RMSE(mm): 62.07834130342381\n"
     ]
    },
    {
     "name": "stderr",
     "output_type": "stream",
     "text": [
      "101it [00:32,  3.06it/s]"
     ]
    },
    {
     "name": "stdout",
     "output_type": "stream",
     "text": [
      "Epoch 3, Batch 100, position loss: 13890.2060546875 reconstruction loss: 21.01487159729004 RMSE(mm): 58.928359163240536\n"
     ]
    },
    {
     "name": "stderr",
     "output_type": "stream",
     "text": [
      "201it [01:05,  3.06it/s]"
     ]
    },
    {
     "name": "stdout",
     "output_type": "stream",
     "text": [
      "Epoch 3, Batch 200, position loss: 23404.9921875 reconstruction loss: 56.02064895629883 RMSE(mm): 76.49345100644237\n"
     ]
    },
    {
     "name": "stderr",
     "output_type": "stream",
     "text": [
      "236it [01:16,  3.07it/s]\n"
     ]
    },
    {
     "name": "stdout",
     "output_type": "stream",
     "text": [
      "Epoch 3, Val Loss: 26727.853934151786, RMSE(mm): 66.58224779219955\n",
      "Epoch 3, test Loss: 36999.340341996176, RMSE(mm): 62.24795987860285\n"
     ]
    },
    {
     "name": "stderr",
     "output_type": "stream",
     "text": [
      "1it [00:00,  3.06it/s]"
     ]
    },
    {
     "name": "stdout",
     "output_type": "stream",
     "text": [
      "Epoch 4, Batch 0, position loss: 14826.6591796875 reconstruction loss: 36.154239654541016 RMSE(mm): 60.88238493129088\n"
     ]
    },
    {
     "name": "stderr",
     "output_type": "stream",
     "text": [
      "101it [00:32,  3.06it/s]"
     ]
    },
    {
     "name": "stdout",
     "output_type": "stream",
     "text": [
      "Epoch 4, Batch 100, position loss: 14244.5009765625 reconstruction loss: 20.02230453491211 RMSE(mm): 59.67516438302139\n"
     ]
    },
    {
     "name": "stderr",
     "output_type": "stream",
     "text": [
      "201it [01:05,  3.05it/s]"
     ]
    },
    {
     "name": "stdout",
     "output_type": "stream",
     "text": [
      "Epoch 4, Batch 200, position loss: 20928.28125 reconstruction loss: 52.92306900024414 RMSE(mm): 72.3330513147344\n"
     ]
    },
    {
     "name": "stderr",
     "output_type": "stream",
     "text": [
      "236it [01:16,  3.07it/s]\n"
     ]
    },
    {
     "name": "stdout",
     "output_type": "stream",
     "text": [
      "Epoch 4, Val Loss: 26371.95220822704, RMSE(mm): 66.25530661686481\n",
      "Epoch 4, test Loss: 36263.09530452806, RMSE(mm): 61.7690263206701\n"
     ]
    },
    {
     "name": "stderr",
     "output_type": "stream",
     "text": [
      "1it [00:00,  3.07it/s]"
     ]
    },
    {
     "name": "stdout",
     "output_type": "stream",
     "text": [
      "Epoch 5, Batch 0, position loss: 11396.64453125 reconstruction loss: 34.8890380859375 RMSE(mm): 53.377533970880485\n"
     ]
    },
    {
     "name": "stderr",
     "output_type": "stream",
     "text": [
      "101it [00:33,  3.06it/s]"
     ]
    },
    {
     "name": "stdout",
     "output_type": "stream",
     "text": [
      "Epoch 5, Batch 100, position loss: 14162.677734375 reconstruction loss: 19.616191864013672 RMSE(mm): 59.5035245476581\n"
     ]
    },
    {
     "name": "stderr",
     "output_type": "stream",
     "text": [
      "201it [01:05,  3.07it/s]"
     ]
    },
    {
     "name": "stdout",
     "output_type": "stream",
     "text": [
      "Epoch 5, Batch 200, position loss: 18317.666015625 reconstruction loss: 50.525569915771484 RMSE(mm): 67.67138615327936\n"
     ]
    },
    {
     "name": "stderr",
     "output_type": "stream",
     "text": [
      "236it [01:16,  3.07it/s]\n"
     ]
    },
    {
     "name": "stdout",
     "output_type": "stream",
     "text": [
      "Epoch 5, Val Loss: 26439.645806760203, RMSE(mm): 66.59429883074533\n",
      "Epoch 5, test Loss: 35492.47532684949, RMSE(mm): 61.12107740311627\n"
     ]
    },
    {
     "name": "stderr",
     "output_type": "stream",
     "text": [
      "1it [00:00,  3.07it/s]"
     ]
    },
    {
     "name": "stdout",
     "output_type": "stream",
     "text": [
      "Epoch 6, Batch 0, position loss: 10612.541015625 reconstruction loss: 34.07326889038086 RMSE(mm): 51.50859398106543\n"
     ]
    },
    {
     "name": "stderr",
     "output_type": "stream",
     "text": [
      "101it [00:32,  3.06it/s]"
     ]
    },
    {
     "name": "stdout",
     "output_type": "stream",
     "text": [
      "Epoch 6, Batch 100, position loss: 11416.251953125 reconstruction loss: 20.12487030029297 RMSE(mm): 53.42343107926755\n"
     ]
    },
    {
     "name": "stderr",
     "output_type": "stream",
     "text": [
      "201it [01:05,  3.06it/s]"
     ]
    },
    {
     "name": "stdout",
     "output_type": "stream",
     "text": [
      "Epoch 6, Batch 200, position loss: 13434.171875 reconstruction loss: 45.17230987548828 RMSE(mm): 57.9529375333986\n"
     ]
    },
    {
     "name": "stderr",
     "output_type": "stream",
     "text": [
      "236it [01:16,  3.07it/s]\n"
     ]
    },
    {
     "name": "stdout",
     "output_type": "stream",
     "text": [
      "Epoch 6, Val Loss: 25488.262814891583, RMSE(mm): 64.93664548540617\n",
      "Epoch 6, test Loss: 34324.28017378826, RMSE(mm): 59.12198710341291\n"
     ]
    },
    {
     "name": "stderr",
     "output_type": "stream",
     "text": [
      "1it [00:00,  3.08it/s]"
     ]
    },
    {
     "name": "stdout",
     "output_type": "stream",
     "text": [
      "Epoch 7, Batch 0, position loss: 9083.833984375 reconstruction loss: 33.34061813354492 RMSE(mm): 47.65457476563766\n"
     ]
    },
    {
     "name": "stderr",
     "output_type": "stream",
     "text": [
      "101it [00:32,  3.06it/s]"
     ]
    },
    {
     "name": "stdout",
     "output_type": "stream",
     "text": [
      "Epoch 7, Batch 100, position loss: 10216.7529296875 reconstruction loss: 19.938344955444336 RMSE(mm): 50.53897735829124\n"
     ]
    },
    {
     "name": "stderr",
     "output_type": "stream",
     "text": [
      "201it [01:05,  3.07it/s]"
     ]
    },
    {
     "name": "stdout",
     "output_type": "stream",
     "text": [
      "Epoch 7, Batch 200, position loss: 11771.728515625 reconstruction loss: 44.897186279296875 RMSE(mm): 54.24879840979199\n"
     ]
    },
    {
     "name": "stderr",
     "output_type": "stream",
     "text": [
      "236it [01:16,  3.07it/s]\n"
     ]
    },
    {
     "name": "stdout",
     "output_type": "stream",
     "text": [
      "Epoch 7, Val Loss: 25807.324976084183, RMSE(mm): 65.49858778016356\n",
      "Epoch 7, test Loss: 34560.31670519771, RMSE(mm): 59.68183368598966\n"
     ]
    },
    {
     "name": "stderr",
     "output_type": "stream",
     "text": [
      "1it [00:00,  3.08it/s]"
     ]
    },
    {
     "name": "stdout",
     "output_type": "stream",
     "text": [
      "Epoch 8, Batch 0, position loss: 8377.7958984375 reconstruction loss: 33.24825668334961 RMSE(mm): 45.76515021945602\n"
     ]
    },
    {
     "name": "stderr",
     "output_type": "stream",
     "text": [
      "101it [00:32,  3.06it/s]"
     ]
    },
    {
     "name": "stdout",
     "output_type": "stream",
     "text": [
      "Epoch 8, Batch 100, position loss: 9062.9658203125 reconstruction loss: 19.785112380981445 RMSE(mm): 47.59980520000187\n"
     ]
    },
    {
     "name": "stderr",
     "output_type": "stream",
     "text": [
      "201it [01:05,  3.07it/s]"
     ]
    },
    {
     "name": "stdout",
     "output_type": "stream",
     "text": [
      "Epoch 8, Batch 200, position loss: 10101.9072265625 reconstruction loss: 44.59111022949219 RMSE(mm): 50.254122285048666\n"
     ]
    },
    {
     "name": "stderr",
     "output_type": "stream",
     "text": [
      "236it [01:16,  3.07it/s]\n"
     ]
    },
    {
     "name": "stdout",
     "output_type": "stream",
     "text": [
      "Epoch 8, Val Loss: 26369.12043606505, RMSE(mm): 66.55312329159369\n",
      "Epoch 8, test Loss: 34927.25059789541, RMSE(mm): 60.53779392070209\n"
     ]
    },
    {
     "name": "stderr",
     "output_type": "stream",
     "text": [
      "1it [00:00,  3.04it/s]"
     ]
    },
    {
     "name": "stdout",
     "output_type": "stream",
     "text": [
      "Epoch 9, Batch 0, position loss: 7748.0400390625 reconstruction loss: 33.128257751464844 RMSE(mm): 44.01147588715499\n"
     ]
    },
    {
     "name": "stderr",
     "output_type": "stream",
     "text": [
      "101it [00:32,  3.06it/s]"
     ]
    },
    {
     "name": "stdout",
     "output_type": "stream",
     "text": [
      "Epoch 9, Batch 100, position loss: 8025.21484375 reconstruction loss: 19.68659019470215 RMSE(mm): 44.79178173434832\n"
     ]
    },
    {
     "name": "stderr",
     "output_type": "stream",
     "text": [
      "201it [01:05,  3.07it/s]"
     ]
    },
    {
     "name": "stdout",
     "output_type": "stream",
     "text": [
      "Epoch 9, Batch 200, position loss: 8245.9677734375 reconstruction loss: 44.23782730102539 RMSE(mm): 45.40365561669429\n"
     ]
    },
    {
     "name": "stderr",
     "output_type": "stream",
     "text": [
      "236it [01:16,  3.07it/s]\n"
     ]
    },
    {
     "name": "stdout",
     "output_type": "stream",
     "text": [
      "Epoch 9, Val Loss: 27136.352459343114, RMSE(mm): 67.98208237393061\n",
      "Epoch 9, test Loss: 35438.85357541454, RMSE(mm): 61.68746999416438\n"
     ]
    },
    {
     "name": "stderr",
     "output_type": "stream",
     "text": [
      "1it [00:00,  3.08it/s]"
     ]
    },
    {
     "name": "stdout",
     "output_type": "stream",
     "text": [
      "Epoch 10, Batch 0, position loss: 6827.548828125 reconstruction loss: 32.996620178222656 RMSE(mm): 41.3144914894429\n"
     ]
    },
    {
     "name": "stderr",
     "output_type": "stream",
     "text": [
      "101it [00:33,  3.05it/s]"
     ]
    },
    {
     "name": "stdout",
     "output_type": "stream",
     "text": [
      "Epoch 10, Batch 100, position loss: 7234.78125 reconstruction loss: 19.601146697998047 RMSE(mm): 42.52875865223437\n"
     ]
    },
    {
     "name": "stderr",
     "output_type": "stream",
     "text": [
      "201it [01:05,  3.06it/s]"
     ]
    },
    {
     "name": "stdout",
     "output_type": "stream",
     "text": [
      "Epoch 10, Batch 200, position loss: 6952.22509765625 reconstruction loss: 43.83887481689453 RMSE(mm): 41.69000209179729\n"
     ]
    },
    {
     "name": "stderr",
     "output_type": "stream",
     "text": [
      "236it [01:17,  3.06it/s]\n"
     ]
    },
    {
     "name": "stdout",
     "output_type": "stream",
     "text": [
      "Epoch 10, Val Loss: 27827.67338966837, RMSE(mm): 69.26457657331818\n",
      "Epoch 10, test Loss: 36044.161830357145, RMSE(mm): 63.01863509107467\n"
     ]
    },
    {
     "name": "stderr",
     "output_type": "stream",
     "text": [
      "1it [00:00,  3.06it/s]"
     ]
    },
    {
     "name": "stdout",
     "output_type": "stream",
     "text": [
      "Epoch 11, Batch 0, position loss: 6066.8271484375 reconstruction loss: 32.82881546020508 RMSE(mm): 38.94491991401927\n"
     ]
    },
    {
     "name": "stderr",
     "output_type": "stream",
     "text": [
      "101it [00:32,  3.07it/s]"
     ]
    },
    {
     "name": "stdout",
     "output_type": "stream",
     "text": [
      "Epoch 11, Batch 100, position loss: 6495.22119140625 reconstruction loss: 19.511030197143555 RMSE(mm): 40.296467560464436\n"
     ]
    },
    {
     "name": "stderr",
     "output_type": "stream",
     "text": [
      "201it [01:05,  3.06it/s]"
     ]
    },
    {
     "name": "stdout",
     "output_type": "stream",
     "text": [
      "Epoch 11, Batch 200, position loss: 6178.357421875 reconstruction loss: 43.42131805419922 RMSE(mm): 39.30126404415957\n"
     ]
    },
    {
     "name": "stderr",
     "output_type": "stream",
     "text": [
      "236it [01:16,  3.07it/s]\n"
     ]
    },
    {
     "name": "stdout",
     "output_type": "stream",
     "text": [
      "Epoch 11, Val Loss: 28223.705636160714, RMSE(mm): 70.00804302841131\n",
      "Epoch 11, test Loss: 36485.31405452806, RMSE(mm): 64.01622636583487\n"
     ]
    },
    {
     "name": "stderr",
     "output_type": "stream",
     "text": [
      "1it [00:00,  3.07it/s]"
     ]
    },
    {
     "name": "stdout",
     "output_type": "stream",
     "text": [
      "Epoch 12, Batch 0, position loss: 5005.02783203125 reconstruction loss: 32.69906234741211 RMSE(mm): 35.373110663437735\n"
     ]
    },
    {
     "name": "stderr",
     "output_type": "stream",
     "text": [
      "101it [00:33,  3.06it/s]"
     ]
    },
    {
     "name": "stdout",
     "output_type": "stream",
     "text": [
      "Epoch 12, Batch 100, position loss: 6995.3896484375 reconstruction loss: 20.512523651123047 RMSE(mm): 41.81922299743714\n"
     ]
    },
    {
     "name": "stderr",
     "output_type": "stream",
     "text": [
      "201it [01:05,  3.06it/s]"
     ]
    },
    {
     "name": "stdout",
     "output_type": "stream",
     "text": [
      "Epoch 12, Batch 200, position loss: 5711.35693359375 reconstruction loss: 42.09209442138672 RMSE(mm): 37.78676002779859\n"
     ]
    },
    {
     "name": "stderr",
     "output_type": "stream",
     "text": [
      "236it [01:16,  3.07it/s]\n"
     ]
    },
    {
     "name": "stdout",
     "output_type": "stream",
     "text": [
      "Epoch 12, Val Loss: 27855.319515306124, RMSE(mm): 69.32754270644854\n",
      "Epoch 12, test Loss: 36253.90742586097, RMSE(mm): 63.56854498187671\n"
     ]
    },
    {
     "name": "stderr",
     "output_type": "stream",
     "text": [
      "1it [00:00,  3.08it/s]"
     ]
    },
    {
     "name": "stdout",
     "output_type": "stream",
     "text": [
      "Epoch 13, Batch 0, position loss: 4627.39111328125 reconstruction loss: 32.61818313598633 RMSE(mm): 34.01246504327954\n"
     ]
    },
    {
     "name": "stderr",
     "output_type": "stream",
     "text": [
      "101it [00:33,  3.06it/s]"
     ]
    },
    {
     "name": "stdout",
     "output_type": "stream",
     "text": [
      "Epoch 13, Batch 100, position loss: 6890.7265625 reconstruction loss: 20.39168930053711 RMSE(mm): 41.505200163654195\n"
     ]
    },
    {
     "name": "stderr",
     "output_type": "stream",
     "text": [
      "201it [01:05,  3.05it/s]"
     ]
    },
    {
     "name": "stdout",
     "output_type": "stream",
     "text": [
      "Epoch 13, Batch 200, position loss: 5222.03173828125 reconstruction loss: 42.103397369384766 RMSE(mm): 36.13181333077974\n"
     ]
    },
    {
     "name": "stderr",
     "output_type": "stream",
     "text": [
      "236it [01:16,  3.07it/s]\n"
     ]
    },
    {
     "name": "stdout",
     "output_type": "stream",
     "text": [
      "Epoch 13, Val Loss: 27886.665915975766, RMSE(mm): 69.38025023871263\n",
      "Epoch 13, test Loss: 36307.09195631377, RMSE(mm): 63.678868441839974\n"
     ]
    },
    {
     "name": "stderr",
     "output_type": "stream",
     "text": [
      "1it [00:00,  3.07it/s]"
     ]
    },
    {
     "name": "stdout",
     "output_type": "stream",
     "text": [
      "Epoch 14, Batch 0, position loss: 4619.3701171875 reconstruction loss: 32.610618591308594 RMSE(mm): 33.98297410905754\n"
     ]
    },
    {
     "name": "stderr",
     "output_type": "stream",
     "text": [
      "101it [00:32,  3.06it/s]"
     ]
    },
    {
     "name": "stdout",
     "output_type": "stream",
     "text": [
      "Epoch 14, Batch 100, position loss: 6531.61962890625 reconstruction loss: 20.354084014892578 RMSE(mm): 40.409218097193644\n"
     ]
    },
    {
     "name": "stderr",
     "output_type": "stream",
     "text": [
      "201it [01:05,  3.07it/s]"
     ]
    },
    {
     "name": "stdout",
     "output_type": "stream",
     "text": [
      "Epoch 14, Batch 200, position loss: 5465.92578125 reconstruction loss: 42.084800720214844 RMSE(mm): 36.96594980941921\n"
     ]
    },
    {
     "name": "stderr",
     "output_type": "stream",
     "text": [
      "236it [01:16,  3.07it/s]\n"
     ]
    },
    {
     "name": "stdout",
     "output_type": "stream",
     "text": [
      "Epoch 14, Val Loss: 27967.439752072703, RMSE(mm): 69.52473079820001\n",
      "Epoch 14, test Loss: 36386.0293367347, RMSE(mm): 63.843079854160145\n"
     ]
    },
    {
     "name": "stderr",
     "output_type": "stream",
     "text": [
      "Some weights of DeiTForMaskedImageModeling were not initialized from the model checkpoint at facebook/deit-base-distilled-patch16-224 and are newly initialized: ['decoder.0.weight', 'decoder.0.bias', 'deit.embeddings.mask_token']\n",
      "You should probably TRAIN this model on a down-stream task to be able to use it for predictions and inference.\n",
      "Some weights of DeiTForMaskedImageModeling were not initialized from the model checkpoint at facebook/deit-base-distilled-patch16-224 and are newly initialized because the shapes did not match:\n",
      "- deit.embeddings.position_embeddings: found shape torch.Size([1, 198, 768]) in the checkpoint and torch.Size([1, 258, 768]) in the model instantiated\n",
      "- deit.embeddings.patch_embeddings.projection.weight: found shape torch.Size([768, 3, 16, 16]) in the checkpoint and torch.Size([768, 256, 8, 1]) in the model instantiated\n",
      "You should probably TRAIN this model on a down-stream task to be able to use it for predictions and inference.\n"
     ]
    },
    {
     "name": "stdout",
     "output_type": "stream",
     "text": [
      "create dataloader...\n",
      "HI\n",
      "training...\n"
     ]
    },
    {
     "name": "stderr",
     "output_type": "stream",
     "text": [
      "1it [00:00,  2.12it/s]"
     ]
    },
    {
     "name": "stdout",
     "output_type": "stream",
     "text": [
      "Epoch 0, Batch 0, position loss: 168822.0 reconstruction loss: 79.92192840576172 RMSE(mm): 205.43977219613538\n"
     ]
    },
    {
     "name": "stderr",
     "output_type": "stream",
     "text": [
      "101it [00:33,  3.08it/s]"
     ]
    },
    {
     "name": "stdout",
     "output_type": "stream",
     "text": [
      "Epoch 0, Batch 100, position loss: 23770.404296875 reconstruction loss: 32.384544372558594 RMSE(mm): 77.0882680712101\n"
     ]
    },
    {
     "name": "stderr",
     "output_type": "stream",
     "text": [
      "201it [01:05,  3.03it/s]"
     ]
    },
    {
     "name": "stdout",
     "output_type": "stream",
     "text": [
      "Epoch 0, Batch 200, position loss: 31554.18359375 reconstruction loss: 79.41378021240234 RMSE(mm): 88.81748644516743\n"
     ]
    },
    {
     "name": "stderr",
     "output_type": "stream",
     "text": [
      "236it [01:17,  3.06it/s]\n"
     ]
    },
    {
     "name": "stdout",
     "output_type": "stream",
     "text": [
      "Epoch 0, Val Loss: 32232.917610012755, RMSE(mm): 72.21017498257451\n",
      "Epoch 0, test Loss: 46326.58697385204, RMSE(mm): 71.28096572170406\n"
     ]
    },
    {
     "name": "stderr",
     "output_type": "stream",
     "text": [
      "1it [00:00,  3.07it/s]"
     ]
    },
    {
     "name": "stdout",
     "output_type": "stream",
     "text": [
      "Epoch 1, Batch 0, position loss: 19047.658203125 reconstruction loss: 51.400753021240234 RMSE(mm): 69.00662686134753\n"
     ]
    },
    {
     "name": "stderr",
     "output_type": "stream",
     "text": [
      "101it [00:32,  3.06it/s]"
     ]
    },
    {
     "name": "stdout",
     "output_type": "stream",
     "text": [
      "Epoch 1, Batch 100, position loss: 16293.2451171875 reconstruction loss: 24.283222198486328 RMSE(mm): 63.822498221997506\n"
     ]
    },
    {
     "name": "stderr",
     "output_type": "stream",
     "text": [
      "201it [01:05,  3.06it/s]"
     ]
    },
    {
     "name": "stdout",
     "output_type": "stream",
     "text": [
      "Epoch 1, Batch 200, position loss: 27538.357421875 reconstruction loss: 64.49813842773438 RMSE(mm): 82.9734255980115\n"
     ]
    },
    {
     "name": "stderr",
     "output_type": "stream",
     "text": [
      "236it [01:16,  3.07it/s]\n"
     ]
    },
    {
     "name": "stdout",
     "output_type": "stream",
     "text": [
      "Epoch 1, Val Loss: 28992.308474170917, RMSE(mm): 68.44783019778696\n",
      "Epoch 1, test Loss: 41980.61411830357, RMSE(mm): 66.22686793824751\n"
     ]
    },
    {
     "name": "stderr",
     "output_type": "stream",
     "text": [
      "1it [00:00,  3.08it/s]"
     ]
    },
    {
     "name": "stdout",
     "output_type": "stream",
     "text": [
      "Epoch 2, Batch 0, position loss: 17755.447265625 reconstruction loss: 40.72418975830078 RMSE(mm): 66.62478380007136\n"
     ]
    },
    {
     "name": "stderr",
     "output_type": "stream",
     "text": [
      "101it [00:32,  3.07it/s]"
     ]
    },
    {
     "name": "stdout",
     "output_type": "stream",
     "text": [
      "Epoch 2, Batch 100, position loss: 15519.70703125 reconstruction loss: 21.947635650634766 RMSE(mm): 62.28905809058683\n"
     ]
    },
    {
     "name": "stderr",
     "output_type": "stream",
     "text": [
      "201it [01:05,  3.07it/s]"
     ]
    },
    {
     "name": "stdout",
     "output_type": "stream",
     "text": [
      "Epoch 2, Batch 200, position loss: 23142.0625 reconstruction loss: 59.255897521972656 RMSE(mm): 76.06257703365038\n"
     ]
    },
    {
     "name": "stderr",
     "output_type": "stream",
     "text": [
      "236it [01:16,  3.07it/s]\n"
     ]
    },
    {
     "name": "stdout",
     "output_type": "stream",
     "text": [
      "Epoch 2, Val Loss: 28460.664022640307, RMSE(mm): 67.79558727805663\n",
      "Epoch 2, test Loss: 40448.2958984375, RMSE(mm): 64.54010878315182\n"
     ]
    },
    {
     "name": "stderr",
     "output_type": "stream",
     "text": [
      "1it [00:00,  3.07it/s]"
     ]
    },
    {
     "name": "stdout",
     "output_type": "stream",
     "text": [
      "Epoch 3, Batch 0, position loss: 16709.05859375 reconstruction loss: 37.6104621887207 RMSE(mm): 64.63176191654921\n"
     ]
    },
    {
     "name": "stderr",
     "output_type": "stream",
     "text": [
      "101it [00:33,  3.06it/s]"
     ]
    },
    {
     "name": "stdout",
     "output_type": "stream",
     "text": [
      "Epoch 3, Batch 100, position loss: 13881.6640625 reconstruction loss: 21.28598976135254 RMSE(mm): 58.91023693404229\n"
     ]
    },
    {
     "name": "stderr",
     "output_type": "stream",
     "text": [
      "201it [01:05,  3.07it/s]"
     ]
    },
    {
     "name": "stdout",
     "output_type": "stream",
     "text": [
      "Epoch 3, Batch 200, position loss: 20190.439453125 reconstruction loss: 56.360984802246094 RMSE(mm): 71.04653308417836\n"
     ]
    },
    {
     "name": "stderr",
     "output_type": "stream",
     "text": [
      "236it [01:16,  3.07it/s]\n"
     ]
    },
    {
     "name": "stdout",
     "output_type": "stream",
     "text": [
      "Epoch 3, Val Loss: 27527.99388153699, RMSE(mm): 66.2892256685213\n",
      "Epoch 3, test Loss: 38993.312519929845, RMSE(mm): 62.77203417505165\n"
     ]
    },
    {
     "name": "stderr",
     "output_type": "stream",
     "text": [
      "1it [00:00,  3.06it/s]"
     ]
    },
    {
     "name": "stdout",
     "output_type": "stream",
     "text": [
      "Epoch 4, Batch 0, position loss: 12903.0791015625 reconstruction loss: 36.43222427368164 RMSE(mm): 56.795860548024315\n"
     ]
    },
    {
     "name": "stderr",
     "output_type": "stream",
     "text": [
      "101it [00:32,  3.06it/s]"
     ]
    },
    {
     "name": "stdout",
     "output_type": "stream",
     "text": [
      "Epoch 4, Batch 100, position loss: 12552.64453125 reconstruction loss: 20.256301879882812 RMSE(mm): 56.019292505461905\n"
     ]
    },
    {
     "name": "stderr",
     "output_type": "stream",
     "text": [
      "201it [01:05,  3.06it/s]"
     ]
    },
    {
     "name": "stdout",
     "output_type": "stream",
     "text": [
      "Epoch 4, Batch 200, position loss: 17963.99609375 reconstruction loss: 52.73237609863281 RMSE(mm): 67.01491642490872\n"
     ]
    },
    {
     "name": "stderr",
     "output_type": "stream",
     "text": [
      "236it [01:16,  3.07it/s]\n"
     ]
    },
    {
     "name": "stdout",
     "output_type": "stream",
     "text": [
      "Epoch 4, Val Loss: 27501.28445870536, RMSE(mm): 66.54536093209823\n",
      "Epoch 4, test Loss: 38262.490712691324, RMSE(mm): 62.430687969800985\n"
     ]
    },
    {
     "name": "stderr",
     "output_type": "stream",
     "text": [
      "1it [00:00,  3.08it/s]"
     ]
    },
    {
     "name": "stdout",
     "output_type": "stream",
     "text": [
      "Epoch 5, Batch 0, position loss: 11085.7109375 reconstruction loss: 35.460906982421875 RMSE(mm): 52.64435140045891\n"
     ]
    },
    {
     "name": "stderr",
     "output_type": "stream",
     "text": [
      "101it [00:32,  3.06it/s]"
     ]
    },
    {
     "name": "stdout",
     "output_type": "stream",
     "text": [
      "Epoch 5, Batch 100, position loss: 11856.84765625 reconstruction loss: 19.96548843383789 RMSE(mm): 54.444576534880866\n"
     ]
    },
    {
     "name": "stderr",
     "output_type": "stream",
     "text": [
      "201it [01:05,  3.07it/s]"
     ]
    },
    {
     "name": "stdout",
     "output_type": "stream",
     "text": [
      "Epoch 5, Batch 200, position loss: 15030.40234375 reconstruction loss: 51.87017059326172 RMSE(mm): 61.29927068030663\n"
     ]
    },
    {
     "name": "stderr",
     "output_type": "stream",
     "text": [
      "236it [01:16,  3.07it/s]\n"
     ]
    },
    {
     "name": "stdout",
     "output_type": "stream",
     "text": [
      "Epoch 5, Val Loss: 28066.57493622449, RMSE(mm): 67.80433424087794\n",
      "Epoch 5, test Loss: 38140.92193478954, RMSE(mm): 63.166203686036624\n"
     ]
    },
    {
     "name": "stderr",
     "output_type": "stream",
     "text": [
      "1it [00:00,  3.05it/s]"
     ]
    },
    {
     "name": "stdout",
     "output_type": "stream",
     "text": [
      "Epoch 6, Batch 0, position loss: 7640.56005859375 reconstruction loss: 34.60264205932617 RMSE(mm): 43.70514860572422\n"
     ]
    },
    {
     "name": "stderr",
     "output_type": "stream",
     "text": [
      "101it [00:33,  3.06it/s]"
     ]
    },
    {
     "name": "stdout",
     "output_type": "stream",
     "text": [
      "Epoch 6, Batch 100, position loss: 9995.466796875 reconstruction loss: 20.566848754882812 RMSE(mm): 49.98866570752564\n"
     ]
    },
    {
     "name": "stderr",
     "output_type": "stream",
     "text": [
      "201it [01:05,  3.06it/s]"
     ]
    },
    {
     "name": "stdout",
     "output_type": "stream",
     "text": [
      "Epoch 6, Batch 200, position loss: 11152.3935546875 reconstruction loss: 46.91288375854492 RMSE(mm): 52.802446805729325\n"
     ]
    },
    {
     "name": "stderr",
     "output_type": "stream",
     "text": [
      "236it [01:16,  3.07it/s]\n"
     ]
    },
    {
     "name": "stdout",
     "output_type": "stream",
     "text": [
      "Epoch 6, Val Loss: 27528.21512276786, RMSE(mm): 66.89936883157999\n",
      "Epoch 6, test Loss: 37611.85485092475, RMSE(mm): 62.392972654865375\n"
     ]
    },
    {
     "name": "stderr",
     "output_type": "stream",
     "text": [
      "1it [00:00,  3.08it/s]"
     ]
    },
    {
     "name": "stdout",
     "output_type": "stream",
     "text": [
      "Epoch 7, Batch 0, position loss: 7551.3798828125 reconstruction loss: 33.824031829833984 RMSE(mm): 43.44933797773132\n"
     ]
    },
    {
     "name": "stderr",
     "output_type": "stream",
     "text": [
      "101it [00:32,  3.07it/s]"
     ]
    },
    {
     "name": "stdout",
     "output_type": "stream",
     "text": [
      "Epoch 7, Batch 100, position loss: 8970.1953125 reconstruction loss: 20.47547721862793 RMSE(mm): 47.35555752100275\n"
     ]
    },
    {
     "name": "stderr",
     "output_type": "stream",
     "text": [
      "201it [01:05,  3.07it/s]"
     ]
    },
    {
     "name": "stdout",
     "output_type": "stream",
     "text": [
      "Epoch 7, Batch 200, position loss: 9396.048828125 reconstruction loss: 46.65209197998047 RMSE(mm): 48.46660919675782\n"
     ]
    },
    {
     "name": "stderr",
     "output_type": "stream",
     "text": [
      "236it [01:16,  3.07it/s]\n"
     ]
    },
    {
     "name": "stdout",
     "output_type": "stream",
     "text": [
      "Epoch 7, Val Loss: 27818.298828125, RMSE(mm): 67.38935688975306\n",
      "Epoch 7, test Loss: 37958.542470503824, RMSE(mm): 63.16743563944221\n"
     ]
    },
    {
     "name": "stderr",
     "output_type": "stream",
     "text": [
      "1it [00:00,  3.06it/s]"
     ]
    },
    {
     "name": "stdout",
     "output_type": "stream",
     "text": [
      "Epoch 8, Batch 0, position loss: 6612.1015625 reconstruction loss: 33.83658981323242 RMSE(mm): 40.65741495256431\n"
     ]
    },
    {
     "name": "stderr",
     "output_type": "stream",
     "text": [
      "101it [00:32,  3.06it/s]"
     ]
    },
    {
     "name": "stdout",
     "output_type": "stream",
     "text": [
      "Epoch 8, Batch 100, position loss: 8274.0361328125 reconstruction loss: 20.377504348754883 RMSE(mm): 45.4808644729091\n"
     ]
    },
    {
     "name": "stderr",
     "output_type": "stream",
     "text": [
      "201it [01:05,  3.06it/s]"
     ]
    },
    {
     "name": "stdout",
     "output_type": "stream",
     "text": [
      "Epoch 8, Batch 200, position loss: 8194.294921875 reconstruction loss: 46.41505813598633 RMSE(mm): 45.26117243807047\n"
     ]
    },
    {
     "name": "stderr",
     "output_type": "stream",
     "text": [
      "236it [01:16,  3.07it/s]\n"
     ]
    },
    {
     "name": "stdout",
     "output_type": "stream",
     "text": [
      "Epoch 8, Val Loss: 28199.047492825255, RMSE(mm): 68.07371935951947\n",
      "Epoch 8, test Loss: 38407.62890625, RMSE(mm): 64.15143784389726\n"
     ]
    },
    {
     "name": "stderr",
     "output_type": "stream",
     "text": [
      "1it [00:00,  3.06it/s]"
     ]
    },
    {
     "name": "stdout",
     "output_type": "stream",
     "text": [
      "Epoch 9, Batch 0, position loss: 5709.4091796875 reconstruction loss: 33.83016586303711 RMSE(mm): 37.78031623639319\n"
     ]
    },
    {
     "name": "stderr",
     "output_type": "stream",
     "text": [
      "101it [00:32,  3.07it/s]"
     ]
    },
    {
     "name": "stdout",
     "output_type": "stream",
     "text": [
      "Epoch 9, Batch 100, position loss: 7479.517578125 reconstruction loss: 20.301666259765625 RMSE(mm): 43.24210210583257\n"
     ]
    },
    {
     "name": "stderr",
     "output_type": "stream",
     "text": [
      "201it [01:05,  3.06it/s]"
     ]
    },
    {
     "name": "stdout",
     "output_type": "stream",
     "text": [
      "Epoch 9, Batch 200, position loss: 7288.47802734375 reconstruction loss: 46.16151428222656 RMSE(mm): 42.68629179064325\n"
     ]
    },
    {
     "name": "stderr",
     "output_type": "stream",
     "text": [
      "236it [01:16,  3.07it/s]\n"
     ]
    },
    {
     "name": "stdout",
     "output_type": "stream",
     "text": [
      "Epoch 9, Val Loss: 28755.48124601403, RMSE(mm): 69.09046877160206\n",
      "Epoch 9, test Loss: 38927.07643096301, RMSE(mm): 65.27390922143266\n"
     ]
    },
    {
     "name": "stderr",
     "output_type": "stream",
     "text": [
      "1it [00:00,  3.06it/s]"
     ]
    },
    {
     "name": "stdout",
     "output_type": "stream",
     "text": [
      "Epoch 10, Batch 0, position loss: 4877.06298828125 reconstruction loss: 33.791568756103516 RMSE(mm): 34.91798601108478\n"
     ]
    },
    {
     "name": "stderr",
     "output_type": "stream",
     "text": [
      "101it [00:32,  3.07it/s]"
     ]
    },
    {
     "name": "stdout",
     "output_type": "stream",
     "text": [
      "Epoch 10, Batch 100, position loss: 6622.58203125 reconstruction loss: 20.229000091552734 RMSE(mm): 40.68962408050116\n"
     ]
    },
    {
     "name": "stderr",
     "output_type": "stream",
     "text": [
      "201it [01:05,  3.06it/s]"
     ]
    },
    {
     "name": "stdout",
     "output_type": "stream",
     "text": [
      "Epoch 10, Batch 200, position loss: 6138.3427734375 reconstruction loss: 45.85896301269531 RMSE(mm): 39.17378834577242\n"
     ]
    },
    {
     "name": "stderr",
     "output_type": "stream",
     "text": [
      "236it [01:16,  3.07it/s]\n"
     ]
    },
    {
     "name": "stdout",
     "output_type": "stream",
     "text": [
      "Epoch 10, Val Loss: 29424.48319913903, RMSE(mm): 70.30544045838609\n",
      "Epoch 10, test Loss: 39648.41563695791, RMSE(mm): 66.76624461807172\n"
     ]
    },
    {
     "name": "stderr",
     "output_type": "stream",
     "text": [
      "1it [00:00,  3.04it/s]"
     ]
    },
    {
     "name": "stdout",
     "output_type": "stream",
     "text": [
      "Epoch 11, Batch 0, position loss: 4005.113037109375 reconstruction loss: 33.70069885253906 RMSE(mm): 31.642981200849956\n"
     ]
    },
    {
     "name": "stderr",
     "output_type": "stream",
     "text": [
      "101it [00:33,  3.05it/s]"
     ]
    },
    {
     "name": "stdout",
     "output_type": "stream",
     "text": [
      "Epoch 11, Batch 100, position loss: 5709.3017578125 reconstruction loss: 20.13566780090332 RMSE(mm): 37.77996081857583\n"
     ]
    },
    {
     "name": "stderr",
     "output_type": "stream",
     "text": [
      "201it [01:05,  3.05it/s]"
     ]
    },
    {
     "name": "stdout",
     "output_type": "stream",
     "text": [
      "Epoch 11, Batch 200, position loss: 5177.92333984375 reconstruction loss: 45.53492736816406 RMSE(mm): 35.97889429875434\n"
     ]
    },
    {
     "name": "stderr",
     "output_type": "stream",
     "text": [
      "236it [01:17,  3.06it/s]\n"
     ]
    },
    {
     "name": "stdout",
     "output_type": "stream",
     "text": [
      "Epoch 11, Val Loss: 30317.946328922193, RMSE(mm): 71.87814108320532\n",
      "Epoch 11, test Loss: 40641.4905731824, RMSE(mm): 68.70480392744648\n"
     ]
    },
    {
     "name": "stderr",
     "output_type": "stream",
     "text": [
      "1it [00:00,  3.02it/s]"
     ]
    },
    {
     "name": "stdout",
     "output_type": "stream",
     "text": [
      "Epoch 12, Batch 0, position loss: 3935.92138671875 reconstruction loss: 33.614253997802734 RMSE(mm): 31.368461018667897\n"
     ]
    },
    {
     "name": "stderr",
     "output_type": "stream",
     "text": [
      "101it [00:32,  3.07it/s]"
     ]
    },
    {
     "name": "stdout",
     "output_type": "stream",
     "text": [
      "Epoch 12, Batch 100, position loss: 6203.83203125 reconstruction loss: 21.284826278686523 RMSE(mm): 39.3822042020568\n"
     ]
    },
    {
     "name": "stderr",
     "output_type": "stream",
     "text": [
      "201it [01:05,  3.07it/s]"
     ]
    },
    {
     "name": "stdout",
     "output_type": "stream",
     "text": [
      "Epoch 12, Batch 200, position loss: 5476.806640625 reconstruction loss: 44.78828048706055 RMSE(mm): 37.00272503689762\n"
     ]
    },
    {
     "name": "stderr",
     "output_type": "stream",
     "text": [
      "236it [01:16,  3.07it/s]\n"
     ]
    },
    {
     "name": "stdout",
     "output_type": "stream",
     "text": [
      "Epoch 12, Val Loss: 29533.284099968114, RMSE(mm): 70.51862701668092\n",
      "Epoch 12, test Loss: 39359.737523915814, RMSE(mm): 66.36259031454198\n"
     ]
    },
    {
     "name": "stderr",
     "output_type": "stream",
     "text": [
      "1it [00:00,  3.06it/s]"
     ]
    },
    {
     "name": "stdout",
     "output_type": "stream",
     "text": [
      "Epoch 13, Batch 0, position loss: 3988.5751953125 reconstruction loss: 33.51533126831055 RMSE(mm): 31.577583802883414\n"
     ]
    },
    {
     "name": "stderr",
     "output_type": "stream",
     "text": [
      "101it [00:32,  3.06it/s]"
     ]
    },
    {
     "name": "stdout",
     "output_type": "stream",
     "text": [
      "Epoch 13, Batch 100, position loss: 5750.0390625 reconstruction loss: 21.08172035217285 RMSE(mm): 37.91450600528774\n"
     ]
    },
    {
     "name": "stderr",
     "output_type": "stream",
     "text": [
      "201it [01:05,  3.07it/s]"
     ]
    },
    {
     "name": "stdout",
     "output_type": "stream",
     "text": [
      "Epoch 13, Batch 200, position loss: 5226.701171875 reconstruction loss: 44.79452896118164 RMSE(mm): 36.1479638841353\n"
     ]
    },
    {
     "name": "stderr",
     "output_type": "stream",
     "text": [
      "236it [01:16,  3.07it/s]\n"
     ]
    },
    {
     "name": "stdout",
     "output_type": "stream",
     "text": [
      "Epoch 13, Val Loss: 29540.78097098214, RMSE(mm): 70.52762527080637\n",
      "Epoch 13, test Loss: 39317.649633290814, RMSE(mm): 66.28707854271688\n"
     ]
    },
    {
     "name": "stderr",
     "output_type": "stream",
     "text": [
      "1it [00:00,  3.07it/s]"
     ]
    },
    {
     "name": "stdout",
     "output_type": "stream",
     "text": [
      "Epoch 14, Batch 0, position loss: 4158.9267578125 reconstruction loss: 33.502567291259766 RMSE(mm): 32.24487074641679\n"
     ]
    },
    {
     "name": "stderr",
     "output_type": "stream",
     "text": [
      "101it [00:32,  3.05it/s]"
     ]
    },
    {
     "name": "stdout",
     "output_type": "stream",
     "text": [
      "Epoch 14, Batch 100, position loss: 5608.60302734375 reconstruction loss: 21.007734298706055 RMSE(mm): 37.445303535102205\n"
     ]
    },
    {
     "name": "stderr",
     "output_type": "stream",
     "text": [
      "201it [01:05,  3.06it/s]"
     ]
    },
    {
     "name": "stdout",
     "output_type": "stream",
     "text": [
      "Epoch 14, Batch 200, position loss: 4946.02392578125 reconstruction loss: 44.77682113647461 RMSE(mm): 35.163986995864285\n"
     ]
    },
    {
     "name": "stderr",
     "output_type": "stream",
     "text": [
      "236it [01:16,  3.07it/s]\n"
     ]
    },
    {
     "name": "stdout",
     "output_type": "stream",
     "text": [
      "Epoch 14, Val Loss: 29585.281628667093, RMSE(mm): 70.60352163609608\n",
      "Epoch 14, test Loss: 39333.60799984056, RMSE(mm): 66.32565141808381\n"
     ]
    },
    {
     "name": "stderr",
     "output_type": "stream",
     "text": [
      "Some weights of DeiTForMaskedImageModeling were not initialized from the model checkpoint at facebook/deit-base-distilled-patch16-224 and are newly initialized: ['decoder.0.weight', 'decoder.0.bias', 'deit.embeddings.mask_token']\n",
      "You should probably TRAIN this model on a down-stream task to be able to use it for predictions and inference.\n",
      "Some weights of DeiTForMaskedImageModeling were not initialized from the model checkpoint at facebook/deit-base-distilled-patch16-224 and are newly initialized because the shapes did not match:\n",
      "- deit.embeddings.position_embeddings: found shape torch.Size([1, 198, 768]) in the checkpoint and torch.Size([1, 258, 768]) in the model instantiated\n",
      "- deit.embeddings.patch_embeddings.projection.weight: found shape torch.Size([768, 3, 16, 16]) in the checkpoint and torch.Size([768, 256, 8, 1]) in the model instantiated\n",
      "You should probably TRAIN this model on a down-stream task to be able to use it for predictions and inference.\n"
     ]
    },
    {
     "name": "stdout",
     "output_type": "stream",
     "text": [
      "create dataloader...\n",
      "HI\n",
      "training...\n"
     ]
    },
    {
     "name": "stderr",
     "output_type": "stream",
     "text": [
      "1it [00:00,  2.11it/s]"
     ]
    },
    {
     "name": "stdout",
     "output_type": "stream",
     "text": [
      "Epoch 0, Batch 0, position loss: 168383.59375 reconstruction loss: 79.93927001953125 RMSE(mm): 205.17285014713812\n"
     ]
    },
    {
     "name": "stderr",
     "output_type": "stream",
     "text": [
      "101it [00:33,  3.07it/s]"
     ]
    },
    {
     "name": "stdout",
     "output_type": "stream",
     "text": [
      "Epoch 0, Batch 100, position loss: 20502.361328125 reconstruction loss: 32.64971923828125 RMSE(mm): 71.5932282554101\n"
     ]
    },
    {
     "name": "stderr",
     "output_type": "stream",
     "text": [
      "201it [01:05,  3.04it/s]"
     ]
    },
    {
     "name": "stdout",
     "output_type": "stream",
     "text": [
      "Epoch 0, Batch 200, position loss: 31501.158203125 reconstruction loss: 85.7381591796875 RMSE(mm): 88.74282816532978\n"
     ]
    },
    {
     "name": "stderr",
     "output_type": "stream",
     "text": [
      "236it [01:17,  3.06it/s]\n"
     ]
    },
    {
     "name": "stdout",
     "output_type": "stream",
     "text": [
      "Epoch 0, Val Loss: 35225.05799585459, RMSE(mm): 74.05016090003309\n",
      "Epoch 0, test Loss: 50768.75852997449, RMSE(mm): 72.91929995169204\n"
     ]
    },
    {
     "name": "stderr",
     "output_type": "stream",
     "text": [
      "1it [00:00,  3.06it/s]"
     ]
    },
    {
     "name": "stdout",
     "output_type": "stream",
     "text": [
      "Epoch 1, Batch 0, position loss: 17856.4921875 reconstruction loss: 54.98823928833008 RMSE(mm): 66.81409317557936\n"
     ]
    },
    {
     "name": "stderr",
     "output_type": "stream",
     "text": [
      "101it [00:32,  3.07it/s]"
     ]
    },
    {
     "name": "stdout",
     "output_type": "stream",
     "text": [
      "Epoch 1, Batch 100, position loss: 18302.765625 reconstruction loss: 28.92938995361328 RMSE(mm): 67.6438571213233\n"
     ]
    },
    {
     "name": "stderr",
     "output_type": "stream",
     "text": [
      "201it [01:05,  3.05it/s]"
     ]
    },
    {
     "name": "stdout",
     "output_type": "stream",
     "text": [
      "Epoch 1, Batch 200, position loss: 27326.921875 reconstruction loss: 76.1291732788086 RMSE(mm): 82.6542828215816\n"
     ]
    },
    {
     "name": "stderr",
     "output_type": "stream",
     "text": [
      "236it [01:16,  3.07it/s]\n"
     ]
    },
    {
     "name": "stdout",
     "output_type": "stream",
     "text": [
      "Epoch 1, Val Loss: 31566.008649553572, RMSE(mm): 69.33558293420408\n",
      "Epoch 1, test Loss: 46088.76969068877, RMSE(mm): 66.88970050196805\n"
     ]
    },
    {
     "name": "stderr",
     "output_type": "stream",
     "text": [
      "1it [00:00,  3.06it/s]"
     ]
    },
    {
     "name": "stdout",
     "output_type": "stream",
     "text": [
      "Epoch 2, Batch 0, position loss: 16207.056640625 reconstruction loss: 49.84921646118164 RMSE(mm): 63.65346934893847\n"
     ]
    },
    {
     "name": "stderr",
     "output_type": "stream",
     "text": [
      "101it [00:33,  3.07it/s]"
     ]
    },
    {
     "name": "stdout",
     "output_type": "stream",
     "text": [
      "Epoch 2, Batch 100, position loss: 15195.611328125 reconstruction loss: 26.137310028076172 RMSE(mm): 61.63524017987802\n"
     ]
    },
    {
     "name": "stderr",
     "output_type": "stream",
     "text": [
      "201it [01:05,  3.05it/s]"
     ]
    },
    {
     "name": "stdout",
     "output_type": "stream",
     "text": [
      "Epoch 2, Batch 200, position loss: 23996.2578125 reconstruction loss: 65.87278747558594 RMSE(mm): 77.45362775961497\n"
     ]
    },
    {
     "name": "stderr",
     "output_type": "stream",
     "text": [
      "236it [01:16,  3.07it/s]\n"
     ]
    },
    {
     "name": "stdout",
     "output_type": "stream",
     "text": [
      "Epoch 2, Val Loss: 30095.555285395407, RMSE(mm): 68.28803847074829\n",
      "Epoch 2, test Loss: 44057.294842155614, RMSE(mm): 65.4041546758309\n"
     ]
    },
    {
     "name": "stderr",
     "output_type": "stream",
     "text": [
      "1it [00:00,  3.07it/s]"
     ]
    },
    {
     "name": "stdout",
     "output_type": "stream",
     "text": [
      "Epoch 3, Batch 0, position loss: 14998.5 reconstruction loss: 41.5113525390625 RMSE(mm): 61.23418163085059\n"
     ]
    },
    {
     "name": "stderr",
     "output_type": "stream",
     "text": [
      "101it [00:32,  3.07it/s]"
     ]
    },
    {
     "name": "stdout",
     "output_type": "stream",
     "text": [
      "Epoch 3, Batch 100, position loss: 14296.1455078125 reconstruction loss: 22.18328094482422 RMSE(mm): 59.78324495168462\n"
     ]
    },
    {
     "name": "stderr",
     "output_type": "stream",
     "text": [
      "201it [01:05,  3.06it/s]"
     ]
    },
    {
     "name": "stdout",
     "output_type": "stream",
     "text": [
      "Epoch 3, Batch 200, position loss: 22630.4453125 reconstruction loss: 59.62190628051758 RMSE(mm): 75.21709465357593\n"
     ]
    },
    {
     "name": "stderr",
     "output_type": "stream",
     "text": [
      "236it [01:16,  3.07it/s]\n"
     ]
    },
    {
     "name": "stdout",
     "output_type": "stream",
     "text": [
      "Epoch 3, Val Loss: 28763.054129464286, RMSE(mm): 66.54613814844029\n",
      "Epoch 3, test Loss: 41888.64556760204, RMSE(mm): 62.680187127819806\n"
     ]
    },
    {
     "name": "stderr",
     "output_type": "stream",
     "text": [
      "1it [00:00,  3.07it/s]"
     ]
    },
    {
     "name": "stdout",
     "output_type": "stream",
     "text": [
      "Epoch 4, Batch 0, position loss: 13463.30078125 reconstruction loss: 38.56433868408203 RMSE(mm): 58.01573230868072\n"
     ]
    },
    {
     "name": "stderr",
     "output_type": "stream",
     "text": [
      "101it [00:32,  3.06it/s]"
     ]
    },
    {
     "name": "stdout",
     "output_type": "stream",
     "text": [
      "Epoch 4, Batch 100, position loss: 14188.1708984375 reconstruction loss: 21.437936782836914 RMSE(mm): 59.55705436478012\n"
     ]
    },
    {
     "name": "stderr",
     "output_type": "stream",
     "text": [
      "201it [01:05,  3.07it/s]"
     ]
    },
    {
     "name": "stdout",
     "output_type": "stream",
     "text": [
      "Epoch 4, Batch 200, position loss: 19023.57421875 reconstruction loss: 56.34003448486328 RMSE(mm): 68.962986845753\n"
     ]
    },
    {
     "name": "stderr",
     "output_type": "stream",
     "text": [
      "236it [01:16,  3.07it/s]\n"
     ]
    },
    {
     "name": "stdout",
     "output_type": "stream",
     "text": [
      "Epoch 4, Val Loss: 28448.110052614797, RMSE(mm): 66.26339357146466\n",
      "Epoch 4, test Loss: 41213.89237882653, RMSE(mm): 62.49377408403642\n"
     ]
    },
    {
     "name": "stderr",
     "output_type": "stream",
     "text": [
      "1it [00:00,  3.06it/s]"
     ]
    },
    {
     "name": "stdout",
     "output_type": "stream",
     "text": [
      "Epoch 5, Batch 0, position loss: 11870.919921875 reconstruction loss: 37.169193267822266 RMSE(mm): 54.476875648927866\n"
     ]
    },
    {
     "name": "stderr",
     "output_type": "stream",
     "text": [
      "101it [00:32,  3.06it/s]"
     ]
    },
    {
     "name": "stdout",
     "output_type": "stream",
     "text": [
      "Epoch 5, Batch 100, position loss: 12987.482421875 reconstruction loss: 20.968721389770508 RMSE(mm): 56.98131803906215\n"
     ]
    },
    {
     "name": "stderr",
     "output_type": "stream",
     "text": [
      "201it [01:05,  3.06it/s]"
     ]
    },
    {
     "name": "stdout",
     "output_type": "stream",
     "text": [
      "Epoch 5, Batch 200, position loss: 18065.271484375 reconstruction loss: 54.64918518066406 RMSE(mm): 67.20355549443609\n"
     ]
    },
    {
     "name": "stderr",
     "output_type": "stream",
     "text": [
      "236it [01:16,  3.07it/s]\n"
     ]
    },
    {
     "name": "stdout",
     "output_type": "stream",
     "text": [
      "Epoch 5, Val Loss: 28086.40182557398, RMSE(mm): 65.90483866066825\n",
      "Epoch 5, test Loss: 40381.45687181123, RMSE(mm): 61.891971943117575\n"
     ]
    },
    {
     "name": "stderr",
     "output_type": "stream",
     "text": [
      "1it [00:00,  3.06it/s]"
     ]
    },
    {
     "name": "stdout",
     "output_type": "stream",
     "text": [
      "Epoch 6, Batch 0, position loss: 11578.8603515625 reconstruction loss: 35.98910903930664 RMSE(mm): 53.802556518167655\n"
     ]
    },
    {
     "name": "stderr",
     "output_type": "stream",
     "text": [
      "101it [00:32,  3.06it/s]"
     ]
    },
    {
     "name": "stdout",
     "output_type": "stream",
     "text": [
      "Epoch 6, Batch 100, position loss: 12171.70703125 reconstruction loss: 20.69766616821289 RMSE(mm): 55.1627297893469\n"
     ]
    },
    {
     "name": "stderr",
     "output_type": "stream",
     "text": [
      "201it [01:05,  3.07it/s]"
     ]
    },
    {
     "name": "stdout",
     "output_type": "stream",
     "text": [
      "Epoch 6, Batch 200, position loss: 14578.6923828125 reconstruction loss: 51.06293487548828 RMSE(mm): 60.371127997604326\n"
     ]
    },
    {
     "name": "stderr",
     "output_type": "stream",
     "text": [
      "236it [01:16,  3.07it/s]\n"
     ]
    },
    {
     "name": "stdout",
     "output_type": "stream",
     "text": [
      "Epoch 6, Val Loss: 27800.974250637755, RMSE(mm): 65.53626635101017\n",
      "Epoch 6, test Loss: 39811.23132573342, RMSE(mm): 61.18473166331397\n"
     ]
    },
    {
     "name": "stderr",
     "output_type": "stream",
     "text": [
      "1it [00:00,  3.08it/s]"
     ]
    },
    {
     "name": "stdout",
     "output_type": "stream",
     "text": [
      "Epoch 7, Batch 0, position loss: 10536.6083984375 reconstruction loss: 35.31430435180664 RMSE(mm): 51.32399146217464\n"
     ]
    },
    {
     "name": "stderr",
     "output_type": "stream",
     "text": [
      "101it [00:33,  3.04it/s]"
     ]
    },
    {
     "name": "stdout",
     "output_type": "stream",
     "text": [
      "Epoch 7, Batch 100, position loss: 10928.5986328125 reconstruction loss: 20.46609115600586 RMSE(mm): 52.269968989881036\n"
     ]
    },
    {
     "name": "stderr",
     "output_type": "stream",
     "text": [
      "201it [01:05,  3.06it/s]"
     ]
    },
    {
     "name": "stdout",
     "output_type": "stream",
     "text": [
      "Epoch 7, Batch 200, position loss: 13411.71875 reconstruction loss: 50.757225036621094 RMSE(mm): 57.90448762833499\n"
     ]
    },
    {
     "name": "stderr",
     "output_type": "stream",
     "text": [
      "236it [01:17,  3.06it/s]\n"
     ]
    },
    {
     "name": "stdout",
     "output_type": "stream",
     "text": [
      "Epoch 7, Val Loss: 27999.871133609693, RMSE(mm): 65.8175834477083\n",
      "Epoch 7, test Loss: 40061.25611846301, RMSE(mm): 61.77756352358609\n"
     ]
    },
    {
     "name": "stderr",
     "output_type": "stream",
     "text": [
      "1it [00:00,  3.01it/s]"
     ]
    },
    {
     "name": "stdout",
     "output_type": "stream",
     "text": [
      "Epoch 8, Batch 0, position loss: 9130.380859375 reconstruction loss: 35.121604919433594 RMSE(mm): 47.77651321354197\n"
     ]
    },
    {
     "name": "stderr",
     "output_type": "stream",
     "text": [
      "101it [00:32,  3.03it/s]"
     ]
    },
    {
     "name": "stdout",
     "output_type": "stream",
     "text": [
      "Epoch 8, Batch 100, position loss: 9684.005859375 reconstruction loss: 20.38683319091797 RMSE(mm): 49.203673286084545\n"
     ]
    },
    {
     "name": "stderr",
     "output_type": "stream",
     "text": [
      "201it [01:05,  3.06it/s]"
     ]
    },
    {
     "name": "stdout",
     "output_type": "stream",
     "text": [
      "Epoch 8, Batch 200, position loss: 12152.724609375 reconstruction loss: 50.3878059387207 RMSE(mm): 55.119698405776404\n"
     ]
    },
    {
     "name": "stderr",
     "output_type": "stream",
     "text": [
      "236it [01:16,  3.07it/s]\n"
     ]
    },
    {
     "name": "stdout",
     "output_type": "stream",
     "text": [
      "Epoch 8, Val Loss: 28406.723254145407, RMSE(mm): 66.53290880909844\n",
      "Epoch 8, test Loss: 40661.40266262755, RMSE(mm): 63.072887513018706\n"
     ]
    },
    {
     "name": "stderr",
     "output_type": "stream",
     "text": [
      "1it [00:00,  3.05it/s]"
     ]
    },
    {
     "name": "stdout",
     "output_type": "stream",
     "text": [
      "Epoch 9, Batch 0, position loss: 7877.966796875 reconstruction loss: 34.97240447998047 RMSE(mm): 44.378955589544354\n"
     ]
    },
    {
     "name": "stderr",
     "output_type": "stream",
     "text": [
      "101it [00:32,  3.05it/s]"
     ]
    },
    {
     "name": "stdout",
     "output_type": "stream",
     "text": [
      "Epoch 9, Batch 100, position loss: 8449.80078125 reconstruction loss: 20.32815170288086 RMSE(mm): 45.961398970358815\n"
     ]
    },
    {
     "name": "stderr",
     "output_type": "stream",
     "text": [
      "201it [01:05,  3.06it/s]"
     ]
    },
    {
     "name": "stdout",
     "output_type": "stream",
     "text": [
      "Epoch 9, Batch 200, position loss: 10620.703125 reconstruction loss: 50.035274505615234 RMSE(mm): 51.52839781372986\n"
     ]
    },
    {
     "name": "stderr",
     "output_type": "stream",
     "text": [
      "236it [01:16,  3.07it/s]\n"
     ]
    },
    {
     "name": "stdout",
     "output_type": "stream",
     "text": [
      "Epoch 9, Val Loss: 29013.444156568876, RMSE(mm): 67.64185902792373\n",
      "Epoch 9, test Loss: 41458.767797353314, RMSE(mm): 64.74343031977152\n"
     ]
    },
    {
     "name": "stderr",
     "output_type": "stream",
     "text": [
      "1it [00:00,  3.06it/s]"
     ]
    },
    {
     "name": "stdout",
     "output_type": "stream",
     "text": [
      "Epoch 10, Batch 0, position loss: 6460.1103515625 reconstruction loss: 34.83772277832031 RMSE(mm): 40.187405836787036\n"
     ]
    },
    {
     "name": "stderr",
     "output_type": "stream",
     "text": [
      "101it [00:33,  3.05it/s]"
     ]
    },
    {
     "name": "stdout",
     "output_type": "stream",
     "text": [
      "Epoch 10, Batch 100, position loss: 7530.1826171875 reconstruction loss: 20.256261825561523 RMSE(mm): 43.38831241586696\n"
     ]
    },
    {
     "name": "stderr",
     "output_type": "stream",
     "text": [
      "201it [01:05,  3.07it/s]"
     ]
    },
    {
     "name": "stdout",
     "output_type": "stream",
     "text": [
      "Epoch 10, Batch 200, position loss: 8119.13720703125 reconstruction loss: 49.55240249633789 RMSE(mm): 45.05312754690636\n"
     ]
    },
    {
     "name": "stderr",
     "output_type": "stream",
     "text": [
      "236it [01:16,  3.07it/s]\n"
     ]
    },
    {
     "name": "stdout",
     "output_type": "stream",
     "text": [
      "Epoch 10, Val Loss: 30231.12037627551, RMSE(mm): 69.86052661560664\n",
      "Epoch 10, test Loss: 42605.43893494898, RMSE(mm): 67.03520021155111\n"
     ]
    },
    {
     "name": "stderr",
     "output_type": "stream",
     "text": [
      "1it [00:00,  3.08it/s]"
     ]
    },
    {
     "name": "stdout",
     "output_type": "stream",
     "text": [
      "Epoch 11, Batch 0, position loss: 6258.8173828125 reconstruction loss: 34.72517776489258 RMSE(mm): 39.556343937516836\n"
     ]
    },
    {
     "name": "stderr",
     "output_type": "stream",
     "text": [
      "101it [00:32,  3.06it/s]"
     ]
    },
    {
     "name": "stdout",
     "output_type": "stream",
     "text": [
      "Epoch 11, Batch 100, position loss: 7146.5126953125 reconstruction loss: 20.16587257385254 RMSE(mm): 42.26852462327169\n"
     ]
    },
    {
     "name": "stderr",
     "output_type": "stream",
     "text": [
      "201it [01:05,  3.07it/s]"
     ]
    },
    {
     "name": "stdout",
     "output_type": "stream",
     "text": [
      "Epoch 11, Batch 200, position loss: 6054.1376953125 reconstruction loss: 49.11266326904297 RMSE(mm): 38.9041697486031\n"
     ]
    },
    {
     "name": "stderr",
     "output_type": "stream",
     "text": [
      "236it [01:16,  3.07it/s]\n"
     ]
    },
    {
     "name": "stdout",
     "output_type": "stream",
     "text": [
      "Epoch 11, Val Loss: 31253.400251116072, RMSE(mm): 71.69182848612297\n",
      "Epoch 11, test Loss: 43220.77672592475, RMSE(mm): 68.30871245825149\n"
     ]
    },
    {
     "name": "stderr",
     "output_type": "stream",
     "text": [
      "1it [00:00,  3.06it/s]"
     ]
    },
    {
     "name": "stdout",
     "output_type": "stream",
     "text": [
      "Epoch 12, Batch 0, position loss: 5307.626953125 reconstruction loss: 34.62485122680664 RMSE(mm): 36.42673109518956\n"
     ]
    },
    {
     "name": "stderr",
     "output_type": "stream",
     "text": [
      "101it [00:32,  3.07it/s]"
     ]
    },
    {
     "name": "stdout",
     "output_type": "stream",
     "text": [
      "Epoch 12, Batch 100, position loss: 7266.6591796875 reconstruction loss: 21.389862060546875 RMSE(mm): 42.622350884505124\n"
     ]
    },
    {
     "name": "stderr",
     "output_type": "stream",
     "text": [
      "201it [01:05,  3.06it/s]"
     ]
    },
    {
     "name": "stdout",
     "output_type": "stream",
     "text": [
      "Epoch 12, Batch 200, position loss: 5562.298828125 reconstruction loss: 48.03276824951172 RMSE(mm): 37.29041038968665\n"
     ]
    },
    {
     "name": "stderr",
     "output_type": "stream",
     "text": [
      "236it [01:17,  3.06it/s]\n"
     ]
    },
    {
     "name": "stdout",
     "output_type": "stream",
     "text": [
      "Epoch 12, Val Loss: 30401.434151785714, RMSE(mm): 70.1900224734472\n",
      "Epoch 12, test Loss: 42048.18522799745, RMSE(mm): 66.12700418134305\n"
     ]
    },
    {
     "name": "stderr",
     "output_type": "stream",
     "text": [
      "1it [00:00,  3.07it/s]"
     ]
    },
    {
     "name": "stdout",
     "output_type": "stream",
     "text": [
      "Epoch 13, Batch 0, position loss: 5171.52734375 reconstruction loss: 34.41996383666992 RMSE(mm): 35.956666084851356\n"
     ]
    },
    {
     "name": "stderr",
     "output_type": "stream",
     "text": [
      "101it [00:32,  3.06it/s]"
     ]
    },
    {
     "name": "stdout",
     "output_type": "stream",
     "text": [
      "Epoch 13, Batch 100, position loss: 6953.51171875 reconstruction loss: 21.127321243286133 RMSE(mm): 41.69385961610534\n"
     ]
    },
    {
     "name": "stderr",
     "output_type": "stream",
     "text": [
      "201it [01:05,  3.07it/s]"
     ]
    },
    {
     "name": "stdout",
     "output_type": "stream",
     "text": [
      "Epoch 13, Batch 200, position loss: 5490.8134765625 reconstruction loss: 48.09184646606445 RMSE(mm): 37.05001172929133\n"
     ]
    },
    {
     "name": "stderr",
     "output_type": "stream",
     "text": [
      "236it [01:16,  3.07it/s]\n"
     ]
    },
    {
     "name": "stdout",
     "output_type": "stream",
     "text": [
      "Epoch 13, Val Loss: 30440.606584821428, RMSE(mm): 70.25115014134246\n",
      "Epoch 13, test Loss: 42070.78485730229, RMSE(mm): 66.16721432939855\n"
     ]
    },
    {
     "name": "stderr",
     "output_type": "stream",
     "text": [
      "1it [00:00,  3.06it/s]"
     ]
    },
    {
     "name": "stdout",
     "output_type": "stream",
     "text": [
      "Epoch 14, Batch 0, position loss: 4810.419921875 reconstruction loss: 34.386783599853516 RMSE(mm): 34.678595422374734\n"
     ]
    },
    {
     "name": "stderr",
     "output_type": "stream",
     "text": [
      "101it [00:32,  3.06it/s]"
     ]
    },
    {
     "name": "stdout",
     "output_type": "stream",
     "text": [
      "Epoch 14, Batch 100, position loss: 6349.60888671875 reconstruction loss: 21.046728134155273 RMSE(mm): 39.84221657588452\n"
     ]
    },
    {
     "name": "stderr",
     "output_type": "stream",
     "text": [
      "201it [01:05,  3.07it/s]"
     ]
    },
    {
     "name": "stdout",
     "output_type": "stream",
     "text": [
      "Epoch 14, Batch 200, position loss: 5420.0771484375 reconstruction loss: 48.08344268798828 RMSE(mm): 36.810586617294966\n"
     ]
    },
    {
     "name": "stderr",
     "output_type": "stream",
     "text": [
      "236it [01:16,  3.07it/s]\n"
     ]
    },
    {
     "name": "stdout",
     "output_type": "stream",
     "text": [
      "Epoch 14, Val Loss: 30522.83157286352, RMSE(mm): 70.39487033195624\n",
      "Epoch 14, test Loss: 42164.144551179845, RMSE(mm): 66.35105216442233\n"
     ]
    }
   ],
   "source": [
    "from models.MTLDeiT_pretrained import MTLDeiT_pretrained\n",
    "from helper_function_reconstruct import train\n",
    "batch_size = 64\n",
    "n_epoch = 15\n",
    "learning_rate = 1e-4\n",
    "model_name = '20231108/MTLDeiT_pre_Recon_'\n",
    "for i in range(0,131,10):\n",
    "    model = MTLDeiT_pretrained()\n",
    "    optimizer = torch.optim.Adam(model.parameters(), lr=learning_rate)\n",
    "    scheduler = torch.optim.lr_scheduler.StepLR(optimizer, step_size=6, gamma=0.1)\n",
    "    file_name = f'{model_name}_fix_weight_{i}'\n",
    "    train(model,EEGEyeNet, optimizer, scheduler,log_name=file_name, batch_size = batch_size ,n_epoch = n_epoch, reconstruction_weight=i)\n",
    "    "
   ]
  },
  {
   "cell_type": "code",
   "execution_count": 3,
   "metadata": {},
   "outputs": [
    {
     "name": "stdout",
     "output_type": "stream",
     "text": [
      "create dataloader...\n",
      "HI\n",
      "training...\n"
     ]
    },
    {
     "name": "stderr",
     "output_type": "stream",
     "text": [
      "1it [00:00,  1.65it/s]"
     ]
    },
    {
     "name": "stdout",
     "output_type": "stream",
     "text": [
      "Epoch 0, Batch 0, position loss: 168902.703125 reconstruction loss: 80.67842864990234 RMSE(mm): 205.48887021259813\n"
     ]
    },
    {
     "name": "stderr",
     "output_type": "stream",
     "text": [
      "101it [00:30,  3.30it/s]"
     ]
    },
    {
     "name": "stdout",
     "output_type": "stream",
     "text": [
      "Epoch 0, Batch 100, position loss: 69626.765625 reconstruction loss: 105.47290802001953 RMSE(mm): 131.93442085464278\n"
     ]
    },
    {
     "name": "stderr",
     "output_type": "stream",
     "text": [
      "201it [01:01,  3.33it/s]"
     ]
    },
    {
     "name": "stdout",
     "output_type": "stream",
     "text": [
      "Epoch 0, Batch 200, position loss: 35663.875 reconstruction loss: 230.37838745117188 RMSE(mm): 94.42440759676494\n"
     ]
    },
    {
     "name": "stderr",
     "output_type": "stream",
     "text": [
      "236it [01:11,  3.30it/s]\n"
     ]
    },
    {
     "name": "stdout",
     "output_type": "stream",
     "text": [
      "Epoch 0, Val Loss: 32404.030054209183, RMSE(mm): 90.00559712346947\n",
      "Epoch 0, test Loss: 34228.36463647959, RMSE(mm): 92.50454669431065\n"
     ]
    },
    {
     "name": "stderr",
     "output_type": "stream",
     "text": [
      "1it [00:00,  3.31it/s]"
     ]
    },
    {
     "name": "stdout",
     "output_type": "stream",
     "text": [
      "Epoch 1, Batch 0, position loss: 32797.05078125 reconstruction loss: 157.9546661376953 RMSE(mm): 90.54978020576583\n"
     ]
    },
    {
     "name": "stderr",
     "output_type": "stream",
     "text": [
      "101it [00:30,  3.30it/s]"
     ]
    },
    {
     "name": "stdout",
     "output_type": "stream",
     "text": [
      "Epoch 1, Batch 100, position loss: 27121.65234375 reconstruction loss: 217.96656799316406 RMSE(mm): 82.3432637556801\n"
     ]
    },
    {
     "name": "stderr",
     "output_type": "stream",
     "text": [
      "201it [01:00,  3.33it/s]"
     ]
    },
    {
     "name": "stdout",
     "output_type": "stream",
     "text": [
      "Epoch 1, Batch 200, position loss: 34124.14453125 reconstruction loss: 393.62445068359375 RMSE(mm): 92.36360827085795\n"
     ]
    },
    {
     "name": "stderr",
     "output_type": "stream",
     "text": [
      "236it [01:11,  3.31it/s]\n"
     ]
    },
    {
     "name": "stdout",
     "output_type": "stream",
     "text": [
      "Epoch 1, Val Loss: 26185.050422512755, RMSE(mm): 80.90897728699943\n",
      "Epoch 1, test Loss: 26401.628228635203, RMSE(mm): 81.24288927136209\n"
     ]
    },
    {
     "name": "stderr",
     "output_type": "stream",
     "text": [
      "1it [00:00,  3.29it/s]"
     ]
    },
    {
     "name": "stdout",
     "output_type": "stream",
     "text": [
      "Epoch 2, Batch 0, position loss: 23786.51171875 reconstruction loss: 268.6499328613281 RMSE(mm): 77.1143821195988\n"
     ]
    },
    {
     "name": "stderr",
     "output_type": "stream",
     "text": [
      "101it [00:30,  3.31it/s]"
     ]
    },
    {
     "name": "stdout",
     "output_type": "stream",
     "text": [
      "Epoch 2, Batch 100, position loss: 26076.83984375 reconstruction loss: 267.6979675292969 RMSE(mm): 80.74162471078657\n"
     ]
    },
    {
     "name": "stderr",
     "output_type": "stream",
     "text": [
      "201it [01:00,  3.31it/s]"
     ]
    },
    {
     "name": "stdout",
     "output_type": "stream",
     "text": [
      "Epoch 2, Batch 200, position loss: 32996.98828125 reconstruction loss: 492.5455322265625 RMSE(mm): 90.82536578683568\n"
     ]
    },
    {
     "name": "stderr",
     "output_type": "stream",
     "text": [
      "236it [01:11,  3.31it/s]\n"
     ]
    },
    {
     "name": "stdout",
     "output_type": "stream",
     "text": [
      "Epoch 2, Val Loss: 23876.54954559949, RMSE(mm): 77.260192767038\n",
      "Epoch 2, test Loss: 23909.287507971938, RMSE(mm): 77.3131416836296\n"
     ]
    },
    {
     "name": "stderr",
     "output_type": "stream",
     "text": [
      "1it [00:00,  3.32it/s]"
     ]
    },
    {
     "name": "stdout",
     "output_type": "stream",
     "text": [
      "Epoch 3, Batch 0, position loss: 20850.9453125 reconstruction loss: 354.7648010253906 RMSE(mm): 72.19928204715751\n"
     ]
    },
    {
     "name": "stderr",
     "output_type": "stream",
     "text": [
      "101it [00:30,  3.32it/s]"
     ]
    },
    {
     "name": "stdout",
     "output_type": "stream",
     "text": [
      "Epoch 3, Batch 100, position loss: 24784.28515625 reconstruction loss: 331.97088623046875 RMSE(mm): 78.71512744741318\n"
     ]
    },
    {
     "name": "stderr",
     "output_type": "stream",
     "text": [
      "201it [01:01,  3.32it/s]"
     ]
    },
    {
     "name": "stdout",
     "output_type": "stream",
     "text": [
      "Epoch 3, Batch 200, position loss: 29242.1015625 reconstruction loss: 636.5316162109375 RMSE(mm): 85.50161045632416\n"
     ]
    },
    {
     "name": "stderr",
     "output_type": "stream",
     "text": [
      "236it [01:11,  3.29it/s]\n"
     ]
    },
    {
     "name": "stdout",
     "output_type": "stream",
     "text": [
      "Epoch 3, Val Loss: 22675.972696109693, RMSE(mm): 75.2927166067703\n",
      "Epoch 3, test Loss: 22522.52375637755, RMSE(mm): 75.03753020385457\n"
     ]
    },
    {
     "name": "stderr",
     "output_type": "stream",
     "text": [
      "1it [00:00,  3.32it/s]"
     ]
    },
    {
     "name": "stdout",
     "output_type": "stream",
     "text": [
      "Epoch 4, Batch 0, position loss: 20663.5234375 reconstruction loss: 372.3703308105469 RMSE(mm): 71.87406249388579\n"
     ]
    },
    {
     "name": "stderr",
     "output_type": "stream",
     "text": [
      "101it [00:30,  3.32it/s]"
     ]
    },
    {
     "name": "stdout",
     "output_type": "stream",
     "text": [
      "Epoch 4, Batch 100, position loss: 23114.5 reconstruction loss: 397.4631042480469 RMSE(mm): 76.0172677751575\n"
     ]
    },
    {
     "name": "stderr",
     "output_type": "stream",
     "text": [
      "201it [01:00,  3.32it/s]"
     ]
    },
    {
     "name": "stdout",
     "output_type": "stream",
     "text": [
      "Epoch 4, Batch 200, position loss: 26996.2890625 reconstruction loss: 534.2048950195312 RMSE(mm): 82.15273742015539\n"
     ]
    },
    {
     "name": "stderr",
     "output_type": "stream",
     "text": [
      "236it [01:11,  3.32it/s]\n"
     ]
    },
    {
     "name": "stdout",
     "output_type": "stream",
     "text": [
      "Epoch 4, Val Loss: 22219.58808992347, RMSE(mm): 74.53118154491358\n",
      "Epoch 4, test Loss: 21874.104990433672, RMSE(mm): 73.9494844309845\n"
     ]
    },
    {
     "name": "stderr",
     "output_type": "stream",
     "text": [
      "1it [00:00,  3.30it/s]"
     ]
    },
    {
     "name": "stdout",
     "output_type": "stream",
     "text": [
      "Epoch 5, Batch 0, position loss: 18612.4453125 reconstruction loss: 381.2532958984375 RMSE(mm): 68.21371803475456\n"
     ]
    },
    {
     "name": "stderr",
     "output_type": "stream",
     "text": [
      "101it [00:30,  3.30it/s]"
     ]
    },
    {
     "name": "stdout",
     "output_type": "stream",
     "text": [
      "Epoch 5, Batch 100, position loss: 21318.7265625 reconstruction loss: 308.5472106933594 RMSE(mm): 73.00466862211621\n"
     ]
    },
    {
     "name": "stderr",
     "output_type": "stream",
     "text": [
      "201it [01:00,  3.31it/s]"
     ]
    },
    {
     "name": "stdout",
     "output_type": "stream",
     "text": [
      "Epoch 5, Batch 200, position loss: 23775.0546875 reconstruction loss: 394.123779296875 RMSE(mm): 77.09580839367987\n"
     ]
    },
    {
     "name": "stderr",
     "output_type": "stream",
     "text": [
      "236it [01:11,  3.31it/s]\n"
     ]
    },
    {
     "name": "stdout",
     "output_type": "stream",
     "text": [
      "Epoch 5, Val Loss: 21089.134685905614, RMSE(mm): 72.61049284694604\n",
      "Epoch 5, test Loss: 20132.73784279337, RMSE(mm): 70.94493964123404\n"
     ]
    },
    {
     "name": "stderr",
     "output_type": "stream",
     "text": [
      "1it [00:00,  3.31it/s]"
     ]
    },
    {
     "name": "stdout",
     "output_type": "stream",
     "text": [
      "Epoch 6, Batch 0, position loss: 17730.873046875 reconstruction loss: 330.9240417480469 RMSE(mm): 66.57866221034146\n"
     ]
    },
    {
     "name": "stderr",
     "output_type": "stream",
     "text": [
      "101it [00:30,  3.32it/s]"
     ]
    },
    {
     "name": "stdout",
     "output_type": "stream",
     "text": [
      "Epoch 6, Batch 100, position loss: 20450.37890625 reconstruction loss: 283.51568603515625 RMSE(mm): 71.50241063462477\n"
     ]
    },
    {
     "name": "stderr",
     "output_type": "stream",
     "text": [
      "201it [01:00,  3.31it/s]"
     ]
    },
    {
     "name": "stdout",
     "output_type": "stream",
     "text": [
      "Epoch 6, Batch 200, position loss: 20738.05859375 reconstruction loss: 332.9569091796875 RMSE(mm): 72.00357385878496\n"
     ]
    },
    {
     "name": "stderr",
     "output_type": "stream",
     "text": [
      "236it [01:11,  3.32it/s]\n"
     ]
    },
    {
     "name": "stdout",
     "output_type": "stream",
     "text": [
      "Epoch 6, Val Loss: 19855.803093112245, RMSE(mm): 70.45531046896366\n",
      "Epoch 6, test Loss: 18602.51881377551, RMSE(mm): 68.1955255382923\n"
     ]
    },
    {
     "name": "stderr",
     "output_type": "stream",
     "text": [
      "1it [00:00,  3.29it/s]"
     ]
    },
    {
     "name": "stdout",
     "output_type": "stream",
     "text": [
      "Epoch 7, Batch 0, position loss: 17057.734375 reconstruction loss: 280.20062255859375 RMSE(mm): 65.30263083329798\n"
     ]
    },
    {
     "name": "stderr",
     "output_type": "stream",
     "text": [
      "101it [00:30,  3.32it/s]"
     ]
    },
    {
     "name": "stdout",
     "output_type": "stream",
     "text": [
      "Epoch 7, Batch 100, position loss: 18059.04296875 reconstruction loss: 242.11184692382812 RMSE(mm): 67.19196932809382\n"
     ]
    },
    {
     "name": "stderr",
     "output_type": "stream",
     "text": [
      "201it [01:00,  3.31it/s]"
     ]
    },
    {
     "name": "stdout",
     "output_type": "stream",
     "text": [
      "Epoch 7, Batch 200, position loss: 21205.77734375 reconstruction loss: 303.6380920410156 RMSE(mm): 72.81101795702007\n"
     ]
    },
    {
     "name": "stderr",
     "output_type": "stream",
     "text": [
      "236it [01:10,  3.33it/s]\n"
     ]
    },
    {
     "name": "stdout",
     "output_type": "stream",
     "text": [
      "Epoch 7, Val Loss: 19483.24485809949, RMSE(mm): 69.79119725670904\n",
      "Epoch 7, test Loss: 18016.889249840562, RMSE(mm): 67.11350320509383\n"
     ]
    },
    {
     "name": "stderr",
     "output_type": "stream",
     "text": [
      "1it [00:00,  3.33it/s]"
     ]
    },
    {
     "name": "stdout",
     "output_type": "stream",
     "text": [
      "Epoch 8, Batch 0, position loss: 16080.34375 reconstruction loss: 260.8412170410156 RMSE(mm): 63.40414763641256\n"
     ]
    },
    {
     "name": "stderr",
     "output_type": "stream",
     "text": [
      "101it [00:30,  3.32it/s]"
     ]
    },
    {
     "name": "stdout",
     "output_type": "stream",
     "text": [
      "Epoch 8, Batch 100, position loss: 18148.466796875 reconstruction loss: 234.42431640625 RMSE(mm): 67.35812274120137\n"
     ]
    },
    {
     "name": "stderr",
     "output_type": "stream",
     "text": [
      "201it [01:00,  3.33it/s]"
     ]
    },
    {
     "name": "stdout",
     "output_type": "stream",
     "text": [
      "Epoch 8, Batch 200, position loss: 20386.654296875 reconstruction loss: 286.0869445800781 RMSE(mm): 71.39092081083385\n"
     ]
    },
    {
     "name": "stderr",
     "output_type": "stream",
     "text": [
      "236it [01:10,  3.33it/s]\n"
     ]
    },
    {
     "name": "stdout",
     "output_type": "stream",
     "text": [
      "Epoch 8, Val Loss: 19211.703683035714, RMSE(mm): 69.30314510005249\n",
      "Epoch 8, test Loss: 17569.322265625, RMSE(mm): 66.27466006254767\n"
     ]
    },
    {
     "name": "stderr",
     "output_type": "stream",
     "text": [
      "1it [00:00,  3.32it/s]"
     ]
    },
    {
     "name": "stdout",
     "output_type": "stream",
     "text": [
      "Epoch 9, Batch 0, position loss: 16103.0830078125 reconstruction loss: 255.10791015625 RMSE(mm): 63.44896178782695\n"
     ]
    },
    {
     "name": "stderr",
     "output_type": "stream",
     "text": [
      "101it [00:30,  3.30it/s]"
     ]
    },
    {
     "name": "stdout",
     "output_type": "stream",
     "text": [
      "Epoch 9, Batch 100, position loss: 17666.578125 reconstruction loss: 226.36288452148438 RMSE(mm): 66.45784025417919\n"
     ]
    },
    {
     "name": "stderr",
     "output_type": "stream",
     "text": [
      "201it [01:01,  3.33it/s]"
     ]
    },
    {
     "name": "stdout",
     "output_type": "stream",
     "text": [
      "Epoch 9, Batch 200, position loss: 19951.4140625 reconstruction loss: 277.50152587890625 RMSE(mm): 70.6247372782724\n"
     ]
    },
    {
     "name": "stderr",
     "output_type": "stream",
     "text": [
      "236it [01:11,  3.29it/s]\n"
     ]
    },
    {
     "name": "stdout",
     "output_type": "stream",
     "text": [
      "Epoch 9, Val Loss: 18837.927555006376, RMSE(mm): 68.62566494214532\n",
      "Epoch 9, test Loss: 17168.64718191964, RMSE(mm): 65.51459223318047\n"
     ]
    },
    {
     "name": "stderr",
     "output_type": "stream",
     "text": [
      "1it [00:00,  3.31it/s]"
     ]
    },
    {
     "name": "stdout",
     "output_type": "stream",
     "text": [
      "Epoch 10, Batch 0, position loss: 15675.51953125 reconstruction loss: 247.1909942626953 RMSE(mm): 62.60095752312819\n"
     ]
    },
    {
     "name": "stderr",
     "output_type": "stream",
     "text": [
      "101it [00:30,  3.28it/s]"
     ]
    },
    {
     "name": "stdout",
     "output_type": "stream",
     "text": [
      "Epoch 10, Batch 100, position loss: 16234.015625 reconstruction loss: 211.8582305908203 RMSE(mm): 63.70638826875999\n"
     ]
    },
    {
     "name": "stderr",
     "output_type": "stream",
     "text": [
      "201it [01:00,  3.30it/s]"
     ]
    },
    {
     "name": "stdout",
     "output_type": "stream",
     "text": [
      "Epoch 10, Batch 200, position loss: 20623.732421875 reconstruction loss: 263.51141357421875 RMSE(mm): 71.80482647753388\n"
     ]
    },
    {
     "name": "stderr",
     "output_type": "stream",
     "text": [
      "236it [01:11,  3.31it/s]\n"
     ]
    },
    {
     "name": "stdout",
     "output_type": "stream",
     "text": [
      "Epoch 10, Val Loss: 18592.930963010203, RMSE(mm): 68.1779490799815\n",
      "Epoch 10, test Loss: 16882.398836096938, RMSE(mm): 64.9661427901044\n"
     ]
    },
    {
     "name": "stderr",
     "output_type": "stream",
     "text": [
      "1it [00:00,  3.45it/s]"
     ]
    },
    {
     "name": "stdout",
     "output_type": "stream",
     "text": [
      "Epoch 11, Batch 0, position loss: 15595.5625 reconstruction loss: 247.47055053710938 RMSE(mm): 62.441097243722425\n"
     ]
    },
    {
     "name": "stderr",
     "output_type": "stream",
     "text": [
      "101it [00:29,  3.43it/s]"
     ]
    },
    {
     "name": "stdout",
     "output_type": "stream",
     "text": [
      "Epoch 11, Batch 100, position loss: 16452.67578125 reconstruction loss: 208.84585571289062 RMSE(mm): 64.13399212050112\n"
     ]
    },
    {
     "name": "stderr",
     "output_type": "stream",
     "text": [
      "201it [00:58,  3.42it/s]"
     ]
    },
    {
     "name": "stdout",
     "output_type": "stream",
     "text": [
      "Epoch 11, Batch 200, position loss: 19992.19921875 reconstruction loss: 259.3305358886719 RMSE(mm): 70.6968868104353\n"
     ]
    },
    {
     "name": "stderr",
     "output_type": "stream",
     "text": [
      "236it [01:08,  3.43it/s]\n"
     ]
    },
    {
     "name": "stdout",
     "output_type": "stream",
     "text": [
      "Epoch 11, Val Loss: 18377.260144292093, RMSE(mm): 67.78137676436666\n",
      "Epoch 11, test Loss: 16580.847815688776, RMSE(mm): 64.3833204636278\n"
     ]
    },
    {
     "name": "stderr",
     "output_type": "stream",
     "text": [
      "1it [00:00,  3.42it/s]"
     ]
    },
    {
     "name": "stdout",
     "output_type": "stream",
     "text": [
      "Epoch 12, Batch 0, position loss: 14998.330078125 reconstruction loss: 240.57479858398438 RMSE(mm): 61.23383476094936\n"
     ]
    },
    {
     "name": "stderr",
     "output_type": "stream",
     "text": [
      "101it [00:29,  3.42it/s]"
     ]
    },
    {
     "name": "stdout",
     "output_type": "stream",
     "text": [
      "Epoch 12, Batch 100, position loss: 16503.87109375 reconstruction loss: 208.97836303710938 RMSE(mm): 64.23369655747285\n"
     ]
    },
    {
     "name": "stderr",
     "output_type": "stream",
     "text": [
      "201it [00:58,  3.42it/s]"
     ]
    },
    {
     "name": "stdout",
     "output_type": "stream",
     "text": [
      "Epoch 12, Batch 200, position loss: 19168.796875 reconstruction loss: 265.14862060546875 RMSE(mm): 69.22571212165317\n"
     ]
    },
    {
     "name": "stderr",
     "output_type": "stream",
     "text": [
      "236it [01:08,  3.42it/s]\n"
     ]
    },
    {
     "name": "stdout",
     "output_type": "stream",
     "text": [
      "Epoch 12, Val Loss: 18408.151606345662, RMSE(mm): 67.83832177749105\n",
      "Epoch 12, test Loss: 16608.545320471938, RMSE(mm): 64.43707263771364\n"
     ]
    },
    {
     "name": "stderr",
     "output_type": "stream",
     "text": [
      "1it [00:00,  3.41it/s]"
     ]
    },
    {
     "name": "stdout",
     "output_type": "stream",
     "text": [
      "Epoch 13, Batch 0, position loss: 14959.474609375 reconstruction loss: 244.173828125 RMSE(mm): 61.15446551433305\n"
     ]
    },
    {
     "name": "stderr",
     "output_type": "stream",
     "text": [
      "101it [00:29,  3.40it/s]"
     ]
    },
    {
     "name": "stdout",
     "output_type": "stream",
     "text": [
      "Epoch 13, Batch 100, position loss: 16965.958984375 reconstruction loss: 207.3179473876953 RMSE(mm): 65.12672067664508\n"
     ]
    },
    {
     "name": "stderr",
     "output_type": "stream",
     "text": [
      "201it [00:58,  3.41it/s]"
     ]
    },
    {
     "name": "stdout",
     "output_type": "stream",
     "text": [
      "Epoch 13, Batch 200, position loss: 17486.625 reconstruction loss: 264.6274719238281 RMSE(mm): 66.11850157104288\n"
     ]
    },
    {
     "name": "stderr",
     "output_type": "stream",
     "text": [
      "236it [01:09,  3.42it/s]\n"
     ]
    },
    {
     "name": "stdout",
     "output_type": "stream",
     "text": [
      "Epoch 13, Val Loss: 18407.110251913266, RMSE(mm): 67.83640293366325\n",
      "Epoch 13, test Loss: 16633.631078603317, RMSE(mm): 64.48571756327776\n"
     ]
    },
    {
     "name": "stderr",
     "output_type": "stream",
     "text": [
      "1it [00:00,  3.43it/s]"
     ]
    },
    {
     "name": "stdout",
     "output_type": "stream",
     "text": [
      "Epoch 14, Batch 0, position loss: 13984.970703125 reconstruction loss: 244.27850341796875 RMSE(mm): 59.1290341184536\n"
     ]
    },
    {
     "name": "stderr",
     "output_type": "stream",
     "text": [
      "101it [00:29,  3.41it/s]"
     ]
    },
    {
     "name": "stdout",
     "output_type": "stream",
     "text": [
      "Epoch 14, Batch 100, position loss: 15417.5498046875 reconstruction loss: 208.75526428222656 RMSE(mm): 62.08371325212334\n"
     ]
    },
    {
     "name": "stderr",
     "output_type": "stream",
     "text": [
      "201it [00:59,  3.39it/s]"
     ]
    },
    {
     "name": "stdout",
     "output_type": "stream",
     "text": [
      "Epoch 14, Batch 200, position loss: 18461.125 reconstruction loss: 264.0764465332031 RMSE(mm): 67.93586129578398\n"
     ]
    },
    {
     "name": "stderr",
     "output_type": "stream",
     "text": [
      "236it [01:09,  3.41it/s]\n"
     ]
    },
    {
     "name": "stdout",
     "output_type": "stream",
     "text": [
      "Epoch 14, Val Loss: 18391.9853515625, RMSE(mm): 67.80852702935395\n",
      "Epoch 14, test Loss: 16617.87205038265, RMSE(mm): 64.45516280792147\n",
      "create dataloader...\n",
      "HI\n",
      "training...\n"
     ]
    },
    {
     "name": "stderr",
     "output_type": "stream",
     "text": [
      "1it [00:00,  2.28it/s]"
     ]
    },
    {
     "name": "stdout",
     "output_type": "stream",
     "text": [
      "Epoch 0, Batch 0, position loss: 169135.109375 reconstruction loss: 80.60336303710938 RMSE(mm): 205.6301956030534\n"
     ]
    },
    {
     "name": "stderr",
     "output_type": "stream",
     "text": [
      "101it [00:29,  3.43it/s]"
     ]
    },
    {
     "name": "stdout",
     "output_type": "stream",
     "text": [
      "Epoch 0, Batch 100, position loss: 69948.28125 reconstruction loss: 101.29093933105469 RMSE(mm): 132.23868689797249\n"
     ]
    },
    {
     "name": "stderr",
     "output_type": "stream",
     "text": [
      "201it [00:58,  3.44it/s]"
     ]
    },
    {
     "name": "stdout",
     "output_type": "stream",
     "text": [
      "Epoch 0, Batch 200, position loss: 33865.5546875 reconstruction loss: 229.15374755859375 RMSE(mm): 92.01298099656917\n"
     ]
    },
    {
     "name": "stderr",
     "output_type": "stream",
     "text": [
      "236it [01:08,  3.44it/s]\n"
     ]
    },
    {
     "name": "stdout",
     "output_type": "stream",
     "text": [
      "Epoch 0, Val Loss: 29144.56106505102, RMSE(mm): 85.35889096200088\n",
      "Epoch 0, test Loss: 30838.72221779337, RMSE(mm): 87.80478662606238\n"
     ]
    },
    {
     "name": "stderr",
     "output_type": "stream",
     "text": [
      "1it [00:00,  3.40it/s]"
     ]
    },
    {
     "name": "stdout",
     "output_type": "stream",
     "text": [
      "Epoch 1, Batch 0, position loss: 28226.421875 reconstruction loss: 187.42254638671875 RMSE(mm): 84.00360390334453\n"
     ]
    },
    {
     "name": "stderr",
     "output_type": "stream",
     "text": [
      "101it [00:29,  3.29it/s]"
     ]
    },
    {
     "name": "stdout",
     "output_type": "stream",
     "text": [
      "Epoch 1, Batch 100, position loss: 27130.91796875 reconstruction loss: 193.58729553222656 RMSE(mm): 82.35732810252831\n"
     ]
    },
    {
     "name": "stderr",
     "output_type": "stream",
     "text": [
      "201it [01:00,  3.32it/s]"
     ]
    },
    {
     "name": "stdout",
     "output_type": "stream",
     "text": [
      "Epoch 1, Batch 200, position loss: 33578.0703125 reconstruction loss: 541.65478515625 RMSE(mm): 91.62159995396827\n"
     ]
    },
    {
     "name": "stderr",
     "output_type": "stream",
     "text": [
      "236it [01:10,  3.35it/s]\n"
     ]
    },
    {
     "name": "stdout",
     "output_type": "stream",
     "text": [
      "Epoch 1, Val Loss: 25775.573461415817, RMSE(mm): 80.27386477150552\n",
      "Epoch 1, test Loss: 26073.122568558672, RMSE(mm): 80.73586961282865\n"
     ]
    },
    {
     "name": "stderr",
     "output_type": "stream",
     "text": [
      "1it [00:00,  3.31it/s]"
     ]
    },
    {
     "name": "stdout",
     "output_type": "stream",
     "text": [
      "Epoch 2, Batch 0, position loss: 21341.71484375 reconstruction loss: 239.40196228027344 RMSE(mm): 73.04401899496973\n"
     ]
    },
    {
     "name": "stderr",
     "output_type": "stream",
     "text": [
      "101it [00:30,  3.31it/s]"
     ]
    },
    {
     "name": "stdout",
     "output_type": "stream",
     "text": [
      "Epoch 2, Batch 100, position loss: 26399.333984375 reconstruction loss: 230.6887969970703 RMSE(mm): 81.23935927919268\n"
     ]
    },
    {
     "name": "stderr",
     "output_type": "stream",
     "text": [
      "201it [01:00,  3.31it/s]"
     ]
    },
    {
     "name": "stdout",
     "output_type": "stream",
     "text": [
      "Epoch 2, Batch 200, position loss: 31652.5703125 reconstruction loss: 596.5587768554688 RMSE(mm): 88.95584622791804\n"
     ]
    },
    {
     "name": "stderr",
     "output_type": "stream",
     "text": [
      "236it [01:11,  3.32it/s]\n"
     ]
    },
    {
     "name": "stdout",
     "output_type": "stream",
     "text": [
      "Epoch 2, Val Loss: 24220.919682716838, RMSE(mm): 77.81535787156163\n",
      "Epoch 2, test Loss: 24616.59084024235, RMSE(mm): 78.44837608300497\n"
     ]
    },
    {
     "name": "stderr",
     "output_type": "stream",
     "text": [
      "1it [00:00,  3.30it/s]"
     ]
    },
    {
     "name": "stdout",
     "output_type": "stream",
     "text": [
      "Epoch 3, Batch 0, position loss: 20361.4921875 reconstruction loss: 275.5943603515625 RMSE(mm): 71.34685029400387\n"
     ]
    },
    {
     "name": "stderr",
     "output_type": "stream",
     "text": [
      "101it [00:30,  3.42it/s]"
     ]
    },
    {
     "name": "stdout",
     "output_type": "stream",
     "text": [
      "Epoch 3, Batch 100, position loss: 24056.5625 reconstruction loss: 287.0125732421875 RMSE(mm): 77.55089054936765\n"
     ]
    },
    {
     "name": "stderr",
     "output_type": "stream",
     "text": [
      "201it [01:00,  3.40it/s]"
     ]
    },
    {
     "name": "stdout",
     "output_type": "stream",
     "text": [
      "Epoch 3, Batch 200, position loss: 29495.912109375 reconstruction loss: 464.3768310546875 RMSE(mm): 85.87186982559393\n"
     ]
    },
    {
     "name": "stderr",
     "output_type": "stream",
     "text": [
      "236it [01:10,  3.34it/s]\n"
     ]
    },
    {
     "name": "stdout",
     "output_type": "stream",
     "text": [
      "Epoch 3, Val Loss: 23407.412109375, RMSE(mm): 76.49740536347458\n",
      "Epoch 3, test Loss: 24019.94120695153, RMSE(mm): 77.4918402268128\n"
     ]
    },
    {
     "name": "stderr",
     "output_type": "stream",
     "text": [
      "1it [00:00,  3.29it/s]"
     ]
    },
    {
     "name": "stdout",
     "output_type": "stream",
     "text": [
      "Epoch 4, Batch 0, position loss: 20308.728515625 reconstruction loss: 292.6140441894531 RMSE(mm): 71.25434814035036\n"
     ]
    },
    {
     "name": "stderr",
     "output_type": "stream",
     "text": [
      "101it [00:30,  3.33it/s]"
     ]
    },
    {
     "name": "stdout",
     "output_type": "stream",
     "text": [
      "Epoch 4, Batch 100, position loss: 22956.40234375 reconstruction loss: 311.9856872558594 RMSE(mm): 75.75685174251568\n"
     ]
    },
    {
     "name": "stderr",
     "output_type": "stream",
     "text": [
      "201it [01:00,  3.32it/s]"
     ]
    },
    {
     "name": "stdout",
     "output_type": "stream",
     "text": [
      "Epoch 4, Batch 200, position loss: 25200.560546875 reconstruction loss: 398.2293701171875 RMSE(mm): 79.37342210537952\n"
     ]
    },
    {
     "name": "stderr",
     "output_type": "stream",
     "text": [
      "236it [01:11,  3.32it/s]\n"
     ]
    },
    {
     "name": "stdout",
     "output_type": "stream",
     "text": [
      "Epoch 4, Val Loss: 22076.21928810587, RMSE(mm): 74.2903413777758\n",
      "Epoch 4, test Loss: 22189.359335140307, RMSE(mm): 74.48046612223285\n"
     ]
    },
    {
     "name": "stderr",
     "output_type": "stream",
     "text": [
      "1it [00:00,  3.31it/s]"
     ]
    },
    {
     "name": "stdout",
     "output_type": "stream",
     "text": [
      "Epoch 5, Batch 0, position loss: 18000.67578125 reconstruction loss: 251.95872497558594 RMSE(mm): 67.0832985571856\n"
     ]
    },
    {
     "name": "stderr",
     "output_type": "stream",
     "text": [
      "101it [00:30,  3.33it/s]"
     ]
    },
    {
     "name": "stdout",
     "output_type": "stream",
     "text": [
      "Epoch 5, Batch 100, position loss: 16441.322265625 reconstruction loss: 224.9044189453125 RMSE(mm): 64.11185979525357\n"
     ]
    },
    {
     "name": "stderr",
     "output_type": "stream",
     "text": [
      "201it [01:00,  3.33it/s]"
     ]
    },
    {
     "name": "stdout",
     "output_type": "stream",
     "text": [
      "Epoch 5, Batch 200, position loss: 23547.29296875 reconstruction loss: 302.61737060546875 RMSE(mm): 76.72563614716726\n"
     ]
    },
    {
     "name": "stderr",
     "output_type": "stream",
     "text": [
      "236it [01:11,  3.32it/s]\n"
     ]
    },
    {
     "name": "stdout",
     "output_type": "stream",
     "text": [
      "Epoch 5, Val Loss: 19399.93853635204, RMSE(mm): 69.64183106501444\n",
      "Epoch 5, test Loss: 18065.70318478954, RMSE(mm): 67.20435846131845\n"
     ]
    },
    {
     "name": "stderr",
     "output_type": "stream",
     "text": [
      "1it [00:00,  3.31it/s]"
     ]
    },
    {
     "name": "stdout",
     "output_type": "stream",
     "text": [
      "Epoch 6, Batch 0, position loss: 14444.8681640625 reconstruction loss: 257.00299072265625 RMSE(mm): 60.09340264135178\n"
     ]
    },
    {
     "name": "stderr",
     "output_type": "stream",
     "text": [
      "101it [00:30,  3.31it/s]"
     ]
    },
    {
     "name": "stdout",
     "output_type": "stream",
     "text": [
      "Epoch 6, Batch 100, position loss: 17115.728515625 reconstruction loss: 245.89532470703125 RMSE(mm): 65.41354698306957\n"
     ]
    },
    {
     "name": "stderr",
     "output_type": "stream",
     "text": [
      "201it [01:00,  3.32it/s]"
     ]
    },
    {
     "name": "stdout",
     "output_type": "stream",
     "text": [
      "Epoch 6, Batch 200, position loss: 17994.943359375 reconstruction loss: 279.7484130859375 RMSE(mm): 67.07261616966905\n"
     ]
    },
    {
     "name": "stderr",
     "output_type": "stream",
     "text": [
      "236it [01:11,  3.30it/s]\n"
     ]
    },
    {
     "name": "stdout",
     "output_type": "stream",
     "text": [
      "Epoch 6, Val Loss: 18241.934749681124, RMSE(mm): 67.53135336582764\n",
      "Epoch 6, test Loss: 16844.82270408163, RMSE(mm): 64.89380306331574\n"
     ]
    },
    {
     "name": "stderr",
     "output_type": "stream",
     "text": [
      "1it [00:00,  3.33it/s]"
     ]
    },
    {
     "name": "stdout",
     "output_type": "stream",
     "text": [
      "Epoch 7, Batch 0, position loss: 14037.59765625 reconstruction loss: 255.0313262939453 RMSE(mm): 59.240184115703926\n"
     ]
    },
    {
     "name": "stderr",
     "output_type": "stream",
     "text": [
      "101it [00:30,  3.34it/s]"
     ]
    },
    {
     "name": "stdout",
     "output_type": "stream",
     "text": [
      "Epoch 7, Batch 100, position loss: 15841.935546875 reconstruction loss: 240.5689697265625 RMSE(mm): 62.93237550513051\n"
     ]
    },
    {
     "name": "stderr",
     "output_type": "stream",
     "text": [
      "201it [01:01,  3.33it/s]"
     ]
    },
    {
     "name": "stdout",
     "output_type": "stream",
     "text": [
      "Epoch 7, Batch 200, position loss: 17350.18359375 reconstruction loss: 271.690185546875 RMSE(mm): 65.86004781684797\n"
     ]
    },
    {
     "name": "stderr",
     "output_type": "stream",
     "text": [
      "236it [01:12,  3.27it/s]\n"
     ]
    },
    {
     "name": "stdout",
     "output_type": "stream",
     "text": [
      "Epoch 7, Val Loss: 18120.22993064413, RMSE(mm): 67.30570170989255\n",
      "Epoch 7, test Loss: 16657.785654496172, RMSE(mm): 64.53252213902725\n"
     ]
    },
    {
     "name": "stderr",
     "output_type": "stream",
     "text": [
      "1it [00:00,  3.29it/s]"
     ]
    },
    {
     "name": "stdout",
     "output_type": "stream",
     "text": [
      "Epoch 8, Batch 0, position loss: 13415.8896484375 reconstruction loss: 253.59219360351562 RMSE(mm): 57.913490760870005\n"
     ]
    },
    {
     "name": "stderr",
     "output_type": "stream",
     "text": [
      "101it [00:30,  3.28it/s]"
     ]
    },
    {
     "name": "stdout",
     "output_type": "stream",
     "text": [
      "Epoch 8, Batch 100, position loss: 15339.8251953125 reconstruction loss: 233.1763153076172 RMSE(mm): 61.927023978454876\n"
     ]
    },
    {
     "name": "stderr",
     "output_type": "stream",
     "text": [
      "201it [01:02,  3.16it/s]"
     ]
    },
    {
     "name": "stdout",
     "output_type": "stream",
     "text": [
      "Epoch 8, Batch 200, position loss: 18262.5390625 reconstruction loss: 269.074462890625 RMSE(mm): 67.5694810223151\n"
     ]
    },
    {
     "name": "stderr",
     "output_type": "stream",
     "text": [
      "236it [01:13,  3.23it/s]\n"
     ]
    },
    {
     "name": "stdout",
     "output_type": "stream",
     "text": [
      "Epoch 8, Val Loss: 18026.522939253828, RMSE(mm): 67.13144371167253\n",
      "Epoch 8, test Loss: 16490.615852200255, RMSE(mm): 64.20789642287048\n"
     ]
    },
    {
     "name": "stderr",
     "output_type": "stream",
     "text": [
      "1it [00:00,  3.15it/s]"
     ]
    },
    {
     "name": "stdout",
     "output_type": "stream",
     "text": [
      "Epoch 9, Batch 0, position loss: 13584.16796875 reconstruction loss: 246.5076904296875 RMSE(mm): 58.27556942825613\n"
     ]
    },
    {
     "name": "stderr",
     "output_type": "stream",
     "text": [
      "101it [00:31,  3.27it/s]"
     ]
    },
    {
     "name": "stdout",
     "output_type": "stream",
     "text": [
      "Epoch 9, Batch 100, position loss: 16158.6904296875 reconstruction loss: 226.09335327148438 RMSE(mm): 63.55841885558415\n"
     ]
    },
    {
     "name": "stderr",
     "output_type": "stream",
     "text": [
      "201it [01:03,  3.19it/s]"
     ]
    },
    {
     "name": "stdout",
     "output_type": "stream",
     "text": [
      "Epoch 9, Batch 200, position loss: 18307.89453125 reconstruction loss: 264.2215576171875 RMSE(mm): 67.6533342327819\n"
     ]
    },
    {
     "name": "stderr",
     "output_type": "stream",
     "text": [
      "236it [01:14,  3.17it/s]\n"
     ]
    },
    {
     "name": "stdout",
     "output_type": "stream",
     "text": [
      "Epoch 9, Val Loss: 17958.561423788266, RMSE(mm): 67.00477860531342\n",
      "Epoch 9, test Loss: 16435.37577726403, RMSE(mm): 64.10026477570906\n"
     ]
    },
    {
     "name": "stderr",
     "output_type": "stream",
     "text": [
      "1it [00:00,  3.18it/s]"
     ]
    },
    {
     "name": "stdout",
     "output_type": "stream",
     "text": [
      "Epoch 10, Batch 0, position loss: 13531.435546875 reconstruction loss: 240.39991760253906 RMSE(mm): 58.1623493913266\n"
     ]
    },
    {
     "name": "stderr",
     "output_type": "stream",
     "text": [
      "101it [00:31,  3.21it/s]"
     ]
    },
    {
     "name": "stdout",
     "output_type": "stream",
     "text": [
      "Epoch 10, Batch 100, position loss: 15651.552734375 reconstruction loss: 227.5079345703125 RMSE(mm): 62.55308292637342\n"
     ]
    },
    {
     "name": "stderr",
     "output_type": "stream",
     "text": [
      "201it [01:02,  3.21it/s]"
     ]
    },
    {
     "name": "stdout",
     "output_type": "stream",
     "text": [
      "Epoch 10, Batch 200, position loss: 17110.23828125 reconstruction loss: 262.1548767089844 RMSE(mm): 65.4030547475613\n"
     ]
    },
    {
     "name": "stderr",
     "output_type": "stream",
     "text": [
      "236it [01:13,  3.21it/s]\n"
     ]
    },
    {
     "name": "stdout",
     "output_type": "stream",
     "text": [
      "Epoch 10, Val Loss: 17898.903419961734, RMSE(mm): 66.89339171390873\n",
      "Epoch 10, test Loss: 16298.593710140307, RMSE(mm): 63.83297288655039\n"
     ]
    },
    {
     "name": "stderr",
     "output_type": "stream",
     "text": [
      "1it [00:00,  3.18it/s]"
     ]
    },
    {
     "name": "stdout",
     "output_type": "stream",
     "text": [
      "Epoch 11, Batch 0, position loss: 12292.287109375 reconstruction loss: 238.7790069580078 RMSE(mm): 55.43529360744606\n"
     ]
    },
    {
     "name": "stderr",
     "output_type": "stream",
     "text": [
      "101it [00:31,  3.19it/s]"
     ]
    },
    {
     "name": "stdout",
     "output_type": "stream",
     "text": [
      "Epoch 11, Batch 100, position loss: 14610.9755859375 reconstruction loss: 219.8079071044922 RMSE(mm): 60.43793425063745\n"
     ]
    },
    {
     "name": "stderr",
     "output_type": "stream",
     "text": [
      "201it [01:03,  3.21it/s]"
     ]
    },
    {
     "name": "stdout",
     "output_type": "stream",
     "text": [
      "Epoch 11, Batch 200, position loss: 16664.435546875 reconstruction loss: 257.16558837890625 RMSE(mm): 64.54540174728754\n"
     ]
    },
    {
     "name": "stderr",
     "output_type": "stream",
     "text": [
      "236it [01:14,  3.17it/s]\n"
     ]
    },
    {
     "name": "stdout",
     "output_type": "stream",
     "text": [
      "Epoch 11, Val Loss: 17921.797951211734, RMSE(mm): 66.93615979276771\n",
      "Epoch 11, test Loss: 16224.375438456633, RMSE(mm): 63.687470193234695\n"
     ]
    },
    {
     "name": "stderr",
     "output_type": "stream",
     "text": [
      "1it [00:00,  3.17it/s]"
     ]
    },
    {
     "name": "stdout",
     "output_type": "stream",
     "text": [
      "Epoch 12, Batch 0, position loss: 12908.474609375 reconstruction loss: 235.0135955810547 RMSE(mm): 56.80773408915154\n"
     ]
    },
    {
     "name": "stderr",
     "output_type": "stream",
     "text": [
      "101it [00:32,  3.13it/s]"
     ]
    },
    {
     "name": "stdout",
     "output_type": "stream",
     "text": [
      "Epoch 12, Batch 100, position loss: 15367.025390625 reconstruction loss: 216.55532836914062 RMSE(mm): 61.981903388458875\n"
     ]
    },
    {
     "name": "stderr",
     "output_type": "stream",
     "text": [
      "201it [01:03,  3.15it/s]"
     ]
    },
    {
     "name": "stdout",
     "output_type": "stream",
     "text": [
      "Epoch 12, Batch 200, position loss: 17601.451171875 reconstruction loss: 262.3534240722656 RMSE(mm): 66.33523040563551\n"
     ]
    },
    {
     "name": "stderr",
     "output_type": "stream",
     "text": [
      "236it [01:14,  3.16it/s]\n"
     ]
    },
    {
     "name": "stdout",
     "output_type": "stream",
     "text": [
      "Epoch 12, Val Loss: 17935.477240114797, RMSE(mm): 66.96170032211472\n",
      "Epoch 12, test Loss: 16245.728117028062, RMSE(mm): 63.72936551745212\n"
     ]
    },
    {
     "name": "stderr",
     "output_type": "stream",
     "text": [
      "1it [00:00,  3.16it/s]"
     ]
    },
    {
     "name": "stdout",
     "output_type": "stream",
     "text": [
      "Epoch 13, Batch 0, position loss: 13005.146484375 reconstruction loss: 237.2604522705078 RMSE(mm): 57.02005455183071\n"
     ]
    },
    {
     "name": "stderr",
     "output_type": "stream",
     "text": [
      "101it [00:31,  3.16it/s]"
     ]
    },
    {
     "name": "stdout",
     "output_type": "stream",
     "text": [
      "Epoch 13, Batch 100, position loss: 13982.9951171875 reconstruction loss: 216.55723571777344 RMSE(mm): 59.124857541451\n"
     ]
    },
    {
     "name": "stderr",
     "output_type": "stream",
     "text": [
      "201it [01:03,  3.21it/s]"
     ]
    },
    {
     "name": "stdout",
     "output_type": "stream",
     "text": [
      "Epoch 13, Batch 200, position loss: 17226.3828125 reconstruction loss: 258.01678466796875 RMSE(mm): 65.62465773720271\n"
     ]
    },
    {
     "name": "stderr",
     "output_type": "stream",
     "text": [
      "236it [01:14,  3.18it/s]\n"
     ]
    },
    {
     "name": "stdout",
     "output_type": "stream",
     "text": [
      "Epoch 13, Val Loss: 17956.52180325255, RMSE(mm): 67.00097350645838\n",
      "Epoch 13, test Loss: 16271.712511957909, RMSE(mm): 63.78031144475133\n"
     ]
    },
    {
     "name": "stderr",
     "output_type": "stream",
     "text": [
      "1it [00:00,  3.18it/s]"
     ]
    },
    {
     "name": "stdout",
     "output_type": "stream",
     "text": [
      "Epoch 14, Batch 0, position loss: 13204.86328125 reconstruction loss: 234.73870849609375 RMSE(mm): 57.456207848347425\n"
     ]
    },
    {
     "name": "stderr",
     "output_type": "stream",
     "text": [
      "101it [00:31,  3.17it/s]"
     ]
    },
    {
     "name": "stdout",
     "output_type": "stream",
     "text": [
      "Epoch 14, Batch 100, position loss: 15268.8984375 reconstruction loss: 212.75938415527344 RMSE(mm): 61.783692098926885\n"
     ]
    },
    {
     "name": "stderr",
     "output_type": "stream",
     "text": [
      "201it [01:03,  3.20it/s]"
     ]
    },
    {
     "name": "stdout",
     "output_type": "stream",
     "text": [
      "Epoch 14, Batch 200, position loss: 16438.015625 reconstruction loss: 256.6636657714844 RMSE(mm): 64.1054124567497\n"
     ]
    },
    {
     "name": "stderr",
     "output_type": "stream",
     "text": [
      "236it [01:14,  3.16it/s]\n"
     ]
    },
    {
     "name": "stdout",
     "output_type": "stream",
     "text": [
      "Epoch 14, Val Loss: 17972.909299266583, RMSE(mm): 67.03153977656075\n",
      "Epoch 14, test Loss: 16288.901805644133, RMSE(mm): 63.813991031834334\n"
     ]
    }
   ],
   "source": [
    "from models.MTLViT_reconstruct import MTLViT_pretrained\n",
    "from helper_function_reconstruct import train\n",
    "batch_size = 64\n",
    "n_epoch = 15\n",
    "learning_rate = 1e-4\n",
    "model = MTLViT_pretrained()\n",
    "optimizer = torch.optim.Adam(model.parameters(), lr=learning_rate)\n",
    "scheduler = torch.optim.lr_scheduler.StepLR(optimizer, step_size=6, gamma=0.1)\n",
    "model_name = '20231107/MTLVIT_Recon_'\n",
    "i=0\n",
    "for j in [4,5]:\n",
    "    model = MTLViT_pretrained()\n",
    "    optimizer = torch.optim.Adam(model.parameters(), lr=learning_rate)\n",
    "    scheduler = torch.optim.lr_scheduler.StepLR(optimizer, step_size=6, gamma=0.1)\n",
    "    file_name = f'{model_name}_fix_weight_{i}_test{j}'\n",
    "    train(model,EEGEyeNet, optimizer, scheduler,log_name=file_name, batch_size = batch_size ,n_epoch = n_epoch, reconstruction_weight=i)"
   ]
  },
  {
   "cell_type": "code",
   "execution_count": 4,
   "metadata": {},
   "outputs": [
    {
     "name": "stderr",
     "output_type": "stream",
     "text": [
      "Some weights of ViTForImageClassification were not initialized from the model checkpoint at google/vit-base-patch16-224 and are newly initialized because the shapes did not match:\n",
      "- vit.embeddings.patch_embeddings.projection.weight: found shape torch.Size([768, 3, 16, 16]) in the checkpoint and torch.Size([768, 256, 129, 1]) in the model instantiated\n",
      "- vit.embeddings.position_embeddings: found shape torch.Size([1, 197, 768]) in the checkpoint and torch.Size([1, 15, 768]) in the model instantiated\n",
      "You should probably TRAIN this model on a down-stream task to be able to use it for predictions and inference.\n"
     ]
    },
    {
     "name": "stdout",
     "output_type": "stream",
     "text": [
      "Positions Shape: torch.Size([1, 2])\n"
     ]
    },
    {
     "name": "stderr",
     "output_type": "stream",
     "text": [
      "Some weights of ViTForImageClassification were not initialized from the model checkpoint at google/vit-base-patch16-224 and are newly initialized because the shapes did not match:\n",
      "- vit.embeddings.patch_embeddings.projection.weight: found shape torch.Size([768, 3, 16, 16]) in the checkpoint and torch.Size([768, 256, 129, 1]) in the model instantiated\n",
      "- vit.embeddings.position_embeddings: found shape torch.Size([1, 197, 768]) in the checkpoint and torch.Size([1, 15, 768]) in the model instantiated\n",
      "You should probably TRAIN this model on a down-stream task to be able to use it for predictions and inference.\n"
     ]
    },
    {
     "name": "stdout",
     "output_type": "stream",
     "text": [
      "create dataloader...\n",
      "HI\n",
      "training...\n"
     ]
    },
    {
     "name": "stderr",
     "output_type": "stream",
     "text": [
      "2it [00:00, 15.03it/s]"
     ]
    },
    {
     "name": "stdout",
     "output_type": "stream",
     "text": [
      "Epoch 0, Batch 0, Loss: 169073.890625 RMSE(mm): 205.59297812972602\n"
     ]
    },
    {
     "name": "stderr",
     "output_type": "stream",
     "text": [
      "104it [00:05, 17.75it/s]"
     ]
    },
    {
     "name": "stdout",
     "output_type": "stream",
     "text": [
      "Epoch 0, Batch 100, Loss: 65133.0703125 RMSE(mm): 127.60590730105326\n"
     ]
    },
    {
     "name": "stderr",
     "output_type": "stream",
     "text": [
      "204it [00:11, 17.82it/s]"
     ]
    },
    {
     "name": "stdout",
     "output_type": "stream",
     "text": [
      "Epoch 0, Batch 200, Loss: 30569.615234375 RMSE(mm): 87.42084310159534\n"
     ]
    },
    {
     "name": "stderr",
     "output_type": "stream",
     "text": [
      "236it [00:13, 17.83it/s]\n"
     ]
    },
    {
     "name": "stdout",
     "output_type": "stream",
     "text": [
      "Epoch 0, Val Loss: 26577.071508290817, RMSE(mm): 81.512378673872\n",
      "Epoch 0, test Loss: 26948.948299632353, RMSE(mm): 82.08067418648612\n"
     ]
    },
    {
     "name": "stderr",
     "output_type": "stream",
     "text": [
      "2it [00:00, 17.94it/s]"
     ]
    },
    {
     "name": "stdout",
     "output_type": "stream",
     "text": [
      "Epoch 1, Batch 0, Loss: 25501.69140625 RMSE(mm): 79.8462450686474\n"
     ]
    },
    {
     "name": "stderr",
     "output_type": "stream",
     "text": [
      "104it [00:05, 18.04it/s]"
     ]
    },
    {
     "name": "stdout",
     "output_type": "stream",
     "text": [
      "Epoch 1, Batch 100, Loss: 26309.38671875 RMSE(mm): 81.10084265707417\n"
     ]
    },
    {
     "name": "stderr",
     "output_type": "stream",
     "text": [
      "204it [00:11, 18.03it/s]"
     ]
    },
    {
     "name": "stdout",
     "output_type": "stream",
     "text": [
      "Epoch 1, Batch 200, Loss: 25082.541015625 RMSE(mm): 79.18734276326141\n"
     ]
    },
    {
     "name": "stderr",
     "output_type": "stream",
     "text": [
      "236it [00:13, 17.96it/s]\n"
     ]
    },
    {
     "name": "stdout",
     "output_type": "stream",
     "text": [
      "Epoch 1, Val Loss: 22558.438337053572, RMSE(mm): 75.09733406894944\n",
      "Epoch 1, test Loss: 22312.61638327206, RMSE(mm): 74.68704101661824\n"
     ]
    },
    {
     "name": "stderr",
     "output_type": "stream",
     "text": [
      "2it [00:00, 18.32it/s]"
     ]
    },
    {
     "name": "stdout",
     "output_type": "stream",
     "text": [
      "Epoch 2, Batch 0, Loss: 22079.79296875 RMSE(mm): 74.29635416484109\n"
     ]
    },
    {
     "name": "stderr",
     "output_type": "stream",
     "text": [
      "104it [00:05, 18.15it/s]"
     ]
    },
    {
     "name": "stdout",
     "output_type": "stream",
     "text": [
      "Epoch 2, Batch 100, Loss: 23498.37109375 RMSE(mm): 76.64589208455662\n"
     ]
    },
    {
     "name": "stderr",
     "output_type": "stream",
     "text": [
      "204it [00:11, 17.87it/s]"
     ]
    },
    {
     "name": "stdout",
     "output_type": "stream",
     "text": [
      "Epoch 2, Batch 200, Loss: 21914.86328125 RMSE(mm): 74.01834786262458\n"
     ]
    },
    {
     "name": "stderr",
     "output_type": "stream",
     "text": [
      "236it [00:13, 18.01it/s]\n"
     ]
    },
    {
     "name": "stdout",
     "output_type": "stream",
     "text": [
      "Epoch 2, Val Loss: 18309.73196348852, RMSE(mm): 67.65672908788991\n",
      "Epoch 2, test Loss: 17118.573835784315, RMSE(mm): 65.4189839339169\n"
     ]
    },
    {
     "name": "stderr",
     "output_type": "stream",
     "text": [
      "2it [00:00, 18.26it/s]"
     ]
    },
    {
     "name": "stdout",
     "output_type": "stream",
     "text": [
      "Epoch 3, Batch 0, Loss: 18113.654296875 RMSE(mm): 67.29348834931022\n"
     ]
    },
    {
     "name": "stderr",
     "output_type": "stream",
     "text": [
      "104it [00:05, 17.70it/s]"
     ]
    },
    {
     "name": "stdout",
     "output_type": "stream",
     "text": [
      "Epoch 3, Batch 100, Loss: 15967.919921875 RMSE(mm): 63.182117568729446\n"
     ]
    },
    {
     "name": "stderr",
     "output_type": "stream",
     "text": [
      "204it [00:11, 17.85it/s]"
     ]
    },
    {
     "name": "stdout",
     "output_type": "stream",
     "text": [
      "Epoch 3, Batch 200, Loss: 19713.294921875 RMSE(mm): 70.2020208431976\n"
     ]
    },
    {
     "name": "stderr",
     "output_type": "stream",
     "text": [
      "236it [00:13, 18.06it/s]\n"
     ]
    },
    {
     "name": "stdout",
     "output_type": "stream",
     "text": [
      "Epoch 3, Val Loss: 15491.993323501276, RMSE(mm): 62.233418119811795\n",
      "Epoch 3, test Loss: 13318.417030484068, RMSE(mm): 57.70272313869612\n"
     ]
    },
    {
     "name": "stderr",
     "output_type": "stream",
     "text": [
      "2it [00:00, 18.33it/s]"
     ]
    },
    {
     "name": "stdout",
     "output_type": "stream",
     "text": [
      "Epoch 4, Batch 0, Loss: 13806.0732421875 RMSE(mm): 58.74962391834415\n"
     ]
    },
    {
     "name": "stderr",
     "output_type": "stream",
     "text": [
      "104it [00:05, 17.88it/s]"
     ]
    },
    {
     "name": "stdout",
     "output_type": "stream",
     "text": [
      "Epoch 4, Batch 100, Loss: 12932.5234375 RMSE(mm): 56.86062661785394\n"
     ]
    },
    {
     "name": "stderr",
     "output_type": "stream",
     "text": [
      "204it [00:11, 18.13it/s]"
     ]
    },
    {
     "name": "stdout",
     "output_type": "stream",
     "text": [
      "Epoch 4, Batch 200, Loss: 18764.87109375 RMSE(mm): 68.49246508512816\n"
     ]
    },
    {
     "name": "stderr",
     "output_type": "stream",
     "text": [
      "236it [00:13, 17.97it/s]\n"
     ]
    },
    {
     "name": "stdout",
     "output_type": "stream",
     "text": [
      "Epoch 4, Val Loss: 14882.6591796875, RMSE(mm): 60.99725235551086\n",
      "Epoch 4, test Loss: 12144.275045955883, RMSE(mm): 55.10053322327263\n"
     ]
    },
    {
     "name": "stderr",
     "output_type": "stream",
     "text": [
      "2it [00:00, 17.94it/s]"
     ]
    },
    {
     "name": "stdout",
     "output_type": "stream",
     "text": [
      "Epoch 5, Batch 0, Loss: 12236.4033203125 RMSE(mm): 55.30913875733489\n"
     ]
    },
    {
     "name": "stderr",
     "output_type": "stream",
     "text": [
      "104it [00:05, 17.61it/s]"
     ]
    },
    {
     "name": "stdout",
     "output_type": "stream",
     "text": [
      "Epoch 5, Batch 100, Loss: 11769.81640625 RMSE(mm): 54.24439235130669\n"
     ]
    },
    {
     "name": "stderr",
     "output_type": "stream",
     "text": [
      "204it [00:11, 17.82it/s]"
     ]
    },
    {
     "name": "stdout",
     "output_type": "stream",
     "text": [
      "Epoch 5, Batch 200, Loss: 18095.41796875 RMSE(mm): 67.25960520392236\n"
     ]
    },
    {
     "name": "stderr",
     "output_type": "stream",
     "text": [
      "236it [00:13, 17.94it/s]\n"
     ]
    },
    {
     "name": "stdout",
     "output_type": "stream",
     "text": [
      "Epoch 5, Val Loss: 15266.691366390307, RMSE(mm): 61.779226618642426\n",
      "Epoch 5, test Loss: 12462.051700367647, RMSE(mm): 55.81677995990016\n"
     ]
    },
    {
     "name": "stderr",
     "output_type": "stream",
     "text": [
      "2it [00:00, 17.78it/s]"
     ]
    },
    {
     "name": "stdout",
     "output_type": "stream",
     "text": [
      "Epoch 6, Batch 0, Loss: 11880.8544921875 RMSE(mm): 54.49966626546327\n"
     ]
    },
    {
     "name": "stderr",
     "output_type": "stream",
     "text": [
      "104it [00:05, 17.78it/s]"
     ]
    },
    {
     "name": "stdout",
     "output_type": "stream",
     "text": [
      "Epoch 6, Batch 100, Loss: 12709.091796875 RMSE(mm): 56.36730390233996\n"
     ]
    },
    {
     "name": "stderr",
     "output_type": "stream",
     "text": [
      "204it [00:11, 17.92it/s]"
     ]
    },
    {
     "name": "stdout",
     "output_type": "stream",
     "text": [
      "Epoch 6, Batch 200, Loss: 13144.3984375 RMSE(mm): 57.3245114185459\n"
     ]
    },
    {
     "name": "stderr",
     "output_type": "stream",
     "text": [
      "236it [00:13, 17.95it/s]\n"
     ]
    },
    {
     "name": "stdout",
     "output_type": "stream",
     "text": [
      "Epoch 6, Val Loss: 14301.130361128826, RMSE(mm): 59.79366680746554\n",
      "Epoch 6, test Loss: 11419.983771829044, RMSE(mm): 53.43216206515754\n"
     ]
    },
    {
     "name": "stderr",
     "output_type": "stream",
     "text": [
      "2it [00:00, 18.17it/s]"
     ]
    },
    {
     "name": "stdout",
     "output_type": "stream",
     "text": [
      "Epoch 7, Batch 0, Loss: 10711.0703125 RMSE(mm): 51.74715043483071\n"
     ]
    },
    {
     "name": "stderr",
     "output_type": "stream",
     "text": [
      "104it [00:05, 17.85it/s]"
     ]
    },
    {
     "name": "stdout",
     "output_type": "stream",
     "text": [
      "Epoch 7, Batch 100, Loss: 12378.3583984375 RMSE(mm): 55.62903558043565\n"
     ]
    },
    {
     "name": "stderr",
     "output_type": "stream",
     "text": [
      "204it [00:11, 18.06it/s]"
     ]
    },
    {
     "name": "stdout",
     "output_type": "stream",
     "text": [
      "Epoch 7, Batch 200, Loss: 13009.6201171875 RMSE(mm): 57.02986085636958\n"
     ]
    },
    {
     "name": "stderr",
     "output_type": "stream",
     "text": [
      "236it [00:13, 17.97it/s]\n"
     ]
    },
    {
     "name": "stdout",
     "output_type": "stream",
     "text": [
      "Epoch 7, Val Loss: 14274.677883848852, RMSE(mm): 59.73834171587133\n",
      "Epoch 7, test Loss: 11320.953115425858, RMSE(mm): 53.1999838238365\n"
     ]
    },
    {
     "name": "stderr",
     "output_type": "stream",
     "text": [
      "2it [00:00, 18.33it/s]"
     ]
    },
    {
     "name": "stdout",
     "output_type": "stream",
     "text": [
      "Epoch 8, Batch 0, Loss: 10046.7021484375 RMSE(mm): 50.11661937031842\n"
     ]
    },
    {
     "name": "stderr",
     "output_type": "stream",
     "text": [
      "104it [00:05, 17.88it/s]"
     ]
    },
    {
     "name": "stdout",
     "output_type": "stream",
     "text": [
      "Epoch 8, Batch 100, Loss: 12402.3984375 RMSE(mm): 55.683028019092134\n"
     ]
    },
    {
     "name": "stderr",
     "output_type": "stream",
     "text": [
      "204it [00:11, 17.98it/s]"
     ]
    },
    {
     "name": "stdout",
     "output_type": "stream",
     "text": [
      "Epoch 8, Batch 200, Loss: 12756.962890625 RMSE(mm): 56.47336294799744\n"
     ]
    },
    {
     "name": "stderr",
     "output_type": "stream",
     "text": [
      "236it [00:13, 17.92it/s]\n"
     ]
    },
    {
     "name": "stdout",
     "output_type": "stream",
     "text": [
      "Epoch 8, Val Loss: 14297.368433115435, RMSE(mm): 59.78580189542379\n",
      "Epoch 8, test Loss: 11242.597579656862, RMSE(mm): 53.01555804586249\n"
     ]
    },
    {
     "name": "stderr",
     "output_type": "stream",
     "text": [
      "2it [00:00, 18.10it/s]"
     ]
    },
    {
     "name": "stdout",
     "output_type": "stream",
     "text": [
      "Epoch 9, Batch 0, Loss: 9443.814453125 RMSE(mm): 48.58964512405138\n"
     ]
    },
    {
     "name": "stderr",
     "output_type": "stream",
     "text": [
      "104it [00:05, 17.57it/s]"
     ]
    },
    {
     "name": "stdout",
     "output_type": "stream",
     "text": [
      "Epoch 9, Batch 100, Loss: 11862.5234375 RMSE(mm): 54.457606074587964\n"
     ]
    },
    {
     "name": "stderr",
     "output_type": "stream",
     "text": [
      "204it [00:11, 17.77it/s]"
     ]
    },
    {
     "name": "stdout",
     "output_type": "stream",
     "text": [
      "Epoch 9, Batch 200, Loss: 12655.376953125 RMSE(mm): 56.24805986237436\n"
     ]
    },
    {
     "name": "stderr",
     "output_type": "stream",
     "text": [
      "236it [00:13, 17.97it/s]\n"
     ]
    },
    {
     "name": "stdout",
     "output_type": "stream",
     "text": [
      "Epoch 9, Val Loss: 14346.943598533164, RMSE(mm): 59.88936382725476\n",
      "Epoch 9, test Loss: 11197.239516314337, RMSE(mm): 52.90850478967048\n"
     ]
    },
    {
     "name": "stderr",
     "output_type": "stream",
     "text": [
      "2it [00:00, 18.30it/s]"
     ]
    },
    {
     "name": "stdout",
     "output_type": "stream",
     "text": [
      "Epoch 10, Batch 0, Loss: 8922.4296875 RMSE(mm): 47.22930681129038\n"
     ]
    },
    {
     "name": "stderr",
     "output_type": "stream",
     "text": [
      "104it [00:05, 18.14it/s]"
     ]
    },
    {
     "name": "stdout",
     "output_type": "stream",
     "text": [
      "Epoch 10, Batch 100, Loss: 11868.80859375 RMSE(mm): 54.47203088225645\n"
     ]
    },
    {
     "name": "stderr",
     "output_type": "stream",
     "text": [
      "204it [00:11, 17.81it/s]"
     ]
    },
    {
     "name": "stdout",
     "output_type": "stream",
     "text": [
      "Epoch 10, Batch 200, Loss: 12568.75 RMSE(mm): 56.05521831194666\n"
     ]
    },
    {
     "name": "stderr",
     "output_type": "stream",
     "text": [
      "236it [00:13, 17.98it/s]\n"
     ]
    },
    {
     "name": "stdout",
     "output_type": "stream",
     "text": [
      "Epoch 10, Val Loss: 14414.273248166453, RMSE(mm): 60.02972856878176\n",
      "Epoch 10, test Loss: 11240.652046951593, RMSE(mm): 53.0109706734172\n"
     ]
    },
    {
     "name": "stderr",
     "output_type": "stream",
     "text": [
      "2it [00:00, 18.26it/s]"
     ]
    },
    {
     "name": "stdout",
     "output_type": "stream",
     "text": [
      "Epoch 11, Batch 0, Loss: 8631.8359375 RMSE(mm): 46.45383713295383\n"
     ]
    },
    {
     "name": "stderr",
     "output_type": "stream",
     "text": [
      "104it [00:05, 18.07it/s]"
     ]
    },
    {
     "name": "stdout",
     "output_type": "stream",
     "text": [
      "Epoch 11, Batch 100, Loss: 11513.830078125 RMSE(mm): 53.65125832197461\n"
     ]
    },
    {
     "name": "stderr",
     "output_type": "stream",
     "text": [
      "204it [00:11, 17.73it/s]"
     ]
    },
    {
     "name": "stdout",
     "output_type": "stream",
     "text": [
      "Epoch 11, Batch 200, Loss: 12554.802734375 RMSE(mm): 56.02410805710119\n"
     ]
    },
    {
     "name": "stderr",
     "output_type": "stream",
     "text": [
      "236it [00:13, 17.98it/s]\n"
     ]
    },
    {
     "name": "stdout",
     "output_type": "stream",
     "text": [
      "Epoch 11, Val Loss: 14560.617546237245, RMSE(mm): 60.33369196857848\n",
      "Epoch 11, test Loss: 11353.006041283701, RMSE(mm): 53.27524294004604\n"
     ]
    },
    {
     "name": "stderr",
     "output_type": "stream",
     "text": [
      "2it [00:00, 18.43it/s]"
     ]
    },
    {
     "name": "stdout",
     "output_type": "stream",
     "text": [
      "Epoch 12, Batch 0, Loss: 8163.28515625 RMSE(mm): 45.175450070392216\n"
     ]
    },
    {
     "name": "stderr",
     "output_type": "stream",
     "text": [
      "104it [00:05, 18.12it/s]"
     ]
    },
    {
     "name": "stdout",
     "output_type": "stream",
     "text": [
      "Epoch 12, Batch 100, Loss: 12035.1884765625 RMSE(mm): 54.85250330787671\n"
     ]
    },
    {
     "name": "stderr",
     "output_type": "stream",
     "text": [
      "204it [00:11, 17.98it/s]"
     ]
    },
    {
     "name": "stdout",
     "output_type": "stream",
     "text": [
      "Epoch 12, Batch 200, Loss: 11992.974609375 RMSE(mm): 54.75622021600606\n"
     ]
    },
    {
     "name": "stderr",
     "output_type": "stream",
     "text": [
      "236it [00:13, 17.98it/s]\n"
     ]
    },
    {
     "name": "stdout",
     "output_type": "stream",
     "text": [
      "Epoch 12, Val Loss: 14247.280123963648, RMSE(mm): 59.68098550619713\n",
      "Epoch 12, test Loss: 11023.914119944853, RMSE(mm): 52.49741450763278\n"
     ]
    },
    {
     "name": "stderr",
     "output_type": "stream",
     "text": [
      "2it [00:00, 17.63it/s]"
     ]
    },
    {
     "name": "stdout",
     "output_type": "stream",
     "text": [
      "Epoch 13, Batch 0, Loss: 8351.5458984375 RMSE(mm): 45.69339640045786\n"
     ]
    },
    {
     "name": "stderr",
     "output_type": "stream",
     "text": [
      "104it [00:05, 17.84it/s]"
     ]
    },
    {
     "name": "stdout",
     "output_type": "stream",
     "text": [
      "Epoch 13, Batch 100, Loss: 11975.056640625 RMSE(mm): 54.71530096925585\n"
     ]
    },
    {
     "name": "stderr",
     "output_type": "stream",
     "text": [
      "204it [00:11, 18.14it/s]"
     ]
    },
    {
     "name": "stdout",
     "output_type": "stream",
     "text": [
      "Epoch 13, Batch 200, Loss: 12214.05859375 RMSE(mm): 55.25861605611834\n"
     ]
    },
    {
     "name": "stderr",
     "output_type": "stream",
     "text": [
      "236it [00:13, 17.99it/s]\n"
     ]
    },
    {
     "name": "stdout",
     "output_type": "stream",
     "text": [
      "Epoch 13, Val Loss: 14245.595613440688, RMSE(mm): 59.67745724610066\n",
      "Epoch 13, test Loss: 10995.085688572304, RMSE(mm): 52.42872706964261\n"
     ]
    },
    {
     "name": "stderr",
     "output_type": "stream",
     "text": [
      "2it [00:00, 18.43it/s]"
     ]
    },
    {
     "name": "stdout",
     "output_type": "stream",
     "text": [
      "Epoch 14, Batch 0, Loss: 8288.388671875 RMSE(mm): 45.520294023311735\n"
     ]
    },
    {
     "name": "stderr",
     "output_type": "stream",
     "text": [
      "104it [00:05, 17.83it/s]"
     ]
    },
    {
     "name": "stdout",
     "output_type": "stream",
     "text": [
      "Epoch 14, Batch 100, Loss: 12078.673828125 RMSE(mm): 54.95151005232932\n"
     ]
    },
    {
     "name": "stderr",
     "output_type": "stream",
     "text": [
      "204it [00:11, 18.01it/s]"
     ]
    },
    {
     "name": "stdout",
     "output_type": "stream",
     "text": [
      "Epoch 14, Batch 200, Loss: 12303.759765625 RMSE(mm): 55.46115705073461\n"
     ]
    },
    {
     "name": "stderr",
     "output_type": "stream",
     "text": [
      "236it [00:13, 17.96it/s]\n"
     ]
    },
    {
     "name": "stdout",
     "output_type": "stream",
     "text": [
      "Epoch 14, Val Loss: 14268.808743223852, RMSE(mm): 59.726059520162245\n",
      "Epoch 14, test Loss: 11000.493049172794, RMSE(mm): 52.4416176551906\n",
      "create dataloader...\n",
      "HI\n",
      "training...\n"
     ]
    },
    {
     "name": "stderr",
     "output_type": "stream",
     "text": [
      "2it [00:00, 17.39it/s]"
     ]
    },
    {
     "name": "stdout",
     "output_type": "stream",
     "text": [
      "Epoch 0, Batch 0, Loss: 8326.2666015625 RMSE(mm): 45.62418931214696\n"
     ]
    },
    {
     "name": "stderr",
     "output_type": "stream",
     "text": [
      "104it [00:05, 17.79it/s]"
     ]
    },
    {
     "name": "stdout",
     "output_type": "stream",
     "text": [
      "Epoch 0, Batch 100, Loss: 12085.26953125 RMSE(mm): 54.966511466642125\n"
     ]
    },
    {
     "name": "stderr",
     "output_type": "stream",
     "text": [
      "204it [00:11, 17.87it/s]"
     ]
    },
    {
     "name": "stdout",
     "output_type": "stream",
     "text": [
      "Epoch 0, Batch 200, Loss: 12086.908203125 RMSE(mm): 54.97023786360443\n"
     ]
    },
    {
     "name": "stderr",
     "output_type": "stream",
     "text": [
      "236it [00:13, 17.99it/s]\n"
     ]
    },
    {
     "name": "stdout",
     "output_type": "stream",
     "text": [
      "Epoch 0, Val Loss: 14297.911023198341, RMSE(mm): 59.78693633060307\n",
      "Epoch 0, test Loss: 11018.641572840073, RMSE(mm): 52.484858704296975\n"
     ]
    },
    {
     "name": "stderr",
     "output_type": "stream",
     "text": [
      "2it [00:00, 18.17it/s]"
     ]
    },
    {
     "name": "stdout",
     "output_type": "stream",
     "text": [
      "Epoch 1, Batch 0, Loss: 8455.130859375 RMSE(mm): 45.97589275744137\n"
     ]
    },
    {
     "name": "stderr",
     "output_type": "stream",
     "text": [
      "104it [00:05, 18.09it/s]"
     ]
    },
    {
     "name": "stdout",
     "output_type": "stream",
     "text": [
      "Epoch 1, Batch 100, Loss: 12282.96484375 RMSE(mm): 55.4142690192472\n"
     ]
    },
    {
     "name": "stderr",
     "output_type": "stream",
     "text": [
      "204it [00:11, 17.94it/s]"
     ]
    },
    {
     "name": "stdout",
     "output_type": "stream",
     "text": [
      "Epoch 1, Batch 200, Loss: 12104.2841796875 RMSE(mm): 55.009735910308414\n"
     ]
    },
    {
     "name": "stderr",
     "output_type": "stream",
     "text": [
      "236it [00:13, 18.04it/s]\n"
     ]
    },
    {
     "name": "stdout",
     "output_type": "stream",
     "text": [
      "Epoch 1, Val Loss: 14324.546914859693, RMSE(mm): 59.842599615281785\n",
      "Epoch 1, test Loss: 11034.344659543505, RMSE(mm): 52.52224447684882\n"
     ]
    },
    {
     "name": "stderr",
     "output_type": "stream",
     "text": [
      "2it [00:00, 18.34it/s]"
     ]
    },
    {
     "name": "stdout",
     "output_type": "stream",
     "text": [
      "Epoch 2, Batch 0, Loss: 8425.1494140625 RMSE(mm): 45.89430633004082\n"
     ]
    },
    {
     "name": "stderr",
     "output_type": "stream",
     "text": [
      "104it [00:05, 17.74it/s]"
     ]
    },
    {
     "name": "stdout",
     "output_type": "stream",
     "text": [
      "Epoch 2, Batch 100, Loss: 11817.263671875 RMSE(mm): 54.35361918003943\n"
     ]
    },
    {
     "name": "stderr",
     "output_type": "stream",
     "text": [
      "204it [00:11, 17.63it/s]"
     ]
    },
    {
     "name": "stdout",
     "output_type": "stream",
     "text": [
      "Epoch 2, Batch 200, Loss: 12252.50390625 RMSE(mm): 55.34551451167926\n"
     ]
    },
    {
     "name": "stderr",
     "output_type": "stream",
     "text": [
      "236it [00:13, 17.97it/s]\n"
     ]
    },
    {
     "name": "stdout",
     "output_type": "stream",
     "text": [
      "Epoch 2, Val Loss: 14354.426359215562, RMSE(mm): 59.904979674513626\n",
      "Epoch 2, test Loss: 11054.942535998774, RMSE(mm): 52.5712434131027\n"
     ]
    },
    {
     "name": "stderr",
     "output_type": "stream",
     "text": [
      "2it [00:00, 18.43it/s]"
     ]
    },
    {
     "name": "stdout",
     "output_type": "stream",
     "text": [
      "Epoch 3, Batch 0, Loss: 8397.96484375 RMSE(mm): 45.82020526948237\n"
     ]
    },
    {
     "name": "stderr",
     "output_type": "stream",
     "text": [
      "104it [00:05, 18.16it/s]"
     ]
    },
    {
     "name": "stdout",
     "output_type": "stream",
     "text": [
      "Epoch 3, Batch 100, Loss: 11839.1376953125 RMSE(mm): 54.40390081444643\n"
     ]
    },
    {
     "name": "stderr",
     "output_type": "stream",
     "text": [
      "204it [00:11, 17.72it/s]"
     ]
    },
    {
     "name": "stdout",
     "output_type": "stream",
     "text": [
      "Epoch 3, Batch 200, Loss: 12003.6943359375 RMSE(mm): 54.78068623141166\n"
     ]
    },
    {
     "name": "stderr",
     "output_type": "stream",
     "text": [
      "236it [00:13, 17.98it/s]\n"
     ]
    },
    {
     "name": "stdout",
     "output_type": "stream",
     "text": [
      "Epoch 3, Val Loss: 14339.717733577807, RMSE(mm): 59.8742802327882\n",
      "Epoch 3, test Loss: 11052.035615808823, RMSE(mm): 52.56433109963643\n"
     ]
    },
    {
     "name": "stderr",
     "output_type": "stream",
     "text": [
      "2it [00:00, 18.26it/s]"
     ]
    },
    {
     "name": "stdout",
     "output_type": "stream",
     "text": [
      "Epoch 4, Batch 0, Loss: 8457.677734375 RMSE(mm): 45.98281672096382\n"
     ]
    },
    {
     "name": "stderr",
     "output_type": "stream",
     "text": [
      "104it [00:05, 17.96it/s]"
     ]
    },
    {
     "name": "stdout",
     "output_type": "stream",
     "text": [
      "Epoch 4, Batch 100, Loss: 11799.7890625 RMSE(mm): 54.31341699456038\n"
     ]
    },
    {
     "name": "stderr",
     "output_type": "stream",
     "text": [
      "204it [00:11, 17.82it/s]"
     ]
    },
    {
     "name": "stdout",
     "output_type": "stream",
     "text": [
      "Epoch 4, Batch 200, Loss: 12000.1357421875 RMSE(mm): 54.772565537382626\n"
     ]
    },
    {
     "name": "stderr",
     "output_type": "stream",
     "text": [
      "236it [00:13, 17.95it/s]\n"
     ]
    },
    {
     "name": "stdout",
     "output_type": "stream",
     "text": [
      "Epoch 4, Val Loss: 14332.690529336734, RMSE(mm): 59.85960768610319\n",
      "Epoch 4, test Loss: 11051.250718060663, RMSE(mm): 52.56246454947833\n"
     ]
    },
    {
     "name": "stderr",
     "output_type": "stream",
     "text": [
      "2it [00:00, 18.26it/s]"
     ]
    },
    {
     "name": "stdout",
     "output_type": "stream",
     "text": [
      "Epoch 5, Batch 0, Loss: 8259.921875 RMSE(mm): 45.44205616771759\n"
     ]
    },
    {
     "name": "stderr",
     "output_type": "stream",
     "text": [
      "104it [00:05, 18.06it/s]"
     ]
    },
    {
     "name": "stdout",
     "output_type": "stream",
     "text": [
      "Epoch 5, Batch 100, Loss: 12066.619140625 RMSE(mm): 54.92408201468869\n"
     ]
    },
    {
     "name": "stderr",
     "output_type": "stream",
     "text": [
      "204it [00:11, 17.68it/s]"
     ]
    },
    {
     "name": "stdout",
     "output_type": "stream",
     "text": [
      "Epoch 5, Batch 200, Loss: 11870.16015625 RMSE(mm): 54.47513229963283\n"
     ]
    },
    {
     "name": "stderr",
     "output_type": "stream",
     "text": [
      "236it [00:13, 17.98it/s]\n"
     ]
    },
    {
     "name": "stdout",
     "output_type": "stream",
     "text": [
      "Epoch 5, Val Loss: 14328.363719706633, RMSE(mm): 59.850571675855015\n",
      "Epoch 5, test Loss: 11050.711713005514, RMSE(mm): 52.56118271358987\n"
     ]
    },
    {
     "name": "stderr",
     "output_type": "stream",
     "text": [
      "2it [00:00, 18.31it/s]"
     ]
    },
    {
     "name": "stdout",
     "output_type": "stream",
     "text": [
      "Epoch 6, Batch 0, Loss: 8254.365234375 RMSE(mm): 45.42676863473507\n"
     ]
    },
    {
     "name": "stderr",
     "output_type": "stream",
     "text": [
      "104it [00:05, 18.16it/s]"
     ]
    },
    {
     "name": "stdout",
     "output_type": "stream",
     "text": [
      "Epoch 6, Batch 100, Loss: 11958.29296875 RMSE(mm): 54.67699006151948\n"
     ]
    },
    {
     "name": "stderr",
     "output_type": "stream",
     "text": [
      "204it [00:11, 17.65it/s]"
     ]
    },
    {
     "name": "stdout",
     "output_type": "stream",
     "text": [
      "Epoch 6, Batch 200, Loss: 12092.740234375 RMSE(mm): 54.983498057087544\n"
     ]
    },
    {
     "name": "stderr",
     "output_type": "stream",
     "text": [
      "236it [00:13, 18.00it/s]\n"
     ]
    },
    {
     "name": "stdout",
     "output_type": "stream",
     "text": [
      "Epoch 6, Val Loss: 14325.894401705995, RMSE(mm): 59.845414197133756\n",
      "Epoch 6, test Loss: 11050.05988625919, RMSE(mm): 52.55963252882194\n"
     ]
    },
    {
     "name": "stderr",
     "output_type": "stream",
     "text": [
      "2it [00:00, 18.10it/s]"
     ]
    },
    {
     "name": "stdout",
     "output_type": "stream",
     "text": [
      "Epoch 7, Batch 0, Loss: 8350.583984375 RMSE(mm): 45.69076488847336\n"
     ]
    },
    {
     "name": "stderr",
     "output_type": "stream",
     "text": [
      "104it [00:05, 17.86it/s]"
     ]
    },
    {
     "name": "stdout",
     "output_type": "stream",
     "text": [
      "Epoch 7, Batch 100, Loss: 12041.578125 RMSE(mm): 54.86706235301832\n"
     ]
    },
    {
     "name": "stderr",
     "output_type": "stream",
     "text": [
      "204it [00:11, 17.70it/s]"
     ]
    },
    {
     "name": "stdout",
     "output_type": "stream",
     "text": [
      "Epoch 7, Batch 200, Loss: 12140.216796875 RMSE(mm): 55.09132598893178\n"
     ]
    },
    {
     "name": "stderr",
     "output_type": "stream",
     "text": [
      "236it [00:13, 17.95it/s]\n"
     ]
    },
    {
     "name": "stdout",
     "output_type": "stream",
     "text": [
      "Epoch 7, Val Loss: 14324.411112882653, RMSE(mm): 59.84231594967447\n",
      "Epoch 7, test Loss: 11050.208821614584, RMSE(mm): 52.55998673329024\n"
     ]
    },
    {
     "name": "stderr",
     "output_type": "stream",
     "text": [
      "2it [00:00, 18.26it/s]"
     ]
    },
    {
     "name": "stdout",
     "output_type": "stream",
     "text": [
      "Epoch 8, Batch 0, Loss: 8396.90625 RMSE(mm): 45.81731727742252\n"
     ]
    },
    {
     "name": "stderr",
     "output_type": "stream",
     "text": [
      "104it [00:05, 18.04it/s]"
     ]
    },
    {
     "name": "stdout",
     "output_type": "stream",
     "text": [
      "Epoch 8, Batch 100, Loss: 11977.4111328125 RMSE(mm): 54.72067966686018\n"
     ]
    },
    {
     "name": "stderr",
     "output_type": "stream",
     "text": [
      "204it [00:11, 17.87it/s]"
     ]
    },
    {
     "name": "stdout",
     "output_type": "stream",
     "text": [
      "Epoch 8, Batch 200, Loss: 12100.2529296875 RMSE(mm): 55.00057483719488\n"
     ]
    },
    {
     "name": "stderr",
     "output_type": "stream",
     "text": [
      "236it [00:13, 17.94it/s]\n"
     ]
    },
    {
     "name": "stdout",
     "output_type": "stream",
     "text": [
      "Epoch 8, Val Loss: 14323.743054448341, RMSE(mm): 59.84092047764711\n",
      "Epoch 8, test Loss: 11050.469937193628, RMSE(mm): 52.56060772383066\n"
     ]
    },
    {
     "name": "stderr",
     "output_type": "stream",
     "text": [
      "2it [00:00, 17.94it/s]"
     ]
    },
    {
     "name": "stdout",
     "output_type": "stream",
     "text": [
      "Epoch 9, Batch 0, Loss: 8553.2265625 RMSE(mm): 46.24182782530336\n"
     ]
    },
    {
     "name": "stderr",
     "output_type": "stream",
     "text": [
      "104it [00:05, 17.86it/s]"
     ]
    },
    {
     "name": "stdout",
     "output_type": "stream",
     "text": [
      "Epoch 9, Batch 100, Loss: 12114.2880859375 RMSE(mm): 55.03246334196185\n"
     ]
    },
    {
     "name": "stderr",
     "output_type": "stream",
     "text": [
      "204it [00:11, 18.02it/s]"
     ]
    },
    {
     "name": "stdout",
     "output_type": "stream",
     "text": [
      "Epoch 9, Batch 200, Loss: 11825.2958984375 RMSE(mm): 54.37208819430586\n"
     ]
    },
    {
     "name": "stderr",
     "output_type": "stream",
     "text": [
      "236it [00:13, 17.96it/s]\n"
     ]
    },
    {
     "name": "stdout",
     "output_type": "stream",
     "text": [
      "Epoch 9, Val Loss: 14323.536700813138, RMSE(mm): 59.840489429844105\n",
      "Epoch 9, test Loss: 11050.458792892157, RMSE(mm): 52.560581220369315\n"
     ]
    },
    {
     "name": "stderr",
     "output_type": "stream",
     "text": [
      "2it [00:00, 18.43it/s]"
     ]
    },
    {
     "name": "stdout",
     "output_type": "stream",
     "text": [
      "Epoch 10, Batch 0, Loss: 8393.0234375 RMSE(mm): 45.80672286220659\n"
     ]
    },
    {
     "name": "stderr",
     "output_type": "stream",
     "text": [
      "104it [00:05, 18.11it/s]"
     ]
    },
    {
     "name": "stdout",
     "output_type": "stream",
     "text": [
      "Epoch 10, Batch 100, Loss: 11898.224609375 RMSE(mm): 54.53949167661677\n"
     ]
    },
    {
     "name": "stderr",
     "output_type": "stream",
     "text": [
      "204it [00:11, 18.02it/s]"
     ]
    },
    {
     "name": "stdout",
     "output_type": "stream",
     "text": [
      "Epoch 10, Batch 200, Loss: 11874.828125 RMSE(mm): 54.48584248453905\n"
     ]
    },
    {
     "name": "stderr",
     "output_type": "stream",
     "text": [
      "236it [00:13, 18.01it/s]\n"
     ]
    },
    {
     "name": "stdout",
     "output_type": "stream",
     "text": [
      "Epoch 10, Val Loss: 14323.327796157526, RMSE(mm): 59.840053050105006\n",
      "Epoch 10, test Loss: 11050.447064568014, RMSE(mm): 52.56055332796644\n"
     ]
    },
    {
     "name": "stderr",
     "output_type": "stream",
     "text": [
      "2it [00:00, 18.26it/s]"
     ]
    },
    {
     "name": "stdout",
     "output_type": "stream",
     "text": [
      "Epoch 11, Batch 0, Loss: 8235.841796875 RMSE(mm): 45.37576940635552\n"
     ]
    },
    {
     "name": "stderr",
     "output_type": "stream",
     "text": [
      "104it [00:05, 18.12it/s]"
     ]
    },
    {
     "name": "stdout",
     "output_type": "stream",
     "text": [
      "Epoch 11, Batch 100, Loss: 11941.140625 RMSE(mm): 54.63776309705587\n"
     ]
    },
    {
     "name": "stderr",
     "output_type": "stream",
     "text": [
      "204it [00:11, 18.05it/s]"
     ]
    },
    {
     "name": "stdout",
     "output_type": "stream",
     "text": [
      "Epoch 11, Batch 200, Loss: 12002.751953125 RMSE(mm): 54.77853583550084\n"
     ]
    },
    {
     "name": "stderr",
     "output_type": "stream",
     "text": [
      "236it [00:13, 18.02it/s]\n"
     ]
    },
    {
     "name": "stdout",
     "output_type": "stream",
     "text": [
      "Epoch 11, Val Loss: 14323.128527582909, RMSE(mm): 59.83963679615483\n",
      "Epoch 11, test Loss: 11050.450291053921, RMSE(mm): 52.56056100122487\n"
     ]
    },
    {
     "name": "stderr",
     "output_type": "stream",
     "text": [
      "2it [00:00, 17.78it/s]"
     ]
    },
    {
     "name": "stdout",
     "output_type": "stream",
     "text": [
      "Epoch 12, Batch 0, Loss: 8355.142578125 RMSE(mm): 45.70323450841581\n"
     ]
    },
    {
     "name": "stderr",
     "output_type": "stream",
     "text": [
      "104it [00:05, 17.81it/s]"
     ]
    },
    {
     "name": "stdout",
     "output_type": "stream",
     "text": [
      "Epoch 12, Batch 100, Loss: 11797.28515625 RMSE(mm): 54.30765405596618\n"
     ]
    },
    {
     "name": "stderr",
     "output_type": "stream",
     "text": [
      "204it [00:11, 17.93it/s]"
     ]
    },
    {
     "name": "stdout",
     "output_type": "stream",
     "text": [
      "Epoch 12, Batch 200, Loss: 12096.64453125 RMSE(mm): 54.99237340588693\n"
     ]
    },
    {
     "name": "stderr",
     "output_type": "stream",
     "text": [
      "236it [00:13, 17.95it/s]\n"
     ]
    },
    {
     "name": "stdout",
     "output_type": "stream",
     "text": [
      "Epoch 12, Val Loss: 14322.924276546557, RMSE(mm): 59.83921013128966\n",
      "Epoch 12, test Loss: 11050.425340839462, RMSE(mm): 52.56050166436642\n"
     ]
    },
    {
     "name": "stderr",
     "output_type": "stream",
     "text": [
      "2it [00:00, 17.94it/s]"
     ]
    },
    {
     "name": "stdout",
     "output_type": "stream",
     "text": [
      "Epoch 13, Batch 0, Loss: 8345.68359375 RMSE(mm): 45.67735651761713\n"
     ]
    },
    {
     "name": "stderr",
     "output_type": "stream",
     "text": [
      "104it [00:05, 17.90it/s]"
     ]
    },
    {
     "name": "stdout",
     "output_type": "stream",
     "text": [
      "Epoch 13, Batch 100, Loss: 11902.6708984375 RMSE(mm): 54.549681251216995\n"
     ]
    },
    {
     "name": "stderr",
     "output_type": "stream",
     "text": [
      "204it [00:11, 18.08it/s]"
     ]
    },
    {
     "name": "stdout",
     "output_type": "stream",
     "text": [
      "Epoch 13, Batch 200, Loss: 11961.14453125 RMSE(mm): 54.68350878292742\n"
     ]
    },
    {
     "name": "stderr",
     "output_type": "stream",
     "text": [
      "236it [00:13, 17.98it/s]\n"
     ]
    },
    {
     "name": "stdout",
     "output_type": "stream",
     "text": [
      "Epoch 13, Val Loss: 14322.741111288266, RMSE(mm): 59.83882751042225\n",
      "Epoch 13, test Loss: 11050.429946001837, RMSE(mm): 52.560512616416325\n"
     ]
    },
    {
     "name": "stderr",
     "output_type": "stream",
     "text": [
      "2it [00:00, 18.25it/s]"
     ]
    },
    {
     "name": "stdout",
     "output_type": "stream",
     "text": [
      "Epoch 14, Batch 0, Loss: 8354.5546875 RMSE(mm): 45.70162657800048\n"
     ]
    },
    {
     "name": "stderr",
     "output_type": "stream",
     "text": [
      "104it [00:05, 17.83it/s]"
     ]
    },
    {
     "name": "stdout",
     "output_type": "stream",
     "text": [
      "Epoch 14, Batch 100, Loss: 12015.392578125 RMSE(mm): 54.807373085482304\n"
     ]
    },
    {
     "name": "stderr",
     "output_type": "stream",
     "text": [
      "204it [00:11, 17.97it/s]"
     ]
    },
    {
     "name": "stdout",
     "output_type": "stream",
     "text": [
      "Epoch 14, Batch 200, Loss: 12194.943359375 RMSE(mm): 55.2153587314594\n"
     ]
    },
    {
     "name": "stderr",
     "output_type": "stream",
     "text": [
      "236it [00:13, 17.98it/s]\n"
     ]
    },
    {
     "name": "stdout",
     "output_type": "stream",
     "text": [
      "Epoch 14, Val Loss: 14322.606465242347, RMSE(mm): 59.83854624162077\n",
      "Epoch 14, test Loss: 11050.430865119486, RMSE(mm): 52.560514802272166\n",
      "create dataloader...\n",
      "HI\n",
      "training...\n"
     ]
    },
    {
     "name": "stderr",
     "output_type": "stream",
     "text": [
      "2it [00:00, 16.88it/s]"
     ]
    },
    {
     "name": "stdout",
     "output_type": "stream",
     "text": [
      "Epoch 0, Batch 0, Loss: 8433.908203125 RMSE(mm): 45.91815600371219\n"
     ]
    },
    {
     "name": "stderr",
     "output_type": "stream",
     "text": [
      "104it [00:05, 17.76it/s]"
     ]
    },
    {
     "name": "stdout",
     "output_type": "stream",
     "text": [
      "Epoch 0, Batch 100, Loss: 11965.24609375 RMSE(mm): 54.69288366357638\n"
     ]
    },
    {
     "name": "stderr",
     "output_type": "stream",
     "text": [
      "204it [00:11, 17.96it/s]"
     ]
    },
    {
     "name": "stdout",
     "output_type": "stream",
     "text": [
      "Epoch 0, Batch 200, Loss: 11998.056640625 RMSE(mm): 54.76782048024415\n"
     ]
    },
    {
     "name": "stderr",
     "output_type": "stream",
     "text": [
      "236it [00:13, 17.92it/s]\n"
     ]
    },
    {
     "name": "stdout",
     "output_type": "stream",
     "text": [
      "Epoch 0, Val Loss: 14322.601094148597, RMSE(mm): 59.83853502164929\n",
      "Epoch 0, test Loss: 11050.432119332108, RMSE(mm): 52.56051778505447\n"
     ]
    },
    {
     "name": "stderr",
     "output_type": "stream",
     "text": [
      "2it [00:00, 17.80it/s]"
     ]
    },
    {
     "name": "stdout",
     "output_type": "stream",
     "text": [
      "Epoch 1, Batch 0, Loss: 8464.17578125 RMSE(mm): 46.00047766396018\n"
     ]
    },
    {
     "name": "stderr",
     "output_type": "stream",
     "text": [
      "104it [00:05, 17.60it/s]"
     ]
    },
    {
     "name": "stdout",
     "output_type": "stream",
     "text": [
      "Epoch 1, Batch 100, Loss: 11897.5625 RMSE(mm): 54.53797415562848\n"
     ]
    },
    {
     "name": "stderr",
     "output_type": "stream",
     "text": [
      "204it [00:11, 17.70it/s]"
     ]
    },
    {
     "name": "stdout",
     "output_type": "stream",
     "text": [
      "Epoch 1, Batch 200, Loss: 12072.61328125 RMSE(mm): 54.9377221980717\n"
     ]
    },
    {
     "name": "stderr",
     "output_type": "stream",
     "text": [
      "236it [00:13, 17.81it/s]\n"
     ]
    },
    {
     "name": "stdout",
     "output_type": "stream",
     "text": [
      "Epoch 1, Val Loss: 14322.595404177297, RMSE(mm): 59.83852313555477\n",
      "Epoch 1, test Loss: 11050.433852251837, RMSE(mm): 52.560521906303016\n"
     ]
    },
    {
     "name": "stderr",
     "output_type": "stream",
     "text": [
      "2it [00:00, 18.42it/s]"
     ]
    },
    {
     "name": "stdout",
     "output_type": "stream",
     "text": [
      "Epoch 2, Batch 0, Loss: 8325.57421875 RMSE(mm): 45.62229229979024\n"
     ]
    },
    {
     "name": "stderr",
     "output_type": "stream",
     "text": [
      "104it [00:05, 17.94it/s]"
     ]
    },
    {
     "name": "stdout",
     "output_type": "stream",
     "text": [
      "Epoch 2, Batch 100, Loss: 11877.4638671875 RMSE(mm): 54.49188900007849\n"
     ]
    },
    {
     "name": "stderr",
     "output_type": "stream",
     "text": [
      "204it [00:11, 17.81it/s]"
     ]
    },
    {
     "name": "stdout",
     "output_type": "stream",
     "text": [
      "Epoch 2, Batch 200, Loss: 12080.794921875 RMSE(mm): 54.956334761961244\n"
     ]
    },
    {
     "name": "stderr",
     "output_type": "stream",
     "text": [
      "236it [00:13, 17.83it/s]\n"
     ]
    },
    {
     "name": "stdout",
     "output_type": "stream",
     "text": [
      "Epoch 2, Val Loss: 14322.589624521685, RMSE(mm): 59.83851106211134\n",
      "Epoch 2, test Loss: 11050.434771369486, RMSE(mm): 52.560524092158474\n"
     ]
    },
    {
     "name": "stderr",
     "output_type": "stream",
     "text": [
      "2it [00:00, 17.93it/s]"
     ]
    },
    {
     "name": "stdout",
     "output_type": "stream",
     "text": [
      "Epoch 3, Batch 0, Loss: 8484.408203125 RMSE(mm): 46.05542368474369\n"
     ]
    },
    {
     "name": "stderr",
     "output_type": "stream",
     "text": [
      "104it [00:05, 17.99it/s]"
     ]
    },
    {
     "name": "stdout",
     "output_type": "stream",
     "text": [
      "Epoch 3, Batch 100, Loss: 12167.908203125 RMSE(mm): 55.154120886668565\n"
     ]
    },
    {
     "name": "stderr",
     "output_type": "stream",
     "text": [
      "204it [00:11, 18.10it/s]"
     ]
    },
    {
     "name": "stdout",
     "output_type": "stream",
     "text": [
      "Epoch 3, Batch 200, Loss: 12095.201171875 RMSE(mm): 54.989092490863584\n"
     ]
    },
    {
     "name": "stderr",
     "output_type": "stream",
     "text": [
      "236it [00:13, 17.91it/s]\n"
     ]
    },
    {
     "name": "stdout",
     "output_type": "stream",
     "text": [
      "Epoch 3, Val Loss: 14322.584064094388, RMSE(mm): 59.8384994466238\n",
      "Epoch 3, test Loss: 11050.435537300858, RMSE(mm): 52.560525913704616\n"
     ]
    },
    {
     "name": "stderr",
     "output_type": "stream",
     "text": [
      "2it [00:00, 18.01it/s]"
     ]
    },
    {
     "name": "stdout",
     "output_type": "stream",
     "text": [
      "Epoch 4, Batch 0, Loss: 8429.103515625 RMSE(mm): 45.90507465309527\n"
     ]
    },
    {
     "name": "stderr",
     "output_type": "stream",
     "text": [
      "104it [00:05, 17.91it/s]"
     ]
    },
    {
     "name": "stdout",
     "output_type": "stream",
     "text": [
      "Epoch 4, Batch 100, Loss: 11977.666015625 RMSE(mm): 54.72126189979769\n"
     ]
    },
    {
     "name": "stderr",
     "output_type": "stream",
     "text": [
      "204it [00:11, 17.99it/s]"
     ]
    },
    {
     "name": "stdout",
     "output_type": "stream",
     "text": [
      "Epoch 4, Batch 200, Loss: 12011.82421875 RMSE(mm): 54.799234070263246\n"
     ]
    },
    {
     "name": "stderr",
     "output_type": "stream",
     "text": [
      "236it [00:13, 17.91it/s]\n"
     ]
    },
    {
     "name": "stdout",
     "output_type": "stream",
     "text": [
      "Epoch 4, Val Loss: 14322.578653140943, RMSE(mm): 59.838488143378385\n",
      "Epoch 4, test Loss: 11050.436331954657, RMSE(mm): 52.56052780355867\n"
     ]
    },
    {
     "name": "stderr",
     "output_type": "stream",
     "text": [
      "2it [00:00, 18.26it/s]"
     ]
    },
    {
     "name": "stdout",
     "output_type": "stream",
     "text": [
      "Epoch 5, Batch 0, Loss: 8226.345703125 RMSE(mm): 45.3496022670679\n"
     ]
    },
    {
     "name": "stderr",
     "output_type": "stream",
     "text": [
      "104it [00:05, 17.95it/s]"
     ]
    },
    {
     "name": "stdout",
     "output_type": "stream",
     "text": [
      "Epoch 5, Batch 100, Loss: 11994.8515625 RMSE(mm): 54.76050484267836\n"
     ]
    },
    {
     "name": "stderr",
     "output_type": "stream",
     "text": [
      "204it [00:11, 17.76it/s]"
     ]
    },
    {
     "name": "stdout",
     "output_type": "stream",
     "text": [
      "Epoch 5, Batch 200, Loss: 12131.1962890625 RMSE(mm): 55.07085501665672\n"
     ]
    },
    {
     "name": "stderr",
     "output_type": "stream",
     "text": [
      "236it [00:13, 17.99it/s]\n"
     ]
    },
    {
     "name": "stdout",
     "output_type": "stream",
     "text": [
      "Epoch 5, Val Loss: 14322.573630819516, RMSE(mm): 59.83847765196637\n",
      "Epoch 5, test Loss: 11050.436714920343, RMSE(mm): 52.56052871433169\n"
     ]
    },
    {
     "name": "stderr",
     "output_type": "stream",
     "text": [
      "2it [00:00, 17.85it/s]"
     ]
    },
    {
     "name": "stdout",
     "output_type": "stream",
     "text": [
      "Epoch 6, Batch 0, Loss: 8385.158203125 RMSE(mm): 45.78525473098572\n"
     ]
    },
    {
     "name": "stderr",
     "output_type": "stream",
     "text": [
      "104it [00:05, 17.82it/s]"
     ]
    },
    {
     "name": "stdout",
     "output_type": "stream",
     "text": [
      "Epoch 6, Batch 100, Loss: 12086.529296875 RMSE(mm): 54.96937624003705\n"
     ]
    },
    {
     "name": "stderr",
     "output_type": "stream",
     "text": [
      "204it [00:11, 18.06it/s]"
     ]
    },
    {
     "name": "stdout",
     "output_type": "stream",
     "text": [
      "Epoch 6, Batch 200, Loss: 11874.310546875 RMSE(mm): 54.48465505735307\n"
     ]
    },
    {
     "name": "stderr",
     "output_type": "stream",
     "text": [
      "236it [00:13, 17.99it/s]\n"
     ]
    },
    {
     "name": "stdout",
     "output_type": "stream",
     "text": [
      "Epoch 6, Val Loss: 14322.57395966199, RMSE(mm): 59.83847833890412\n",
      "Epoch 6, test Loss: 11050.437002144608, RMSE(mm): 52.560529397411436\n"
     ]
    },
    {
     "name": "stderr",
     "output_type": "stream",
     "text": [
      "2it [00:00, 18.15it/s]"
     ]
    },
    {
     "name": "stdout",
     "output_type": "stream",
     "text": [
      "Epoch 7, Batch 0, Loss: 8253.2265625 RMSE(mm): 45.42363526430926\n"
     ]
    },
    {
     "name": "stderr",
     "output_type": "stream",
     "text": [
      "104it [00:05, 17.74it/s]"
     ]
    },
    {
     "name": "stdout",
     "output_type": "stream",
     "text": [
      "Epoch 7, Batch 100, Loss: 11991.205078125 RMSE(mm): 54.75218050024355\n"
     ]
    },
    {
     "name": "stderr",
     "output_type": "stream",
     "text": [
      "204it [00:11, 18.09it/s]"
     ]
    },
    {
     "name": "stdout",
     "output_type": "stream",
     "text": [
      "Epoch 7, Batch 200, Loss: 12242.876953125 RMSE(mm): 55.323767390528005\n"
     ]
    },
    {
     "name": "stderr",
     "output_type": "stream",
     "text": [
      "236it [00:13, 18.01it/s]\n"
     ]
    },
    {
     "name": "stdout",
     "output_type": "stream",
     "text": [
      "Epoch 7, Val Loss: 14322.573820153062, RMSE(mm): 59.83847804747599\n",
      "Epoch 7, test Loss: 11050.43683938419, RMSE(mm): 52.560529010332914\n"
     ]
    },
    {
     "name": "stderr",
     "output_type": "stream",
     "text": [
      "2it [00:00, 18.43it/s]"
     ]
    },
    {
     "name": "stdout",
     "output_type": "stream",
     "text": [
      "Epoch 8, Batch 0, Loss: 8396.6796875 RMSE(mm): 45.81669915953134\n"
     ]
    },
    {
     "name": "stderr",
     "output_type": "stream",
     "text": [
      "104it [00:05, 17.96it/s]"
     ]
    },
    {
     "name": "stdout",
     "output_type": "stream",
     "text": [
      "Epoch 8, Batch 100, Loss: 11966.1611328125 RMSE(mm): 54.69497493557452\n"
     ]
    },
    {
     "name": "stderr",
     "output_type": "stream",
     "text": [
      "204it [00:11, 18.02it/s]"
     ]
    },
    {
     "name": "stdout",
     "output_type": "stream",
     "text": [
      "Epoch 8, Batch 200, Loss: 12175.701171875 RMSE(mm): 55.17177986043907\n"
     ]
    },
    {
     "name": "stderr",
     "output_type": "stream",
     "text": [
      "236it [00:13, 17.96it/s]\n"
     ]
    },
    {
     "name": "stdout",
     "output_type": "stream",
     "text": [
      "Epoch 8, Val Loss: 14322.573551100128, RMSE(mm): 59.83847748543601\n",
      "Epoch 8, test Loss: 11050.436561734068, RMSE(mm): 52.56052835002248\n"
     ]
    },
    {
     "name": "stderr",
     "output_type": "stream",
     "text": [
      "2it [00:00, 18.18it/s]"
     ]
    },
    {
     "name": "stdout",
     "output_type": "stream",
     "text": [
      "Epoch 9, Batch 0, Loss: 8459.990234375 RMSE(mm): 45.989102606962774\n"
     ]
    },
    {
     "name": "stderr",
     "output_type": "stream",
     "text": [
      "104it [00:05, 17.93it/s]"
     ]
    },
    {
     "name": "stdout",
     "output_type": "stream",
     "text": [
      "Epoch 9, Batch 100, Loss: 12243.376953125 RMSE(mm): 55.32489709236927\n"
     ]
    },
    {
     "name": "stderr",
     "output_type": "stream",
     "text": [
      "204it [00:11, 17.82it/s]"
     ]
    },
    {
     "name": "stdout",
     "output_type": "stream",
     "text": [
      "Epoch 9, Batch 200, Loss: 12051.5615234375 RMSE(mm): 54.88980215722566\n"
     ]
    },
    {
     "name": "stderr",
     "output_type": "stream",
     "text": [
      "236it [00:13, 17.92it/s]\n"
     ]
    },
    {
     "name": "stdout",
     "output_type": "stream",
     "text": [
      "Epoch 9, Val Loss: 14322.573451450893, RMSE(mm): 59.83847727727305\n",
      "Epoch 9, test Loss: 11050.43669577206, RMSE(mm): 52.56052866879304\n"
     ]
    },
    {
     "name": "stderr",
     "output_type": "stream",
     "text": [
      "2it [00:00, 18.46it/s]"
     ]
    },
    {
     "name": "stdout",
     "output_type": "stream",
     "text": [
      "Epoch 10, Batch 0, Loss: 8287.958984375 RMSE(mm): 45.51911407413099\n"
     ]
    },
    {
     "name": "stderr",
     "output_type": "stream",
     "text": [
      "104it [00:05, 17.88it/s]"
     ]
    },
    {
     "name": "stdout",
     "output_type": "stream",
     "text": [
      "Epoch 10, Batch 100, Loss: 11902.2490234375 RMSE(mm): 54.54871452068669\n"
     ]
    },
    {
     "name": "stderr",
     "output_type": "stream",
     "text": [
      "204it [00:11, 17.87it/s]"
     ]
    },
    {
     "name": "stdout",
     "output_type": "stream",
     "text": [
      "Epoch 10, Batch 200, Loss: 12142.1171875 RMSE(mm): 55.095637729996376\n"
     ]
    },
    {
     "name": "stderr",
     "output_type": "stream",
     "text": [
      "236it [00:13, 17.88it/s]\n"
     ]
    },
    {
     "name": "stdout",
     "output_type": "stream",
     "text": [
      "Epoch 10, Val Loss: 14322.573551100128, RMSE(mm): 59.83847748543601\n",
      "Epoch 10, test Loss: 11050.436810661764, RMSE(mm): 52.56052894202494\n"
     ]
    },
    {
     "name": "stderr",
     "output_type": "stream",
     "text": [
      "2it [00:00, 18.48it/s]"
     ]
    },
    {
     "name": "stdout",
     "output_type": "stream",
     "text": [
      "Epoch 11, Batch 0, Loss: 8429.521484375 RMSE(mm): 45.906212772278984\n"
     ]
    },
    {
     "name": "stderr",
     "output_type": "stream",
     "text": [
      "104it [00:05, 17.97it/s]"
     ]
    },
    {
     "name": "stdout",
     "output_type": "stream",
     "text": [
      "Epoch 11, Batch 100, Loss: 12126.865234375 RMSE(mm): 55.061023497513645\n"
     ]
    },
    {
     "name": "stderr",
     "output_type": "stream",
     "text": [
      "204it [00:11, 17.76it/s]"
     ]
    },
    {
     "name": "stdout",
     "output_type": "stream",
     "text": [
      "Epoch 11, Batch 200, Loss: 12044.423828125 RMSE(mm): 54.87354514728614\n"
     ]
    },
    {
     "name": "stderr",
     "output_type": "stream",
     "text": [
      "236it [00:13, 17.90it/s]\n"
     ]
    },
    {
     "name": "stdout",
     "output_type": "stream",
     "text": [
      "Epoch 11, Val Loss: 14322.573620854591, RMSE(mm): 59.83847763115008\n",
      "Epoch 11, test Loss: 11050.436801087622, RMSE(mm): 52.56052891925561\n"
     ]
    },
    {
     "name": "stderr",
     "output_type": "stream",
     "text": [
      "2it [00:00, 18.33it/s]"
     ]
    },
    {
     "name": "stdout",
     "output_type": "stream",
     "text": [
      "Epoch 12, Batch 0, Loss: 8359.2255859375 RMSE(mm): 45.71440031854706\n"
     ]
    },
    {
     "name": "stderr",
     "output_type": "stream",
     "text": [
      "104it [00:05, 17.77it/s]"
     ]
    },
    {
     "name": "stdout",
     "output_type": "stream",
     "text": [
      "Epoch 12, Batch 100, Loss: 11960.8115234375 RMSE(mm): 54.68274756135956\n"
     ]
    },
    {
     "name": "stderr",
     "output_type": "stream",
     "text": [
      "204it [00:11, 18.03it/s]"
     ]
    },
    {
     "name": "stdout",
     "output_type": "stream",
     "text": [
      "Epoch 12, Batch 200, Loss: 11996.884765625 RMSE(mm): 54.765145771797684\n"
     ]
    },
    {
     "name": "stderr",
     "output_type": "stream",
     "text": [
      "236it [00:13, 18.01it/s]\n"
     ]
    },
    {
     "name": "stdout",
     "output_type": "stream",
     "text": [
      "Epoch 12, Val Loss: 14322.573580994898, RMSE(mm): 59.83847754788489\n",
      "Epoch 12, test Loss: 11050.436935125612, RMSE(mm): 52.56052923802616\n"
     ]
    },
    {
     "name": "stderr",
     "output_type": "stream",
     "text": [
      "2it [00:00, 18.60it/s]"
     ]
    },
    {
     "name": "stdout",
     "output_type": "stream",
     "text": [
      "Epoch 13, Batch 0, Loss: 8423.546875 RMSE(mm): 45.88994136790763\n"
     ]
    },
    {
     "name": "stderr",
     "output_type": "stream",
     "text": [
      "104it [00:05, 18.07it/s]"
     ]
    },
    {
     "name": "stdout",
     "output_type": "stream",
     "text": [
      "Epoch 13, Batch 100, Loss: 11877.0654296875 RMSE(mm): 54.490975008912024\n"
     ]
    },
    {
     "name": "stderr",
     "output_type": "stream",
     "text": [
      "204it [00:11, 17.85it/s]"
     ]
    },
    {
     "name": "stdout",
     "output_type": "stream",
     "text": [
      "Epoch 13, Batch 200, Loss: 12152.453125 RMSE(mm): 55.1190827322988\n"
     ]
    },
    {
     "name": "stderr",
     "output_type": "stream",
     "text": [
      "236it [00:13, 17.98it/s]\n"
     ]
    },
    {
     "name": "stdout",
     "output_type": "stream",
     "text": [
      "Epoch 13, Val Loss: 14322.573610889669, RMSE(mm): 59.83847761033378\n",
      "Epoch 13, test Loss: 11050.43683938419, RMSE(mm): 52.560529010332914\n"
     ]
    },
    {
     "name": "stderr",
     "output_type": "stream",
     "text": [
      "2it [00:00, 17.78it/s]"
     ]
    },
    {
     "name": "stdout",
     "output_type": "stream",
     "text": [
      "Epoch 14, Batch 0, Loss: 8293.1826171875 RMSE(mm): 45.533456428178994\n"
     ]
    },
    {
     "name": "stderr",
     "output_type": "stream",
     "text": [
      "104it [00:05, 18.12it/s]"
     ]
    },
    {
     "name": "stdout",
     "output_type": "stream",
     "text": [
      "Epoch 14, Batch 100, Loss: 12079.826171875 RMSE(mm): 54.95413126388907\n"
     ]
    },
    {
     "name": "stderr",
     "output_type": "stream",
     "text": [
      "204it [00:11, 17.90it/s]"
     ]
    },
    {
     "name": "stdout",
     "output_type": "stream",
     "text": [
      "Epoch 14, Batch 200, Loss: 12067.3173828125 RMSE(mm): 54.92567109925126\n"
     ]
    },
    {
     "name": "stderr",
     "output_type": "stream",
     "text": [
      "236it [00:13, 17.95it/s]\n"
     ]
    },
    {
     "name": "stdout",
     "output_type": "stream",
     "text": [
      "Epoch 14, Val Loss: 14322.573451450893, RMSE(mm): 59.83847727727305\n",
      "Epoch 14, test Loss: 11050.43687768076, RMSE(mm): 52.56052910141022\n",
      "create dataloader...\n",
      "HI\n",
      "training...\n"
     ]
    },
    {
     "name": "stderr",
     "output_type": "stream",
     "text": [
      "2it [00:00, 16.88it/s]"
     ]
    },
    {
     "name": "stdout",
     "output_type": "stream",
     "text": [
      "Epoch 0, Batch 0, Loss: 8437.314453125 RMSE(mm): 45.92742767977813\n"
     ]
    },
    {
     "name": "stderr",
     "output_type": "stream",
     "text": [
      "104it [00:05, 18.03it/s]"
     ]
    },
    {
     "name": "stdout",
     "output_type": "stream",
     "text": [
      "Epoch 0, Batch 100, Loss: 11642.8466796875 RMSE(mm): 53.951011759946404\n"
     ]
    },
    {
     "name": "stderr",
     "output_type": "stream",
     "text": [
      "204it [00:11, 17.82it/s]"
     ]
    },
    {
     "name": "stdout",
     "output_type": "stream",
     "text": [
      "Epoch 0, Batch 200, Loss: 11966.0234375 RMSE(mm): 54.69466024553951\n"
     ]
    },
    {
     "name": "stderr",
     "output_type": "stream",
     "text": [
      "236it [00:13, 17.97it/s]\n"
     ]
    },
    {
     "name": "stdout",
     "output_type": "stream",
     "text": [
      "Epoch 0, Val Loss: 14322.573561065052, RMSE(mm): 59.8384775062523\n",
      "Epoch 0, test Loss: 11050.43679151348, RMSE(mm): 52.56052889648629\n"
     ]
    },
    {
     "name": "stderr",
     "output_type": "stream",
     "text": [
      "2it [00:00, 18.26it/s]"
     ]
    },
    {
     "name": "stdout",
     "output_type": "stream",
     "text": [
      "Epoch 1, Batch 0, Loss: 8407.8447265625 RMSE(mm): 45.84715020195503\n"
     ]
    },
    {
     "name": "stderr",
     "output_type": "stream",
     "text": [
      "104it [00:05, 17.84it/s]"
     ]
    },
    {
     "name": "stdout",
     "output_type": "stream",
     "text": [
      "Epoch 1, Batch 100, Loss: 11788.3974609375 RMSE(mm): 54.287193381444716\n"
     ]
    },
    {
     "name": "stderr",
     "output_type": "stream",
     "text": [
      "204it [00:11, 17.66it/s]"
     ]
    },
    {
     "name": "stdout",
     "output_type": "stream",
     "text": [
      "Epoch 1, Batch 200, Loss: 12058.6533203125 RMSE(mm): 54.90594986044887\n"
     ]
    },
    {
     "name": "stderr",
     "output_type": "stream",
     "text": [
      "236it [00:13, 17.92it/s]\n"
     ]
    },
    {
     "name": "stdout",
     "output_type": "stream",
     "text": [
      "Epoch 1, Val Loss: 14322.573571029974, RMSE(mm): 59.8384775270686\n",
      "Epoch 1, test Loss: 11050.436906403187, RMSE(mm): 52.560529169718194\n"
     ]
    },
    {
     "name": "stderr",
     "output_type": "stream",
     "text": [
      "2it [00:00, 18.26it/s]"
     ]
    },
    {
     "name": "stdout",
     "output_type": "stream",
     "text": [
      "Epoch 2, Batch 0, Loss: 8374.3017578125 RMSE(mm): 45.75560555225037\n"
     ]
    },
    {
     "name": "stderr",
     "output_type": "stream",
     "text": [
      "104it [00:05, 17.97it/s]"
     ]
    },
    {
     "name": "stdout",
     "output_type": "stream",
     "text": [
      "Epoch 2, Batch 100, Loss: 12004.70703125 RMSE(mm): 54.78299697727845\n"
     ]
    },
    {
     "name": "stderr",
     "output_type": "stream",
     "text": [
      "204it [00:11, 17.73it/s]"
     ]
    },
    {
     "name": "stdout",
     "output_type": "stream",
     "text": [
      "Epoch 2, Batch 200, Loss: 12043.9453125 RMSE(mm): 54.87245509474676\n"
     ]
    },
    {
     "name": "stderr",
     "output_type": "stream",
     "text": [
      "236it [00:13, 17.97it/s]\n"
     ]
    },
    {
     "name": "stdout",
     "output_type": "stream",
     "text": [
      "Epoch 2, Val Loss: 14322.573531170281, RMSE(mm): 59.83847744380342\n",
      "Epoch 2, test Loss: 11050.436686197916, RMSE(mm): 52.56052864602371\n"
     ]
    },
    {
     "name": "stderr",
     "output_type": "stream",
     "text": [
      "2it [00:00, 17.94it/s]"
     ]
    },
    {
     "name": "stdout",
     "output_type": "stream",
     "text": [
      "Epoch 3, Batch 0, Loss: 8361.0078125 RMSE(mm): 45.71927332236373\n"
     ]
    },
    {
     "name": "stderr",
     "output_type": "stream",
     "text": [
      "104it [00:05, 17.71it/s]"
     ]
    },
    {
     "name": "stdout",
     "output_type": "stream",
     "text": [
      "Epoch 3, Batch 100, Loss: 11971.2021484375 RMSE(mm): 54.70649446920699\n"
     ]
    },
    {
     "name": "stderr",
     "output_type": "stream",
     "text": [
      "204it [00:11, 17.87it/s]"
     ]
    },
    {
     "name": "stdout",
     "output_type": "stream",
     "text": [
      "Epoch 3, Batch 200, Loss: 11976.150390625 RMSE(mm): 54.717799641946954\n"
     ]
    },
    {
     "name": "stderr",
     "output_type": "stream",
     "text": [
      "236it [00:13, 17.95it/s]\n"
     ]
    },
    {
     "name": "stdout",
     "output_type": "stream",
     "text": [
      "Epoch 3, Val Loss: 14322.573551100128, RMSE(mm): 59.83847748543601\n",
      "Epoch 3, test Loss: 11050.436762791054, RMSE(mm): 52.56052882817831\n"
     ]
    },
    {
     "name": "stderr",
     "output_type": "stream",
     "text": [
      "2it [00:00, 17.53it/s]"
     ]
    },
    {
     "name": "stdout",
     "output_type": "stream",
     "text": [
      "Epoch 4, Batch 0, Loss: 8362.1376953125 RMSE(mm): 45.722362404277895\n"
     ]
    },
    {
     "name": "stderr",
     "output_type": "stream",
     "text": [
      "104it [00:05, 17.99it/s]"
     ]
    },
    {
     "name": "stdout",
     "output_type": "stream",
     "text": [
      "Epoch 4, Batch 100, Loss: 12091.04296875 RMSE(mm): 54.979639342101\n"
     ]
    },
    {
     "name": "stderr",
     "output_type": "stream",
     "text": [
      "204it [00:11, 17.98it/s]"
     ]
    },
    {
     "name": "stdout",
     "output_type": "stream",
     "text": [
      "Epoch 4, Batch 200, Loss: 12200.91015625 RMSE(mm): 55.22886508939415\n"
     ]
    },
    {
     "name": "stderr",
     "output_type": "stream",
     "text": [
      "236it [00:13, 17.99it/s]\n"
     ]
    },
    {
     "name": "stdout",
     "output_type": "stream",
     "text": [
      "Epoch 4, Val Loss: 14322.573600924745, RMSE(mm): 59.83847758951748\n",
      "Epoch 4, test Loss: 11050.436724494486, RMSE(mm): 52.560528737101016\n"
     ]
    },
    {
     "name": "stderr",
     "output_type": "stream",
     "text": [
      "2it [00:00, 18.23it/s]"
     ]
    },
    {
     "name": "stdout",
     "output_type": "stream",
     "text": [
      "Epoch 5, Batch 0, Loss: 8310.8046875 RMSE(mm): 45.581807466082346\n"
     ]
    },
    {
     "name": "stderr",
     "output_type": "stream",
     "text": [
      "104it [00:05, 17.87it/s]"
     ]
    },
    {
     "name": "stdout",
     "output_type": "stream",
     "text": [
      "Epoch 5, Batch 100, Loss: 11885.701171875 RMSE(mm): 54.51078143788392\n"
     ]
    },
    {
     "name": "stderr",
     "output_type": "stream",
     "text": [
      "204it [00:11, 17.97it/s]"
     ]
    },
    {
     "name": "stdout",
     "output_type": "stream",
     "text": [
      "Epoch 5, Batch 200, Loss: 11964.169921875 RMSE(mm): 54.690424028971925\n"
     ]
    },
    {
     "name": "stderr",
     "output_type": "stream",
     "text": [
      "236it [00:13, 17.94it/s]\n"
     ]
    },
    {
     "name": "stdout",
     "output_type": "stream",
     "text": [
      "Epoch 5, Val Loss: 14322.57327208227, RMSE(mm): 59.83847690257973\n",
      "Epoch 5, test Loss: 11050.436676623774, RMSE(mm): 52.560528623254385\n"
     ]
    },
    {
     "name": "stderr",
     "output_type": "stream",
     "text": [
      "2it [00:00, 18.10it/s]"
     ]
    },
    {
     "name": "stdout",
     "output_type": "stream",
     "text": [
      "Epoch 6, Batch 0, Loss: 8215.81640625 RMSE(mm): 45.320570401998474\n"
     ]
    },
    {
     "name": "stderr",
     "output_type": "stream",
     "text": [
      "104it [00:05, 17.95it/s]"
     ]
    },
    {
     "name": "stdout",
     "output_type": "stream",
     "text": [
      "Epoch 6, Batch 100, Loss: 11861.6142578125 RMSE(mm): 54.45551913675165\n"
     ]
    },
    {
     "name": "stderr",
     "output_type": "stream",
     "text": [
      "204it [00:11, 17.93it/s]"
     ]
    },
    {
     "name": "stdout",
     "output_type": "stream",
     "text": [
      "Epoch 6, Batch 200, Loss: 12149.123046875 RMSE(mm): 55.11153020665231\n"
     ]
    },
    {
     "name": "stderr",
     "output_type": "stream",
     "text": [
      "236it [00:13, 17.94it/s]\n"
     ]
    },
    {
     "name": "stdout",
     "output_type": "stream",
     "text": [
      "Epoch 6, Val Loss: 14322.573371731505, RMSE(mm): 59.83847711074269\n",
      "Epoch 6, test Loss: 11050.436686197916, RMSE(mm): 52.56052864602371\n"
     ]
    },
    {
     "name": "stderr",
     "output_type": "stream",
     "text": [
      "2it [00:00, 18.43it/s]"
     ]
    },
    {
     "name": "stdout",
     "output_type": "stream",
     "text": [
      "Epoch 7, Batch 0, Loss: 8241.5625 RMSE(mm): 45.391525916188364\n"
     ]
    },
    {
     "name": "stderr",
     "output_type": "stream",
     "text": [
      "104it [00:05, 18.06it/s]"
     ]
    },
    {
     "name": "stdout",
     "output_type": "stream",
     "text": [
      "Epoch 7, Batch 100, Loss: 12236.626953125 RMSE(mm): 55.30964417062589\n"
     ]
    },
    {
     "name": "stderr",
     "output_type": "stream",
     "text": [
      "204it [00:11, 17.69it/s]"
     ]
    },
    {
     "name": "stdout",
     "output_type": "stream",
     "text": [
      "Epoch 7, Batch 200, Loss: 12145.4921875 RMSE(mm): 55.10329433777077\n"
     ]
    },
    {
     "name": "stderr",
     "output_type": "stream",
     "text": [
      "236it [00:13, 17.97it/s]\n"
     ]
    },
    {
     "name": "stdout",
     "output_type": "stream",
     "text": [
      "Epoch 7, Val Loss: 14322.573640784438, RMSE(mm): 59.838477672782666\n",
      "Epoch 7, test Loss: 11050.436810661764, RMSE(mm): 52.56052894202494\n"
     ]
    },
    {
     "name": "stderr",
     "output_type": "stream",
     "text": [
      "2it [00:00, 18.09it/s]"
     ]
    },
    {
     "name": "stdout",
     "output_type": "stream",
     "text": [
      "Epoch 8, Batch 0, Loss: 8400.07421875 RMSE(mm): 45.82595939734923\n"
     ]
    },
    {
     "name": "stderr",
     "output_type": "stream",
     "text": [
      "104it [00:05, 17.91it/s]"
     ]
    },
    {
     "name": "stdout",
     "output_type": "stream",
     "text": [
      "Epoch 8, Batch 100, Loss: 11997.8427734375 RMSE(mm): 54.76733235569699\n"
     ]
    },
    {
     "name": "stderr",
     "output_type": "stream",
     "text": [
      "204it [00:11, 17.85it/s]"
     ]
    },
    {
     "name": "stdout",
     "output_type": "stream",
     "text": [
      "Epoch 8, Batch 200, Loss: 12091.6015625 RMSE(mm): 54.98090932882977\n"
     ]
    },
    {
     "name": "stderr",
     "output_type": "stream",
     "text": [
      "236it [00:13, 17.97it/s]\n"
     ]
    },
    {
     "name": "stdout",
     "output_type": "stream",
     "text": [
      "Epoch 8, Val Loss: 14322.573720503826, RMSE(mm): 59.83847783931303\n",
      "Epoch 8, test Loss: 11050.436762791054, RMSE(mm): 52.56052882817831\n"
     ]
    },
    {
     "name": "stderr",
     "output_type": "stream",
     "text": [
      "2it [00:00, 17.47it/s]"
     ]
    },
    {
     "name": "stdout",
     "output_type": "stream",
     "text": [
      "Epoch 9, Batch 0, Loss: 8339.62890625 RMSE(mm): 45.660784340202696\n"
     ]
    },
    {
     "name": "stderr",
     "output_type": "stream",
     "text": [
      "104it [00:05, 18.02it/s]"
     ]
    },
    {
     "name": "stdout",
     "output_type": "stream",
     "text": [
      "Epoch 9, Batch 100, Loss: 12107.044921875 RMSE(mm): 55.016008856229746\n"
     ]
    },
    {
     "name": "stderr",
     "output_type": "stream",
     "text": [
      "204it [00:11, 17.84it/s]"
     ]
    },
    {
     "name": "stdout",
     "output_type": "stream",
     "text": [
      "Epoch 9, Batch 200, Loss: 12211.16015625 RMSE(mm): 55.252059138664684\n"
     ]
    },
    {
     "name": "stderr",
     "output_type": "stream",
     "text": [
      "236it [00:13, 17.91it/s]\n"
     ]
    },
    {
     "name": "stdout",
     "output_type": "stream",
     "text": [
      "Epoch 9, Val Loss: 14322.573620854591, RMSE(mm): 59.83847763115008\n",
      "Epoch 9, test Loss: 11050.436714920343, RMSE(mm): 52.56052871433169\n"
     ]
    },
    {
     "name": "stderr",
     "output_type": "stream",
     "text": [
      "2it [00:00, 18.10it/s]"
     ]
    },
    {
     "name": "stdout",
     "output_type": "stream",
     "text": [
      "Epoch 10, Batch 0, Loss: 8471.22265625 RMSE(mm): 46.019622598001604\n"
     ]
    },
    {
     "name": "stderr",
     "output_type": "stream",
     "text": [
      "104it [00:05, 17.90it/s]"
     ]
    },
    {
     "name": "stdout",
     "output_type": "stream",
     "text": [
      "Epoch 10, Batch 100, Loss: 11969.7548828125 RMSE(mm): 54.70318748211228\n"
     ]
    },
    {
     "name": "stderr",
     "output_type": "stream",
     "text": [
      "204it [00:11, 17.97it/s]"
     ]
    },
    {
     "name": "stdout",
     "output_type": "stream",
     "text": [
      "Epoch 10, Batch 200, Loss: 12108.923828125 RMSE(mm): 55.02027768951417\n"
     ]
    },
    {
     "name": "stderr",
     "output_type": "stream",
     "text": [
      "236it [00:13, 17.91it/s]\n"
     ]
    },
    {
     "name": "stdout",
     "output_type": "stream",
     "text": [
      "Epoch 10, Val Loss: 14322.573580994898, RMSE(mm): 59.83847754788489\n",
      "Epoch 10, test Loss: 11050.436734068628, RMSE(mm): 52.56052875987034\n"
     ]
    },
    {
     "name": "stderr",
     "output_type": "stream",
     "text": [
      "2it [00:00, 17.94it/s]"
     ]
    },
    {
     "name": "stdout",
     "output_type": "stream",
     "text": [
      "Epoch 11, Batch 0, Loss: 8284.259765625 RMSE(mm): 45.50895451893231\n"
     ]
    },
    {
     "name": "stderr",
     "output_type": "stream",
     "text": [
      "104it [00:05, 17.91it/s]"
     ]
    },
    {
     "name": "stdout",
     "output_type": "stream",
     "text": [
      "Epoch 11, Batch 100, Loss: 11835.947265625 RMSE(mm): 54.39656989559406\n"
     ]
    },
    {
     "name": "stderr",
     "output_type": "stream",
     "text": [
      "204it [00:11, 17.88it/s]"
     ]
    },
    {
     "name": "stdout",
     "output_type": "stream",
     "text": [
      "Epoch 11, Batch 200, Loss: 12318.09375 RMSE(mm): 55.493454005855504\n"
     ]
    },
    {
     "name": "stderr",
     "output_type": "stream",
     "text": [
      "236it [00:13, 17.95it/s]\n"
     ]
    },
    {
     "name": "stdout",
     "output_type": "stream",
     "text": [
      "Epoch 11, Val Loss: 14322.573541135203, RMSE(mm): 59.83847746461971\n",
      "Epoch 11, test Loss: 11050.436734068628, RMSE(mm): 52.56052875987034\n"
     ]
    },
    {
     "name": "stderr",
     "output_type": "stream",
     "text": [
      "2it [00:00, 18.26it/s]"
     ]
    },
    {
     "name": "stdout",
     "output_type": "stream",
     "text": [
      "Epoch 12, Batch 0, Loss: 8412.9765625 RMSE(mm): 45.86113976587368\n"
     ]
    },
    {
     "name": "stderr",
     "output_type": "stream",
     "text": [
      "104it [00:05, 18.06it/s]"
     ]
    },
    {
     "name": "stdout",
     "output_type": "stream",
     "text": [
      "Epoch 12, Batch 100, Loss: 11852.8525390625 RMSE(mm): 54.43540332141965\n"
     ]
    },
    {
     "name": "stderr",
     "output_type": "stream",
     "text": [
      "204it [00:11, 18.11it/s]"
     ]
    },
    {
     "name": "stdout",
     "output_type": "stream",
     "text": [
      "Epoch 12, Batch 200, Loss: 12063.189453125 RMSE(mm): 54.91627594148432\n"
     ]
    },
    {
     "name": "stderr",
     "output_type": "stream",
     "text": [
      "236it [00:13, 17.99it/s]\n"
     ]
    },
    {
     "name": "stdout",
     "output_type": "stream",
     "text": [
      "Epoch 12, Val Loss: 14322.573551100128, RMSE(mm): 59.83847748543601\n",
      "Epoch 12, test Loss: 11050.436734068628, RMSE(mm): 52.56052875987034\n"
     ]
    },
    {
     "name": "stderr",
     "output_type": "stream",
     "text": [
      "2it [00:00, 17.94it/s]"
     ]
    },
    {
     "name": "stdout",
     "output_type": "stream",
     "text": [
      "Epoch 13, Batch 0, Loss: 8403.94921875 RMSE(mm): 45.83652806100719\n"
     ]
    },
    {
     "name": "stderr",
     "output_type": "stream",
     "text": [
      "104it [00:05, 17.82it/s]"
     ]
    },
    {
     "name": "stdout",
     "output_type": "stream",
     "text": [
      "Epoch 13, Batch 100, Loss: 11766.046875 RMSE(mm): 54.23570520192394\n"
     ]
    },
    {
     "name": "stderr",
     "output_type": "stream",
     "text": [
      "204it [00:11, 18.01it/s]"
     ]
    },
    {
     "name": "stdout",
     "output_type": "stream",
     "text": [
      "Epoch 13, Batch 200, Loss: 12050.849609375 RMSE(mm): 54.88818089847531\n"
     ]
    },
    {
     "name": "stderr",
     "output_type": "stream",
     "text": [
      "236it [00:13, 17.94it/s]\n"
     ]
    },
    {
     "name": "stdout",
     "output_type": "stream",
     "text": [
      "Epoch 13, Val Loss: 14322.573610889669, RMSE(mm): 59.83847761033378\n",
      "Epoch 13, test Loss: 11050.436781939337, RMSE(mm): 52.56052887371696\n"
     ]
    },
    {
     "name": "stderr",
     "output_type": "stream",
     "text": [
      "2it [00:00, 18.26it/s]"
     ]
    },
    {
     "name": "stdout",
     "output_type": "stream",
     "text": [
      "Epoch 14, Batch 0, Loss: 8482.88671875 RMSE(mm): 46.05129400665631\n"
     ]
    },
    {
     "name": "stderr",
     "output_type": "stream",
     "text": [
      "104it [00:05, 18.02it/s]"
     ]
    },
    {
     "name": "stdout",
     "output_type": "stream",
     "text": [
      "Epoch 14, Batch 100, Loss: 12211.91796875 RMSE(mm): 55.253773556088454\n"
     ]
    },
    {
     "name": "stderr",
     "output_type": "stream",
     "text": [
      "204it [00:11, 18.11it/s]"
     ]
    },
    {
     "name": "stdout",
     "output_type": "stream",
     "text": [
      "Epoch 14, Batch 200, Loss: 12128.724609375 RMSE(mm): 55.06524450453072\n"
     ]
    },
    {
     "name": "stderr",
     "output_type": "stream",
     "text": [
      "236it [00:13, 18.02it/s]\n"
     ]
    },
    {
     "name": "stdout",
     "output_type": "stream",
     "text": [
      "Epoch 14, Val Loss: 14322.573551100128, RMSE(mm): 59.83847748543601\n",
      "Epoch 14, test Loss: 11050.43669577206, RMSE(mm): 52.56052866879304\n",
      "create dataloader...\n",
      "HI\n",
      "training...\n"
     ]
    },
    {
     "name": "stderr",
     "output_type": "stream",
     "text": [
      "2it [00:00, 17.31it/s]"
     ]
    },
    {
     "name": "stdout",
     "output_type": "stream",
     "text": [
      "Epoch 0, Batch 0, Loss: 8471.109375 RMSE(mm): 46.01931489874659\n"
     ]
    },
    {
     "name": "stderr",
     "output_type": "stream",
     "text": [
      "104it [00:05, 18.01it/s]"
     ]
    },
    {
     "name": "stdout",
     "output_type": "stream",
     "text": [
      "Epoch 0, Batch 100, Loss: 11997.75 RMSE(mm): 54.76712061081904\n"
     ]
    },
    {
     "name": "stderr",
     "output_type": "stream",
     "text": [
      "204it [00:11, 17.94it/s]"
     ]
    },
    {
     "name": "stdout",
     "output_type": "stream",
     "text": [
      "Epoch 0, Batch 200, Loss: 12282.244140625 RMSE(mm): 55.41264327891469\n"
     ]
    },
    {
     "name": "stderr",
     "output_type": "stream",
     "text": [
      "236it [00:13, 17.95it/s]\n"
     ]
    },
    {
     "name": "stdout",
     "output_type": "stream",
     "text": [
      "Epoch 0, Val Loss: 14322.573551100128, RMSE(mm): 59.83847748543601\n",
      "Epoch 0, test Loss: 11050.43669577206, RMSE(mm): 52.56052866879304\n"
     ]
    },
    {
     "name": "stderr",
     "output_type": "stream",
     "text": [
      "2it [00:00, 18.35it/s]"
     ]
    },
    {
     "name": "stdout",
     "output_type": "stream",
     "text": [
      "Epoch 1, Batch 0, Loss: 8358.41015625 RMSE(mm): 45.712170579206806\n"
     ]
    },
    {
     "name": "stderr",
     "output_type": "stream",
     "text": [
      "104it [00:05, 17.82it/s]"
     ]
    },
    {
     "name": "stdout",
     "output_type": "stream",
     "text": [
      "Epoch 1, Batch 100, Loss: 12006.275390625 RMSE(mm): 54.786575432821586\n"
     ]
    },
    {
     "name": "stderr",
     "output_type": "stream",
     "text": [
      "204it [00:11, 17.81it/s]"
     ]
    },
    {
     "name": "stdout",
     "output_type": "stream",
     "text": [
      "Epoch 1, Batch 200, Loss: 11985.572265625 RMSE(mm): 54.73931919933102\n"
     ]
    },
    {
     "name": "stderr",
     "output_type": "stream",
     "text": [
      "236it [00:13, 18.00it/s]\n"
     ]
    },
    {
     "name": "stdout",
     "output_type": "stream",
     "text": [
      "Epoch 1, Val Loss: 14322.573551100128, RMSE(mm): 59.83847748543601\n",
      "Epoch 1, test Loss: 11050.43669577206, RMSE(mm): 52.56052866879304\n"
     ]
    },
    {
     "name": "stderr",
     "output_type": "stream",
     "text": [
      "2it [00:00, 17.99it/s]"
     ]
    },
    {
     "name": "stdout",
     "output_type": "stream",
     "text": [
      "Epoch 2, Batch 0, Loss: 8289.3876953125 RMSE(mm): 45.52303728693995\n"
     ]
    },
    {
     "name": "stderr",
     "output_type": "stream",
     "text": [
      "104it [00:05, 18.12it/s]"
     ]
    },
    {
     "name": "stdout",
     "output_type": "stream",
     "text": [
      "Epoch 2, Batch 100, Loss: 11914.19921875 RMSE(mm): 54.5760918781063\n"
     ]
    },
    {
     "name": "stderr",
     "output_type": "stream",
     "text": [
      "204it [00:11, 17.71it/s]"
     ]
    },
    {
     "name": "stdout",
     "output_type": "stream",
     "text": [
      "Epoch 2, Batch 200, Loss: 12130.8447265625 RMSE(mm): 55.070057033206574\n"
     ]
    },
    {
     "name": "stderr",
     "output_type": "stream",
     "text": [
      "236it [00:13, 18.02it/s]\n"
     ]
    },
    {
     "name": "stdout",
     "output_type": "stream",
     "text": [
      "Epoch 2, Val Loss: 14322.573551100128, RMSE(mm): 59.83847748543601\n",
      "Epoch 2, test Loss: 11050.43669577206, RMSE(mm): 52.56052866879304\n"
     ]
    },
    {
     "name": "stderr",
     "output_type": "stream",
     "text": [
      "2it [00:00, 17.78it/s]"
     ]
    },
    {
     "name": "stdout",
     "output_type": "stream",
     "text": [
      "Epoch 3, Batch 0, Loss: 8250.58203125 RMSE(mm): 45.416357271499656\n"
     ]
    },
    {
     "name": "stderr",
     "output_type": "stream",
     "text": [
      "104it [00:05, 17.70it/s]"
     ]
    },
    {
     "name": "stdout",
     "output_type": "stream",
     "text": [
      "Epoch 3, Batch 100, Loss: 12110.67578125 RMSE(mm): 55.0242577897467\n"
     ]
    },
    {
     "name": "stderr",
     "output_type": "stream",
     "text": [
      "204it [00:11, 17.64it/s]"
     ]
    },
    {
     "name": "stdout",
     "output_type": "stream",
     "text": [
      "Epoch 3, Batch 200, Loss: 12260.9619140625 RMSE(mm): 55.364613956169016\n"
     ]
    },
    {
     "name": "stderr",
     "output_type": "stream",
     "text": [
      "236it [00:13, 17.88it/s]\n"
     ]
    },
    {
     "name": "stdout",
     "output_type": "stream",
     "text": [
      "Epoch 3, Val Loss: 14322.573551100128, RMSE(mm): 59.83847748543601\n",
      "Epoch 3, test Loss: 11050.43669577206, RMSE(mm): 52.56052866879304\n"
     ]
    },
    {
     "name": "stderr",
     "output_type": "stream",
     "text": [
      "2it [00:00, 18.10it/s]"
     ]
    },
    {
     "name": "stdout",
     "output_type": "stream",
     "text": [
      "Epoch 4, Batch 0, Loss: 8366.884765625 RMSE(mm): 45.73533854041369\n"
     ]
    },
    {
     "name": "stderr",
     "output_type": "stream",
     "text": [
      "104it [00:05, 18.00it/s]"
     ]
    },
    {
     "name": "stdout",
     "output_type": "stream",
     "text": [
      "Epoch 4, Batch 100, Loss: 11893.1875 RMSE(mm): 54.52794581680113\n"
     ]
    },
    {
     "name": "stderr",
     "output_type": "stream",
     "text": [
      "204it [00:11, 18.00it/s]"
     ]
    },
    {
     "name": "stdout",
     "output_type": "stream",
     "text": [
      "Epoch 4, Batch 200, Loss: 12101.095703125 RMSE(mm): 55.0024901780024\n"
     ]
    },
    {
     "name": "stderr",
     "output_type": "stream",
     "text": [
      "236it [00:13, 17.93it/s]\n"
     ]
    },
    {
     "name": "stdout",
     "output_type": "stream",
     "text": [
      "Epoch 4, Val Loss: 14322.573551100128, RMSE(mm): 59.83847748543601\n",
      "Epoch 4, test Loss: 11050.43669577206, RMSE(mm): 52.56052866879304\n"
     ]
    },
    {
     "name": "stderr",
     "output_type": "stream",
     "text": [
      "2it [00:00, 18.49it/s]"
     ]
    },
    {
     "name": "stdout",
     "output_type": "stream",
     "text": [
      "Epoch 5, Batch 0, Loss: 8433.134765625 RMSE(mm): 45.91605047699824\n"
     ]
    },
    {
     "name": "stderr",
     "output_type": "stream",
     "text": [
      "104it [00:05, 17.96it/s]"
     ]
    },
    {
     "name": "stdout",
     "output_type": "stream",
     "text": [
      "Epoch 5, Batch 100, Loss: 11858.205078125 RMSE(mm): 54.44769296794172\n"
     ]
    },
    {
     "name": "stderr",
     "output_type": "stream",
     "text": [
      "204it [00:11, 17.76it/s]"
     ]
    },
    {
     "name": "stdout",
     "output_type": "stream",
     "text": [
      "Epoch 5, Batch 200, Loss: 12139.7138671875 RMSE(mm): 55.090184849906564\n"
     ]
    },
    {
     "name": "stderr",
     "output_type": "stream",
     "text": [
      "236it [00:13, 17.85it/s]\n"
     ]
    },
    {
     "name": "stdout",
     "output_type": "stream",
     "text": [
      "Epoch 5, Val Loss: 14322.573551100128, RMSE(mm): 59.83847748543601\n",
      "Epoch 5, test Loss: 11050.43669577206, RMSE(mm): 52.56052866879304\n"
     ]
    },
    {
     "name": "stderr",
     "output_type": "stream",
     "text": [
      "2it [00:00, 17.94it/s]"
     ]
    },
    {
     "name": "stdout",
     "output_type": "stream",
     "text": [
      "Epoch 6, Batch 0, Loss: 8475.15234375 RMSE(mm): 46.03029530578204\n"
     ]
    },
    {
     "name": "stderr",
     "output_type": "stream",
     "text": [
      "104it [00:05, 17.87it/s]"
     ]
    },
    {
     "name": "stdout",
     "output_type": "stream",
     "text": [
      "Epoch 6, Batch 100, Loss: 12197.869140625 RMSE(mm): 55.22198190174136\n"
     ]
    },
    {
     "name": "stderr",
     "output_type": "stream",
     "text": [
      "204it [00:11, 18.06it/s]"
     ]
    },
    {
     "name": "stdout",
     "output_type": "stream",
     "text": [
      "Epoch 6, Batch 200, Loss: 11952.01171875 RMSE(mm): 54.66262827277426\n"
     ]
    },
    {
     "name": "stderr",
     "output_type": "stream",
     "text": [
      "236it [00:13, 17.96it/s]\n"
     ]
    },
    {
     "name": "stdout",
     "output_type": "stream",
     "text": [
      "Epoch 6, Val Loss: 14322.573551100128, RMSE(mm): 59.83847748543601\n",
      "Epoch 6, test Loss: 11050.43669577206, RMSE(mm): 52.56052866879304\n"
     ]
    },
    {
     "name": "stderr",
     "output_type": "stream",
     "text": [
      "2it [00:00, 18.10it/s]"
     ]
    },
    {
     "name": "stdout",
     "output_type": "stream",
     "text": [
      "Epoch 7, Batch 0, Loss: 8332.38671875 RMSE(mm): 45.64095397433647\n"
     ]
    },
    {
     "name": "stderr",
     "output_type": "stream",
     "text": [
      "104it [00:05, 18.16it/s]"
     ]
    },
    {
     "name": "stdout",
     "output_type": "stream",
     "text": [
      "Epoch 7, Batch 100, Loss: 11875.240234375 RMSE(mm): 54.48678792692546\n"
     ]
    },
    {
     "name": "stderr",
     "output_type": "stream",
     "text": [
      "204it [00:11, 18.08it/s]"
     ]
    },
    {
     "name": "stdout",
     "output_type": "stream",
     "text": [
      "Epoch 7, Batch 200, Loss: 12142.5185546875 RMSE(mm): 55.096548337186015\n"
     ]
    },
    {
     "name": "stderr",
     "output_type": "stream",
     "text": [
      "236it [00:13, 18.00it/s]\n"
     ]
    },
    {
     "name": "stdout",
     "output_type": "stream",
     "text": [
      "Epoch 7, Val Loss: 14322.573551100128, RMSE(mm): 59.83847748543601\n",
      "Epoch 7, test Loss: 11050.43669577206, RMSE(mm): 52.56052866879304\n"
     ]
    },
    {
     "name": "stderr",
     "output_type": "stream",
     "text": [
      "2it [00:00, 17.98it/s]"
     ]
    },
    {
     "name": "stdout",
     "output_type": "stream",
     "text": [
      "Epoch 8, Batch 0, Loss: 8416.275390625 RMSE(mm): 45.870130233696194\n"
     ]
    },
    {
     "name": "stderr",
     "output_type": "stream",
     "text": [
      "104it [00:05, 18.13it/s]"
     ]
    },
    {
     "name": "stdout",
     "output_type": "stream",
     "text": [
      "Epoch 8, Batch 100, Loss: 11999.392578125 RMSE(mm): 54.77086948854519\n"
     ]
    },
    {
     "name": "stderr",
     "output_type": "stream",
     "text": [
      "204it [00:11, 17.82it/s]"
     ]
    },
    {
     "name": "stdout",
     "output_type": "stream",
     "text": [
      "Epoch 8, Batch 200, Loss: 12209.70703125 RMSE(mm): 55.24877155025712\n"
     ]
    },
    {
     "name": "stderr",
     "output_type": "stream",
     "text": [
      "236it [00:13, 17.98it/s]\n"
     ]
    },
    {
     "name": "stdout",
     "output_type": "stream",
     "text": [
      "Epoch 8, Val Loss: 14322.573551100128, RMSE(mm): 59.83847748543601\n",
      "Epoch 8, test Loss: 11050.43669577206, RMSE(mm): 52.56052866879304\n"
     ]
    },
    {
     "name": "stderr",
     "output_type": "stream",
     "text": [
      "2it [00:00, 17.94it/s]"
     ]
    },
    {
     "name": "stdout",
     "output_type": "stream",
     "text": [
      "Epoch 9, Batch 0, Loss: 8406.04296875 RMSE(mm): 45.8422375346961\n"
     ]
    },
    {
     "name": "stderr",
     "output_type": "stream",
     "text": [
      "104it [00:05, 18.05it/s]"
     ]
    },
    {
     "name": "stdout",
     "output_type": "stream",
     "text": [
      "Epoch 9, Batch 100, Loss: 11958.1806640625 RMSE(mm): 54.67673331514626\n"
     ]
    },
    {
     "name": "stderr",
     "output_type": "stream",
     "text": [
      "204it [00:11, 17.70it/s]"
     ]
    },
    {
     "name": "stdout",
     "output_type": "stream",
     "text": [
      "Epoch 9, Batch 200, Loss: 12214.490234375 RMSE(mm): 55.259592457724025\n"
     ]
    },
    {
     "name": "stderr",
     "output_type": "stream",
     "text": [
      "236it [00:13, 17.99it/s]\n"
     ]
    },
    {
     "name": "stdout",
     "output_type": "stream",
     "text": [
      "Epoch 9, Val Loss: 14322.573551100128, RMSE(mm): 59.83847748543601\n",
      "Epoch 9, test Loss: 11050.43669577206, RMSE(mm): 52.56052866879304\n"
     ]
    },
    {
     "name": "stderr",
     "output_type": "stream",
     "text": [
      "2it [00:00, 18.60it/s]"
     ]
    },
    {
     "name": "stdout",
     "output_type": "stream",
     "text": [
      "Epoch 10, Batch 0, Loss: 8347.140625 RMSE(mm): 45.68134363446417\n"
     ]
    },
    {
     "name": "stderr",
     "output_type": "stream",
     "text": [
      "104it [00:05, 17.88it/s]"
     ]
    },
    {
     "name": "stdout",
     "output_type": "stream",
     "text": [
      "Epoch 10, Batch 100, Loss: 12013.873046875 RMSE(mm): 54.80390735813232\n"
     ]
    },
    {
     "name": "stderr",
     "output_type": "stream",
     "text": [
      "204it [00:11, 17.90it/s]"
     ]
    },
    {
     "name": "stdout",
     "output_type": "stream",
     "text": [
      "Epoch 10, Batch 200, Loss: 11963.2646484375 RMSE(mm): 54.68835490403213\n"
     ]
    },
    {
     "name": "stderr",
     "output_type": "stream",
     "text": [
      "236it [00:13, 18.02it/s]\n"
     ]
    },
    {
     "name": "stdout",
     "output_type": "stream",
     "text": [
      "Epoch 10, Val Loss: 14322.573551100128, RMSE(mm): 59.83847748543601\n",
      "Epoch 10, test Loss: 11050.43669577206, RMSE(mm): 52.56052866879304\n"
     ]
    },
    {
     "name": "stderr",
     "output_type": "stream",
     "text": [
      "2it [00:00, 18.26it/s]"
     ]
    },
    {
     "name": "stdout",
     "output_type": "stream",
     "text": [
      "Epoch 11, Batch 0, Loss: 8467.056640625 RMSE(mm): 46.00830533888691\n"
     ]
    },
    {
     "name": "stderr",
     "output_type": "stream",
     "text": [
      "104it [00:05, 17.88it/s]"
     ]
    },
    {
     "name": "stdout",
     "output_type": "stream",
     "text": [
      "Epoch 11, Batch 100, Loss: 11926.2275390625 RMSE(mm): 54.6036343549184\n"
     ]
    },
    {
     "name": "stderr",
     "output_type": "stream",
     "text": [
      "204it [00:11, 17.32it/s]"
     ]
    },
    {
     "name": "stdout",
     "output_type": "stream",
     "text": [
      "Epoch 11, Batch 200, Loss: 12042.984375 RMSE(mm): 54.87026602587234\n"
     ]
    },
    {
     "name": "stderr",
     "output_type": "stream",
     "text": [
      "236it [00:13, 17.88it/s]\n"
     ]
    },
    {
     "name": "stdout",
     "output_type": "stream",
     "text": [
      "Epoch 11, Val Loss: 14322.573551100128, RMSE(mm): 59.83847748543601\n",
      "Epoch 11, test Loss: 11050.43669577206, RMSE(mm): 52.56052866879304\n"
     ]
    },
    {
     "name": "stderr",
     "output_type": "stream",
     "text": [
      "2it [00:00, 18.34it/s]"
     ]
    },
    {
     "name": "stdout",
     "output_type": "stream",
     "text": [
      "Epoch 12, Batch 0, Loss: 8285.783203125 RMSE(mm): 45.51313877092251\n"
     ]
    },
    {
     "name": "stderr",
     "output_type": "stream",
     "text": [
      "104it [00:05, 17.50it/s]"
     ]
    },
    {
     "name": "stdout",
     "output_type": "stream",
     "text": [
      "Epoch 12, Batch 100, Loss: 11909.142578125 RMSE(mm): 54.564509019428094\n"
     ]
    },
    {
     "name": "stderr",
     "output_type": "stream",
     "text": [
      "204it [00:11, 18.01it/s]"
     ]
    },
    {
     "name": "stdout",
     "output_type": "stream",
     "text": [
      "Epoch 12, Batch 200, Loss: 12107.310546875 RMSE(mm): 55.01661237043544\n"
     ]
    },
    {
     "name": "stderr",
     "output_type": "stream",
     "text": [
      "236it [00:13, 17.91it/s]\n"
     ]
    },
    {
     "name": "stdout",
     "output_type": "stream",
     "text": [
      "Epoch 12, Val Loss: 14322.573551100128, RMSE(mm): 59.83847748543601\n",
      "Epoch 12, test Loss: 11050.43669577206, RMSE(mm): 52.56052866879304\n"
     ]
    },
    {
     "name": "stderr",
     "output_type": "stream",
     "text": [
      "2it [00:00, 18.38it/s]"
     ]
    },
    {
     "name": "stdout",
     "output_type": "stream",
     "text": [
      "Epoch 13, Batch 0, Loss: 8306.45703125 RMSE(mm): 45.56988323237728\n"
     ]
    },
    {
     "name": "stderr",
     "output_type": "stream",
     "text": [
      "104it [00:05, 17.94it/s]"
     ]
    },
    {
     "name": "stdout",
     "output_type": "stream",
     "text": [
      "Epoch 13, Batch 100, Loss: 11819.755859375 RMSE(mm): 54.35935029821226\n"
     ]
    },
    {
     "name": "stderr",
     "output_type": "stream",
     "text": [
      "204it [00:11, 17.98it/s]"
     ]
    },
    {
     "name": "stdout",
     "output_type": "stream",
     "text": [
      "Epoch 13, Batch 200, Loss: 12213.091796875 RMSE(mm): 55.256429030645386\n"
     ]
    },
    {
     "name": "stderr",
     "output_type": "stream",
     "text": [
      "236it [00:13, 17.89it/s]\n"
     ]
    },
    {
     "name": "stdout",
     "output_type": "stream",
     "text": [
      "Epoch 13, Val Loss: 14322.573551100128, RMSE(mm): 59.83847748543601\n",
      "Epoch 13, test Loss: 11050.43669577206, RMSE(mm): 52.56052866879304\n"
     ]
    },
    {
     "name": "stderr",
     "output_type": "stream",
     "text": [
      "2it [00:00, 18.32it/s]"
     ]
    },
    {
     "name": "stdout",
     "output_type": "stream",
     "text": [
      "Epoch 14, Batch 0, Loss: 8283.4755859375 RMSE(mm): 45.506800552053484\n"
     ]
    },
    {
     "name": "stderr",
     "output_type": "stream",
     "text": [
      "104it [00:05, 18.05it/s]"
     ]
    },
    {
     "name": "stdout",
     "output_type": "stream",
     "text": [
      "Epoch 14, Batch 100, Loss: 12128.8515625 RMSE(mm): 55.065532691739214\n"
     ]
    },
    {
     "name": "stderr",
     "output_type": "stream",
     "text": [
      "204it [00:11, 17.70it/s]"
     ]
    },
    {
     "name": "stdout",
     "output_type": "stream",
     "text": [
      "Epoch 14, Batch 200, Loss: 12027.951171875 RMSE(mm): 54.836008178647994\n"
     ]
    },
    {
     "name": "stderr",
     "output_type": "stream",
     "text": [
      "236it [00:13, 17.90it/s]\n"
     ]
    },
    {
     "name": "stdout",
     "output_type": "stream",
     "text": [
      "Epoch 14, Val Loss: 14322.573551100128, RMSE(mm): 59.83847748543601\n",
      "Epoch 14, test Loss: 11050.43669577206, RMSE(mm): 52.56052866879304\n",
      "create dataloader...\n",
      "HI\n",
      "training...\n"
     ]
    },
    {
     "name": "stderr",
     "output_type": "stream",
     "text": [
      "2it [00:00, 16.46it/s]"
     ]
    },
    {
     "name": "stdout",
     "output_type": "stream",
     "text": [
      "Epoch 0, Batch 0, Loss: 8421.4443359375 RMSE(mm): 45.88421388652502\n"
     ]
    },
    {
     "name": "stderr",
     "output_type": "stream",
     "text": [
      "104it [00:05, 17.94it/s]"
     ]
    },
    {
     "name": "stdout",
     "output_type": "stream",
     "text": [
      "Epoch 0, Batch 100, Loss: 12017.1328125 RMSE(mm): 54.81134192049124\n"
     ]
    },
    {
     "name": "stderr",
     "output_type": "stream",
     "text": [
      "204it [00:11, 17.61it/s]"
     ]
    },
    {
     "name": "stdout",
     "output_type": "stream",
     "text": [
      "Epoch 0, Batch 200, Loss: 12018.88671875 RMSE(mm): 54.81534164526843\n"
     ]
    },
    {
     "name": "stderr",
     "output_type": "stream",
     "text": [
      "236it [00:13, 17.98it/s]\n"
     ]
    },
    {
     "name": "stdout",
     "output_type": "stream",
     "text": [
      "Epoch 0, Val Loss: 14322.573551100128, RMSE(mm): 59.83847748543601\n",
      "Epoch 0, test Loss: 11050.43669577206, RMSE(mm): 52.56052866879304\n"
     ]
    },
    {
     "name": "stderr",
     "output_type": "stream",
     "text": [
      "2it [00:00, 18.49it/s]"
     ]
    },
    {
     "name": "stdout",
     "output_type": "stream",
     "text": [
      "Epoch 1, Batch 0, Loss: 8384.607421875 RMSE(mm): 45.78375099823899\n"
     ]
    },
    {
     "name": "stderr",
     "output_type": "stream",
     "text": [
      "104it [00:05, 17.77it/s]"
     ]
    },
    {
     "name": "stdout",
     "output_type": "stream",
     "text": [
      "Epoch 1, Batch 100, Loss: 11823.740234375 RMSE(mm): 54.36851164593114\n"
     ]
    },
    {
     "name": "stderr",
     "output_type": "stream",
     "text": [
      "204it [00:11, 18.00it/s]"
     ]
    },
    {
     "name": "stdout",
     "output_type": "stream",
     "text": [
      "Epoch 1, Batch 200, Loss: 12229.96875 RMSE(mm): 55.29459455950464\n"
     ]
    },
    {
     "name": "stderr",
     "output_type": "stream",
     "text": [
      "236it [00:13, 18.00it/s]\n"
     ]
    },
    {
     "name": "stdout",
     "output_type": "stream",
     "text": [
      "Epoch 1, Val Loss: 14322.573551100128, RMSE(mm): 59.83847748543601\n",
      "Epoch 1, test Loss: 11050.43669577206, RMSE(mm): 52.56052866879304\n"
     ]
    },
    {
     "name": "stderr",
     "output_type": "stream",
     "text": [
      "2it [00:00, 17.93it/s]"
     ]
    },
    {
     "name": "stdout",
     "output_type": "stream",
     "text": [
      "Epoch 2, Batch 0, Loss: 8391.0654296875 RMSE(mm): 45.80137942706393\n"
     ]
    },
    {
     "name": "stderr",
     "output_type": "stream",
     "text": [
      "104it [00:05, 17.86it/s]"
     ]
    },
    {
     "name": "stdout",
     "output_type": "stream",
     "text": [
      "Epoch 2, Batch 100, Loss: 11945.853515625 RMSE(mm): 54.648544160903775\n"
     ]
    },
    {
     "name": "stderr",
     "output_type": "stream",
     "text": [
      "204it [00:11, 17.98it/s]"
     ]
    },
    {
     "name": "stdout",
     "output_type": "stream",
     "text": [
      "Epoch 2, Batch 200, Loss: 12084.8515625 RMSE(mm): 54.965560950698936\n"
     ]
    },
    {
     "name": "stderr",
     "output_type": "stream",
     "text": [
      "236it [00:13, 17.89it/s]\n"
     ]
    },
    {
     "name": "stdout",
     "output_type": "stream",
     "text": [
      "Epoch 2, Val Loss: 14322.573551100128, RMSE(mm): 59.83847748543601\n",
      "Epoch 2, test Loss: 11050.43669577206, RMSE(mm): 52.56052866879304\n"
     ]
    },
    {
     "name": "stderr",
     "output_type": "stream",
     "text": [
      "2it [00:00, 18.34it/s]"
     ]
    },
    {
     "name": "stdout",
     "output_type": "stream",
     "text": [
      "Epoch 3, Batch 0, Loss: 8367.0966796875 RMSE(mm): 45.735917722528264\n"
     ]
    },
    {
     "name": "stderr",
     "output_type": "stream",
     "text": [
      "104it [00:05, 17.82it/s]"
     ]
    },
    {
     "name": "stdout",
     "output_type": "stream",
     "text": [
      "Epoch 3, Batch 100, Loss: 11890.330078125 RMSE(mm): 54.521395062225345\n"
     ]
    },
    {
     "name": "stderr",
     "output_type": "stream",
     "text": [
      "204it [00:11, 17.69it/s]"
     ]
    },
    {
     "name": "stdout",
     "output_type": "stream",
     "text": [
      "Epoch 3, Batch 200, Loss: 12120.9970703125 RMSE(mm): 55.0476999299528\n"
     ]
    },
    {
     "name": "stderr",
     "output_type": "stream",
     "text": [
      "236it [00:13, 17.79it/s]\n"
     ]
    },
    {
     "name": "stdout",
     "output_type": "stream",
     "text": [
      "Epoch 3, Val Loss: 14322.573551100128, RMSE(mm): 59.83847748543601\n",
      "Epoch 3, test Loss: 11050.43669577206, RMSE(mm): 52.56052866879304\n"
     ]
    },
    {
     "name": "stderr",
     "output_type": "stream",
     "text": [
      "2it [00:00, 18.43it/s]"
     ]
    },
    {
     "name": "stdout",
     "output_type": "stream",
     "text": [
      "Epoch 4, Batch 0, Loss: 8321.9599609375 RMSE(mm): 45.61238856094224\n"
     ]
    },
    {
     "name": "stderr",
     "output_type": "stream",
     "text": [
      "104it [00:05, 18.07it/s]"
     ]
    },
    {
     "name": "stdout",
     "output_type": "stream",
     "text": [
      "Epoch 4, Batch 100, Loss: 12026.427734375 RMSE(mm): 54.832535356244016\n"
     ]
    },
    {
     "name": "stderr",
     "output_type": "stream",
     "text": [
      "204it [00:11, 17.66it/s]"
     ]
    },
    {
     "name": "stdout",
     "output_type": "stream",
     "text": [
      "Epoch 4, Batch 200, Loss: 12149.14453125 RMSE(mm): 55.1115789359414\n"
     ]
    },
    {
     "name": "stderr",
     "output_type": "stream",
     "text": [
      "236it [00:13, 17.96it/s]\n"
     ]
    },
    {
     "name": "stdout",
     "output_type": "stream",
     "text": [
      "Epoch 4, Val Loss: 14322.573551100128, RMSE(mm): 59.83847748543601\n",
      "Epoch 4, test Loss: 11050.43669577206, RMSE(mm): 52.56052866879304\n"
     ]
    },
    {
     "name": "stderr",
     "output_type": "stream",
     "text": [
      "2it [00:00, 17.62it/s]"
     ]
    },
    {
     "name": "stdout",
     "output_type": "stream",
     "text": [
      "Epoch 5, Batch 0, Loss: 8315.8125 RMSE(mm): 45.59553843305285\n"
     ]
    },
    {
     "name": "stderr",
     "output_type": "stream",
     "text": [
      "104it [00:05, 18.06it/s]"
     ]
    },
    {
     "name": "stdout",
     "output_type": "stream",
     "text": [
      "Epoch 5, Batch 100, Loss: 12106.306640625 RMSE(mm): 55.01433140697295\n"
     ]
    },
    {
     "name": "stderr",
     "output_type": "stream",
     "text": [
      "204it [00:11, 17.84it/s]"
     ]
    },
    {
     "name": "stdout",
     "output_type": "stream",
     "text": [
      "Epoch 5, Batch 200, Loss: 12005.7939453125 RMSE(mm): 54.78547696541598\n"
     ]
    },
    {
     "name": "stderr",
     "output_type": "stream",
     "text": [
      "236it [00:13, 17.95it/s]\n"
     ]
    },
    {
     "name": "stdout",
     "output_type": "stream",
     "text": [
      "Epoch 5, Val Loss: 14322.573551100128, RMSE(mm): 59.83847748543601\n",
      "Epoch 5, test Loss: 11050.43669577206, RMSE(mm): 52.56052866879304\n"
     ]
    },
    {
     "name": "stderr",
     "output_type": "stream",
     "text": [
      "2it [00:00, 18.10it/s]"
     ]
    },
    {
     "name": "stdout",
     "output_type": "stream",
     "text": [
      "Epoch 6, Batch 0, Loss: 8324.572265625 RMSE(mm): 45.61954697721416\n"
     ]
    },
    {
     "name": "stderr",
     "output_type": "stream",
     "text": [
      "104it [00:05, 18.05it/s]"
     ]
    },
    {
     "name": "stdout",
     "output_type": "stream",
     "text": [
      "Epoch 6, Batch 100, Loss: 11997.623046875 RMSE(mm): 54.76683085334361\n"
     ]
    },
    {
     "name": "stderr",
     "output_type": "stream",
     "text": [
      "204it [00:11, 17.96it/s]"
     ]
    },
    {
     "name": "stdout",
     "output_type": "stream",
     "text": [
      "Epoch 6, Batch 200, Loss: 12031.68359375 RMSE(mm): 54.84451566417102\n"
     ]
    },
    {
     "name": "stderr",
     "output_type": "stream",
     "text": [
      "236it [00:13, 18.02it/s]\n"
     ]
    },
    {
     "name": "stdout",
     "output_type": "stream",
     "text": [
      "Epoch 6, Val Loss: 14322.573551100128, RMSE(mm): 59.83847748543601\n",
      "Epoch 6, test Loss: 11050.43669577206, RMSE(mm): 52.56052866879304\n"
     ]
    },
    {
     "name": "stderr",
     "output_type": "stream",
     "text": [
      "2it [00:00, 17.92it/s]"
     ]
    },
    {
     "name": "stdout",
     "output_type": "stream",
     "text": [
      "Epoch 7, Batch 0, Loss: 8374.033203125 RMSE(mm): 45.75487188028451\n"
     ]
    },
    {
     "name": "stderr",
     "output_type": "stream",
     "text": [
      "104it [00:05, 17.85it/s]"
     ]
    },
    {
     "name": "stdout",
     "output_type": "stream",
     "text": [
      "Epoch 7, Batch 100, Loss: 12088.65625 RMSE(mm): 54.974212704685456\n"
     ]
    },
    {
     "name": "stderr",
     "output_type": "stream",
     "text": [
      "204it [00:11, 18.00it/s]"
     ]
    },
    {
     "name": "stdout",
     "output_type": "stream",
     "text": [
      "Epoch 7, Batch 200, Loss: 12039.693359375 RMSE(mm): 54.86276824809107\n"
     ]
    },
    {
     "name": "stderr",
     "output_type": "stream",
     "text": [
      "236it [00:13, 17.93it/s]\n"
     ]
    },
    {
     "name": "stdout",
     "output_type": "stream",
     "text": [
      "Epoch 7, Val Loss: 14322.573551100128, RMSE(mm): 59.83847748543601\n",
      "Epoch 7, test Loss: 11050.43669577206, RMSE(mm): 52.56052866879304\n"
     ]
    },
    {
     "name": "stderr",
     "output_type": "stream",
     "text": [
      "2it [00:00, 18.35it/s]"
     ]
    },
    {
     "name": "stdout",
     "output_type": "stream",
     "text": [
      "Epoch 8, Batch 0, Loss: 8394.3232421875 RMSE(mm): 45.81026970611366\n"
     ]
    },
    {
     "name": "stderr",
     "output_type": "stream",
     "text": [
      "104it [00:05, 17.95it/s]"
     ]
    },
    {
     "name": "stdout",
     "output_type": "stream",
     "text": [
      "Epoch 8, Batch 100, Loss: 11799.9560546875 RMSE(mm): 54.31380131855876\n"
     ]
    },
    {
     "name": "stderr",
     "output_type": "stream",
     "text": [
      "204it [00:11, 18.02it/s]"
     ]
    },
    {
     "name": "stdout",
     "output_type": "stream",
     "text": [
      "Epoch 8, Batch 200, Loss: 11918.11328125 RMSE(mm): 54.585055833190275\n"
     ]
    },
    {
     "name": "stderr",
     "output_type": "stream",
     "text": [
      "236it [00:13, 18.05it/s]\n"
     ]
    },
    {
     "name": "stdout",
     "output_type": "stream",
     "text": [
      "Epoch 8, Val Loss: 14322.573551100128, RMSE(mm): 59.83847748543601\n",
      "Epoch 8, test Loss: 11050.43669577206, RMSE(mm): 52.56052866879304\n"
     ]
    },
    {
     "name": "stderr",
     "output_type": "stream",
     "text": [
      "2it [00:00, 17.94it/s]"
     ]
    },
    {
     "name": "stdout",
     "output_type": "stream",
     "text": [
      "Epoch 9, Batch 0, Loss: 8409.412109375 RMSE(mm): 45.85142339495852\n"
     ]
    },
    {
     "name": "stderr",
     "output_type": "stream",
     "text": [
      "104it [00:05, 18.12it/s]"
     ]
    },
    {
     "name": "stdout",
     "output_type": "stream",
     "text": [
      "Epoch 9, Batch 100, Loss: 11983.859375 RMSE(mm): 54.735407587319564\n"
     ]
    },
    {
     "name": "stderr",
     "output_type": "stream",
     "text": [
      "204it [00:11, 17.91it/s]"
     ]
    },
    {
     "name": "stdout",
     "output_type": "stream",
     "text": [
      "Epoch 9, Batch 200, Loss: 11937.1533203125 RMSE(mm): 54.62864019979012\n"
     ]
    },
    {
     "name": "stderr",
     "output_type": "stream",
     "text": [
      "236it [00:13, 17.96it/s]\n"
     ]
    },
    {
     "name": "stdout",
     "output_type": "stream",
     "text": [
      "Epoch 9, Val Loss: 14322.573551100128, RMSE(mm): 59.83847748543601\n",
      "Epoch 9, test Loss: 11050.43669577206, RMSE(mm): 52.56052866879304\n"
     ]
    },
    {
     "name": "stderr",
     "output_type": "stream",
     "text": [
      "2it [00:00, 17.62it/s]"
     ]
    },
    {
     "name": "stdout",
     "output_type": "stream",
     "text": [
      "Epoch 10, Batch 0, Loss: 8407.583984375 RMSE(mm): 45.84643929569395\n"
     ]
    },
    {
     "name": "stderr",
     "output_type": "stream",
     "text": [
      "104it [00:05, 18.02it/s]"
     ]
    },
    {
     "name": "stdout",
     "output_type": "stream",
     "text": [
      "Epoch 10, Batch 100, Loss: 11943.0087890625 RMSE(mm): 54.64203690626499\n"
     ]
    },
    {
     "name": "stderr",
     "output_type": "stream",
     "text": [
      "204it [00:11, 17.92it/s]"
     ]
    },
    {
     "name": "stdout",
     "output_type": "stream",
     "text": [
      "Epoch 10, Batch 200, Loss: 12149.2109375 RMSE(mm): 55.11172955347165\n"
     ]
    },
    {
     "name": "stderr",
     "output_type": "stream",
     "text": [
      "236it [00:13, 18.02it/s]\n"
     ]
    },
    {
     "name": "stdout",
     "output_type": "stream",
     "text": [
      "Epoch 10, Val Loss: 14322.573551100128, RMSE(mm): 59.83847748543601\n",
      "Epoch 10, test Loss: 11050.43669577206, RMSE(mm): 52.56052866879304\n"
     ]
    },
    {
     "name": "stderr",
     "output_type": "stream",
     "text": [
      "2it [00:00, 17.98it/s]"
     ]
    },
    {
     "name": "stdout",
     "output_type": "stream",
     "text": [
      "Epoch 11, Batch 0, Loss: 8509.7607421875 RMSE(mm): 46.12418222090095\n"
     ]
    },
    {
     "name": "stderr",
     "output_type": "stream",
     "text": [
      "104it [00:05, 18.00it/s]"
     ]
    },
    {
     "name": "stdout",
     "output_type": "stream",
     "text": [
      "Epoch 11, Batch 100, Loss: 11898.822265625 RMSE(mm): 54.540861438065406\n"
     ]
    },
    {
     "name": "stderr",
     "output_type": "stream",
     "text": [
      "204it [00:11, 17.93it/s]"
     ]
    },
    {
     "name": "stdout",
     "output_type": "stream",
     "text": [
      "Epoch 11, Batch 200, Loss: 12183.990234375 RMSE(mm): 55.19055678822012\n"
     ]
    },
    {
     "name": "stderr",
     "output_type": "stream",
     "text": [
      "236it [00:13, 17.96it/s]\n"
     ]
    },
    {
     "name": "stdout",
     "output_type": "stream",
     "text": [
      "Epoch 11, Val Loss: 14322.573551100128, RMSE(mm): 59.83847748543601\n",
      "Epoch 11, test Loss: 11050.43669577206, RMSE(mm): 52.56052866879304\n"
     ]
    },
    {
     "name": "stderr",
     "output_type": "stream",
     "text": [
      "2it [00:00, 18.46it/s]"
     ]
    },
    {
     "name": "stdout",
     "output_type": "stream",
     "text": [
      "Epoch 12, Batch 0, Loss: 8463.150390625 RMSE(mm): 45.99769122093249\n"
     ]
    },
    {
     "name": "stderr",
     "output_type": "stream",
     "text": [
      "104it [00:05, 18.00it/s]"
     ]
    },
    {
     "name": "stdout",
     "output_type": "stream",
     "text": [
      "Epoch 12, Batch 100, Loss: 12020.8828125 RMSE(mm): 54.81989331552005\n"
     ]
    },
    {
     "name": "stderr",
     "output_type": "stream",
     "text": [
      "204it [00:11, 17.83it/s]"
     ]
    },
    {
     "name": "stdout",
     "output_type": "stream",
     "text": [
      "Epoch 12, Batch 200, Loss: 12156.8095703125 RMSE(mm): 55.128961468343704\n"
     ]
    },
    {
     "name": "stderr",
     "output_type": "stream",
     "text": [
      "236it [00:13, 18.01it/s]\n"
     ]
    },
    {
     "name": "stdout",
     "output_type": "stream",
     "text": [
      "Epoch 12, Val Loss: 14322.573551100128, RMSE(mm): 59.83847748543601\n",
      "Epoch 12, test Loss: 11050.43669577206, RMSE(mm): 52.56052866879304\n"
     ]
    },
    {
     "name": "stderr",
     "output_type": "stream",
     "text": [
      "2it [00:00, 18.37it/s]"
     ]
    },
    {
     "name": "stdout",
     "output_type": "stream",
     "text": [
      "Epoch 13, Batch 0, Loss: 8323.0888671875 RMSE(mm): 45.61548220502415\n"
     ]
    },
    {
     "name": "stderr",
     "output_type": "stream",
     "text": [
      "104it [00:05, 18.13it/s]"
     ]
    },
    {
     "name": "stdout",
     "output_type": "stream",
     "text": [
      "Epoch 13, Batch 100, Loss: 12226.3857421875 RMSE(mm): 55.28649415134654\n"
     ]
    },
    {
     "name": "stderr",
     "output_type": "stream",
     "text": [
      "204it [00:11, 17.85it/s]"
     ]
    },
    {
     "name": "stdout",
     "output_type": "stream",
     "text": [
      "Epoch 13, Batch 200, Loss: 12159.1787109375 RMSE(mm): 55.13433302157899\n"
     ]
    },
    {
     "name": "stderr",
     "output_type": "stream",
     "text": [
      "236it [00:13, 18.00it/s]\n"
     ]
    },
    {
     "name": "stdout",
     "output_type": "stream",
     "text": [
      "Epoch 13, Val Loss: 14322.573551100128, RMSE(mm): 59.83847748543601\n",
      "Epoch 13, test Loss: 11050.43669577206, RMSE(mm): 52.56052866879304\n"
     ]
    },
    {
     "name": "stderr",
     "output_type": "stream",
     "text": [
      "2it [00:00, 17.78it/s]"
     ]
    },
    {
     "name": "stdout",
     "output_type": "stream",
     "text": [
      "Epoch 14, Batch 0, Loss: 8446.7890625 RMSE(mm): 45.953207348617134\n"
     ]
    },
    {
     "name": "stderr",
     "output_type": "stream",
     "text": [
      "104it [00:05, 17.95it/s]"
     ]
    },
    {
     "name": "stdout",
     "output_type": "stream",
     "text": [
      "Epoch 14, Batch 100, Loss: 11808.0263671875 RMSE(mm): 54.33237149063967\n"
     ]
    },
    {
     "name": "stderr",
     "output_type": "stream",
     "text": [
      "204it [00:11, 18.10it/s]"
     ]
    },
    {
     "name": "stdout",
     "output_type": "stream",
     "text": [
      "Epoch 14, Batch 200, Loss: 11994.0 RMSE(mm): 54.75856097451795\n"
     ]
    },
    {
     "name": "stderr",
     "output_type": "stream",
     "text": [
      "236it [00:13, 17.95it/s]\n"
     ]
    },
    {
     "name": "stdout",
     "output_type": "stream",
     "text": [
      "Epoch 14, Val Loss: 14322.573551100128, RMSE(mm): 59.83847748543601\n",
      "Epoch 14, test Loss: 11050.43669577206, RMSE(mm): 52.56052866879304\n",
      "create dataloader...\n",
      "HI\n",
      "training...\n"
     ]
    },
    {
     "name": "stderr",
     "output_type": "stream",
     "text": [
      "2it [00:00, 17.39it/s]"
     ]
    },
    {
     "name": "stdout",
     "output_type": "stream",
     "text": [
      "Epoch 0, Batch 0, Loss: 8303.5498046875 RMSE(mm): 45.56190789652992\n"
     ]
    },
    {
     "name": "stderr",
     "output_type": "stream",
     "text": [
      "104it [00:05, 18.18it/s]"
     ]
    },
    {
     "name": "stdout",
     "output_type": "stream",
     "text": [
      "Epoch 0, Batch 100, Loss: 11976.73828125 RMSE(mm): 54.71914263137261\n"
     ]
    },
    {
     "name": "stderr",
     "output_type": "stream",
     "text": [
      "204it [00:11, 18.14it/s]"
     ]
    },
    {
     "name": "stdout",
     "output_type": "stream",
     "text": [
      "Epoch 0, Batch 200, Loss: 11975.587890625 RMSE(mm): 54.71651462452858\n"
     ]
    },
    {
     "name": "stderr",
     "output_type": "stream",
     "text": [
      "236it [00:13, 17.97it/s]\n"
     ]
    },
    {
     "name": "stdout",
     "output_type": "stream",
     "text": [
      "Epoch 0, Val Loss: 14322.573551100128, RMSE(mm): 59.83847748543601\n",
      "Epoch 0, test Loss: 11050.43669577206, RMSE(mm): 52.56052866879304\n"
     ]
    },
    {
     "name": "stderr",
     "output_type": "stream",
     "text": [
      "2it [00:00, 18.17it/s]"
     ]
    },
    {
     "name": "stdout",
     "output_type": "stream",
     "text": [
      "Epoch 1, Batch 0, Loss: 8339.923828125 RMSE(mm): 45.66159170496852\n"
     ]
    },
    {
     "name": "stderr",
     "output_type": "stream",
     "text": [
      "104it [00:05, 17.94it/s]"
     ]
    },
    {
     "name": "stdout",
     "output_type": "stream",
     "text": [
      "Epoch 1, Batch 100, Loss: 11957.05078125 RMSE(mm): 54.67415015628958\n"
     ]
    },
    {
     "name": "stderr",
     "output_type": "stream",
     "text": [
      "204it [00:11, 18.05it/s]"
     ]
    },
    {
     "name": "stdout",
     "output_type": "stream",
     "text": [
      "Epoch 1, Batch 200, Loss: 11855.6279296875 RMSE(mm): 54.441776077033666\n"
     ]
    },
    {
     "name": "stderr",
     "output_type": "stream",
     "text": [
      "236it [00:13, 17.94it/s]\n"
     ]
    },
    {
     "name": "stdout",
     "output_type": "stream",
     "text": [
      "Epoch 1, Val Loss: 14322.573551100128, RMSE(mm): 59.83847748543601\n",
      "Epoch 1, test Loss: 11050.43669577206, RMSE(mm): 52.56052866879304\n"
     ]
    },
    {
     "name": "stderr",
     "output_type": "stream",
     "text": [
      "2it [00:00, 18.32it/s]"
     ]
    },
    {
     "name": "stdout",
     "output_type": "stream",
     "text": [
      "Epoch 2, Batch 0, Loss: 8240.216796875 RMSE(mm): 45.387819943446836\n"
     ]
    },
    {
     "name": "stderr",
     "output_type": "stream",
     "text": [
      "104it [00:05, 18.10it/s]"
     ]
    },
    {
     "name": "stdout",
     "output_type": "stream",
     "text": [
      "Epoch 2, Batch 100, Loss: 11859.791015625 RMSE(mm): 54.45133381200363\n"
     ]
    },
    {
     "name": "stderr",
     "output_type": "stream",
     "text": [
      "204it [00:11, 17.82it/s]"
     ]
    },
    {
     "name": "stdout",
     "output_type": "stream",
     "text": [
      "Epoch 2, Batch 200, Loss: 12074.7998046875 RMSE(mm): 54.94269697759544\n"
     ]
    },
    {
     "name": "stderr",
     "output_type": "stream",
     "text": [
      "236it [00:13, 17.99it/s]\n"
     ]
    },
    {
     "name": "stdout",
     "output_type": "stream",
     "text": [
      "Epoch 2, Val Loss: 14322.573551100128, RMSE(mm): 59.83847748543601\n",
      "Epoch 2, test Loss: 11050.43669577206, RMSE(mm): 52.56052866879304\n"
     ]
    },
    {
     "name": "stderr",
     "output_type": "stream",
     "text": [
      "2it [00:00, 17.78it/s]"
     ]
    },
    {
     "name": "stdout",
     "output_type": "stream",
     "text": [
      "Epoch 3, Batch 0, Loss: 8353.076171875 RMSE(mm): 45.69758246306636\n"
     ]
    },
    {
     "name": "stderr",
     "output_type": "stream",
     "text": [
      "104it [00:05, 18.28it/s]"
     ]
    },
    {
     "name": "stdout",
     "output_type": "stream",
     "text": [
      "Epoch 3, Batch 100, Loss: 12049.8017578125 RMSE(mm): 54.88579451418304\n"
     ]
    },
    {
     "name": "stderr",
     "output_type": "stream",
     "text": [
      "204it [00:11, 17.91it/s]"
     ]
    },
    {
     "name": "stdout",
     "output_type": "stream",
     "text": [
      "Epoch 3, Batch 200, Loss: 12025.5888671875 RMSE(mm): 54.83062298384795\n"
     ]
    },
    {
     "name": "stderr",
     "output_type": "stream",
     "text": [
      "236it [00:13, 18.00it/s]\n"
     ]
    },
    {
     "name": "stdout",
     "output_type": "stream",
     "text": [
      "Epoch 3, Val Loss: 14322.573551100128, RMSE(mm): 59.83847748543601\n",
      "Epoch 3, test Loss: 11050.43669577206, RMSE(mm): 52.56052866879304\n"
     ]
    },
    {
     "name": "stderr",
     "output_type": "stream",
     "text": [
      "2it [00:00, 17.78it/s]"
     ]
    },
    {
     "name": "stdout",
     "output_type": "stream",
     "text": [
      "Epoch 4, Batch 0, Loss: 8388.263671875 RMSE(mm): 45.793732300051175\n"
     ]
    },
    {
     "name": "stderr",
     "output_type": "stream",
     "text": [
      "104it [00:05, 17.86it/s]"
     ]
    },
    {
     "name": "stdout",
     "output_type": "stream",
     "text": [
      "Epoch 4, Batch 100, Loss: 11924.486328125 RMSE(mm): 54.599648185965904\n"
     ]
    },
    {
     "name": "stderr",
     "output_type": "stream",
     "text": [
      "204it [00:11, 18.02it/s]"
     ]
    },
    {
     "name": "stdout",
     "output_type": "stream",
     "text": [
      "Epoch 4, Batch 200, Loss: 12115.55859375 RMSE(mm): 55.0353490807272\n"
     ]
    },
    {
     "name": "stderr",
     "output_type": "stream",
     "text": [
      "236it [00:13, 18.03it/s]\n"
     ]
    },
    {
     "name": "stdout",
     "output_type": "stream",
     "text": [
      "Epoch 4, Val Loss: 14322.573551100128, RMSE(mm): 59.83847748543601\n",
      "Epoch 4, test Loss: 11050.43669577206, RMSE(mm): 52.56052866879304\n"
     ]
    },
    {
     "name": "stderr",
     "output_type": "stream",
     "text": [
      "2it [00:00, 17.68it/s]"
     ]
    },
    {
     "name": "stdout",
     "output_type": "stream",
     "text": [
      "Epoch 5, Batch 0, Loss: 8394.048828125 RMSE(mm): 45.80952092121517\n"
     ]
    },
    {
     "name": "stderr",
     "output_type": "stream",
     "text": [
      "104it [00:05, 17.93it/s]"
     ]
    },
    {
     "name": "stdout",
     "output_type": "stream",
     "text": [
      "Epoch 5, Batch 100, Loss: 11795.6982421875 RMSE(mm): 54.30400133090448\n"
     ]
    },
    {
     "name": "stderr",
     "output_type": "stream",
     "text": [
      "204it [00:11, 17.57it/s]"
     ]
    },
    {
     "name": "stdout",
     "output_type": "stream",
     "text": [
      "Epoch 5, Batch 200, Loss: 12034.1767578125 RMSE(mm): 54.85019771571589\n"
     ]
    },
    {
     "name": "stderr",
     "output_type": "stream",
     "text": [
      "236it [00:13, 17.92it/s]\n"
     ]
    },
    {
     "name": "stdout",
     "output_type": "stream",
     "text": [
      "Epoch 5, Val Loss: 14322.573551100128, RMSE(mm): 59.83847748543601\n",
      "Epoch 5, test Loss: 11050.43669577206, RMSE(mm): 52.56052866879304\n"
     ]
    },
    {
     "name": "stderr",
     "output_type": "stream",
     "text": [
      "2it [00:00, 18.26it/s]"
     ]
    },
    {
     "name": "stdout",
     "output_type": "stream",
     "text": [
      "Epoch 6, Batch 0, Loss: 8301.22265625 RMSE(mm): 45.555522871134954\n"
     ]
    },
    {
     "name": "stderr",
     "output_type": "stream",
     "text": [
      "104it [00:05, 17.96it/s]"
     ]
    },
    {
     "name": "stdout",
     "output_type": "stream",
     "text": [
      "Epoch 6, Batch 100, Loss: 12000.3076171875 RMSE(mm): 54.77295778298699\n"
     ]
    },
    {
     "name": "stderr",
     "output_type": "stream",
     "text": [
      "204it [00:11, 17.54it/s]"
     ]
    },
    {
     "name": "stdout",
     "output_type": "stream",
     "text": [
      "Epoch 6, Batch 200, Loss: 12153.044921875 RMSE(mm): 55.12042480305055\n"
     ]
    },
    {
     "name": "stderr",
     "output_type": "stream",
     "text": [
      "236it [00:13, 17.88it/s]\n"
     ]
    },
    {
     "name": "stdout",
     "output_type": "stream",
     "text": [
      "Epoch 6, Val Loss: 14322.573551100128, RMSE(mm): 59.83847748543601\n",
      "Epoch 6, test Loss: 11050.43669577206, RMSE(mm): 52.56052866879304\n"
     ]
    },
    {
     "name": "stderr",
     "output_type": "stream",
     "text": [
      "2it [00:00, 18.26it/s]"
     ]
    },
    {
     "name": "stdout",
     "output_type": "stream",
     "text": [
      "Epoch 7, Batch 0, Loss: 8185.97216796875 RMSE(mm): 45.23818124098478\n"
     ]
    },
    {
     "name": "stderr",
     "output_type": "stream",
     "text": [
      "104it [00:05, 18.07it/s]"
     ]
    },
    {
     "name": "stdout",
     "output_type": "stream",
     "text": [
      "Epoch 7, Batch 100, Loss: 11943.259765625 RMSE(mm): 54.64261104125836\n"
     ]
    },
    {
     "name": "stderr",
     "output_type": "stream",
     "text": [
      "204it [00:11, 17.87it/s]"
     ]
    },
    {
     "name": "stdout",
     "output_type": "stream",
     "text": [
      "Epoch 7, Batch 200, Loss: 12180.326171875 RMSE(mm): 55.18225750156249\n"
     ]
    },
    {
     "name": "stderr",
     "output_type": "stream",
     "text": [
      "236it [00:13, 17.88it/s]\n"
     ]
    },
    {
     "name": "stdout",
     "output_type": "stream",
     "text": [
      "Epoch 7, Val Loss: 14322.573551100128, RMSE(mm): 59.83847748543601\n",
      "Epoch 7, test Loss: 11050.43669577206, RMSE(mm): 52.56052866879304\n"
     ]
    },
    {
     "name": "stderr",
     "output_type": "stream",
     "text": [
      "2it [00:00, 17.47it/s]"
     ]
    },
    {
     "name": "stdout",
     "output_type": "stream",
     "text": [
      "Epoch 8, Batch 0, Loss: 8176.8701171875 RMSE(mm): 45.213023890211936\n"
     ]
    },
    {
     "name": "stderr",
     "output_type": "stream",
     "text": [
      "104it [00:05, 18.00it/s]"
     ]
    },
    {
     "name": "stdout",
     "output_type": "stream",
     "text": [
      "Epoch 8, Batch 100, Loss: 11811.71484375 RMSE(mm): 54.340856737242376\n"
     ]
    },
    {
     "name": "stderr",
     "output_type": "stream",
     "text": [
      "204it [00:11, 17.90it/s]"
     ]
    },
    {
     "name": "stdout",
     "output_type": "stream",
     "text": [
      "Epoch 8, Batch 200, Loss: 12057.294921875 RMSE(mm): 54.90285721589314\n"
     ]
    },
    {
     "name": "stderr",
     "output_type": "stream",
     "text": [
      "236it [00:13, 17.99it/s]\n"
     ]
    },
    {
     "name": "stdout",
     "output_type": "stream",
     "text": [
      "Epoch 8, Val Loss: 14322.573551100128, RMSE(mm): 59.83847748543601\n",
      "Epoch 8, test Loss: 11050.43669577206, RMSE(mm): 52.56052866879304\n"
     ]
    },
    {
     "name": "stderr",
     "output_type": "stream",
     "text": [
      "2it [00:00, 18.10it/s]"
     ]
    },
    {
     "name": "stdout",
     "output_type": "stream",
     "text": [
      "Epoch 9, Batch 0, Loss: 8305.701171875 RMSE(mm): 45.56780983291549\n"
     ]
    },
    {
     "name": "stderr",
     "output_type": "stream",
     "text": [
      "104it [00:05, 17.84it/s]"
     ]
    },
    {
     "name": "stdout",
     "output_type": "stream",
     "text": [
      "Epoch 9, Batch 100, Loss: 11815.4658203125 RMSE(mm): 54.34948440489684\n"
     ]
    },
    {
     "name": "stderr",
     "output_type": "stream",
     "text": [
      "204it [00:11, 17.89it/s]"
     ]
    },
    {
     "name": "stdout",
     "output_type": "stream",
     "text": [
      "Epoch 9, Batch 200, Loss: 12245.8857421875 RMSE(mm): 55.3305651114\n"
     ]
    },
    {
     "name": "stderr",
     "output_type": "stream",
     "text": [
      "236it [00:13, 17.95it/s]\n"
     ]
    },
    {
     "name": "stdout",
     "output_type": "stream",
     "text": [
      "Epoch 9, Val Loss: 14322.573551100128, RMSE(mm): 59.83847748543601\n",
      "Epoch 9, test Loss: 11050.43669577206, RMSE(mm): 52.56052866879304\n"
     ]
    },
    {
     "name": "stderr",
     "output_type": "stream",
     "text": [
      "2it [00:00, 18.60it/s]"
     ]
    },
    {
     "name": "stdout",
     "output_type": "stream",
     "text": [
      "Epoch 10, Batch 0, Loss: 8460.744140625 RMSE(mm): 45.991151705042675\n"
     ]
    },
    {
     "name": "stderr",
     "output_type": "stream",
     "text": [
      "104it [00:05, 17.95it/s]"
     ]
    },
    {
     "name": "stdout",
     "output_type": "stream",
     "text": [
      "Epoch 10, Batch 100, Loss: 11944.978515625 RMSE(mm): 54.646542698566485\n"
     ]
    },
    {
     "name": "stderr",
     "output_type": "stream",
     "text": [
      "204it [00:11, 17.92it/s]"
     ]
    },
    {
     "name": "stdout",
     "output_type": "stream",
     "text": [
      "Epoch 10, Batch 200, Loss: 11887.8876953125 RMSE(mm): 54.515795177435734\n"
     ]
    },
    {
     "name": "stderr",
     "output_type": "stream",
     "text": [
      "236it [00:13, 18.02it/s]\n"
     ]
    },
    {
     "name": "stdout",
     "output_type": "stream",
     "text": [
      "Epoch 10, Val Loss: 14322.573551100128, RMSE(mm): 59.83847748543601\n",
      "Epoch 10, test Loss: 11050.43669577206, RMSE(mm): 52.56052866879304\n"
     ]
    },
    {
     "name": "stderr",
     "output_type": "stream",
     "text": [
      "2it [00:00, 17.67it/s]"
     ]
    },
    {
     "name": "stdout",
     "output_type": "stream",
     "text": [
      "Epoch 11, Batch 0, Loss: 8400.2763671875 RMSE(mm): 45.82651079666523\n"
     ]
    },
    {
     "name": "stderr",
     "output_type": "stream",
     "text": [
      "104it [00:05, 18.10it/s]"
     ]
    },
    {
     "name": "stdout",
     "output_type": "stream",
     "text": [
      "Epoch 11, Batch 100, Loss: 12030.458984375 RMSE(mm): 54.84172449963395\n"
     ]
    },
    {
     "name": "stderr",
     "output_type": "stream",
     "text": [
      "204it [00:11, 17.79it/s]"
     ]
    },
    {
     "name": "stdout",
     "output_type": "stream",
     "text": [
      "Epoch 11, Batch 200, Loss: 12060.634765625 RMSE(mm): 54.91046067377554\n"
     ]
    },
    {
     "name": "stderr",
     "output_type": "stream",
     "text": [
      "236it [00:13, 17.94it/s]\n"
     ]
    },
    {
     "name": "stdout",
     "output_type": "stream",
     "text": [
      "Epoch 11, Val Loss: 14322.573551100128, RMSE(mm): 59.83847748543601\n",
      "Epoch 11, test Loss: 11050.43669577206, RMSE(mm): 52.56052866879304\n"
     ]
    },
    {
     "name": "stderr",
     "output_type": "stream",
     "text": [
      "2it [00:00, 18.18it/s]"
     ]
    },
    {
     "name": "stdout",
     "output_type": "stream",
     "text": [
      "Epoch 12, Batch 0, Loss: 8359.234375 RMSE(mm): 45.71442435107326\n"
     ]
    },
    {
     "name": "stderr",
     "output_type": "stream",
     "text": [
      "104it [00:05, 18.16it/s]"
     ]
    },
    {
     "name": "stdout",
     "output_type": "stream",
     "text": [
      "Epoch 12, Batch 100, Loss: 12057.51171875 RMSE(mm): 54.903350805643\n"
     ]
    },
    {
     "name": "stderr",
     "output_type": "stream",
     "text": [
      "204it [00:11, 17.93it/s]"
     ]
    },
    {
     "name": "stdout",
     "output_type": "stream",
     "text": [
      "Epoch 12, Batch 200, Loss: 11984.15234375 RMSE(mm): 54.73607663997758\n"
     ]
    },
    {
     "name": "stderr",
     "output_type": "stream",
     "text": [
      "236it [00:13, 18.03it/s]\n"
     ]
    },
    {
     "name": "stdout",
     "output_type": "stream",
     "text": [
      "Epoch 12, Val Loss: 14322.573551100128, RMSE(mm): 59.83847748543601\n",
      "Epoch 12, test Loss: 11050.43669577206, RMSE(mm): 52.56052866879304\n"
     ]
    },
    {
     "name": "stderr",
     "output_type": "stream",
     "text": [
      "2it [00:00, 17.74it/s]"
     ]
    },
    {
     "name": "stdout",
     "output_type": "stream",
     "text": [
      "Epoch 13, Batch 0, Loss: 8374.27734375 RMSE(mm): 45.75553885528505\n"
     ]
    },
    {
     "name": "stderr",
     "output_type": "stream",
     "text": [
      "104it [00:05, 17.96it/s]"
     ]
    },
    {
     "name": "stdout",
     "output_type": "stream",
     "text": [
      "Epoch 13, Batch 100, Loss: 11892.9296875 RMSE(mm): 54.52735480357543\n"
     ]
    },
    {
     "name": "stderr",
     "output_type": "stream",
     "text": [
      "204it [00:11, 17.76it/s]"
     ]
    },
    {
     "name": "stdout",
     "output_type": "stream",
     "text": [
      "Epoch 13, Batch 200, Loss: 12178.462890625 RMSE(mm): 55.17803659660472\n"
     ]
    },
    {
     "name": "stderr",
     "output_type": "stream",
     "text": [
      "236it [00:13, 17.97it/s]\n"
     ]
    },
    {
     "name": "stdout",
     "output_type": "stream",
     "text": [
      "Epoch 13, Val Loss: 14322.573551100128, RMSE(mm): 59.83847748543601\n",
      "Epoch 13, test Loss: 11050.43669577206, RMSE(mm): 52.56052866879304\n"
     ]
    },
    {
     "name": "stderr",
     "output_type": "stream",
     "text": [
      "2it [00:00, 17.78it/s]"
     ]
    },
    {
     "name": "stdout",
     "output_type": "stream",
     "text": [
      "Epoch 14, Batch 0, Loss: 8480.6123046875 RMSE(mm): 46.04512000388179\n"
     ]
    },
    {
     "name": "stderr",
     "output_type": "stream",
     "text": [
      "104it [00:05, 17.86it/s]"
     ]
    },
    {
     "name": "stdout",
     "output_type": "stream",
     "text": [
      "Epoch 14, Batch 100, Loss: 12058.623046875 RMSE(mm): 54.90588093928327\n"
     ]
    },
    {
     "name": "stderr",
     "output_type": "stream",
     "text": [
      "204it [00:11, 17.83it/s]"
     ]
    },
    {
     "name": "stdout",
     "output_type": "stream",
     "text": [
      "Epoch 14, Batch 200, Loss: 12122.0390625 RMSE(mm): 55.05006599110486\n"
     ]
    },
    {
     "name": "stderr",
     "output_type": "stream",
     "text": [
      "236it [00:13, 17.99it/s]\n"
     ]
    },
    {
     "name": "stdout",
     "output_type": "stream",
     "text": [
      "Epoch 14, Val Loss: 14322.573551100128, RMSE(mm): 59.83847748543601\n",
      "Epoch 14, test Loss: 11050.43669577206, RMSE(mm): 52.56052866879304\n",
      "create dataloader...\n",
      "HI\n",
      "training...\n"
     ]
    },
    {
     "name": "stderr",
     "output_type": "stream",
     "text": [
      "2it [00:00, 17.02it/s]"
     ]
    },
    {
     "name": "stdout",
     "output_type": "stream",
     "text": [
      "Epoch 0, Batch 0, Loss: 8305.783203125 RMSE(mm): 45.568034857575874\n"
     ]
    },
    {
     "name": "stderr",
     "output_type": "stream",
     "text": [
      "104it [00:05, 18.02it/s]"
     ]
    },
    {
     "name": "stdout",
     "output_type": "stream",
     "text": [
      "Epoch 0, Batch 100, Loss: 12000.68359375 RMSE(mm): 54.77381581045363\n"
     ]
    },
    {
     "name": "stderr",
     "output_type": "stream",
     "text": [
      "204it [00:11, 17.96it/s]"
     ]
    },
    {
     "name": "stdout",
     "output_type": "stream",
     "text": [
      "Epoch 0, Batch 200, Loss: 11976.92578125 RMSE(mm): 54.7195709532933\n"
     ]
    },
    {
     "name": "stderr",
     "output_type": "stream",
     "text": [
      "236it [00:13, 17.92it/s]\n"
     ]
    },
    {
     "name": "stdout",
     "output_type": "stream",
     "text": [
      "Epoch 0, Val Loss: 14322.573551100128, RMSE(mm): 59.83847748543601\n",
      "Epoch 0, test Loss: 11050.43669577206, RMSE(mm): 52.56052866879304\n"
     ]
    },
    {
     "name": "stderr",
     "output_type": "stream",
     "text": [
      "2it [00:00, 17.62it/s]"
     ]
    },
    {
     "name": "stdout",
     "output_type": "stream",
     "text": [
      "Epoch 1, Batch 0, Loss: 8336.48828125 RMSE(mm): 45.65218582184757\n"
     ]
    },
    {
     "name": "stderr",
     "output_type": "stream",
     "text": [
      "104it [00:05, 17.79it/s]"
     ]
    },
    {
     "name": "stdout",
     "output_type": "stream",
     "text": [
      "Epoch 1, Batch 100, Loss: 11918.4150390625 RMSE(mm): 54.585746855434934\n"
     ]
    },
    {
     "name": "stderr",
     "output_type": "stream",
     "text": [
      "204it [00:11, 18.19it/s]"
     ]
    },
    {
     "name": "stdout",
     "output_type": "stream",
     "text": [
      "Epoch 1, Batch 200, Loss: 12010.5517578125 RMSE(mm): 54.79633144155843\n"
     ]
    },
    {
     "name": "stderr",
     "output_type": "stream",
     "text": [
      "236it [00:13, 17.91it/s]\n"
     ]
    },
    {
     "name": "stdout",
     "output_type": "stream",
     "text": [
      "Epoch 1, Val Loss: 14322.573551100128, RMSE(mm): 59.83847748543601\n",
      "Epoch 1, test Loss: 11050.43669577206, RMSE(mm): 52.56052866879304\n"
     ]
    },
    {
     "name": "stderr",
     "output_type": "stream",
     "text": [
      "2it [00:00, 18.26it/s]"
     ]
    },
    {
     "name": "stdout",
     "output_type": "stream",
     "text": [
      "Epoch 2, Batch 0, Loss: 8477.953125 RMSE(mm): 46.03790048699006\n"
     ]
    },
    {
     "name": "stderr",
     "output_type": "stream",
     "text": [
      "104it [00:05, 18.02it/s]"
     ]
    },
    {
     "name": "stdout",
     "output_type": "stream",
     "text": [
      "Epoch 2, Batch 100, Loss: 11960.0615234375 RMSE(mm): 54.681033099781274\n"
     ]
    },
    {
     "name": "stderr",
     "output_type": "stream",
     "text": [
      "204it [00:11, 18.00it/s]"
     ]
    },
    {
     "name": "stdout",
     "output_type": "stream",
     "text": [
      "Epoch 2, Batch 200, Loss: 11978.30859375 RMSE(mm): 54.72272972392276\n"
     ]
    },
    {
     "name": "stderr",
     "output_type": "stream",
     "text": [
      "236it [00:13, 17.98it/s]\n"
     ]
    },
    {
     "name": "stdout",
     "output_type": "stream",
     "text": [
      "Epoch 2, Val Loss: 14322.573551100128, RMSE(mm): 59.83847748543601\n",
      "Epoch 2, test Loss: 11050.43669577206, RMSE(mm): 52.56052866879304\n"
     ]
    },
    {
     "name": "stderr",
     "output_type": "stream",
     "text": [
      "2it [00:00, 18.43it/s]"
     ]
    },
    {
     "name": "stdout",
     "output_type": "stream",
     "text": [
      "Epoch 3, Batch 0, Loss: 8347.0048828125 RMSE(mm): 45.68097219524914\n"
     ]
    },
    {
     "name": "stderr",
     "output_type": "stream",
     "text": [
      "104it [00:05, 18.10it/s]"
     ]
    },
    {
     "name": "stdout",
     "output_type": "stream",
     "text": [
      "Epoch 3, Batch 100, Loss: 11840.962890625 RMSE(mm): 54.40809427517426\n"
     ]
    },
    {
     "name": "stderr",
     "output_type": "stream",
     "text": [
      "204it [00:11, 18.05it/s]"
     ]
    },
    {
     "name": "stdout",
     "output_type": "stream",
     "text": [
      "Epoch 3, Batch 200, Loss: 12056.1923828125 RMSE(mm): 54.90034695430553\n"
     ]
    },
    {
     "name": "stderr",
     "output_type": "stream",
     "text": [
      "236it [00:13, 18.01it/s]\n"
     ]
    },
    {
     "name": "stdout",
     "output_type": "stream",
     "text": [
      "Epoch 3, Val Loss: 14322.573551100128, RMSE(mm): 59.83847748543601\n",
      "Epoch 3, test Loss: 11050.43669577206, RMSE(mm): 52.56052866879304\n"
     ]
    },
    {
     "name": "stderr",
     "output_type": "stream",
     "text": [
      "2it [00:00, 17.98it/s]"
     ]
    },
    {
     "name": "stdout",
     "output_type": "stream",
     "text": [
      "Epoch 4, Batch 0, Loss: 8383.876953125 RMSE(mm): 45.781756609824946\n"
     ]
    },
    {
     "name": "stderr",
     "output_type": "stream",
     "text": [
      "104it [00:05, 18.18it/s]"
     ]
    },
    {
     "name": "stdout",
     "output_type": "stream",
     "text": [
      "Epoch 4, Batch 100, Loss: 11777.662109375 RMSE(mm): 54.262468865171904\n"
     ]
    },
    {
     "name": "stderr",
     "output_type": "stream",
     "text": [
      "204it [00:11, 17.78it/s]"
     ]
    },
    {
     "name": "stdout",
     "output_type": "stream",
     "text": [
      "Epoch 4, Batch 200, Loss: 12137.109375 RMSE(mm): 55.0842749226129\n"
     ]
    },
    {
     "name": "stderr",
     "output_type": "stream",
     "text": [
      "236it [00:13, 18.00it/s]\n"
     ]
    },
    {
     "name": "stdout",
     "output_type": "stream",
     "text": [
      "Epoch 4, Val Loss: 14322.573551100128, RMSE(mm): 59.83847748543601\n",
      "Epoch 4, test Loss: 11050.43669577206, RMSE(mm): 52.56052866879304\n"
     ]
    },
    {
     "name": "stderr",
     "output_type": "stream",
     "text": [
      "2it [00:00, 18.10it/s]"
     ]
    },
    {
     "name": "stdout",
     "output_type": "stream",
     "text": [
      "Epoch 5, Batch 0, Loss: 8342.662109375 RMSE(mm): 45.669087218202094\n"
     ]
    },
    {
     "name": "stderr",
     "output_type": "stream",
     "text": [
      "104it [00:05, 18.10it/s]"
     ]
    },
    {
     "name": "stdout",
     "output_type": "stream",
     "text": [
      "Epoch 5, Batch 100, Loss: 11926.6611328125 RMSE(mm): 54.60462693951058\n"
     ]
    },
    {
     "name": "stderr",
     "output_type": "stream",
     "text": [
      "204it [00:11, 17.88it/s]"
     ]
    },
    {
     "name": "stdout",
     "output_type": "stream",
     "text": [
      "Epoch 5, Batch 200, Loss: 12040.1435546875 RMSE(mm): 54.863793968990834\n"
     ]
    },
    {
     "name": "stderr",
     "output_type": "stream",
     "text": [
      "236it [00:13, 17.92it/s]\n"
     ]
    },
    {
     "name": "stdout",
     "output_type": "stream",
     "text": [
      "Epoch 5, Val Loss: 14322.573551100128, RMSE(mm): 59.83847748543601\n",
      "Epoch 5, test Loss: 11050.43669577206, RMSE(mm): 52.56052866879304\n"
     ]
    },
    {
     "name": "stderr",
     "output_type": "stream",
     "text": [
      "2it [00:00, 18.10it/s]"
     ]
    },
    {
     "name": "stdout",
     "output_type": "stream",
     "text": [
      "Epoch 6, Batch 0, Loss: 8317.2353515625 RMSE(mm): 45.59943900850782\n"
     ]
    },
    {
     "name": "stderr",
     "output_type": "stream",
     "text": [
      "104it [00:05, 17.68it/s]"
     ]
    },
    {
     "name": "stdout",
     "output_type": "stream",
     "text": [
      "Epoch 6, Batch 100, Loss: 11797.50390625 RMSE(mm): 54.30815755079986\n"
     ]
    },
    {
     "name": "stderr",
     "output_type": "stream",
     "text": [
      "204it [00:11, 17.62it/s]"
     ]
    },
    {
     "name": "stdout",
     "output_type": "stream",
     "text": [
      "Epoch 6, Batch 200, Loss: 11953.9921875 RMSE(mm): 54.667156930601394\n"
     ]
    },
    {
     "name": "stderr",
     "output_type": "stream",
     "text": [
      "236it [00:13, 17.91it/s]\n"
     ]
    },
    {
     "name": "stdout",
     "output_type": "stream",
     "text": [
      "Epoch 6, Val Loss: 14322.573551100128, RMSE(mm): 59.83847748543601\n",
      "Epoch 6, test Loss: 11050.43669577206, RMSE(mm): 52.56052866879304\n"
     ]
    },
    {
     "name": "stderr",
     "output_type": "stream",
     "text": [
      "2it [00:00, 18.43it/s]"
     ]
    },
    {
     "name": "stdout",
     "output_type": "stream",
     "text": [
      "Epoch 7, Batch 0, Loss: 8298.08984375 RMSE(mm): 45.546925921926935\n"
     ]
    },
    {
     "name": "stderr",
     "output_type": "stream",
     "text": [
      "104it [00:05, 17.99it/s]"
     ]
    },
    {
     "name": "stdout",
     "output_type": "stream",
     "text": [
      "Epoch 7, Batch 100, Loss: 11985.103515625 RMSE(mm): 54.73824877456576\n"
     ]
    },
    {
     "name": "stderr",
     "output_type": "stream",
     "text": [
      "204it [00:11, 18.10it/s]"
     ]
    },
    {
     "name": "stdout",
     "output_type": "stream",
     "text": [
      "Epoch 7, Batch 200, Loss: 12095.41015625 RMSE(mm): 54.98956754751305\n"
     ]
    },
    {
     "name": "stderr",
     "output_type": "stream",
     "text": [
      "236it [00:13, 18.06it/s]\n"
     ]
    },
    {
     "name": "stdout",
     "output_type": "stream",
     "text": [
      "Epoch 7, Val Loss: 14322.573551100128, RMSE(mm): 59.83847748543601\n",
      "Epoch 7, test Loss: 11050.43669577206, RMSE(mm): 52.56052866879304\n"
     ]
    },
    {
     "name": "stderr",
     "output_type": "stream",
     "text": [
      "2it [00:00, 17.70it/s]"
     ]
    },
    {
     "name": "stdout",
     "output_type": "stream",
     "text": [
      "Epoch 8, Batch 0, Loss: 8527.0126953125 RMSE(mm): 46.17091263802487\n"
     ]
    },
    {
     "name": "stderr",
     "output_type": "stream",
     "text": [
      "104it [00:05, 18.03it/s]"
     ]
    },
    {
     "name": "stdout",
     "output_type": "stream",
     "text": [
      "Epoch 8, Batch 100, Loss: 11903.724609375 RMSE(mm): 54.55209576490852\n"
     ]
    },
    {
     "name": "stderr",
     "output_type": "stream",
     "text": [
      "204it [00:11, 17.95it/s]"
     ]
    },
    {
     "name": "stdout",
     "output_type": "stream",
     "text": [
      "Epoch 8, Batch 200, Loss: 12170.76171875 RMSE(mm): 55.160587648134246\n"
     ]
    },
    {
     "name": "stderr",
     "output_type": "stream",
     "text": [
      "236it [00:13, 18.02it/s]\n"
     ]
    },
    {
     "name": "stdout",
     "output_type": "stream",
     "text": [
      "Epoch 8, Val Loss: 14322.573551100128, RMSE(mm): 59.83847748543601\n",
      "Epoch 8, test Loss: 11050.43669577206, RMSE(mm): 52.56052866879304\n"
     ]
    },
    {
     "name": "stderr",
     "output_type": "stream",
     "text": [
      "2it [00:00, 18.43it/s]"
     ]
    },
    {
     "name": "stdout",
     "output_type": "stream",
     "text": [
      "Epoch 9, Batch 0, Loss: 8420.783203125 RMSE(mm): 45.882412761114146\n"
     ]
    },
    {
     "name": "stderr",
     "output_type": "stream",
     "text": [
      "104it [00:05, 18.05it/s]"
     ]
    },
    {
     "name": "stdout",
     "output_type": "stream",
     "text": [
      "Epoch 9, Batch 100, Loss: 11904.8671875 RMSE(mm): 54.55471379152309\n"
     ]
    },
    {
     "name": "stderr",
     "output_type": "stream",
     "text": [
      "204it [00:11, 17.93it/s]"
     ]
    },
    {
     "name": "stdout",
     "output_type": "stream",
     "text": [
      "Epoch 9, Batch 200, Loss: 12141.7998046875 RMSE(mm): 55.09491765282779\n"
     ]
    },
    {
     "name": "stderr",
     "output_type": "stream",
     "text": [
      "236it [00:13, 18.00it/s]\n"
     ]
    },
    {
     "name": "stdout",
     "output_type": "stream",
     "text": [
      "Epoch 9, Val Loss: 14322.573551100128, RMSE(mm): 59.83847748543601\n",
      "Epoch 9, test Loss: 11050.43669577206, RMSE(mm): 52.56052866879304\n"
     ]
    },
    {
     "name": "stderr",
     "output_type": "stream",
     "text": [
      "2it [00:00, 18.43it/s]"
     ]
    },
    {
     "name": "stdout",
     "output_type": "stream",
     "text": [
      "Epoch 10, Batch 0, Loss: 8398.4716796875 RMSE(mm): 45.82158792449117\n"
     ]
    },
    {
     "name": "stderr",
     "output_type": "stream",
     "text": [
      "104it [00:05, 18.12it/s]"
     ]
    },
    {
     "name": "stdout",
     "output_type": "stream",
     "text": [
      "Epoch 10, Batch 100, Loss: 11945.62890625 RMSE(mm): 54.64803039966308\n"
     ]
    },
    {
     "name": "stderr",
     "output_type": "stream",
     "text": [
      "204it [00:11, 18.07it/s]"
     ]
    },
    {
     "name": "stdout",
     "output_type": "stream",
     "text": [
      "Epoch 10, Batch 200, Loss: 12057.376953125 RMSE(mm): 54.903043980104144\n"
     ]
    },
    {
     "name": "stderr",
     "output_type": "stream",
     "text": [
      "236it [00:13, 18.03it/s]\n"
     ]
    },
    {
     "name": "stdout",
     "output_type": "stream",
     "text": [
      "Epoch 10, Val Loss: 14322.573551100128, RMSE(mm): 59.83847748543601\n",
      "Epoch 10, test Loss: 11050.43669577206, RMSE(mm): 52.56052866879304\n"
     ]
    },
    {
     "name": "stderr",
     "output_type": "stream",
     "text": [
      "2it [00:00, 18.16it/s]"
     ]
    },
    {
     "name": "stdout",
     "output_type": "stream",
     "text": [
      "Epoch 11, Batch 0, Loss: 8357.48828125 RMSE(mm): 45.70964964110423\n"
     ]
    },
    {
     "name": "stderr",
     "output_type": "stream",
     "text": [
      "104it [00:05, 17.91it/s]"
     ]
    },
    {
     "name": "stdout",
     "output_type": "stream",
     "text": [
      "Epoch 11, Batch 100, Loss: 11821.34375 RMSE(mm): 54.36300154976728\n"
     ]
    },
    {
     "name": "stderr",
     "output_type": "stream",
     "text": [
      "204it [00:11, 17.88it/s]"
     ]
    },
    {
     "name": "stdout",
     "output_type": "stream",
     "text": [
      "Epoch 11, Batch 200, Loss: 12107.197265625 RMSE(mm): 55.016354990186784\n"
     ]
    },
    {
     "name": "stderr",
     "output_type": "stream",
     "text": [
      "236it [00:13, 17.95it/s]\n"
     ]
    },
    {
     "name": "stdout",
     "output_type": "stream",
     "text": [
      "Epoch 11, Val Loss: 14322.573551100128, RMSE(mm): 59.83847748543601\n",
      "Epoch 11, test Loss: 11050.43669577206, RMSE(mm): 52.56052866879304\n"
     ]
    },
    {
     "name": "stderr",
     "output_type": "stream",
     "text": [
      "2it [00:00, 17.94it/s]"
     ]
    },
    {
     "name": "stdout",
     "output_type": "stream",
     "text": [
      "Epoch 12, Batch 0, Loss: 8363.78125 RMSE(mm): 45.7268554844962\n"
     ]
    },
    {
     "name": "stderr",
     "output_type": "stream",
     "text": [
      "104it [00:05, 18.11it/s]"
     ]
    },
    {
     "name": "stdout",
     "output_type": "stream",
     "text": [
      "Epoch 12, Batch 100, Loss: 12003.1826171875 RMSE(mm): 54.77951856576393\n"
     ]
    },
    {
     "name": "stderr",
     "output_type": "stream",
     "text": [
      "204it [00:11, 18.16it/s]"
     ]
    },
    {
     "name": "stdout",
     "output_type": "stream",
     "text": [
      "Epoch 12, Batch 200, Loss: 12102.814453125 RMSE(mm): 55.00639611246359\n"
     ]
    },
    {
     "name": "stderr",
     "output_type": "stream",
     "text": [
      "236it [00:13, 18.05it/s]\n"
     ]
    },
    {
     "name": "stdout",
     "output_type": "stream",
     "text": [
      "Epoch 12, Val Loss: 14322.573551100128, RMSE(mm): 59.83847748543601\n",
      "Epoch 12, test Loss: 11050.43669577206, RMSE(mm): 52.56052866879304\n"
     ]
    },
    {
     "name": "stderr",
     "output_type": "stream",
     "text": [
      "2it [00:00, 17.68it/s]"
     ]
    },
    {
     "name": "stdout",
     "output_type": "stream",
     "text": [
      "Epoch 13, Batch 0, Loss: 8598.3203125 RMSE(mm): 46.36356412232563\n"
     ]
    },
    {
     "name": "stderr",
     "output_type": "stream",
     "text": [
      "104it [00:05, 17.76it/s]"
     ]
    },
    {
     "name": "stdout",
     "output_type": "stream",
     "text": [
      "Epoch 13, Batch 100, Loss: 11880.90234375 RMSE(mm): 54.49977601731497\n"
     ]
    },
    {
     "name": "stderr",
     "output_type": "stream",
     "text": [
      "204it [00:11, 18.00it/s]"
     ]
    },
    {
     "name": "stdout",
     "output_type": "stream",
     "text": [
      "Epoch 13, Batch 200, Loss: 11954.328125 RMSE(mm): 54.66792506808723\n"
     ]
    },
    {
     "name": "stderr",
     "output_type": "stream",
     "text": [
      "236it [00:13, 17.89it/s]\n"
     ]
    },
    {
     "name": "stdout",
     "output_type": "stream",
     "text": [
      "Epoch 13, Val Loss: 14322.573551100128, RMSE(mm): 59.83847748543601\n",
      "Epoch 13, test Loss: 11050.43669577206, RMSE(mm): 52.56052866879304\n"
     ]
    },
    {
     "name": "stderr",
     "output_type": "stream",
     "text": [
      "2it [00:00, 18.60it/s]"
     ]
    },
    {
     "name": "stdout",
     "output_type": "stream",
     "text": [
      "Epoch 14, Batch 0, Loss: 8381.638671875 RMSE(mm): 45.77564492138532\n"
     ]
    },
    {
     "name": "stderr",
     "output_type": "stream",
     "text": [
      "104it [00:05, 17.99it/s]"
     ]
    },
    {
     "name": "stdout",
     "output_type": "stream",
     "text": [
      "Epoch 14, Batch 100, Loss: 12023.47265625 RMSE(mm): 54.82579834405059\n"
     ]
    },
    {
     "name": "stderr",
     "output_type": "stream",
     "text": [
      "204it [00:11, 17.94it/s]"
     ]
    },
    {
     "name": "stdout",
     "output_type": "stream",
     "text": [
      "Epoch 14, Batch 200, Loss: 12192.9296875 RMSE(mm): 55.21079986628522\n"
     ]
    },
    {
     "name": "stderr",
     "output_type": "stream",
     "text": [
      "236it [00:13, 17.96it/s]\n"
     ]
    },
    {
     "name": "stdout",
     "output_type": "stream",
     "text": [
      "Epoch 14, Val Loss: 14322.573551100128, RMSE(mm): 59.83847748543601\n",
      "Epoch 14, test Loss: 11050.43669577206, RMSE(mm): 52.56052866879304\n",
      "create dataloader...\n",
      "HI\n",
      "training...\n"
     ]
    },
    {
     "name": "stderr",
     "output_type": "stream",
     "text": [
      "2it [00:00, 17.02it/s]"
     ]
    },
    {
     "name": "stdout",
     "output_type": "stream",
     "text": [
      "Epoch 0, Batch 0, Loss: 8305.1279296875 RMSE(mm): 45.566237308141595\n"
     ]
    },
    {
     "name": "stderr",
     "output_type": "stream",
     "text": [
      "104it [00:05, 17.73it/s]"
     ]
    },
    {
     "name": "stdout",
     "output_type": "stream",
     "text": [
      "Epoch 0, Batch 100, Loss: 11762.76171875 RMSE(mm): 54.22813319382754\n"
     ]
    },
    {
     "name": "stderr",
     "output_type": "stream",
     "text": [
      "204it [00:11, 17.70it/s]"
     ]
    },
    {
     "name": "stdout",
     "output_type": "stream",
     "text": [
      "Epoch 0, Batch 200, Loss: 12139.111328125 RMSE(mm): 55.088817667755855\n"
     ]
    },
    {
     "name": "stderr",
     "output_type": "stream",
     "text": [
      "236it [00:13, 17.92it/s]\n"
     ]
    },
    {
     "name": "stdout",
     "output_type": "stream",
     "text": [
      "Epoch 0, Val Loss: 14322.573551100128, RMSE(mm): 59.83847748543601\n",
      "Epoch 0, test Loss: 11050.43669577206, RMSE(mm): 52.56052866879304\n"
     ]
    },
    {
     "name": "stderr",
     "output_type": "stream",
     "text": [
      "2it [00:00, 18.26it/s]"
     ]
    },
    {
     "name": "stdout",
     "output_type": "stream",
     "text": [
      "Epoch 1, Batch 0, Loss: 8474.232421875 RMSE(mm): 46.02779709554597\n"
     ]
    },
    {
     "name": "stderr",
     "output_type": "stream",
     "text": [
      "104it [00:05, 17.99it/s]"
     ]
    },
    {
     "name": "stdout",
     "output_type": "stream",
     "text": [
      "Epoch 1, Batch 100, Loss: 11852.19140625 RMSE(mm): 54.43388514117378\n"
     ]
    },
    {
     "name": "stderr",
     "output_type": "stream",
     "text": [
      "204it [00:11, 18.06it/s]"
     ]
    },
    {
     "name": "stdout",
     "output_type": "stream",
     "text": [
      "Epoch 1, Batch 200, Loss: 12073.611328125 RMSE(mm): 54.93999301084093\n"
     ]
    },
    {
     "name": "stderr",
     "output_type": "stream",
     "text": [
      "236it [00:13, 18.00it/s]\n"
     ]
    },
    {
     "name": "stdout",
     "output_type": "stream",
     "text": [
      "Epoch 1, Val Loss: 14322.573551100128, RMSE(mm): 59.83847748543601\n",
      "Epoch 1, test Loss: 11050.43669577206, RMSE(mm): 52.56052866879304\n"
     ]
    },
    {
     "name": "stderr",
     "output_type": "stream",
     "text": [
      "2it [00:00, 17.94it/s]"
     ]
    },
    {
     "name": "stdout",
     "output_type": "stream",
     "text": [
      "Epoch 2, Batch 0, Loss: 8397.439453125 RMSE(mm): 45.81877195300252\n"
     ]
    },
    {
     "name": "stderr",
     "output_type": "stream",
     "text": [
      "104it [00:05, 17.83it/s]"
     ]
    },
    {
     "name": "stdout",
     "output_type": "stream",
     "text": [
      "Epoch 2, Batch 100, Loss: 11898.4716796875 RMSE(mm): 54.54005793838025\n"
     ]
    },
    {
     "name": "stderr",
     "output_type": "stream",
     "text": [
      "204it [00:11, 17.88it/s]"
     ]
    },
    {
     "name": "stdout",
     "output_type": "stream",
     "text": [
      "Epoch 2, Batch 200, Loss: 12161.33203125 RMSE(mm): 55.13921479140323\n"
     ]
    },
    {
     "name": "stderr",
     "output_type": "stream",
     "text": [
      "236it [00:13, 17.98it/s]\n"
     ]
    },
    {
     "name": "stdout",
     "output_type": "stream",
     "text": [
      "Epoch 2, Val Loss: 14322.573551100128, RMSE(mm): 59.83847748543601\n",
      "Epoch 2, test Loss: 11050.43669577206, RMSE(mm): 52.56052866879304\n"
     ]
    },
    {
     "name": "stderr",
     "output_type": "stream",
     "text": [
      "2it [00:00, 18.58it/s]"
     ]
    },
    {
     "name": "stdout",
     "output_type": "stream",
     "text": [
      "Epoch 3, Batch 0, Loss: 8339.369140625 RMSE(mm): 45.66007320576972\n"
     ]
    },
    {
     "name": "stderr",
     "output_type": "stream",
     "text": [
      "104it [00:05, 18.20it/s]"
     ]
    },
    {
     "name": "stdout",
     "output_type": "stream",
     "text": [
      "Epoch 3, Batch 100, Loss: 11972.2890625 RMSE(mm): 54.708977925245506\n"
     ]
    },
    {
     "name": "stderr",
     "output_type": "stream",
     "text": [
      "204it [00:11, 17.96it/s]"
     ]
    },
    {
     "name": "stdout",
     "output_type": "stream",
     "text": [
      "Epoch 3, Batch 200, Loss: 11993.59375 RMSE(mm): 54.75763360025705\n"
     ]
    },
    {
     "name": "stderr",
     "output_type": "stream",
     "text": [
      "236it [00:13, 18.04it/s]\n"
     ]
    },
    {
     "name": "stdout",
     "output_type": "stream",
     "text": [
      "Epoch 3, Val Loss: 14322.573551100128, RMSE(mm): 59.83847748543601\n",
      "Epoch 3, test Loss: 11050.43669577206, RMSE(mm): 52.56052866879304\n"
     ]
    },
    {
     "name": "stderr",
     "output_type": "stream",
     "text": [
      "2it [00:00, 17.62it/s]"
     ]
    },
    {
     "name": "stdout",
     "output_type": "stream",
     "text": [
      "Epoch 4, Batch 0, Loss: 8506.701171875 RMSE(mm): 46.11588981000746\n"
     ]
    },
    {
     "name": "stderr",
     "output_type": "stream",
     "text": [
      "104it [00:05, 18.19it/s]"
     ]
    },
    {
     "name": "stdout",
     "output_type": "stream",
     "text": [
      "Epoch 4, Batch 100, Loss: 11996.033203125 RMSE(mm): 54.76320206837115\n"
     ]
    },
    {
     "name": "stderr",
     "output_type": "stream",
     "text": [
      "204it [00:11, 17.93it/s]"
     ]
    },
    {
     "name": "stdout",
     "output_type": "stream",
     "text": [
      "Epoch 4, Batch 200, Loss: 12104.865234375 RMSE(mm): 55.0110562395756\n"
     ]
    },
    {
     "name": "stderr",
     "output_type": "stream",
     "text": [
      "236it [00:13, 18.05it/s]\n"
     ]
    },
    {
     "name": "stdout",
     "output_type": "stream",
     "text": [
      "Epoch 4, Val Loss: 14322.573551100128, RMSE(mm): 59.83847748543601\n",
      "Epoch 4, test Loss: 11050.43669577206, RMSE(mm): 52.56052866879304\n"
     ]
    },
    {
     "name": "stderr",
     "output_type": "stream",
     "text": [
      "2it [00:00, 18.26it/s]"
     ]
    },
    {
     "name": "stdout",
     "output_type": "stream",
     "text": [
      "Epoch 5, Batch 0, Loss: 8324.3369140625 RMSE(mm): 45.61890209678029\n"
     ]
    },
    {
     "name": "stderr",
     "output_type": "stream",
     "text": [
      "104it [00:05, 18.17it/s]"
     ]
    },
    {
     "name": "stdout",
     "output_type": "stream",
     "text": [
      "Epoch 5, Batch 100, Loss: 11980.943359375 RMSE(mm): 54.7287478373455\n"
     ]
    },
    {
     "name": "stderr",
     "output_type": "stream",
     "text": [
      "204it [00:11, 17.93it/s]"
     ]
    },
    {
     "name": "stdout",
     "output_type": "stream",
     "text": [
      "Epoch 5, Batch 200, Loss: 12220.81640625 RMSE(mm): 55.27390072685752\n"
     ]
    },
    {
     "name": "stderr",
     "output_type": "stream",
     "text": [
      "236it [00:13, 18.01it/s]\n"
     ]
    },
    {
     "name": "stdout",
     "output_type": "stream",
     "text": [
      "Epoch 5, Val Loss: 14322.573551100128, RMSE(mm): 59.83847748543601\n",
      "Epoch 5, test Loss: 11050.43669577206, RMSE(mm): 52.56052866879304\n"
     ]
    },
    {
     "name": "stderr",
     "output_type": "stream",
     "text": [
      "2it [00:00, 17.94it/s]"
     ]
    },
    {
     "name": "stdout",
     "output_type": "stream",
     "text": [
      "Epoch 6, Batch 0, Loss: 8439.32421875 RMSE(mm): 45.93289730343058\n"
     ]
    },
    {
     "name": "stderr",
     "output_type": "stream",
     "text": [
      "104it [00:05, 17.97it/s]"
     ]
    },
    {
     "name": "stdout",
     "output_type": "stream",
     "text": [
      "Epoch 6, Batch 100, Loss: 11937.2265625 RMSE(mm): 54.628807790624535\n"
     ]
    },
    {
     "name": "stderr",
     "output_type": "stream",
     "text": [
      "204it [00:11, 17.79it/s]"
     ]
    },
    {
     "name": "stdout",
     "output_type": "stream",
     "text": [
      "Epoch 6, Batch 200, Loss: 12113.96875 RMSE(mm): 55.031738001811284\n"
     ]
    },
    {
     "name": "stderr",
     "output_type": "stream",
     "text": [
      "236it [00:13, 18.00it/s]\n"
     ]
    },
    {
     "name": "stdout",
     "output_type": "stream",
     "text": [
      "Epoch 6, Val Loss: 14322.573551100128, RMSE(mm): 59.83847748543601\n",
      "Epoch 6, test Loss: 11050.43669577206, RMSE(mm): 52.56052866879304\n"
     ]
    },
    {
     "name": "stderr",
     "output_type": "stream",
     "text": [
      "2it [00:00, 17.45it/s]"
     ]
    },
    {
     "name": "stdout",
     "output_type": "stream",
     "text": [
      "Epoch 7, Batch 0, Loss: 8261.9453125 RMSE(mm): 45.44762180934224\n"
     ]
    },
    {
     "name": "stderr",
     "output_type": "stream",
     "text": [
      "104it [00:05, 18.02it/s]"
     ]
    },
    {
     "name": "stdout",
     "output_type": "stream",
     "text": [
      "Epoch 7, Batch 100, Loss: 12136.06640625 RMSE(mm): 55.0819081147567\n"
     ]
    },
    {
     "name": "stderr",
     "output_type": "stream",
     "text": [
      "204it [00:11, 17.94it/s]"
     ]
    },
    {
     "name": "stdout",
     "output_type": "stream",
     "text": [
      "Epoch 7, Batch 200, Loss: 12353.3154296875 RMSE(mm): 55.572734838424815\n"
     ]
    },
    {
     "name": "stderr",
     "output_type": "stream",
     "text": [
      "236it [00:13, 17.99it/s]\n"
     ]
    },
    {
     "name": "stdout",
     "output_type": "stream",
     "text": [
      "Epoch 7, Val Loss: 14322.573551100128, RMSE(mm): 59.83847748543601\n",
      "Epoch 7, test Loss: 11050.43669577206, RMSE(mm): 52.56052866879304\n"
     ]
    },
    {
     "name": "stderr",
     "output_type": "stream",
     "text": [
      "2it [00:00, 18.37it/s]"
     ]
    },
    {
     "name": "stdout",
     "output_type": "stream",
     "text": [
      "Epoch 8, Batch 0, Loss: 8530.4033203125 RMSE(mm): 46.18009127403415\n"
     ]
    },
    {
     "name": "stderr",
     "output_type": "stream",
     "text": [
      "104it [00:05, 17.94it/s]"
     ]
    },
    {
     "name": "stdout",
     "output_type": "stream",
     "text": [
      "Epoch 8, Batch 100, Loss: 12047.9833984375 RMSE(mm): 54.88165312387533\n"
     ]
    },
    {
     "name": "stderr",
     "output_type": "stream",
     "text": [
      "204it [00:11, 17.58it/s]"
     ]
    },
    {
     "name": "stdout",
     "output_type": "stream",
     "text": [
      "Epoch 8, Batch 200, Loss: 11999.091796875 RMSE(mm): 54.770183030721654\n"
     ]
    },
    {
     "name": "stderr",
     "output_type": "stream",
     "text": [
      "236it [00:13, 18.00it/s]\n"
     ]
    },
    {
     "name": "stdout",
     "output_type": "stream",
     "text": [
      "Epoch 8, Val Loss: 14322.573551100128, RMSE(mm): 59.83847748543601\n",
      "Epoch 8, test Loss: 11050.43669577206, RMSE(mm): 52.56052866879304\n"
     ]
    },
    {
     "name": "stderr",
     "output_type": "stream",
     "text": [
      "2it [00:00, 17.78it/s]"
     ]
    },
    {
     "name": "stdout",
     "output_type": "stream",
     "text": [
      "Epoch 9, Batch 0, Loss: 8415.0185546875 RMSE(mm): 45.866705121164685\n"
     ]
    },
    {
     "name": "stderr",
     "output_type": "stream",
     "text": [
      "104it [00:05, 18.05it/s]"
     ]
    },
    {
     "name": "stdout",
     "output_type": "stream",
     "text": [
      "Epoch 9, Batch 100, Loss: 12035.5703125 RMSE(mm): 54.853373443435544\n"
     ]
    },
    {
     "name": "stderr",
     "output_type": "stream",
     "text": [
      "204it [00:11, 17.88it/s]"
     ]
    },
    {
     "name": "stdout",
     "output_type": "stream",
     "text": [
      "Epoch 9, Batch 200, Loss: 12028.833984375 RMSE(mm): 54.83802053405785\n"
     ]
    },
    {
     "name": "stderr",
     "output_type": "stream",
     "text": [
      "236it [00:13, 17.93it/s]\n"
     ]
    },
    {
     "name": "stdout",
     "output_type": "stream",
     "text": [
      "Epoch 9, Val Loss: 14322.573551100128, RMSE(mm): 59.83847748543601\n",
      "Epoch 9, test Loss: 11050.43669577206, RMSE(mm): 52.56052866879304\n"
     ]
    },
    {
     "name": "stderr",
     "output_type": "stream",
     "text": [
      "2it [00:00, 18.32it/s]"
     ]
    },
    {
     "name": "stdout",
     "output_type": "stream",
     "text": [
      "Epoch 10, Batch 0, Loss: 8379.0029296875 RMSE(mm): 45.76844690856218\n"
     ]
    },
    {
     "name": "stderr",
     "output_type": "stream",
     "text": [
      "104it [00:05, 17.90it/s]"
     ]
    },
    {
     "name": "stdout",
     "output_type": "stream",
     "text": [
      "Epoch 10, Batch 100, Loss: 12146.9736328125 RMSE(mm): 55.10665484497426\n"
     ]
    },
    {
     "name": "stderr",
     "output_type": "stream",
     "text": [
      "204it [00:11, 18.06it/s]"
     ]
    },
    {
     "name": "stdout",
     "output_type": "stream",
     "text": [
      "Epoch 10, Batch 200, Loss: 12173.9375 RMSE(mm): 55.16778385072215\n"
     ]
    },
    {
     "name": "stderr",
     "output_type": "stream",
     "text": [
      "236it [00:13, 17.92it/s]\n"
     ]
    },
    {
     "name": "stdout",
     "output_type": "stream",
     "text": [
      "Epoch 10, Val Loss: 14322.573551100128, RMSE(mm): 59.83847748543601\n",
      "Epoch 10, test Loss: 11050.43669577206, RMSE(mm): 52.56052866879304\n"
     ]
    },
    {
     "name": "stderr",
     "output_type": "stream",
     "text": [
      "2it [00:00, 18.05it/s]"
     ]
    },
    {
     "name": "stdout",
     "output_type": "stream",
     "text": [
      "Epoch 11, Batch 0, Loss: 8371.044921875 RMSE(mm): 45.74670731832784\n"
     ]
    },
    {
     "name": "stderr",
     "output_type": "stream",
     "text": [
      "104it [00:05, 17.98it/s]"
     ]
    },
    {
     "name": "stdout",
     "output_type": "stream",
     "text": [
      "Epoch 11, Batch 100, Loss: 11902.91015625 RMSE(mm): 54.55022950513133\n"
     ]
    },
    {
     "name": "stderr",
     "output_type": "stream",
     "text": [
      "204it [00:11, 17.89it/s]"
     ]
    },
    {
     "name": "stdout",
     "output_type": "stream",
     "text": [
      "Epoch 11, Batch 200, Loss: 12263.873046875 RMSE(mm): 55.37118620472881\n"
     ]
    },
    {
     "name": "stderr",
     "output_type": "stream",
     "text": [
      "236it [00:13, 17.98it/s]\n"
     ]
    },
    {
     "name": "stdout",
     "output_type": "stream",
     "text": [
      "Epoch 11, Val Loss: 14322.573551100128, RMSE(mm): 59.83847748543601\n",
      "Epoch 11, test Loss: 11050.43669577206, RMSE(mm): 52.56052866879304\n"
     ]
    },
    {
     "name": "stderr",
     "output_type": "stream",
     "text": [
      "2it [00:00, 17.94it/s]"
     ]
    },
    {
     "name": "stdout",
     "output_type": "stream",
     "text": [
      "Epoch 12, Batch 0, Loss: 8407.37109375 RMSE(mm): 45.845858847201235\n"
     ]
    },
    {
     "name": "stderr",
     "output_type": "stream",
     "text": [
      "104it [00:05, 18.09it/s]"
     ]
    },
    {
     "name": "stdout",
     "output_type": "stream",
     "text": [
      "Epoch 12, Batch 100, Loss: 12232.4609375 RMSE(mm): 55.300228158435296\n"
     ]
    },
    {
     "name": "stderr",
     "output_type": "stream",
     "text": [
      "204it [00:11, 17.97it/s]"
     ]
    },
    {
     "name": "stdout",
     "output_type": "stream",
     "text": [
      "Epoch 12, Batch 200, Loss: 11889.7978515625 RMSE(mm): 54.52017482446865\n"
     ]
    },
    {
     "name": "stderr",
     "output_type": "stream",
     "text": [
      "236it [00:13, 17.98it/s]\n"
     ]
    },
    {
     "name": "stdout",
     "output_type": "stream",
     "text": [
      "Epoch 12, Val Loss: 14322.573551100128, RMSE(mm): 59.83847748543601\n",
      "Epoch 12, test Loss: 11050.43669577206, RMSE(mm): 52.56052866879304\n"
     ]
    },
    {
     "name": "stderr",
     "output_type": "stream",
     "text": [
      "2it [00:00, 18.26it/s]"
     ]
    },
    {
     "name": "stdout",
     "output_type": "stream",
     "text": [
      "Epoch 13, Batch 0, Loss: 8448.609375 RMSE(mm): 45.958158620097045\n"
     ]
    },
    {
     "name": "stderr",
     "output_type": "stream",
     "text": [
      "104it [00:05, 18.12it/s]"
     ]
    },
    {
     "name": "stdout",
     "output_type": "stream",
     "text": [
      "Epoch 13, Batch 100, Loss: 12042.328125 RMSE(mm): 54.86877100181851\n"
     ]
    },
    {
     "name": "stderr",
     "output_type": "stream",
     "text": [
      "204it [00:11, 17.76it/s]"
     ]
    },
    {
     "name": "stdout",
     "output_type": "stream",
     "text": [
      "Epoch 13, Batch 200, Loss: 12319.9501953125 RMSE(mm): 55.49763552466109\n"
     ]
    },
    {
     "name": "stderr",
     "output_type": "stream",
     "text": [
      "236it [00:13, 17.97it/s]\n"
     ]
    },
    {
     "name": "stdout",
     "output_type": "stream",
     "text": [
      "Epoch 13, Val Loss: 14322.573551100128, RMSE(mm): 59.83847748543601\n",
      "Epoch 13, test Loss: 11050.43669577206, RMSE(mm): 52.56052866879304\n"
     ]
    },
    {
     "name": "stderr",
     "output_type": "stream",
     "text": [
      "2it [00:00, 18.10it/s]"
     ]
    },
    {
     "name": "stdout",
     "output_type": "stream",
     "text": [
      "Epoch 14, Batch 0, Loss: 8328.62890625 RMSE(mm): 45.63066103578273\n"
     ]
    },
    {
     "name": "stderr",
     "output_type": "stream",
     "text": [
      "104it [00:05, 18.05it/s]"
     ]
    },
    {
     "name": "stdout",
     "output_type": "stream",
     "text": [
      "Epoch 14, Batch 100, Loss: 12076.748046875 RMSE(mm): 54.94712924001353\n"
     ]
    },
    {
     "name": "stderr",
     "output_type": "stream",
     "text": [
      "204it [00:11, 17.86it/s]"
     ]
    },
    {
     "name": "stdout",
     "output_type": "stream",
     "text": [
      "Epoch 14, Batch 200, Loss: 11922.033203125 RMSE(mm): 54.59403173224386\n"
     ]
    },
    {
     "name": "stderr",
     "output_type": "stream",
     "text": [
      "236it [00:13, 17.95it/s]\n"
     ]
    },
    {
     "name": "stdout",
     "output_type": "stream",
     "text": [
      "Epoch 14, Val Loss: 14322.573551100128, RMSE(mm): 59.83847748543601\n",
      "Epoch 14, test Loss: 11050.43669577206, RMSE(mm): 52.56052866879304\n",
      "create dataloader...\n",
      "HI\n",
      "training...\n"
     ]
    },
    {
     "name": "stderr",
     "output_type": "stream",
     "text": [
      "2it [00:00, 17.54it/s]"
     ]
    },
    {
     "name": "stdout",
     "output_type": "stream",
     "text": [
      "Epoch 0, Batch 0, Loss: 8351.083984375 RMSE(mm): 45.69213275930278\n"
     ]
    },
    {
     "name": "stderr",
     "output_type": "stream",
     "text": [
      "104it [00:05, 18.06it/s]"
     ]
    },
    {
     "name": "stdout",
     "output_type": "stream",
     "text": [
      "Epoch 0, Batch 100, Loss: 12060.732421875 RMSE(mm): 54.91068298126285\n"
     ]
    },
    {
     "name": "stderr",
     "output_type": "stream",
     "text": [
      "204it [00:11, 17.99it/s]"
     ]
    },
    {
     "name": "stdout",
     "output_type": "stream",
     "text": [
      "Epoch 0, Batch 200, Loss: 11883.6669921875 RMSE(mm): 54.50611661132056\n"
     ]
    },
    {
     "name": "stderr",
     "output_type": "stream",
     "text": [
      "236it [00:13, 18.04it/s]\n"
     ]
    },
    {
     "name": "stdout",
     "output_type": "stream",
     "text": [
      "Epoch 0, Val Loss: 14322.573551100128, RMSE(mm): 59.83847748543601\n",
      "Epoch 0, test Loss: 11050.43669577206, RMSE(mm): 52.56052866879304\n"
     ]
    },
    {
     "name": "stderr",
     "output_type": "stream",
     "text": [
      "2it [00:00, 18.43it/s]"
     ]
    },
    {
     "name": "stdout",
     "output_type": "stream",
     "text": [
      "Epoch 1, Batch 0, Loss: 8456.359375 RMSE(mm): 45.979232744250965\n"
     ]
    },
    {
     "name": "stderr",
     "output_type": "stream",
     "text": [
      "104it [00:05, 17.95it/s]"
     ]
    },
    {
     "name": "stdout",
     "output_type": "stream",
     "text": [
      "Epoch 1, Batch 100, Loss: 11990.763671875 RMSE(mm): 54.751172754277604\n"
     ]
    },
    {
     "name": "stderr",
     "output_type": "stream",
     "text": [
      "204it [00:11, 18.08it/s]"
     ]
    },
    {
     "name": "stdout",
     "output_type": "stream",
     "text": [
      "Epoch 1, Batch 200, Loss: 12193.71484375 RMSE(mm): 55.21257747051391\n"
     ]
    },
    {
     "name": "stderr",
     "output_type": "stream",
     "text": [
      "236it [00:13, 18.00it/s]\n"
     ]
    },
    {
     "name": "stdout",
     "output_type": "stream",
     "text": [
      "Epoch 1, Val Loss: 14322.573551100128, RMSE(mm): 59.83847748543601\n",
      "Epoch 1, test Loss: 11050.43669577206, RMSE(mm): 52.56052866879304\n"
     ]
    },
    {
     "name": "stderr",
     "output_type": "stream",
     "text": [
      "2it [00:00, 17.78it/s]"
     ]
    },
    {
     "name": "stdout",
     "output_type": "stream",
     "text": [
      "Epoch 2, Batch 0, Loss: 8466.701171875 RMSE(mm): 46.00733955543126\n"
     ]
    },
    {
     "name": "stderr",
     "output_type": "stream",
     "text": [
      "104it [00:05, 18.08it/s]"
     ]
    },
    {
     "name": "stdout",
     "output_type": "stream",
     "text": [
      "Epoch 2, Batch 100, Loss: 12083.7275390625 RMSE(mm): 54.9630046919346\n"
     ]
    },
    {
     "name": "stderr",
     "output_type": "stream",
     "text": [
      "204it [00:11, 17.60it/s]"
     ]
    },
    {
     "name": "stdout",
     "output_type": "stream",
     "text": [
      "Epoch 2, Batch 200, Loss: 11837.845703125 RMSE(mm): 54.40093221426679\n"
     ]
    },
    {
     "name": "stderr",
     "output_type": "stream",
     "text": [
      "236it [00:13, 17.97it/s]\n"
     ]
    },
    {
     "name": "stdout",
     "output_type": "stream",
     "text": [
      "Epoch 2, Val Loss: 14322.573551100128, RMSE(mm): 59.83847748543601\n",
      "Epoch 2, test Loss: 11050.43669577206, RMSE(mm): 52.56052866879304\n"
     ]
    },
    {
     "name": "stderr",
     "output_type": "stream",
     "text": [
      "2it [00:00, 17.94it/s]"
     ]
    },
    {
     "name": "stdout",
     "output_type": "stream",
     "text": [
      "Epoch 3, Batch 0, Loss: 8434.955078125 RMSE(mm): 45.92100575478776\n"
     ]
    },
    {
     "name": "stderr",
     "output_type": "stream",
     "text": [
      "104it [00:05, 18.06it/s]"
     ]
    },
    {
     "name": "stdout",
     "output_type": "stream",
     "text": [
      "Epoch 3, Batch 100, Loss: 11865.595703125 RMSE(mm): 54.46465758435694\n"
     ]
    },
    {
     "name": "stderr",
     "output_type": "stream",
     "text": [
      "204it [00:11, 18.01it/s]"
     ]
    },
    {
     "name": "stdout",
     "output_type": "stream",
     "text": [
      "Epoch 3, Batch 200, Loss: 12068.474609375 RMSE(mm): 54.928304655648624\n"
     ]
    },
    {
     "name": "stderr",
     "output_type": "stream",
     "text": [
      "236it [00:13, 17.95it/s]\n"
     ]
    },
    {
     "name": "stdout",
     "output_type": "stream",
     "text": [
      "Epoch 3, Val Loss: 14322.573551100128, RMSE(mm): 59.83847748543601\n",
      "Epoch 3, test Loss: 11050.43669577206, RMSE(mm): 52.56052866879304\n"
     ]
    },
    {
     "name": "stderr",
     "output_type": "stream",
     "text": [
      "2it [00:00, 17.47it/s]"
     ]
    },
    {
     "name": "stdout",
     "output_type": "stream",
     "text": [
      "Epoch 4, Batch 0, Loss: 8405.875 RMSE(mm): 45.84177952479594\n"
     ]
    },
    {
     "name": "stderr",
     "output_type": "stream",
     "text": [
      "104it [00:05, 17.85it/s]"
     ]
    },
    {
     "name": "stdout",
     "output_type": "stream",
     "text": [
      "Epoch 4, Batch 100, Loss: 11922.623046875 RMSE(mm): 54.59538223804967\n"
     ]
    },
    {
     "name": "stderr",
     "output_type": "stream",
     "text": [
      "204it [00:11, 18.02it/s]"
     ]
    },
    {
     "name": "stdout",
     "output_type": "stream",
     "text": [
      "Epoch 4, Batch 200, Loss: 12091.66015625 RMSE(mm): 54.98104254252096\n"
     ]
    },
    {
     "name": "stderr",
     "output_type": "stream",
     "text": [
      "236it [00:13, 17.91it/s]\n"
     ]
    },
    {
     "name": "stdout",
     "output_type": "stream",
     "text": [
      "Epoch 4, Val Loss: 14322.573551100128, RMSE(mm): 59.83847748543601\n",
      "Epoch 4, test Loss: 11050.43669577206, RMSE(mm): 52.56052866879304\n"
     ]
    },
    {
     "name": "stderr",
     "output_type": "stream",
     "text": [
      "2it [00:00, 18.43it/s]"
     ]
    },
    {
     "name": "stdout",
     "output_type": "stream",
     "text": [
      "Epoch 5, Batch 0, Loss: 8291.5791015625 RMSE(mm): 45.52905418950217\n"
     ]
    },
    {
     "name": "stderr",
     "output_type": "stream",
     "text": [
      "104it [00:05, 17.88it/s]"
     ]
    },
    {
     "name": "stdout",
     "output_type": "stream",
     "text": [
      "Epoch 5, Batch 100, Loss: 12112.9140625 RMSE(mm): 55.02934231503226\n"
     ]
    },
    {
     "name": "stderr",
     "output_type": "stream",
     "text": [
      "204it [00:11, 17.83it/s]"
     ]
    },
    {
     "name": "stdout",
     "output_type": "stream",
     "text": [
      "Epoch 5, Batch 200, Loss: 11983.021484375 RMSE(mm): 54.73349405157458\n"
     ]
    },
    {
     "name": "stderr",
     "output_type": "stream",
     "text": [
      "236it [00:13, 17.95it/s]\n"
     ]
    },
    {
     "name": "stdout",
     "output_type": "stream",
     "text": [
      "Epoch 5, Val Loss: 14322.573551100128, RMSE(mm): 59.83847748543601\n",
      "Epoch 5, test Loss: 11050.43669577206, RMSE(mm): 52.56052866879304\n"
     ]
    },
    {
     "name": "stderr",
     "output_type": "stream",
     "text": [
      "2it [00:00, 18.43it/s]"
     ]
    },
    {
     "name": "stdout",
     "output_type": "stream",
     "text": [
      "Epoch 6, Batch 0, Loss: 8470.45703125 RMSE(mm): 46.017542935412145\n"
     ]
    },
    {
     "name": "stderr",
     "output_type": "stream",
     "text": [
      "104it [00:05, 18.07it/s]"
     ]
    },
    {
     "name": "stdout",
     "output_type": "stream",
     "text": [
      "Epoch 6, Batch 100, Loss: 12159.2021484375 RMSE(mm): 55.134386158815396\n"
     ]
    },
    {
     "name": "stderr",
     "output_type": "stream",
     "text": [
      "204it [00:11, 18.03it/s]"
     ]
    },
    {
     "name": "stdout",
     "output_type": "stream",
     "text": [
      "Epoch 6, Batch 200, Loss: 12172.501953125 RMSE(mm): 55.1645310709812\n"
     ]
    },
    {
     "name": "stderr",
     "output_type": "stream",
     "text": [
      "236it [00:13, 18.02it/s]\n"
     ]
    },
    {
     "name": "stdout",
     "output_type": "stream",
     "text": [
      "Epoch 6, Val Loss: 14322.573551100128, RMSE(mm): 59.83847748543601\n",
      "Epoch 6, test Loss: 11050.43669577206, RMSE(mm): 52.56052866879304\n"
     ]
    },
    {
     "name": "stderr",
     "output_type": "stream",
     "text": [
      "2it [00:00, 18.35it/s]"
     ]
    },
    {
     "name": "stdout",
     "output_type": "stream",
     "text": [
      "Epoch 7, Batch 0, Loss: 8411.6904296875 RMSE(mm): 45.85763412368627\n"
     ]
    },
    {
     "name": "stderr",
     "output_type": "stream",
     "text": [
      "104it [00:05, 18.20it/s]"
     ]
    },
    {
     "name": "stdout",
     "output_type": "stream",
     "text": [
      "Epoch 7, Batch 100, Loss: 11910.638671875 RMSE(mm): 54.567936262687724\n"
     ]
    },
    {
     "name": "stderr",
     "output_type": "stream",
     "text": [
      "204it [00:11, 18.17it/s]"
     ]
    },
    {
     "name": "stdout",
     "output_type": "stream",
     "text": [
      "Epoch 7, Batch 200, Loss: 12078.302734375 RMSE(mm): 54.95066590673629\n"
     ]
    },
    {
     "name": "stderr",
     "output_type": "stream",
     "text": [
      "236it [00:13, 17.98it/s]\n"
     ]
    },
    {
     "name": "stdout",
     "output_type": "stream",
     "text": [
      "Epoch 7, Val Loss: 14322.573551100128, RMSE(mm): 59.83847748543601\n",
      "Epoch 7, test Loss: 11050.43669577206, RMSE(mm): 52.56052866879304\n"
     ]
    },
    {
     "name": "stderr",
     "output_type": "stream",
     "text": [
      "2it [00:00, 18.52it/s]"
     ]
    },
    {
     "name": "stdout",
     "output_type": "stream",
     "text": [
      "Epoch 8, Batch 0, Loss: 8472.6220703125 RMSE(mm): 46.023423575154915\n"
     ]
    },
    {
     "name": "stderr",
     "output_type": "stream",
     "text": [
      "104it [00:05, 18.07it/s]"
     ]
    },
    {
     "name": "stdout",
     "output_type": "stream",
     "text": [
      "Epoch 8, Batch 100, Loss: 11806.41796875 RMSE(mm): 54.328670995962156\n"
     ]
    },
    {
     "name": "stderr",
     "output_type": "stream",
     "text": [
      "204it [00:11, 17.74it/s]"
     ]
    },
    {
     "name": "stdout",
     "output_type": "stream",
     "text": [
      "Epoch 8, Batch 200, Loss: 12225.21875 RMSE(mm): 55.28385557737449\n"
     ]
    },
    {
     "name": "stderr",
     "output_type": "stream",
     "text": [
      "236it [00:13, 17.98it/s]\n"
     ]
    },
    {
     "name": "stdout",
     "output_type": "stream",
     "text": [
      "Epoch 8, Val Loss: 14322.573551100128, RMSE(mm): 59.83847748543601\n",
      "Epoch 8, test Loss: 11050.43669577206, RMSE(mm): 52.56052866879304\n"
     ]
    },
    {
     "name": "stderr",
     "output_type": "stream",
     "text": [
      "2it [00:00, 17.78it/s]"
     ]
    },
    {
     "name": "stdout",
     "output_type": "stream",
     "text": [
      "Epoch 9, Batch 0, Loss: 8359.8583984375 RMSE(mm): 45.71613062814235\n"
     ]
    },
    {
     "name": "stderr",
     "output_type": "stream",
     "text": [
      "104it [00:05, 17.81it/s]"
     ]
    },
    {
     "name": "stdout",
     "output_type": "stream",
     "text": [
      "Epoch 9, Batch 100, Loss: 12107.3720703125 RMSE(mm): 55.01675215403146\n"
     ]
    },
    {
     "name": "stderr",
     "output_type": "stream",
     "text": [
      "204it [00:11, 18.01it/s]"
     ]
    },
    {
     "name": "stdout",
     "output_type": "stream",
     "text": [
      "Epoch 9, Batch 200, Loss: 12035.5107421875 RMSE(mm): 54.85323769429545\n"
     ]
    },
    {
     "name": "stderr",
     "output_type": "stream",
     "text": [
      "236it [00:13, 17.99it/s]\n"
     ]
    },
    {
     "name": "stdout",
     "output_type": "stream",
     "text": [
      "Epoch 9, Val Loss: 14322.573551100128, RMSE(mm): 59.83847748543601\n",
      "Epoch 9, test Loss: 11050.43669577206, RMSE(mm): 52.56052866879304\n"
     ]
    },
    {
     "name": "stderr",
     "output_type": "stream",
     "text": [
      "2it [00:00, 17.77it/s]"
     ]
    },
    {
     "name": "stdout",
     "output_type": "stream",
     "text": [
      "Epoch 10, Batch 0, Loss: 8315.912109375 RMSE(mm): 45.59581151096831\n"
     ]
    },
    {
     "name": "stderr",
     "output_type": "stream",
     "text": [
      "104it [00:05, 17.99it/s]"
     ]
    },
    {
     "name": "stdout",
     "output_type": "stream",
     "text": [
      "Epoch 10, Batch 100, Loss: 11878.6728515625 RMSE(mm): 54.494662242192355\n"
     ]
    },
    {
     "name": "stderr",
     "output_type": "stream",
     "text": [
      "204it [00:11, 17.89it/s]"
     ]
    },
    {
     "name": "stdout",
     "output_type": "stream",
     "text": [
      "Epoch 10, Batch 200, Loss: 12174.0732421875 RMSE(mm): 55.16809141656864\n"
     ]
    },
    {
     "name": "stderr",
     "output_type": "stream",
     "text": [
      "236it [00:13, 17.94it/s]\n"
     ]
    },
    {
     "name": "stdout",
     "output_type": "stream",
     "text": [
      "Epoch 10, Val Loss: 14322.573551100128, RMSE(mm): 59.83847748543601\n",
      "Epoch 10, test Loss: 11050.43669577206, RMSE(mm): 52.56052866879304\n"
     ]
    },
    {
     "name": "stderr",
     "output_type": "stream",
     "text": [
      "2it [00:00, 18.10it/s]"
     ]
    },
    {
     "name": "stdout",
     "output_type": "stream",
     "text": [
      "Epoch 11, Batch 0, Loss: 8359.01953125 RMSE(mm): 45.71383688570125\n"
     ]
    },
    {
     "name": "stderr",
     "output_type": "stream",
     "text": [
      "104it [00:05, 17.74it/s]"
     ]
    },
    {
     "name": "stdout",
     "output_type": "stream",
     "text": [
      "Epoch 11, Batch 100, Loss: 12114.626953125 RMSE(mm): 55.03323303496943\n"
     ]
    },
    {
     "name": "stderr",
     "output_type": "stream",
     "text": [
      "204it [00:11, 17.80it/s]"
     ]
    },
    {
     "name": "stdout",
     "output_type": "stream",
     "text": [
      "Epoch 11, Batch 200, Loss: 12137.384765625 RMSE(mm): 55.084899849289464\n"
     ]
    },
    {
     "name": "stderr",
     "output_type": "stream",
     "text": [
      "236it [00:13, 17.92it/s]\n"
     ]
    },
    {
     "name": "stdout",
     "output_type": "stream",
     "text": [
      "Epoch 11, Val Loss: 14322.573551100128, RMSE(mm): 59.83847748543601\n",
      "Epoch 11, test Loss: 11050.43669577206, RMSE(mm): 52.56052866879304\n"
     ]
    },
    {
     "name": "stderr",
     "output_type": "stream",
     "text": [
      "2it [00:00, 17.62it/s]"
     ]
    },
    {
     "name": "stdout",
     "output_type": "stream",
     "text": [
      "Epoch 12, Batch 0, Loss: 8513.037109375 RMSE(mm): 46.1330605677073\n"
     ]
    },
    {
     "name": "stderr",
     "output_type": "stream",
     "text": [
      "104it [00:05, 18.00it/s]"
     ]
    },
    {
     "name": "stdout",
     "output_type": "stream",
     "text": [
      "Epoch 12, Batch 100, Loss: 11956.234375 RMSE(mm): 54.67228359735854\n"
     ]
    },
    {
     "name": "stderr",
     "output_type": "stream",
     "text": [
      "204it [00:11, 17.87it/s]"
     ]
    },
    {
     "name": "stdout",
     "output_type": "stream",
     "text": [
      "Epoch 12, Batch 200, Loss: 12155.6484375 RMSE(mm): 55.12632864045093\n"
     ]
    },
    {
     "name": "stderr",
     "output_type": "stream",
     "text": [
      "236it [00:13, 18.02it/s]\n"
     ]
    },
    {
     "name": "stdout",
     "output_type": "stream",
     "text": [
      "Epoch 12, Val Loss: 14322.573551100128, RMSE(mm): 59.83847748543601\n",
      "Epoch 12, test Loss: 11050.43669577206, RMSE(mm): 52.56052866879304\n"
     ]
    },
    {
     "name": "stderr",
     "output_type": "stream",
     "text": [
      "2it [00:00, 17.93it/s]"
     ]
    },
    {
     "name": "stdout",
     "output_type": "stream",
     "text": [
      "Epoch 13, Batch 0, Loss: 8350.8203125 RMSE(mm): 45.69141142627354\n"
     ]
    },
    {
     "name": "stderr",
     "output_type": "stream",
     "text": [
      "104it [00:05, 18.10it/s]"
     ]
    },
    {
     "name": "stdout",
     "output_type": "stream",
     "text": [
      "Epoch 13, Batch 100, Loss: 11877.29296875 RMSE(mm): 54.49149697143124\n"
     ]
    },
    {
     "name": "stderr",
     "output_type": "stream",
     "text": [
      "204it [00:11, 17.74it/s]"
     ]
    },
    {
     "name": "stdout",
     "output_type": "stream",
     "text": [
      "Epoch 13, Batch 200, Loss: 11857.408203125 RMSE(mm): 54.44586348641419\n"
     ]
    },
    {
     "name": "stderr",
     "output_type": "stream",
     "text": [
      "236it [00:13, 18.03it/s]\n"
     ]
    },
    {
     "name": "stdout",
     "output_type": "stream",
     "text": [
      "Epoch 13, Val Loss: 14322.573551100128, RMSE(mm): 59.83847748543601\n",
      "Epoch 13, test Loss: 11050.43669577206, RMSE(mm): 52.56052866879304\n"
     ]
    },
    {
     "name": "stderr",
     "output_type": "stream",
     "text": [
      "2it [00:00, 17.85it/s]"
     ]
    },
    {
     "name": "stdout",
     "output_type": "stream",
     "text": [
      "Epoch 14, Batch 0, Loss: 8401.0927734375 RMSE(mm): 45.82873763654608\n"
     ]
    },
    {
     "name": "stderr",
     "output_type": "stream",
     "text": [
      "104it [00:05, 18.21it/s]"
     ]
    },
    {
     "name": "stdout",
     "output_type": "stream",
     "text": [
      "Epoch 14, Batch 100, Loss: 11989.666015625 RMSE(mm): 54.748666686105246\n"
     ]
    },
    {
     "name": "stderr",
     "output_type": "stream",
     "text": [
      "204it [00:11, 17.92it/s]"
     ]
    },
    {
     "name": "stdout",
     "output_type": "stream",
     "text": [
      "Epoch 14, Batch 200, Loss: 12000.740234375 RMSE(mm): 54.77394507056936\n"
     ]
    },
    {
     "name": "stderr",
     "output_type": "stream",
     "text": [
      "236it [00:13, 17.99it/s]\n"
     ]
    },
    {
     "name": "stdout",
     "output_type": "stream",
     "text": [
      "Epoch 14, Val Loss: 14322.573551100128, RMSE(mm): 59.83847748543601\n",
      "Epoch 14, test Loss: 11050.43669577206, RMSE(mm): 52.56052866879304\n"
     ]
    }
   ],
   "source": [
    "from models.EEGViT_pretrained_stride import EEGViT_pretrained\n",
    "from helper_functions import train as stride_train\n",
    "i=0\n",
    "batch_size = 64\n",
    "n_epoch = 15\n",
    "learning_rate = 1e-4\n",
    "model_name='20231107/EEGVIT_stride_test'\n",
    "model = EEGViT_pretrained()\n",
    "optimizer = torch.optim.Adam(model.parameters(), lr=learning_rate)\n",
    "scheduler = torch.optim.lr_scheduler.StepLR(optimizer, step_size=6, gamma=0.1)\n",
    "for i in range(1,11):\n",
    "    file_name = f'{model_name}_{i}'\n",
    "    stride_train(model,EEGEyeNet, optimizer, scheduler,log_name=file_name, batch_size = batch_size ,n_epoch = n_epoch)"
   ]
  },
  {
   "cell_type": "code",
   "execution_count": 5,
   "metadata": {},
   "outputs": [
    {
     "name": "stdout",
     "output_type": "stream",
     "text": [
      "loading data...\n",
      "[[ 1.00000000e+00  4.08100000e+02  3.15100000e+02  1.34359272e+00]\n",
      " [ 1.00000000e+00  6.40700000e+02  5.19100000e+02  3.45834615e-01]\n",
      " [ 1.00000000e+00  4.04200000e+02  1.18800000e+02  1.70293855e+00]\n",
      " ...\n",
      " [ 3.00000000e+01  1.15500000e+02  3.06100000e+02 -4.09235014e-01]\n",
      " [ 3.00000000e+01  7.32000000e+02  3.10300000e+02 -4.81621022e-01]\n",
      " [ 3.00000000e+01  6.32200000e+02  3.53600000e+02 -4.66137384e-01]]\n"
     ]
    }
   ],
   "source": [
    "del EEGEyeNet\n",
    "from dataset.EEGEyeNet_MTL import EEGEyeNetDataset as MTL_Dataset\n",
    "import torch\n",
    "\n",
    "'''\n",
    "models: EEGViT_pretrained; EEGViT_raw; ViTBase; ViTBase_pretrained\n",
    "'''\n",
    "EEGEyeNet = MTL_Dataset('./dataset/MTL_data_2/Position_task_with_dots_synchronized_min.npz')\n"
   ]
  },
  {
   "cell_type": "code",
   "execution_count": 7,
   "metadata": {},
   "outputs": [
    {
     "name": "stdout",
     "output_type": "stream",
     "text": [
      "create dataloader...\n",
      "HI\n",
      "training...\n"
     ]
    },
    {
     "name": "stderr",
     "output_type": "stream",
     "text": [
      "1it [00:00,  1.85it/s]"
     ]
    },
    {
     "name": "stdout",
     "output_type": "stream",
     "text": [
      "Epoch 0, Batch 0, position loss: 168943.140625 reconstruction loss: 0.0 RMSE(mm): 205.51346709218353\n"
     ]
    },
    {
     "name": "stderr",
     "output_type": "stream",
     "text": [
      "101it [00:29,  3.44it/s]"
     ]
    },
    {
     "name": "stdout",
     "output_type": "stream",
     "text": [
      "Epoch 0, Batch 100, position loss: 136050.546875 reconstruction loss: 0.0 RMSE(mm): 184.42515207734004\n"
     ]
    },
    {
     "name": "stderr",
     "output_type": "stream",
     "text": [
      "201it [00:58,  3.43it/s]"
     ]
    },
    {
     "name": "stdout",
     "output_type": "stream",
     "text": [
      "Epoch 0, Batch 200, position loss: 154397.328125 reconstruction loss: 0.0 RMSE(mm): 196.46712710082062\n"
     ]
    },
    {
     "name": "stderr",
     "output_type": "stream",
     "text": [
      "230it [01:07,  3.42it/s]\n"
     ]
    },
    {
     "name": "stdout",
     "output_type": "stream",
     "text": [
      "Epoch 0, Val Loss: 139608.580078125, RMSE(mm): 186.8211578476358\n",
      "Epoch 0, test Loss: 161467.46243990384, RMSE(mm): 200.91507063925283\n"
     ]
    },
    {
     "name": "stderr",
     "output_type": "stream",
     "text": [
      "1it [00:00,  3.47it/s]"
     ]
    },
    {
     "name": "stdout",
     "output_type": "stream",
     "text": [
      "Epoch 1, Batch 0, position loss: 149376.5625 reconstruction loss: 0.0 RMSE(mm): 193.24632111634105\n"
     ]
    },
    {
     "name": "stderr",
     "output_type": "stream",
     "text": [
      "101it [00:29,  3.46it/s]"
     ]
    },
    {
     "name": "stdout",
     "output_type": "stream",
     "text": [
      "Epoch 1, Batch 100, position loss: 126537.28125 reconstruction loss: 0.0 RMSE(mm): 177.8603955705148\n"
     ]
    },
    {
     "name": "stderr",
     "output_type": "stream",
     "text": [
      "201it [00:58,  3.48it/s]"
     ]
    },
    {
     "name": "stdout",
     "output_type": "stream",
     "text": [
      "Epoch 1, Batch 200, position loss: 125886.265625 reconstruction loss: 0.0 RMSE(mm): 177.40227283281914\n"
     ]
    },
    {
     "name": "stderr",
     "output_type": "stream",
     "text": [
      "230it [01:06,  3.44it/s]\n"
     ]
    },
    {
     "name": "stdout",
     "output_type": "stream",
     "text": [
      "Epoch 1, Val Loss: 197425.32992788462, RMSE(mm): 222.1628512644973\n",
      "Epoch 1, test Loss: 224005.8954326923, RMSE(mm): 236.64630539725965\n"
     ]
    },
    {
     "name": "stderr",
     "output_type": "stream",
     "text": [
      "1it [00:00,  3.51it/s]"
     ]
    },
    {
     "name": "stdout",
     "output_type": "stream",
     "text": [
      "Epoch 2, Batch 0, position loss: 111237.8046875 reconstruction loss: 0.0 RMSE(mm): 166.7616597778848\n"
     ]
    },
    {
     "name": "stderr",
     "output_type": "stream",
     "text": [
      "101it [00:29,  3.42it/s]"
     ]
    },
    {
     "name": "stdout",
     "output_type": "stream",
     "text": [
      "Epoch 2, Batch 100, position loss: 50595.578125 reconstruction loss: 0.0 RMSE(mm): 112.46730427662077\n"
     ]
    },
    {
     "name": "stderr",
     "output_type": "stream",
     "text": [
      "201it [00:58,  3.42it/s]"
     ]
    },
    {
     "name": "stdout",
     "output_type": "stream",
     "text": [
      "Epoch 2, Batch 200, position loss: 33305.51171875 reconstruction loss: 0.0 RMSE(mm): 91.24898865021738\n"
     ]
    },
    {
     "name": "stderr",
     "output_type": "stream",
     "text": [
      "230it [01:07,  3.42it/s]\n"
     ]
    },
    {
     "name": "stdout",
     "output_type": "stream",
     "text": [
      "Epoch 2, Val Loss: 22064.481651893027, RMSE(mm): 74.27058915191974\n",
      "Epoch 2, test Loss: 21196.305513822117, RMSE(mm): 72.7947551576041\n"
     ]
    },
    {
     "name": "stderr",
     "output_type": "stream",
     "text": [
      "1it [00:00,  3.49it/s]"
     ]
    },
    {
     "name": "stdout",
     "output_type": "stream",
     "text": [
      "Epoch 3, Batch 0, position loss: 18918.6171875 reconstruction loss: 0.0 RMSE(mm): 68.77248211948584\n"
     ]
    },
    {
     "name": "stderr",
     "output_type": "stream",
     "text": [
      "101it [00:29,  3.44it/s]"
     ]
    },
    {
     "name": "stdout",
     "output_type": "stream",
     "text": [
      "Epoch 3, Batch 100, position loss: 15007.9921875 reconstruction loss: 0.0 RMSE(mm): 61.253555381504185\n"
     ]
    },
    {
     "name": "stderr",
     "output_type": "stream",
     "text": [
      "201it [00:58,  3.42it/s]"
     ]
    },
    {
     "name": "stdout",
     "output_type": "stream",
     "text": [
      "Epoch 3, Batch 200, position loss: 22509.8515625 reconstruction loss: 0.0 RMSE(mm): 75.01641747394366\n"
     ]
    },
    {
     "name": "stderr",
     "output_type": "stream",
     "text": [
      "230it [01:07,  3.43it/s]\n"
     ]
    },
    {
     "name": "stdout",
     "output_type": "stream",
     "text": [
      "Epoch 3, Val Loss: 19955.067551832934, RMSE(mm): 70.63120335912615\n",
      "Epoch 3, test Loss: 18248.88720703125, RMSE(mm): 67.54422108335999\n"
     ]
    },
    {
     "name": "stderr",
     "output_type": "stream",
     "text": [
      "1it [00:00,  3.45it/s]"
     ]
    },
    {
     "name": "stdout",
     "output_type": "stream",
     "text": [
      "Epoch 4, Batch 0, position loss: 15181.439453125 reconstruction loss: 0.0 RMSE(mm): 61.60649205466296\n"
     ]
    },
    {
     "name": "stderr",
     "output_type": "stream",
     "text": [
      "101it [00:29,  3.44it/s]"
     ]
    },
    {
     "name": "stdout",
     "output_type": "stream",
     "text": [
      "Epoch 4, Batch 100, position loss: 14645.6025390625 reconstruction loss: 0.0 RMSE(mm): 60.50950863100464\n"
     ]
    },
    {
     "name": "stderr",
     "output_type": "stream",
     "text": [
      "201it [00:58,  3.44it/s]"
     ]
    },
    {
     "name": "stdout",
     "output_type": "stream",
     "text": [
      "Epoch 4, Batch 200, position loss: 22140.98828125 reconstruction loss: 0.0 RMSE(mm): 74.3992410600572\n"
     ]
    },
    {
     "name": "stderr",
     "output_type": "stream",
     "text": [
      "230it [01:06,  3.44it/s]\n"
     ]
    },
    {
     "name": "stdout",
     "output_type": "stream",
     "text": [
      "Epoch 4, Val Loss: 20058.392559344953, RMSE(mm): 70.81382732091409\n",
      "Epoch 4, test Loss: 18172.010197566105, RMSE(mm): 67.40179930381329\n"
     ]
    },
    {
     "name": "stderr",
     "output_type": "stream",
     "text": [
      "1it [00:00,  3.44it/s]"
     ]
    },
    {
     "name": "stdout",
     "output_type": "stream",
     "text": [
      "Epoch 5, Batch 0, position loss: 14485.40625 reconstruction loss: 0.0 RMSE(mm): 60.17766664220207\n"
     ]
    },
    {
     "name": "stderr",
     "output_type": "stream",
     "text": [
      "101it [00:29,  3.44it/s]"
     ]
    },
    {
     "name": "stdout",
     "output_type": "stream",
     "text": [
      "Epoch 5, Batch 100, position loss: 13787.255859375 reconstruction loss: 0.0 RMSE(mm): 58.709573025561596\n"
     ]
    },
    {
     "name": "stderr",
     "output_type": "stream",
     "text": [
      "201it [00:58,  3.44it/s]"
     ]
    },
    {
     "name": "stdout",
     "output_type": "stream",
     "text": [
      "Epoch 5, Batch 200, position loss: 22070.328125 reconstruction loss: 0.0 RMSE(mm): 74.28042831897243\n"
     ]
    },
    {
     "name": "stderr",
     "output_type": "stream",
     "text": [
      "230it [01:06,  3.44it/s]\n"
     ]
    },
    {
     "name": "stdout",
     "output_type": "stream",
     "text": [
      "Epoch 5, Val Loss: 20289.74864783654, RMSE(mm): 71.22104437565581\n",
      "Epoch 5, test Loss: 18281.844933143027, RMSE(mm): 67.60518643777085\n"
     ]
    },
    {
     "name": "stderr",
     "output_type": "stream",
     "text": [
      "1it [00:00,  3.44it/s]"
     ]
    },
    {
     "name": "stdout",
     "output_type": "stream",
     "text": [
      "Epoch 6, Batch 0, position loss: 14621.12890625 reconstruction loss: 0.0 RMSE(mm): 60.45893008119231\n"
     ]
    },
    {
     "name": "stderr",
     "output_type": "stream",
     "text": [
      "101it [00:29,  3.44it/s]"
     ]
    },
    {
     "name": "stdout",
     "output_type": "stream",
     "text": [
      "Epoch 6, Batch 100, position loss: 15064.763671875 reconstruction loss: 0.0 RMSE(mm): 61.36929947431981\n"
     ]
    },
    {
     "name": "stderr",
     "output_type": "stream",
     "text": [
      "201it [00:58,  3.44it/s]"
     ]
    },
    {
     "name": "stdout",
     "output_type": "stream",
     "text": [
      "Epoch 6, Batch 200, position loss: 16327.845703125 reconstruction loss: 0.0 RMSE(mm): 63.890229501710586\n"
     ]
    },
    {
     "name": "stderr",
     "output_type": "stream",
     "text": [
      "230it [01:06,  3.43it/s]\n"
     ]
    },
    {
     "name": "stdout",
     "output_type": "stream",
     "text": [
      "Epoch 6, Val Loss: 18559.038743239184, RMSE(mm): 68.11578147397118\n",
      "Epoch 6, test Loss: 16449.49425330529, RMSE(mm): 64.12779088138248\n"
     ]
    },
    {
     "name": "stderr",
     "output_type": "stream",
     "text": [
      "1it [00:00,  3.42it/s]"
     ]
    },
    {
     "name": "stdout",
     "output_type": "stream",
     "text": [
      "Epoch 7, Batch 0, position loss: 14509.71484375 reconstruction loss: 0.0 RMSE(mm): 60.228138863304586\n"
     ]
    },
    {
     "name": "stderr",
     "output_type": "stream",
     "text": [
      "101it [00:29,  3.44it/s]"
     ]
    },
    {
     "name": "stdout",
     "output_type": "stream",
     "text": [
      "Epoch 7, Batch 100, position loss: 14943.224609375 reconstruction loss: 0.0 RMSE(mm): 61.121241416906365\n"
     ]
    },
    {
     "name": "stderr",
     "output_type": "stream",
     "text": [
      "201it [00:58,  3.44it/s]"
     ]
    },
    {
     "name": "stdout",
     "output_type": "stream",
     "text": [
      "Epoch 7, Batch 200, position loss: 15794.603515625 reconstruction loss: 0.0 RMSE(mm): 62.83829150212671\n"
     ]
    },
    {
     "name": "stderr",
     "output_type": "stream",
     "text": [
      "230it [01:06,  3.44it/s]\n"
     ]
    },
    {
     "name": "stdout",
     "output_type": "stream",
     "text": [
      "Epoch 7, Val Loss: 18407.918062650242, RMSE(mm): 67.83789144469749\n",
      "Epoch 7, test Loss: 16189.488168569711, RMSE(mm): 63.61895976941487\n"
     ]
    },
    {
     "name": "stderr",
     "output_type": "stream",
     "text": [
      "1it [00:00,  3.45it/s]"
     ]
    },
    {
     "name": "stdout",
     "output_type": "stream",
     "text": [
      "Epoch 8, Batch 0, position loss: 14028.8896484375 reconstruction loss: 0.0 RMSE(mm): 59.221806896694524\n"
     ]
    },
    {
     "name": "stderr",
     "output_type": "stream",
     "text": [
      "101it [00:29,  3.45it/s]"
     ]
    },
    {
     "name": "stdout",
     "output_type": "stream",
     "text": [
      "Epoch 8, Batch 100, position loss: 14857.4296875 reconstruction loss: 0.0 RMSE(mm): 60.94552831730151\n"
     ]
    },
    {
     "name": "stderr",
     "output_type": "stream",
     "text": [
      "201it [00:58,  3.44it/s]"
     ]
    },
    {
     "name": "stdout",
     "output_type": "stream",
     "text": [
      "Epoch 8, Batch 200, position loss: 16516.501953125 reconstruction loss: 0.0 RMSE(mm): 64.25827174987863\n"
     ]
    },
    {
     "name": "stderr",
     "output_type": "stream",
     "text": [
      "230it [01:06,  3.44it/s]\n"
     ]
    },
    {
     "name": "stdout",
     "output_type": "stream",
     "text": [
      "Epoch 8, Val Loss: 18445.327110877402, RMSE(mm): 67.90678742010515\n",
      "Epoch 8, test Loss: 16130.116943359375, RMSE(mm): 63.502198669336195\n"
     ]
    },
    {
     "name": "stderr",
     "output_type": "stream",
     "text": [
      "1it [00:00,  3.45it/s]"
     ]
    },
    {
     "name": "stdout",
     "output_type": "stream",
     "text": [
      "Epoch 9, Batch 0, position loss: 13851.87109375 reconstruction loss: 0.0 RMSE(mm): 58.846986103261905\n"
     ]
    },
    {
     "name": "stderr",
     "output_type": "stream",
     "text": [
      "101it [00:29,  3.43it/s]"
     ]
    },
    {
     "name": "stdout",
     "output_type": "stream",
     "text": [
      "Epoch 9, Batch 100, position loss: 15186.841796875 reconstruction loss: 0.0 RMSE(mm): 61.61745247264569\n"
     ]
    },
    {
     "name": "stderr",
     "output_type": "stream",
     "text": [
      "201it [00:58,  3.43it/s]"
     ]
    },
    {
     "name": "stdout",
     "output_type": "stream",
     "text": [
      "Epoch 9, Batch 200, position loss: 15422.6396484375 reconstruction loss: 0.0 RMSE(mm): 62.093960351304496\n"
     ]
    },
    {
     "name": "stderr",
     "output_type": "stream",
     "text": [
      "230it [01:06,  3.44it/s]\n"
     ]
    },
    {
     "name": "stdout",
     "output_type": "stream",
     "text": [
      "Epoch 9, Val Loss: 18424.840163010816, RMSE(mm): 67.86906541829424\n",
      "Epoch 9, test Loss: 16092.134746844951, RMSE(mm): 63.427389089503265\n"
     ]
    },
    {
     "name": "stderr",
     "output_type": "stream",
     "text": [
      "1it [00:00,  3.43it/s]"
     ]
    },
    {
     "name": "stdout",
     "output_type": "stream",
     "text": [
      "Epoch 10, Batch 0, position loss: 13569.9453125 reconstruction loss: 0.0 RMSE(mm): 58.24505410869664\n"
     ]
    },
    {
     "name": "stderr",
     "output_type": "stream",
     "text": [
      "101it [00:29,  3.41it/s]"
     ]
    },
    {
     "name": "stdout",
     "output_type": "stream",
     "text": [
      "Epoch 10, Batch 100, position loss: 14576.2685546875 reconstruction loss: 0.0 RMSE(mm): 60.366109189443996\n"
     ]
    },
    {
     "name": "stderr",
     "output_type": "stream",
     "text": [
      "201it [00:58,  3.43it/s]"
     ]
    },
    {
     "name": "stdout",
     "output_type": "stream",
     "text": [
      "Epoch 10, Batch 200, position loss: 15472.708984375 reconstruction loss: 0.0 RMSE(mm): 62.19467216807039\n"
     ]
    },
    {
     "name": "stderr",
     "output_type": "stream",
     "text": [
      "230it [01:06,  3.44it/s]\n"
     ]
    },
    {
     "name": "stdout",
     "output_type": "stream",
     "text": [
      "Epoch 10, Val Loss: 18327.573467548078, RMSE(mm): 67.68968434619133\n",
      "Epoch 10, test Loss: 15980.782358022836, RMSE(mm): 63.20755959144214\n"
     ]
    },
    {
     "name": "stderr",
     "output_type": "stream",
     "text": [
      "1it [00:00,  3.44it/s]"
     ]
    },
    {
     "name": "stdout",
     "output_type": "stream",
     "text": [
      "Epoch 11, Batch 0, position loss: 12979.3857421875 reconstruction loss: 0.0 RMSE(mm): 56.96355357197157\n"
     ]
    },
    {
     "name": "stderr",
     "output_type": "stream",
     "text": [
      "101it [00:29,  3.43it/s]"
     ]
    },
    {
     "name": "stdout",
     "output_type": "stream",
     "text": [
      "Epoch 11, Batch 100, position loss: 13346.35546875 reconstruction loss: 0.0 RMSE(mm): 57.76321378859992\n"
     ]
    },
    {
     "name": "stderr",
     "output_type": "stream",
     "text": [
      "201it [00:58,  3.41it/s]"
     ]
    },
    {
     "name": "stdout",
     "output_type": "stream",
     "text": [
      "Epoch 11, Batch 200, position loss: 15363.7626953125 reconstruction loss: 0.0 RMSE(mm): 61.97532310386227\n"
     ]
    },
    {
     "name": "stderr",
     "output_type": "stream",
     "text": [
      "230it [01:07,  3.43it/s]\n"
     ]
    },
    {
     "name": "stdout",
     "output_type": "stream",
     "text": [
      "Epoch 11, Val Loss: 18404.60712139423, RMSE(mm): 67.8317903371904\n",
      "Epoch 11, test Loss: 16013.064340444711, RMSE(mm): 63.27136860469495\n"
     ]
    },
    {
     "name": "stderr",
     "output_type": "stream",
     "text": [
      "1it [00:00,  3.57it/s]"
     ]
    },
    {
     "name": "stdout",
     "output_type": "stream",
     "text": [
      "Epoch 12, Batch 0, position loss: 12709.5888671875 reconstruction loss: 0.0 RMSE(mm): 56.368406193513\n"
     ]
    },
    {
     "name": "stderr",
     "output_type": "stream",
     "text": [
      "101it [00:28,  3.54it/s]"
     ]
    },
    {
     "name": "stdout",
     "output_type": "stream",
     "text": [
      "Epoch 12, Batch 100, position loss: 13566.322265625 reconstruction loss: 0.0 RMSE(mm): 58.23727815073649\n"
     ]
    },
    {
     "name": "stderr",
     "output_type": "stream",
     "text": [
      "201it [00:57,  3.56it/s]"
     ]
    },
    {
     "name": "stdout",
     "output_type": "stream",
     "text": [
      "Epoch 12, Batch 200, position loss: 15499.4794921875 reconstruction loss: 0.0 RMSE(mm): 62.24845277632911\n"
     ]
    },
    {
     "name": "stderr",
     "output_type": "stream",
     "text": [
      "230it [01:05,  3.53it/s]\n"
     ]
    },
    {
     "name": "stdout",
     "output_type": "stream",
     "text": [
      "Epoch 12, Val Loss: 18084.72859074519, RMSE(mm): 67.23973637430696\n",
      "Epoch 12, test Loss: 15693.980506310096, RMSE(mm): 62.637809081875815\n"
     ]
    },
    {
     "name": "stderr",
     "output_type": "stream",
     "text": [
      "1it [00:00,  3.55it/s]"
     ]
    },
    {
     "name": "stdout",
     "output_type": "stream",
     "text": [
      "Epoch 13, Batch 0, position loss: 12730.0283203125 reconstruction loss: 0.0 RMSE(mm): 56.41371358170037\n"
     ]
    },
    {
     "name": "stderr",
     "output_type": "stream",
     "text": [
      "101it [00:28,  3.56it/s]"
     ]
    },
    {
     "name": "stdout",
     "output_type": "stream",
     "text": [
      "Epoch 13, Batch 100, position loss: 14031.857421875 reconstruction loss: 0.0 RMSE(mm): 59.22807067150465\n"
     ]
    },
    {
     "name": "stderr",
     "output_type": "stream",
     "text": [
      "201it [00:56,  3.57it/s]"
     ]
    },
    {
     "name": "stdout",
     "output_type": "stream",
     "text": [
      "Epoch 13, Batch 200, position loss: 14617.814453125 reconstruction loss: 0.0 RMSE(mm): 60.452076997248405\n"
     ]
    },
    {
     "name": "stderr",
     "output_type": "stream",
     "text": [
      "230it [01:04,  3.56it/s]\n"
     ]
    },
    {
     "name": "stdout",
     "output_type": "stream",
     "text": [
      "Epoch 13, Val Loss: 18034.752760667066, RMSE(mm): 67.14676604399327\n",
      "Epoch 13, test Loss: 15659.923114483174, RMSE(mm): 62.56980724455521\n"
     ]
    },
    {
     "name": "stderr",
     "output_type": "stream",
     "text": [
      "1it [00:00,  3.56it/s]"
     ]
    },
    {
     "name": "stdout",
     "output_type": "stream",
     "text": [
      "Epoch 14, Batch 0, position loss: 13533.73828125 reconstruction loss: 0.0 RMSE(mm): 58.16729811769238\n"
     ]
    },
    {
     "name": "stderr",
     "output_type": "stream",
     "text": [
      "101it [00:29,  3.45it/s]"
     ]
    },
    {
     "name": "stdout",
     "output_type": "stream",
     "text": [
      "Epoch 14, Batch 100, position loss: 13348.953125 reconstruction loss: 0.0 RMSE(mm): 57.76883486145449\n"
     ]
    },
    {
     "name": "stderr",
     "output_type": "stream",
     "text": [
      "201it [00:58,  3.50it/s]"
     ]
    },
    {
     "name": "stdout",
     "output_type": "stream",
     "text": [
      "Epoch 14, Batch 200, position loss: 15793.46484375 reconstruction loss: 0.0 RMSE(mm): 62.836026377687986\n"
     ]
    },
    {
     "name": "stderr",
     "output_type": "stream",
     "text": [
      "230it [01:06,  3.45it/s]\n"
     ]
    },
    {
     "name": "stdout",
     "output_type": "stream",
     "text": [
      "Epoch 14, Val Loss: 18051.28260216346, RMSE(mm): 67.17753084581827\n",
      "Epoch 14, test Loss: 15666.642634465145, RMSE(mm): 62.58322985126516\n"
     ]
    },
    {
     "name": "stderr",
     "output_type": "stream",
     "text": [
      "1it [00:00,  3.46it/s]"
     ]
    },
    {
     "name": "stdout",
     "output_type": "stream",
     "text": [
      "Epoch 15, Batch 0, position loss: 13593.482421875 reconstruction loss: 0.0 RMSE(mm): 58.29554533125795\n"
     ]
    },
    {
     "name": "stderr",
     "output_type": "stream",
     "text": [
      "101it [00:29,  3.43it/s]"
     ]
    },
    {
     "name": "stdout",
     "output_type": "stream",
     "text": [
      "Epoch 15, Batch 100, position loss: 14484.88671875 reconstruction loss: 0.0 RMSE(mm): 60.17658747127075\n"
     ]
    },
    {
     "name": "stderr",
     "output_type": "stream",
     "text": [
      "201it [00:58,  3.44it/s]"
     ]
    },
    {
     "name": "stdout",
     "output_type": "stream",
     "text": [
      "Epoch 15, Batch 200, position loss: 15120.0927734375 reconstruction loss: 0.0 RMSE(mm): 61.48189321547748\n"
     ]
    },
    {
     "name": "stderr",
     "output_type": "stream",
     "text": [
      "230it [01:06,  3.44it/s]\n"
     ]
    },
    {
     "name": "stdout",
     "output_type": "stream",
     "text": [
      "Epoch 15, Val Loss: 18015.57850060096, RMSE(mm): 67.11106186874292\n",
      "Epoch 15, test Loss: 15652.62530048077, RMSE(mm): 62.55522620149489\n"
     ]
    },
    {
     "name": "stderr",
     "output_type": "stream",
     "text": [
      "1it [00:00,  3.47it/s]"
     ]
    },
    {
     "name": "stdout",
     "output_type": "stream",
     "text": [
      "Epoch 16, Batch 0, position loss: 13098.587890625 reconstruction loss: 0.0 RMSE(mm): 57.224531213949234\n"
     ]
    },
    {
     "name": "stderr",
     "output_type": "stream",
     "text": [
      "101it [00:29,  3.44it/s]"
     ]
    },
    {
     "name": "stdout",
     "output_type": "stream",
     "text": [
      "Epoch 16, Batch 100, position loss: 13421.345703125 reconstruction loss: 0.0 RMSE(mm): 57.92526586716068\n"
     ]
    },
    {
     "name": "stderr",
     "output_type": "stream",
     "text": [
      "201it [00:58,  3.43it/s]"
     ]
    },
    {
     "name": "stdout",
     "output_type": "stream",
     "text": [
      "Epoch 16, Batch 200, position loss: 15419.552734375 reconstruction loss: 0.0 RMSE(mm): 62.087745840815884\n"
     ]
    },
    {
     "name": "stderr",
     "output_type": "stream",
     "text": [
      "230it [01:06,  3.45it/s]\n"
     ]
    },
    {
     "name": "stdout",
     "output_type": "stream",
     "text": [
      "Epoch 16, Val Loss: 18047.469463641828, RMSE(mm): 67.17043520709433\n",
      "Epoch 16, test Loss: 15678.19442983774, RMSE(mm): 62.60629846476659\n"
     ]
    },
    {
     "name": "stderr",
     "output_type": "stream",
     "text": [
      "1it [00:00,  3.43it/s]"
     ]
    },
    {
     "name": "stdout",
     "output_type": "stream",
     "text": [
      "Epoch 17, Batch 0, position loss: 12920.341796875 reconstruction loss: 0.0 RMSE(mm): 56.83384070444958\n"
     ]
    },
    {
     "name": "stderr",
     "output_type": "stream",
     "text": [
      "101it [00:29,  3.44it/s]"
     ]
    },
    {
     "name": "stdout",
     "output_type": "stream",
     "text": [
      "Epoch 17, Batch 100, position loss: 13806.271484375 reconstruction loss: 0.0 RMSE(mm): 58.75004571141839\n"
     ]
    },
    {
     "name": "stderr",
     "output_type": "stream",
     "text": [
      "201it [00:58,  3.44it/s]"
     ]
    },
    {
     "name": "stdout",
     "output_type": "stream",
     "text": [
      "Epoch 17, Batch 200, position loss: 15473.8671875 reconstruction loss: 0.0 RMSE(mm): 62.19699990252745\n"
     ]
    },
    {
     "name": "stderr",
     "output_type": "stream",
     "text": [
      "230it [01:06,  3.45it/s]\n"
     ]
    },
    {
     "name": "stdout",
     "output_type": "stream",
     "text": [
      "Epoch 17, Val Loss: 17998.119046724758, RMSE(mm): 67.0785342839361\n",
      "Epoch 17, test Loss: 15634.376502403846, RMSE(mm): 62.51875019225002\n"
     ]
    },
    {
     "name": "stderr",
     "output_type": "stream",
     "text": [
      "1it [00:00,  3.46it/s]"
     ]
    },
    {
     "name": "stdout",
     "output_type": "stream",
     "text": [
      "Epoch 18, Batch 0, position loss: 12778.357421875 reconstruction loss: 0.0 RMSE(mm): 56.52069846939924\n"
     ]
    },
    {
     "name": "stderr",
     "output_type": "stream",
     "text": [
      "101it [00:29,  3.44it/s]"
     ]
    },
    {
     "name": "stdout",
     "output_type": "stream",
     "text": [
      "Epoch 18, Batch 100, position loss: 14184.744140625 reconstruction loss: 0.0 RMSE(mm): 59.549861755979336\n"
     ]
    },
    {
     "name": "stderr",
     "output_type": "stream",
     "text": [
      "201it [00:58,  3.45it/s]"
     ]
    },
    {
     "name": "stdout",
     "output_type": "stream",
     "text": [
      "Epoch 18, Batch 200, position loss: 15084.353515625 reconstruction loss: 0.0 RMSE(mm): 61.40918806584443\n"
     ]
    },
    {
     "name": "stderr",
     "output_type": "stream",
     "text": [
      "230it [01:06,  3.44it/s]\n"
     ]
    },
    {
     "name": "stdout",
     "output_type": "stream",
     "text": [
      "Epoch 18, Val Loss: 17986.708345853367, RMSE(mm): 67.05726721589049\n",
      "Epoch 18, test Loss: 15623.816293569711, RMSE(mm): 62.49763254230057\n"
     ]
    },
    {
     "name": "stderr",
     "output_type": "stream",
     "text": [
      "1it [00:00,  3.47it/s]"
     ]
    },
    {
     "name": "stdout",
     "output_type": "stream",
     "text": [
      "Epoch 19, Batch 0, position loss: 12701.529296875 reconstruction loss: 0.0 RMSE(mm): 56.350530824640416\n"
     ]
    },
    {
     "name": "stderr",
     "output_type": "stream",
     "text": [
      "101it [00:29,  3.43it/s]"
     ]
    },
    {
     "name": "stdout",
     "output_type": "stream",
     "text": [
      "Epoch 19, Batch 100, position loss: 13320.21875 reconstruction loss: 0.0 RMSE(mm): 57.70662602769287\n"
     ]
    },
    {
     "name": "stderr",
     "output_type": "stream",
     "text": [
      "201it [00:58,  3.44it/s]"
     ]
    },
    {
     "name": "stdout",
     "output_type": "stream",
     "text": [
      "Epoch 19, Batch 200, position loss: 14761.111328125 reconstruction loss: 0.0 RMSE(mm): 60.74765700857318\n"
     ]
    },
    {
     "name": "stderr",
     "output_type": "stream",
     "text": [
      "230it [01:06,  3.44it/s]\n"
     ]
    },
    {
     "name": "stdout",
     "output_type": "stream",
     "text": [
      "Epoch 19, Val Loss: 18001.48985877404, RMSE(mm): 67.08481545546287\n",
      "Epoch 19, test Loss: 15637.66787484976, RMSE(mm): 62.52533061657843\n",
      "create dataloader...\n",
      "HI\n",
      "training...\n"
     ]
    },
    {
     "name": "stderr",
     "output_type": "stream",
     "text": [
      "1it [00:00,  2.27it/s]"
     ]
    },
    {
     "name": "stdout",
     "output_type": "stream",
     "text": [
      "Epoch 0, Batch 0, position loss: 168956.703125 reconstruction loss: 0.0 RMSE(mm): 205.52171608190216\n"
     ]
    },
    {
     "name": "stderr",
     "output_type": "stream",
     "text": [
      "101it [00:29,  3.45it/s]"
     ]
    },
    {
     "name": "stdout",
     "output_type": "stream",
     "text": [
      "Epoch 0, Batch 100, position loss: 135809.71875 reconstruction loss: 0.0 RMSE(mm): 184.26185087396686\n"
     ]
    },
    {
     "name": "stderr",
     "output_type": "stream",
     "text": [
      "201it [00:58,  3.43it/s]"
     ]
    },
    {
     "name": "stdout",
     "output_type": "stream",
     "text": [
      "Epoch 0, Batch 200, position loss: 152547.265625 reconstruction loss: 0.0 RMSE(mm): 195.2864982692096\n"
     ]
    },
    {
     "name": "stderr",
     "output_type": "stream",
     "text": [
      "230it [01:06,  3.44it/s]\n"
     ]
    },
    {
     "name": "stdout",
     "output_type": "stream",
     "text": [
      "Epoch 0, Val Loss: 130306.888671875, RMSE(mm): 180.49022734754575\n",
      "Epoch 0, test Loss: 145718.65114182694, RMSE(mm): 190.86556207303803\n"
     ]
    },
    {
     "name": "stderr",
     "output_type": "stream",
     "text": [
      "1it [00:00,  3.45it/s]"
     ]
    },
    {
     "name": "stdout",
     "output_type": "stream",
     "text": [
      "Epoch 1, Batch 0, position loss: 149681.78125 reconstruction loss: 0.0 RMSE(mm): 193.44364893296446\n"
     ]
    },
    {
     "name": "stderr",
     "output_type": "stream",
     "text": [
      "101it [00:29,  3.44it/s]"
     ]
    },
    {
     "name": "stdout",
     "output_type": "stream",
     "text": [
      "Epoch 1, Batch 100, position loss: 127309.1640625 reconstruction loss: 0.0 RMSE(mm): 178.40204879884368\n"
     ]
    },
    {
     "name": "stderr",
     "output_type": "stream",
     "text": [
      "201it [00:58,  3.45it/s]"
     ]
    },
    {
     "name": "stdout",
     "output_type": "stream",
     "text": [
      "Epoch 1, Batch 200, position loss: 126694.3359375 reconstruction loss: 0.0 RMSE(mm): 177.97073912409027\n"
     ]
    },
    {
     "name": "stderr",
     "output_type": "stream",
     "text": [
      "230it [01:06,  3.45it/s]\n"
     ]
    },
    {
     "name": "stdout",
     "output_type": "stream",
     "text": [
      "Epoch 1, Val Loss: 69528.85426682692, RMSE(mm): 131.84162304335732\n",
      "Epoch 1, test Loss: 73811.65459735577, RMSE(mm): 135.84150194008802\n"
     ]
    },
    {
     "name": "stderr",
     "output_type": "stream",
     "text": [
      "1it [00:00,  3.44it/s]"
     ]
    },
    {
     "name": "stdout",
     "output_type": "stream",
     "text": [
      "Epoch 2, Batch 0, position loss: 114874.203125 reconstruction loss: 0.0 RMSE(mm): 169.46548551622539\n"
     ]
    },
    {
     "name": "stderr",
     "output_type": "stream",
     "text": [
      "101it [00:29,  3.44it/s]"
     ]
    },
    {
     "name": "stdout",
     "output_type": "stream",
     "text": [
      "Epoch 2, Batch 100, position loss: 55608.328125 reconstruction loss: 0.0 RMSE(mm): 117.90709067418295\n"
     ]
    },
    {
     "name": "stderr",
     "output_type": "stream",
     "text": [
      "201it [00:58,  3.44it/s]"
     ]
    },
    {
     "name": "stdout",
     "output_type": "stream",
     "text": [
      "Epoch 2, Batch 200, position loss: 32418.333984375 reconstruction loss: 0.0 RMSE(mm): 90.02546026593672\n"
     ]
    },
    {
     "name": "stderr",
     "output_type": "stream",
     "text": [
      "230it [01:06,  3.45it/s]\n"
     ]
    },
    {
     "name": "stdout",
     "output_type": "stream",
     "text": [
      "Epoch 2, Val Loss: 25738.92566856971, RMSE(mm): 80.21677765369554\n",
      "Epoch 2, test Loss: 25718.04803936298, RMSE(mm): 80.1842379139488\n"
     ]
    },
    {
     "name": "stderr",
     "output_type": "stream",
     "text": [
      "1it [00:00,  3.47it/s]"
     ]
    },
    {
     "name": "stdout",
     "output_type": "stream",
     "text": [
      "Epoch 3, Batch 0, position loss: 24122.185546875 reconstruction loss: 0.0 RMSE(mm): 77.65659268033043\n"
     ]
    },
    {
     "name": "stderr",
     "output_type": "stream",
     "text": [
      "101it [00:29,  3.43it/s]"
     ]
    },
    {
     "name": "stdout",
     "output_type": "stream",
     "text": [
      "Epoch 3, Batch 100, position loss: 15888.978515625 reconstruction loss: 0.0 RMSE(mm): 63.025745762396575\n"
     ]
    },
    {
     "name": "stderr",
     "output_type": "stream",
     "text": [
      "201it [00:58,  3.45it/s]"
     ]
    },
    {
     "name": "stdout",
     "output_type": "stream",
     "text": [
      "Epoch 3, Batch 200, position loss: 25534.3203125 reconstruction loss: 0.0 RMSE(mm): 79.89730958001653\n"
     ]
    },
    {
     "name": "stderr",
     "output_type": "stream",
     "text": [
      "230it [01:06,  3.44it/s]\n"
     ]
    },
    {
     "name": "stdout",
     "output_type": "stream",
     "text": [
      "Epoch 3, Val Loss: 24073.880220853367, RMSE(mm): 77.57879900599997\n",
      "Epoch 3, test Loss: 23732.517672025242, RMSE(mm): 77.02680973535325\n"
     ]
    },
    {
     "name": "stderr",
     "output_type": "stream",
     "text": [
      "1it [00:00,  3.47it/s]"
     ]
    },
    {
     "name": "stdout",
     "output_type": "stream",
     "text": [
      "Epoch 4, Batch 0, position loss: 16524.23046875 reconstruction loss: 0.0 RMSE(mm): 64.27330407865695\n"
     ]
    },
    {
     "name": "stderr",
     "output_type": "stream",
     "text": [
      "101it [00:29,  3.45it/s]"
     ]
    },
    {
     "name": "stdout",
     "output_type": "stream",
     "text": [
      "Epoch 4, Batch 100, position loss: 15841.791015625 reconstruction loss: 0.0 RMSE(mm): 62.93208842797329\n"
     ]
    },
    {
     "name": "stderr",
     "output_type": "stream",
     "text": [
      "201it [00:58,  3.43it/s]"
     ]
    },
    {
     "name": "stdout",
     "output_type": "stream",
     "text": [
      "Epoch 4, Batch 200, position loss: 24408.57421875 reconstruction loss: 0.0 RMSE(mm): 78.11621825643827\n"
     ]
    },
    {
     "name": "stderr",
     "output_type": "stream",
     "text": [
      "230it [01:06,  3.44it/s]\n"
     ]
    },
    {
     "name": "stdout",
     "output_type": "stream",
     "text": [
      "Epoch 4, Val Loss: 20183.81114783654, RMSE(mm): 71.03487021849998\n",
      "Epoch 4, test Loss: 17983.89892578125, RMSE(mm): 67.05203003224669\n"
     ]
    },
    {
     "name": "stderr",
     "output_type": "stream",
     "text": [
      "1it [00:00,  3.44it/s]"
     ]
    },
    {
     "name": "stdout",
     "output_type": "stream",
     "text": [
      "Epoch 5, Batch 0, position loss: 14564.0771484375 reconstruction loss: 0.0 RMSE(mm): 60.34085918438165\n"
     ]
    },
    {
     "name": "stderr",
     "output_type": "stream",
     "text": [
      "101it [00:29,  3.45it/s]"
     ]
    },
    {
     "name": "stdout",
     "output_type": "stream",
     "text": [
      "Epoch 5, Batch 100, position loss: 14765.7177734375 reconstruction loss: 0.0 RMSE(mm): 60.75713491730313\n"
     ]
    },
    {
     "name": "stderr",
     "output_type": "stream",
     "text": [
      "201it [00:58,  3.43it/s]"
     ]
    },
    {
     "name": "stdout",
     "output_type": "stream",
     "text": [
      "Epoch 5, Batch 200, position loss: 24474.58984375 reconstruction loss: 0.0 RMSE(mm): 78.22178380053411\n"
     ]
    },
    {
     "name": "stderr",
     "output_type": "stream",
     "text": [
      "230it [01:06,  3.45it/s]\n"
     ]
    },
    {
     "name": "stdout",
     "output_type": "stream",
     "text": [
      "Epoch 5, Val Loss: 21219.65125450721, RMSE(mm): 72.8348324198443\n",
      "Epoch 5, test Loss: 20302.38994891827, RMSE(mm): 71.24322765870149\n"
     ]
    },
    {
     "name": "stderr",
     "output_type": "stream",
     "text": [
      "1it [00:00,  3.42it/s]"
     ]
    },
    {
     "name": "stdout",
     "output_type": "stream",
     "text": [
      "Epoch 6, Batch 0, position loss: 13614.6923828125 reconstruction loss: 0.0 RMSE(mm): 58.34100698225156\n"
     ]
    },
    {
     "name": "stderr",
     "output_type": "stream",
     "text": [
      "101it [00:29,  3.46it/s]"
     ]
    },
    {
     "name": "stdout",
     "output_type": "stream",
     "text": [
      "Epoch 6, Batch 100, position loss: 15991.3359375 reconstruction loss: 0.0 RMSE(mm): 63.228427027524575\n"
     ]
    },
    {
     "name": "stderr",
     "output_type": "stream",
     "text": [
      "201it [00:57,  3.55it/s]"
     ]
    },
    {
     "name": "stdout",
     "output_type": "stream",
     "text": [
      "Epoch 6, Batch 200, position loss: 15848.404296875 reconstruction loss: 0.0 RMSE(mm): 62.94522280696725\n"
     ]
    },
    {
     "name": "stderr",
     "output_type": "stream",
     "text": [
      "230it [01:05,  3.50it/s]\n"
     ]
    },
    {
     "name": "stdout",
     "output_type": "stream",
     "text": [
      "Epoch 6, Val Loss: 18119.142747145434, RMSE(mm): 67.30368256482225\n",
      "Epoch 6, test Loss: 16015.980806790865, RMSE(mm): 63.27713016325659\n"
     ]
    },
    {
     "name": "stderr",
     "output_type": "stream",
     "text": [
      "1it [00:00,  3.55it/s]"
     ]
    },
    {
     "name": "stdout",
     "output_type": "stream",
     "text": [
      "Epoch 7, Batch 0, position loss: 13405.423828125 reconstruction loss: 0.0 RMSE(mm): 57.89089701353098\n"
     ]
    },
    {
     "name": "stderr",
     "output_type": "stream",
     "text": [
      "101it [00:28,  3.55it/s]"
     ]
    },
    {
     "name": "stdout",
     "output_type": "stream",
     "text": [
      "Epoch 7, Batch 100, position loss: 14073.154296875 reconstruction loss: 0.0 RMSE(mm): 59.31516310538773\n"
     ]
    },
    {
     "name": "stderr",
     "output_type": "stream",
     "text": [
      "201it [00:56,  3.55it/s]"
     ]
    },
    {
     "name": "stdout",
     "output_type": "stream",
     "text": [
      "Epoch 7, Batch 200, position loss: 15222.3173828125 reconstruction loss: 0.0 RMSE(mm): 61.689377900114415\n"
     ]
    },
    {
     "name": "stderr",
     "output_type": "stream",
     "text": [
      "230it [01:04,  3.55it/s]\n"
     ]
    },
    {
     "name": "stdout",
     "output_type": "stream",
     "text": [
      "Epoch 7, Val Loss: 18125.94587590144, RMSE(mm): 67.31631651372021\n",
      "Epoch 7, test Loss: 15861.826528695914, RMSE(mm): 62.97187175377574\n"
     ]
    },
    {
     "name": "stderr",
     "output_type": "stream",
     "text": [
      "1it [00:00,  3.14it/s]"
     ]
    },
    {
     "name": "stdout",
     "output_type": "stream",
     "text": [
      "Epoch 8, Batch 0, position loss: 13712.419921875 reconstruction loss: 0.0 RMSE(mm): 58.55002118247909\n"
     ]
    },
    {
     "name": "stderr",
     "output_type": "stream",
     "text": [
      "101it [00:29,  3.53it/s]"
     ]
    },
    {
     "name": "stdout",
     "output_type": "stream",
     "text": [
      "Epoch 8, Batch 100, position loss: 13700.9375 reconstruction loss: 0.0 RMSE(mm): 58.525501920103174\n"
     ]
    },
    {
     "name": "stderr",
     "output_type": "stream",
     "text": [
      "201it [00:57,  3.55it/s]"
     ]
    },
    {
     "name": "stdout",
     "output_type": "stream",
     "text": [
      "Epoch 8, Batch 200, position loss: 15761.51171875 reconstruction loss: 0.0 RMSE(mm): 62.77242969399464\n"
     ]
    },
    {
     "name": "stderr",
     "output_type": "stream",
     "text": [
      "230it [01:05,  3.51it/s]\n"
     ]
    },
    {
     "name": "stdout",
     "output_type": "stream",
     "text": [
      "Epoch 8, Val Loss: 17991.85028545673, RMSE(mm): 67.06685150925293\n",
      "Epoch 8, test Loss: 15560.374380258414, RMSE(mm): 62.37061483635225\n"
     ]
    },
    {
     "name": "stderr",
     "output_type": "stream",
     "text": [
      "1it [00:00,  3.55it/s]"
     ]
    },
    {
     "name": "stdout",
     "output_type": "stream",
     "text": [
      "Epoch 9, Batch 0, position loss: 12416.1396484375 reconstruction loss: 0.0 RMSE(mm): 55.71386642577748\n"
     ]
    },
    {
     "name": "stderr",
     "output_type": "stream",
     "text": [
      "101it [00:29,  3.43it/s]"
     ]
    },
    {
     "name": "stdout",
     "output_type": "stream",
     "text": [
      "Epoch 9, Batch 100, position loss: 13145.1416015625 reconstruction loss: 0.0 RMSE(mm): 57.3261319154766\n"
     ]
    },
    {
     "name": "stderr",
     "output_type": "stream",
     "text": [
      "201it [00:58,  3.42it/s]"
     ]
    },
    {
     "name": "stdout",
     "output_type": "stream",
     "text": [
      "Epoch 9, Batch 200, position loss: 15454.1806640625 reconstruction loss: 0.0 RMSE(mm): 62.15742245311999\n"
     ]
    },
    {
     "name": "stderr",
     "output_type": "stream",
     "text": [
      "230it [01:06,  3.44it/s]\n"
     ]
    },
    {
     "name": "stdout",
     "output_type": "stream",
     "text": [
      "Epoch 9, Val Loss: 17921.75702373798, RMSE(mm): 66.9360833626714\n",
      "Epoch 9, test Loss: 15442.896935096154, RMSE(mm): 62.13472647219137\n"
     ]
    },
    {
     "name": "stderr",
     "output_type": "stream",
     "text": [
      "1it [00:00,  3.45it/s]"
     ]
    },
    {
     "name": "stdout",
     "output_type": "stream",
     "text": [
      "Epoch 10, Batch 0, position loss: 12638.8525390625 reconstruction loss: 0.0 RMSE(mm): 56.211325680556804\n"
     ]
    },
    {
     "name": "stderr",
     "output_type": "stream",
     "text": [
      "101it [00:29,  3.44it/s]"
     ]
    },
    {
     "name": "stdout",
     "output_type": "stream",
     "text": [
      "Epoch 10, Batch 100, position loss: 13325.390625 reconstruction loss: 0.0 RMSE(mm): 57.71782788922327\n"
     ]
    },
    {
     "name": "stderr",
     "output_type": "stream",
     "text": [
      "201it [00:58,  3.44it/s]"
     ]
    },
    {
     "name": "stdout",
     "output_type": "stream",
     "text": [
      "Epoch 10, Batch 200, position loss: 15307.1376953125 reconstruction loss: 0.0 RMSE(mm): 61.86100891375863\n"
     ]
    },
    {
     "name": "stderr",
     "output_type": "stream",
     "text": [
      "230it [01:06,  3.45it/s]\n"
     ]
    },
    {
     "name": "stdout",
     "output_type": "stream",
     "text": [
      "Epoch 10, Val Loss: 17966.9794921875, RMSE(mm): 67.02048099683316\n",
      "Epoch 10, test Loss: 15347.65799654447, RMSE(mm): 61.94283250817739\n"
     ]
    },
    {
     "name": "stderr",
     "output_type": "stream",
     "text": [
      "1it [00:00,  3.32it/s]"
     ]
    },
    {
     "name": "stdout",
     "output_type": "stream",
     "text": [
      "Epoch 11, Batch 0, position loss: 11910.01953125 reconstruction loss: 0.0 RMSE(mm): 54.566517964888504\n"
     ]
    },
    {
     "name": "stderr",
     "output_type": "stream",
     "text": [
      "101it [00:29,  3.43it/s]"
     ]
    },
    {
     "name": "stdout",
     "output_type": "stream",
     "text": [
      "Epoch 11, Batch 100, position loss: 12335.748046875 reconstruction loss: 0.0 RMSE(mm): 55.53320638787886\n"
     ]
    },
    {
     "name": "stderr",
     "output_type": "stream",
     "text": [
      "201it [00:58,  3.45it/s]"
     ]
    },
    {
     "name": "stdout",
     "output_type": "stream",
     "text": [
      "Epoch 11, Batch 200, position loss: 14285.525390625 reconstruction loss: 0.0 RMSE(mm): 59.76103536298756\n"
     ]
    },
    {
     "name": "stderr",
     "output_type": "stream",
     "text": [
      "230it [01:06,  3.44it/s]\n"
     ]
    },
    {
     "name": "stdout",
     "output_type": "stream",
     "text": [
      "Epoch 11, Val Loss: 17898.191537710336, RMSE(mm): 66.8920614454928\n",
      "Epoch 11, test Loss: 15272.385385366586, RMSE(mm): 61.790746445901156\n"
     ]
    },
    {
     "name": "stderr",
     "output_type": "stream",
     "text": [
      "1it [00:00,  3.42it/s]"
     ]
    },
    {
     "name": "stdout",
     "output_type": "stream",
     "text": [
      "Epoch 12, Batch 0, position loss: 11449.6875 reconstruction loss: 0.0 RMSE(mm): 53.50160628429767\n"
     ]
    },
    {
     "name": "stderr",
     "output_type": "stream",
     "text": [
      "101it [00:28,  3.56it/s]"
     ]
    },
    {
     "name": "stdout",
     "output_type": "stream",
     "text": [
      "Epoch 12, Batch 100, position loss: 13108.537109375 reconstruction loss: 0.0 RMSE(mm): 57.24625994197132\n"
     ]
    },
    {
     "name": "stderr",
     "output_type": "stream",
     "text": [
      "201it [00:57,  3.46it/s]"
     ]
    },
    {
     "name": "stdout",
     "output_type": "stream",
     "text": [
      "Epoch 12, Batch 200, position loss: 13578.390625 reconstruction loss: 0.0 RMSE(mm): 58.26317581671977\n"
     ]
    },
    {
     "name": "stderr",
     "output_type": "stream",
     "text": [
      "230it [01:06,  3.48it/s]\n"
     ]
    },
    {
     "name": "stdout",
     "output_type": "stream",
     "text": [
      "Epoch 12, Val Loss: 17571.094012920672, RMSE(mm): 66.27800165386829\n",
      "Epoch 12, test Loss: 14943.923903245191, RMSE(mm): 61.1226715369289\n"
     ]
    },
    {
     "name": "stderr",
     "output_type": "stream",
     "text": [
      "1it [00:00,  3.45it/s]"
     ]
    },
    {
     "name": "stdout",
     "output_type": "stream",
     "text": [
      "Epoch 13, Batch 0, position loss: 12026.9326171875 reconstruction loss: 0.0 RMSE(mm): 54.83368630957502\n"
     ]
    },
    {
     "name": "stderr",
     "output_type": "stream",
     "text": [
      "101it [00:29,  3.46it/s]"
     ]
    },
    {
     "name": "stdout",
     "output_type": "stream",
     "text": [
      "Epoch 13, Batch 100, position loss: 12505.7119140625 reconstruction loss: 0.0 RMSE(mm): 55.91447020687601\n"
     ]
    },
    {
     "name": "stderr",
     "output_type": "stream",
     "text": [
      "201it [00:58,  3.45it/s]"
     ]
    },
    {
     "name": "stdout",
     "output_type": "stream",
     "text": [
      "Epoch 13, Batch 200, position loss: 14141.8173828125 reconstruction loss: 0.0 RMSE(mm): 59.45968672725349\n"
     ]
    },
    {
     "name": "stderr",
     "output_type": "stream",
     "text": [
      "230it [01:06,  3.45it/s]\n"
     ]
    },
    {
     "name": "stdout",
     "output_type": "stream",
     "text": [
      "Epoch 13, Val Loss: 17533.011962890625, RMSE(mm): 66.206140128561\n",
      "Epoch 13, test Loss: 14917.639817457934, RMSE(mm): 61.068895146092856\n"
     ]
    },
    {
     "name": "stderr",
     "output_type": "stream",
     "text": [
      "1it [00:00,  3.46it/s]"
     ]
    },
    {
     "name": "stdout",
     "output_type": "stream",
     "text": [
      "Epoch 14, Batch 0, position loss: 12222.59375 reconstruction loss: 0.0 RMSE(mm): 55.2779199816708\n"
     ]
    },
    {
     "name": "stderr",
     "output_type": "stream",
     "text": [
      "101it [00:29,  3.47it/s]"
     ]
    },
    {
     "name": "stdout",
     "output_type": "stream",
     "text": [
      "Epoch 14, Batch 100, position loss: 12605.11328125 reconstruction loss: 0.0 RMSE(mm): 56.136247828942935\n"
     ]
    },
    {
     "name": "stderr",
     "output_type": "stream",
     "text": [
      "201it [00:58,  3.47it/s]"
     ]
    },
    {
     "name": "stdout",
     "output_type": "stream",
     "text": [
      "Epoch 14, Batch 200, position loss: 14122.0390625 reconstruction loss: 0.0 RMSE(mm): 59.41809291474273\n"
     ]
    },
    {
     "name": "stderr",
     "output_type": "stream",
     "text": [
      "230it [01:06,  3.46it/s]\n"
     ]
    },
    {
     "name": "stdout",
     "output_type": "stream",
     "text": [
      "Epoch 14, Val Loss: 17533.40760216346, RMSE(mm): 66.20688710807106\n",
      "Epoch 14, test Loss: 14896.627892127404, RMSE(mm): 61.02587134184854\n"
     ]
    },
    {
     "name": "stderr",
     "output_type": "stream",
     "text": [
      "1it [00:00,  3.41it/s]"
     ]
    },
    {
     "name": "stdout",
     "output_type": "stream",
     "text": [
      "Epoch 15, Batch 0, position loss: 11740.986328125 reconstruction loss: 0.0 RMSE(mm): 54.177915999337316\n"
     ]
    },
    {
     "name": "stderr",
     "output_type": "stream",
     "text": [
      "101it [00:29,  3.47it/s]"
     ]
    },
    {
     "name": "stdout",
     "output_type": "stream",
     "text": [
      "Epoch 15, Batch 100, position loss: 11949.33203125 reconstruction loss: 0.0 RMSE(mm): 54.65650014236642\n"
     ]
    },
    {
     "name": "stderr",
     "output_type": "stream",
     "text": [
      "201it [00:58,  3.47it/s]"
     ]
    },
    {
     "name": "stdout",
     "output_type": "stream",
     "text": [
      "Epoch 15, Batch 200, position loss: 14095.142578125 reconstruction loss: 0.0 RMSE(mm): 59.361482836358206\n"
     ]
    },
    {
     "name": "stderr",
     "output_type": "stream",
     "text": [
      "230it [01:06,  3.46it/s]\n"
     ]
    },
    {
     "name": "stdout",
     "output_type": "stream",
     "text": [
      "Epoch 15, Val Loss: 17556.47100360577, RMSE(mm): 66.25041698662312\n",
      "Epoch 15, test Loss: 14920.23349233774, RMSE(mm): 61.07420382685668\n"
     ]
    },
    {
     "name": "stderr",
     "output_type": "stream",
     "text": [
      "1it [00:00,  3.47it/s]"
     ]
    },
    {
     "name": "stdout",
     "output_type": "stream",
     "text": [
      "Epoch 16, Batch 0, position loss: 11292.1103515625 reconstruction loss: 0.0 RMSE(mm): 53.13217093146698\n"
     ]
    },
    {
     "name": "stderr",
     "output_type": "stream",
     "text": [
      "101it [00:29,  3.44it/s]"
     ]
    },
    {
     "name": "stdout",
     "output_type": "stream",
     "text": [
      "Epoch 16, Batch 100, position loss: 12483.1923828125 reconstruction loss: 0.0 RMSE(mm): 55.86410382081794\n"
     ]
    },
    {
     "name": "stderr",
     "output_type": "stream",
     "text": [
      "201it [00:57,  3.53it/s]"
     ]
    },
    {
     "name": "stdout",
     "output_type": "stream",
     "text": [
      "Epoch 16, Batch 200, position loss: 13387.6611328125 reconstruction loss: 0.0 RMSE(mm): 57.8525304822799\n"
     ]
    },
    {
     "name": "stderr",
     "output_type": "stream",
     "text": [
      "230it [01:05,  3.49it/s]\n"
     ]
    },
    {
     "name": "stdout",
     "output_type": "stream",
     "text": [
      "Epoch 16, Val Loss: 17513.90467247596, RMSE(mm): 66.17005492002399\n",
      "Epoch 16, test Loss: 14885.074368990385, RMSE(mm): 61.00220153607242\n"
     ]
    },
    {
     "name": "stderr",
     "output_type": "stream",
     "text": [
      "1it [00:00,  3.53it/s]"
     ]
    },
    {
     "name": "stdout",
     "output_type": "stream",
     "text": [
      "Epoch 17, Batch 0, position loss: 11864.845703125 reconstruction loss: 0.0 RMSE(mm): 54.46293625743337\n"
     ]
    },
    {
     "name": "stderr",
     "output_type": "stream",
     "text": [
      "101it [00:30,  3.56it/s]"
     ]
    },
    {
     "name": "stdout",
     "output_type": "stream",
     "text": [
      "Epoch 17, Batch 100, position loss: 11976.9619140625 reconstruction loss: 0.0 RMSE(mm): 54.71965349411146\n"
     ]
    },
    {
     "name": "stderr",
     "output_type": "stream",
     "text": [
      "201it [00:59,  3.37it/s]"
     ]
    },
    {
     "name": "stdout",
     "output_type": "stream",
     "text": [
      "Epoch 17, Batch 200, position loss: 14344.8359375 reconstruction loss: 0.0 RMSE(mm): 59.88496459358559\n"
     ]
    },
    {
     "name": "stderr",
     "output_type": "stream",
     "text": [
      "230it [01:07,  3.40it/s]\n"
     ]
    },
    {
     "name": "stdout",
     "output_type": "stream",
     "text": [
      "Epoch 17, Val Loss: 17524.143404447117, RMSE(mm): 66.18939379622523\n",
      "Epoch 17, test Loss: 14896.104154146635, RMSE(mm): 61.02479855383923\n"
     ]
    },
    {
     "name": "stderr",
     "output_type": "stream",
     "text": [
      "1it [00:00,  3.44it/s]"
     ]
    },
    {
     "name": "stdout",
     "output_type": "stream",
     "text": [
      "Epoch 18, Batch 0, position loss: 12455.548828125 reconstruction loss: 0.0 RMSE(mm): 55.80221507280199\n"
     ]
    },
    {
     "name": "stderr",
     "output_type": "stream",
     "text": [
      "101it [00:29,  3.46it/s]"
     ]
    },
    {
     "name": "stdout",
     "output_type": "stream",
     "text": [
      "Epoch 18, Batch 100, position loss: 12750.5419921875 reconstruction loss: 0.0 RMSE(mm): 56.45914893130143\n"
     ]
    },
    {
     "name": "stderr",
     "output_type": "stream",
     "text": [
      "201it [00:58,  3.47it/s]"
     ]
    },
    {
     "name": "stdout",
     "output_type": "stream",
     "text": [
      "Epoch 18, Batch 200, position loss: 14178.9248046875 reconstruction loss: 0.0 RMSE(mm): 59.53764524376048\n"
     ]
    },
    {
     "name": "stderr",
     "output_type": "stream",
     "text": [
      "230it [01:06,  3.46it/s]\n"
     ]
    },
    {
     "name": "stdout",
     "output_type": "stream",
     "text": [
      "Epoch 18, Val Loss: 17503.446927584133, RMSE(mm): 66.15029653672033\n",
      "Epoch 18, test Loss: 14869.67801607572, RMSE(mm): 60.97064460885197\n"
     ]
    },
    {
     "name": "stderr",
     "output_type": "stream",
     "text": [
      "1it [00:00,  3.45it/s]"
     ]
    },
    {
     "name": "stdout",
     "output_type": "stream",
     "text": [
      "Epoch 19, Batch 0, position loss: 10714.427734375 reconstruction loss: 0.0 RMSE(mm): 51.75525996064313\n"
     ]
    },
    {
     "name": "stderr",
     "output_type": "stream",
     "text": [
      "101it [00:29,  3.47it/s]"
     ]
    },
    {
     "name": "stdout",
     "output_type": "stream",
     "text": [
      "Epoch 19, Batch 100, position loss: 12788.3232421875 reconstruction loss: 0.0 RMSE(mm): 56.54273437451425\n"
     ]
    },
    {
     "name": "stderr",
     "output_type": "stream",
     "text": [
      "201it [00:58,  3.45it/s]"
     ]
    },
    {
     "name": "stdout",
     "output_type": "stream",
     "text": [
      "Epoch 19, Batch 200, position loss: 14432.5400390625 reconstruction loss: 0.0 RMSE(mm): 60.06775349358111\n"
     ]
    },
    {
     "name": "stderr",
     "output_type": "stream",
     "text": [
      "230it [01:06,  3.46it/s]\n"
     ]
    },
    {
     "name": "stdout",
     "output_type": "stream",
     "text": [
      "Epoch 19, Val Loss: 17498.140230618992, RMSE(mm): 66.14026804946249\n",
      "Epoch 19, test Loss: 14872.195932241586, RMSE(mm): 60.9758065388265\n",
      "create dataloader...\n",
      "HI\n",
      "training...\n"
     ]
    },
    {
     "name": "stderr",
     "output_type": "stream",
     "text": [
      "1it [00:00,  2.26it/s]"
     ]
    },
    {
     "name": "stdout",
     "output_type": "stream",
     "text": [
      "Epoch 0, Batch 0, position loss: 168988.5625 reconstruction loss: 0.0 RMSE(mm): 205.54109230273153\n"
     ]
    },
    {
     "name": "stderr",
     "output_type": "stream",
     "text": [
      "101it [00:29,  3.48it/s]"
     ]
    },
    {
     "name": "stdout",
     "output_type": "stream",
     "text": [
      "Epoch 0, Batch 100, position loss: 135532.609375 reconstruction loss: 0.0 RMSE(mm): 184.07376875521945\n"
     ]
    },
    {
     "name": "stderr",
     "output_type": "stream",
     "text": [
      "201it [00:58,  3.43it/s]"
     ]
    },
    {
     "name": "stdout",
     "output_type": "stream",
     "text": [
      "Epoch 0, Batch 200, position loss: 154652.84375 reconstruction loss: 0.0 RMSE(mm): 196.6296288393486\n"
     ]
    },
    {
     "name": "stderr",
     "output_type": "stream",
     "text": [
      "230it [01:06,  3.46it/s]\n"
     ]
    },
    {
     "name": "stdout",
     "output_type": "stream",
     "text": [
      "Epoch 0, Val Loss: 121203.69861778847, RMSE(mm): 174.07160783553164\n",
      "Epoch 0, test Loss: 136552.3936298077, RMSE(mm): 184.76498155075794\n"
     ]
    },
    {
     "name": "stderr",
     "output_type": "stream",
     "text": [
      "1it [00:00,  3.45it/s]"
     ]
    },
    {
     "name": "stdout",
     "output_type": "stream",
     "text": [
      "Epoch 1, Batch 0, position loss: 150208.0625 reconstruction loss: 0.0 RMSE(mm): 193.78342453625905\n"
     ]
    },
    {
     "name": "stderr",
     "output_type": "stream",
     "text": [
      "101it [00:28,  3.56it/s]"
     ]
    },
    {
     "name": "stdout",
     "output_type": "stream",
     "text": [
      "Epoch 1, Batch 100, position loss: 127095.15625 reconstruction loss: 0.0 RMSE(mm): 178.25203803182728\n"
     ]
    },
    {
     "name": "stderr",
     "output_type": "stream",
     "text": [
      "201it [00:57,  3.46it/s]"
     ]
    },
    {
     "name": "stdout",
     "output_type": "stream",
     "text": [
      "Epoch 1, Batch 200, position loss: 125565.390625 reconstruction loss: 0.0 RMSE(mm): 177.17603578432949\n"
     ]
    },
    {
     "name": "stderr",
     "output_type": "stream",
     "text": [
      "230it [01:05,  3.49it/s]\n"
     ]
    },
    {
     "name": "stdout",
     "output_type": "stream",
     "text": [
      "Epoch 1, Val Loss: 149354.05393629806, RMSE(mm): 193.23176106446508\n",
      "Epoch 1, test Loss: 161185.001953125, RMSE(mm): 200.73925995749124\n"
     ]
    },
    {
     "name": "stderr",
     "output_type": "stream",
     "text": [
      "1it [00:00,  3.45it/s]"
     ]
    },
    {
     "name": "stdout",
     "output_type": "stream",
     "text": [
      "Epoch 2, Batch 0, position loss: 117535.7890625 reconstruction loss: 0.0 RMSE(mm): 171.4174648792386\n"
     ]
    },
    {
     "name": "stderr",
     "output_type": "stream",
     "text": [
      "101it [00:29,  3.42it/s]"
     ]
    },
    {
     "name": "stdout",
     "output_type": "stream",
     "text": [
      "Epoch 2, Batch 100, position loss: 56281.80859375 reconstruction loss: 0.0 RMSE(mm): 118.61893671938516\n"
     ]
    },
    {
     "name": "stderr",
     "output_type": "stream",
     "text": [
      "201it [00:58,  3.43it/s]"
     ]
    },
    {
     "name": "stdout",
     "output_type": "stream",
     "text": [
      "Epoch 2, Batch 200, position loss: 30620.54296875 reconstruction loss: 0.0 RMSE(mm): 87.49363258081985\n"
     ]
    },
    {
     "name": "stderr",
     "output_type": "stream",
     "text": [
      "230it [01:06,  3.45it/s]\n"
     ]
    },
    {
     "name": "stdout",
     "output_type": "stream",
     "text": [
      "Epoch 2, Val Loss: 22301.619535006008, RMSE(mm): 74.6686338682549\n",
      "Epoch 2, test Loss: 22131.441086989184, RMSE(mm): 74.38319885395691\n"
     ]
    },
    {
     "name": "stderr",
     "output_type": "stream",
     "text": [
      "1it [00:00,  3.42it/s]"
     ]
    },
    {
     "name": "stdout",
     "output_type": "stream",
     "text": [
      "Epoch 3, Batch 0, position loss: 22569.76171875 reconstruction loss: 0.0 RMSE(mm): 75.11617954666957\n"
     ]
    },
    {
     "name": "stderr",
     "output_type": "stream",
     "text": [
      "101it [00:29,  3.43it/s]"
     ]
    },
    {
     "name": "stdout",
     "output_type": "stream",
     "text": [
      "Epoch 3, Batch 100, position loss: 14509.2578125 reconstruction loss: 0.0 RMSE(mm): 60.227190314051676\n"
     ]
    },
    {
     "name": "stderr",
     "output_type": "stream",
     "text": [
      "201it [00:58,  3.45it/s]"
     ]
    },
    {
     "name": "stdout",
     "output_type": "stream",
     "text": [
      "Epoch 3, Batch 200, position loss: 22342.87109375 reconstruction loss: 0.0 RMSE(mm): 74.7376596732698\n"
     ]
    },
    {
     "name": "stderr",
     "output_type": "stream",
     "text": [
      "230it [01:06,  3.45it/s]\n"
     ]
    },
    {
     "name": "stdout",
     "output_type": "stream",
     "text": [
      "Epoch 3, Val Loss: 22517.248779296875, RMSE(mm): 75.02874245796886\n",
      "Epoch 3, test Loss: 22724.22002704327, RMSE(mm): 75.37277364380866\n"
     ]
    },
    {
     "name": "stderr",
     "output_type": "stream",
     "text": [
      "1it [00:00,  3.43it/s]"
     ]
    },
    {
     "name": "stdout",
     "output_type": "stream",
     "text": [
      "Epoch 4, Batch 0, position loss: 16221.8779296875 reconstruction loss: 0.0 RMSE(mm): 63.682568120498054\n"
     ]
    },
    {
     "name": "stderr",
     "output_type": "stream",
     "text": [
      "101it [00:29,  3.45it/s]"
     ]
    },
    {
     "name": "stdout",
     "output_type": "stream",
     "text": [
      "Epoch 4, Batch 100, position loss: 15207.8125 reconstruction loss: 0.0 RMSE(mm): 61.65997993025947\n"
     ]
    },
    {
     "name": "stderr",
     "output_type": "stream",
     "text": [
      "201it [00:58,  3.46it/s]"
     ]
    },
    {
     "name": "stdout",
     "output_type": "stream",
     "text": [
      "Epoch 4, Batch 200, position loss: 23613.5859375 reconstruction loss: 0.0 RMSE(mm): 76.83356352776435\n"
     ]
    },
    {
     "name": "stderr",
     "output_type": "stream",
     "text": [
      "230it [01:06,  3.44it/s]\n"
     ]
    },
    {
     "name": "stdout",
     "output_type": "stream",
     "text": [
      "Epoch 4, Val Loss: 20876.52606670673, RMSE(mm): 72.24355692154617\n",
      "Epoch 4, test Loss: 19028.06141075721, RMSE(mm): 68.9711197001274\n"
     ]
    },
    {
     "name": "stderr",
     "output_type": "stream",
     "text": [
      "1it [00:00,  3.45it/s]"
     ]
    },
    {
     "name": "stdout",
     "output_type": "stream",
     "text": [
      "Epoch 5, Batch 0, position loss: 14887.623046875 reconstruction loss: 0.0 RMSE(mm): 61.007423824635886\n"
     ]
    },
    {
     "name": "stderr",
     "output_type": "stream",
     "text": [
      "101it [00:29,  3.42it/s]"
     ]
    },
    {
     "name": "stdout",
     "output_type": "stream",
     "text": [
      "Epoch 5, Batch 100, position loss: 15714.568359375 reconstruction loss: 0.0 RMSE(mm): 62.67888073221913\n"
     ]
    },
    {
     "name": "stderr",
     "output_type": "stream",
     "text": [
      "201it [00:58,  3.45it/s]"
     ]
    },
    {
     "name": "stdout",
     "output_type": "stream",
     "text": [
      "Epoch 5, Batch 200, position loss: 23383.650390625 reconstruction loss: 0.0 RMSE(mm): 76.45856784989012\n"
     ]
    },
    {
     "name": "stderr",
     "output_type": "stream",
     "text": [
      "230it [01:06,  3.44it/s]\n"
     ]
    },
    {
     "name": "stdout",
     "output_type": "stream",
     "text": [
      "Epoch 5, Val Loss: 20206.87409855769, RMSE(mm): 71.07544248641315\n",
      "Epoch 5, test Loss: 18612.296612079328, RMSE(mm): 68.2134455442608\n"
     ]
    },
    {
     "name": "stderr",
     "output_type": "stream",
     "text": [
      "1it [00:00,  3.45it/s]"
     ]
    },
    {
     "name": "stdout",
     "output_type": "stream",
     "text": [
      "Epoch 6, Batch 0, position loss: 14461.9794921875 reconstruction loss: 0.0 RMSE(mm): 60.128985298663366\n"
     ]
    },
    {
     "name": "stderr",
     "output_type": "stream",
     "text": [
      "101it [00:29,  3.43it/s]"
     ]
    },
    {
     "name": "stdout",
     "output_type": "stream",
     "text": [
      "Epoch 6, Batch 100, position loss: 15516.0439453125 reconstruction loss: 0.0 RMSE(mm): 62.28170667481845\n"
     ]
    },
    {
     "name": "stderr",
     "output_type": "stream",
     "text": [
      "201it [00:58,  3.44it/s]"
     ]
    },
    {
     "name": "stdout",
     "output_type": "stream",
     "text": [
      "Epoch 6, Batch 200, position loss: 16839.38671875 reconstruction loss: 0.0 RMSE(mm): 64.88333129307942\n"
     ]
    },
    {
     "name": "stderr",
     "output_type": "stream",
     "text": [
      "230it [01:06,  3.45it/s]\n"
     ]
    },
    {
     "name": "stdout",
     "output_type": "stream",
     "text": [
      "Epoch 6, Val Loss: 18208.95068359375, RMSE(mm): 67.47027249758547\n",
      "Epoch 6, test Loss: 16574.886737530047, RMSE(mm): 64.37174601005096\n"
     ]
    },
    {
     "name": "stderr",
     "output_type": "stream",
     "text": [
      "1it [00:00,  3.44it/s]"
     ]
    },
    {
     "name": "stdout",
     "output_type": "stream",
     "text": [
      "Epoch 7, Batch 0, position loss: 13799.765625 reconstruction loss: 0.0 RMSE(mm): 58.73620183711235\n"
     ]
    },
    {
     "name": "stderr",
     "output_type": "stream",
     "text": [
      "101it [00:29,  3.45it/s]"
     ]
    },
    {
     "name": "stdout",
     "output_type": "stream",
     "text": [
      "Epoch 7, Batch 100, position loss: 14997.814453125 reconstruction loss: 0.0 RMSE(mm): 61.23278217818663\n"
     ]
    },
    {
     "name": "stderr",
     "output_type": "stream",
     "text": [
      "201it [00:58,  3.46it/s]"
     ]
    },
    {
     "name": "stdout",
     "output_type": "stream",
     "text": [
      "Epoch 7, Batch 200, position loss: 16849.6328125 reconstruction loss: 0.0 RMSE(mm): 64.90306774818121\n"
     ]
    },
    {
     "name": "stderr",
     "output_type": "stream",
     "text": [
      "230it [01:06,  3.45it/s]\n"
     ]
    },
    {
     "name": "stdout",
     "output_type": "stream",
     "text": [
      "Epoch 7, Val Loss: 18079.228534405047, RMSE(mm): 67.22951088325172\n",
      "Epoch 7, test Loss: 16328.98076923077, RMSE(mm): 63.8924501980296\n"
     ]
    },
    {
     "name": "stderr",
     "output_type": "stream",
     "text": [
      "1it [00:00,  3.41it/s]"
     ]
    },
    {
     "name": "stdout",
     "output_type": "stream",
     "text": [
      "Epoch 8, Batch 0, position loss: 13437.1142578125 reconstruction loss: 0.0 RMSE(mm): 57.959283677881366\n"
     ]
    },
    {
     "name": "stderr",
     "output_type": "stream",
     "text": [
      "101it [00:29,  3.45it/s]"
     ]
    },
    {
     "name": "stdout",
     "output_type": "stream",
     "text": [
      "Epoch 8, Batch 100, position loss: 14196.525390625 reconstruction loss: 0.0 RMSE(mm): 59.57458642455061\n"
     ]
    },
    {
     "name": "stderr",
     "output_type": "stream",
     "text": [
      "201it [00:58,  3.55it/s]"
     ]
    },
    {
     "name": "stdout",
     "output_type": "stream",
     "text": [
      "Epoch 8, Batch 200, position loss: 15627.609375 reconstruction loss: 0.0 RMSE(mm): 62.50521853213538\n"
     ]
    },
    {
     "name": "stderr",
     "output_type": "stream",
     "text": [
      "230it [01:06,  3.48it/s]\n"
     ]
    },
    {
     "name": "stdout",
     "output_type": "stream",
     "text": [
      "Epoch 8, Val Loss: 18006.63007061298, RMSE(mm): 67.09439259471127\n",
      "Epoch 8, test Loss: 16187.126878004809, RMSE(mm): 63.614320082047584\n"
     ]
    },
    {
     "name": "stderr",
     "output_type": "stream",
     "text": [
      "1it [00:00,  3.56it/s]"
     ]
    },
    {
     "name": "stdout",
     "output_type": "stream",
     "text": [
      "Epoch 9, Batch 0, position loss: 13748.54296875 reconstruction loss: 0.0 RMSE(mm): 58.62709051443283\n"
     ]
    },
    {
     "name": "stderr",
     "output_type": "stream",
     "text": [
      "101it [00:29,  3.47it/s]"
     ]
    },
    {
     "name": "stdout",
     "output_type": "stream",
     "text": [
      "Epoch 9, Batch 100, position loss: 14479.9228515625 reconstruction loss: 0.0 RMSE(mm): 60.166275544449526\n"
     ]
    },
    {
     "name": "stderr",
     "output_type": "stream",
     "text": [
      "201it [00:57,  3.54it/s]"
     ]
    },
    {
     "name": "stdout",
     "output_type": "stream",
     "text": [
      "Epoch 9, Batch 200, position loss: 16065.037109375 reconstruction loss: 0.0 RMSE(mm): 63.37396371810548\n"
     ]
    },
    {
     "name": "stderr",
     "output_type": "stream",
     "text": [
      "230it [01:05,  3.50it/s]\n"
     ]
    },
    {
     "name": "stdout",
     "output_type": "stream",
     "text": [
      "Epoch 9, Val Loss: 17959.517371544473, RMSE(mm): 67.00656193900802\n",
      "Epoch 9, test Loss: 16139.955904447115, RMSE(mm): 63.521563079884764\n"
     ]
    },
    {
     "name": "stderr",
     "output_type": "stream",
     "text": [
      "1it [00:00,  3.55it/s]"
     ]
    },
    {
     "name": "stdout",
     "output_type": "stream",
     "text": [
      "Epoch 10, Batch 0, position loss: 13209.2978515625 reconstruction loss: 0.0 RMSE(mm): 57.465854756460594\n"
     ]
    },
    {
     "name": "stderr",
     "output_type": "stream",
     "text": [
      "101it [00:28,  3.56it/s]"
     ]
    },
    {
     "name": "stdout",
     "output_type": "stream",
     "text": [
      "Epoch 10, Batch 100, position loss: 14242.923828125 reconstruction loss: 0.0 RMSE(mm): 59.671860680150154\n"
     ]
    },
    {
     "name": "stderr",
     "output_type": "stream",
     "text": [
      "201it [00:56,  3.55it/s]"
     ]
    },
    {
     "name": "stdout",
     "output_type": "stream",
     "text": [
      "Epoch 10, Batch 200, position loss: 15690.1611328125 reconstruction loss: 0.0 RMSE(mm): 62.630186677057935\n"
     ]
    },
    {
     "name": "stderr",
     "output_type": "stream",
     "text": [
      "230it [01:04,  3.55it/s]\n"
     ]
    },
    {
     "name": "stdout",
     "output_type": "stream",
     "text": [
      "Epoch 10, Val Loss: 17899.513408954328, RMSE(mm): 66.89453155706065\n",
      "Epoch 10, test Loss: 16024.836313100961, RMSE(mm): 63.294621242845274\n"
     ]
    },
    {
     "name": "stderr",
     "output_type": "stream",
     "text": [
      "1it [00:00,  3.56it/s]"
     ]
    },
    {
     "name": "stdout",
     "output_type": "stream",
     "text": [
      "Epoch 11, Batch 0, position loss: 12851.6708984375 reconstruction loss: 0.0 RMSE(mm): 56.682605132521694\n"
     ]
    },
    {
     "name": "stderr",
     "output_type": "stream",
     "text": [
      "101it [00:28,  3.55it/s]"
     ]
    },
    {
     "name": "stdout",
     "output_type": "stream",
     "text": [
      "Epoch 11, Batch 100, position loss: 13740.291015625 reconstruction loss: 0.0 RMSE(mm): 58.609493718221536\n"
     ]
    },
    {
     "name": "stderr",
     "output_type": "stream",
     "text": [
      "201it [00:56,  3.55it/s]"
     ]
    },
    {
     "name": "stdout",
     "output_type": "stream",
     "text": [
      "Epoch 11, Batch 200, position loss: 16202.755859375 reconstruction loss: 0.0 RMSE(mm): 63.645023095633725\n"
     ]
    },
    {
     "name": "stderr",
     "output_type": "stream",
     "text": [
      "230it [01:04,  3.55it/s]\n"
     ]
    },
    {
     "name": "stdout",
     "output_type": "stream",
     "text": [
      "Epoch 11, Val Loss: 17896.688983623797, RMSE(mm): 66.8892535905877\n",
      "Epoch 11, test Loss: 16011.146127554086, RMSE(mm): 63.267578836940814\n"
     ]
    },
    {
     "name": "stderr",
     "output_type": "stream",
     "text": [
      "1it [00:00,  3.57it/s]"
     ]
    },
    {
     "name": "stdout",
     "output_type": "stream",
     "text": [
      "Epoch 12, Batch 0, position loss: 12250.7724609375 reconstruction loss: 0.0 RMSE(mm): 55.3416038368457\n"
     ]
    },
    {
     "name": "stderr",
     "output_type": "stream",
     "text": [
      "101it [00:28,  3.55it/s]"
     ]
    },
    {
     "name": "stdout",
     "output_type": "stream",
     "text": [
      "Epoch 12, Batch 100, position loss: 13320.3046875 reconstruction loss: 0.0 RMSE(mm): 57.70681217910932\n"
     ]
    },
    {
     "name": "stderr",
     "output_type": "stream",
     "text": [
      "201it [00:56,  3.55it/s]"
     ]
    },
    {
     "name": "stdout",
     "output_type": "stream",
     "text": [
      "Epoch 12, Batch 200, position loss: 15498.181640625 reconstruction loss: 0.0 RMSE(mm): 62.24584652935688\n"
     ]
    },
    {
     "name": "stderr",
     "output_type": "stream",
     "text": [
      "230it [01:04,  3.55it/s]\n"
     ]
    },
    {
     "name": "stdout",
     "output_type": "stream",
     "text": [
      "Epoch 12, Val Loss: 17685.651047926684, RMSE(mm): 66.49370467932788\n",
      "Epoch 12, test Loss: 15808.643517127404, RMSE(mm): 62.8662141319314\n"
     ]
    },
    {
     "name": "stderr",
     "output_type": "stream",
     "text": [
      "1it [00:00,  3.57it/s]"
     ]
    },
    {
     "name": "stdout",
     "output_type": "stream",
     "text": [
      "Epoch 13, Batch 0, position loss: 13055.126953125 reconstruction loss: 0.0 RMSE(mm): 57.12951722429702\n"
     ]
    },
    {
     "name": "stderr",
     "output_type": "stream",
     "text": [
      "101it [00:28,  3.54it/s]"
     ]
    },
    {
     "name": "stdout",
     "output_type": "stream",
     "text": [
      "Epoch 13, Batch 100, position loss: 13938.126953125 reconstruction loss: 0.0 RMSE(mm): 59.029922397723425\n"
     ]
    },
    {
     "name": "stderr",
     "output_type": "stream",
     "text": [
      "201it [00:56,  3.55it/s]"
     ]
    },
    {
     "name": "stdout",
     "output_type": "stream",
     "text": [
      "Epoch 13, Batch 200, position loss: 14373.4443359375 reconstruction loss: 0.0 RMSE(mm): 59.944650169838965\n"
     ]
    },
    {
     "name": "stderr",
     "output_type": "stream",
     "text": [
      "230it [01:04,  3.55it/s]\n"
     ]
    },
    {
     "name": "stdout",
     "output_type": "stream",
     "text": [
      "Epoch 13, Val Loss: 17677.671029897836, RMSE(mm): 66.47870153270489\n",
      "Epoch 13, test Loss: 15802.404296875, RMSE(mm): 62.853807157711216\n"
     ]
    },
    {
     "name": "stderr",
     "output_type": "stream",
     "text": [
      "1it [00:00,  3.56it/s]"
     ]
    },
    {
     "name": "stdout",
     "output_type": "stream",
     "text": [
      "Epoch 14, Batch 0, position loss: 13084.181640625 reconstruction loss: 0.0 RMSE(mm): 57.19305386282717\n"
     ]
    },
    {
     "name": "stderr",
     "output_type": "stream",
     "text": [
      "101it [00:28,  3.56it/s]"
     ]
    },
    {
     "name": "stdout",
     "output_type": "stream",
     "text": [
      "Epoch 14, Batch 100, position loss: 14297.55859375 reconstruction loss: 0.0 RMSE(mm): 59.786199481464784\n"
     ]
    },
    {
     "name": "stderr",
     "output_type": "stream",
     "text": [
      "201it [00:56,  3.55it/s]"
     ]
    },
    {
     "name": "stdout",
     "output_type": "stream",
     "text": [
      "Epoch 14, Batch 200, position loss: 15421.009765625 reconstruction loss: 0.0 RMSE(mm): 62.09067918300016\n"
     ]
    },
    {
     "name": "stderr",
     "output_type": "stream",
     "text": [
      "230it [01:04,  3.55it/s]\n"
     ]
    },
    {
     "name": "stdout",
     "output_type": "stream",
     "text": [
      "Epoch 14, Val Loss: 17669.68487079327, RMSE(mm): 66.46368344967286\n",
      "Epoch 14, test Loss: 15777.71737905649, RMSE(mm): 62.80469206010107\n"
     ]
    },
    {
     "name": "stderr",
     "output_type": "stream",
     "text": [
      "1it [00:00,  3.55it/s]"
     ]
    },
    {
     "name": "stdout",
     "output_type": "stream",
     "text": [
      "Epoch 15, Batch 0, position loss: 13020.513671875 reconstruction loss: 0.0 RMSE(mm): 57.053732725990415\n"
     ]
    },
    {
     "name": "stderr",
     "output_type": "stream",
     "text": [
      "101it [00:28,  3.55it/s]"
     ]
    },
    {
     "name": "stdout",
     "output_type": "stream",
     "text": [
      "Epoch 15, Batch 100, position loss: 13545.84375 reconstruction loss: 0.0 RMSE(mm): 58.19330663830678\n"
     ]
    },
    {
     "name": "stderr",
     "output_type": "stream",
     "text": [
      "201it [00:56,  3.55it/s]"
     ]
    },
    {
     "name": "stdout",
     "output_type": "stream",
     "text": [
      "Epoch 15, Batch 200, position loss: 14711.791015625 reconstruction loss: 0.0 RMSE(mm): 60.64608605595459\n"
     ]
    },
    {
     "name": "stderr",
     "output_type": "stream",
     "text": [
      "230it [01:04,  3.55it/s]\n"
     ]
    },
    {
     "name": "stdout",
     "output_type": "stream",
     "text": [
      "Epoch 15, Val Loss: 17680.506141075723, RMSE(mm): 66.48403218268979\n",
      "Epoch 15, test Loss: 15805.57968374399, RMSE(mm): 62.860121865424325\n"
     ]
    },
    {
     "name": "stderr",
     "output_type": "stream",
     "text": [
      "1it [00:00,  3.57it/s]"
     ]
    },
    {
     "name": "stdout",
     "output_type": "stream",
     "text": [
      "Epoch 16, Batch 0, position loss: 12675.6171875 reconstruction loss: 0.0 RMSE(mm): 56.29302174226393\n"
     ]
    },
    {
     "name": "stderr",
     "output_type": "stream",
     "text": [
      "101it [00:28,  3.56it/s]"
     ]
    },
    {
     "name": "stdout",
     "output_type": "stream",
     "text": [
      "Epoch 16, Batch 100, position loss: 14457.2353515625 reconstruction loss: 0.0 RMSE(mm): 60.11912206520172\n"
     ]
    },
    {
     "name": "stderr",
     "output_type": "stream",
     "text": [
      "201it [00:56,  3.55it/s]"
     ]
    },
    {
     "name": "stdout",
     "output_type": "stream",
     "text": [
      "Epoch 16, Batch 200, position loss: 14673.275390625 reconstruction loss: 0.0 RMSE(mm): 60.56664798101551\n"
     ]
    },
    {
     "name": "stderr",
     "output_type": "stream",
     "text": [
      "230it [01:04,  3.56it/s]\n"
     ]
    },
    {
     "name": "stdout",
     "output_type": "stream",
     "text": [
      "Epoch 16, Val Loss: 17656.611290564902, RMSE(mm): 66.43909107326218\n",
      "Epoch 16, test Loss: 15766.024000901441, RMSE(mm): 62.78141444906574\n"
     ]
    },
    {
     "name": "stderr",
     "output_type": "stream",
     "text": [
      "1it [00:00,  3.54it/s]"
     ]
    },
    {
     "name": "stdout",
     "output_type": "stream",
     "text": [
      "Epoch 17, Batch 0, position loss: 13346.3974609375 reconstruction loss: 0.0 RMSE(mm): 57.76330465991688\n"
     ]
    },
    {
     "name": "stderr",
     "output_type": "stream",
     "text": [
      "101it [00:28,  3.55it/s]"
     ]
    },
    {
     "name": "stdout",
     "output_type": "stream",
     "text": [
      "Epoch 17, Batch 100, position loss: 14179.806640625 reconstruction loss: 0.0 RMSE(mm): 59.53949664009807\n"
     ]
    },
    {
     "name": "stderr",
     "output_type": "stream",
     "text": [
      "201it [00:56,  3.56it/s]"
     ]
    },
    {
     "name": "stdout",
     "output_type": "stream",
     "text": [
      "Epoch 17, Batch 200, position loss: 15401.3515625 reconstruction loss: 0.0 RMSE(mm): 62.05109097046562\n"
     ]
    },
    {
     "name": "stderr",
     "output_type": "stream",
     "text": [
      "230it [01:04,  3.55it/s]\n"
     ]
    },
    {
     "name": "stdout",
     "output_type": "stream",
     "text": [
      "Epoch 17, Val Loss: 17649.338472806492, RMSE(mm): 66.42540642104964\n",
      "Epoch 17, test Loss: 15764.61825796274, RMSE(mm): 62.77861550313678\n"
     ]
    },
    {
     "name": "stderr",
     "output_type": "stream",
     "text": [
      "1it [00:00,  3.55it/s]"
     ]
    },
    {
     "name": "stdout",
     "output_type": "stream",
     "text": [
      "Epoch 18, Batch 0, position loss: 12753.7353515625 reconstruction loss: 0.0 RMSE(mm): 56.4662185549079\n"
     ]
    },
    {
     "name": "stderr",
     "output_type": "stream",
     "text": [
      "101it [00:28,  3.55it/s]"
     ]
    },
    {
     "name": "stdout",
     "output_type": "stream",
     "text": [
      "Epoch 18, Batch 100, position loss: 13411.638671875 reconstruction loss: 0.0 RMSE(mm): 57.904314761239945\n"
     ]
    },
    {
     "name": "stderr",
     "output_type": "stream",
     "text": [
      "201it [00:56,  3.54it/s]"
     ]
    },
    {
     "name": "stdout",
     "output_type": "stream",
     "text": [
      "Epoch 18, Batch 200, position loss: 15784.546875 reconstruction loss: 0.0 RMSE(mm): 62.81828331584683\n"
     ]
    },
    {
     "name": "stderr",
     "output_type": "stream",
     "text": [
      "230it [01:04,  3.56it/s]\n"
     ]
    },
    {
     "name": "stdout",
     "output_type": "stream",
     "text": [
      "Epoch 18, Val Loss: 17651.88142277644, RMSE(mm): 66.43019159760199\n",
      "Epoch 18, test Loss: 15770.32598407452, RMSE(mm): 62.789979264358976\n"
     ]
    },
    {
     "name": "stderr",
     "output_type": "stream",
     "text": [
      "1it [00:00,  3.55it/s]"
     ]
    },
    {
     "name": "stdout",
     "output_type": "stream",
     "text": [
      "Epoch 19, Batch 0, position loss: 12917.068359375 reconstruction loss: 0.0 RMSE(mm): 56.82664067005677\n"
     ]
    },
    {
     "name": "stderr",
     "output_type": "stream",
     "text": [
      "101it [00:28,  3.55it/s]"
     ]
    },
    {
     "name": "stdout",
     "output_type": "stream",
     "text": [
      "Epoch 19, Batch 100, position loss: 13652.470703125 reconstruction loss: 0.0 RMSE(mm): 58.42189380515878\n"
     ]
    },
    {
     "name": "stderr",
     "output_type": "stream",
     "text": [
      "201it [00:56,  3.55it/s]"
     ]
    },
    {
     "name": "stdout",
     "output_type": "stream",
     "text": [
      "Epoch 19, Batch 200, position loss: 15507.38671875 reconstruction loss: 0.0 RMSE(mm): 62.26432911135797\n"
     ]
    },
    {
     "name": "stderr",
     "output_type": "stream",
     "text": [
      "230it [01:04,  3.55it/s]\n"
     ]
    },
    {
     "name": "stdout",
     "output_type": "stream",
     "text": [
      "Epoch 19, Val Loss: 17634.83319561298, RMSE(mm): 66.39810463336468\n",
      "Epoch 19, test Loss: 15757.577279897836, RMSE(mm): 62.764594477893816\n"
     ]
    }
   ],
   "source": [
    "from models.MTLViT_pupil import MTLViT_pupil\n",
    "from helper_function_pupil import train as pupil_train\n",
    "i=0\n",
    "batch_size = 64\n",
    "n_epoch = 20\n",
    "learning_rate = 1e-4\n",
    "model_name='20231107/MTLVIT_pupil'\n",
    "for i in [1,2,3]:\n",
    "    model = MTLViT_pupil()\n",
    "    optimizer = torch.optim.Adam(model.parameters(), lr=learning_rate)\n",
    "    scheduler = torch.optim.lr_scheduler.StepLR(optimizer, step_size=6, gamma=0.1)\n",
    "    file_name = f'{model_name}_{i}'\n",
    "    pupil_train(model,EEGEyeNet, optimizer, scheduler,log_name=file_name, batch_size = batch_size ,n_epoch = n_epoch, subtask_weight=i)"
   ]
  }
 ],
 "metadata": {
  "kernelspec": {
   "display_name": "AppliedML6907",
   "language": "python",
   "name": "python3"
  },
  "language_info": {
   "codemirror_mode": {
    "name": "ipython",
    "version": 3
   },
   "file_extension": ".py",
   "mimetype": "text/x-python",
   "name": "python",
   "nbconvert_exporter": "python",
   "pygments_lexer": "ipython3",
   "version": "3.8.18"
  },
  "orig_nbformat": 4
 },
 "nbformat": 4,
 "nbformat_minor": 2
}
