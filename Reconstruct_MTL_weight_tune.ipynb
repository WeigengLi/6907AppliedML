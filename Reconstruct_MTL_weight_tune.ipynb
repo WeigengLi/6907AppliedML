{
 "cells": [
  {
   "cell_type": "code",
   "execution_count": 3,
   "metadata": {},
   "outputs": [
    {
     "name": "stderr",
     "output_type": "stream",
     "text": [
      "Some weights of ViTForImageClassification were not initialized from the model checkpoint at google/vit-base-patch16-224 and are newly initialized because the shapes did not match:\n",
      "- vit.embeddings.patch_embeddings.projection.weight: found shape torch.Size([768, 3, 16, 16]) in the checkpoint and torch.Size([768, 256, 8, 1]) in the model instantiated\n",
      "- vit.embeddings.position_embeddings: found shape torch.Size([1, 197, 768]) in the checkpoint and torch.Size([1, 225, 768]) in the model instantiated\n",
      "You should probably TRAIN this model on a down-stream task to be able to use it for predictions and inference.\n"
     ]
    },
    {
     "name": "stdout",
     "output_type": "stream",
     "text": [
      "loading data...\n",
      "[[  1.  408.1 315.1]\n",
      " [  1.  640.7 519.1]\n",
      " [  1.  404.2 118.8]\n",
      " ...\n",
      " [177.  115.5 306.1]\n",
      " [177.  732.  310.3]\n",
      " [177.  632.2 353.6]]\n",
      "create dataloader...\n",
      "HI\n",
      "training...\n"
     ]
    },
    {
     "name": "stderr",
     "output_type": "stream",
     "text": [
      "1it [00:08,  8.63s/it]"
     ]
    },
    {
     "name": "stdout",
     "output_type": "stream",
     "text": [
      "Epoch 0, Batch 0, position loss: 169169.125                    reconstruction loss: 80.14128875732422 + RMSE(mm): 205.65087223252908\n"
     ]
    },
    {
     "name": "stderr",
     "output_type": "stream",
     "text": [
      "101it [00:44,  3.09it/s]"
     ]
    },
    {
     "name": "stdout",
     "output_type": "stream",
     "text": [
      "Epoch 0, Batch 100, position loss: 105967.1328125                    reconstruction loss: 53.155582427978516 + RMSE(mm): 162.7629663133632\n"
     ]
    },
    {
     "name": "stderr",
     "output_type": "stream",
     "text": [
      "201it [01:17,  3.22it/s]"
     ]
    },
    {
     "name": "stdout",
     "output_type": "stream",
     "text": [
      "Epoch 0, Batch 200, position loss: 45534.453125                    reconstruction loss: 114.72272491455078 + RMSE(mm): 106.69401708273055\n"
     ]
    },
    {
     "name": "stderr",
     "output_type": "stream",
     "text": [
      "236it [01:28,  2.68it/s]\n"
     ]
    },
    {
     "name": "stdout",
     "output_type": "stream",
     "text": [
      "Epoch 0, Val Loss: 38823.9837372449, RMSE(mm): 98.51901305997347\n",
      "Epoch 0, test Loss: 40178.22794117647, RMSE(mm): 100.22253731219399\n"
     ]
    },
    {
     "name": "stderr",
     "output_type": "stream",
     "text": [
      "1it [00:00,  3.17it/s]"
     ]
    },
    {
     "name": "stdout",
     "output_type": "stream",
     "text": [
      "Epoch 1, Batch 0, position loss: 39897.7265625                    reconstruction loss: 79.29247283935547 + RMSE(mm): 99.87207638086333\n"
     ]
    },
    {
     "name": "stderr",
     "output_type": "stream",
     "text": [
      "101it [00:31,  3.22it/s]"
     ]
    },
    {
     "name": "stdout",
     "output_type": "stream",
     "text": [
      "Epoch 1, Batch 100, position loss: 28997.5625                    reconstruction loss: 53.12081527709961 + RMSE(mm): 85.14335338122407\n"
     ]
    },
    {
     "name": "stderr",
     "output_type": "stream",
     "text": [
      "201it [01:02,  3.24it/s]"
     ]
    },
    {
     "name": "stdout",
     "output_type": "stream",
     "text": [
      "Epoch 1, Batch 200, position loss: 30364.0078125                    reconstruction loss: 114.77759552001953 + RMSE(mm): 87.12635624841084\n"
     ]
    },
    {
     "name": "stderr",
     "output_type": "stream",
     "text": [
      "236it [01:14,  3.17it/s]\n"
     ]
    },
    {
     "name": "stdout",
     "output_type": "stream",
     "text": [
      "Epoch 1, Val Loss: 24099.402383609693, RMSE(mm): 77.61991107893917\n",
      "Epoch 1, test Loss: 23938.82372089461, RMSE(mm): 77.36088113655151\n"
     ]
    },
    {
     "name": "stderr",
     "output_type": "stream",
     "text": [
      "1it [00:00,  2.56it/s]"
     ]
    },
    {
     "name": "stdout",
     "output_type": "stream",
     "text": [
      "Epoch 2, Batch 0, position loss: 23327.662109375                    reconstruction loss: 79.12995147705078 + RMSE(mm): 76.36697929958831\n"
     ]
    },
    {
     "name": "stderr",
     "output_type": "stream",
     "text": [
      "101it [00:38,  2.72it/s]"
     ]
    },
    {
     "name": "stdout",
     "output_type": "stream",
     "text": [
      "Epoch 2, Batch 100, position loss: 24850.361328125                    reconstruction loss: 52.821563720703125 + RMSE(mm): 78.81998688169931\n"
     ]
    },
    {
     "name": "stderr",
     "output_type": "stream",
     "text": [
      "201it [01:17,  2.56it/s]"
     ]
    },
    {
     "name": "stdout",
     "output_type": "stream",
     "text": [
      "Epoch 2, Batch 200, position loss: 25028.9453125                    reconstruction loss: 114.51458740234375 + RMSE(mm): 79.10269482214244\n"
     ]
    },
    {
     "name": "stderr",
     "output_type": "stream",
     "text": [
      "236it [01:31,  2.59it/s]\n"
     ]
    },
    {
     "name": "stdout",
     "output_type": "stream",
     "text": [
      "Epoch 2, Val Loss: 19878.884685905614, RMSE(mm): 70.49624934332608\n",
      "Epoch 2, test Loss: 18897.272843903185, RMSE(mm): 68.73367596001101\n"
     ]
    },
    {
     "name": "stderr",
     "output_type": "stream",
     "text": [
      "1it [00:00,  2.67it/s]"
     ]
    },
    {
     "name": "stdout",
     "output_type": "stream",
     "text": [
      "Epoch 3, Batch 0, position loss: 19285.78125                    reconstruction loss: 78.81832122802734 + RMSE(mm): 69.43662803232887\n"
     ]
    },
    {
     "name": "stderr",
     "output_type": "stream",
     "text": [
      "101it [00:37,  3.20it/s]"
     ]
    },
    {
     "name": "stdout",
     "output_type": "stream",
     "text": [
      "Epoch 3, Batch 100, position loss: 17728.103515625                    reconstruction loss: 52.31048583984375 + RMSE(mm): 66.57346227218657\n"
     ]
    },
    {
     "name": "stderr",
     "output_type": "stream",
     "text": [
      "101it [00:38,  2.65it/s]\n"
     ]
    },
    {
     "ename": "KeyboardInterrupt",
     "evalue": "",
     "output_type": "error",
     "traceback": [
      "\u001b[1;31m---------------------------------------------------------------------------\u001b[0m",
      "\u001b[1;31mKeyboardInterrupt\u001b[0m                         Traceback (most recent call last)",
      "\u001b[1;32mf:\\OneDrive - The George Washington University\\Course\\23Fall\\6907AppliedML\\Code\\MTL-VIT2EEG\\Reconstruct_MTL_weight_tune.ipynb 单元格 1\u001b[0m line \u001b[0;36m1\n\u001b[0;32m     <a href='vscode-notebook-cell:/f%3A/OneDrive%20-%20The%20George%20Washington%20University/Course/23Fall/6907AppliedML/Code/MTL-VIT2EEG/Reconstruct_MTL_weight_tune.ipynb#W1sZmlsZQ%3D%3D?line=14'>15</a>\u001b[0m optimizer \u001b[39m=\u001b[39m torch\u001b[39m.\u001b[39moptim\u001b[39m.\u001b[39mAdam(model\u001b[39m.\u001b[39mparameters(), lr\u001b[39m=\u001b[39mlearning_rate)\n\u001b[0;32m     <a href='vscode-notebook-cell:/f%3A/OneDrive%20-%20The%20George%20Washington%20University/Course/23Fall/6907AppliedML/Code/MTL-VIT2EEG/Reconstruct_MTL_weight_tune.ipynb#W1sZmlsZQ%3D%3D?line=15'>16</a>\u001b[0m scheduler \u001b[39m=\u001b[39m torch\u001b[39m.\u001b[39moptim\u001b[39m.\u001b[39mlr_scheduler\u001b[39m.\u001b[39mStepLR(optimizer, step_size\u001b[39m=\u001b[39m\u001b[39m6\u001b[39m, gamma\u001b[39m=\u001b[39m\u001b[39m0.1\u001b[39m)\n\u001b[1;32m---> <a href='vscode-notebook-cell:/f%3A/OneDrive%20-%20The%20George%20Washington%20University/Course/23Fall/6907AppliedML/Code/MTL-VIT2EEG/Reconstruct_MTL_weight_tune.ipynb#W1sZmlsZQ%3D%3D?line=16'>17</a>\u001b[0m train(model,EEGEyeNet, optimizer, scheduler, batch_size \u001b[39m=\u001b[39;49m batch_size ,n_epoch \u001b[39m=\u001b[39;49m n_epoch, reconstruction_weight\u001b[39m=\u001b[39;49mi\u001b[39m*\u001b[39;49m\u001b[39m0.1\u001b[39;49m)\n",
      "File \u001b[1;32mf:\\OneDrive - The George Washington University\\Course\\23Fall\\6907AppliedML\\Code\\MTL-VIT2EEG\\helper_function_test.py:101\u001b[0m, in \u001b[0;36mtrain\u001b[1;34m(model, Dataset, optimizer, scheduler, batch_size, n_epoch, output_dir, reconstruction_weight)\u001b[0m\n\u001b[0;32m     99\u001b[0m loss\u001b[39m.\u001b[39mbackward()\n\u001b[0;32m    100\u001b[0m optimizer\u001b[39m.\u001b[39mstep()\n\u001b[1;32m--> 101\u001b[0m epoch_train_loss \u001b[39m+\u001b[39m\u001b[39m=\u001b[39m loss\u001b[39m.\u001b[39;49mitem()\n\u001b[0;32m    103\u001b[0m \u001b[39m# Print the loss and accuracy for the current batch\u001b[39;00m\n\u001b[0;32m    104\u001b[0m \u001b[39mif\u001b[39;00m i \u001b[39m%\u001b[39m \u001b[39m100\u001b[39m \u001b[39m==\u001b[39m \u001b[39m0\u001b[39m:\n",
      "\u001b[1;31mKeyboardInterrupt\u001b[0m: "
     ]
    }
   ],
   "source": [
    "from models.MTLVit import MTLViT_pretrained\n",
    "from helper_function_test import train\n",
    "from dataset.EEGEyeNet import EEGEyeNetDataset\n",
    "import torch\n",
    "\n",
    "'''\n",
    "models: EEGViT_pretrained; EEGViT_raw; ViTBase; ViTBase_pretrained\n",
    "'''\n",
    "for i in range(1, 11):\n",
    "    model = MTLViT_pretrained()\n",
    "    EEGEyeNet = EEGEyeNetDataset('./dataset/Position_task_with_dots_synchronised_min.npz')\n",
    "    batch_size = 64\n",
    "    n_epoch = 15\n",
    "    learning_rate = 1e-4\n",
    "    optimizer = torch.optim.Adam(model.parameters(), lr=learning_rate)\n",
    "    scheduler = torch.optim.lr_scheduler.StepLR(optimizer, step_size=6, gamma=0.1)\n",
    "    train(model,EEGEyeNet, optimizer, scheduler, batch_size = batch_size ,n_epoch = n_epoch, reconstruction_weight=i*0.1)"
   ]
  }
 ],
 "metadata": {
  "kernelspec": {
   "display_name": "AppliedML6907",
   "language": "python",
   "name": "python3"
  },
  "language_info": {
   "codemirror_mode": {
    "name": "ipython",
    "version": 3
   },
   "file_extension": ".py",
   "mimetype": "text/x-python",
   "name": "python",
   "nbconvert_exporter": "python",
   "pygments_lexer": "ipython3",
   "version": "3.8.18"
  },
  "orig_nbformat": 4
 },
 "nbformat": 4,
 "nbformat_minor": 2
}
