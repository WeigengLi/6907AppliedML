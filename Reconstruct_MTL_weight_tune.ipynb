{
 "cells": [
  {
   "cell_type": "code",
   "execution_count": 6,
   "metadata": {},
   "outputs": [
    {
     "name": "stdout",
     "output_type": "stream",
     "text": [
      "loading data...\n",
      "[[  1.  408.1 315.1]\n",
      " [  1.  640.7 519.1]\n",
      " [  1.  404.2 118.8]\n",
      " ...\n",
      " [177.  115.5 306.1]\n",
      " [177.  732.  310.3]\n",
      " [177.  632.2 353.6]]\n"
     ]
    },
    {
     "name": "stderr",
     "output_type": "stream",
     "text": [
      "Some weights of ViTForImageClassification were not initialized from the model checkpoint at google/vit-base-patch16-224 and are newly initialized because the shapes did not match:\n",
      "- vit.embeddings.patch_embeddings.projection.weight: found shape torch.Size([768, 3, 16, 16]) in the checkpoint and torch.Size([768, 256, 8, 1]) in the model instantiated\n",
      "- vit.embeddings.position_embeddings: found shape torch.Size([1, 197, 768]) in the checkpoint and torch.Size([1, 225, 768]) in the model instantiated\n",
      "You should probably TRAIN this model on a down-stream task to be able to use it for predictions and inference.\n"
     ]
    },
    {
     "name": "stdout",
     "output_type": "stream",
     "text": [
      "create dataloader...\n",
      "HI\n",
      "training...\n"
     ]
    },
    {
     "name": "stderr",
     "output_type": "stream",
     "text": [
      "1it [00:00,  1.44it/s]"
     ]
    },
    {
     "name": "stdout",
     "output_type": "stream",
     "text": [
      "Epoch 0, Batch 0, position loss: 168922.71875 reconstruction loss: 80.13229370117188 RMSE(mm): 205.50104546571046\n"
     ]
    },
    {
     "name": "stderr",
     "output_type": "stream",
     "text": [
      "101it [00:29,  3.57it/s]"
     ]
    },
    {
     "name": "stdout",
     "output_type": "stream",
     "text": [
      "Epoch 0, Batch 100, position loss: 104323.328125 reconstruction loss: 53.610015869140625 RMSE(mm): 161.4956099442025\n"
     ]
    },
    {
     "name": "stderr",
     "output_type": "stream",
     "text": [
      "201it [00:57,  3.55it/s]"
     ]
    },
    {
     "name": "stdout",
     "output_type": "stream",
     "text": [
      "Epoch 0, Batch 200, position loss: 44293.78125 reconstruction loss: 115.24705505371094 RMSE(mm): 105.23043909677466\n"
     ]
    },
    {
     "name": "stderr",
     "output_type": "stream",
     "text": [
      "236it [01:07,  3.50it/s]\n"
     ]
    },
    {
     "name": "stdout",
     "output_type": "stream",
     "text": [
      "Epoch 0, Val Loss: 38381.64269770408, RMSE(mm): 97.95616710767128\n",
      "Epoch 0, test Loss: 41340.361607142855, RMSE(mm): 101.6616466608018\n"
     ]
    },
    {
     "name": "stderr",
     "output_type": "stream",
     "text": [
      "1it [00:00,  3.60it/s]"
     ]
    },
    {
     "name": "stdout",
     "output_type": "stream",
     "text": [
      "Epoch 1, Batch 0, position loss: 39750.796875 reconstruction loss: 80.19027709960938 RMSE(mm): 99.6880094030872\n"
     ]
    },
    {
     "name": "stderr",
     "output_type": "stream",
     "text": [
      "101it [00:28,  3.45it/s]"
     ]
    },
    {
     "name": "stdout",
     "output_type": "stream",
     "text": [
      "Epoch 1, Batch 100, position loss: 36190.25 reconstruction loss: 53.64511489868164 RMSE(mm): 95.11867587387873\n"
     ]
    },
    {
     "name": "stderr",
     "output_type": "stream",
     "text": [
      "201it [00:56,  3.53it/s]"
     ]
    },
    {
     "name": "stdout",
     "output_type": "stream",
     "text": [
      "Epoch 1, Batch 200, position loss: 33056.7734375 reconstruction loss: 115.25773620605469 RMSE(mm): 90.90760891902833\n"
     ]
    },
    {
     "name": "stderr",
     "output_type": "stream",
     "text": [
      "236it [01:06,  3.54it/s]\n"
     ]
    },
    {
     "name": "stdout",
     "output_type": "stream",
     "text": [
      "Epoch 1, Val Loss: 27094.437380420917, RMSE(mm): 82.30194010535371\n",
      "Epoch 1, test Loss: 28176.49123086735, RMSE(mm): 83.92927265094603\n"
     ]
    },
    {
     "name": "stderr",
     "output_type": "stream",
     "text": [
      "1it [00:00,  3.62it/s]"
     ]
    },
    {
     "name": "stdout",
     "output_type": "stream",
     "text": [
      "Epoch 2, Batch 0, position loss: 25311.50390625 reconstruction loss: 80.1883773803711 RMSE(mm): 79.54794765776488\n"
     ]
    },
    {
     "name": "stderr",
     "output_type": "stream",
     "text": [
      "101it [00:28,  3.56it/s]"
     ]
    },
    {
     "name": "stdout",
     "output_type": "stream",
     "text": [
      "Epoch 2, Batch 100, position loss: 25691.72265625 reconstruction loss: 53.6369514465332 RMSE(mm): 80.14318850696233\n"
     ]
    },
    {
     "name": "stderr",
     "output_type": "stream",
     "text": [
      "201it [00:56,  3.57it/s]"
     ]
    },
    {
     "name": "stdout",
     "output_type": "stream",
     "text": [
      "Epoch 2, Batch 200, position loss: 27716.9296875 reconstruction loss: 115.25575256347656 RMSE(mm): 83.24201115948004\n"
     ]
    },
    {
     "name": "stderr",
     "output_type": "stream",
     "text": [
      "236it [01:06,  3.57it/s]\n"
     ]
    },
    {
     "name": "stdout",
     "output_type": "stream",
     "text": [
      "Epoch 2, Val Loss: 21626.247568558672, RMSE(mm): 73.52932674885353\n",
      "Epoch 2, test Loss: 22056.082908163266, RMSE(mm): 74.25645242698319\n"
     ]
    },
    {
     "name": "stderr",
     "output_type": "stream",
     "text": [
      "1it [00:00,  3.58it/s]"
     ]
    },
    {
     "name": "stdout",
     "output_type": "stream",
     "text": [
      "Epoch 3, Batch 0, position loss: 20150.330078125 reconstruction loss: 80.19599914550781 RMSE(mm): 70.97592915581487\n"
     ]
    },
    {
     "name": "stderr",
     "output_type": "stream",
     "text": [
      "101it [00:28,  3.57it/s]"
     ]
    },
    {
     "name": "stdout",
     "output_type": "stream",
     "text": [
      "Epoch 3, Batch 100, position loss: 23383.55859375 reconstruction loss: 53.637428283691406 RMSE(mm): 76.45841777356827\n"
     ]
    },
    {
     "name": "stderr",
     "output_type": "stream",
     "text": [
      "201it [00:56,  3.57it/s]"
     ]
    },
    {
     "name": "stdout",
     "output_type": "stream",
     "text": [
      "Epoch 3, Batch 200, position loss: 24170.41015625 reconstruction loss: 115.25518035888672 RMSE(mm): 77.73417870578231\n"
     ]
    },
    {
     "name": "stderr",
     "output_type": "stream",
     "text": [
      "236it [01:05,  3.58it/s]\n"
     ]
    },
    {
     "name": "stdout",
     "output_type": "stream",
     "text": [
      "Epoch 3, Val Loss: 20814.931242028062, RMSE(mm): 72.1369032500496\n",
      "Epoch 3, test Loss: 20999.734036192604, RMSE(mm): 72.45642489833563\n"
     ]
    },
    {
     "name": "stderr",
     "output_type": "stream",
     "text": [
      "1it [00:00,  3.58it/s]"
     ]
    },
    {
     "name": "stdout",
     "output_type": "stream",
     "text": [
      "Epoch 4, Batch 0, position loss: 19582.103515625 reconstruction loss: 80.19912719726562 RMSE(mm): 69.9680346937532\n"
     ]
    },
    {
     "name": "stderr",
     "output_type": "stream",
     "text": [
      "101it [00:28,  3.57it/s]"
     ]
    },
    {
     "name": "stdout",
     "output_type": "stream",
     "text": [
      "Epoch 4, Batch 100, position loss: 22035.087890625 reconstruction loss: 53.63774490356445 RMSE(mm): 74.22110193641866\n"
     ]
    },
    {
     "name": "stderr",
     "output_type": "stream",
     "text": [
      "201it [00:56,  3.57it/s]"
     ]
    },
    {
     "name": "stdout",
     "output_type": "stream",
     "text": [
      "Epoch 4, Batch 200, position loss: 22898.763671875 reconstruction loss: 115.25629425048828 RMSE(mm): 75.66168725298657\n"
     ]
    },
    {
     "name": "stderr",
     "output_type": "stream",
     "text": [
      "236it [01:06,  3.57it/s]\n"
     ]
    },
    {
     "name": "stdout",
     "output_type": "stream",
     "text": [
      "Epoch 4, Val Loss: 20883.652961575255, RMSE(mm): 72.25588723691526\n",
      "Epoch 4, test Loss: 20977.065549266583, RMSE(mm): 72.41730723602366\n"
     ]
    },
    {
     "name": "stderr",
     "output_type": "stream",
     "text": [
      "1it [00:00,  3.56it/s]"
     ]
    },
    {
     "name": "stdout",
     "output_type": "stream",
     "text": [
      "Epoch 5, Batch 0, position loss: 19812.73828125 reconstruction loss: 80.19981384277344 RMSE(mm): 70.37886451423111\n"
     ]
    },
    {
     "name": "stderr",
     "output_type": "stream",
     "text": [
      "101it [00:28,  3.56it/s]"
     ]
    },
    {
     "name": "stdout",
     "output_type": "stream",
     "text": [
      "Epoch 5, Batch 100, position loss: 18765.875 reconstruction loss: 53.62662124633789 RMSE(mm): 68.49429720786979\n"
     ]
    },
    {
     "name": "stderr",
     "output_type": "stream",
     "text": [
      "201it [00:56,  3.57it/s]"
     ]
    },
    {
     "name": "stdout",
     "output_type": "stream",
     "text": [
      "Epoch 5, Batch 200, position loss: 19702.240234375 reconstruction loss: 115.24395751953125 RMSE(mm): 70.1823343769196\n"
     ]
    },
    {
     "name": "stderr",
     "output_type": "stream",
     "text": [
      "236it [01:06,  3.57it/s]\n"
     ]
    },
    {
     "name": "stdout",
     "output_type": "stream",
     "text": [
      "Epoch 5, Val Loss: 17684.46635841837, RMSE(mm): 66.49147757122407\n",
      "Epoch 5, test Loss: 16528.453882334183, RMSE(mm): 64.28151733261704\n"
     ]
    },
    {
     "name": "stderr",
     "output_type": "stream",
     "text": [
      "1it [00:00,  3.58it/s]"
     ]
    },
    {
     "name": "stdout",
     "output_type": "stream",
     "text": [
      "Epoch 6, Batch 0, position loss: 15486.0283203125 reconstruction loss: 80.19902038574219 RMSE(mm): 62.22143585676985\n"
     ]
    },
    {
     "name": "stderr",
     "output_type": "stream",
     "text": [
      "101it [00:28,  3.53it/s]"
     ]
    },
    {
     "name": "stdout",
     "output_type": "stream",
     "text": [
      "Epoch 6, Batch 100, position loss: 17648.734375 reconstruction loss: 53.635257720947266 RMSE(mm): 66.42426961397469\n"
     ]
    },
    {
     "name": "stderr",
     "output_type": "stream",
     "text": [
      "201it [00:56,  3.56it/s]"
     ]
    },
    {
     "name": "stdout",
     "output_type": "stream",
     "text": [
      "Epoch 6, Batch 200, position loss: 15968.44921875 reconstruction loss: 115.252197265625 RMSE(mm): 63.18316472516631\n"
     ]
    },
    {
     "name": "stderr",
     "output_type": "stream",
     "text": [
      "236it [01:06,  3.57it/s]\n"
     ]
    },
    {
     "name": "stdout",
     "output_type": "stream",
     "text": [
      "Epoch 6, Val Loss: 16772.6318359375, RMSE(mm): 64.75459797562158\n",
      "Epoch 6, test Loss: 15874.505261479591, RMSE(mm): 62.99703417915718\n"
     ]
    },
    {
     "name": "stderr",
     "output_type": "stream",
     "text": [
      "1it [00:00,  3.70it/s]"
     ]
    },
    {
     "name": "stdout",
     "output_type": "stream",
     "text": [
      "Epoch 7, Batch 0, position loss: 15895.64453125 reconstruction loss: 80.19578552246094 RMSE(mm): 63.03896519465163\n"
     ]
    },
    {
     "name": "stderr",
     "output_type": "stream",
     "text": [
      "101it [00:27,  3.69it/s]"
     ]
    },
    {
     "name": "stdout",
     "output_type": "stream",
     "text": [
      "Epoch 7, Batch 100, position loss: 17661.595703125 reconstruction loss: 53.63506317138672 RMSE(mm): 66.44846819740279\n"
     ]
    },
    {
     "name": "stderr",
     "output_type": "stream",
     "text": [
      "201it [00:54,  3.68it/s]"
     ]
    },
    {
     "name": "stdout",
     "output_type": "stream",
     "text": [
      "Epoch 7, Batch 200, position loss: 15685.9169921875 reconstruction loss: 115.25174713134766 RMSE(mm): 62.62171546713548\n"
     ]
    },
    {
     "name": "stderr",
     "output_type": "stream",
     "text": [
      "236it [01:03,  3.69it/s]\n"
     ]
    },
    {
     "name": "stdout",
     "output_type": "stream",
     "text": [
      "Epoch 7, Val Loss: 16562.85768096301, RMSE(mm): 64.3483831983427\n",
      "Epoch 7, test Loss: 15626.894949776786, RMSE(mm): 62.50378978465383\n"
     ]
    },
    {
     "name": "stderr",
     "output_type": "stream",
     "text": [
      "1it [00:00,  3.72it/s]"
     ]
    },
    {
     "name": "stdout",
     "output_type": "stream",
     "text": [
      "Epoch 8, Batch 0, position loss: 15331.13671875 reconstruction loss: 80.19547271728516 RMSE(mm): 61.90948376208204\n"
     ]
    },
    {
     "name": "stderr",
     "output_type": "stream",
     "text": [
      "101it [00:27,  3.68it/s]"
     ]
    },
    {
     "name": "stdout",
     "output_type": "stream",
     "text": [
      "Epoch 8, Batch 100, position loss: 17673.353515625 reconstruction loss: 53.634613037109375 RMSE(mm): 66.47058280853456\n"
     ]
    },
    {
     "name": "stderr",
     "output_type": "stream",
     "text": [
      "201it [00:54,  3.68it/s]"
     ]
    },
    {
     "name": "stdout",
     "output_type": "stream",
     "text": [
      "Epoch 8, Batch 200, position loss: 15077.234375 reconstruction loss: 115.25162506103516 RMSE(mm): 61.39469515967971\n"
     ]
    },
    {
     "name": "stderr",
     "output_type": "stream",
     "text": [
      "236it [01:04,  3.68it/s]\n"
     ]
    },
    {
     "name": "stdout",
     "output_type": "stream",
     "text": [
      "Epoch 8, Val Loss: 16416.072664221938, RMSE(mm): 64.06261129594613\n",
      "Epoch 8, test Loss: 15433.54759247449, RMSE(mm): 62.11591501474177\n"
     ]
    },
    {
     "name": "stderr",
     "output_type": "stream",
     "text": [
      "1it [00:00,  3.70it/s]"
     ]
    },
    {
     "name": "stdout",
     "output_type": "stream",
     "text": [
      "Epoch 9, Batch 0, position loss: 15052.5 reconstruction loss: 80.19538116455078 RMSE(mm): 61.34431514003559\n"
     ]
    },
    {
     "name": "stderr",
     "output_type": "stream",
     "text": [
      "101it [00:27,  3.69it/s]"
     ]
    },
    {
     "name": "stdout",
     "output_type": "stream",
     "text": [
      "Epoch 9, Batch 100, position loss: 17424.84765625 reconstruction loss: 53.63424301147461 RMSE(mm): 66.00160539003957\n"
     ]
    },
    {
     "name": "stderr",
     "output_type": "stream",
     "text": [
      "201it [00:54,  3.69it/s]"
     ]
    },
    {
     "name": "stdout",
     "output_type": "stream",
     "text": [
      "Epoch 9, Batch 200, position loss: 15202.822265625 reconstruction loss: 115.25162506103516 RMSE(mm): 61.64986266332026\n"
     ]
    },
    {
     "name": "stderr",
     "output_type": "stream",
     "text": [
      "236it [01:03,  3.69it/s]\n"
     ]
    },
    {
     "name": "stdout",
     "output_type": "stream",
     "text": [
      "Epoch 9, Val Loss: 16299.383450255102, RMSE(mm): 63.83451936502519\n",
      "Epoch 9, test Loss: 15256.918726084185, RMSE(mm): 61.759450139400094\n"
     ]
    },
    {
     "name": "stderr",
     "output_type": "stream",
     "text": [
      "1it [00:00,  3.70it/s]"
     ]
    },
    {
     "name": "stdout",
     "output_type": "stream",
     "text": [
      "Epoch 10, Batch 0, position loss: 14687.361328125 reconstruction loss: 80.19557189941406 RMSE(mm): 60.59571215879264\n"
     ]
    },
    {
     "name": "stderr",
     "output_type": "stream",
     "text": [
      "101it [00:27,  3.69it/s]"
     ]
    },
    {
     "name": "stdout",
     "output_type": "stream",
     "text": [
      "Epoch 10, Batch 100, position loss: 16737.814453125 reconstruction loss: 53.63407897949219 RMSE(mm): 64.68735280780355\n"
     ]
    },
    {
     "name": "stderr",
     "output_type": "stream",
     "text": [
      "201it [00:54,  3.68it/s]"
     ]
    },
    {
     "name": "stdout",
     "output_type": "stream",
     "text": [
      "Epoch 10, Batch 200, position loss: 14992.193359375 reconstruction loss: 115.25162506103516 RMSE(mm): 61.221306257247974\n"
     ]
    },
    {
     "name": "stderr",
     "output_type": "stream",
     "text": [
      "236it [01:03,  3.69it/s]\n"
     ]
    },
    {
     "name": "stdout",
     "output_type": "stream",
     "text": [
      "Epoch 10, Val Loss: 16206.930943080357, RMSE(mm): 63.653222508920074\n",
      "Epoch 10, test Loss: 15112.651167889031, RMSE(mm): 61.4667616844442\n"
     ]
    },
    {
     "name": "stderr",
     "output_type": "stream",
     "text": [
      "1it [00:00,  3.70it/s]"
     ]
    },
    {
     "name": "stdout",
     "output_type": "stream",
     "text": [
      "Epoch 11, Batch 0, position loss: 14418.783203125 reconstruction loss: 80.19564819335938 RMSE(mm): 60.039118920760735\n"
     ]
    },
    {
     "name": "stderr",
     "output_type": "stream",
     "text": [
      "101it [00:27,  3.67it/s]"
     ]
    },
    {
     "name": "stdout",
     "output_type": "stream",
     "text": [
      "Epoch 11, Batch 100, position loss: 16374.41796875 reconstruction loss: 53.63407516479492 RMSE(mm): 63.981282358104544\n"
     ]
    },
    {
     "name": "stderr",
     "output_type": "stream",
     "text": [
      "201it [00:54,  3.68it/s]"
     ]
    },
    {
     "name": "stdout",
     "output_type": "stream",
     "text": [
      "Epoch 11, Batch 200, position loss: 15012.29296875 reconstruction loss: 115.25164031982422 RMSE(mm): 61.2623313479621\n"
     ]
    },
    {
     "name": "stderr",
     "output_type": "stream",
     "text": [
      "236it [01:04,  3.69it/s]\n"
     ]
    },
    {
     "name": "stdout",
     "output_type": "stream",
     "text": [
      "Epoch 11, Val Loss: 16158.360650510203, RMSE(mm): 63.55777027734336\n",
      "Epoch 11, test Loss: 15011.103834502552, RMSE(mm): 61.2599049838117\n"
     ]
    },
    {
     "name": "stderr",
     "output_type": "stream",
     "text": [
      "1it [00:00,  3.70it/s]"
     ]
    },
    {
     "name": "stdout",
     "output_type": "stream",
     "text": [
      "Epoch 12, Batch 0, position loss: 14063.9375 reconstruction loss: 80.19564819335938 RMSE(mm): 59.295736566805544\n"
     ]
    },
    {
     "name": "stderr",
     "output_type": "stream",
     "text": [
      "101it [00:27,  3.69it/s]"
     ]
    },
    {
     "name": "stdout",
     "output_type": "stream",
     "text": [
      "Epoch 12, Batch 100, position loss: 16605.48046875 reconstruction loss: 53.63414001464844 RMSE(mm): 64.43112692780952\n"
     ]
    },
    {
     "name": "stderr",
     "output_type": "stream",
     "text": [
      "201it [00:54,  3.68it/s]"
     ]
    },
    {
     "name": "stdout",
     "output_type": "stream",
     "text": [
      "Epoch 12, Batch 200, position loss: 13944.564453125 reconstruction loss: 115.25198364257812 RMSE(mm): 59.043552681738674\n"
     ]
    },
    {
     "name": "stderr",
     "output_type": "stream",
     "text": [
      "236it [01:03,  3.69it/s]\n"
     ]
    },
    {
     "name": "stdout",
     "output_type": "stream",
     "text": [
      "Epoch 12, Val Loss: 15860.928332270409, RMSE(mm): 62.97008879672636\n",
      "Epoch 12, test Loss: 14649.694874043367, RMSE(mm): 60.517961949415\n"
     ]
    },
    {
     "name": "stderr",
     "output_type": "stream",
     "text": [
      "1it [00:00,  3.69it/s]"
     ]
    },
    {
     "name": "stdout",
     "output_type": "stream",
     "text": [
      "Epoch 13, Batch 0, position loss: 13930.041015625 reconstruction loss: 80.19590759277344 RMSE(mm): 59.01279737401244\n"
     ]
    },
    {
     "name": "stderr",
     "output_type": "stream",
     "text": [
      "101it [00:27,  3.68it/s]"
     ]
    },
    {
     "name": "stdout",
     "output_type": "stream",
     "text": [
      "Epoch 13, Batch 100, position loss: 16677.546875 reconstruction loss: 53.63394546508789 RMSE(mm): 64.57078843215406\n"
     ]
    },
    {
     "name": "stderr",
     "output_type": "stream",
     "text": [
      "201it [00:54,  3.68it/s]"
     ]
    },
    {
     "name": "stdout",
     "output_type": "stream",
     "text": [
      "Epoch 13, Batch 200, position loss: 14024.015625 reconstruction loss: 115.25179290771484 RMSE(mm): 59.21151835791749\n"
     ]
    },
    {
     "name": "stderr",
     "output_type": "stream",
     "text": [
      "236it [01:03,  3.69it/s]\n"
     ]
    },
    {
     "name": "stdout",
     "output_type": "stream",
     "text": [
      "Epoch 13, Val Loss: 15822.188456632653, RMSE(mm): 62.89314043803317\n",
      "Epoch 13, test Loss: 14604.13364955357, RMSE(mm): 60.4237818444724\n"
     ]
    },
    {
     "name": "stderr",
     "output_type": "stream",
     "text": [
      "1it [00:00,  3.70it/s]"
     ]
    },
    {
     "name": "stdout",
     "output_type": "stream",
     "text": [
      "Epoch 14, Batch 0, position loss: 14077.232421875 reconstruction loss: 80.19576263427734 RMSE(mm): 59.32375667023077\n"
     ]
    },
    {
     "name": "stderr",
     "output_type": "stream",
     "text": [
      "101it [00:27,  3.69it/s]"
     ]
    },
    {
     "name": "stdout",
     "output_type": "stream",
     "text": [
      "Epoch 14, Batch 100, position loss: 17005.609375 reconstruction loss: 53.63388442993164 RMSE(mm): 65.20277865052992\n"
     ]
    },
    {
     "name": "stderr",
     "output_type": "stream",
     "text": [
      "201it [00:54,  3.68it/s]"
     ]
    },
    {
     "name": "stdout",
     "output_type": "stream",
     "text": [
      "Epoch 14, Batch 200, position loss: 13949.1552734375 reconstruction loss: 115.25167846679688 RMSE(mm): 59.05327102167479\n"
     ]
    },
    {
     "name": "stderr",
     "output_type": "stream",
     "text": [
      "236it [01:04,  3.68it/s]\n"
     ]
    },
    {
     "name": "stdout",
     "output_type": "stream",
     "text": [
      "Epoch 14, Val Loss: 15803.421456473214, RMSE(mm): 62.85582999307466\n",
      "Epoch 14, test Loss: 14581.135522959185, RMSE(mm): 60.376186371282145\n"
     ]
    }
   ],
   "source": [
    "from models.MTLVit import MTLViT_pretrained\n",
    "from helper_function_test import train\n",
    "from dataset.EEGEyeNet import EEGEyeNetDataset\n",
    "import torch\n",
    "\n",
    "'''\n",
    "models: EEGViT_pretrained; EEGViT_raw; ViTBase; ViTBase_pretrained\n",
    "'''\n",
    "EEGEyeNet = EEGEyeNetDataset('./dataset/Position_task_with_dots_synchronised_min.npz')\n",
    "batch_size = 64\n",
    "n_epoch = 15\n",
    "learning_rate = 1e-4\n",
    "model_name = 'MTL_Recon_VIT_pre'\n",
    "\n",
    "model = MTLViT_pretrained()\n",
    "optimizer = torch.optim.Adam(model.parameters(), lr=learning_rate)\n",
    "scheduler = torch.optim.lr_scheduler.StepLR(optimizer, step_size=6, gamma=0.1)\n",
    "file_name = f'{model_name}_weight_{0}'\n",
    "train(model,EEGEyeNet, optimizer, scheduler,log_name=file_name, batch_size = batch_size ,n_epoch = n_epoch, reconstruction_weight=0)"
   ]
  },
  {
   "cell_type": "code",
   "execution_count": 3,
   "metadata": {},
   "outputs": [
    {
     "name": "stdout",
     "output_type": "stream",
     "text": [
      "loading data...\n",
      "[[  1.  408.1 315.1]\n",
      " [  1.  640.7 519.1]\n",
      " [  1.  404.2 118.8]\n",
      " ...\n",
      " [177.  115.5 306.1]\n",
      " [177.  732.  310.3]\n",
      " [177.  632.2 353.6]]\n"
     ]
    },
    {
     "name": "stderr",
     "output_type": "stream",
     "text": [
      "Some weights of ViTForImageClassification were not initialized from the model checkpoint at google/vit-base-patch16-224 and are newly initialized because the shapes did not match:\n",
      "- vit.embeddings.patch_embeddings.projection.weight: found shape torch.Size([768, 3, 16, 16]) in the checkpoint and torch.Size([768, 256, 8, 1]) in the model instantiated\n",
      "- vit.embeddings.position_embeddings: found shape torch.Size([1, 197, 768]) in the checkpoint and torch.Size([1, 225, 768]) in the model instantiated\n",
      "You should probably TRAIN this model on a down-stream task to be able to use it for predictions and inference.\n"
     ]
    },
    {
     "name": "stdout",
     "output_type": "stream",
     "text": [
      "create dataloader...\n",
      "HI\n",
      "training...\n"
     ]
    },
    {
     "name": "stderr",
     "output_type": "stream",
     "text": [
      "1it [00:00,  1.13it/s]"
     ]
    },
    {
     "name": "stdout",
     "output_type": "stream",
     "text": [
      "Epoch 0, Batch 0, position loss: 169142.578125 reconstruction loss: 80.13424682617188 RMSE(mm): 205.6347357117712\n"
     ]
    },
    {
     "name": "stderr",
     "output_type": "stream",
     "text": [
      "101it [00:32,  3.25it/s]"
     ]
    },
    {
     "name": "stdout",
     "output_type": "stream",
     "text": [
      "Epoch 0, Batch 100, position loss: 105778.171875 reconstruction loss: 52.663818359375 RMSE(mm): 162.61778183442917\n"
     ]
    },
    {
     "name": "stderr",
     "output_type": "stream",
     "text": [
      "201it [01:03,  3.25it/s]"
     ]
    },
    {
     "name": "stdout",
     "output_type": "stream",
     "text": [
      "Epoch 0, Batch 200, position loss: 45123.171875 reconstruction loss: 103.62419128417969 RMSE(mm): 106.21107742956946\n"
     ]
    },
    {
     "name": "stderr",
     "output_type": "stream",
     "text": [
      "236it [01:14,  3.18it/s]\n"
     ]
    },
    {
     "name": "stdout",
     "output_type": "stream",
     "text": [
      "Epoch 0, Val Loss: 49261.96197385204, RMSE(mm): 97.74444711167531\n",
      "Epoch 0, test Loss: 64539.26036352041, RMSE(mm): 101.43493116615399\n"
     ]
    },
    {
     "name": "stderr",
     "output_type": "stream",
     "text": [
      "1it [00:00,  3.26it/s]"
     ]
    },
    {
     "name": "stdout",
     "output_type": "stream",
     "text": [
      "Epoch 1, Batch 0, position loss: 39471.203125 reconstruction loss: 59.11485290527344 RMSE(mm): 99.3368047666624\n"
     ]
    },
    {
     "name": "stderr",
     "output_type": "stream",
     "text": [
      "101it [00:31,  3.27it/s]"
     ]
    },
    {
     "name": "stdout",
     "output_type": "stream",
     "text": [
      "Epoch 1, Batch 100, position loss: 39178.125 reconstruction loss: 52.664329528808594 RMSE(mm): 98.96732415297485\n"
     ]
    },
    {
     "name": "stderr",
     "output_type": "stream",
     "text": [
      "201it [01:01,  3.26it/s]"
     ]
    },
    {
     "name": "stdout",
     "output_type": "stream",
     "text": [
      "Epoch 1, Batch 200, position loss: 35053.1796875 reconstruction loss: 113.38666534423828 RMSE(mm): 93.61247204232457\n"
     ]
    },
    {
     "name": "stderr",
     "output_type": "stream",
     "text": [
      "236it [01:12,  3.26it/s]\n"
     ]
    },
    {
     "name": "stdout",
     "output_type": "stream",
     "text": [
      "Epoch 1, Val Loss: 41161.7715242347, RMSE(mm): 84.78169270149655\n",
      "Epoch 1, test Loss: 55135.33944515306, RMSE(mm): 87.27941006969604\n"
     ]
    },
    {
     "name": "stderr",
     "output_type": "stream",
     "text": [
      "1it [00:00,  3.25it/s]"
     ]
    },
    {
     "name": "stdout",
     "output_type": "stream",
     "text": [
      "Epoch 2, Batch 0, position loss: 28389.189453125 reconstruction loss: 72.78060150146484 RMSE(mm): 84.24545900688803\n"
     ]
    },
    {
     "name": "stderr",
     "output_type": "stream",
     "text": [
      "101it [00:31,  3.20it/s]"
     ]
    },
    {
     "name": "stdout",
     "output_type": "stream",
     "text": [
      "Epoch 2, Batch 100, position loss: 25535.0390625 reconstruction loss: 35.59713363647461 RMSE(mm): 79.89843406240826\n"
     ]
    },
    {
     "name": "stderr",
     "output_type": "stream",
     "text": [
      "201it [01:01,  3.29it/s]"
     ]
    },
    {
     "name": "stdout",
     "output_type": "stream",
     "text": [
      "Epoch 2, Batch 200, position loss: 27654.578125 reconstruction loss: 98.51383209228516 RMSE(mm): 83.14832849342193\n"
     ]
    },
    {
     "name": "stderr",
     "output_type": "stream",
     "text": [
      "236it [01:12,  3.26it/s]\n"
     ]
    },
    {
     "name": "stdout",
     "output_type": "stream",
     "text": [
      "Epoch 2, Val Loss: 32711.458506058672, RMSE(mm): 74.37352376986335\n",
      "Epoch 2, test Loss: 45153.069116709186, RMSE(mm): 74.44862608069361\n"
     ]
    },
    {
     "name": "stderr",
     "output_type": "stream",
     "text": [
      "1it [00:00,  3.29it/s]"
     ]
    },
    {
     "name": "stdout",
     "output_type": "stream",
     "text": [
      "Epoch 3, Batch 0, position loss: 21336.271484375 reconstruction loss: 56.603092193603516 RMSE(mm): 73.03470319713601\n"
     ]
    },
    {
     "name": "stderr",
     "output_type": "stream",
     "text": [
      "101it [00:31,  3.26it/s]"
     ]
    },
    {
     "name": "stdout",
     "output_type": "stream",
     "text": [
      "Epoch 3, Batch 100, position loss: 23406.91796875 reconstruction loss: 28.50545883178711 RMSE(mm): 76.49659791250524\n"
     ]
    },
    {
     "name": "stderr",
     "output_type": "stream",
     "text": [
      "201it [01:01,  3.26it/s]"
     ]
    },
    {
     "name": "stdout",
     "output_type": "stream",
     "text": [
      "Epoch 3, Batch 200, position loss: 25567.94140625 reconstruction loss: 92.72474670410156 RMSE(mm): 79.94989275516572\n"
     ]
    },
    {
     "name": "stderr",
     "output_type": "stream",
     "text": [
      "236it [01:12,  3.26it/s]\n"
     ]
    },
    {
     "name": "stdout",
     "output_type": "stream",
     "text": [
      "Epoch 3, Val Loss: 31656.173469387755, RMSE(mm): 73.27490378997767\n",
      "Epoch 3, test Loss: 43978.11607142857, RMSE(mm): 73.17304124636577\n"
     ]
    },
    {
     "name": "stderr",
     "output_type": "stream",
     "text": [
      "1it [00:00,  3.25it/s]"
     ]
    },
    {
     "name": "stdout",
     "output_type": "stream",
     "text": [
      "Epoch 4, Batch 0, position loss: 20323.302734375 reconstruction loss: 51.48394012451172 RMSE(mm): 71.27991079956365\n"
     ]
    },
    {
     "name": "stderr",
     "output_type": "stream",
     "text": [
      "101it [00:30,  3.27it/s]"
     ]
    },
    {
     "name": "stdout",
     "output_type": "stream",
     "text": [
      "Epoch 4, Batch 100, position loss: 22269.25 reconstruction loss: 27.044189453125 RMSE(mm): 74.61442554895132\n"
     ]
    },
    {
     "name": "stderr",
     "output_type": "stream",
     "text": [
      "201it [01:01,  3.28it/s]"
     ]
    },
    {
     "name": "stdout",
     "output_type": "stream",
     "text": [
      "Epoch 4, Batch 200, position loss: 22677.658203125 reconstruction loss: 92.76541137695312 RMSE(mm): 75.2955148118482\n"
     ]
    },
    {
     "name": "stderr",
     "output_type": "stream",
     "text": [
      "236it [01:12,  3.27it/s]\n"
     ]
    },
    {
     "name": "stdout",
     "output_type": "stream",
     "text": [
      "Epoch 4, Val Loss: 28754.80121970663, RMSE(mm): 68.25347847268192\n",
      "Epoch 4, test Loss: 40394.96516262755, RMSE(mm): 66.8428531415537\n"
     ]
    },
    {
     "name": "stderr",
     "output_type": "stream",
     "text": [
      "1it [00:00,  3.23it/s]"
     ]
    },
    {
     "name": "stdout",
     "output_type": "stream",
     "text": [
      "Epoch 5, Batch 0, position loss: 17102.326171875 reconstruction loss: 50.085845947265625 RMSE(mm): 65.3879311721112\n"
     ]
    },
    {
     "name": "stderr",
     "output_type": "stream",
     "text": [
      "101it [00:30,  3.24it/s]"
     ]
    },
    {
     "name": "stdout",
     "output_type": "stream",
     "text": [
      "Epoch 5, Batch 100, position loss: 17869.18359375 reconstruction loss: 26.443317413330078 RMSE(mm): 66.83783283767885\n"
     ]
    },
    {
     "name": "stderr",
     "output_type": "stream",
     "text": [
      "201it [01:04,  2.78it/s]"
     ]
    },
    {
     "name": "stdout",
     "output_type": "stream",
     "text": [
      "Epoch 5, Batch 200, position loss: 20066.125 reconstruction loss: 89.4681396484375 RMSE(mm): 70.82747524795727\n"
     ]
    },
    {
     "name": "stderr",
     "output_type": "stream",
     "text": [
      "236it [01:17,  3.06it/s]\n"
     ]
    },
    {
     "name": "stdout",
     "output_type": "stream",
     "text": [
      "Epoch 5, Val Loss: 26533.77806122449, RMSE(mm): 64.48599092477423\n",
      "Epoch 5, test Loss: 37654.173389668365, RMSE(mm): 61.96038155252827\n"
     ]
    },
    {
     "name": "stderr",
     "output_type": "stream",
     "text": [
      "1it [00:00,  2.17it/s]"
     ]
    },
    {
     "name": "stdout",
     "output_type": "stream",
     "text": [
      "Epoch 6, Batch 0, position loss: 14857.25 reconstruction loss: 48.143463134765625 RMSE(mm): 60.94515977499772\n"
     ]
    },
    {
     "name": "stderr",
     "output_type": "stream",
     "text": [
      "101it [00:42,  2.35it/s]"
     ]
    },
    {
     "name": "stdout",
     "output_type": "stream",
     "text": [
      "Epoch 6, Batch 100, position loss: 15985.734375 reconstruction loss: 26.231201171875 RMSE(mm): 63.21735199887765\n"
     ]
    },
    {
     "name": "stderr",
     "output_type": "stream",
     "text": [
      "201it [01:25,  2.83it/s]"
     ]
    },
    {
     "name": "stdout",
     "output_type": "stream",
     "text": [
      "Epoch 6, Batch 200, position loss: 16451.5 reconstruction loss: 83.6364517211914 RMSE(mm): 64.13170042966271\n"
     ]
    },
    {
     "name": "stderr",
     "output_type": "stream",
     "text": [
      "236it [01:35,  2.48it/s]\n"
     ]
    },
    {
     "name": "stdout",
     "output_type": "stream",
     "text": [
      "Epoch 6, Val Loss: 26203.537507971938, RMSE(mm): 63.85722650002512\n",
      "Epoch 6, test Loss: 37544.05705915178, RMSE(mm): 61.79781025957044\n"
     ]
    },
    {
     "name": "stderr",
     "output_type": "stream",
     "text": [
      "1it [00:00,  3.34it/s]"
     ]
    },
    {
     "name": "stdout",
     "output_type": "stream",
     "text": [
      "Epoch 7, Batch 0, position loss: 14010.08984375 reconstruction loss: 47.609928131103516 RMSE(mm): 59.18211267720594\n"
     ]
    },
    {
     "name": "stderr",
     "output_type": "stream",
     "text": [
      "101it [00:30,  3.37it/s]"
     ]
    },
    {
     "name": "stdout",
     "output_type": "stream",
     "text": [
      "Epoch 7, Batch 100, position loss: 15807.4248046875 reconstruction loss: 26.03360366821289 RMSE(mm): 62.8637908590619\n"
     ]
    },
    {
     "name": "stderr",
     "output_type": "stream",
     "text": [
      "201it [00:59,  3.36it/s]"
     ]
    },
    {
     "name": "stdout",
     "output_type": "stream",
     "text": [
      "Epoch 7, Batch 200, position loss: 16372.7431640625 reconstruction loss: 83.39324188232422 RMSE(mm): 63.97801021457001\n"
     ]
    },
    {
     "name": "stderr",
     "output_type": "stream",
     "text": [
      "236it [01:10,  3.36it/s]\n"
     ]
    },
    {
     "name": "stdout",
     "output_type": "stream",
     "text": [
      "Epoch 7, Val Loss: 26095.555564413266, RMSE(mm): 63.68297648775474\n",
      "Epoch 7, test Loss: 37339.786930006376, RMSE(mm): 61.42566608642801\n"
     ]
    },
    {
     "name": "stderr",
     "output_type": "stream",
     "text": [
      "1it [00:00,  3.39it/s]"
     ]
    },
    {
     "name": "stdout",
     "output_type": "stream",
     "text": [
      "Epoch 8, Batch 0, position loss: 13733.8974609375 reconstruction loss: 47.476318359375 RMSE(mm): 58.59585621214503\n"
     ]
    },
    {
     "name": "stderr",
     "output_type": "stream",
     "text": [
      "101it [00:29,  3.32it/s]"
     ]
    },
    {
     "name": "stdout",
     "output_type": "stream",
     "text": [
      "Epoch 8, Batch 100, position loss: 15247.515625 reconstruction loss: 25.900585174560547 RMSE(mm): 61.740415501112395\n"
     ]
    },
    {
     "name": "stderr",
     "output_type": "stream",
     "text": [
      "201it [00:59,  3.40it/s]"
     ]
    },
    {
     "name": "stdout",
     "output_type": "stream",
     "text": [
      "Epoch 8, Batch 200, position loss: 16270.72265625 reconstruction loss: 83.2026596069336 RMSE(mm): 63.77837144410713\n"
     ]
    },
    {
     "name": "stderr",
     "output_type": "stream",
     "text": [
      "236it [01:09,  3.38it/s]\n"
     ]
    },
    {
     "name": "stdout",
     "output_type": "stream",
     "text": [
      "Epoch 8, Val Loss: 25998.58516023597, RMSE(mm): 63.52512825208272\n",
      "Epoch 8, test Loss: 37161.51496731505, RMSE(mm): 61.09506439749496\n"
     ]
    },
    {
     "name": "stderr",
     "output_type": "stream",
     "text": [
      "1it [00:00,  3.41it/s]"
     ]
    },
    {
     "name": "stdout",
     "output_type": "stream",
     "text": [
      "Epoch 9, Batch 0, position loss: 13363.974609375 reconstruction loss: 47.35020065307617 RMSE(mm): 57.80132915724127\n"
     ]
    },
    {
     "name": "stderr",
     "output_type": "stream",
     "text": [
      "101it [00:29,  3.39it/s]"
     ]
    },
    {
     "name": "stdout",
     "output_type": "stream",
     "text": [
      "Epoch 9, Batch 100, position loss: 15128.556640625 reconstruction loss: 25.802522659301758 RMSE(mm): 61.49909885645683\n"
     ]
    },
    {
     "name": "stderr",
     "output_type": "stream",
     "text": [
      "201it [00:59,  3.32it/s]"
     ]
    },
    {
     "name": "stdout",
     "output_type": "stream",
     "text": [
      "Epoch 9, Batch 200, position loss: 15733.880859375 reconstruction loss: 83.05321502685547 RMSE(mm): 62.71738367345811\n"
     ]
    },
    {
     "name": "stderr",
     "output_type": "stream",
     "text": [
      "236it [01:10,  3.37it/s]\n"
     ]
    },
    {
     "name": "stdout",
     "output_type": "stream",
     "text": [
      "Epoch 9, Val Loss: 25923.206991390307, RMSE(mm): 63.4067898814409\n",
      "Epoch 9, test Loss: 37013.71763392857, RMSE(mm): 60.82062976902358\n"
     ]
    },
    {
     "name": "stderr",
     "output_type": "stream",
     "text": [
      "1it [00:00,  3.36it/s]"
     ]
    },
    {
     "name": "stdout",
     "output_type": "stream",
     "text": [
      "Epoch 10, Batch 0, position loss: 13056.509765625 reconstruction loss: 47.222049713134766 RMSE(mm): 57.13254275285015\n"
     ]
    },
    {
     "name": "stderr",
     "output_type": "stream",
     "text": [
      "101it [00:30,  3.38it/s]"
     ]
    },
    {
     "name": "stdout",
     "output_type": "stream",
     "text": [
      "Epoch 10, Batch 100, position loss: 14560.3984375 reconstruction loss: 25.701221466064453 RMSE(mm): 60.333238015002976\n"
     ]
    },
    {
     "name": "stderr",
     "output_type": "stream",
     "text": [
      "201it [00:59,  3.36it/s]"
     ]
    },
    {
     "name": "stdout",
     "output_type": "stream",
     "text": [
      "Epoch 10, Batch 200, position loss: 15835.140625 reconstruction loss: 82.89149475097656 RMSE(mm): 62.91887758256659\n"
     ]
    },
    {
     "name": "stderr",
     "output_type": "stream",
     "text": [
      "236it [01:10,  3.36it/s]\n"
     ]
    },
    {
     "name": "stdout",
     "output_type": "stream",
     "text": [
      "Epoch 10, Val Loss: 25862.45994100765, RMSE(mm): 63.316349510958176\n",
      "Epoch 10, test Loss: 36896.42998644771, RMSE(mm): 60.60502272827534\n"
     ]
    },
    {
     "name": "stderr",
     "output_type": "stream",
     "text": [
      "1it [00:00,  3.37it/s]"
     ]
    },
    {
     "name": "stdout",
     "output_type": "stream",
     "text": [
      "Epoch 11, Batch 0, position loss: 13002.056640625 reconstruction loss: 47.10899353027344 RMSE(mm): 57.013280559499904\n"
     ]
    },
    {
     "name": "stderr",
     "output_type": "stream",
     "text": [
      "101it [00:30,  3.36it/s]"
     ]
    },
    {
     "name": "stdout",
     "output_type": "stream",
     "text": [
      "Epoch 11, Batch 100, position loss: 14256.96875 reconstruction loss: 25.626174926757812 RMSE(mm): 59.70127458857139\n"
     ]
    },
    {
     "name": "stderr",
     "output_type": "stream",
     "text": [
      "201it [01:01,  3.16it/s]"
     ]
    },
    {
     "name": "stdout",
     "output_type": "stream",
     "text": [
      "Epoch 11, Batch 200, position loss: 15601.54296875 reconstruction loss: 82.76612091064453 RMSE(mm): 62.45306831683693\n"
     ]
    },
    {
     "name": "stderr",
     "output_type": "stream",
     "text": [
      "236it [01:12,  3.27it/s]\n"
     ]
    },
    {
     "name": "stdout",
     "output_type": "stream",
     "text": [
      "Epoch 11, Val Loss: 25773.39060507015, RMSE(mm): 63.16707102917102\n",
      "Epoch 11, test Loss: 36731.613500478314, RMSE(mm): 60.28766328815948\n"
     ]
    },
    {
     "name": "stderr",
     "output_type": "stream",
     "text": [
      "1it [00:00,  2.61it/s]"
     ]
    },
    {
     "name": "stdout",
     "output_type": "stream",
     "text": [
      "Epoch 12, Batch 0, position loss: 13000.126953125 reconstruction loss: 47.00995635986328 RMSE(mm): 57.0090496174182\n"
     ]
    },
    {
     "name": "stderr",
     "output_type": "stream",
     "text": [
      "101it [00:31,  3.25it/s]"
     ]
    },
    {
     "name": "stdout",
     "output_type": "stream",
     "text": [
      "Epoch 12, Batch 100, position loss: 14393.0595703125 reconstruction loss: 26.955724716186523 RMSE(mm): 59.98553902882031\n"
     ]
    },
    {
     "name": "stderr",
     "output_type": "stream",
     "text": [
      "201it [01:03,  3.21it/s]"
     ]
    },
    {
     "name": "stdout",
     "output_type": "stream",
     "text": [
      "Epoch 12, Batch 200, position loss: 14646.103515625 reconstruction loss: 82.32240295410156 RMSE(mm): 60.5105435350423\n"
     ]
    },
    {
     "name": "stderr",
     "output_type": "stream",
     "text": [
      "236it [01:14,  3.19it/s]\n"
     ]
    },
    {
     "name": "stdout",
     "output_type": "stream",
     "text": [
      "Epoch 12, Val Loss: 25578.96536192602, RMSE(mm): 62.7626625917755\n",
      "Epoch 12, test Loss: 36574.5230986926, RMSE(mm): 59.93689017267603\n"
     ]
    },
    {
     "name": "stderr",
     "output_type": "stream",
     "text": [
      "1it [00:00,  3.20it/s]"
     ]
    },
    {
     "name": "stdout",
     "output_type": "stream",
     "text": [
      "Epoch 13, Batch 0, position loss: 13158.99609375 reconstruction loss: 46.90657424926758 RMSE(mm): 57.35633376914445\n"
     ]
    },
    {
     "name": "stderr",
     "output_type": "stream",
     "text": [
      "101it [00:31,  3.19it/s]"
     ]
    },
    {
     "name": "stdout",
     "output_type": "stream",
     "text": [
      "Epoch 13, Batch 100, position loss: 14522.4912109375 reconstruction loss: 26.756202697753906 RMSE(mm): 60.254649635811305\n"
     ]
    },
    {
     "name": "stderr",
     "output_type": "stream",
     "text": [
      "201it [01:02,  3.24it/s]"
     ]
    },
    {
     "name": "stdout",
     "output_type": "stream",
     "text": [
      "Epoch 13, Batch 200, position loss: 14648.748046875 reconstruction loss: 82.38218688964844 RMSE(mm): 60.51600624395789\n"
     ]
    },
    {
     "name": "stderr",
     "output_type": "stream",
     "text": [
      "236it [01:13,  3.23it/s]\n"
     ]
    },
    {
     "name": "stdout",
     "output_type": "stream",
     "text": [
      "Epoch 13, Val Loss: 25562.097058354593, RMSE(mm): 62.721636315623776\n",
      "Epoch 13, test Loss: 36551.899194834186, RMSE(mm): 59.881137287779275\n"
     ]
    },
    {
     "name": "stderr",
     "output_type": "stream",
     "text": [
      "1it [00:00,  3.16it/s]"
     ]
    },
    {
     "name": "stdout",
     "output_type": "stream",
     "text": [
      "Epoch 14, Batch 0, position loss: 13221.185546875 reconstruction loss: 46.880332946777344 RMSE(mm): 57.49170711258059\n"
     ]
    },
    {
     "name": "stderr",
     "output_type": "stream",
     "text": [
      "101it [00:31,  3.18it/s]"
     ]
    },
    {
     "name": "stdout",
     "output_type": "stream",
     "text": [
      "Epoch 14, Batch 100, position loss: 14242.642578125 reconstruction loss: 26.68606185913086 RMSE(mm): 59.67127151763443\n"
     ]
    },
    {
     "name": "stderr",
     "output_type": "stream",
     "text": [
      "201it [01:03,  3.14it/s]"
     ]
    },
    {
     "name": "stdout",
     "output_type": "stream",
     "text": [
      "Epoch 14, Batch 200, position loss: 14610.58984375 reconstruction loss: 82.40579986572266 RMSE(mm): 60.43713643892718\n"
     ]
    },
    {
     "name": "stderr",
     "output_type": "stream",
     "text": [
      "236it [01:13,  3.19it/s]\n"
     ]
    },
    {
     "name": "stdout",
     "output_type": "stream",
     "text": [
      "Epoch 14, Val Loss: 25558.859255420917, RMSE(mm): 62.71278621371801\n",
      "Epoch 14, test Loss: 36541.58607700893, RMSE(mm): 59.8566827089797\n"
     ]
    },
    {
     "name": "stderr",
     "output_type": "stream",
     "text": [
      "Some weights of ViTForImageClassification were not initialized from the model checkpoint at google/vit-base-patch16-224 and are newly initialized because the shapes did not match:\n",
      "- vit.embeddings.patch_embeddings.projection.weight: found shape torch.Size([768, 3, 16, 16]) in the checkpoint and torch.Size([768, 256, 8, 1]) in the model instantiated\n",
      "- vit.embeddings.position_embeddings: found shape torch.Size([1, 197, 768]) in the checkpoint and torch.Size([1, 225, 768]) in the model instantiated\n",
      "You should probably TRAIN this model on a down-stream task to be able to use it for predictions and inference.\n"
     ]
    },
    {
     "name": "stdout",
     "output_type": "stream",
     "text": [
      "create dataloader...\n",
      "HI\n",
      "training...\n"
     ]
    },
    {
     "name": "stderr",
     "output_type": "stream",
     "text": [
      "1it [00:00,  2.33it/s]"
     ]
    },
    {
     "name": "stdout",
     "output_type": "stream",
     "text": [
      "Epoch 0, Batch 0, position loss: 169018.71875 reconstruction loss: 80.11576843261719 RMSE(mm): 205.55943103516316\n"
     ]
    },
    {
     "name": "stderr",
     "output_type": "stream",
     "text": [
      "101it [00:32,  3.02it/s]"
     ]
    },
    {
     "name": "stdout",
     "output_type": "stream",
     "text": [
      "Epoch 0, Batch 100, position loss: 102533.765625 reconstruction loss: 51.901668548583984 RMSE(mm): 160.10447028815278\n"
     ]
    },
    {
     "name": "stderr",
     "output_type": "stream",
     "text": [
      "201it [01:07,  2.83it/s]"
     ]
    },
    {
     "name": "stdout",
     "output_type": "stream",
     "text": [
      "Epoch 0, Batch 200, position loss: 43202.64453125 reconstruction loss: 91.78877258300781 RMSE(mm): 103.92622928218121\n"
     ]
    },
    {
     "name": "stderr",
     "output_type": "stream",
     "text": [
      "236it [01:20,  2.93it/s]\n"
     ]
    },
    {
     "name": "stdout",
     "output_type": "stream",
     "text": [
      "Epoch 0, Val Loss: 49603.363360969386, RMSE(mm): 97.45501010179684\n",
      "Epoch 0, test Loss: 66075.60602678571, RMSE(mm): 101.03844732186363\n"
     ]
    },
    {
     "name": "stderr",
     "output_type": "stream",
     "text": [
      "1it [00:00,  2.52it/s]"
     ]
    },
    {
     "name": "stdout",
     "output_type": "stream",
     "text": [
      "Epoch 1, Batch 0, position loss: 39262.9140625 reconstruction loss: 54.12873458862305 RMSE(mm): 99.07435851735302\n"
     ]
    },
    {
     "name": "stderr",
     "output_type": "stream",
     "text": [
      "39it [00:14,  2.45it/s]"
     ]
    }
   ],
   "source": [
    "from models.MTLVit import MTLViT_pretrained\n",
    "from helper_function_test import train\n",
    "from dataset.EEGEyeNet import EEGEyeNetDataset\n",
    "import torch\n",
    "\n",
    "'''\n",
    "models: EEGViT_pretrained; EEGViT_raw; ViTBase; ViTBase_pretrained\n",
    "'''\n",
    "EEGEyeNet = EEGEyeNetDataset('./dataset/Position_task_with_dots_synchronised_min.npz')\n",
    "batch_size = 64\n",
    "n_epoch = 15\n",
    "learning_rate = 1e-4\n",
    "model_name = 'MTL_Recon_VIT_pre'\n",
    "for i in range(100, 201, 10):\n",
    "    model = MTLViT_pretrained()\n",
    "    optimizer = torch.optim.Adam(model.parameters(), lr=learning_rate)\n",
    "    scheduler = torch.optim.lr_scheduler.StepLR(optimizer, step_size=6, gamma=0.1)\n",
    "    file_name = f'{model_name}_weight_{i}'\n",
    "    train(model,EEGEyeNet, optimizer, scheduler,log_name=file_name, batch_size = batch_size ,n_epoch = n_epoch, reconstruction_weight=i)"
   ]
  },
  {
   "cell_type": "code",
   "execution_count": 4,
   "metadata": {},
   "outputs": [
    {
     "name": "stderr",
     "output_type": "stream",
     "text": [
      "Some weights of ViTForImageClassification were not initialized from the model checkpoint at google/vit-base-patch16-224 and are newly initialized because the shapes did not match:\n",
      "- vit.embeddings.patch_embeddings.projection.weight: found shape torch.Size([768, 3, 16, 16]) in the checkpoint and torch.Size([768, 256, 8, 1]) in the model instantiated\n",
      "- vit.embeddings.position_embeddings: found shape torch.Size([1, 197, 768]) in the checkpoint and torch.Size([1, 225, 768]) in the model instantiated\n",
      "You should probably TRAIN this model on a down-stream task to be able to use it for predictions and inference.\n"
     ]
    },
    {
     "name": "stdout",
     "output_type": "stream",
     "text": [
      "create dataloader...\n",
      "HI\n",
      "training...\n"
     ]
    },
    {
     "name": "stderr",
     "output_type": "stream",
     "text": [
      "1it [00:00,  2.59it/s]"
     ]
    },
    {
     "name": "stdout",
     "output_type": "stream",
     "text": [
      "Epoch 0, Batch 0, position loss: 169237.421875 reconstruction loss: 80.13710021972656 RMSE(mm): 205.69238067743296\n"
     ]
    },
    {
     "name": "stderr",
     "output_type": "stream",
     "text": [
      "101it [00:27,  3.70it/s]"
     ]
    },
    {
     "name": "stdout",
     "output_type": "stream",
     "text": [
      "Epoch 0, Batch 100, position loss: 105031.9296875 reconstruction loss: 52.864830017089844 RMSE(mm): 162.0431498764295\n"
     ]
    },
    {
     "name": "stderr",
     "output_type": "stream",
     "text": [
      "201it [00:54,  3.69it/s]"
     ]
    },
    {
     "name": "stdout",
     "output_type": "stream",
     "text": [
      "Epoch 0, Batch 200, position loss: 44886.3671875 reconstruction loss: 109.80570983886719 RMSE(mm): 105.93201497599769\n"
     ]
    },
    {
     "name": "stderr",
     "output_type": "stream",
     "text": [
      "236it [01:03,  3.70it/s]\n"
     ]
    },
    {
     "name": "stdout",
     "output_type": "stream",
     "text": [
      "Epoch 0, Val Loss: 46273.61949936225, RMSE(mm): 97.8422580572152\n",
      "Epoch 0, test Loss: 57830.33314732143, RMSE(mm): 101.50642633769925\n"
     ]
    },
    {
     "name": "stderr",
     "output_type": "stream",
     "text": [
      "1it [00:00,  3.70it/s]"
     ]
    },
    {
     "name": "stdout",
     "output_type": "stream",
     "text": [
      "Epoch 1, Batch 0, position loss: 39375.26953125 reconstruction loss: 62.87421417236328 RMSE(mm): 99.21601374179724\n"
     ]
    },
    {
     "name": "stderr",
     "output_type": "stream",
     "text": [
      "101it [00:27,  3.70it/s]"
     ]
    },
    {
     "name": "stdout",
     "output_type": "stream",
     "text": [
      "Epoch 1, Batch 100, position loss: 32340.1953125 reconstruction loss: 39.735599517822266 RMSE(mm): 89.91689956912994\n"
     ]
    },
    {
     "name": "stderr",
     "output_type": "stream",
     "text": [
      "201it [00:54,  3.69it/s]"
     ]
    },
    {
     "name": "stdout",
     "output_type": "stream",
     "text": [
      "Epoch 1, Batch 200, position loss: 29390.89453125 reconstruction loss: 94.0777359008789 RMSE(mm): 85.7188639262823\n"
     ]
    },
    {
     "name": "stderr",
     "output_type": "stream",
     "text": [
      "236it [01:03,  3.70it/s]\n"
     ]
    },
    {
     "name": "stdout",
     "output_type": "stream",
     "text": [
      "Epoch 1, Val Loss: 33144.256297831635, RMSE(mm): 80.06402149944695\n",
      "Epoch 1, test Loss: 42600.77861926021, RMSE(mm): 81.32285759104238\n"
     ]
    },
    {
     "name": "stderr",
     "output_type": "stream",
     "text": [
      "1it [00:00,  3.70it/s]"
     ]
    },
    {
     "name": "stdout",
     "output_type": "stream",
     "text": [
      "Epoch 2, Batch 0, position loss: 23271.337890625 reconstruction loss: 56.00068283081055 RMSE(mm): 76.27473023653542\n"
     ]
    },
    {
     "name": "stderr",
     "output_type": "stream",
     "text": [
      "101it [00:27,  3.70it/s]"
     ]
    },
    {
     "name": "stdout",
     "output_type": "stream",
     "text": [
      "Epoch 2, Batch 100, position loss: 26372.880859375 reconstruction loss: 30.11887550354004 RMSE(mm): 81.19864663184818\n"
     ]
    },
    {
     "name": "stderr",
     "output_type": "stream",
     "text": [
      "201it [00:54,  3.70it/s]"
     ]
    },
    {
     "name": "stdout",
     "output_type": "stream",
     "text": [
      "Epoch 2, Batch 200, position loss: 26629.55859375 reconstruction loss: 88.64044952392578 RMSE(mm): 81.59282841302598\n"
     ]
    },
    {
     "name": "stderr",
     "output_type": "stream",
     "text": [
      "236it [01:03,  3.71it/s]\n"
     ]
    },
    {
     "name": "stdout",
     "output_type": "stream",
     "text": [
      "Epoch 2, Val Loss: 29424.539859693876, RMSE(mm): 74.55786410332068\n",
      "Epoch 2, test Loss: 38534.68036511479, RMSE(mm): 75.3430944531491\n"
     ]
    },
    {
     "name": "stderr",
     "output_type": "stream",
     "text": [
      "1it [00:00,  3.72it/s]"
     ]
    },
    {
     "name": "stdout",
     "output_type": "stream",
     "text": [
      "Epoch 3, Batch 0, position loss: 20781.41015625 reconstruction loss: 51.142635345458984 RMSE(mm): 72.07879396231945\n"
     ]
    },
    {
     "name": "stderr",
     "output_type": "stream",
     "text": [
      "101it [00:27,  3.70it/s]"
     ]
    },
    {
     "name": "stdout",
     "output_type": "stream",
     "text": [
      "Epoch 3, Batch 100, position loss: 20048.20703125 reconstruction loss: 27.863767623901367 RMSE(mm): 70.79584562537903\n"
     ]
    },
    {
     "name": "stderr",
     "output_type": "stream",
     "text": [
      "201it [00:54,  3.71it/s]"
     ]
    },
    {
     "name": "stdout",
     "output_type": "stream",
     "text": [
      "Epoch 3, Batch 200, position loss: 23423.703125 reconstruction loss: 88.5316390991211 RMSE(mm): 76.52402094277326\n"
     ]
    },
    {
     "name": "stderr",
     "output_type": "stream",
     "text": [
      "236it [01:03,  3.71it/s]\n"
     ]
    },
    {
     "name": "stdout",
     "output_type": "stream",
     "text": [
      "Epoch 3, Val Loss: 24494.576092155614, RMSE(mm): 66.02279226127237\n",
      "Epoch 3, test Loss: 32422.043447066328, RMSE(mm): 64.6694556379314\n"
     ]
    },
    {
     "name": "stderr",
     "output_type": "stream",
     "text": [
      "1it [00:00,  3.69it/s]"
     ]
    },
    {
     "name": "stdout",
     "output_type": "stream",
     "text": [
      "Epoch 4, Batch 0, position loss: 15773.720703125 reconstruction loss: 48.94576644897461 RMSE(mm): 62.796736983550744\n"
     ]
    },
    {
     "name": "stderr",
     "output_type": "stream",
     "text": [
      "101it [00:27,  3.68it/s]"
     ]
    },
    {
     "name": "stdout",
     "output_type": "stream",
     "text": [
      "Epoch 4, Batch 100, position loss: 15981.59765625 reconstruction loss: 26.25568199157715 RMSE(mm): 63.20917191407035\n"
     ]
    },
    {
     "name": "stderr",
     "output_type": "stream",
     "text": [
      "201it [00:54,  3.68it/s]"
     ]
    },
    {
     "name": "stdout",
     "output_type": "stream",
     "text": [
      "Epoch 4, Batch 200, position loss: 22427.380859375 reconstruction loss: 85.30419921875 RMSE(mm): 74.87887028290257\n"
     ]
    },
    {
     "name": "stderr",
     "output_type": "stream",
     "text": [
      "236it [01:03,  3.70it/s]\n"
     ]
    },
    {
     "name": "stdout",
     "output_type": "stream",
     "text": [
      "Epoch 4, Val Loss: 23246.430843431124, RMSE(mm): 63.849226678238786\n",
      "Epoch 4, test Loss: 30639.215660873724, RMSE(mm): 61.359366636264326\n"
     ]
    },
    {
     "name": "stderr",
     "output_type": "stream",
     "text": [
      "1it [00:00,  3.70it/s]"
     ]
    },
    {
     "name": "stdout",
     "output_type": "stream",
     "text": [
      "Epoch 5, Batch 0, position loss: 13523.3466796875 reconstruction loss: 47.397247314453125 RMSE(mm): 58.14496254983638\n"
     ]
    },
    {
     "name": "stderr",
     "output_type": "stream",
     "text": [
      "101it [00:27,  3.69it/s]"
     ]
    },
    {
     "name": "stdout",
     "output_type": "stream",
     "text": [
      "Epoch 5, Batch 100, position loss: 14397.935546875 reconstruction loss: 25.479379653930664 RMSE(mm): 59.99569890182754\n"
     ]
    },
    {
     "name": "stderr",
     "output_type": "stream",
     "text": [
      "201it [00:54,  3.69it/s]"
     ]
    },
    {
     "name": "stdout",
     "output_type": "stream",
     "text": [
      "Epoch 5, Batch 200, position loss: 20514.01171875 reconstruction loss: 85.21058654785156 RMSE(mm): 71.61356665945009\n"
     ]
    },
    {
     "name": "stderr",
     "output_type": "stream",
     "text": [
      "236it [01:03,  3.70it/s]\n"
     ]
    },
    {
     "name": "stdout",
     "output_type": "stream",
     "text": [
      "Epoch 5, Val Loss: 22853.262057557396, RMSE(mm): 63.19960447802069\n",
      "Epoch 5, test Loss: 29835.99067283163, RMSE(mm): 59.827260301765804\n"
     ]
    },
    {
     "name": "stderr",
     "output_type": "stream",
     "text": [
      "1it [00:00,  3.68it/s]"
     ]
    },
    {
     "name": "stdout",
     "output_type": "stream",
     "text": [
      "Epoch 6, Batch 0, position loss: 12863.7509765625 reconstruction loss: 46.51823043823242 RMSE(mm): 56.70923861365646\n"
     ]
    },
    {
     "name": "stderr",
     "output_type": "stream",
     "text": [
      "101it [00:27,  3.70it/s]"
     ]
    },
    {
     "name": "stdout",
     "output_type": "stream",
     "text": [
      "Epoch 6, Batch 100, position loss: 13690.44140625 reconstruction loss: 25.618375778198242 RMSE(mm): 58.50307984681234\n"
     ]
    },
    {
     "name": "stderr",
     "output_type": "stream",
     "text": [
      "201it [00:54,  3.69it/s]"
     ]
    },
    {
     "name": "stdout",
     "output_type": "stream",
     "text": [
      "Epoch 6, Batch 200, position loss: 14699.0625 reconstruction loss: 80.96692657470703 RMSE(mm): 60.61984514166957\n"
     ]
    },
    {
     "name": "stderr",
     "output_type": "stream",
     "text": [
      "236it [01:03,  3.71it/s]\n"
     ]
    },
    {
     "name": "stdout",
     "output_type": "stream",
     "text": [
      "Epoch 6, Val Loss: 22093.566904496172, RMSE(mm): 61.7433760367447\n",
      "Epoch 6, test Loss: 29120.791812818876, RMSE(mm): 58.380008279454565\n"
     ]
    },
    {
     "name": "stderr",
     "output_type": "stream",
     "text": [
      "1it [00:00,  3.71it/s]"
     ]
    },
    {
     "name": "stdout",
     "output_type": "stream",
     "text": [
      "Epoch 7, Batch 0, position loss: 11587.73046875 reconstruction loss: 45.93209457397461 RMSE(mm): 53.823160601988995\n"
     ]
    },
    {
     "name": "stderr",
     "output_type": "stream",
     "text": [
      "101it [00:27,  3.69it/s]"
     ]
    },
    {
     "name": "stdout",
     "output_type": "stream",
     "text": [
      "Epoch 7, Batch 100, position loss: 13058.251953125 reconstruction loss: 25.206066131591797 RMSE(mm): 57.136354348884126\n"
     ]
    },
    {
     "name": "stderr",
     "output_type": "stream",
     "text": [
      "201it [00:54,  3.70it/s]"
     ]
    },
    {
     "name": "stdout",
     "output_type": "stream",
     "text": [
      "Epoch 7, Batch 200, position loss: 14608.212890625 reconstruction loss: 80.81102752685547 RMSE(mm): 60.43222007055714\n"
     ]
    },
    {
     "name": "stderr",
     "output_type": "stream",
     "text": [
      "236it [01:03,  3.70it/s]\n"
     ]
    },
    {
     "name": "stdout",
     "output_type": "stream",
     "text": [
      "Epoch 7, Val Loss: 22014.372867506376, RMSE(mm): 61.612421001901566\n",
      "Epoch 7, test Loss: 28944.157625159438, RMSE(mm): 58.02510149357985\n"
     ]
    },
    {
     "name": "stderr",
     "output_type": "stream",
     "text": [
      "1it [00:00,  3.69it/s]"
     ]
    },
    {
     "name": "stdout",
     "output_type": "stream",
     "text": [
      "Epoch 8, Batch 0, position loss: 10954.775390625 reconstruction loss: 45.686222076416016 RMSE(mm): 52.33253144704783\n"
     ]
    },
    {
     "name": "stderr",
     "output_type": "stream",
     "text": [
      "101it [00:27,  3.70it/s]"
     ]
    },
    {
     "name": "stdout",
     "output_type": "stream",
     "text": [
      "Epoch 8, Batch 100, position loss: 12556.4140625 reconstruction loss: 24.99095916748047 RMSE(mm): 56.0277031085962\n"
     ]
    },
    {
     "name": "stderr",
     "output_type": "stream",
     "text": [
      "201it [00:54,  3.69it/s]"
     ]
    },
    {
     "name": "stdout",
     "output_type": "stream",
     "text": [
      "Epoch 8, Batch 200, position loss: 14356.4453125 reconstruction loss: 80.60693359375 RMSE(mm): 59.90919235079872\n"
     ]
    },
    {
     "name": "stderr",
     "output_type": "stream",
     "text": [
      "236it [01:03,  3.70it/s]\n"
     ]
    },
    {
     "name": "stdout",
     "output_type": "stream",
     "text": [
      "Epoch 8, Val Loss: 22019.884028220662, RMSE(mm): 61.64518777084659\n",
      "Epoch 8, test Loss: 28834.906887755104, RMSE(mm): 57.80748849279845\n"
     ]
    },
    {
     "name": "stderr",
     "output_type": "stream",
     "text": [
      "1it [00:00,  3.70it/s]"
     ]
    },
    {
     "name": "stdout",
     "output_type": "stream",
     "text": [
      "Epoch 9, Batch 0, position loss: 10455.966796875 reconstruction loss: 45.49930953979492 RMSE(mm): 51.127210946997195\n"
     ]
    },
    {
     "name": "stderr",
     "output_type": "stream",
     "text": [
      "101it [00:27,  3.70it/s]"
     ]
    },
    {
     "name": "stdout",
     "output_type": "stream",
     "text": [
      "Epoch 9, Batch 100, position loss: 11608.126953125 reconstruction loss: 24.88254165649414 RMSE(mm): 53.87050898479845\n"
     ]
    },
    {
     "name": "stderr",
     "output_type": "stream",
     "text": [
      "201it [00:54,  3.70it/s]"
     ]
    },
    {
     "name": "stdout",
     "output_type": "stream",
     "text": [
      "Epoch 9, Batch 200, position loss: 13247.822265625 reconstruction loss: 80.4644775390625 RMSE(mm): 57.54959223492596\n"
     ]
    },
    {
     "name": "stderr",
     "output_type": "stream",
     "text": [
      "236it [01:03,  3.71it/s]\n"
     ]
    },
    {
     "name": "stdout",
     "output_type": "stream",
     "text": [
      "Epoch 9, Val Loss: 21977.478017378828, RMSE(mm): 61.57895317793082\n",
      "Epoch 9, test Loss: 28690.149513711734, RMSE(mm): 57.5103256364201\n"
     ]
    },
    {
     "name": "stderr",
     "output_type": "stream",
     "text": [
      "1it [00:00,  3.71it/s]"
     ]
    },
    {
     "name": "stdout",
     "output_type": "stream",
     "text": [
      "Epoch 10, Batch 0, position loss: 10374.9375 reconstruction loss: 45.37114715576172 RMSE(mm): 50.928718568210606\n"
     ]
    },
    {
     "name": "stderr",
     "output_type": "stream",
     "text": [
      "101it [00:27,  3.70it/s]"
     ]
    },
    {
     "name": "stdout",
     "output_type": "stream",
     "text": [
      "Epoch 10, Batch 100, position loss: 11191.1796875 reconstruction loss: 24.773221969604492 RMSE(mm): 52.8941860876505\n"
     ]
    },
    {
     "name": "stderr",
     "output_type": "stream",
     "text": [
      "201it [00:54,  3.70it/s]"
     ]
    },
    {
     "name": "stdout",
     "output_type": "stream",
     "text": [
      "Epoch 10, Batch 200, position loss: 12573.8095703125 reconstruction loss: 80.36309814453125 RMSE(mm): 56.06649973538677\n"
     ]
    },
    {
     "name": "stderr",
     "output_type": "stream",
     "text": [
      "236it [01:03,  3.70it/s]\n"
     ]
    },
    {
     "name": "stdout",
     "output_type": "stream",
     "text": [
      "Epoch 10, Val Loss: 22104.72905373087, RMSE(mm): 61.84930170867804\n",
      "Epoch 10, test Loss: 28730.59303252551, RMSE(mm): 57.607215681968405\n"
     ]
    },
    {
     "name": "stderr",
     "output_type": "stream",
     "text": [
      "1it [00:00,  3.68it/s]"
     ]
    },
    {
     "name": "stdout",
     "output_type": "stream",
     "text": [
      "Epoch 11, Batch 0, position loss: 10325.7041015625 reconstruction loss: 45.24081802368164 RMSE(mm): 50.807735881365794\n"
     ]
    },
    {
     "name": "stderr",
     "output_type": "stream",
     "text": [
      "101it [00:27,  3.69it/s]"
     ]
    },
    {
     "name": "stdout",
     "output_type": "stream",
     "text": [
      "Epoch 11, Batch 100, position loss: 10805.7958984375 reconstruction loss: 24.747364044189453 RMSE(mm): 51.97546512162614\n"
     ]
    },
    {
     "name": "stderr",
     "output_type": "stream",
     "text": [
      "201it [00:54,  3.69it/s]"
     ]
    },
    {
     "name": "stdout",
     "output_type": "stream",
     "text": [
      "Epoch 11, Batch 200, position loss: 11645.0986328125 reconstruction loss: 80.30244445800781 RMSE(mm): 53.95622909547261\n"
     ]
    },
    {
     "name": "stderr",
     "output_type": "stream",
     "text": [
      "236it [01:03,  3.70it/s]\n"
     ]
    },
    {
     "name": "stdout",
     "output_type": "stream",
     "text": [
      "Epoch 11, Val Loss: 22217.665457589286, RMSE(mm): 62.088307499022\n",
      "Epoch 11, test Loss: 28675.756796077807, RMSE(mm): 57.49525901387058\n"
     ]
    },
    {
     "name": "stderr",
     "output_type": "stream",
     "text": [
      "1it [00:00,  3.69it/s]"
     ]
    },
    {
     "name": "stdout",
     "output_type": "stream",
     "text": [
      "Epoch 12, Batch 0, position loss: 10010.462890625 reconstruction loss: 45.15732955932617 RMSE(mm): 50.0261503881345\n"
     ]
    },
    {
     "name": "stderr",
     "output_type": "stream",
     "text": [
      "101it [00:27,  3.68it/s]"
     ]
    },
    {
     "name": "stdout",
     "output_type": "stream",
     "text": [
      "Epoch 12, Batch 100, position loss: 10414.953125 reconstruction loss: 25.09856605529785 RMSE(mm): 51.026838832618274\n"
     ]
    },
    {
     "name": "stderr",
     "output_type": "stream",
     "text": [
      "201it [00:54,  3.70it/s]"
     ]
    },
    {
     "name": "stdout",
     "output_type": "stream",
     "text": [
      "Epoch 12, Batch 200, position loss: 9818.39453125 reconstruction loss: 80.02660369873047 RMSE(mm): 49.54390611177625\n"
     ]
    },
    {
     "name": "stderr",
     "output_type": "stream",
     "text": [
      "236it [01:03,  3.70it/s]\n"
     ]
    },
    {
     "name": "stdout",
     "output_type": "stream",
     "text": [
      "Epoch 12, Val Loss: 21892.304906728317, RMSE(mm): 61.430786153720405\n",
      "Epoch 12, test Loss: 28324.392538265307, RMSE(mm): 56.7254497443307\n"
     ]
    },
    {
     "name": "stderr",
     "output_type": "stream",
     "text": [
      "1it [00:00,  3.69it/s]"
     ]
    },
    {
     "name": "stdout",
     "output_type": "stream",
     "text": [
      "Epoch 13, Batch 0, position loss: 8825.859375 reconstruction loss: 45.08085250854492 RMSE(mm): 46.97302251026647\n"
     ]
    },
    {
     "name": "stderr",
     "output_type": "stream",
     "text": [
      "101it [00:27,  3.70it/s]"
     ]
    },
    {
     "name": "stdout",
     "output_type": "stream",
     "text": [
      "Epoch 13, Batch 100, position loss: 10412.5810546875 reconstruction loss: 25.066116333007812 RMSE(mm): 51.021027661855996\n"
     ]
    },
    {
     "name": "stderr",
     "output_type": "stream",
     "text": [
      "201it [00:54,  3.69it/s]"
     ]
    },
    {
     "name": "stdout",
     "output_type": "stream",
     "text": [
      "Epoch 13, Batch 200, position loss: 9567.6435546875 reconstruction loss: 80.04619598388672 RMSE(mm): 48.90716602576636\n"
     ]
    },
    {
     "name": "stderr",
     "output_type": "stream",
     "text": [
      "236it [01:03,  3.70it/s]\n"
     ]
    },
    {
     "name": "stdout",
     "output_type": "stream",
     "text": [
      "Epoch 13, Val Loss: 21902.631935586734, RMSE(mm): 61.45039745402509\n",
      "Epoch 13, test Loss: 28329.980169802297, RMSE(mm): 56.735118969557085\n"
     ]
    },
    {
     "name": "stderr",
     "output_type": "stream",
     "text": [
      "1it [00:00,  3.72it/s]"
     ]
    },
    {
     "name": "stdout",
     "output_type": "stream",
     "text": [
      "Epoch 14, Batch 0, position loss: 8797.4501953125 reconstruction loss: 45.06415557861328 RMSE(mm): 46.897361853606704\n"
     ]
    },
    {
     "name": "stderr",
     "output_type": "stream",
     "text": [
      "101it [00:27,  3.69it/s]"
     ]
    },
    {
     "name": "stdout",
     "output_type": "stream",
     "text": [
      "Epoch 14, Batch 100, position loss: 10235.111328125 reconstruction loss: 25.070131301879883 RMSE(mm): 50.584363513157406\n"
     ]
    },
    {
     "name": "stderr",
     "output_type": "stream",
     "text": [
      "201it [00:54,  3.69it/s]"
     ]
    },
    {
     "name": "stdout",
     "output_type": "stream",
     "text": [
      "Epoch 14, Batch 200, position loss: 9895.525390625 reconstruction loss: 80.05618286132812 RMSE(mm): 49.73812770557664\n"
     ]
    },
    {
     "name": "stderr",
     "output_type": "stream",
     "text": [
      "236it [01:03,  3.70it/s]\n"
     ]
    },
    {
     "name": "stdout",
     "output_type": "stream",
     "text": [
      "Epoch 14, Val Loss: 21923.072405133928, RMSE(mm): 61.49138476073482\n",
      "Epoch 14, test Loss: 28343.59915098852, RMSE(mm): 56.76368626950036\n"
     ]
    },
    {
     "name": "stderr",
     "output_type": "stream",
     "text": [
      "Some weights of ViTForImageClassification were not initialized from the model checkpoint at google/vit-base-patch16-224 and are newly initialized because the shapes did not match:\n",
      "- vit.embeddings.patch_embeddings.projection.weight: found shape torch.Size([768, 3, 16, 16]) in the checkpoint and torch.Size([768, 256, 8, 1]) in the model instantiated\n",
      "- vit.embeddings.position_embeddings: found shape torch.Size([1, 197, 768]) in the checkpoint and torch.Size([1, 225, 768]) in the model instantiated\n",
      "You should probably TRAIN this model on a down-stream task to be able to use it for predictions and inference.\n"
     ]
    },
    {
     "name": "stdout",
     "output_type": "stream",
     "text": [
      "create dataloader...\n",
      "HI\n",
      "training...\n"
     ]
    },
    {
     "name": "stderr",
     "output_type": "stream",
     "text": [
      "1it [00:00,  2.59it/s]"
     ]
    },
    {
     "name": "stdout",
     "output_type": "stream",
     "text": [
      "Epoch 0, Batch 0, position loss: 168894.125 reconstruction loss: 80.14488220214844 RMSE(mm): 205.4836520261405\n"
     ]
    },
    {
     "name": "stderr",
     "output_type": "stream",
     "text": [
      "101it [00:27,  3.70it/s]"
     ]
    },
    {
     "name": "stdout",
     "output_type": "stream",
     "text": [
      "Epoch 0, Batch 100, position loss: 103678.796875 reconstruction loss: 52.68852233886719 RMSE(mm): 160.99596025599524\n"
     ]
    },
    {
     "name": "stderr",
     "output_type": "stream",
     "text": [
      "201it [00:54,  3.69it/s]"
     ]
    },
    {
     "name": "stdout",
     "output_type": "stream",
     "text": [
      "Epoch 0, Batch 200, position loss: 43915.1640625 reconstruction loss: 111.17869567871094 RMSE(mm): 104.77972616696896\n"
     ]
    },
    {
     "name": "stderr",
     "output_type": "stream",
     "text": [
      "236it [01:03,  3.70it/s]\n"
     ]
    },
    {
     "name": "stdout",
     "output_type": "stream",
     "text": [
      "Epoch 0, Val Loss: 44719.29631696428, RMSE(mm): 93.83929909439894\n",
      "Epoch 0, test Loss: 57003.18343431123, RMSE(mm): 97.08351443531289\n"
     ]
    },
    {
     "name": "stderr",
     "output_type": "stream",
     "text": [
      "1it [00:00,  3.69it/s]"
     ]
    },
    {
     "name": "stdout",
     "output_type": "stream",
     "text": [
      "Epoch 1, Batch 0, position loss: 34816.796875 reconstruction loss: 67.11009979248047 RMSE(mm): 93.29629799059553\n"
     ]
    },
    {
     "name": "stderr",
     "output_type": "stream",
     "text": [
      "101it [00:27,  3.70it/s]"
     ]
    },
    {
     "name": "stdout",
     "output_type": "stream",
     "text": [
      "Epoch 1, Batch 100, position loss: 28139.181640625 reconstruction loss: 34.988739013671875 RMSE(mm): 83.8736872335791\n"
     ]
    },
    {
     "name": "stderr",
     "output_type": "stream",
     "text": [
      "201it [00:54,  3.69it/s]"
     ]
    },
    {
     "name": "stdout",
     "output_type": "stream",
     "text": [
      "Epoch 1, Batch 200, position loss: 31162.2578125 reconstruction loss: 97.34790802001953 RMSE(mm): 88.264174233519\n"
     ]
    },
    {
     "name": "stderr",
     "output_type": "stream",
     "text": [
      "236it [01:03,  3.71it/s]\n"
     ]
    },
    {
     "name": "stdout",
     "output_type": "stream",
     "text": [
      "Epoch 1, Val Loss: 31473.631696428572, RMSE(mm): 75.74203343051185\n",
      "Epoch 1, test Loss: 41839.57362085459, RMSE(mm): 76.5544469421594\n"
     ]
    },
    {
     "name": "stderr",
     "output_type": "stream",
     "text": [
      "1it [00:00,  3.69it/s]"
     ]
    },
    {
     "name": "stdout",
     "output_type": "stream",
     "text": [
      "Epoch 2, Batch 0, position loss: 21215.734375 reconstruction loss: 55.04960632324219 RMSE(mm): 72.82810991471631\n"
     ]
    },
    {
     "name": "stderr",
     "output_type": "stream",
     "text": [
      "101it [00:27,  3.70it/s]"
     ]
    },
    {
     "name": "stdout",
     "output_type": "stream",
     "text": [
      "Epoch 2, Batch 100, position loss: 20140.861328125 reconstruction loss: 30.171499252319336 RMSE(mm): 70.95925120821985\n"
     ]
    },
    {
     "name": "stderr",
     "output_type": "stream",
     "text": [
      "201it [00:54,  3.69it/s]"
     ]
    },
    {
     "name": "stdout",
     "output_type": "stream",
     "text": [
      "Epoch 2, Batch 200, position loss: 22387.017578125 reconstruction loss: 92.66990661621094 RMSE(mm): 74.81145897876374\n"
     ]
    },
    {
     "name": "stderr",
     "output_type": "stream",
     "text": [
      "236it [01:03,  3.70it/s]\n"
     ]
    },
    {
     "name": "stdout",
     "output_type": "stream",
     "text": [
      "Epoch 2, Val Loss: 26296.38911033163, RMSE(mm): 67.18177657159958\n",
      "Epoch 2, test Loss: 34991.12370455995, RMSE(mm): 64.98538015805792\n"
     ]
    },
    {
     "name": "stderr",
     "output_type": "stream",
     "text": [
      "1it [00:00,  3.70it/s]"
     ]
    },
    {
     "name": "stdout",
     "output_type": "stream",
     "text": [
      "Epoch 3, Batch 0, position loss: 16359.28515625 reconstruction loss: 51.185176849365234 RMSE(mm): 63.9517106030988\n"
     ]
    },
    {
     "name": "stderr",
     "output_type": "stream",
     "text": [
      "101it [00:27,  3.70it/s]"
     ]
    },
    {
     "name": "stdout",
     "output_type": "stream",
     "text": [
      "Epoch 3, Batch 100, position loss: 17454.7734375 reconstruction loss: 27.379064559936523 RMSE(mm): 66.0582573140936\n"
     ]
    },
    {
     "name": "stderr",
     "output_type": "stream",
     "text": [
      "201it [00:54,  3.69it/s]"
     ]
    },
    {
     "name": "stdout",
     "output_type": "stream",
     "text": [
      "Epoch 3, Batch 200, position loss: 18929.54296875 reconstruction loss: 88.39746856689453 RMSE(mm): 68.792337815977\n"
     ]
    },
    {
     "name": "stderr",
     "output_type": "stream",
     "text": [
      "236it [01:03,  3.70it/s]\n"
     ]
    },
    {
     "name": "stdout",
     "output_type": "stream",
     "text": [
      "Epoch 3, Val Loss: 24002.627531090562, RMSE(mm): 63.12801730671453\n",
      "Epoch 3, test Loss: 32018.88602120536, RMSE(mm): 59.34264714191867\n"
     ]
    },
    {
     "name": "stderr",
     "output_type": "stream",
     "text": [
      "1it [00:00,  3.72it/s]"
     ]
    },
    {
     "name": "stdout",
     "output_type": "stream",
     "text": [
      "Epoch 4, Batch 0, position loss: 13302.53125 reconstruction loss: 49.05059051513672 RMSE(mm): 57.6682998925753\n"
     ]
    },
    {
     "name": "stderr",
     "output_type": "stream",
     "text": [
      "101it [00:27,  3.70it/s]"
     ]
    },
    {
     "name": "stdout",
     "output_type": "stream",
     "text": [
      "Epoch 4, Batch 100, position loss: 14021.6455078125 reconstruction loss: 26.077577590942383 RMSE(mm): 59.206514649598525\n"
     ]
    },
    {
     "name": "stderr",
     "output_type": "stream",
     "text": [
      "201it [00:54,  3.69it/s]"
     ]
    },
    {
     "name": "stdout",
     "output_type": "stream",
     "text": [
      "Epoch 4, Batch 200, position loss: 16790.30078125 reconstruction loss: 86.84977722167969 RMSE(mm): 64.78869650882397\n"
     ]
    },
    {
     "name": "stderr",
     "output_type": "stream",
     "text": [
      "236it [01:03,  3.71it/s]\n"
     ]
    },
    {
     "name": "stdout",
     "output_type": "stream",
     "text": [
      "Epoch 4, Val Loss: 23667.320691167093, RMSE(mm): 62.71377963486622\n",
      "Epoch 4, test Loss: 31299.781668526786, RMSE(mm): 58.06835371666876\n"
     ]
    },
    {
     "name": "stderr",
     "output_type": "stream",
     "text": [
      "1it [00:00,  3.70it/s]"
     ]
    },
    {
     "name": "stdout",
     "output_type": "stream",
     "text": [
      "Epoch 5, Batch 0, position loss: 11743.771484375 reconstruction loss: 47.07837677001953 RMSE(mm): 54.18434156740995\n"
     ]
    },
    {
     "name": "stderr",
     "output_type": "stream",
     "text": [
      "101it [00:27,  3.69it/s]"
     ]
    },
    {
     "name": "stdout",
     "output_type": "stream",
     "text": [
      "Epoch 5, Batch 100, position loss: 13173.6015625 reconstruction loss: 25.2278995513916 RMSE(mm): 57.38815549070208\n"
     ]
    },
    {
     "name": "stderr",
     "output_type": "stream",
     "text": [
      "201it [00:54,  3.70it/s]"
     ]
    },
    {
     "name": "stdout",
     "output_type": "stream",
     "text": [
      "Epoch 5, Batch 200, position loss: 16351.998046875 reconstruction loss: 84.817138671875 RMSE(mm): 63.93746563415499\n"
     ]
    },
    {
     "name": "stderr",
     "output_type": "stream",
     "text": [
      "236it [01:03,  3.70it/s]\n"
     ]
    },
    {
     "name": "stdout",
     "output_type": "stream",
     "text": [
      "Epoch 5, Val Loss: 23865.84640066964, RMSE(mm): 63.37360116088694\n",
      "Epoch 5, test Loss: 31432.235391422193, RMSE(mm): 58.590104478430206\n"
     ]
    },
    {
     "name": "stderr",
     "output_type": "stream",
     "text": [
      "1it [00:00,  3.70it/s]"
     ]
    },
    {
     "name": "stdout",
     "output_type": "stream",
     "text": [
      "Epoch 6, Batch 0, position loss: 11487.630859375 reconstruction loss: 45.50785446166992 RMSE(mm): 53.590183008119595\n"
     ]
    },
    {
     "name": "stderr",
     "output_type": "stream",
     "text": [
      "101it [00:27,  3.69it/s]"
     ]
    },
    {
     "name": "stdout",
     "output_type": "stream",
     "text": [
      "Epoch 6, Batch 100, position loss: 11271.951171875 reconstruction loss: 24.809476852416992 RMSE(mm): 53.08472278319583\n"
     ]
    },
    {
     "name": "stderr",
     "output_type": "stream",
     "text": [
      "201it [00:54,  3.70it/s]"
     ]
    },
    {
     "name": "stdout",
     "output_type": "stream",
     "text": [
      "Epoch 6, Batch 200, position loss: 13222.0556640625 reconstruction loss: 80.66413879394531 RMSE(mm): 57.493598913406224\n"
     ]
    },
    {
     "name": "stderr",
     "output_type": "stream",
     "text": [
      "236it [01:03,  3.70it/s]\n"
     ]
    },
    {
     "name": "stdout",
     "output_type": "stream",
     "text": [
      "Epoch 6, Val Loss: 22619.77176339286, RMSE(mm): 60.938254508672756\n",
      "Epoch 6, test Loss: 30502.50924744898, RMSE(mm): 56.657823743508246\n"
     ]
    },
    {
     "name": "stderr",
     "output_type": "stream",
     "text": [
      "1it [00:00,  3.69it/s]"
     ]
    },
    {
     "name": "stdout",
     "output_type": "stream",
     "text": [
      "Epoch 7, Batch 0, position loss: 10020.779296875 reconstruction loss: 44.889122009277344 RMSE(mm): 50.05192128399019\n"
     ]
    },
    {
     "name": "stderr",
     "output_type": "stream",
     "text": [
      "101it [00:27,  3.70it/s]"
     ]
    },
    {
     "name": "stdout",
     "output_type": "stream",
     "text": [
      "Epoch 7, Batch 100, position loss: 10621.240234375 reconstruction loss: 24.60817527770996 RMSE(mm): 51.52970074232675\n"
     ]
    },
    {
     "name": "stderr",
     "output_type": "stream",
     "text": [
      "201it [00:54,  3.69it/s]"
     ]
    },
    {
     "name": "stdout",
     "output_type": "stream",
     "text": [
      "Epoch 7, Batch 200, position loss: 12367.703125 reconstruction loss: 80.55047607421875 RMSE(mm): 55.605087728102724\n"
     ]
    },
    {
     "name": "stderr",
     "output_type": "stream",
     "text": [
      "236it [01:03,  3.71it/s]\n"
     ]
    },
    {
     "name": "stdout",
     "output_type": "stream",
     "text": [
      "Epoch 7, Val Loss: 22624.731684470662, RMSE(mm): 60.966950628004604\n",
      "Epoch 7, test Loss: 30386.85226004464, RMSE(mm): 56.41866648489375\n"
     ]
    },
    {
     "name": "stderr",
     "output_type": "stream",
     "text": [
      "1it [00:00,  3.70it/s]"
     ]
    },
    {
     "name": "stdout",
     "output_type": "stream",
     "text": [
      "Epoch 8, Batch 0, position loss: 9455.5693359375 reconstruction loss: 44.708614349365234 RMSE(mm): 48.619875914942185\n"
     ]
    },
    {
     "name": "stderr",
     "output_type": "stream",
     "text": [
      "101it [00:27,  3.70it/s]"
     ]
    },
    {
     "name": "stdout",
     "output_type": "stream",
     "text": [
      "Epoch 8, Batch 100, position loss: 10056.6328125 reconstruction loss: 24.540287017822266 RMSE(mm): 50.141382142148814\n"
     ]
    },
    {
     "name": "stderr",
     "output_type": "stream",
     "text": [
      "201it [00:54,  3.70it/s]"
     ]
    },
    {
     "name": "stdout",
     "output_type": "stream",
     "text": [
      "Epoch 8, Batch 200, position loss: 11317.6845703125 reconstruction loss: 80.36378479003906 RMSE(mm): 53.19230341485622\n"
     ]
    },
    {
     "name": "stderr",
     "output_type": "stream",
     "text": [
      "236it [01:03,  3.70it/s]\n"
     ]
    },
    {
     "name": "stdout",
     "output_type": "stream",
     "text": [
      "Epoch 8, Val Loss: 22645.827566964286, RMSE(mm): 61.03321407369121\n",
      "Epoch 8, test Loss: 30303.465441645407, RMSE(mm): 56.25111358024708\n"
     ]
    },
    {
     "name": "stderr",
     "output_type": "stream",
     "text": [
      "1it [00:00,  3.69it/s]"
     ]
    },
    {
     "name": "stdout",
     "output_type": "stream",
     "text": [
      "Epoch 9, Batch 0, position loss: 9037.9677734375 reconstruction loss: 44.579139709472656 RMSE(mm): 47.5341134697953\n"
     ]
    },
    {
     "name": "stderr",
     "output_type": "stream",
     "text": [
      "101it [00:27,  3.69it/s]"
     ]
    },
    {
     "name": "stdout",
     "output_type": "stream",
     "text": [
      "Epoch 9, Batch 100, position loss: 9666.2744140625 reconstruction loss: 24.51806640625 RMSE(mm): 49.15860660673393\n"
     ]
    },
    {
     "name": "stderr",
     "output_type": "stream",
     "text": [
      "201it [00:54,  3.69it/s]"
     ]
    },
    {
     "name": "stdout",
     "output_type": "stream",
     "text": [
      "Epoch 9, Batch 200, position loss: 10786.1005859375 reconstruction loss: 80.34956359863281 RMSE(mm): 51.928076668449556\n"
     ]
    },
    {
     "name": "stderr",
     "output_type": "stream",
     "text": [
      "236it [01:03,  3.70it/s]\n"
     ]
    },
    {
     "name": "stdout",
     "output_type": "stream",
     "text": [
      "Epoch 9, Val Loss: 22783.92942841199, RMSE(mm): 61.312312260960724\n",
      "Epoch 9, test Loss: 30440.80658083546, RMSE(mm): 56.54989099543855\n"
     ]
    },
    {
     "name": "stderr",
     "output_type": "stream",
     "text": [
      "1it [00:00,  3.70it/s]"
     ]
    },
    {
     "name": "stdout",
     "output_type": "stream",
     "text": [
      "Epoch 10, Batch 0, position loss: 8356.361328125 reconstruction loss: 44.509193420410156 RMSE(mm): 45.70656771221451\n"
     ]
    },
    {
     "name": "stderr",
     "output_type": "stream",
     "text": [
      "101it [00:27,  3.70it/s]"
     ]
    },
    {
     "name": "stdout",
     "output_type": "stream",
     "text": [
      "Epoch 10, Batch 100, position loss: 9503.6015625 reconstruction loss: 24.525882720947266 RMSE(mm): 48.743208661566385\n"
     ]
    },
    {
     "name": "stderr",
     "output_type": "stream",
     "text": [
      "201it [00:54,  3.69it/s]"
     ]
    },
    {
     "name": "stdout",
     "output_type": "stream",
     "text": [
      "Epoch 10, Batch 200, position loss: 9755.9326171875 reconstruction loss: 80.25424194335938 RMSE(mm): 49.38606234857032\n"
     ]
    },
    {
     "name": "stderr",
     "output_type": "stream",
     "text": [
      "236it [01:03,  3.70it/s]\n"
     ]
    },
    {
     "name": "stdout",
     "output_type": "stream",
     "text": [
      "Epoch 10, Val Loss: 22843.23736447704, RMSE(mm): 61.444173034328074\n",
      "Epoch 10, test Loss: 30456.095583545917, RMSE(mm): 56.58952183122398\n"
     ]
    },
    {
     "name": "stderr",
     "output_type": "stream",
     "text": [
      "1it [00:00,  3.73it/s]"
     ]
    },
    {
     "name": "stdout",
     "output_type": "stream",
     "text": [
      "Epoch 11, Batch 0, position loss: 7834.287109375 reconstruction loss: 44.406036376953125 RMSE(mm): 44.255754172127155\n"
     ]
    },
    {
     "name": "stderr",
     "output_type": "stream",
     "text": [
      "101it [00:27,  3.70it/s]"
     ]
    },
    {
     "name": "stdout",
     "output_type": "stream",
     "text": [
      "Epoch 11, Batch 100, position loss: 8535.345703125 reconstruction loss: 24.521766662597656 RMSE(mm): 46.1934673496291\n"
     ]
    },
    {
     "name": "stderr",
     "output_type": "stream",
     "text": [
      "201it [00:54,  3.69it/s]"
     ]
    },
    {
     "name": "stdout",
     "output_type": "stream",
     "text": [
      "Epoch 11, Batch 200, position loss: 8835.61328125 reconstruction loss: 80.11632537841797 RMSE(mm): 46.99897148143244\n"
     ]
    },
    {
     "name": "stderr",
     "output_type": "stream",
     "text": [
      "236it [01:03,  3.70it/s]\n"
     ]
    },
    {
     "name": "stdout",
     "output_type": "stream",
     "text": [
      "Epoch 11, Val Loss: 23084.15254304847, RMSE(mm): 61.942786452876945\n",
      "Epoch 11, test Loss: 30611.587990274234, RMSE(mm): 56.940443459488456\n"
     ]
    },
    {
     "name": "stderr",
     "output_type": "stream",
     "text": [
      "1it [00:00,  3.70it/s]"
     ]
    },
    {
     "name": "stdout",
     "output_type": "stream",
     "text": [
      "Epoch 12, Batch 0, position loss: 7697.2509765625 reconstruction loss: 44.40069580078125 RMSE(mm): 43.86698923040679\n"
     ]
    },
    {
     "name": "stderr",
     "output_type": "stream",
     "text": [
      "101it [00:27,  3.69it/s]"
     ]
    },
    {
     "name": "stdout",
     "output_type": "stream",
     "text": [
      "Epoch 12, Batch 100, position loss: 8450.72265625 reconstruction loss: 25.209623336791992 RMSE(mm): 45.96390610101039\n"
     ]
    },
    {
     "name": "stderr",
     "output_type": "stream",
     "text": [
      "201it [00:54,  3.69it/s]"
     ]
    },
    {
     "name": "stdout",
     "output_type": "stream",
     "text": [
      "Epoch 12, Batch 200, position loss: 8142.8837890625 reconstruction loss: 79.75630950927734 RMSE(mm): 45.118964386005416\n"
     ]
    },
    {
     "name": "stderr",
     "output_type": "stream",
     "text": [
      "236it [01:03,  3.70it/s]\n"
     ]
    },
    {
     "name": "stdout",
     "output_type": "stream",
     "text": [
      "Epoch 12, Val Loss: 22802.50005978954, RMSE(mm): 61.373041120504574\n",
      "Epoch 12, test Loss: 30160.20063376913, RMSE(mm): 55.94746744242728\n"
     ]
    },
    {
     "name": "stderr",
     "output_type": "stream",
     "text": [
      "1it [00:00,  3.68it/s]"
     ]
    },
    {
     "name": "stdout",
     "output_type": "stream",
     "text": [
      "Epoch 13, Batch 0, position loss: 7365.8837890625 reconstruction loss: 44.35955810546875 RMSE(mm): 42.91236357118569\n"
     ]
    },
    {
     "name": "stderr",
     "output_type": "stream",
     "text": [
      "101it [00:27,  3.70it/s]"
     ]
    },
    {
     "name": "stdout",
     "output_type": "stream",
     "text": [
      "Epoch 13, Batch 100, position loss: 8227.8857421875 reconstruction loss: 25.112844467163086 RMSE(mm): 45.35384697626955\n"
     ]
    },
    {
     "name": "stderr",
     "output_type": "stream",
     "text": [
      "201it [00:54,  3.70it/s]"
     ]
    },
    {
     "name": "stdout",
     "output_type": "stream",
     "text": [
      "Epoch 13, Batch 200, position loss: 8070.44921875 reconstruction loss: 79.82431030273438 RMSE(mm): 44.91783949265036\n"
     ]
    },
    {
     "name": "stderr",
     "output_type": "stream",
     "text": [
      "236it [01:03,  3.70it/s]\n"
     ]
    },
    {
     "name": "stdout",
     "output_type": "stream",
     "text": [
      "Epoch 13, Val Loss: 22842.39799904337, RMSE(mm): 61.4418322269862\n",
      "Epoch 13, test Loss: 30179.963189572703, RMSE(mm): 55.9791052626287\n"
     ]
    },
    {
     "name": "stderr",
     "output_type": "stream",
     "text": [
      "1it [00:00,  3.71it/s]"
     ]
    },
    {
     "name": "stdout",
     "output_type": "stream",
     "text": [
      "Epoch 14, Batch 0, position loss: 7129.662109375 reconstruction loss: 44.33007049560547 RMSE(mm): 42.21866325860815\n"
     ]
    },
    {
     "name": "stderr",
     "output_type": "stream",
     "text": [
      "101it [00:27,  3.69it/s]"
     ]
    },
    {
     "name": "stdout",
     "output_type": "stream",
     "text": [
      "Epoch 14, Batch 100, position loss: 8190.40966796875 reconstruction loss: 25.052019119262695 RMSE(mm): 45.25044106958724\n"
     ]
    },
    {
     "name": "stderr",
     "output_type": "stream",
     "text": [
      "201it [00:54,  3.70it/s]"
     ]
    },
    {
     "name": "stdout",
     "output_type": "stream",
     "text": [
      "Epoch 14, Batch 200, position loss: 7735.078125 reconstruction loss: 79.81995391845703 RMSE(mm): 43.97464645963626\n"
     ]
    },
    {
     "name": "stderr",
     "output_type": "stream",
     "text": [
      "236it [01:03,  3.70it/s]\n"
     ]
    },
    {
     "name": "stdout",
     "output_type": "stream",
     "text": [
      "Epoch 14, Val Loss: 22863.97797751913, RMSE(mm): 61.488290849649815\n",
      "Epoch 14, test Loss: 30209.39646444515, RMSE(mm): 56.047334734734235\n"
     ]
    },
    {
     "name": "stderr",
     "output_type": "stream",
     "text": [
      "Some weights of ViTForImageClassification were not initialized from the model checkpoint at google/vit-base-patch16-224 and are newly initialized because the shapes did not match:\n",
      "- vit.embeddings.patch_embeddings.projection.weight: found shape torch.Size([768, 3, 16, 16]) in the checkpoint and torch.Size([768, 256, 8, 1]) in the model instantiated\n",
      "- vit.embeddings.position_embeddings: found shape torch.Size([1, 197, 768]) in the checkpoint and torch.Size([1, 225, 768]) in the model instantiated\n",
      "You should probably TRAIN this model on a down-stream task to be able to use it for predictions and inference.\n"
     ]
    },
    {
     "name": "stdout",
     "output_type": "stream",
     "text": [
      "create dataloader...\n",
      "HI\n",
      "training...\n"
     ]
    },
    {
     "name": "stderr",
     "output_type": "stream",
     "text": [
      "1it [00:00,  2.59it/s]"
     ]
    },
    {
     "name": "stdout",
     "output_type": "stream",
     "text": [
      "Epoch 0, Batch 0, position loss: 169055.3125 reconstruction loss: 80.1513671875 RMSE(mm): 205.58168236737436\n"
     ]
    },
    {
     "name": "stderr",
     "output_type": "stream",
     "text": [
      "101it [00:27,  3.70it/s]"
     ]
    },
    {
     "name": "stdout",
     "output_type": "stream",
     "text": [
      "Epoch 0, Batch 100, position loss: 103432.7421875 reconstruction loss: 53.09626770019531 RMSE(mm): 160.80480573314654\n"
     ]
    },
    {
     "name": "stderr",
     "output_type": "stream",
     "text": [
      "201it [00:54,  3.69it/s]"
     ]
    },
    {
     "name": "stdout",
     "output_type": "stream",
     "text": [
      "Epoch 0, Batch 200, position loss: 44173.375 reconstruction loss: 114.11114501953125 RMSE(mm): 105.08731488624115\n"
     ]
    },
    {
     "name": "stderr",
     "output_type": "stream",
     "text": [
      "236it [01:03,  3.70it/s]\n"
     ]
    },
    {
     "name": "stdout",
     "output_type": "stream",
     "text": [
      "Epoch 0, Val Loss: 49860.327646683676, RMSE(mm): 97.87048429648527\n",
      "Epoch 0, test Loss: 63716.610889668365, RMSE(mm): 101.50683668901799\n"
     ]
    },
    {
     "name": "stderr",
     "output_type": "stream",
     "text": [
      "1it [00:00,  3.73it/s]"
     ]
    },
    {
     "name": "stdout",
     "output_type": "stream",
     "text": [
      "Epoch 1, Batch 0, position loss: 39397.25390625 reconstruction loss: 76.09744262695312 RMSE(mm): 99.24370749101678\n"
     ]
    },
    {
     "name": "stderr",
     "output_type": "stream",
     "text": [
      "101it [00:27,  3.69it/s]"
     ]
    },
    {
     "name": "stdout",
     "output_type": "stream",
     "text": [
      "Epoch 1, Batch 100, position loss: 28747.640625 reconstruction loss: 43.23530578613281 RMSE(mm): 84.77564600903965\n"
     ]
    },
    {
     "name": "stderr",
     "output_type": "stream",
     "text": [
      "201it [00:54,  3.70it/s]"
     ]
    },
    {
     "name": "stdout",
     "output_type": "stream",
     "text": [
      "Epoch 1, Batch 200, position loss: 30122.1953125 reconstruction loss: 107.41170501708984 RMSE(mm): 86.77873488433096\n"
     ]
    },
    {
     "name": "stderr",
     "output_type": "stream",
     "text": [
      "236it [01:03,  3.71it/s]\n"
     ]
    },
    {
     "name": "stdout",
     "output_type": "stream",
     "text": [
      "Epoch 1, Val Loss: 33948.062978316324, RMSE(mm): 76.72982230514387\n",
      "Epoch 1, test Loss: 45829.68447066326, RMSE(mm): 78.02691878963036\n"
     ]
    },
    {
     "name": "stderr",
     "output_type": "stream",
     "text": [
      "1it [00:00,  3.70it/s]"
     ]
    },
    {
     "name": "stdout",
     "output_type": "stream",
     "text": [
      "Epoch 2, Batch 0, position loss: 22341.52734375 reconstruction loss: 65.11972045898438 RMSE(mm): 74.73541219487252\n"
     ]
    },
    {
     "name": "stderr",
     "output_type": "stream",
     "text": [
      "101it [00:27,  3.69it/s]"
     ]
    },
    {
     "name": "stdout",
     "output_type": "stream",
     "text": [
      "Epoch 2, Batch 100, position loss: 21974.248046875 reconstruction loss: 33.635711669921875 RMSE(mm): 74.11856725354822\n"
     ]
    },
    {
     "name": "stderr",
     "output_type": "stream",
     "text": [
      "201it [00:54,  3.70it/s]"
     ]
    },
    {
     "name": "stdout",
     "output_type": "stream",
     "text": [
      "Epoch 2, Batch 200, position loss: 22607.787109375 reconstruction loss: 96.08468627929688 RMSE(mm): 75.17943054681746\n"
     ]
    },
    {
     "name": "stderr",
     "output_type": "stream",
     "text": [
      "236it [01:03,  3.70it/s]\n"
     ]
    },
    {
     "name": "stdout",
     "output_type": "stream",
     "text": [
      "Epoch 2, Val Loss: 28008.874920280614, RMSE(mm): 67.9181594284025\n",
      "Epoch 2, test Loss: 38103.5338408801, RMSE(mm): 66.07900015435972\n"
     ]
    },
    {
     "name": "stderr",
     "output_type": "stream",
     "text": [
      "1it [00:00,  3.72it/s]"
     ]
    },
    {
     "name": "stdout",
     "output_type": "stream",
     "text": [
      "Epoch 3, Batch 0, position loss: 16981.919921875 reconstruction loss: 54.28668212890625 RMSE(mm): 65.15734786245332\n"
     ]
    },
    {
     "name": "stderr",
     "output_type": "stream",
     "text": [
      "101it [00:27,  3.70it/s]"
     ]
    },
    {
     "name": "stdout",
     "output_type": "stream",
     "text": [
      "Epoch 3, Batch 100, position loss: 16753.77734375 reconstruction loss: 27.61092185974121 RMSE(mm): 64.71819169242525\n"
     ]
    },
    {
     "name": "stderr",
     "output_type": "stream",
     "text": [
      "201it [00:54,  3.69it/s]"
     ]
    },
    {
     "name": "stdout",
     "output_type": "stream",
     "text": [
      "Epoch 3, Batch 200, position loss: 19495.53125 reconstruction loss: 89.06686401367188 RMSE(mm): 69.81319941458062\n"
     ]
    },
    {
     "name": "stderr",
     "output_type": "stream",
     "text": [
      "236it [01:03,  3.70it/s]\n"
     ]
    },
    {
     "name": "stdout",
     "output_type": "stream",
     "text": [
      "Epoch 3, Val Loss: 25281.020328443876, RMSE(mm): 63.652833871910715\n",
      "Epoch 3, test Loss: 35255.55514588648, RMSE(mm): 61.41101143617355\n"
     ]
    },
    {
     "name": "stderr",
     "output_type": "stream",
     "text": [
      "1it [00:00,  3.65it/s]"
     ]
    },
    {
     "name": "stdout",
     "output_type": "stream",
     "text": [
      "Epoch 4, Batch 0, position loss: 13317.876953125 reconstruction loss: 49.2802619934082 RMSE(mm): 57.70155317044117\n"
     ]
    },
    {
     "name": "stderr",
     "output_type": "stream",
     "text": [
      "101it [00:27,  3.69it/s]"
     ]
    },
    {
     "name": "stdout",
     "output_type": "stream",
     "text": [
      "Epoch 4, Batch 100, position loss: 14554.6796875 reconstruction loss: 25.496294021606445 RMSE(mm): 60.32138859372353\n"
     ]
    },
    {
     "name": "stderr",
     "output_type": "stream",
     "text": [
      "201it [00:54,  3.70it/s]"
     ]
    },
    {
     "name": "stdout",
     "output_type": "stream",
     "text": [
      "Epoch 4, Batch 200, position loss: 17159.755859375 reconstruction loss: 85.21659088134766 RMSE(mm): 65.49762564279526\n"
     ]
    },
    {
     "name": "stderr",
     "output_type": "stream",
     "text": [
      "236it [01:03,  3.70it/s]\n"
     ]
    },
    {
     "name": "stdout",
     "output_type": "stream",
     "text": [
      "Epoch 4, Val Loss: 24421.142239317604, RMSE(mm): 62.445805066730294\n",
      "Epoch 4, test Loss: 34063.57386001275, RMSE(mm): 59.40788252662968\n"
     ]
    },
    {
     "name": "stderr",
     "output_type": "stream",
     "text": [
      "1it [00:00,  3.68it/s]"
     ]
    },
    {
     "name": "stdout",
     "output_type": "stream",
     "text": [
      "Epoch 5, Batch 0, position loss: 12077.30859375 reconstruction loss: 46.56559753417969 RMSE(mm): 54.94840442121591\n"
     ]
    },
    {
     "name": "stderr",
     "output_type": "stream",
     "text": [
      "101it [00:27,  3.70it/s]"
     ]
    },
    {
     "name": "stdout",
     "output_type": "stream",
     "text": [
      "Epoch 5, Batch 100, position loss: 12120.1923828125 reconstruction loss: 24.031980514526367 RMSE(mm): 55.045872649119886\n"
     ]
    },
    {
     "name": "stderr",
     "output_type": "stream",
     "text": [
      "201it [00:54,  3.70it/s]"
     ]
    },
    {
     "name": "stdout",
     "output_type": "stream",
     "text": [
      "Epoch 5, Batch 200, position loss: 16206.0966796875 reconstruction loss: 83.16236877441406 RMSE(mm): 63.651584190198086\n"
     ]
    },
    {
     "name": "stderr",
     "output_type": "stream",
     "text": [
      "236it [01:03,  3.71it/s]\n"
     ]
    },
    {
     "name": "stdout",
     "output_type": "stream",
     "text": [
      "Epoch 5, Val Loss: 24391.999123086734, RMSE(mm): 62.702706715168866\n",
      "Epoch 5, test Loss: 33601.22018494898, RMSE(mm): 58.694134672162114\n"
     ]
    },
    {
     "name": "stderr",
     "output_type": "stream",
     "text": [
      "1it [00:00,  3.69it/s]"
     ]
    },
    {
     "name": "stdout",
     "output_type": "stream",
     "text": [
      "Epoch 6, Batch 0, position loss: 10301.8896484375 reconstruction loss: 45.00914001464844 RMSE(mm): 50.74911242681368\n"
     ]
    },
    {
     "name": "stderr",
     "output_type": "stream",
     "text": [
      "101it [00:27,  3.69it/s]"
     ]
    },
    {
     "name": "stdout",
     "output_type": "stream",
     "text": [
      "Epoch 6, Batch 100, position loss: 11824.8828125 reconstruction loss: 23.814441680908203 RMSE(mm): 54.371138512311845\n"
     ]
    },
    {
     "name": "stderr",
     "output_type": "stream",
     "text": [
      "201it [00:54,  3.70it/s]"
     ]
    },
    {
     "name": "stdout",
     "output_type": "stream",
     "text": [
      "Epoch 6, Batch 200, position loss: 12038.5029296875 reconstruction loss: 79.14616394042969 RMSE(mm): 54.86005589153073\n"
     ]
    },
    {
     "name": "stderr",
     "output_type": "stream",
     "text": [
      "236it [01:03,  3.71it/s]\n"
     ]
    },
    {
     "name": "stdout",
     "output_type": "stream",
     "text": [
      "Epoch 6, Val Loss: 23816.009008290817, RMSE(mm): 61.66582023038294\n",
      "Epoch 6, test Loss: 33343.33484135842, RMSE(mm): 58.27669414745263\n"
     ]
    },
    {
     "name": "stderr",
     "output_type": "stream",
     "text": [
      "1it [00:00,  3.72it/s]"
     ]
    },
    {
     "name": "stdout",
     "output_type": "stream",
     "text": [
      "Epoch 7, Batch 0, position loss: 10164.8955078125 reconstruction loss: 43.90434265136719 RMSE(mm): 50.41055322998474\n"
     ]
    },
    {
     "name": "stderr",
     "output_type": "stream",
     "text": [
      "101it [00:27,  3.69it/s]"
     ]
    },
    {
     "name": "stdout",
     "output_type": "stream",
     "text": [
      "Epoch 7, Batch 100, position loss: 10955.54296875 reconstruction loss: 23.52843475341797 RMSE(mm): 52.33436483026712\n"
     ]
    },
    {
     "name": "stderr",
     "output_type": "stream",
     "text": [
      "201it [00:54,  3.69it/s]"
     ]
    },
    {
     "name": "stdout",
     "output_type": "stream",
     "text": [
      "Epoch 7, Batch 200, position loss: 12040.8505859375 reconstruction loss: 78.90946960449219 RMSE(mm): 54.86540482384483\n"
     ]
    },
    {
     "name": "stderr",
     "output_type": "stream",
     "text": [
      "236it [01:03,  3.70it/s]\n"
     ]
    },
    {
     "name": "stdout",
     "output_type": "stream",
     "text": [
      "Epoch 7, Val Loss: 23710.287408322703, RMSE(mm): 61.492115700855074\n",
      "Epoch 7, test Loss: 33186.246273118624, RMSE(mm): 57.97343518338286\n"
     ]
    },
    {
     "name": "stderr",
     "output_type": "stream",
     "text": [
      "1it [00:00,  3.70it/s]"
     ]
    },
    {
     "name": "stdout",
     "output_type": "stream",
     "text": [
      "Epoch 8, Batch 0, position loss: 9229.0 reconstruction loss: 43.68096160888672 RMSE(mm): 48.03384223648989\n"
     ]
    },
    {
     "name": "stderr",
     "output_type": "stream",
     "text": [
      "101it [00:27,  3.68it/s]"
     ]
    },
    {
     "name": "stdout",
     "output_type": "stream",
     "text": [
      "Epoch 8, Batch 100, position loss: 10477.53125 reconstruction loss: 23.41002082824707 RMSE(mm): 51.1799063353969\n"
     ]
    },
    {
     "name": "stderr",
     "output_type": "stream",
     "text": [
      "201it [00:54,  3.70it/s]"
     ]
    },
    {
     "name": "stdout",
     "output_type": "stream",
     "text": [
      "Epoch 8, Batch 200, position loss: 11541.6748046875 reconstruction loss: 78.90133666992188 RMSE(mm): 53.716093502523755\n"
     ]
    },
    {
     "name": "stderr",
     "output_type": "stream",
     "text": [
      "236it [01:03,  3.70it/s]\n"
     ]
    },
    {
     "name": "stdout",
     "output_type": "stream",
     "text": [
      "Epoch 8, Val Loss: 23652.01030373087, RMSE(mm): 61.392518067864025\n",
      "Epoch 8, test Loss: 33060.735132334186, RMSE(mm): 57.72005057241332\n"
     ]
    },
    {
     "name": "stderr",
     "output_type": "stream",
     "text": [
      "1it [00:00,  3.69it/s]"
     ]
    },
    {
     "name": "stdout",
     "output_type": "stream",
     "text": [
      "Epoch 9, Batch 0, position loss: 8538.1875 reconstruction loss: 43.55836486816406 RMSE(mm): 46.20115664136559\n"
     ]
    },
    {
     "name": "stderr",
     "output_type": "stream",
     "text": [
      "101it [00:27,  3.70it/s]"
     ]
    },
    {
     "name": "stdout",
     "output_type": "stream",
     "text": [
      "Epoch 9, Batch 100, position loss: 10100.6640625 reconstruction loss: 23.395620346069336 RMSE(mm): 50.251029995662776\n"
     ]
    },
    {
     "name": "stderr",
     "output_type": "stream",
     "text": [
      "201it [00:54,  3.69it/s]"
     ]
    },
    {
     "name": "stdout",
     "output_type": "stream",
     "text": [
      "Epoch 9, Batch 200, position loss: 11310.84765625 reconstruction loss: 78.6954574584961 RMSE(mm): 53.17623448555285\n"
     ]
    },
    {
     "name": "stderr",
     "output_type": "stream",
     "text": [
      "236it [01:03,  3.70it/s]\n"
     ]
    },
    {
     "name": "stdout",
     "output_type": "stream",
     "text": [
      "Epoch 9, Val Loss: 23679.840142697703, RMSE(mm): 61.48398857753993\n",
      "Epoch 9, test Loss: 33079.01773756377, RMSE(mm): 57.787924701192786\n"
     ]
    },
    {
     "name": "stderr",
     "output_type": "stream",
     "text": [
      "1it [00:00,  3.69it/s]"
     ]
    },
    {
     "name": "stdout",
     "output_type": "stream",
     "text": [
      "Epoch 10, Batch 0, position loss: 8020.48486328125 reconstruction loss: 43.42268371582031 RMSE(mm): 44.778579877217105\n"
     ]
    },
    {
     "name": "stderr",
     "output_type": "stream",
     "text": [
      "101it [00:27,  3.70it/s]"
     ]
    },
    {
     "name": "stdout",
     "output_type": "stream",
     "text": [
      "Epoch 10, Batch 100, position loss: 9309.2578125 reconstruction loss: 23.315906524658203 RMSE(mm): 48.242247596116414\n"
     ]
    },
    {
     "name": "stderr",
     "output_type": "stream",
     "text": [
      "201it [00:54,  3.70it/s]"
     ]
    },
    {
     "name": "stdout",
     "output_type": "stream",
     "text": [
      "Epoch 10, Batch 200, position loss: 10645.9912109375 reconstruction loss: 78.72673034667969 RMSE(mm): 51.58970636410305\n"
     ]
    },
    {
     "name": "stderr",
     "output_type": "stream",
     "text": [
      "236it [01:03,  3.70it/s]\n"
     ]
    },
    {
     "name": "stdout",
     "output_type": "stream",
     "text": [
      "Epoch 10, Val Loss: 23738.39863679847, RMSE(mm): 61.608672947808145\n",
      "Epoch 10, test Loss: 33152.999003507655, RMSE(mm): 57.95252433956441\n"
     ]
    },
    {
     "name": "stderr",
     "output_type": "stream",
     "text": [
      "1it [00:00,  3.69it/s]"
     ]
    },
    {
     "name": "stdout",
     "output_type": "stream",
     "text": [
      "Epoch 11, Batch 0, position loss: 7856.8955078125 reconstruction loss: 43.315185546875 RMSE(mm): 44.31956539670854\n"
     ]
    },
    {
     "name": "stderr",
     "output_type": "stream",
     "text": [
      "101it [00:27,  3.70it/s]"
     ]
    },
    {
     "name": "stdout",
     "output_type": "stream",
     "text": [
      "Epoch 11, Batch 100, position loss: 8943.37109375 reconstruction loss: 23.27486801147461 RMSE(mm): 47.2846991471607\n"
     ]
    },
    {
     "name": "stderr",
     "output_type": "stream",
     "text": [
      "201it [00:54,  3.71it/s]"
     ]
    },
    {
     "name": "stdout",
     "output_type": "stream",
     "text": [
      "Epoch 11, Batch 200, position loss: 9989.076171875 reconstruction loss: 78.47974395751953 RMSE(mm): 49.97268296748484\n"
     ]
    },
    {
     "name": "stderr",
     "output_type": "stream",
     "text": [
      "236it [01:03,  3.71it/s]\n"
     ]
    },
    {
     "name": "stdout",
     "output_type": "stream",
     "text": [
      "Epoch 11, Val Loss: 23917.09347098214, RMSE(mm): 62.00052629037757\n",
      "Epoch 11, test Loss: 33388.82001355229, RMSE(mm): 58.48486059831553\n"
     ]
    },
    {
     "name": "stderr",
     "output_type": "stream",
     "text": [
      "1it [00:00,  3.70it/s]"
     ]
    },
    {
     "name": "stdout",
     "output_type": "stream",
     "text": [
      "Epoch 12, Batch 0, position loss: 7129.68505859375 reconstruction loss: 43.2285041809082 RMSE(mm): 42.21873120604689\n"
     ]
    },
    {
     "name": "stderr",
     "output_type": "stream",
     "text": [
      "101it [00:27,  3.70it/s]"
     ]
    },
    {
     "name": "stdout",
     "output_type": "stream",
     "text": [
      "Epoch 12, Batch 100, position loss: 9894.525390625 reconstruction loss: 23.920198440551758 RMSE(mm): 49.735614479528145\n"
     ]
    },
    {
     "name": "stderr",
     "output_type": "stream",
     "text": [
      "201it [00:54,  3.70it/s]"
     ]
    },
    {
     "name": "stdout",
     "output_type": "stream",
     "text": [
      "Epoch 12, Batch 200, position loss: 8552.224609375 reconstruction loss: 77.97055053710938 RMSE(mm): 46.239119285987165\n"
     ]
    },
    {
     "name": "stderr",
     "output_type": "stream",
     "text": [
      "236it [01:03,  3.71it/s]\n"
     ]
    },
    {
     "name": "stdout",
     "output_type": "stream",
     "text": [
      "Epoch 12, Val Loss: 23664.01763791454, RMSE(mm): 61.49254347626876\n",
      "Epoch 12, test Loss: 32890.51393096301, RMSE(mm): 57.41816613907339\n"
     ]
    },
    {
     "name": "stderr",
     "output_type": "stream",
     "text": [
      "1it [00:00,  3.70it/s]"
     ]
    },
    {
     "name": "stdout",
     "output_type": "stream",
     "text": [
      "Epoch 13, Batch 0, position loss: 7241.37939453125 reconstruction loss: 43.16444396972656 RMSE(mm): 42.54814741716509\n"
     ]
    },
    {
     "name": "stderr",
     "output_type": "stream",
     "text": [
      "101it [00:27,  3.70it/s]"
     ]
    },
    {
     "name": "stdout",
     "output_type": "stream",
     "text": [
      "Epoch 13, Batch 100, position loss: 9705.5185546875 reconstruction loss: 23.86785316467285 RMSE(mm): 49.25829512551033\n"
     ]
    },
    {
     "name": "stderr",
     "output_type": "stream",
     "text": [
      "201it [00:54,  3.69it/s]"
     ]
    },
    {
     "name": "stdout",
     "output_type": "stream",
     "text": [
      "Epoch 13, Batch 200, position loss: 8238.6416015625 reconstruction loss: 78.00052642822266 RMSE(mm): 45.38348158075386\n"
     ]
    },
    {
     "name": "stderr",
     "output_type": "stream",
     "text": [
      "236it [01:03,  3.70it/s]\n"
     ]
    },
    {
     "name": "stdout",
     "output_type": "stream",
     "text": [
      "Epoch 13, Val Loss: 23678.56523038903, RMSE(mm): 61.51228657652428\n",
      "Epoch 13, test Loss: 32865.26012436225, RMSE(mm): 57.35475384728917\n"
     ]
    },
    {
     "name": "stderr",
     "output_type": "stream",
     "text": [
      "1it [00:00,  3.70it/s]"
     ]
    },
    {
     "name": "stdout",
     "output_type": "stream",
     "text": [
      "Epoch 14, Batch 0, position loss: 7213.37451171875 reconstruction loss: 43.17136764526367 RMSE(mm): 42.46579362180445\n"
     ]
    },
    {
     "name": "stderr",
     "output_type": "stream",
     "text": [
      "101it [00:27,  3.70it/s]"
     ]
    },
    {
     "name": "stdout",
     "output_type": "stream",
     "text": [
      "Epoch 14, Batch 100, position loss: 9818.25 reconstruction loss: 23.824634552001953 RMSE(mm): 49.54354145597588\n"
     ]
    },
    {
     "name": "stderr",
     "output_type": "stream",
     "text": [
      "201it [00:54,  3.69it/s]"
     ]
    },
    {
     "name": "stdout",
     "output_type": "stream",
     "text": [
      "Epoch 14, Batch 200, position loss: 8365.8896484375 reconstruction loss: 78.02544403076172 RMSE(mm): 45.73261868851788\n"
     ]
    },
    {
     "name": "stderr",
     "output_type": "stream",
     "text": [
      "236it [01:03,  3.70it/s]\n"
     ]
    },
    {
     "name": "stdout",
     "output_type": "stream",
     "text": [
      "Epoch 14, Val Loss: 23713.63873166454, RMSE(mm): 61.58026170953323\n",
      "Epoch 14, test Loss: 32872.623286033166, RMSE(mm): 57.36732119782326\n"
     ]
    }
   ],
   "source": [
    "for i in range(70, 100, 10):\n",
    "    model = MTLViT_pretrained()\n",
    "    optimizer = torch.optim.Adam(model.parameters(), lr=learning_rate)\n",
    "    scheduler = torch.optim.lr_scheduler.StepLR(optimizer, step_size=6, gamma=0.1)\n",
    "    file_name = f'{model_name}_weight_{i}'\n",
    "    train(model,EEGEyeNet, optimizer, scheduler,log_name=file_name, batch_size = batch_size ,n_epoch = n_epoch, reconstruction_weight=i)"
   ]
  }
 ],
 "metadata": {
  "kernelspec": {
   "display_name": "AppliedML6907",
   "language": "python",
   "name": "python3"
  },
  "language_info": {
   "codemirror_mode": {
    "name": "ipython",
    "version": 3
   },
   "file_extension": ".py",
   "mimetype": "text/x-python",
   "name": "python",
   "nbconvert_exporter": "python",
   "pygments_lexer": "ipython3",
   "version": "3.8.18"
  },
  "orig_nbformat": 4
 },
 "nbformat": 4,
 "nbformat_minor": 2
}
