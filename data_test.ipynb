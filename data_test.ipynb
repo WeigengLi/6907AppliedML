{
 "cells": [
  {
   "cell_type": "code",
   "execution_count": 1,
   "metadata": {},
   "outputs": [
    {
     "name": "stdout",
     "output_type": "stream",
     "text": [
      "loading data...\n"
     ]
    },
    {
     "ename": "ValueError",
     "evalue": "Object arrays cannot be loaded when allow_pickle=False",
     "output_type": "error",
     "traceback": [
      "\u001b[1;31m---------------------------------------------------------------------------\u001b[0m",
      "\u001b[1;31mValueError\u001b[0m                                Traceback (most recent call last)",
      "\u001b[1;32mf:\\OneDrive - The George Washington University\\Course\\23Fall\\6907AppliedML\\Code\\MTL-VIT2EEG\\data_test.ipynb 单元格 1\u001b[0m line \u001b[0;36m2\n\u001b[0;32m      <a href='vscode-notebook-cell:/f%3A/OneDrive%20-%20The%20George%20Washington%20University/Course/23Fall/6907AppliedML/Code/MTL-VIT2EEG/data_test.ipynb#W0sZmlsZQ%3D%3D?line=0'>1</a>\u001b[0m \u001b[39mfrom\u001b[39;00m \u001b[39mdataset\u001b[39;00m\u001b[39m.\u001b[39;00m\u001b[39mEEGEyeNet\u001b[39;00m \u001b[39mimport\u001b[39;00m EEGEyeNetDataset\n\u001b[1;32m----> <a href='vscode-notebook-cell:/f%3A/OneDrive%20-%20The%20George%20Washington%20University/Course/23Fall/6907AppliedML/Code/MTL-VIT2EEG/data_test.ipynb#W0sZmlsZQ%3D%3D?line=1'>2</a>\u001b[0m EEGEyeNet \u001b[39m=\u001b[39m EEGEyeNetDataset(\u001b[39m'\u001b[39;49m\u001b[39m./dataset/MTL_data/Position_task_with_dots_synchronized_min.npz\u001b[39;49m\u001b[39m'\u001b[39;49m)\n",
      "File \u001b[1;32mf:\\OneDrive - The George Washington University\\Course\\23Fall\\6907AppliedML\\Code\\MTL-VIT2EEG\\dataset\\EEGEyeNet.py:11\u001b[0m, in \u001b[0;36mEEGEyeNetDataset.__init__\u001b[1;34m(self, data_file, transpose)\u001b[0m\n\u001b[0;32m      9\u001b[0m \u001b[39mwith\u001b[39;00m np\u001b[39m.\u001b[39mload(\u001b[39mself\u001b[39m\u001b[39m.\u001b[39mdata_file) \u001b[39mas\u001b[39;00m f: \u001b[39m# Load the data array\u001b[39;00m\n\u001b[0;32m     10\u001b[0m     \u001b[39mself\u001b[39m\u001b[39m.\u001b[39mtrainX \u001b[39m=\u001b[39m f[\u001b[39m'\u001b[39m\u001b[39mEEG\u001b[39m\u001b[39m'\u001b[39m]\n\u001b[1;32m---> 11\u001b[0m     \u001b[39mself\u001b[39m\u001b[39m.\u001b[39mtrainY \u001b[39m=\u001b[39m f[\u001b[39m'\u001b[39;49m\u001b[39mlabels\u001b[39;49m\u001b[39m'\u001b[39;49m]\n\u001b[0;32m     12\u001b[0m \u001b[39mprint\u001b[39m(\u001b[39mself\u001b[39m\u001b[39m.\u001b[39mtrainY)\n\u001b[0;32m     13\u001b[0m \u001b[39mif\u001b[39;00m transpose:\n",
      "File \u001b[1;32md:\\ProgramData\\anaconda3\\envs\\mlteeg\\lib\\site-packages\\numpy\\lib\\npyio.py:253\u001b[0m, in \u001b[0;36mNpzFile.__getitem__\u001b[1;34m(self, key)\u001b[0m\n\u001b[0;32m    251\u001b[0m \u001b[39mif\u001b[39;00m magic \u001b[39m==\u001b[39m \u001b[39mformat\u001b[39m\u001b[39m.\u001b[39mMAGIC_PREFIX:\n\u001b[0;32m    252\u001b[0m     \u001b[39mbytes\u001b[39m \u001b[39m=\u001b[39m \u001b[39mself\u001b[39m\u001b[39m.\u001b[39mzip\u001b[39m.\u001b[39mopen(key)\n\u001b[1;32m--> 253\u001b[0m     \u001b[39mreturn\u001b[39;00m \u001b[39mformat\u001b[39;49m\u001b[39m.\u001b[39;49mread_array(\u001b[39mbytes\u001b[39;49m,\n\u001b[0;32m    254\u001b[0m                              allow_pickle\u001b[39m=\u001b[39;49m\u001b[39mself\u001b[39;49m\u001b[39m.\u001b[39;49mallow_pickle,\n\u001b[0;32m    255\u001b[0m                              pickle_kwargs\u001b[39m=\u001b[39;49m\u001b[39mself\u001b[39;49m\u001b[39m.\u001b[39;49mpickle_kwargs,\n\u001b[0;32m    256\u001b[0m                              max_header_size\u001b[39m=\u001b[39;49m\u001b[39mself\u001b[39;49m\u001b[39m.\u001b[39;49mmax_header_size)\n\u001b[0;32m    257\u001b[0m \u001b[39melse\u001b[39;00m:\n\u001b[0;32m    258\u001b[0m     \u001b[39mreturn\u001b[39;00m \u001b[39mself\u001b[39m\u001b[39m.\u001b[39mzip\u001b[39m.\u001b[39mread(key)\n",
      "File \u001b[1;32md:\\ProgramData\\anaconda3\\envs\\mlteeg\\lib\\site-packages\\numpy\\lib\\format.py:787\u001b[0m, in \u001b[0;36mread_array\u001b[1;34m(fp, allow_pickle, pickle_kwargs, max_header_size)\u001b[0m\n\u001b[0;32m    784\u001b[0m \u001b[39mif\u001b[39;00m dtype\u001b[39m.\u001b[39mhasobject:\n\u001b[0;32m    785\u001b[0m     \u001b[39m# The array contained Python objects. We need to unpickle the data.\u001b[39;00m\n\u001b[0;32m    786\u001b[0m     \u001b[39mif\u001b[39;00m \u001b[39mnot\u001b[39;00m allow_pickle:\n\u001b[1;32m--> 787\u001b[0m         \u001b[39mraise\u001b[39;00m \u001b[39mValueError\u001b[39;00m(\u001b[39m\"\u001b[39m\u001b[39mObject arrays cannot be loaded when \u001b[39m\u001b[39m\"\u001b[39m\n\u001b[0;32m    788\u001b[0m                          \u001b[39m\"\u001b[39m\u001b[39mallow_pickle=False\u001b[39m\u001b[39m\"\u001b[39m)\n\u001b[0;32m    789\u001b[0m     \u001b[39mif\u001b[39;00m pickle_kwargs \u001b[39mis\u001b[39;00m \u001b[39mNone\u001b[39;00m:\n\u001b[0;32m    790\u001b[0m         pickle_kwargs \u001b[39m=\u001b[39m {}\n",
      "\u001b[1;31mValueError\u001b[0m: Object arrays cannot be loaded when allow_pickle=False"
     ]
    }
   ],
   "source": [
    "from dataset.EEGEyeNet import EEGEyeNetDataset\n",
    "EEGEyeNet = EEGEyeNetDataset('./dataset/MTL_data/Position_task_with_dots_synchronized_min.npz')\n"
   ]
  }
 ],
 "metadata": {
  "kernelspec": {
   "display_name": "mlteeg",
   "language": "python",
   "name": "python3"
  },
  "language_info": {
   "codemirror_mode": {
    "name": "ipython",
    "version": 3
   },
   "file_extension": ".py",
   "mimetype": "text/x-python",
   "name": "python",
   "nbconvert_exporter": "python",
   "pygments_lexer": "ipython3",
   "version": "3.8.18"
  },
  "orig_nbformat": 4
 },
 "nbformat": 4,
 "nbformat_minor": 2
}
