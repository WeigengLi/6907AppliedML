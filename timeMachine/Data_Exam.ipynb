{
 "cells": [
  {
   "cell_type": "code",
   "execution_count": 1,
   "metadata": {},
   "outputs": [
    {
     "name": "stdout",
     "output_type": "stream",
     "text": [
      "loading data...\n",
      "[[  1.  408.1 315.1]\n",
      " [  1.  640.7 519.1]\n",
      " [  1.  404.2 118.8]\n",
      " ...\n",
      " [177.  115.5 306.1]\n",
      " [177.  732.  310.3]\n",
      " [177.  632.2 353.6]]\n",
      "loading data...\n",
      "[[1.000e+00 4.081e+02 3.151e+02 3.323e+03]\n",
      " [1.000e+00 6.407e+02 5.191e+02 3.062e+03]\n",
      " [1.000e+00 4.042e+02 1.188e+02 3.417e+03]\n",
      " ...\n",
      " [3.000e+01 1.155e+02 3.061e+02 1.910e+03]\n",
      " [3.000e+01 7.320e+02 3.103e+02 1.723e+03]\n",
      " [3.000e+01 6.322e+02 3.536e+02 1.763e+03]]\n",
      "21464\n",
      "0\n"
     ]
    }
   ],
   "source": [
    "from dataset.EEGEyeNet import EEGEyeNetDataset\n",
    "\n",
    "EEGEyeNet = EEGEyeNetDataset('./dataset/Position_task_with_dots_synchronised_min.npz')\n",
    "EEGEyeNet_MTL = EEGEyeNetDataset('./dataset/MTL_data/Position_task_with_dots_synchronized_min.npz')\n",
    "import numpy as np\n",
    "t=0\n",
    "f = 0\n",
    "for index in range(len(EEGEyeNet_MTL)):\n",
    "    a = EEGEyeNet.trainX[index]\n",
    "    b = EEGEyeNet_MTL.trainX[index]\n",
    "    \n",
    "    if np.array_equal(EEGEyeNet.trainY[index,1:3], EEGEyeNet_MTL.trainY[index,1:3]) and np.array_equal(EEGEyeNet.trainX[index], EEGEyeNet_MTL.trainX[index]):\n",
    "        t+=1\n",
    "    else:\n",
    "        f+=1\n",
    "        \n",
    "\n",
    "print(t)\n",
    "print(f)"
   ]
  }
 ],
 "metadata": {
  "kernelspec": {
   "display_name": "mlteeg",
   "language": "python",
   "name": "python3"
  },
  "language_info": {
   "codemirror_mode": {
    "name": "ipython",
    "version": 3
   },
   "file_extension": ".py",
   "mimetype": "text/x-python",
   "name": "python",
   "nbconvert_exporter": "python",
   "pygments_lexer": "ipython3",
   "version": "3.8.18"
  }
 },
 "nbformat": 4,
 "nbformat_minor": 2
}
