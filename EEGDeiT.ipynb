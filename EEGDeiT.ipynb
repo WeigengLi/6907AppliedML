{
 "cells": [
  {
   "cell_type": "code",
   "execution_count": 1,
   "metadata": {},
   "outputs": [],
   "source": [
    "from models.EEGDeiT_pretrained_16stride import EEGViT_pretrained\n",
    "from models.EEGViT import EEGViT_raw\n",
    "from models.ViTBase import ViTBase\n",
    "from models.ViTBase_pretrained import ViTBase_pretrained\n",
    "from helper_functions import train\n",
    "from dataset.EEGEyeNet import EEGEyeNetDataset\n",
    "import torch\n"
   ]
  },
  {
   "cell_type": "code",
   "execution_count": 2,
   "metadata": {},
   "outputs": [
    {
     "name": "stderr",
     "output_type": "stream",
     "text": [
      "You are using a model of type deit to instantiate a model of type vit. This is not supported for all configurations of models and can yield errors.\n",
      "Some weights of ViTForImageClassification were not initialized from the model checkpoint at facebook/deit-base-distilled-patch16-224 and are newly initialized: ['encoder.layer.2.output.dense.bias', 'encoder.layer.7.intermediate.dense.weight', 'encoder.layer.9.attention.attention.key.bias', 'encoder.layer.10.intermediate.dense.weight', 'encoder.layer.0.attention.attention.query.bias', 'encoder.layer.7.output.dense.bias', 'encoder.layer.3.attention.attention.key.bias', 'encoder.layer.5.layernorm_after.weight', 'encoder.layer.8.output.dense.weight', 'embeddings.cls_token', 'encoder.layer.10.layernorm_before.bias', 'encoder.layer.11.attention.attention.query.weight', 'encoder.layer.8.attention.output.dense.bias', 'encoder.layer.2.layernorm_after.bias', 'layernorm.weight', 'encoder.layer.8.layernorm_after.bias', 'encoder.layer.0.attention.attention.key.weight', 'encoder.layer.8.attention.attention.value.weight', 'encoder.layer.1.attention.attention.key.weight', 'encoder.layer.4.attention.attention.query.bias', 'encoder.layer.8.intermediate.dense.bias', 'encoder.layer.6.layernorm_after.bias', 'encoder.layer.0.output.dense.bias', 'encoder.layer.2.layernorm_before.bias', 'encoder.layer.3.intermediate.dense.weight', 'encoder.layer.10.layernorm_after.weight', 'encoder.layer.10.output.dense.bias', 'encoder.layer.6.attention.output.dense.bias', 'encoder.layer.2.layernorm_after.weight', 'encoder.layer.2.attention.attention.query.bias', 'encoder.layer.9.layernorm_before.weight', 'encoder.layer.2.layernorm_before.weight', 'encoder.layer.0.layernorm_after.weight', 'encoder.layer.2.output.dense.weight', 'encoder.layer.0.attention.output.dense.bias', 'encoder.layer.3.intermediate.dense.bias', 'encoder.layer.9.attention.output.dense.bias', 'encoder.layer.11.output.dense.weight', 'encoder.layer.5.attention.output.dense.weight', 'encoder.layer.10.attention.attention.key.bias', 'encoder.layer.2.intermediate.dense.bias', 'embeddings.patch_embeddings.projection.bias', 'embeddings.patch_embeddings.projection.weight', 'encoder.layer.8.intermediate.dense.weight', 'encoder.layer.5.layernorm_before.weight', 'encoder.layer.7.attention.attention.query.bias', 'encoder.layer.11.output.dense.bias', 'encoder.layer.2.attention.output.dense.weight', 'encoder.layer.3.attention.attention.query.bias', 'encoder.layer.11.intermediate.dense.bias', 'encoder.layer.3.attention.attention.value.bias', 'encoder.layer.8.layernorm_after.weight', 'encoder.layer.9.layernorm_after.bias', 'encoder.layer.9.attention.attention.query.bias', 'encoder.layer.2.attention.attention.value.weight', 'encoder.layer.10.attention.attention.value.bias', 'encoder.layer.1.attention.output.dense.weight', 'encoder.layer.0.intermediate.dense.bias', 'encoder.layer.11.attention.output.dense.bias', 'encoder.layer.6.attention.attention.key.weight', 'encoder.layer.10.attention.attention.value.weight', 'encoder.layer.4.attention.attention.value.weight', 'encoder.layer.11.attention.output.dense.weight', 'encoder.layer.10.attention.attention.key.weight', 'encoder.layer.4.intermediate.dense.bias', 'classifier.weight', 'encoder.layer.0.attention.output.dense.weight', 'encoder.layer.9.layernorm_before.bias', 'encoder.layer.1.layernorm_before.bias', 'encoder.layer.0.attention.attention.value.bias', 'encoder.layer.4.output.dense.weight', 'encoder.layer.8.attention.attention.value.bias', 'encoder.layer.1.intermediate.dense.bias', 'encoder.layer.3.attention.attention.query.weight', 'encoder.layer.3.layernorm_before.weight', 'encoder.layer.7.attention.attention.value.bias', 'encoder.layer.4.attention.attention.key.bias', 'encoder.layer.9.attention.attention.value.bias', 'encoder.layer.5.attention.attention.value.bias', 'encoder.layer.5.attention.attention.value.weight', 'encoder.layer.5.output.dense.weight', 'encoder.layer.9.output.dense.bias', 'encoder.layer.11.attention.attention.value.bias', 'encoder.layer.0.layernorm_after.bias', 'encoder.layer.6.output.dense.weight', 'encoder.layer.8.attention.attention.key.bias', 'encoder.layer.4.layernorm_after.bias', 'encoder.layer.3.output.dense.bias', 'encoder.layer.11.attention.attention.key.bias', 'encoder.layer.6.layernorm_before.bias', 'encoder.layer.1.intermediate.dense.weight', 'encoder.layer.0.attention.attention.query.weight', 'encoder.layer.8.attention.attention.query.bias', 'encoder.layer.7.attention.attention.key.bias', 'encoder.layer.9.attention.attention.query.weight', 'encoder.layer.3.attention.attention.value.weight', 'encoder.layer.2.attention.attention.key.bias', 'encoder.layer.6.attention.output.dense.weight', 'encoder.layer.4.intermediate.dense.weight', 'encoder.layer.5.output.dense.bias', 'encoder.layer.5.attention.attention.key.weight', 'encoder.layer.11.attention.attention.query.bias', 'encoder.layer.4.layernorm_before.weight', 'encoder.layer.5.attention.attention.key.bias', 'encoder.layer.5.intermediate.dense.bias', 'encoder.layer.1.layernorm_before.weight', 'encoder.layer.4.attention.attention.key.weight', 'encoder.layer.1.attention.attention.query.weight', 'encoder.layer.7.attention.attention.key.weight', 'encoder.layer.5.attention.output.dense.bias', 'encoder.layer.8.attention.output.dense.weight', 'encoder.layer.1.layernorm_after.bias', 'encoder.layer.1.attention.attention.value.weight', 'encoder.layer.5.attention.attention.query.weight', 'encoder.layer.4.attention.output.dense.bias', 'encoder.layer.1.attention.output.dense.bias', 'encoder.layer.7.layernorm_before.bias', 'encoder.layer.7.attention.output.dense.bias', 'encoder.layer.1.output.dense.bias', 'encoder.layer.4.layernorm_after.weight', 'encoder.layer.4.attention.output.dense.weight', 'encoder.layer.7.layernorm_before.weight', 'encoder.layer.10.attention.attention.query.weight', 'encoder.layer.6.attention.attention.value.bias', 'encoder.layer.1.attention.attention.query.bias', 'encoder.layer.11.attention.attention.key.weight', 'encoder.layer.9.attention.attention.key.weight', 'encoder.layer.7.output.dense.weight', 'encoder.layer.0.layernorm_before.bias', 'encoder.layer.9.intermediate.dense.bias', 'encoder.layer.2.attention.attention.value.bias', 'encoder.layer.4.output.dense.bias', 'encoder.layer.8.output.dense.bias', 'encoder.layer.4.layernorm_before.bias', 'encoder.layer.6.intermediate.dense.weight', 'encoder.layer.6.intermediate.dense.bias', 'encoder.layer.10.layernorm_after.bias', 'encoder.layer.0.attention.attention.key.bias', 'encoder.layer.10.attention.output.dense.weight', 'encoder.layer.3.attention.attention.key.weight', 'encoder.layer.5.attention.attention.query.bias', 'encoder.layer.2.attention.attention.query.weight', 'encoder.layer.1.attention.attention.key.bias', 'encoder.layer.1.output.dense.weight', 'encoder.layer.4.attention.attention.value.bias', 'encoder.layer.6.output.dense.bias', 'encoder.layer.9.intermediate.dense.weight', 'encoder.layer.9.output.dense.weight', 'encoder.layer.2.attention.attention.key.weight', 'encoder.layer.7.layernorm_after.bias', 'encoder.layer.6.layernorm_after.weight', 'encoder.layer.10.attention.output.dense.bias', 'encoder.layer.5.intermediate.dense.weight', 'encoder.layer.3.output.dense.weight', 'encoder.layer.11.layernorm_after.weight', 'encoder.layer.3.layernorm_after.weight', 'encoder.layer.11.layernorm_after.bias', 'encoder.layer.11.attention.attention.value.weight', 'encoder.layer.2.attention.output.dense.bias', 'encoder.layer.6.attention.attention.key.bias', 'encoder.layer.8.layernorm_before.weight', 'encoder.layer.9.attention.attention.value.weight', 'encoder.layer.7.layernorm_after.weight', 'encoder.layer.3.layernorm_after.bias', 'encoder.layer.0.output.dense.weight', 'layernorm.bias', 'encoder.layer.7.attention.attention.value.weight', 'encoder.layer.7.intermediate.dense.bias', 'encoder.layer.2.intermediate.dense.weight', 'encoder.layer.1.layernorm_after.weight', 'encoder.layer.0.attention.attention.value.weight', 'encoder.layer.1.attention.attention.value.bias', 'encoder.layer.6.layernorm_before.weight', 'encoder.layer.10.intermediate.dense.bias', 'encoder.layer.3.layernorm_before.bias', 'encoder.layer.5.layernorm_before.bias', 'encoder.layer.8.attention.attention.query.weight', 'encoder.layer.6.attention.attention.value.weight', 'encoder.layer.0.intermediate.dense.weight', 'encoder.layer.10.layernorm_before.weight', 'encoder.layer.6.attention.attention.query.bias', 'encoder.layer.9.layernorm_after.weight', 'encoder.layer.4.attention.attention.query.weight', 'encoder.layer.8.attention.attention.key.weight', 'encoder.layer.3.attention.output.dense.weight', 'encoder.layer.9.attention.output.dense.weight', 'encoder.layer.6.attention.attention.query.weight', 'classifier.bias', 'encoder.layer.8.layernorm_before.bias', 'encoder.layer.11.layernorm_before.weight', 'encoder.layer.7.attention.output.dense.weight', 'encoder.layer.5.layernorm_after.bias', 'encoder.layer.11.intermediate.dense.weight', 'encoder.layer.0.layernorm_before.weight', 'encoder.layer.3.attention.output.dense.bias', 'encoder.layer.7.attention.attention.query.weight', 'encoder.layer.11.layernorm_before.bias', 'embeddings.position_embeddings', 'encoder.layer.10.attention.attention.query.bias', 'encoder.layer.10.output.dense.weight']\n",
      "You should probably TRAIN this model on a down-stream task to be able to use it for predictions and inference.\n"
     ]
    },
    {
     "name": "stdout",
     "output_type": "stream",
     "text": [
      "loading data...\n",
      "[[  1.  408.1 315.1]\n",
      " [  1.  640.7 519.1]\n",
      " [  1.  404.2 118.8]\n",
      " ...\n",
      " [177.  115.5 306.1]\n",
      " [177.  732.  310.3]\n",
      " [177.  632.2 353.6]]\n",
      "create dataloader...\n",
      "HI\n",
      "training...\n"
     ]
    },
    {
     "name": "stderr",
     "output_type": "stream",
     "text": [
      "2it [00:00,  2.74it/s]"
     ]
    },
    {
     "name": "stdout",
     "output_type": "stream",
     "text": [
      "Epoch 0, Batch 0, Loss: 168971.25 RMSE(mm): 205.5305634206261\n"
     ]
    },
    {
     "name": "stderr",
     "output_type": "stream",
     "text": [
      "102it [00:11,  9.57it/s]"
     ]
    },
    {
     "name": "stdout",
     "output_type": "stream",
     "text": [
      "Epoch 0, Batch 100, Loss: 59123.4609375 RMSE(mm): 121.57658176793342\n"
     ]
    },
    {
     "name": "stderr",
     "output_type": "stream",
     "text": [
      "202it [00:21,  9.56it/s]"
     ]
    },
    {
     "name": "stdout",
     "output_type": "stream",
     "text": [
      "Epoch 0, Batch 200, Loss: 29201.49609375 RMSE(mm): 85.44222623174971\n"
     ]
    },
    {
     "name": "stderr",
     "output_type": "stream",
     "text": [
      "236it [00:25,  9.31it/s]\n"
     ]
    },
    {
     "name": "stdout",
     "output_type": "stream",
     "text": [
      "Epoch 0, Val Loss: 26113.810467155614, RMSE(mm): 80.798840442106\n",
      "Epoch 0, test Loss: 25997.992570465685, RMSE(mm): 80.61946503553854\n"
     ]
    },
    {
     "name": "stderr",
     "output_type": "stream",
     "text": [
      "1it [00:00,  9.53it/s]"
     ]
    },
    {
     "name": "stdout",
     "output_type": "stream",
     "text": [
      "Epoch 1, Batch 0, Loss: 24346.408203125 RMSE(mm): 78.01667802964472\n"
     ]
    },
    {
     "name": "stderr",
     "output_type": "stream",
     "text": [
      "102it [00:10,  9.48it/s]"
     ]
    },
    {
     "name": "stdout",
     "output_type": "stream",
     "text": [
      "Epoch 1, Batch 100, Loss: 24639.396484375 RMSE(mm): 78.48470628787337\n"
     ]
    },
    {
     "name": "stderr",
     "output_type": "stream",
     "text": [
      "203it [00:21,  9.50it/s]"
     ]
    },
    {
     "name": "stdout",
     "output_type": "stream",
     "text": [
      "Epoch 1, Batch 200, Loss: 22416.87890625 RMSE(mm): 74.86133666027143\n"
     ]
    },
    {
     "name": "stderr",
     "output_type": "stream",
     "text": [
      "236it [00:24,  9.44it/s]\n"
     ]
    },
    {
     "name": "stdout",
     "output_type": "stream",
     "text": [
      "Epoch 1, Val Loss: 20477.15915975765, RMSE(mm): 71.54921236421414\n",
      "Epoch 1, test Loss: 19906.413105085783, RMSE(mm): 70.54504430696352\n"
     ]
    },
    {
     "name": "stderr",
     "output_type": "stream",
     "text": [
      "1it [00:00,  9.72it/s]"
     ]
    },
    {
     "name": "stdout",
     "output_type": "stream",
     "text": [
      "Epoch 2, Batch 0, Loss: 18775.8125 RMSE(mm): 68.51243044148995\n"
     ]
    },
    {
     "name": "stderr",
     "output_type": "stream",
     "text": [
      "102it [00:10,  9.45it/s]"
     ]
    },
    {
     "name": "stdout",
     "output_type": "stream",
     "text": [
      "Epoch 2, Batch 100, Loss: 18590.25390625 RMSE(mm): 68.17304068737509\n"
     ]
    },
    {
     "name": "stderr",
     "output_type": "stream",
     "text": [
      "202it [00:21,  9.44it/s]"
     ]
    },
    {
     "name": "stdout",
     "output_type": "stream",
     "text": [
      "Epoch 2, Batch 200, Loss: 19786.6484375 RMSE(mm): 70.33251104130294\n"
     ]
    },
    {
     "name": "stderr",
     "output_type": "stream",
     "text": [
      "236it [00:25,  9.43it/s]\n"
     ]
    },
    {
     "name": "stdout",
     "output_type": "stream",
     "text": [
      "Epoch 2, Val Loss: 17271.25189333546, RMSE(mm): 65.71006751886551\n",
      "Epoch 2, test Loss: 15914.71622242647, RMSE(mm): 63.07677112540414\n"
     ]
    },
    {
     "name": "stderr",
     "output_type": "stream",
     "text": [
      "1it [00:00,  9.57it/s]"
     ]
    },
    {
     "name": "stdout",
     "output_type": "stream",
     "text": [
      "Epoch 3, Batch 0, Loss: 14509.8115234375 RMSE(mm): 60.22833951603992\n"
     ]
    },
    {
     "name": "stderr",
     "output_type": "stream",
     "text": [
      "102it [00:10,  9.36it/s]"
     ]
    },
    {
     "name": "stdout",
     "output_type": "stream",
     "text": [
      "Epoch 3, Batch 100, Loss: 14506.4921875 RMSE(mm): 60.22145005622996\n"
     ]
    },
    {
     "name": "stderr",
     "output_type": "stream",
     "text": [
      "202it [00:21,  9.46it/s]"
     ]
    },
    {
     "name": "stdout",
     "output_type": "stream",
     "text": [
      "Epoch 3, Batch 200, Loss: 16542.4453125 RMSE(mm): 64.30871891217396\n"
     ]
    },
    {
     "name": "stderr",
     "output_type": "stream",
     "text": [
      "236it [00:25,  9.42it/s]\n"
     ]
    },
    {
     "name": "stdout",
     "output_type": "stream",
     "text": [
      "Epoch 3, Val Loss: 16507.806640625, RMSE(mm): 64.24135475031835\n",
      "Epoch 3, test Loss: 14006.078105851715, RMSE(mm): 59.17363877997472\n"
     ]
    },
    {
     "name": "stderr",
     "output_type": "stream",
     "text": [
      "1it [00:00,  9.48it/s]"
     ]
    },
    {
     "name": "stdout",
     "output_type": "stream",
     "text": [
      "Epoch 4, Batch 0, Loss: 13114.796875 RMSE(mm): 57.259926814046835\n"
     ]
    },
    {
     "name": "stderr",
     "output_type": "stream",
     "text": [
      "102it [00:10,  9.54it/s]"
     ]
    },
    {
     "name": "stdout",
     "output_type": "stream",
     "text": [
      "Epoch 4, Batch 100, Loss: 13601.70703125 RMSE(mm): 58.31317825168253\n"
     ]
    },
    {
     "name": "stderr",
     "output_type": "stream",
     "text": [
      "202it [00:21,  9.34it/s]"
     ]
    },
    {
     "name": "stdout",
     "output_type": "stream",
     "text": [
      "Epoch 4, Batch 200, Loss: 15170.4423828125 RMSE(mm): 61.58417488042789\n"
     ]
    },
    {
     "name": "stderr",
     "output_type": "stream",
     "text": [
      "236it [00:25,  9.39it/s]\n"
     ]
    },
    {
     "name": "stdout",
     "output_type": "stream",
     "text": [
      "Epoch 4, Val Loss: 16398.361926020407, RMSE(mm): 64.02804449227777\n",
      "Epoch 4, test Loss: 13563.761125153187, RMSE(mm): 58.23178068107051\n"
     ]
    },
    {
     "name": "stderr",
     "output_type": "stream",
     "text": [
      "1it [00:00,  9.64it/s]"
     ]
    },
    {
     "name": "stdout",
     "output_type": "stream",
     "text": [
      "Epoch 5, Batch 0, Loss: 12652.6171875 RMSE(mm): 56.24192650394366\n"
     ]
    },
    {
     "name": "stderr",
     "output_type": "stream",
     "text": [
      "103it [00:10,  9.41it/s]"
     ]
    },
    {
     "name": "stdout",
     "output_type": "stream",
     "text": [
      "Epoch 5, Batch 100, Loss: 13493.470703125 RMSE(mm): 58.08069968398495\n"
     ]
    },
    {
     "name": "stderr",
     "output_type": "stream",
     "text": [
      "202it [00:21,  9.36it/s]"
     ]
    },
    {
     "name": "stdout",
     "output_type": "stream",
     "text": [
      "Epoch 5, Batch 200, Loss: 14850.3447265625 RMSE(mm): 60.930995245774746\n"
     ]
    },
    {
     "name": "stderr",
     "output_type": "stream",
     "text": [
      "236it [00:25,  9.42it/s]\n"
     ]
    },
    {
     "name": "stdout",
     "output_type": "stream",
     "text": [
      "Epoch 5, Val Loss: 16473.513273278062, RMSE(mm): 64.17459246710894\n",
      "Epoch 5, test Loss: 13419.410079656862, RMSE(mm): 57.921088732120836\n"
     ]
    },
    {
     "name": "stderr",
     "output_type": "stream",
     "text": [
      "1it [00:00,  9.53it/s]"
     ]
    },
    {
     "name": "stdout",
     "output_type": "stream",
     "text": [
      "Epoch 6, Batch 0, Loss: 11888.017578125 RMSE(mm): 54.51609298667\n"
     ]
    },
    {
     "name": "stderr",
     "output_type": "stream",
     "text": [
      "102it [00:10,  9.43it/s]"
     ]
    },
    {
     "name": "stdout",
     "output_type": "stream",
     "text": [
      "Epoch 6, Batch 100, Loss: 14462.455078125 RMSE(mm): 60.12997396915493\n"
     ]
    },
    {
     "name": "stderr",
     "output_type": "stream",
     "text": [
      "202it [00:21,  9.44it/s]"
     ]
    },
    {
     "name": "stdout",
     "output_type": "stream",
     "text": [
      "Epoch 6, Batch 200, Loss: 11859.8046875 RMSE(mm): 54.451365197532006\n"
     ]
    },
    {
     "name": "stderr",
     "output_type": "stream",
     "text": [
      "236it [00:25,  9.42it/s]\n"
     ]
    },
    {
     "name": "stdout",
     "output_type": "stream",
     "text": [
      "Epoch 6, Val Loss: 15924.632015306122, RMSE(mm): 63.096418312187346\n",
      "Epoch 6, test Loss: 13020.696480545343, RMSE(mm): 57.054133243230815\n"
     ]
    },
    {
     "name": "stderr",
     "output_type": "stream",
     "text": [
      "2it [00:00,  9.38it/s]"
     ]
    },
    {
     "name": "stdout",
     "output_type": "stream",
     "text": [
      "Epoch 7, Batch 0, Loss: 11343.259765625 RMSE(mm): 53.25237028908901\n"
     ]
    },
    {
     "name": "stderr",
     "output_type": "stream",
     "text": [
      "103it [00:10,  9.59it/s]"
     ]
    },
    {
     "name": "stdout",
     "output_type": "stream",
     "text": [
      "Epoch 7, Batch 100, Loss: 14273.8984375 RMSE(mm): 59.73671073448052\n"
     ]
    },
    {
     "name": "stderr",
     "output_type": "stream",
     "text": [
      "202it [00:21,  9.54it/s]"
     ]
    },
    {
     "name": "stdout",
     "output_type": "stream",
     "text": [
      "Epoch 7, Batch 200, Loss: 11716.759765625 RMSE(mm): 54.12199129195312\n"
     ]
    },
    {
     "name": "stderr",
     "output_type": "stream",
     "text": [
      "236it [00:24,  9.52it/s]\n"
     ]
    },
    {
     "name": "stdout",
     "output_type": "stream",
     "text": [
      "Epoch 7, Val Loss: 15951.088847257653, RMSE(mm): 63.148810058578405\n",
      "Epoch 7, test Loss: 13002.025543811274, RMSE(mm): 57.01321238057735\n"
     ]
    },
    {
     "name": "stderr",
     "output_type": "stream",
     "text": [
      "1it [00:00,  9.40it/s]"
     ]
    },
    {
     "name": "stdout",
     "output_type": "stream",
     "text": [
      "Epoch 8, Batch 0, Loss: 11175.953125 RMSE(mm): 52.8581902948824\n"
     ]
    },
    {
     "name": "stderr",
     "output_type": "stream",
     "text": [
      "103it [00:10,  9.35it/s]"
     ]
    },
    {
     "name": "stdout",
     "output_type": "stream",
     "text": [
      "Epoch 8, Batch 100, Loss: 14000.884765625 RMSE(mm): 59.1626672100426\n"
     ]
    },
    {
     "name": "stderr",
     "output_type": "stream",
     "text": [
      "202it [00:21,  9.53it/s]"
     ]
    },
    {
     "name": "stdout",
     "output_type": "stream",
     "text": [
      "Epoch 8, Batch 200, Loss: 11509.5146484375 RMSE(mm): 53.64120302630595\n"
     ]
    },
    {
     "name": "stderr",
     "output_type": "stream",
     "text": [
      "236it [00:24,  9.52it/s]\n"
     ]
    },
    {
     "name": "stdout",
     "output_type": "stream",
     "text": [
      "Epoch 8, Val Loss: 16029.092195471938, RMSE(mm): 63.30302559015631\n",
      "Epoch 8, test Loss: 13008.29279641544, RMSE(mm): 57.026951515085045\n"
     ]
    },
    {
     "name": "stderr",
     "output_type": "stream",
     "text": [
      "1it [00:00,  9.46it/s]"
     ]
    },
    {
     "name": "stdout",
     "output_type": "stream",
     "text": [
      "Epoch 9, Batch 0, Loss: 10690.4228515625 RMSE(mm): 51.69725053511671\n"
     ]
    },
    {
     "name": "stderr",
     "output_type": "stream",
     "text": [
      "102it [00:10,  9.35it/s]"
     ]
    },
    {
     "name": "stdout",
     "output_type": "stream",
     "text": [
      "Epoch 9, Batch 100, Loss: 14013.283203125 RMSE(mm): 59.188857066015814\n"
     ]
    },
    {
     "name": "stderr",
     "output_type": "stream",
     "text": [
      "202it [00:21,  9.44it/s]"
     ]
    },
    {
     "name": "stdout",
     "output_type": "stream",
     "text": [
      "Epoch 9, Batch 200, Loss: 11265.162109375 RMSE(mm): 53.06873399039919\n"
     ]
    },
    {
     "name": "stderr",
     "output_type": "stream",
     "text": [
      "236it [00:25,  9.42it/s]\n"
     ]
    },
    {
     "name": "stdout",
     "output_type": "stream",
     "text": [
      "Epoch 9, Val Loss: 16092.112005739797, RMSE(mm): 63.42734427228488\n",
      "Epoch 9, test Loss: 13060.152822457108, RMSE(mm): 57.14051282246491\n"
     ]
    },
    {
     "name": "stderr",
     "output_type": "stream",
     "text": [
      "1it [00:00,  9.49it/s]"
     ]
    },
    {
     "name": "stdout",
     "output_type": "stream",
     "text": [
      "Epoch 10, Batch 0, Loss: 10433.140625 RMSE(mm): 51.071373158061846\n"
     ]
    },
    {
     "name": "stderr",
     "output_type": "stream",
     "text": [
      "102it [00:10,  9.53it/s]"
     ]
    },
    {
     "name": "stdout",
     "output_type": "stream",
     "text": [
      "Epoch 10, Batch 100, Loss: 13700.083984375 RMSE(mm): 58.52367893505799\n"
     ]
    },
    {
     "name": "stderr",
     "output_type": "stream",
     "text": [
      "202it [00:21,  9.51it/s]"
     ]
    },
    {
     "name": "stdout",
     "output_type": "stream",
     "text": [
      "Epoch 10, Batch 200, Loss: 11172.828125 RMSE(mm): 52.85079972195312\n"
     ]
    },
    {
     "name": "stderr",
     "output_type": "stream",
     "text": [
      "236it [00:24,  9.51it/s]\n"
     ]
    },
    {
     "name": "stdout",
     "output_type": "stream",
     "text": [
      "Epoch 10, Val Loss: 16200.169304049745, RMSE(mm): 63.639942850480594\n",
      "Epoch 10, test Loss: 13123.330901501226, RMSE(mm): 57.27855379961427\n"
     ]
    },
    {
     "name": "stderr",
     "output_type": "stream",
     "text": [
      "1it [00:00,  9.60it/s]"
     ]
    },
    {
     "name": "stdout",
     "output_type": "stream",
     "text": [
      "Epoch 11, Batch 0, Loss: 10368.927734375 RMSE(mm): 50.913965997491786\n"
     ]
    },
    {
     "name": "stderr",
     "output_type": "stream",
     "text": [
      "102it [00:10,  9.52it/s]"
     ]
    },
    {
     "name": "stdout",
     "output_type": "stream",
     "text": [
      "Epoch 11, Batch 100, Loss: 13382.837890625 RMSE(mm): 57.84210812769751\n"
     ]
    },
    {
     "name": "stderr",
     "output_type": "stream",
     "text": [
      "202it [00:21,  9.51it/s]"
     ]
    },
    {
     "name": "stdout",
     "output_type": "stream",
     "text": [
      "Epoch 11, Batch 200, Loss: 11082.3935546875 RMSE(mm): 52.636473938438115\n"
     ]
    },
    {
     "name": "stderr",
     "output_type": "stream",
     "text": [
      "236it [00:24,  9.51it/s]\n"
     ]
    },
    {
     "name": "stdout",
     "output_type": "stream",
     "text": [
      "Epoch 11, Val Loss: 16283.18470982143, RMSE(mm): 63.8027912983073\n",
      "Epoch 11, test Loss: 13171.335650275736, RMSE(mm): 57.38321978217094\n"
     ]
    },
    {
     "name": "stderr",
     "output_type": "stream",
     "text": [
      "1it [00:00,  9.47it/s]"
     ]
    },
    {
     "name": "stdout",
     "output_type": "stream",
     "text": [
      "Epoch 12, Batch 0, Loss: 10165.23046875 RMSE(mm): 50.41138380552056\n"
     ]
    },
    {
     "name": "stderr",
     "output_type": "stream",
     "text": [
      "102it [00:10,  9.46it/s]"
     ]
    },
    {
     "name": "stdout",
     "output_type": "stream",
     "text": [
      "Epoch 12, Batch 100, Loss: 12932.4130859375 RMSE(mm): 56.86038402512223\n"
     ]
    },
    {
     "name": "stderr",
     "output_type": "stream",
     "text": [
      "202it [00:21,  9.53it/s]"
     ]
    },
    {
     "name": "stdout",
     "output_type": "stream",
     "text": [
      "Epoch 12, Batch 200, Loss: 11101.638671875 RMSE(mm): 52.68215701704658\n"
     ]
    },
    {
     "name": "stderr",
     "output_type": "stream",
     "text": [
      "236it [00:24,  9.50it/s]\n"
     ]
    },
    {
     "name": "stdout",
     "output_type": "stream",
     "text": [
      "Epoch 12, Val Loss: 16304.198979591836, RMSE(mm): 63.8439483811736\n",
      "Epoch 12, test Loss: 13122.176374846813, RMSE(mm): 57.27603420028051\n"
     ]
    },
    {
     "name": "stderr",
     "output_type": "stream",
     "text": [
      "1it [00:00,  9.72it/s]"
     ]
    },
    {
     "name": "stdout",
     "output_type": "stream",
     "text": [
      "Epoch 13, Batch 0, Loss: 10212.791015625 RMSE(mm): 50.52917725340726\n"
     ]
    },
    {
     "name": "stderr",
     "output_type": "stream",
     "text": [
      "102it [00:10,  9.50it/s]"
     ]
    },
    {
     "name": "stdout",
     "output_type": "stream",
     "text": [
      "Epoch 13, Batch 100, Loss: 12886.2548828125 RMSE(mm): 56.758820642285414\n"
     ]
    },
    {
     "name": "stderr",
     "output_type": "stream",
     "text": [
      "202it [00:21,  9.58it/s]"
     ]
    },
    {
     "name": "stdout",
     "output_type": "stream",
     "text": [
      "Epoch 13, Batch 200, Loss: 11169.2841796875 RMSE(mm): 52.842417099541116\n"
     ]
    },
    {
     "name": "stderr",
     "output_type": "stream",
     "text": [
      "236it [00:24,  9.50it/s]\n"
     ]
    },
    {
     "name": "stdout",
     "output_type": "stream",
     "text": [
      "Epoch 13, Val Loss: 16335.779197225766, RMSE(mm): 63.90574934469074\n",
      "Epoch 13, test Loss: 13135.421338848038, RMSE(mm): 57.304932900335984\n"
     ]
    },
    {
     "name": "stderr",
     "output_type": "stream",
     "text": [
      "1it [00:00,  9.56it/s]"
     ]
    },
    {
     "name": "stdout",
     "output_type": "stream",
     "text": [
      "Epoch 14, Batch 0, Loss: 10364.43359375 RMSE(mm): 50.90293113797574\n"
     ]
    },
    {
     "name": "stderr",
     "output_type": "stream",
     "text": [
      "102it [00:10,  9.52it/s]"
     ]
    },
    {
     "name": "stdout",
     "output_type": "stream",
     "text": [
      "Epoch 14, Batch 100, Loss: 13071.93359375 RMSE(mm): 57.16627850785374\n"
     ]
    },
    {
     "name": "stderr",
     "output_type": "stream",
     "text": [
      "202it [00:21,  9.50it/s]"
     ]
    },
    {
     "name": "stdout",
     "output_type": "stream",
     "text": [
      "Epoch 14, Batch 200, Loss: 10957.1982421875 RMSE(mm): 52.33831828160774\n"
     ]
    },
    {
     "name": "stderr",
     "output_type": "stream",
     "text": [
      "236it [00:24,  9.50it/s]\n"
     ]
    },
    {
     "name": "stdout",
     "output_type": "stream",
     "text": [
      "Epoch 14, Val Loss: 16359.79213169643, RMSE(mm): 63.95270152952186\n",
      "Epoch 14, test Loss: 13148.003657322304, RMSE(mm): 57.33237230684403\n"
     ]
    },
    {
     "name": "stderr",
     "output_type": "stream",
     "text": [
      "1it [00:00,  9.56it/s]"
     ]
    },
    {
     "name": "stdout",
     "output_type": "stream",
     "text": [
      "Epoch 15, Batch 0, Loss: 10256.84765625 RMSE(mm): 50.63804808701161\n"
     ]
    },
    {
     "name": "stderr",
     "output_type": "stream",
     "text": [
      "102it [00:10,  9.43it/s]"
     ]
    },
    {
     "name": "stdout",
     "output_type": "stream",
     "text": [
      "Epoch 15, Batch 100, Loss: 12976.494140625 RMSE(mm): 56.957207929780495\n"
     ]
    },
    {
     "name": "stderr",
     "output_type": "stream",
     "text": [
      "202it [00:21,  9.55it/s]"
     ]
    },
    {
     "name": "stdout",
     "output_type": "stream",
     "text": [
      "Epoch 15, Batch 200, Loss: 11195.73046875 RMSE(mm): 52.90493944035377\n"
     ]
    },
    {
     "name": "stderr",
     "output_type": "stream",
     "text": [
      "236it [00:24,  9.52it/s]\n"
     ]
    },
    {
     "name": "stdout",
     "output_type": "stream",
     "text": [
      "Epoch 15, Val Loss: 16378.465640943878, RMSE(mm): 63.989189791995095\n",
      "Epoch 15, test Loss: 13155.248200061274, RMSE(mm): 57.34816518438335\n"
     ]
    },
    {
     "name": "stderr",
     "output_type": "stream",
     "text": [
      "1it [00:00,  9.43it/s]"
     ]
    },
    {
     "name": "stdout",
     "output_type": "stream",
     "text": [
      "Epoch 16, Batch 0, Loss: 10260.650390625 RMSE(mm): 50.64743426528386\n"
     ]
    },
    {
     "name": "stderr",
     "output_type": "stream",
     "text": [
      "102it [00:10,  9.43it/s]"
     ]
    },
    {
     "name": "stdout",
     "output_type": "stream",
     "text": [
      "Epoch 16, Batch 100, Loss: 12961.521484375 RMSE(mm): 56.92433900445178\n"
     ]
    },
    {
     "name": "stderr",
     "output_type": "stream",
     "text": [
      "202it [00:21,  9.55it/s]"
     ]
    },
    {
     "name": "stdout",
     "output_type": "stream",
     "text": [
      "Epoch 16, Batch 200, Loss: 11254.8017578125 RMSE(mm): 53.04432523327189\n"
     ]
    },
    {
     "name": "stderr",
     "output_type": "stream",
     "text": [
      "236it [00:24,  9.50it/s]\n"
     ]
    },
    {
     "name": "stdout",
     "output_type": "stream",
     "text": [
      "Epoch 16, Val Loss: 16395.38919005102, RMSE(mm): 64.02224064739343\n",
      "Epoch 16, test Loss: 13163.02468213848, RMSE(mm): 57.36511283467174\n"
     ]
    },
    {
     "name": "stderr",
     "output_type": "stream",
     "text": [
      "1it [00:00,  9.72it/s]"
     ]
    },
    {
     "name": "stdout",
     "output_type": "stream",
     "text": [
      "Epoch 17, Batch 0, Loss: 10319.486328125 RMSE(mm): 50.79243626792527\n"
     ]
    },
    {
     "name": "stderr",
     "output_type": "stream",
     "text": [
      "102it [00:10,  9.56it/s]"
     ]
    },
    {
     "name": "stdout",
     "output_type": "stream",
     "text": [
      "Epoch 17, Batch 100, Loss: 12895.9833984375 RMSE(mm): 56.780241718483154\n"
     ]
    },
    {
     "name": "stderr",
     "output_type": "stream",
     "text": [
      "202it [00:21,  9.51it/s]"
     ]
    },
    {
     "name": "stdout",
     "output_type": "stream",
     "text": [
      "Epoch 17, Batch 200, Loss: 11106.15625 RMSE(mm): 52.69287487412316\n"
     ]
    },
    {
     "name": "stderr",
     "output_type": "stream",
     "text": [
      "236it [00:24,  9.52it/s]\n"
     ]
    },
    {
     "name": "stdout",
     "output_type": "stream",
     "text": [
      "Epoch 17, Val Loss: 16416.75655691964, RMSE(mm): 64.06394570450614\n",
      "Epoch 17, test Loss: 13173.050283394608, RMSE(mm): 57.386954709660735\n"
     ]
    },
    {
     "name": "stderr",
     "output_type": "stream",
     "text": [
      "1it [00:00,  9.45it/s]"
     ]
    },
    {
     "name": "stdout",
     "output_type": "stream",
     "text": [
      "Epoch 18, Batch 0, Loss: 10352.294921875 RMSE(mm): 50.87311402370362\n"
     ]
    },
    {
     "name": "stderr",
     "output_type": "stream",
     "text": [
      "102it [00:10,  9.56it/s]"
     ]
    },
    {
     "name": "stdout",
     "output_type": "stream",
     "text": [
      "Epoch 18, Batch 100, Loss: 12646.2412109375 RMSE(mm): 56.227753847493986\n"
     ]
    },
    {
     "name": "stderr",
     "output_type": "stream",
     "text": [
      "202it [00:21,  9.46it/s]"
     ]
    },
    {
     "name": "stdout",
     "output_type": "stream",
     "text": [
      "Epoch 18, Batch 200, Loss: 10891.4267578125 RMSE(mm): 52.18099931443557\n"
     ]
    },
    {
     "name": "stderr",
     "output_type": "stream",
     "text": [
      "236it [00:24,  9.55it/s]\n"
     ]
    },
    {
     "name": "stdout",
     "output_type": "stream",
     "text": [
      "Epoch 18, Val Loss: 16425.412587691328, RMSE(mm): 64.08083291377253\n",
      "Epoch 18, test Loss: 13177.20915670956, RMSE(mm): 57.396012833448545\n"
     ]
    },
    {
     "name": "stderr",
     "output_type": "stream",
     "text": [
      "1it [00:00,  9.57it/s]"
     ]
    },
    {
     "name": "stdout",
     "output_type": "stream",
     "text": [
      "Epoch 19, Batch 0, Loss: 10247.3154296875 RMSE(mm): 50.61451232030073\n"
     ]
    },
    {
     "name": "stderr",
     "output_type": "stream",
     "text": [
      "103it [00:10,  9.61it/s]"
     ]
    },
    {
     "name": "stdout",
     "output_type": "stream",
     "text": [
      "Epoch 19, Batch 100, Loss: 12733.1865234375 RMSE(mm): 56.42071100987097\n"
     ]
    },
    {
     "name": "stderr",
     "output_type": "stream",
     "text": [
      "202it [00:21,  9.52it/s]"
     ]
    },
    {
     "name": "stdout",
     "output_type": "stream",
     "text": [
      "Epoch 19, Batch 200, Loss: 10935.7275390625 RMSE(mm): 52.287014494668036\n"
     ]
    },
    {
     "name": "stderr",
     "output_type": "stream",
     "text": [
      "236it [00:24,  9.54it/s]\n"
     ]
    },
    {
     "name": "stdout",
     "output_type": "stream",
     "text": [
      "Epoch 19, Val Loss: 16432.44160554847, RMSE(mm): 64.09454268022448\n",
      "Epoch 19, test Loss: 13181.572571997549, RMSE(mm): 57.405514917988384\n"
     ]
    },
    {
     "name": "stderr",
     "output_type": "stream",
     "text": [
      "2it [00:00,  9.62it/s]"
     ]
    },
    {
     "name": "stdout",
     "output_type": "stream",
     "text": [
      "Epoch 20, Batch 0, Loss: 10072.4765625 RMSE(mm): 50.18086428734563\n"
     ]
    },
    {
     "name": "stderr",
     "output_type": "stream",
     "text": [
      "102it [00:10,  9.54it/s]"
     ]
    },
    {
     "name": "stdout",
     "output_type": "stream",
     "text": [
      "Epoch 20, Batch 100, Loss: 12836.927734375 RMSE(mm): 56.65008326201957\n"
     ]
    },
    {
     "name": "stderr",
     "output_type": "stream",
     "text": [
      "202it [00:21,  9.59it/s]"
     ]
    },
    {
     "name": "stdout",
     "output_type": "stream",
     "text": [
      "Epoch 20, Batch 200, Loss: 10931.09765625 RMSE(mm): 52.27594488923658\n"
     ]
    },
    {
     "name": "stderr",
     "output_type": "stream",
     "text": [
      "236it [00:24,  9.54it/s]\n"
     ]
    },
    {
     "name": "stdout",
     "output_type": "stream",
     "text": [
      "Epoch 20, Val Loss: 16436.963508450255, RMSE(mm): 64.1033608878081\n",
      "Epoch 20, test Loss: 13183.785213694853, RMSE(mm): 57.41033272350643\n"
     ]
    },
    {
     "name": "stderr",
     "output_type": "stream",
     "text": [
      "1it [00:00,  9.70it/s]"
     ]
    },
    {
     "name": "stdout",
     "output_type": "stream",
     "text": [
      "Epoch 21, Batch 0, Loss: 10117.2822265625 RMSE(mm): 50.292350876058926\n"
     ]
    },
    {
     "name": "stderr",
     "output_type": "stream",
     "text": [
      "102it [00:10,  9.48it/s]"
     ]
    },
    {
     "name": "stdout",
     "output_type": "stream",
     "text": [
      "Epoch 21, Batch 100, Loss: 12853.6220703125 RMSE(mm): 56.68690781457501\n"
     ]
    },
    {
     "name": "stderr",
     "output_type": "stream",
     "text": [
      "203it [00:21,  9.55it/s]"
     ]
    },
    {
     "name": "stdout",
     "output_type": "stream",
     "text": [
      "Epoch 21, Batch 200, Loss: 10941.091796875 RMSE(mm): 52.29983699036499\n"
     ]
    },
    {
     "name": "stderr",
     "output_type": "stream",
     "text": [
      "236it [00:24,  9.48it/s]\n"
     ]
    },
    {
     "name": "stdout",
     "output_type": "stream",
     "text": [
      "Epoch 21, Val Loss: 16441.61690848214, RMSE(mm): 64.11243426294571\n",
      "Epoch 21, test Loss: 13186.311274509804, RMSE(mm): 57.4158324735212\n"
     ]
    },
    {
     "name": "stderr",
     "output_type": "stream",
     "text": [
      "1it [00:00,  9.63it/s]"
     ]
    },
    {
     "name": "stdout",
     "output_type": "stream",
     "text": [
      "Epoch 22, Batch 0, Loss: 10225.0322265625 RMSE(mm): 50.55945071537689\n"
     ]
    },
    {
     "name": "stderr",
     "output_type": "stream",
     "text": [
      "102it [00:10,  9.54it/s]"
     ]
    },
    {
     "name": "stdout",
     "output_type": "stream",
     "text": [
      "Epoch 22, Batch 100, Loss: 12700.0654296875 RMSE(mm): 56.34728349638406\n"
     ]
    },
    {
     "name": "stderr",
     "output_type": "stream",
     "text": [
      "202it [00:21,  9.53it/s]"
     ]
    },
    {
     "name": "stdout",
     "output_type": "stream",
     "text": [
      "Epoch 22, Batch 200, Loss: 11035.76171875 RMSE(mm): 52.525616890118485\n"
     ]
    },
    {
     "name": "stderr",
     "output_type": "stream",
     "text": [
      "236it [00:24,  9.53it/s]\n"
     ]
    },
    {
     "name": "stdout",
     "output_type": "stream",
     "text": [
      "Epoch 22, Val Loss: 16446.22662228954, RMSE(mm): 64.1214211911463\n",
      "Epoch 22, test Loss: 13189.137791053921, RMSE(mm): 57.42198575252758\n"
     ]
    },
    {
     "name": "stderr",
     "output_type": "stream",
     "text": [
      "1it [00:00,  9.61it/s]"
     ]
    },
    {
     "name": "stdout",
     "output_type": "stream",
     "text": [
      "Epoch 23, Batch 0, Loss: 10151.646484375 RMSE(mm): 50.37768971572386\n"
     ]
    },
    {
     "name": "stderr",
     "output_type": "stream",
     "text": [
      "102it [00:10,  9.43it/s]"
     ]
    },
    {
     "name": "stdout",
     "output_type": "stream",
     "text": [
      "Epoch 23, Batch 100, Loss: 12589.26171875 RMSE(mm): 56.1009396506645\n"
     ]
    },
    {
     "name": "stderr",
     "output_type": "stream",
     "text": [
      "202it [00:21,  9.51it/s]"
     ]
    },
    {
     "name": "stdout",
     "output_type": "stream",
     "text": [
      "Epoch 23, Batch 200, Loss: 10987.4287109375 RMSE(mm): 52.410468207547765\n"
     ]
    },
    {
     "name": "stderr",
     "output_type": "stream",
     "text": [
      "236it [00:24,  9.54it/s]\n"
     ]
    },
    {
     "name": "stdout",
     "output_type": "stream",
     "text": [
      "Epoch 23, Val Loss: 16450.16288663903, RMSE(mm): 64.12909419023286\n",
      "Epoch 23, test Loss: 13191.511757046568, RMSE(mm): 57.42715332716434\n"
     ]
    },
    {
     "name": "stderr",
     "output_type": "stream",
     "text": [
      "1it [00:00,  9.65it/s]"
     ]
    },
    {
     "name": "stdout",
     "output_type": "stream",
     "text": [
      "Epoch 24, Batch 0, Loss: 10316.314453125 RMSE(mm): 50.784629695226194\n"
     ]
    },
    {
     "name": "stderr",
     "output_type": "stream",
     "text": [
      "102it [00:10,  9.55it/s]"
     ]
    },
    {
     "name": "stdout",
     "output_type": "stream",
     "text": [
      "Epoch 24, Batch 100, Loss: 12784.263671875 RMSE(mm): 56.53375909992852\n"
     ]
    },
    {
     "name": "stderr",
     "output_type": "stream",
     "text": [
      "202it [00:21,  9.37it/s]"
     ]
    },
    {
     "name": "stdout",
     "output_type": "stream",
     "text": [
      "Epoch 24, Batch 200, Loss: 11042.306640625 RMSE(mm): 52.54119012885271\n"
     ]
    },
    {
     "name": "stderr",
     "output_type": "stream",
     "text": [
      "236it [00:24,  9.53it/s]\n"
     ]
    },
    {
     "name": "stdout",
     "output_type": "stream",
     "text": [
      "Epoch 24, Val Loss: 16450.39913504464, RMSE(mm): 64.12955468238619\n",
      "Epoch 24, test Loss: 13191.75017233456, RMSE(mm): 57.42767227638292\n"
     ]
    },
    {
     "name": "stderr",
     "output_type": "stream",
     "text": [
      "2it [00:00,  9.55it/s]"
     ]
    },
    {
     "name": "stdout",
     "output_type": "stream",
     "text": [
      "Epoch 25, Batch 0, Loss: 10238.828125 RMSE(mm): 50.59354732819196\n"
     ]
    },
    {
     "name": "stderr",
     "output_type": "stream",
     "text": [
      "102it [00:10,  9.42it/s]"
     ]
    },
    {
     "name": "stdout",
     "output_type": "stream",
     "text": [
      "Epoch 25, Batch 100, Loss: 12892.033203125 RMSE(mm): 56.77154481587805\n"
     ]
    },
    {
     "name": "stderr",
     "output_type": "stream",
     "text": [
      "202it [00:21,  9.42it/s]"
     ]
    },
    {
     "name": "stdout",
     "output_type": "stream",
     "text": [
      "Epoch 25, Batch 200, Loss: 10994.13671875 RMSE(mm): 52.42646449730804\n"
     ]
    },
    {
     "name": "stderr",
     "output_type": "stream",
     "text": [
      "236it [00:25,  9.39it/s]\n"
     ]
    },
    {
     "name": "stdout",
     "output_type": "stream",
     "text": [
      "Epoch 25, Val Loss: 16450.764787946428, RMSE(mm): 64.13026740148997\n",
      "Epoch 25, test Loss: 13191.973441329657, RMSE(mm): 57.428158253006984\n"
     ]
    },
    {
     "name": "stderr",
     "output_type": "stream",
     "text": [
      "1it [00:00,  9.83it/s]"
     ]
    },
    {
     "name": "stdout",
     "output_type": "stream",
     "text": [
      "Epoch 26, Batch 0, Loss: 10360.2900390625 RMSE(mm): 50.892754983058495\n"
     ]
    },
    {
     "name": "stderr",
     "output_type": "stream",
     "text": [
      "103it [00:10,  9.37it/s]"
     ]
    },
    {
     "name": "stdout",
     "output_type": "stream",
     "text": [
      "Epoch 26, Batch 100, Loss: 12761.0703125 RMSE(mm): 56.48245371905332\n"
     ]
    },
    {
     "name": "stderr",
     "output_type": "stream",
     "text": [
      "202it [00:21,  9.41it/s]"
     ]
    },
    {
     "name": "stdout",
     "output_type": "stream",
     "text": [
      "Epoch 26, Batch 200, Loss: 11172.3701171875 RMSE(mm): 52.8497164542713\n"
     ]
    },
    {
     "name": "stderr",
     "output_type": "stream",
     "text": [
      "236it [00:25,  9.41it/s]\n"
     ]
    },
    {
     "name": "stdout",
     "output_type": "stream",
     "text": [
      "Epoch 26, Val Loss: 16451.072026466838, RMSE(mm): 64.13086625500009\n",
      "Epoch 26, test Loss: 13192.155694699755, RMSE(mm): 57.42855495025918\n"
     ]
    },
    {
     "name": "stderr",
     "output_type": "stream",
     "text": [
      "1it [00:00,  9.51it/s]"
     ]
    },
    {
     "name": "stdout",
     "output_type": "stream",
     "text": [
      "Epoch 27, Batch 0, Loss: 10274.7861328125 RMSE(mm): 50.68230986451905\n"
     ]
    },
    {
     "name": "stderr",
     "output_type": "stream",
     "text": [
      "102it [00:10,  9.29it/s]"
     ]
    },
    {
     "name": "stdout",
     "output_type": "stream",
     "text": [
      "Epoch 27, Batch 100, Loss: 12673.587890625 RMSE(mm): 56.28851545969435\n"
     ]
    },
    {
     "name": "stderr",
     "output_type": "stream",
     "text": [
      "202it [00:21,  9.43it/s]"
     ]
    },
    {
     "name": "stdout",
     "output_type": "stream",
     "text": [
      "Epoch 27, Batch 200, Loss: 10989.048828125 RMSE(mm): 52.414332076553734\n"
     ]
    },
    {
     "name": "stderr",
     "output_type": "stream",
     "text": [
      "236it [00:25,  9.41it/s]\n"
     ]
    },
    {
     "name": "stdout",
     "output_type": "stream",
     "text": [
      "Epoch 27, Val Loss: 16451.421775350766, RMSE(mm): 64.13154796071659\n",
      "Epoch 27, test Loss: 13192.36310891544, RMSE(mm): 57.42900640990457\n"
     ]
    },
    {
     "name": "stderr",
     "output_type": "stream",
     "text": [
      "1it [00:00,  9.51it/s]"
     ]
    },
    {
     "name": "stdout",
     "output_type": "stream",
     "text": [
      "Epoch 28, Batch 0, Loss: 10256.119140625 RMSE(mm): 50.6362497145696\n"
     ]
    },
    {
     "name": "stderr",
     "output_type": "stream",
     "text": [
      "102it [00:10,  9.41it/s]"
     ]
    },
    {
     "name": "stdout",
     "output_type": "stream",
     "text": [
      "Epoch 28, Batch 100, Loss: 12882.58203125 RMSE(mm): 56.75073134165321\n"
     ]
    },
    {
     "name": "stderr",
     "output_type": "stream",
     "text": [
      "202it [00:21,  9.46it/s]"
     ]
    },
    {
     "name": "stdout",
     "output_type": "stream",
     "text": [
      "Epoch 28, Batch 200, Loss: 11056.8583984375 RMSE(mm): 52.57579861123723\n"
     ]
    },
    {
     "name": "stderr",
     "output_type": "stream",
     "text": [
      "236it [00:25,  9.44it/s]\n"
     ]
    },
    {
     "name": "stdout",
     "output_type": "stream",
     "text": [
      "Epoch 28, Val Loss: 16451.699716996172, RMSE(mm): 64.13208969968969\n",
      "Epoch 28, test Loss: 13192.513308057598, RMSE(mm): 57.429333332491325\n"
     ]
    },
    {
     "name": "stderr",
     "output_type": "stream",
     "text": [
      "1it [00:00,  9.51it/s]"
     ]
    },
    {
     "name": "stdout",
     "output_type": "stream",
     "text": [
      "Epoch 29, Batch 0, Loss: 10161.634765625 RMSE(mm): 50.40246711626575\n"
     ]
    },
    {
     "name": "stderr",
     "output_type": "stream",
     "text": [
      "102it [00:10,  9.46it/s]"
     ]
    },
    {
     "name": "stdout",
     "output_type": "stream",
     "text": [
      "Epoch 29, Batch 100, Loss: 12586.0751953125 RMSE(mm): 56.093839223466645\n"
     ]
    },
    {
     "name": "stderr",
     "output_type": "stream",
     "text": [
      "202it [00:21,  9.41it/s]"
     ]
    },
    {
     "name": "stdout",
     "output_type": "stream",
     "text": [
      "Epoch 29, Batch 200, Loss: 11120.7177734375 RMSE(mm): 52.727406947045814\n"
     ]
    },
    {
     "name": "stderr",
     "output_type": "stream",
     "text": [
      "236it [00:25,  9.43it/s]\n"
     ]
    },
    {
     "name": "stdout",
     "output_type": "stream",
     "text": [
      "Epoch 29, Val Loss: 16452.08059630102, RMSE(mm): 64.13283206810108\n",
      "Epoch 29, test Loss: 13192.743585324755, RMSE(mm): 57.4298345490494\n"
     ]
    },
    {
     "name": "stderr",
     "output_type": "stream",
     "text": [
      "1it [00:00,  9.51it/s]"
     ]
    },
    {
     "name": "stdout",
     "output_type": "stream",
     "text": [
      "Epoch 30, Batch 0, Loss: 10196.1103515625 RMSE(mm): 50.48789545911599\n"
     ]
    },
    {
     "name": "stderr",
     "output_type": "stream",
     "text": [
      "102it [00:10,  9.36it/s]"
     ]
    },
    {
     "name": "stdout",
     "output_type": "stream",
     "text": [
      "Epoch 30, Batch 100, Loss: 12856.267578125 RMSE(mm): 56.692741109698076\n"
     ]
    },
    {
     "name": "stderr",
     "output_type": "stream",
     "text": [
      "202it [00:21,  9.40it/s]"
     ]
    },
    {
     "name": "stdout",
     "output_type": "stream",
     "text": [
      "Epoch 30, Batch 200, Loss: 11065.8115234375 RMSE(mm): 52.59708053551428\n"
     ]
    },
    {
     "name": "stderr",
     "output_type": "stream",
     "text": [
      "236it [00:25,  9.42it/s]\n"
     ]
    },
    {
     "name": "stdout",
     "output_type": "stream",
     "text": [
      "Epoch 30, Val Loss: 16452.093789859693, RMSE(mm): 64.13285778339309\n",
      "Epoch 30, test Loss: 13192.747568167892, RMSE(mm): 57.429843217981826\n"
     ]
    },
    {
     "name": "stderr",
     "output_type": "stream",
     "text": [
      "1it [00:00,  9.51it/s]"
     ]
    },
    {
     "name": "stdout",
     "output_type": "stream",
     "text": [
      "Epoch 31, Batch 0, Loss: 10289.341796875 RMSE(mm): 50.718196431051744\n"
     ]
    },
    {
     "name": "stderr",
     "output_type": "stream",
     "text": [
      "103it [00:10,  9.36it/s]"
     ]
    },
    {
     "name": "stdout",
     "output_type": "stream",
     "text": [
      "Epoch 31, Batch 100, Loss: 12817.2890625 RMSE(mm): 56.60673339475614\n"
     ]
    },
    {
     "name": "stderr",
     "output_type": "stream",
     "text": [
      "203it [00:21,  9.44it/s]"
     ]
    },
    {
     "name": "stdout",
     "output_type": "stream",
     "text": [
      "Epoch 31, Batch 200, Loss: 10994.01953125 RMSE(mm): 52.42618508734447\n"
     ]
    },
    {
     "name": "stderr",
     "output_type": "stream",
     "text": [
      "236it [00:25,  9.44it/s]\n"
     ]
    },
    {
     "name": "stdout",
     "output_type": "stream",
     "text": [
      "Epoch 31, Val Loss: 16452.10833864796, RMSE(mm): 64.13288614012306\n",
      "Epoch 31, test Loss: 13192.752699908087, RMSE(mm): 57.429854387565896\n"
     ]
    },
    {
     "name": "stderr",
     "output_type": "stream",
     "text": [
      "1it [00:00,  9.59it/s]"
     ]
    },
    {
     "name": "stdout",
     "output_type": "stream",
     "text": [
      "Epoch 32, Batch 0, Loss: 10460.3046875 RMSE(mm): 51.13781547812734\n"
     ]
    },
    {
     "name": "stderr",
     "output_type": "stream",
     "text": [
      "102it [00:10,  9.61it/s]"
     ]
    },
    {
     "name": "stdout",
     "output_type": "stream",
     "text": [
      "Epoch 32, Batch 100, Loss: 12876.83984375 RMSE(mm): 56.73808210485705\n"
     ]
    },
    {
     "name": "stderr",
     "output_type": "stream",
     "text": [
      "202it [00:21,  9.29it/s]"
     ]
    },
    {
     "name": "stdout",
     "output_type": "stream",
     "text": [
      "Epoch 32, Batch 200, Loss: 11166.8935546875 RMSE(mm): 52.83676171636444\n"
     ]
    },
    {
     "name": "stderr",
     "output_type": "stream",
     "text": [
      "236it [00:24,  9.52it/s]\n"
     ]
    },
    {
     "name": "stdout",
     "output_type": "stream",
     "text": [
      "Epoch 32, Val Loss: 16452.11868223852, RMSE(mm): 64.13290630058512\n",
      "Epoch 32, test Loss: 13192.755935968138, RMSE(mm): 57.42986143107116\n"
     ]
    },
    {
     "name": "stderr",
     "output_type": "stream",
     "text": [
      "1it [00:00,  9.42it/s]"
     ]
    },
    {
     "name": "stdout",
     "output_type": "stream",
     "text": [
      "Epoch 33, Batch 0, Loss: 10260.0126953125 RMSE(mm): 50.64586038195151\n"
     ]
    },
    {
     "name": "stderr",
     "output_type": "stream",
     "text": [
      "102it [00:10,  9.35it/s]"
     ]
    },
    {
     "name": "stdout",
     "output_type": "stream",
     "text": [
      "Epoch 33, Batch 100, Loss: 12913.1123046875 RMSE(mm): 56.81793797888018\n"
     ]
    },
    {
     "name": "stderr",
     "output_type": "stream",
     "text": [
      "202it [00:21,  9.45it/s]"
     ]
    },
    {
     "name": "stdout",
     "output_type": "stream",
     "text": [
      "Epoch 33, Batch 200, Loss: 11217.9970703125 RMSE(mm): 52.957523238706365\n"
     ]
    },
    {
     "name": "stderr",
     "output_type": "stream",
     "text": [
      "236it [00:25,  9.42it/s]\n"
     ]
    },
    {
     "name": "stdout",
     "output_type": "stream",
     "text": [
      "Epoch 33, Val Loss: 16452.130500637755, RMSE(mm): 64.13292933555616\n",
      "Epoch 33, test Loss: 13192.759133731617, RMSE(mm): 57.429868391220474\n"
     ]
    },
    {
     "name": "stderr",
     "output_type": "stream",
     "text": [
      "1it [00:00,  9.43it/s]"
     ]
    },
    {
     "name": "stdout",
     "output_type": "stream",
     "text": [
      "Epoch 34, Batch 0, Loss: 10063.9970703125 RMSE(mm): 50.15973751504413\n"
     ]
    },
    {
     "name": "stderr",
     "output_type": "stream",
     "text": [
      "102it [00:10,  9.53it/s]"
     ]
    },
    {
     "name": "stdout",
     "output_type": "stream",
     "text": [
      "Epoch 34, Batch 100, Loss: 12737.474609375 RMSE(mm): 56.43021045808486\n"
     ]
    },
    {
     "name": "stderr",
     "output_type": "stream",
     "text": [
      "202it [00:21,  9.46it/s]"
     ]
    },
    {
     "name": "stdout",
     "output_type": "stream",
     "text": [
      "Epoch 34, Batch 200, Loss: 11008.0322265625 RMSE(mm): 52.459584983495866\n"
     ]
    },
    {
     "name": "stderr",
     "output_type": "stream",
     "text": [
      "236it [00:24,  9.53it/s]\n"
     ]
    },
    {
     "name": "stdout",
     "output_type": "stream",
     "text": [
      "Epoch 34, Val Loss: 16452.14498963648, RMSE(mm): 64.13295757572014\n",
      "Epoch 34, test Loss: 13192.763614430147, RMSE(mm): 57.4298781437636\n"
     ]
    },
    {
     "name": "stderr",
     "output_type": "stream",
     "text": [
      "1it [00:00,  9.83it/s]"
     ]
    },
    {
     "name": "stdout",
     "output_type": "stream",
     "text": [
      "Epoch 35, Batch 0, Loss: 10141.041015625 RMSE(mm): 50.351367944736616\n"
     ]
    },
    {
     "name": "stderr",
     "output_type": "stream",
     "text": [
      "102it [00:10,  9.51it/s]"
     ]
    },
    {
     "name": "stdout",
     "output_type": "stream",
     "text": [
      "Epoch 35, Batch 100, Loss: 12647.7001953125 RMSE(mm): 56.23099722420122\n"
     ]
    },
    {
     "name": "stderr",
     "output_type": "stream",
     "text": [
      "202it [00:21,  9.49it/s]"
     ]
    },
    {
     "name": "stdout",
     "output_type": "stream",
     "text": [
      "Epoch 35, Batch 200, Loss: 10930.2431640625 RMSE(mm): 52.273901624191254\n"
     ]
    },
    {
     "name": "stderr",
     "output_type": "stream",
     "text": [
      "236it [00:24,  9.55it/s]\n"
     ]
    },
    {
     "name": "stdout",
     "output_type": "stream",
     "text": [
      "Epoch 35, Val Loss: 16452.15852200255, RMSE(mm): 64.13298395132288\n",
      "Epoch 35, test Loss: 13192.767884497549, RMSE(mm): 57.429887437852315\n"
     ]
    },
    {
     "name": "stderr",
     "output_type": "stream",
     "text": [
      "1it [00:00,  9.69it/s]"
     ]
    },
    {
     "name": "stdout",
     "output_type": "stream",
     "text": [
      "Epoch 36, Batch 0, Loss: 10300.58203125 RMSE(mm): 50.74589153628597\n"
     ]
    },
    {
     "name": "stderr",
     "output_type": "stream",
     "text": [
      "102it [00:10,  9.55it/s]"
     ]
    },
    {
     "name": "stdout",
     "output_type": "stream",
     "text": [
      "Epoch 36, Batch 100, Loss: 12793.9638671875 RMSE(mm): 56.555202826944885\n"
     ]
    },
    {
     "name": "stderr",
     "output_type": "stream",
     "text": [
      "202it [00:21,  9.50it/s]"
     ]
    },
    {
     "name": "stdout",
     "output_type": "stream",
     "text": [
      "Epoch 36, Batch 200, Loss: 11209.2099609375 RMSE(mm): 52.936778238143425\n"
     ]
    },
    {
     "name": "stderr",
     "output_type": "stream",
     "text": [
      "236it [00:24,  9.53it/s]\n"
     ]
    },
    {
     "name": "stdout",
     "output_type": "stream",
     "text": [
      "Epoch 36, Val Loss: 16452.158781090562, RMSE(mm): 64.13298445630485\n",
      "Epoch 36, test Loss: 13192.767941942402, RMSE(mm): 57.429887562884886\n"
     ]
    },
    {
     "name": "stderr",
     "output_type": "stream",
     "text": [
      "1it [00:00,  9.65it/s]"
     ]
    },
    {
     "name": "stdout",
     "output_type": "stream",
     "text": [
      "Epoch 37, Batch 0, Loss: 10276.521484375 RMSE(mm): 50.686589657361544\n"
     ]
    },
    {
     "name": "stderr",
     "output_type": "stream",
     "text": [
      "102it [00:10,  9.58it/s]"
     ]
    },
    {
     "name": "stdout",
     "output_type": "stream",
     "text": [
      "Epoch 37, Batch 100, Loss: 12711.068359375 RMSE(mm): 56.37168695226133\n"
     ]
    },
    {
     "name": "stderr",
     "output_type": "stream",
     "text": [
      "202it [00:21,  9.47it/s]"
     ]
    },
    {
     "name": "stdout",
     "output_type": "stream",
     "text": [
      "Epoch 37, Batch 200, Loss: 11008.615234375 RMSE(mm): 52.460974148349074\n"
     ]
    },
    {
     "name": "stderr",
     "output_type": "stream",
     "text": [
      "236it [00:24,  9.53it/s]\n"
     ]
    },
    {
     "name": "stdout",
     "output_type": "stream",
     "text": [
      "Epoch 37, Val Loss: 16452.158442283162, RMSE(mm): 64.1329837959438\n",
      "Epoch 37, test Loss: 13192.76798023897, RMSE(mm): 57.42988764623994\n"
     ]
    },
    {
     "name": "stderr",
     "output_type": "stream",
     "text": [
      "1it [00:00,  9.51it/s]"
     ]
    },
    {
     "name": "stdout",
     "output_type": "stream",
     "text": [
      "Epoch 38, Batch 0, Loss: 10202.83203125 RMSE(mm): 50.5045345272333\n"
     ]
    },
    {
     "name": "stderr",
     "output_type": "stream",
     "text": [
      "102it [00:10,  9.41it/s]"
     ]
    },
    {
     "name": "stdout",
     "output_type": "stream",
     "text": [
      "Epoch 38, Batch 100, Loss: 12630.6171875 RMSE(mm): 56.19300932389188\n"
     ]
    },
    {
     "name": "stderr",
     "output_type": "stream",
     "text": [
      "202it [00:21,  9.49it/s]"
     ]
    },
    {
     "name": "stdout",
     "output_type": "stream",
     "text": [
      "Epoch 38, Batch 200, Loss: 11115.85546875 RMSE(mm): 52.71587870070554\n"
     ]
    },
    {
     "name": "stderr",
     "output_type": "stream",
     "text": [
      "236it [00:24,  9.50it/s]\n"
     ]
    },
    {
     "name": "stdout",
     "output_type": "stream",
     "text": [
      "Epoch 38, Val Loss: 16452.159060108417, RMSE(mm): 64.1329850001316\n",
      "Epoch 38, test Loss: 13192.767807904413, RMSE(mm): 57.42988727114222\n"
     ]
    },
    {
     "name": "stderr",
     "output_type": "stream",
     "text": [
      "1it [00:00,  9.48it/s]"
     ]
    },
    {
     "name": "stdout",
     "output_type": "stream",
     "text": [
      "Epoch 39, Batch 0, Loss: 10196.765625 RMSE(mm): 50.48951778587314\n"
     ]
    },
    {
     "name": "stderr",
     "output_type": "stream",
     "text": [
      "102it [00:10,  9.41it/s]"
     ]
    },
    {
     "name": "stdout",
     "output_type": "stream",
     "text": [
      "Epoch 39, Batch 100, Loss: 12814.60546875 RMSE(mm): 56.60080712487676\n"
     ]
    },
    {
     "name": "stderr",
     "output_type": "stream",
     "text": [
      "202it [00:21,  9.54it/s]"
     ]
    },
    {
     "name": "stdout",
     "output_type": "stream",
     "text": [
      "Epoch 39, Batch 200, Loss: 11120.27734375 RMSE(mm): 52.72636281726154\n"
     ]
    },
    {
     "name": "stderr",
     "output_type": "stream",
     "text": [
      "236it [00:24,  9.53it/s]\n"
     ]
    },
    {
     "name": "stdout",
     "output_type": "stream",
     "text": [
      "Epoch 39, Val Loss: 16452.159279336734, RMSE(mm): 64.13298542742403\n",
      "Epoch 39, test Loss: 13192.767961090687, RMSE(mm): 57.42988760456242\n"
     ]
    },
    {
     "name": "stderr",
     "output_type": "stream",
     "text": [
      "1it [00:00,  9.44it/s]"
     ]
    },
    {
     "name": "stdout",
     "output_type": "stream",
     "text": [
      "Epoch 40, Batch 0, Loss: 10098.4970703125 RMSE(mm): 50.245639289177376\n"
     ]
    },
    {
     "name": "stderr",
     "output_type": "stream",
     "text": [
      "102it [00:10,  9.53it/s]"
     ]
    },
    {
     "name": "stdout",
     "output_type": "stream",
     "text": [
      "Epoch 40, Batch 100, Loss: 12829.62109375 RMSE(mm): 56.63395865942535\n"
     ]
    },
    {
     "name": "stderr",
     "output_type": "stream",
     "text": [
      "203it [00:21,  9.46it/s]"
     ]
    },
    {
     "name": "stdout",
     "output_type": "stream",
     "text": [
      "Epoch 40, Batch 200, Loss: 10868.447265625 RMSE(mm): 52.12592269117401\n"
     ]
    },
    {
     "name": "stderr",
     "output_type": "stream",
     "text": [
      "236it [00:24,  9.50it/s]\n"
     ]
    },
    {
     "name": "stdout",
     "output_type": "stream",
     "text": [
      "Epoch 40, Val Loss: 16452.158880739797, RMSE(mm): 64.1329846505287\n",
      "Epoch 40, test Loss: 13192.767807904413, RMSE(mm): 57.42988727114222\n"
     ]
    },
    {
     "name": "stderr",
     "output_type": "stream",
     "text": [
      "1it [00:00,  9.47it/s]"
     ]
    },
    {
     "name": "stdout",
     "output_type": "stream",
     "text": [
      "Epoch 41, Batch 0, Loss: 10139.1796875 RMSE(mm): 50.346746884729306\n"
     ]
    },
    {
     "name": "stderr",
     "output_type": "stream",
     "text": [
      "102it [00:10,  9.56it/s]"
     ]
    },
    {
     "name": "stdout",
     "output_type": "stream",
     "text": [
      "Epoch 41, Batch 100, Loss: 12717.1376953125 RMSE(mm): 56.38514364465276\n"
     ]
    },
    {
     "name": "stderr",
     "output_type": "stream",
     "text": [
      "202it [00:21,  9.53it/s]"
     ]
    },
    {
     "name": "stdout",
     "output_type": "stream",
     "text": [
      "Epoch 41, Batch 200, Loss: 10923.708984375 RMSE(mm): 52.25827442705844\n"
     ]
    },
    {
     "name": "stderr",
     "output_type": "stream",
     "text": [
      "236it [00:24,  9.53it/s]\n"
     ]
    },
    {
     "name": "stdout",
     "output_type": "stream",
     "text": [
      "Epoch 41, Val Loss: 16452.159518494896, RMSE(mm): 64.13298589356123\n",
      "Epoch 41, test Loss: 13192.767922794117, RMSE(mm): 57.42988752120736\n"
     ]
    },
    {
     "name": "stderr",
     "output_type": "stream",
     "text": [
      "2it [00:00,  9.61it/s]"
     ]
    },
    {
     "name": "stdout",
     "output_type": "stream",
     "text": [
      "Epoch 42, Batch 0, Loss: 10137.49609375 RMSE(mm): 50.34256671483388\n"
     ]
    },
    {
     "name": "stderr",
     "output_type": "stream",
     "text": [
      "102it [00:10,  9.39it/s]"
     ]
    },
    {
     "name": "stdout",
     "output_type": "stream",
     "text": [
      "Epoch 42, Batch 100, Loss: 12613.9453125 RMSE(mm): 56.15591089213138\n"
     ]
    },
    {
     "name": "stderr",
     "output_type": "stream",
     "text": [
      "202it [00:21,  9.37it/s]"
     ]
    },
    {
     "name": "stdout",
     "output_type": "stream",
     "text": [
      "Epoch 42, Batch 200, Loss: 11051.9892578125 RMSE(mm): 52.56422085842351\n"
     ]
    },
    {
     "name": "stderr",
     "output_type": "stream",
     "text": [
      "236it [00:25,  9.44it/s]\n"
     ]
    },
    {
     "name": "stdout",
     "output_type": "stream",
     "text": [
      "Epoch 42, Val Loss: 16452.159339126276, RMSE(mm): 64.13298554395834\n",
      "Epoch 42, test Loss: 13192.767865349264, RMSE(mm): 57.42988739617479\n"
     ]
    },
    {
     "name": "stderr",
     "output_type": "stream",
     "text": [
      "2it [00:00,  9.54it/s]"
     ]
    },
    {
     "name": "stdout",
     "output_type": "stream",
     "text": [
      "Epoch 43, Batch 0, Loss: 10154.4609375 RMSE(mm): 50.38467261355382\n"
     ]
    },
    {
     "name": "stderr",
     "output_type": "stream",
     "text": [
      "103it [00:10,  9.44it/s]"
     ]
    },
    {
     "name": "stdout",
     "output_type": "stream",
     "text": [
      "Epoch 43, Batch 100, Loss: 12625.013671875 RMSE(mm): 56.180543055124964\n"
     ]
    },
    {
     "name": "stderr",
     "output_type": "stream",
     "text": [
      "203it [00:21,  9.46it/s]"
     ]
    },
    {
     "name": "stdout",
     "output_type": "stream",
     "text": [
      "Epoch 43, Batch 200, Loss: 10911.642578125 RMSE(mm): 52.229404022363205\n"
     ]
    },
    {
     "name": "stderr",
     "output_type": "stream",
     "text": [
      "236it [00:25,  9.44it/s]\n"
     ]
    },
    {
     "name": "stdout",
     "output_type": "stream",
     "text": [
      "Epoch 43, Val Loss: 16452.159558354593, RMSE(mm): 64.13298597125078\n",
      "Epoch 43, test Loss: 13192.768037683823, RMSE(mm): 57.42988777127251\n"
     ]
    },
    {
     "name": "stderr",
     "output_type": "stream",
     "text": [
      "2it [00:00,  9.52it/s]"
     ]
    },
    {
     "name": "stdout",
     "output_type": "stream",
     "text": [
      "Epoch 44, Batch 0, Loss: 10010.7412109375 RMSE(mm): 50.02684582036304\n"
     ]
    },
    {
     "name": "stderr",
     "output_type": "stream",
     "text": [
      "102it [00:10,  9.39it/s]"
     ]
    },
    {
     "name": "stdout",
     "output_type": "stream",
     "text": [
      "Epoch 44, Batch 100, Loss: 12946.4833984375 RMSE(mm): 56.89130732905841\n"
     ]
    },
    {
     "name": "stderr",
     "output_type": "stream",
     "text": [
      "202it [00:21,  9.45it/s]"
     ]
    },
    {
     "name": "stdout",
     "output_type": "stream",
     "text": [
      "Epoch 44, Batch 200, Loss: 10979.185546875 RMSE(mm): 52.39080440992245\n"
     ]
    },
    {
     "name": "stderr",
     "output_type": "stream",
     "text": [
      "236it [00:24,  9.46it/s]\n"
     ]
    },
    {
     "name": "stdout",
     "output_type": "stream",
     "text": [
      "Epoch 44, Val Loss: 16452.159538424745, RMSE(mm): 64.132985932406\n",
      "Epoch 44, test Loss: 13192.767865349264, RMSE(mm): 57.42988739617479\n"
     ]
    }
   ],
   "source": [
    "'''\n",
    "models: EEGViT_pretrained; EEGViT_raw; ViTBase; ViTBase_pretrained\n",
    "'''\n",
    "model = EEGViT_pretrained()\n",
    "EEGEyeNet = EEGEyeNetDataset('./dataset/Position_task_with_dots_synchronised_min.npz')\n",
    "batch_size = 64\n",
    "n_epoch = 45\n",
    "learning_rate = 1e-4\n",
    "\n",
    "optimizer = torch.optim.Adam(model.parameters(), lr=learning_rate)\n",
    "scheduler = torch.optim.lr_scheduler.StepLR(optimizer, step_size=6, gamma=0.1)\n",
    "\n",
    "train(model,EEGEyeNet, optimizer, scheduler, batch_size = batch_size ,n_epoch = n_epoch)"
   ]
  }
 ],
 "metadata": {
  "kernelspec": {
   "display_name": "AppliedML6907",
   "language": "python",
   "name": "python3"
  },
  "language_info": {
   "codemirror_mode": {
    "name": "ipython",
    "version": 3
   },
   "file_extension": ".py",
   "mimetype": "text/x-python",
   "name": "python",
   "nbconvert_exporter": "python",
   "pygments_lexer": "ipython3",
   "version": "3.11.4"
  },
  "orig_nbformat": 4
 },
 "nbformat": 4,
 "nbformat_minor": 2
}
