{
 "cells": [
  {
   "cell_type": "code",
   "execution_count": 1,
   "metadata": {},
   "outputs": [],
   "source": [
    "from models.EEGDeiT_pretrained import EEGDeiT_pretrained\n",
    "from models.EEGViT import EEGViT_raw\n",
    "from models.ViTBase import ViTBase\n",
    "from models.ViTBase_pretrained import ViTBase_pretrained\n",
    "from helper_functions import train\n",
    "from dataset.EEGEyeNet import EEGEyeNetDataset\n",
    "import torch\n"
   ]
  },
  {
   "cell_type": "code",
   "execution_count": 2,
   "metadata": {},
   "outputs": [
    {
     "name": "stderr",
     "output_type": "stream",
     "text": [
      "You are using a model of type deit to instantiate a model of type vit. This is not supported for all configurations of models and can yield errors.\n",
      "Some weights of ViTForImageClassification were not initialized from the model checkpoint at facebook/deit-base-distilled-patch16-224 and are newly initialized: ['encoder.layer.4.intermediate.dense.weight', 'encoder.layer.0.attention.attention.value.bias', 'encoder.layer.2.intermediate.dense.weight', 'encoder.layer.11.intermediate.dense.bias', 'encoder.layer.10.layernorm_before.bias', 'encoder.layer.2.attention.attention.query.bias', 'embeddings.position_embeddings', 'encoder.layer.0.attention.output.dense.weight', 'encoder.layer.5.attention.output.dense.weight', 'embeddings.cls_token', 'encoder.layer.11.intermediate.dense.weight', 'encoder.layer.5.attention.attention.query.weight', 'encoder.layer.6.attention.attention.value.bias', 'encoder.layer.2.attention.output.dense.bias', 'encoder.layer.10.attention.attention.query.bias', 'encoder.layer.8.attention.attention.query.bias', 'encoder.layer.10.layernorm_before.weight', 'encoder.layer.5.attention.attention.query.bias', 'encoder.layer.8.layernorm_before.bias', 'encoder.layer.2.attention.attention.value.weight', 'encoder.layer.11.attention.attention.query.weight', 'encoder.layer.3.output.dense.bias', 'encoder.layer.1.layernorm_before.bias', 'encoder.layer.0.output.dense.bias', 'encoder.layer.5.attention.attention.value.bias', 'encoder.layer.1.attention.output.dense.weight', 'encoder.layer.8.attention.attention.key.weight', 'encoder.layer.10.attention.output.dense.weight', 'encoder.layer.0.attention.attention.query.weight', 'encoder.layer.1.attention.attention.key.weight', 'embeddings.patch_embeddings.projection.weight', 'encoder.layer.9.attention.output.dense.bias', 'encoder.layer.9.intermediate.dense.weight', 'encoder.layer.11.attention.attention.query.bias', 'layernorm.bias', 'encoder.layer.4.attention.output.dense.bias', 'encoder.layer.11.output.dense.bias', 'encoder.layer.7.layernorm_before.weight', 'encoder.layer.6.attention.output.dense.weight', 'encoder.layer.11.attention.attention.value.weight', 'encoder.layer.1.attention.attention.value.weight', 'encoder.layer.3.attention.attention.value.weight', 'encoder.layer.10.attention.attention.value.bias', 'encoder.layer.5.attention.attention.key.weight', 'encoder.layer.4.attention.attention.query.weight', 'encoder.layer.4.attention.attention.key.bias', 'encoder.layer.9.intermediate.dense.bias', 'encoder.layer.11.output.dense.weight', 'encoder.layer.8.layernorm_before.weight', 'encoder.layer.1.layernorm_before.weight', 'encoder.layer.7.layernorm_before.bias', 'encoder.layer.9.layernorm_before.weight', 'encoder.layer.5.attention.attention.value.weight', 'encoder.layer.4.attention.attention.value.bias', 'encoder.layer.7.attention.attention.key.bias', 'encoder.layer.7.output.dense.bias', 'encoder.layer.6.attention.attention.key.bias', 'encoder.layer.9.attention.output.dense.weight', 'encoder.layer.11.attention.output.dense.bias', 'encoder.layer.9.layernorm_before.bias', 'encoder.layer.4.output.dense.bias', 'encoder.layer.7.attention.attention.key.weight', 'encoder.layer.8.intermediate.dense.bias', 'encoder.layer.10.intermediate.dense.bias', 'encoder.layer.8.output.dense.bias', 'encoder.layer.11.layernorm_before.weight', 'encoder.layer.4.attention.output.dense.weight', 'encoder.layer.0.attention.attention.query.bias', 'encoder.layer.0.attention.attention.key.bias', 'encoder.layer.7.layernorm_after.bias', 'encoder.layer.1.intermediate.dense.bias', 'encoder.layer.1.attention.attention.query.weight', 'encoder.layer.4.layernorm_before.bias', 'encoder.layer.0.attention.output.dense.bias', 'encoder.layer.6.layernorm_before.weight', 'encoder.layer.6.layernorm_after.bias', 'encoder.layer.2.layernorm_before.weight', 'encoder.layer.7.intermediate.dense.weight', 'encoder.layer.3.layernorm_before.weight', 'encoder.layer.1.attention.output.dense.bias', 'encoder.layer.8.attention.attention.query.weight', 'encoder.layer.1.attention.attention.value.bias', 'encoder.layer.0.layernorm_after.bias', 'encoder.layer.2.attention.attention.value.bias', 'encoder.layer.7.intermediate.dense.bias', 'encoder.layer.6.output.dense.weight', 'encoder.layer.3.attention.attention.value.bias', 'encoder.layer.6.output.dense.bias', 'encoder.layer.8.attention.output.dense.weight', 'layernorm.weight', 'encoder.layer.2.output.dense.weight', 'encoder.layer.3.attention.output.dense.weight', 'encoder.layer.9.layernorm_after.weight', 'encoder.layer.3.layernorm_before.bias', 'encoder.layer.6.attention.attention.key.weight', 'encoder.layer.7.layernorm_after.weight', 'encoder.layer.11.layernorm_after.bias', 'encoder.layer.6.attention.attention.query.bias', 'encoder.layer.1.intermediate.dense.weight', 'encoder.layer.4.attention.attention.value.weight', 'encoder.layer.9.attention.attention.query.bias', 'encoder.layer.10.intermediate.dense.weight', 'encoder.layer.5.layernorm_after.bias', 'encoder.layer.5.layernorm_before.bias', 'encoder.layer.8.intermediate.dense.weight', 'encoder.layer.11.layernorm_before.bias', 'encoder.layer.3.layernorm_after.weight', 'encoder.layer.1.attention.attention.key.bias', 'encoder.layer.11.attention.attention.key.bias', 'encoder.layer.2.layernorm_after.weight', 'encoder.layer.11.attention.attention.key.weight', 'encoder.layer.7.attention.output.dense.weight', 'encoder.layer.8.attention.attention.value.weight', 'encoder.layer.3.attention.attention.query.weight', 'encoder.layer.9.attention.attention.value.weight', 'encoder.layer.5.layernorm_after.weight', 'encoder.layer.7.attention.attention.value.bias', 'encoder.layer.3.attention.attention.key.bias', 'encoder.layer.1.layernorm_after.weight', 'encoder.layer.2.output.dense.bias', 'encoder.layer.6.layernorm_before.bias', 'encoder.layer.8.attention.output.dense.bias', 'encoder.layer.2.attention.attention.query.weight', 'encoder.layer.1.layernorm_after.bias', 'encoder.layer.3.intermediate.dense.weight', 'encoder.layer.7.attention.attention.value.weight', 'encoder.layer.8.layernorm_after.weight', 'encoder.layer.10.attention.output.dense.bias', 'encoder.layer.6.attention.attention.query.weight', 'encoder.layer.11.attention.attention.value.bias', 'encoder.layer.2.attention.attention.key.weight', 'encoder.layer.2.attention.output.dense.weight', 'encoder.layer.0.intermediate.dense.bias', 'encoder.layer.4.intermediate.dense.bias', 'encoder.layer.5.intermediate.dense.bias', 'encoder.layer.10.attention.attention.value.weight', 'encoder.layer.0.layernorm_after.weight', 'encoder.layer.1.attention.attention.query.bias', 'encoder.layer.10.attention.attention.query.weight', 'classifier.weight', 'encoder.layer.0.layernorm_before.weight', 'encoder.layer.8.attention.attention.value.bias', 'encoder.layer.10.attention.attention.key.bias', 'encoder.layer.5.layernorm_before.weight', 'embeddings.patch_embeddings.projection.bias', 'encoder.layer.6.layernorm_after.weight', 'encoder.layer.9.attention.attention.query.weight', 'encoder.layer.7.attention.output.dense.bias', 'encoder.layer.3.layernorm_after.bias', 'encoder.layer.0.attention.attention.key.weight', 'encoder.layer.0.intermediate.dense.weight', 'encoder.layer.7.attention.attention.query.weight', 'encoder.layer.4.layernorm_before.weight', 'encoder.layer.3.attention.output.dense.bias', 'encoder.layer.10.output.dense.bias', 'encoder.layer.5.output.dense.weight', 'encoder.layer.0.output.dense.weight', 'encoder.layer.8.layernorm_after.bias', 'encoder.layer.10.output.dense.weight', 'encoder.layer.10.layernorm_after.bias', 'encoder.layer.3.attention.attention.key.weight', 'encoder.layer.2.layernorm_before.bias', 'encoder.layer.0.layernorm_before.bias', 'encoder.layer.2.attention.attention.key.bias', 'encoder.layer.2.layernorm_after.bias', 'encoder.layer.8.output.dense.weight', 'encoder.layer.2.intermediate.dense.bias', 'encoder.layer.5.attention.output.dense.bias', 'encoder.layer.10.layernorm_after.weight', 'encoder.layer.1.output.dense.bias', 'encoder.layer.4.output.dense.weight', 'encoder.layer.7.attention.attention.query.bias', 'encoder.layer.6.intermediate.dense.weight', 'encoder.layer.0.attention.attention.value.weight', 'encoder.layer.5.intermediate.dense.weight', 'encoder.layer.5.output.dense.bias', 'encoder.layer.9.output.dense.weight', 'encoder.layer.3.output.dense.weight', 'encoder.layer.5.attention.attention.key.bias', 'encoder.layer.3.intermediate.dense.bias', 'encoder.layer.6.attention.attention.value.weight', 'encoder.layer.9.output.dense.bias', 'encoder.layer.4.attention.attention.key.weight', 'encoder.layer.8.attention.attention.key.bias', 'encoder.layer.11.layernorm_after.weight', 'encoder.layer.9.attention.attention.value.bias', 'encoder.layer.9.attention.attention.key.bias', 'encoder.layer.11.attention.output.dense.weight', 'encoder.layer.4.attention.attention.query.bias', 'encoder.layer.1.output.dense.weight', 'encoder.layer.9.layernorm_after.bias', 'classifier.bias', 'encoder.layer.4.layernorm_after.weight', 'encoder.layer.7.output.dense.weight', 'encoder.layer.6.attention.output.dense.bias', 'encoder.layer.6.intermediate.dense.bias', 'encoder.layer.3.attention.attention.query.bias', 'encoder.layer.10.attention.attention.key.weight', 'encoder.layer.9.attention.attention.key.weight', 'encoder.layer.4.layernorm_after.bias']\n",
      "You should probably TRAIN this model on a down-stream task to be able to use it for predictions and inference.\n"
     ]
    },
    {
     "name": "stdout",
     "output_type": "stream",
     "text": [
      "loading data...\n",
      "[[  1.  408.1 315.1]\n",
      " [  1.  640.7 519.1]\n",
      " [  1.  404.2 118.8]\n",
      " ...\n",
      " [177.  115.5 306.1]\n",
      " [177.  732.  310.3]\n",
      " [177.  632.2 353.6]]\n",
      "create dataloader...\n",
      "HI\n",
      "training...\n"
     ]
    },
    {
     "name": "stderr",
     "output_type": "stream",
     "text": [
      "1it [00:00,  1.24it/s]"
     ]
    },
    {
     "name": "stdout",
     "output_type": "stream",
     "text": [
      "Epoch 0, Batch 0, Loss: 168858.359375 RMSE(mm): 205.46189389701925\n"
     ]
    },
    {
     "name": "stderr",
     "output_type": "stream",
     "text": [
      "101it [00:29,  3.51it/s]"
     ]
    },
    {
     "name": "stdout",
     "output_type": "stream",
     "text": [
      "Epoch 0, Batch 100, Loss: 60617.3203125 RMSE(mm): 123.10292473424423\n"
     ]
    },
    {
     "name": "stderr",
     "output_type": "stream",
     "text": [
      "201it [00:57,  3.52it/s]"
     ]
    },
    {
     "name": "stdout",
     "output_type": "stream",
     "text": [
      "Epoch 0, Batch 200, Loss: 36141.5 RMSE(mm): 95.05458957883096\n"
     ]
    },
    {
     "name": "stderr",
     "output_type": "stream",
     "text": [
      "236it [01:07,  3.48it/s]\n"
     ]
    },
    {
     "name": "stdout",
     "output_type": "stream",
     "text": [
      "Epoch 0, Val Loss: 32345.243024553572, RMSE(mm): 89.92391648576252\n",
      "Epoch 0, test Loss: 33145.504557291664, RMSE(mm): 91.0295344342863\n"
     ]
    },
    {
     "name": "stderr",
     "output_type": "stream",
     "text": [
      "1it [00:00,  3.51it/s]"
     ]
    },
    {
     "name": "stdout",
     "output_type": "stream",
     "text": [
      "Epoch 1, Batch 0, Loss: 32939.0546875 RMSE(mm): 90.74559863638015\n"
     ]
    },
    {
     "name": "stderr",
     "output_type": "stream",
     "text": [
      "101it [00:29,  3.48it/s]"
     ]
    },
    {
     "name": "stdout",
     "output_type": "stream",
     "text": [
      "Epoch 1, Batch 100, Loss: 26722.06640625 RMSE(mm): 81.73442727249332\n"
     ]
    },
    {
     "name": "stderr",
     "output_type": "stream",
     "text": [
      "201it [00:57,  3.49it/s]"
     ]
    },
    {
     "name": "stdout",
     "output_type": "stream",
     "text": [
      "Epoch 1, Batch 200, Loss: 33780.55078125 RMSE(mm): 91.89743029765576\n"
     ]
    },
    {
     "name": "stderr",
     "output_type": "stream",
     "text": [
      "236it [01:07,  3.49it/s]\n"
     ]
    },
    {
     "name": "stdout",
     "output_type": "stream",
     "text": [
      "Epoch 1, Val Loss: 25998.744379783162, RMSE(mm): 80.62063070297695\n",
      "Epoch 1, test Loss: 24844.176700367647, RMSE(mm): 78.81017811864095\n"
     ]
    },
    {
     "name": "stderr",
     "output_type": "stream",
     "text": [
      "1it [00:00,  3.49it/s]"
     ]
    },
    {
     "name": "stdout",
     "output_type": "stream",
     "text": [
      "Epoch 2, Batch 0, Loss: 22635.12109375 RMSE(mm): 75.22486472860885\n"
     ]
    },
    {
     "name": "stderr",
     "output_type": "stream",
     "text": [
      "101it [00:28,  3.49it/s]"
     ]
    },
    {
     "name": "stdout",
     "output_type": "stream",
     "text": [
      "Epoch 2, Batch 100, Loss: 24969.9609375 RMSE(mm): 79.00943130016188\n"
     ]
    },
    {
     "name": "stderr",
     "output_type": "stream",
     "text": [
      "201it [00:57,  3.49it/s]"
     ]
    },
    {
     "name": "stdout",
     "output_type": "stream",
     "text": [
      "Epoch 2, Batch 200, Loss: 32557.03515625 RMSE(mm): 90.21784074706343\n"
     ]
    },
    {
     "name": "stderr",
     "output_type": "stream",
     "text": [
      "236it [01:07,  3.49it/s]\n"
     ]
    },
    {
     "name": "stdout",
     "output_type": "stream",
     "text": [
      "Epoch 2, Val Loss: 23588.838448660714, RMSE(mm): 76.79329145286832\n",
      "Epoch 2, test Loss: 22694.952512254902, RMSE(mm): 75.32422006276418\n"
     ]
    },
    {
     "name": "stderr",
     "output_type": "stream",
     "text": [
      "1it [00:00,  3.51it/s]"
     ]
    },
    {
     "name": "stdout",
     "output_type": "stream",
     "text": [
      "Epoch 3, Batch 0, Loss: 20293.3203125 RMSE(mm): 71.22731272570235\n"
     ]
    },
    {
     "name": "stderr",
     "output_type": "stream",
     "text": [
      "101it [00:28,  3.51it/s]"
     ]
    },
    {
     "name": "stdout",
     "output_type": "stream",
     "text": [
      "Epoch 3, Batch 100, Loss: 24896.48828125 RMSE(mm): 78.8931053407869\n"
     ]
    },
    {
     "name": "stderr",
     "output_type": "stream",
     "text": [
      "201it [00:57,  3.50it/s]"
     ]
    },
    {
     "name": "stdout",
     "output_type": "stream",
     "text": [
      "Epoch 3, Batch 200, Loss: 30471.41015625 RMSE(mm): 87.28031014531571\n"
     ]
    },
    {
     "name": "stderr",
     "output_type": "stream",
     "text": [
      "236it [01:07,  3.50it/s]\n"
     ]
    },
    {
     "name": "stdout",
     "output_type": "stream",
     "text": [
      "Epoch 3, Val Loss: 22768.076052295917, RMSE(mm): 75.44547046094934\n",
      "Epoch 3, test Loss: 22079.758999693626, RMSE(mm): 74.29629701353498\n"
     ]
    },
    {
     "name": "stderr",
     "output_type": "stream",
     "text": [
      "1it [00:00,  3.49it/s]"
     ]
    },
    {
     "name": "stdout",
     "output_type": "stream",
     "text": [
      "Epoch 4, Batch 0, Loss: 18864.39453125 RMSE(mm): 68.67385698220612\n"
     ]
    },
    {
     "name": "stderr",
     "output_type": "stream",
     "text": [
      "101it [00:29,  3.48it/s]"
     ]
    },
    {
     "name": "stdout",
     "output_type": "stream",
     "text": [
      "Epoch 4, Batch 100, Loss: 19500.83203125 RMSE(mm): 69.82268977784013\n"
     ]
    },
    {
     "name": "stderr",
     "output_type": "stream",
     "text": [
      "201it [00:57,  3.49it/s]"
     ]
    },
    {
     "name": "stdout",
     "output_type": "stream",
     "text": [
      "Epoch 4, Batch 200, Loss: 27079.328125 RMSE(mm): 82.2789890023571\n"
     ]
    },
    {
     "name": "stderr",
     "output_type": "stream",
     "text": [
      "236it [01:07,  3.49it/s]\n"
     ]
    },
    {
     "name": "stdout",
     "output_type": "stream",
     "text": [
      "Epoch 4, Val Loss: 21063.933474170917, RMSE(mm): 72.56709563254361\n",
      "Epoch 4, test Loss: 19237.09815410539, RMSE(mm): 69.34893321837292\n"
     ]
    },
    {
     "name": "stderr",
     "output_type": "stream",
     "text": [
      "1it [00:00,  3.45it/s]"
     ]
    },
    {
     "name": "stdout",
     "output_type": "stream",
     "text": [
      "Epoch 5, Batch 0, Loss: 18814.2109375 RMSE(mm): 68.58245208779721\n"
     ]
    },
    {
     "name": "stderr",
     "output_type": "stream",
     "text": [
      "101it [00:29,  3.47it/s]"
     ]
    },
    {
     "name": "stdout",
     "output_type": "stream",
     "text": [
      "Epoch 5, Batch 100, Loss: 18532.5078125 RMSE(mm): 68.06707686631621\n"
     ]
    },
    {
     "name": "stderr",
     "output_type": "stream",
     "text": [
      "201it [00:57,  3.48it/s]"
     ]
    },
    {
     "name": "stdout",
     "output_type": "stream",
     "text": [
      "Epoch 5, Batch 200, Loss: 24800.9140625 RMSE(mm): 78.74152980241747\n"
     ]
    },
    {
     "name": "stderr",
     "output_type": "stream",
     "text": [
      "236it [01:07,  3.48it/s]\n"
     ]
    },
    {
     "name": "stdout",
     "output_type": "stream",
     "text": [
      "Epoch 5, Val Loss: 20053.13406808036, RMSE(mm): 70.80454446587514\n",
      "Epoch 5, test Loss: 17970.765395220587, RMSE(mm): 67.02754171834998\n"
     ]
    },
    {
     "name": "stderr",
     "output_type": "stream",
     "text": [
      "1it [00:00,  3.48it/s]"
     ]
    },
    {
     "name": "stdout",
     "output_type": "stream",
     "text": [
      "Epoch 6, Batch 0, Loss: 16460.09765625 RMSE(mm): 64.14845605361441\n"
     ]
    },
    {
     "name": "stderr",
     "output_type": "stream",
     "text": [
      "101it [00:28,  3.47it/s]"
     ]
    },
    {
     "name": "stdout",
     "output_type": "stream",
     "text": [
      "Epoch 6, Batch 100, Loss: 17603.99609375 RMSE(mm): 66.34002580220707\n"
     ]
    },
    {
     "name": "stderr",
     "output_type": "stream",
     "text": [
      "201it [00:57,  3.47it/s]"
     ]
    },
    {
     "name": "stdout",
     "output_type": "stream",
     "text": [
      "Epoch 6, Batch 200, Loss: 20669.97265625 RMSE(mm): 71.88527779776955\n"
     ]
    },
    {
     "name": "stderr",
     "output_type": "stream",
     "text": [
      "236it [01:07,  3.48it/s]\n"
     ]
    },
    {
     "name": "stdout",
     "output_type": "stream",
     "text": [
      "Epoch 6, Val Loss: 18217.57955994898, RMSE(mm): 67.48625704532179\n",
      "Epoch 6, test Loss: 16173.533835018383, RMSE(mm): 63.58760459991079\n"
     ]
    },
    {
     "name": "stderr",
     "output_type": "stream",
     "text": [
      "1it [00:00,  3.49it/s]"
     ]
    },
    {
     "name": "stdout",
     "output_type": "stream",
     "text": [
      "Epoch 7, Batch 0, Loss: 14200.845703125 RMSE(mm): 59.583650658391605\n"
     ]
    },
    {
     "name": "stderr",
     "output_type": "stream",
     "text": [
      "101it [00:28,  3.49it/s]"
     ]
    },
    {
     "name": "stdout",
     "output_type": "stream",
     "text": [
      "Epoch 7, Batch 100, Loss: 16818.173828125 RMSE(mm): 64.8424510412064\n"
     ]
    },
    {
     "name": "stderr",
     "output_type": "stream",
     "text": [
      "201it [00:57,  3.49it/s]"
     ]
    },
    {
     "name": "stdout",
     "output_type": "stream",
     "text": [
      "Epoch 7, Batch 200, Loss: 19885.12109375 RMSE(mm): 70.50730652519283\n"
     ]
    },
    {
     "name": "stderr",
     "output_type": "stream",
     "text": [
      "236it [01:07,  3.49it/s]\n"
     ]
    },
    {
     "name": "stdout",
     "output_type": "stream",
     "text": [
      "Epoch 7, Val Loss: 18085.502551020407, RMSE(mm): 67.24117516637482\n",
      "Epoch 7, test Loss: 15997.51838235294, RMSE(mm): 63.24064828564169\n"
     ]
    },
    {
     "name": "stderr",
     "output_type": "stream",
     "text": [
      "1it [00:00,  3.51it/s]"
     ]
    },
    {
     "name": "stdout",
     "output_type": "stream",
     "text": [
      "Epoch 8, Batch 0, Loss: 13912.3740234375 RMSE(mm): 58.9753635500399\n"
     ]
    },
    {
     "name": "stderr",
     "output_type": "stream",
     "text": [
      "101it [00:28,  3.49it/s]"
     ]
    },
    {
     "name": "stdout",
     "output_type": "stream",
     "text": [
      "Epoch 8, Batch 100, Loss: 16369.380859375 RMSE(mm): 63.97144061879293\n"
     ]
    },
    {
     "name": "stderr",
     "output_type": "stream",
     "text": [
      "201it [00:57,  3.48it/s]"
     ]
    },
    {
     "name": "stdout",
     "output_type": "stream",
     "text": [
      "Epoch 8, Batch 200, Loss: 19545.06640625 RMSE(mm): 69.9018354663345\n"
     ]
    },
    {
     "name": "stderr",
     "output_type": "stream",
     "text": [
      "236it [01:07,  3.49it/s]\n"
     ]
    },
    {
     "name": "stdout",
     "output_type": "stream",
     "text": [
      "Epoch 8, Val Loss: 17982.71165497449, RMSE(mm): 67.04981665704703\n",
      "Epoch 8, test Loss: 15853.798138786764, RMSE(mm): 62.95593327635363\n"
     ]
    },
    {
     "name": "stderr",
     "output_type": "stream",
     "text": [
      "1it [00:00,  3.50it/s]"
     ]
    },
    {
     "name": "stdout",
     "output_type": "stream",
     "text": [
      "Epoch 9, Batch 0, Loss: 13907.365234375 RMSE(mm): 58.964746320100026\n"
     ]
    },
    {
     "name": "stderr",
     "output_type": "stream",
     "text": [
      "101it [00:29,  3.48it/s]"
     ]
    },
    {
     "name": "stdout",
     "output_type": "stream",
     "text": [
      "Epoch 9, Batch 100, Loss: 16170.2333984375 RMSE(mm): 63.581116297288894\n"
     ]
    },
    {
     "name": "stderr",
     "output_type": "stream",
     "text": [
      "201it [00:57,  3.48it/s]"
     ]
    },
    {
     "name": "stdout",
     "output_type": "stream",
     "text": [
      "Epoch 9, Batch 200, Loss: 19239.39453125 RMSE(mm): 69.35307226657302\n"
     ]
    },
    {
     "name": "stderr",
     "output_type": "stream",
     "text": [
      "236it [01:07,  3.49it/s]\n"
     ]
    },
    {
     "name": "stdout",
     "output_type": "stream",
     "text": [
      "Epoch 9, Val Loss: 17904.503746811224, RMSE(mm): 66.9038559180471\n",
      "Epoch 9, test Loss: 15717.616861979166, RMSE(mm): 62.68496004222059\n"
     ]
    },
    {
     "name": "stderr",
     "output_type": "stream",
     "text": [
      "1it [00:00,  3.49it/s]"
     ]
    },
    {
     "name": "stdout",
     "output_type": "stream",
     "text": [
      "Epoch 10, Batch 0, Loss: 13516.6484375 RMSE(mm): 58.130560889905404\n"
     ]
    },
    {
     "name": "stderr",
     "output_type": "stream",
     "text": [
      "101it [00:29,  3.49it/s]"
     ]
    },
    {
     "name": "stdout",
     "output_type": "stream",
     "text": [
      "Epoch 10, Batch 100, Loss: 15697.9599609375 RMSE(mm): 62.64574997742764\n"
     ]
    },
    {
     "name": "stderr",
     "output_type": "stream",
     "text": [
      "201it [00:57,  3.49it/s]"
     ]
    },
    {
     "name": "stdout",
     "output_type": "stream",
     "text": [
      "Epoch 10, Batch 200, Loss: 18785.5859375 RMSE(mm): 68.53025962576677\n"
     ]
    },
    {
     "name": "stderr",
     "output_type": "stream",
     "text": [
      "236it [01:07,  3.49it/s]\n"
     ]
    },
    {
     "name": "stdout",
     "output_type": "stream",
     "text": [
      "Epoch 10, Val Loss: 17863.843889508928, RMSE(mm): 66.82784578584912\n",
      "Epoch 10, test Loss: 15627.484183517157, RMSE(mm): 62.50496816957264\n"
     ]
    },
    {
     "name": "stderr",
     "output_type": "stream",
     "text": [
      "1it [00:00,  3.50it/s]"
     ]
    },
    {
     "name": "stdout",
     "output_type": "stream",
     "text": [
      "Epoch 11, Batch 0, Loss: 13442.541015625 RMSE(mm): 57.97098631131137\n"
     ]
    },
    {
     "name": "stderr",
     "output_type": "stream",
     "text": [
      "101it [00:29,  3.49it/s]"
     ]
    },
    {
     "name": "stdout",
     "output_type": "stream",
     "text": [
      "Epoch 11, Batch 100, Loss: 15449.91796875 RMSE(mm): 62.14884948402102\n"
     ]
    },
    {
     "name": "stderr",
     "output_type": "stream",
     "text": [
      "201it [00:57,  3.49it/s]"
     ]
    },
    {
     "name": "stdout",
     "output_type": "stream",
     "text": [
      "Epoch 11, Batch 200, Loss: 18467.41015625 RMSE(mm): 67.94742481553293\n"
     ]
    },
    {
     "name": "stderr",
     "output_type": "stream",
     "text": [
      "236it [01:07,  3.49it/s]\n"
     ]
    },
    {
     "name": "stdout",
     "output_type": "stream",
     "text": [
      "Epoch 11, Val Loss: 17819.00390625, RMSE(mm): 66.74392089593253\n",
      "Epoch 11, test Loss: 15552.506893382353, RMSE(mm): 62.354845227500874\n"
     ]
    },
    {
     "name": "stderr",
     "output_type": "stream",
     "text": [
      "1it [00:00,  3.50it/s]"
     ]
    },
    {
     "name": "stdout",
     "output_type": "stream",
     "text": [
      "Epoch 12, Batch 0, Loss: 13039.35546875 RMSE(mm): 57.09499861798317\n"
     ]
    },
    {
     "name": "stderr",
     "output_type": "stream",
     "text": [
      "101it [00:29,  3.47it/s]"
     ]
    },
    {
     "name": "stdout",
     "output_type": "stream",
     "text": [
      "Epoch 12, Batch 100, Loss: 15479.611328125 RMSE(mm): 62.208543079156335\n"
     ]
    },
    {
     "name": "stderr",
     "output_type": "stream",
     "text": [
      "201it [00:58,  3.44it/s]"
     ]
    },
    {
     "name": "stdout",
     "output_type": "stream",
     "text": [
      "Epoch 12, Batch 200, Loss: 17571.326171875 RMSE(mm): 66.2784395031201\n"
     ]
    },
    {
     "name": "stderr",
     "output_type": "stream",
     "text": [
      "236it [01:08,  3.47it/s]\n"
     ]
    },
    {
     "name": "stdout",
     "output_type": "stream",
     "text": [
      "Epoch 12, Val Loss: 17811.597177933672, RMSE(mm): 66.73004791309098\n",
      "Epoch 12, test Loss: 15554.255438112745, RMSE(mm): 62.35835035925972\n"
     ]
    },
    {
     "name": "stderr",
     "output_type": "stream",
     "text": [
      "1it [00:00,  3.47it/s]"
     ]
    },
    {
     "name": "stdout",
     "output_type": "stream",
     "text": [
      "Epoch 13, Batch 0, Loss: 13514.7236328125 RMSE(mm): 58.12642177360589\n"
     ]
    },
    {
     "name": "stderr",
     "output_type": "stream",
     "text": [
      "101it [00:29,  3.47it/s]"
     ]
    },
    {
     "name": "stdout",
     "output_type": "stream",
     "text": [
      "Epoch 13, Batch 100, Loss: 15353.6611328125 RMSE(mm): 61.954945591156196\n"
     ]
    },
    {
     "name": "stderr",
     "output_type": "stream",
     "text": [
      "201it [00:58,  3.40it/s]"
     ]
    },
    {
     "name": "stdout",
     "output_type": "stream",
     "text": [
      "Epoch 13, Batch 200, Loss: 17497.7265625 RMSE(mm): 66.1394862440358\n"
     ]
    },
    {
     "name": "stderr",
     "output_type": "stream",
     "text": [
      "236it [01:08,  3.44it/s]\n"
     ]
    },
    {
     "name": "stdout",
     "output_type": "stream",
     "text": [
      "Epoch 13, Val Loss: 17824.761539381376, RMSE(mm): 66.75470309158257\n",
      "Epoch 13, test Loss: 15572.419558057598, RMSE(mm): 62.394750496451216\n"
     ]
    },
    {
     "name": "stderr",
     "output_type": "stream",
     "text": [
      "1it [00:00,  3.41it/s]"
     ]
    },
    {
     "name": "stdout",
     "output_type": "stream",
     "text": [
      "Epoch 14, Batch 0, Loss: 13388.6806640625 RMSE(mm): 57.854733306926796\n"
     ]
    },
    {
     "name": "stderr",
     "output_type": "stream",
     "text": [
      "101it [00:29,  3.39it/s]"
     ]
    },
    {
     "name": "stdout",
     "output_type": "stream",
     "text": [
      "Epoch 14, Batch 100, Loss: 15305.35546875 RMSE(mm): 61.85740753691105\n"
     ]
    },
    {
     "name": "stderr",
     "output_type": "stream",
     "text": [
      "201it [00:59,  3.39it/s]"
     ]
    },
    {
     "name": "stdout",
     "output_type": "stream",
     "text": [
      "Epoch 14, Batch 200, Loss: 17598.513671875 RMSE(mm): 66.3296948430245\n"
     ]
    },
    {
     "name": "stderr",
     "output_type": "stream",
     "text": [
      "236it [01:09,  3.39it/s]\n"
     ]
    },
    {
     "name": "stdout",
     "output_type": "stream",
     "text": [
      "Epoch 14, Val Loss: 17825.88522401148, RMSE(mm): 66.75680718850228\n",
      "Epoch 14, test Loss: 15571.134669883579, RMSE(mm): 62.39217633222049\n"
     ]
    }
   ],
   "source": [
    "'''\n",
    "models: EEGViT_pretrained; EEGViT_raw; ViTBase; ViTBase_pretrained\n",
    "'''\n",
    "model = EEGDeiT_pretrained()\n",
    "EEGEyeNet = EEGEyeNetDataset('./dataset/Position_task_with_dots_synchronised_min.npz')\n",
    "batch_size = 64\n",
    "n_epoch = 15\n",
    "learning_rate = 1e-4\n",
    "\n",
    "optimizer = torch.optim.Adam(model.parameters(), lr=learning_rate)\n",
    "scheduler = torch.optim.lr_scheduler.StepLR(optimizer, step_size=6, gamma=0.1)\n",
    "\n",
    "train(model,EEGEyeNet, optimizer, scheduler, batch_size = batch_size ,n_epoch = n_epoch)"
   ]
  }
 ],
 "metadata": {
  "kernelspec": {
   "display_name": "AppliedML6907",
   "language": "python",
   "name": "python3"
  },
  "language_info": {
   "codemirror_mode": {
    "name": "ipython",
    "version": 3
   },
   "file_extension": ".py",
   "mimetype": "text/x-python",
   "name": "python",
   "nbconvert_exporter": "python",
   "pygments_lexer": "ipython3",
   "version": "3.11.4"
  },
  "orig_nbformat": 4
 },
 "nbformat": 4,
 "nbformat_minor": 2
}
