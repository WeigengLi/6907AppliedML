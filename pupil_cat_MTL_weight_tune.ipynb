{
 "cells": [
  {
   "cell_type": "code",
   "execution_count": 1,
   "metadata": {},
   "outputs": [
    {
     "name": "stdout",
     "output_type": "stream",
     "text": [
      "loading data...\n",
      "[[1.000e+00 4.081e+02 3.151e+02 3.323e+03]\n",
      " [1.000e+00 6.407e+02 5.191e+02 3.062e+03]\n",
      " [1.000e+00 4.042e+02 1.188e+02 3.417e+03]\n",
      " ...\n",
      " [3.000e+01 1.155e+02 3.061e+02 1.910e+03]\n",
      " [3.000e+01 7.320e+02 3.103e+02 1.723e+03]\n",
      " [3.000e+01 6.322e+02 3.536e+02 1.763e+03]]\n"
     ]
    }
   ],
   "source": [
    "from importlib import reload\n",
    "from dataset.EEGEyeNet_MTL import EEGEyeNetDataset\n",
    "import torch\n",
    "from models.MTLVit_pretrained_pupil_cat import MTLViT_pretrained\n",
    "from helper_function_pupil import train\n",
    "'''\n",
    "models: EEGViT_pretrained; EEGViT_raw; ViTBase; ViTBase_pretrained\n",
    "'''\n",
    "EEGEyeNet = EEGEyeNetDataset('./dataset\\MTL_data\\Position_task_with_dots_synchronized_min.npz')\n"
   ]
  },
  {
   "cell_type": "code",
   "execution_count": 2,
   "metadata": {},
   "outputs": [
    {
     "name": "stderr",
     "output_type": "stream",
     "text": [
      "Some weights of ViTForImageClassification were not initialized from the model checkpoint at google/vit-large-patch16-224 and are newly initialized because the shapes did not match:\n",
      "- vit.embeddings.position_embeddings: found shape torch.Size([1, 197, 1024]) in the checkpoint and torch.Size([1, 15, 1024]) in the model instantiated\n",
      "- vit.embeddings.patch_embeddings.projection.weight: found shape torch.Size([1024, 3, 16, 16]) in the checkpoint and torch.Size([1024, 256, 129, 1]) in the model instantiated\n",
      "You should probably TRAIN this model on a down-stream task to be able to use it for predictions and inference.\n"
     ]
    },
    {
     "name": "stdout",
     "output_type": "stream",
     "text": [
      "create dataloader...\n",
      "HI\n",
      "training...\n"
     ]
    },
    {
     "name": "stderr",
     "output_type": "stream",
     "text": [
      "1it [00:00,  1.32it/s]"
     ]
    },
    {
     "name": "stdout",
     "output_type": "stream",
     "text": [
      "Epoch 0, Batch 0, position loss: 180431.75 reconstruction loss: 0.0 RMSE(mm): 212.3862931076297\n"
     ]
    },
    {
     "name": "stderr",
     "output_type": "stream",
     "text": [
      "102it [00:13,  8.14it/s]"
     ]
    },
    {
     "name": "stdout",
     "output_type": "stream",
     "text": [
      "Epoch 0, Batch 100, position loss: 17713.0078125 reconstruction loss: 0.0 RMSE(mm): 66.54511216554526\n"
     ]
    },
    {
     "name": "stderr",
     "output_type": "stream",
     "text": [
      "202it [00:25,  8.20it/s]"
     ]
    },
    {
     "name": "stdout",
     "output_type": "stream",
     "text": [
      "Epoch 0, Batch 200, position loss: 32069.55078125 reconstruction loss: 0.0 RMSE(mm): 89.53986651381886\n"
     ]
    },
    {
     "name": "stderr",
     "output_type": "stream",
     "text": [
      "230it [00:28,  7.96it/s]\n"
     ]
    },
    {
     "name": "stdout",
     "output_type": "stream",
     "text": [
      "Epoch 0, Val Loss: 16859.013315054086, RMSE(mm): 64.92113160415121\n",
      "Epoch 0, test Loss: 18015.92765925481, RMSE(mm): 67.11171220296575\n"
     ]
    },
    {
     "name": "stderr",
     "output_type": "stream",
     "text": [
      "1it [00:00,  8.22it/s]"
     ]
    },
    {
     "name": "stdout",
     "output_type": "stream",
     "text": [
      "Epoch 1, Batch 0, position loss: 13445.4091796875 reconstruction loss: 0.0 RMSE(mm): 57.97717046322522\n"
     ]
    },
    {
     "name": "stderr",
     "output_type": "stream",
     "text": [
      "102it [00:12,  8.07it/s]"
     ]
    },
    {
     "name": "stdout",
     "output_type": "stream",
     "text": [
      "Epoch 1, Batch 100, position loss: 15827.5390625 reconstruction loss: 0.0 RMSE(mm): 62.90377385837037\n"
     ]
    },
    {
     "name": "stderr",
     "output_type": "stream",
     "text": [
      "202it [00:24,  8.22it/s]"
     ]
    },
    {
     "name": "stdout",
     "output_type": "stream",
     "text": [
      "Epoch 1, Batch 200, position loss: 22947.361328125 reconstruction loss: 0.0 RMSE(mm): 75.7419324550889\n"
     ]
    },
    {
     "name": "stderr",
     "output_type": "stream",
     "text": [
      "230it [00:28,  8.16it/s]\n"
     ]
    },
    {
     "name": "stdout",
     "output_type": "stream",
     "text": [
      "Epoch 1, Val Loss: 16520.08740234375, RMSE(mm): 64.2652460555932\n",
      "Epoch 1, test Loss: 16332.425555889424, RMSE(mm): 63.899189266941065\n"
     ]
    },
    {
     "name": "stderr",
     "output_type": "stream",
     "text": [
      "1it [00:00,  8.13it/s]"
     ]
    },
    {
     "name": "stdout",
     "output_type": "stream",
     "text": [
      "Epoch 2, Batch 0, position loss: 14346.83203125 reconstruction loss: 0.0 RMSE(mm): 59.88913096558089\n"
     ]
    },
    {
     "name": "stderr",
     "output_type": "stream",
     "text": [
      "102it [00:12,  8.13it/s]"
     ]
    },
    {
     "name": "stdout",
     "output_type": "stream",
     "text": [
      "Epoch 2, Batch 100, position loss: 15102.2548828125 reconstruction loss: 0.0 RMSE(mm): 61.445615959994456\n"
     ]
    },
    {
     "name": "stderr",
     "output_type": "stream",
     "text": [
      "202it [00:24,  8.10it/s]"
     ]
    },
    {
     "name": "stdout",
     "output_type": "stream",
     "text": [
      "Epoch 2, Batch 200, position loss: 21761.8984375 reconstruction loss: 0.0 RMSE(mm): 73.75957300157722\n"
     ]
    },
    {
     "name": "stderr",
     "output_type": "stream",
     "text": [
      "230it [00:28,  8.12it/s]\n"
     ]
    },
    {
     "name": "stdout",
     "output_type": "stream",
     "text": [
      "Epoch 2, Val Loss: 16485.082744891828, RMSE(mm): 64.19712366004381\n",
      "Epoch 2, test Loss: 15285.89716045673, RMSE(mm): 61.818074137861835\n"
     ]
    },
    {
     "name": "stderr",
     "output_type": "stream",
     "text": [
      "1it [00:00,  8.18it/s]"
     ]
    },
    {
     "name": "stdout",
     "output_type": "stream",
     "text": [
      "Epoch 3, Batch 0, position loss: 13996.705078125 reconstruction loss: 0.0 RMSE(mm): 59.153835628226595\n"
     ]
    },
    {
     "name": "stderr",
     "output_type": "stream",
     "text": [
      "102it [00:12,  8.21it/s]"
     ]
    },
    {
     "name": "stdout",
     "output_type": "stream",
     "text": [
      "Epoch 3, Batch 100, position loss: 12757.90234375 reconstruction loss: 0.0 RMSE(mm): 56.475442326178374\n"
     ]
    },
    {
     "name": "stderr",
     "output_type": "stream",
     "text": [
      "202it [00:24,  8.13it/s]"
     ]
    },
    {
     "name": "stdout",
     "output_type": "stream",
     "text": [
      "Epoch 3, Batch 200, position loss: 20108.64453125 reconstruction loss: 0.0 RMSE(mm): 70.90247621072554\n"
     ]
    },
    {
     "name": "stderr",
     "output_type": "stream",
     "text": [
      "230it [00:28,  8.19it/s]\n"
     ]
    },
    {
     "name": "stdout",
     "output_type": "stream",
     "text": [
      "Epoch 3, Val Loss: 17124.67803485577, RMSE(mm): 65.43064655582995\n",
      "Epoch 3, test Loss: 15289.80429311899, RMSE(mm): 61.82597409891532\n"
     ]
    },
    {
     "name": "stderr",
     "output_type": "stream",
     "text": [
      "1it [00:00,  8.27it/s]"
     ]
    },
    {
     "name": "stdout",
     "output_type": "stream",
     "text": [
      "Epoch 4, Batch 0, position loss: 13537.1044921875 reconstruction loss: 0.0 RMSE(mm): 58.17453156706013\n"
     ]
    },
    {
     "name": "stderr",
     "output_type": "stream",
     "text": [
      "102it [00:12,  8.17it/s]"
     ]
    },
    {
     "name": "stdout",
     "output_type": "stream",
     "text": [
      "Epoch 4, Batch 100, position loss: 11898.4833984375 reconstruction loss: 0.0 RMSE(mm): 54.54008479649968\n"
     ]
    },
    {
     "name": "stderr",
     "output_type": "stream",
     "text": [
      "202it [00:24,  8.28it/s]"
     ]
    },
    {
     "name": "stdout",
     "output_type": "stream",
     "text": [
      "Epoch 4, Batch 200, position loss: 17986.5234375 reconstruction loss: 0.0 RMSE(mm): 67.05692253134646\n"
     ]
    },
    {
     "name": "stderr",
     "output_type": "stream",
     "text": [
      "230it [00:28,  8.18it/s]\n"
     ]
    },
    {
     "name": "stdout",
     "output_type": "stream",
     "text": [
      "Epoch 4, Val Loss: 17493.17976262019, RMSE(mm): 66.13089248343053\n",
      "Epoch 4, test Loss: 15409.853553185096, RMSE(mm): 62.06821560425492\n"
     ]
    },
    {
     "name": "stderr",
     "output_type": "stream",
     "text": [
      "1it [00:00,  8.19it/s]"
     ]
    },
    {
     "name": "stdout",
     "output_type": "stream",
     "text": [
      "Epoch 5, Batch 0, position loss: 14616.5029296875 reconstruction loss: 0.0 RMSE(mm): 60.44936502910411\n"
     ]
    },
    {
     "name": "stderr",
     "output_type": "stream",
     "text": [
      "102it [00:12,  8.19it/s]"
     ]
    },
    {
     "name": "stdout",
     "output_type": "stream",
     "text": [
      "Epoch 5, Batch 100, position loss: 11694.8837890625 reconstruction loss: 0.0 RMSE(mm): 54.07144299226372\n"
     ]
    },
    {
     "name": "stderr",
     "output_type": "stream",
     "text": [
      "202it [00:24,  8.10it/s]"
     ]
    },
    {
     "name": "stdout",
     "output_type": "stream",
     "text": [
      "Epoch 5, Batch 200, position loss: 16322.8134765625 reconstruction loss: 0.0 RMSE(mm): 63.88038328893014\n"
     ]
    },
    {
     "name": "stderr",
     "output_type": "stream",
     "text": [
      "230it [00:28,  8.13it/s]\n"
     ]
    },
    {
     "name": "stdout",
     "output_type": "stream",
     "text": [
      "Epoch 5, Val Loss: 16135.69473031851, RMSE(mm): 63.51317723574871\n",
      "Epoch 5, test Loss: 13912.709528996395, RMSE(mm): 58.9760746595524\n"
     ]
    },
    {
     "name": "stderr",
     "output_type": "stream",
     "text": [
      "1it [00:00,  8.24it/s]"
     ]
    },
    {
     "name": "stdout",
     "output_type": "stream",
     "text": [
      "Epoch 6, Batch 0, position loss: 11689.1611328125 reconstruction loss: 0.0 RMSE(mm): 54.05821198673819\n"
     ]
    },
    {
     "name": "stderr",
     "output_type": "stream",
     "text": [
      "102it [00:12,  8.18it/s]"
     ]
    },
    {
     "name": "stdout",
     "output_type": "stream",
     "text": [
      "Epoch 6, Batch 100, position loss: 11017.642578125 reconstruction loss: 0.0 RMSE(mm): 52.48247940533345\n"
     ]
    },
    {
     "name": "stderr",
     "output_type": "stream",
     "text": [
      "202it [00:24,  8.13it/s]"
     ]
    },
    {
     "name": "stdout",
     "output_type": "stream",
     "text": [
      "Epoch 6, Batch 200, position loss: 11608.603515625 reconstruction loss: 0.0 RMSE(mm): 53.87161477908612\n"
     ]
    },
    {
     "name": "stderr",
     "output_type": "stream",
     "text": [
      "230it [00:28,  8.12it/s]\n"
     ]
    },
    {
     "name": "stdout",
     "output_type": "stream",
     "text": [
      "Epoch 6, Val Loss: 13645.820087139424, RMSE(mm): 58.407662355078514\n",
      "Epoch 6, test Loss: 11225.789513221154, RMSE(mm): 52.975913189913854\n"
     ]
    },
    {
     "name": "stderr",
     "output_type": "stream",
     "text": [
      "1it [00:00,  8.28it/s]"
     ]
    },
    {
     "name": "stdout",
     "output_type": "stream",
     "text": [
      "Epoch 7, Batch 0, position loss: 10267.5849609375 reconstruction loss: 0.0 RMSE(mm): 50.66454618601034\n"
     ]
    },
    {
     "name": "stderr",
     "output_type": "stream",
     "text": [
      "102it [00:12,  8.16it/s]"
     ]
    },
    {
     "name": "stdout",
     "output_type": "stream",
     "text": [
      "Epoch 7, Batch 100, position loss: 10270.896484375 reconstruction loss: 0.0 RMSE(mm): 50.67271574618584\n"
     ]
    },
    {
     "name": "stderr",
     "output_type": "stream",
     "text": [
      "202it [00:24,  8.22it/s]"
     ]
    },
    {
     "name": "stdout",
     "output_type": "stream",
     "text": [
      "Epoch 7, Batch 200, position loss: 10828.60546875 reconstruction loss: 0.0 RMSE(mm): 52.03029278398787\n"
     ]
    },
    {
     "name": "stderr",
     "output_type": "stream",
     "text": [
      "230it [00:28,  8.21it/s]\n"
     ]
    },
    {
     "name": "stdout",
     "output_type": "stream",
     "text": [
      "Epoch 7, Val Loss: 13727.287043644832, RMSE(mm): 58.58175279821532\n",
      "Epoch 7, test Loss: 11237.14627779447, RMSE(mm): 53.00270341641658\n"
     ]
    },
    {
     "name": "stderr",
     "output_type": "stream",
     "text": [
      "1it [00:00,  8.18it/s]"
     ]
    },
    {
     "name": "stdout",
     "output_type": "stream",
     "text": [
      "Epoch 8, Batch 0, position loss: 10356.080078125 reconstruction loss: 0.0 RMSE(mm): 50.88241365669724\n"
     ]
    },
    {
     "name": "stderr",
     "output_type": "stream",
     "text": [
      "102it [00:12,  8.14it/s]"
     ]
    },
    {
     "name": "stdout",
     "output_type": "stream",
     "text": [
      "Epoch 8, Batch 100, position loss: 10041.916015625 reconstruction loss: 0.0 RMSE(mm): 50.10468045907737\n"
     ]
    },
    {
     "name": "stderr",
     "output_type": "stream",
     "text": [
      "202it [00:24,  8.24it/s]"
     ]
    },
    {
     "name": "stdout",
     "output_type": "stream",
     "text": [
      "Epoch 8, Batch 200, position loss: 10518.9052734375 reconstruction loss: 0.0 RMSE(mm): 51.28085723112841\n"
     ]
    },
    {
     "name": "stderr",
     "output_type": "stream",
     "text": [
      "230it [00:28,  8.19it/s]\n"
     ]
    },
    {
     "name": "stdout",
     "output_type": "stream",
     "text": [
      "Epoch 8, Val Loss: 13816.19296499399, RMSE(mm): 58.77115143715067\n",
      "Epoch 8, test Loss: 11258.23270357572, RMSE(mm): 53.052409708645\n"
     ]
    },
    {
     "name": "stderr",
     "output_type": "stream",
     "text": [
      "1it [00:00,  8.18it/s]"
     ]
    },
    {
     "name": "stdout",
     "output_type": "stream",
     "text": [
      "Epoch 9, Batch 0, position loss: 9393.71484375 reconstruction loss: 0.0 RMSE(mm): 48.460589254955416\n"
     ]
    },
    {
     "name": "stderr",
     "output_type": "stream",
     "text": [
      "102it [00:12,  8.04it/s]"
     ]
    },
    {
     "name": "stdout",
     "output_type": "stream",
     "text": [
      "Epoch 9, Batch 100, position loss: 10035.994140625 reconstruction loss: 0.0 RMSE(mm): 50.08990452332935\n"
     ]
    },
    {
     "name": "stderr",
     "output_type": "stream",
     "text": [
      "202it [00:24,  8.08it/s]"
     ]
    },
    {
     "name": "stdout",
     "output_type": "stream",
     "text": [
      "Epoch 9, Batch 200, position loss: 10052.4306640625 reconstruction loss: 0.0 RMSE(mm): 50.13090529818532\n"
     ]
    },
    {
     "name": "stderr",
     "output_type": "stream",
     "text": [
      "230it [00:28,  8.10it/s]\n"
     ]
    },
    {
     "name": "stdout",
     "output_type": "stream",
     "text": [
      "Epoch 9, Val Loss: 14046.070040189303, RMSE(mm): 59.25805860849076\n",
      "Epoch 9, test Loss: 11429.788677509014, RMSE(mm): 53.4550948869914\n"
     ]
    },
    {
     "name": "stderr",
     "output_type": "stream",
     "text": [
      "1it [00:00,  8.16it/s]"
     ]
    },
    {
     "name": "stdout",
     "output_type": "stream",
     "text": [
      "Epoch 10, Batch 0, position loss: 9093.05078125 reconstruction loss: 0.0 RMSE(mm): 47.67874469103082\n"
     ]
    },
    {
     "name": "stderr",
     "output_type": "stream",
     "text": [
      "102it [00:12,  8.16it/s]"
     ]
    },
    {
     "name": "stdout",
     "output_type": "stream",
     "text": [
      "Epoch 10, Batch 100, position loss: 9657.8193359375 reconstruction loss: 0.0 RMSE(mm): 49.13710241746429\n"
     ]
    },
    {
     "name": "stderr",
     "output_type": "stream",
     "text": [
      "202it [00:24,  8.19it/s]"
     ]
    },
    {
     "name": "stdout",
     "output_type": "stream",
     "text": [
      "Epoch 10, Batch 200, position loss: 9602.35546875 reconstruction loss: 0.0 RMSE(mm): 48.9958045876124\n"
     ]
    },
    {
     "name": "stderr",
     "output_type": "stream",
     "text": [
      "230it [00:28,  8.21it/s]\n"
     ]
    },
    {
     "name": "stdout",
     "output_type": "stream",
     "text": [
      "Epoch 10, Val Loss: 14284.771503155049, RMSE(mm): 59.75945846298109\n",
      "Epoch 10, test Loss: 11615.736328125, RMSE(mm): 53.888162726439745\n"
     ]
    },
    {
     "name": "stderr",
     "output_type": "stream",
     "text": [
      "1it [00:00,  8.03it/s]"
     ]
    },
    {
     "name": "stdout",
     "output_type": "stream",
     "text": [
      "Epoch 11, Batch 0, position loss: 8276.86328125 reconstruction loss: 0.0 RMSE(mm): 45.48863396841567\n"
     ]
    },
    {
     "name": "stderr",
     "output_type": "stream",
     "text": [
      "102it [00:12,  8.09it/s]"
     ]
    },
    {
     "name": "stdout",
     "output_type": "stream",
     "text": [
      "Epoch 11, Batch 100, position loss: 9091.853515625 reconstruction loss: 0.0 RMSE(mm): 47.67560570046541\n"
     ]
    },
    {
     "name": "stderr",
     "output_type": "stream",
     "text": [
      "202it [00:24,  8.23it/s]"
     ]
    },
    {
     "name": "stdout",
     "output_type": "stream",
     "text": [
      "Epoch 11, Batch 200, position loss: 8838.0458984375 reconstruction loss: 0.0 RMSE(mm): 47.00544090431846\n"
     ]
    },
    {
     "name": "stderr",
     "output_type": "stream",
     "text": [
      "202it [00:24,  8.11it/s]\n"
     ]
    },
    {
     "ename": "KeyboardInterrupt",
     "evalue": "",
     "output_type": "error",
     "traceback": [
      "\u001b[1;31m---------------------------------------------------------------------------\u001b[0m",
      "\u001b[1;31mKeyboardInterrupt\u001b[0m                         Traceback (most recent call last)",
      "\u001b[1;32mf:\\OneDrive - The George Washington University\\Course\\23Fall\\6907AppliedML\\Code\\MTL-VIT2EEG\\pupil_cat_MTL_weight_tune.ipynb 单元格 2\u001b[0m line \u001b[0;36m1\n\u001b[0;32m     <a href='vscode-notebook-cell:/f%3A/OneDrive%20-%20The%20George%20Washington%20University/Course/23Fall/6907AppliedML/Code/MTL-VIT2EEG/pupil_cat_MTL_weight_tune.ipynb#W1sZmlsZQ%3D%3D?line=13'>14</a>\u001b[0m scheduler \u001b[39m=\u001b[39m torch\u001b[39m.\u001b[39moptim\u001b[39m.\u001b[39mlr_scheduler\u001b[39m.\u001b[39mStepLR(optimizer, step_size\u001b[39m=\u001b[39m\u001b[39m6\u001b[39m, gamma\u001b[39m=\u001b[39m\u001b[39m0.1\u001b[39m)\n\u001b[0;32m     <a href='vscode-notebook-cell:/f%3A/OneDrive%20-%20The%20George%20Washington%20University/Course/23Fall/6907AppliedML/Code/MTL-VIT2EEG/pupil_cat_MTL_weight_tune.ipynb#W1sZmlsZQ%3D%3D?line=14'>15</a>\u001b[0m file_name \u001b[39m=\u001b[39m \u001b[39mf\u001b[39m\u001b[39m'\u001b[39m\u001b[39m{\u001b[39;00mmodel_name\u001b[39m}\u001b[39;00m\u001b[39m_weight_test_\u001b[39m\u001b[39m{\u001b[39;00mi\u001b[39m}\u001b[39;00m\u001b[39m'\u001b[39m\n\u001b[1;32m---> <a href='vscode-notebook-cell:/f%3A/OneDrive%20-%20The%20George%20Washington%20University/Course/23Fall/6907AppliedML/Code/MTL-VIT2EEG/pupil_cat_MTL_weight_tune.ipynb#W1sZmlsZQ%3D%3D?line=15'>16</a>\u001b[0m train(model,EEGEyeNet, optimizer, scheduler,log_name\u001b[39m=\u001b[39;49mfile_name, batch_size \u001b[39m=\u001b[39;49m batch_size ,n_epoch \u001b[39m=\u001b[39;49m n_epoch, subtask_weight\u001b[39m=\u001b[39;49mi)\n",
      "File \u001b[1;32mf:\\OneDrive - The George Washington University\\Course\\23Fall\\6907AppliedML\\Code\\MTL-VIT2EEG\\helper_function_pupil.py:99\u001b[0m, in \u001b[0;36mtrain\u001b[1;34m(model, Dataset, optimizer, scheduler, batch_size, n_epoch, output_dir, subtask_weight, log_name)\u001b[0m\n\u001b[0;32m     97\u001b[0m loss\u001b[39m.\u001b[39mbackward()\n\u001b[0;32m     98\u001b[0m optimizer\u001b[39m.\u001b[39mstep()\n\u001b[1;32m---> 99\u001b[0m epoch_train_loss \u001b[39m+\u001b[39m\u001b[39m=\u001b[39m loss\u001b[39m.\u001b[39;49mitem()\n\u001b[0;32m    100\u001b[0m epoch_train_position_loss \u001b[39m+\u001b[39m\u001b[39m=\u001b[39m position_loss\u001b[39m.\u001b[39mitem()\n\u001b[0;32m    101\u001b[0m epoch_train_reconstruction_loss \u001b[39m+\u001b[39m\u001b[39m=\u001b[39m pupil_size_loss\u001b[39m.\u001b[39mitem()\n",
      "\u001b[1;31mKeyboardInterrupt\u001b[0m: "
     ]
    }
   ],
   "source": [
    "import models.MTLVit_pretrained_pupil_cat as MTLVit_pretrained_pupil_cat\n",
    "import helper_function_pupil\n",
    "reload(MTLVit_pretrained_pupil_cat)\n",
    "reload(helper_function_pupil)\n",
    "from models.MTLVit_pretrained_pupil_cat import MTLViT_pretrained\n",
    "from helper_function_pupil import train\n",
    "batch_size = 64\n",
    "n_epoch = 30\n",
    "learning_rate = 1e-4\n",
    "model_name = 'MTL_pupil_cat_VIT_pre_16stride'\n",
    "i=0\n",
    "model = MTLViT_pretrained()\n",
    "optimizer = torch.optim.Adam(model.parameters(), lr=learning_rate)\n",
    "scheduler = torch.optim.lr_scheduler.StepLR(optimizer, step_size=6, gamma=0.1)\n",
    "file_name = f'{model_name}_weight_test_{i}'\n",
    "train(model,EEGEyeNet, optimizer, scheduler,log_name=file_name, batch_size = batch_size ,n_epoch = n_epoch, subtask_weight=i)"
   ]
  }
 ],
 "metadata": {
  "kernelspec": {
   "display_name": "AppliedML6907",
   "language": "python",
   "name": "python3"
  },
  "language_info": {
   "codemirror_mode": {
    "name": "ipython",
    "version": 3
   },
   "file_extension": ".py",
   "mimetype": "text/x-python",
   "name": "python",
   "nbconvert_exporter": "python",
   "pygments_lexer": "ipython3",
   "version": "3.8.18"
  },
  "orig_nbformat": 4
 },
 "nbformat": 4,
 "nbformat_minor": 2
}
